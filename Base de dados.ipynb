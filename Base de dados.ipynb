{
 "cells": [
  {
   "cell_type": "markdown",
   "id": "a91707e5",
   "metadata": {},
   "source": [
    "# Análise Preditiva sobre o Câncer de Pulmão "
   ]
  },
  {
   "cell_type": "markdown",
   "id": "8f79d746",
   "metadata": {},
   "source": [
    "\n",
    "## Ciência dos Dados - 2° Semestre\n",
    "### Autores:\n",
    "- Ana Laiz Novais de Farias\n",
    "- Alexia Barbosa Pires\n",
    "- Diogo Pereira Lobo"
   ]
  },
  {
   "cell_type": "markdown",
   "id": "0c5ef65b",
   "metadata": {},
   "source": [
    "<img src=\"imagens/cancer.png\" style=\"width:1200px;height:350px;\">"
   ]
  },
  {
   "cell_type": "markdown",
   "id": "49ebd5b0",
   "metadata": {},
   "source": [
    "### Introdução\n",
    "A análise preditiva consiste em prever resultados a partir de modelos baseados em machine learning, baseada em uma variável principal, que, no neste projeto é a \"Cancer de pulmão\" ou \"Lung Cancer\" e outras variáveis secundárias que seão descritas mais abaixo. Neste projeto usaremos três modelos classificadores diferentes: Regressão Logiística, Random Forest ou 'Floresta aleatória\" e Decision Tree ou \"Árvore de Decisão\", para prevermos o quanto outros fatores podem influenciar ou não o desenvolvimento de um cancer de pulmão. Utilizaremos uma base de dados retirada do site 'Kagle\"."
   ]
  },
  {
   "cell_type": "code",
   "execution_count": 103,
   "id": "347fed0c",
   "metadata": {},
   "outputs": [],
   "source": [
    "import requests\n",
    "import pandas as pd\n",
    "import plotly.express as px\n",
    "import os.path\n",
    "import numpy as np\n",
    "from math import floor\n",
    "import seaborn as sns\n",
    "from ipywidgets import IntProgress\n",
    "from IPython.display import display\n",
    "import matplotlib.pyplot as plt\n",
    "from sklearn.model_selection import train_test_split\n",
    "from sklearn.linear_model import LogisticRegression\n",
    "from sklearn import metrics\n",
    "from sklearn.ensemble import RandomForestClassifier\n",
    "from sklearn.metrics import accuracy_score"
   ]
  },
  {
   "cell_type": "markdown",
   "id": "540e2588",
   "metadata": {},
   "source": [
    "### Diretório e base de dados"
   ]
  },
  {
   "cell_type": "code",
   "execution_count": 104,
   "id": "b0cda832",
   "metadata": {},
   "outputs": [
    {
     "name": "stdout",
     "output_type": "stream",
     "text": [
      "Esperamos trabalhar no diretório\n",
      "c:\\Users\\Alexia\\Documents\\2º Semestre\\CDados\\Projetos\\P2-cancer-pulmao\\predicao_cancer_pulmao\n"
     ]
    }
   ],
   "source": [
    "print('Esperamos trabalhar no diretório')\n",
    "print(os.getcwd())"
   ]
  },
  {
   "cell_type": "code",
   "execution_count": 105,
   "id": "38a975da",
   "metadata": {
    "scrolled": true
   },
   "outputs": [],
   "source": [
    "base = pd.read_csv('surveylungcancer.csv')"
   ]
  },
  {
   "cell_type": "code",
   "execution_count": 106,
   "id": "a9360d1a",
   "metadata": {},
   "outputs": [
    {
     "data": {
      "text/plain": [
       "309"
      ]
     },
     "execution_count": 106,
     "metadata": {},
     "output_type": "execute_result"
    }
   ],
   "source": [
    "base.shape[0]"
   ]
  },
  {
   "cell_type": "markdown",
   "id": "cb026fa4",
   "metadata": {},
   "source": [
    "### Limpeza de dados"
   ]
  },
  {
   "cell_type": "code",
   "execution_count": 107,
   "id": "af2b1478",
   "metadata": {},
   "outputs": [
    {
     "data": {
      "text/plain": [
       "GENDER                   0\n",
       "AGE                      0\n",
       "SMOKING                  0\n",
       "YELLOW_FINGERS           0\n",
       "ANXIETY                  0\n",
       "PEER_PRESSURE            0\n",
       "CHRONIC DISEASE          0\n",
       "FATIGUE                  0\n",
       "ALLERGY                  0\n",
       "WHEEZING                 0\n",
       "ALCOHOL CONSUMING        0\n",
       "COUGHING                 0\n",
       "SHORTNESS OF BREATH      0\n",
       "SWALLOWING DIFFICULTY    0\n",
       "CHEST PAIN               0\n",
       "LUNG_CANCER              0\n",
       "dtype: int64"
      ]
     },
     "execution_count": 107,
     "metadata": {},
     "output_type": "execute_result"
    },
    {
     "data": {
      "image/png": "[encoded data removed]",
      "text/plain": [
       "<Figure size 432x288 with 1 Axes>"
      ]
     },
     "metadata": {
      "needs_background": "light"
     },
     "output_type": "display_data"
    }
   ],
   "source": [
    "# Usamos heatmap da biblioteca seaborn para identificar elementos nulos e o comando isnull que verifica linhas nulas\n",
    "sns.heatmap(base.isnull(),yticklabels=False,cbar=False,cmap=\"viridis\")\n",
    "base.isnull().sum()"
   ]
  },
  {
   "cell_type": "markdown",
   "id": "af38bc33",
   "metadata": {},
   "source": [
    "Logo, podemos concluir que os dados vieram livres de elementos nulos, tanto nas linhas, assim como nas colunas. "
   ]
  },
  {
   "cell_type": "code",
   "execution_count": 108,
   "id": "12cc0820",
   "metadata": {},
   "outputs": [
    {
     "data": {
      "text/html": [
       "<div>\n",
       "<style scoped>\n",
       "    .dataframe tbody tr th:only-of-type {\n",
       "        vertical-align: middle;\n",
       "    }\n",
       "\n",
       "    .dataframe tbody tr th {\n",
       "        vertical-align: top;\n",
       "    }\n",
       "\n",
       "    .dataframe thead th {\n",
       "        text-align: right;\n",
       "    }\n",
       "</style>\n",
       "<table border=\"1\" class=\"dataframe\">\n",
       "  <thead>\n",
       "    <tr style=\"text-align: right;\">\n",
       "      <th></th>\n",
       "      <th>GENDER</th>\n",
       "      <th>AGE</th>\n",
       "      <th>SMOKING</th>\n",
       "      <th>YELLOW_FINGERS</th>\n",
       "      <th>ANXIETY</th>\n",
       "      <th>PEER_PRESSURE</th>\n",
       "      <th>CHRONIC DISEASE</th>\n",
       "      <th>FATIGUE</th>\n",
       "      <th>ALLERGY</th>\n",
       "      <th>WHEEZING</th>\n",
       "      <th>ALCOHOL CONSUMING</th>\n",
       "      <th>COUGHING</th>\n",
       "      <th>SHORTNESS OF BREATH</th>\n",
       "      <th>SWALLOWING DIFFICULTY</th>\n",
       "      <th>CHEST PAIN</th>\n",
       "      <th>LUNG_CANCER</th>\n",
       "    </tr>\n",
       "  </thead>\n",
       "  <tbody>\n",
       "    <tr>\n",
       "      <th>0</th>\n",
       "      <td>M</td>\n",
       "      <td>69</td>\n",
       "      <td>1</td>\n",
       "      <td>2</td>\n",
       "      <td>2</td>\n",
       "      <td>1</td>\n",
       "      <td>1</td>\n",
       "      <td>2</td>\n",
       "      <td>1</td>\n",
       "      <td>2</td>\n",
       "      <td>2</td>\n",
       "      <td>2</td>\n",
       "      <td>2</td>\n",
       "      <td>2</td>\n",
       "      <td>2</td>\n",
       "      <td>YES</td>\n",
       "    </tr>\n",
       "    <tr>\n",
       "      <th>1</th>\n",
       "      <td>M</td>\n",
       "      <td>74</td>\n",
       "      <td>2</td>\n",
       "      <td>1</td>\n",
       "      <td>1</td>\n",
       "      <td>1</td>\n",
       "      <td>2</td>\n",
       "      <td>2</td>\n",
       "      <td>2</td>\n",
       "      <td>1</td>\n",
       "      <td>1</td>\n",
       "      <td>1</td>\n",
       "      <td>2</td>\n",
       "      <td>2</td>\n",
       "      <td>2</td>\n",
       "      <td>YES</td>\n",
       "    </tr>\n",
       "    <tr>\n",
       "      <th>2</th>\n",
       "      <td>F</td>\n",
       "      <td>59</td>\n",
       "      <td>1</td>\n",
       "      <td>1</td>\n",
       "      <td>1</td>\n",
       "      <td>2</td>\n",
       "      <td>1</td>\n",
       "      <td>2</td>\n",
       "      <td>1</td>\n",
       "      <td>2</td>\n",
       "      <td>1</td>\n",
       "      <td>2</td>\n",
       "      <td>2</td>\n",
       "      <td>1</td>\n",
       "      <td>2</td>\n",
       "      <td>NO</td>\n",
       "    </tr>\n",
       "    <tr>\n",
       "      <th>3</th>\n",
       "      <td>M</td>\n",
       "      <td>63</td>\n",
       "      <td>2</td>\n",
       "      <td>2</td>\n",
       "      <td>2</td>\n",
       "      <td>1</td>\n",
       "      <td>1</td>\n",
       "      <td>1</td>\n",
       "      <td>1</td>\n",
       "      <td>1</td>\n",
       "      <td>2</td>\n",
       "      <td>1</td>\n",
       "      <td>1</td>\n",
       "      <td>2</td>\n",
       "      <td>2</td>\n",
       "      <td>NO</td>\n",
       "    </tr>\n",
       "    <tr>\n",
       "      <th>4</th>\n",
       "      <td>F</td>\n",
       "      <td>63</td>\n",
       "      <td>1</td>\n",
       "      <td>2</td>\n",
       "      <td>1</td>\n",
       "      <td>1</td>\n",
       "      <td>1</td>\n",
       "      <td>1</td>\n",
       "      <td>1</td>\n",
       "      <td>2</td>\n",
       "      <td>1</td>\n",
       "      <td>2</td>\n",
       "      <td>2</td>\n",
       "      <td>1</td>\n",
       "      <td>1</td>\n",
       "      <td>NO</td>\n",
       "    </tr>\n",
       "    <tr>\n",
       "      <th>...</th>\n",
       "      <td>...</td>\n",
       "      <td>...</td>\n",
       "      <td>...</td>\n",
       "      <td>...</td>\n",
       "      <td>...</td>\n",
       "      <td>...</td>\n",
       "      <td>...</td>\n",
       "      <td>...</td>\n",
       "      <td>...</td>\n",
       "      <td>...</td>\n",
       "      <td>...</td>\n",
       "      <td>...</td>\n",
       "      <td>...</td>\n",
       "      <td>...</td>\n",
       "      <td>...</td>\n",
       "      <td>...</td>\n",
       "    </tr>\n",
       "    <tr>\n",
       "      <th>304</th>\n",
       "      <td>F</td>\n",
       "      <td>56</td>\n",
       "      <td>1</td>\n",
       "      <td>1</td>\n",
       "      <td>1</td>\n",
       "      <td>2</td>\n",
       "      <td>2</td>\n",
       "      <td>2</td>\n",
       "      <td>1</td>\n",
       "      <td>1</td>\n",
       "      <td>2</td>\n",
       "      <td>2</td>\n",
       "      <td>2</td>\n",
       "      <td>2</td>\n",
       "      <td>1</td>\n",
       "      <td>YES</td>\n",
       "    </tr>\n",
       "    <tr>\n",
       "      <th>305</th>\n",
       "      <td>M</td>\n",
       "      <td>70</td>\n",
       "      <td>2</td>\n",
       "      <td>1</td>\n",
       "      <td>1</td>\n",
       "      <td>1</td>\n",
       "      <td>1</td>\n",
       "      <td>2</td>\n",
       "      <td>2</td>\n",
       "      <td>2</td>\n",
       "      <td>2</td>\n",
       "      <td>2</td>\n",
       "      <td>2</td>\n",
       "      <td>1</td>\n",
       "      <td>2</td>\n",
       "      <td>YES</td>\n",
       "    </tr>\n",
       "    <tr>\n",
       "      <th>306</th>\n",
       "      <td>M</td>\n",
       "      <td>58</td>\n",
       "      <td>2</td>\n",
       "      <td>1</td>\n",
       "      <td>1</td>\n",
       "      <td>1</td>\n",
       "      <td>1</td>\n",
       "      <td>1</td>\n",
       "      <td>2</td>\n",
       "      <td>2</td>\n",
       "      <td>2</td>\n",
       "      <td>2</td>\n",
       "      <td>1</td>\n",
       "      <td>1</td>\n",
       "      <td>2</td>\n",
       "      <td>YES</td>\n",
       "    </tr>\n",
       "    <tr>\n",
       "      <th>307</th>\n",
       "      <td>M</td>\n",
       "      <td>67</td>\n",
       "      <td>2</td>\n",
       "      <td>1</td>\n",
       "      <td>2</td>\n",
       "      <td>1</td>\n",
       "      <td>1</td>\n",
       "      <td>2</td>\n",
       "      <td>2</td>\n",
       "      <td>1</td>\n",
       "      <td>2</td>\n",
       "      <td>2</td>\n",
       "      <td>2</td>\n",
       "      <td>1</td>\n",
       "      <td>2</td>\n",
       "      <td>YES</td>\n",
       "    </tr>\n",
       "    <tr>\n",
       "      <th>308</th>\n",
       "      <td>M</td>\n",
       "      <td>62</td>\n",
       "      <td>1</td>\n",
       "      <td>1</td>\n",
       "      <td>1</td>\n",
       "      <td>2</td>\n",
       "      <td>1</td>\n",
       "      <td>2</td>\n",
       "      <td>2</td>\n",
       "      <td>2</td>\n",
       "      <td>2</td>\n",
       "      <td>1</td>\n",
       "      <td>1</td>\n",
       "      <td>2</td>\n",
       "      <td>1</td>\n",
       "      <td>YES</td>\n",
       "    </tr>\n",
       "  </tbody>\n",
       "</table>\n",
       "<p>309 rows × 16 columns</p>\n",
       "</div>"
      ],
      "text/plain": [
       "    GENDER  AGE  SMOKING  YELLOW_FINGERS  ANXIETY  PEER_PRESSURE  \\\n",
       "0        M   69        1               2        2              1   \n",
       "1        M   74        2               1        1              1   \n",
       "2        F   59        1               1        1              2   \n",
       "3        M   63        2               2        2              1   \n",
       "4        F   63        1               2        1              1   \n",
       "..     ...  ...      ...             ...      ...            ...   \n",
       "304      F   56        1               1        1              2   \n",
       "305      M   70        2               1        1              1   \n",
       "306      M   58        2               1        1              1   \n",
       "307      M   67        2               1        2              1   \n",
       "308      M   62        1               1        1              2   \n",
       "\n",
       "     CHRONIC DISEASE  FATIGUE   ALLERGY   WHEEZING  ALCOHOL CONSUMING  \\\n",
       "0                  1         2         1         2                  2   \n",
       "1                  2         2         2         1                  1   \n",
       "2                  1         2         1         2                  1   \n",
       "3                  1         1         1         1                  2   \n",
       "4                  1         1         1         2                  1   \n",
       "..               ...       ...       ...       ...                ...   \n",
       "304                2         2         1         1                  2   \n",
       "305                1         2         2         2                  2   \n",
       "306                1         1         2         2                  2   \n",
       "307                1         2         2         1                  2   \n",
       "308                1         2         2         2                  2   \n",
       "\n",
       "     COUGHING  SHORTNESS OF BREATH  SWALLOWING DIFFICULTY  CHEST PAIN  \\\n",
       "0           2                    2                      2           2   \n",
       "1           1                    2                      2           2   \n",
       "2           2                    2                      1           2   \n",
       "3           1                    1                      2           2   \n",
       "4           2                    2                      1           1   \n",
       "..        ...                  ...                    ...         ...   \n",
       "304         2                    2                      2           1   \n",
       "305         2                    2                      1           2   \n",
       "306         2                    1                      1           2   \n",
       "307         2                    2                      1           2   \n",
       "308         1                    1                      2           1   \n",
       "\n",
       "    LUNG_CANCER  \n",
       "0           YES  \n",
       "1           YES  \n",
       "2            NO  \n",
       "3            NO  \n",
       "4            NO  \n",
       "..          ...  \n",
       "304         YES  \n",
       "305         YES  \n",
       "306         YES  \n",
       "307         YES  \n",
       "308         YES  \n",
       "\n",
       "[309 rows x 16 columns]"
      ]
     },
     "execution_count": 108,
     "metadata": {},
     "output_type": "execute_result"
    }
   ],
   "source": [
    "# dropna() remove os valores nulos (valores ausentes) do DataFrame , deixando cair as linhas ou colunas que contêm os valores \n",
    "#nulos. Os valores nulos são NaN ( Not a Number ) e NaT ( Not a Time )\n",
    "base.dropna(inplace=True)\n",
    "base"
   ]
  },
  {
   "cell_type": "code",
   "execution_count": 109,
   "id": "84dc0038",
   "metadata": {},
   "outputs": [
    {
     "data": {
      "text/plain": [
       "309"
      ]
     },
     "execution_count": 109,
     "metadata": {},
     "output_type": "execute_result"
    }
   ],
   "source": [
    "base.shape[0]"
   ]
  },
  {
   "cell_type": "code",
   "execution_count": 110,
   "id": "4171d935",
   "metadata": {},
   "outputs": [
    {
     "data": {
      "text/plain": [
       "M    162\n",
       "F    147\n",
       "Name: GENDER, dtype: int64"
      ]
     },
     "execution_count": 110,
     "metadata": {},
     "output_type": "execute_result"
    }
   ],
   "source": [
    "#A função value_counts retorna o valor da contagem para cada item exclusivo presente na coluna\n",
    "base.GENDER.value_counts()"
   ]
  },
  {
   "cell_type": "code",
   "execution_count": 111,
   "id": "980b2e6c",
   "metadata": {},
   "outputs": [],
   "source": [
    "lista = [nome.strip() for nome in base.columns]\n",
    "base.columns =  lista "
   ]
  },
  {
   "cell_type": "markdown",
   "id": "6e2443f9",
   "metadata": {},
   "source": [
    "Com isso, é possível perceber que o número de homens que responderam a pesquisa foi de 162 e o número de mulheres foi de 147."
   ]
  },
  {
   "cell_type": "markdown",
   "id": "18915386",
   "metadata": {},
   "source": [
    "# Análises Iniciais\n",
    "Primeiro limpamos a base de dados para conseguirmos filtrar os dados de maneira eficiente, retirando epaços ou caracteres especiais que dificultam a análise."
   ]
  },
  {
   "cell_type": "code",
   "execution_count": 112,
   "id": "16161087",
   "metadata": {},
   "outputs": [
    {
     "data": {
      "text/html": [
       "<div>\n",
       "<style scoped>\n",
       "    .dataframe tbody tr th:only-of-type {\n",
       "        vertical-align: middle;\n",
       "    }\n",
       "\n",
       "    .dataframe tbody tr th {\n",
       "        vertical-align: top;\n",
       "    }\n",
       "\n",
       "    .dataframe thead th {\n",
       "        text-align: right;\n",
       "    }\n",
       "</style>\n",
       "<table border=\"1\" class=\"dataframe\">\n",
       "  <thead>\n",
       "    <tr style=\"text-align: right;\">\n",
       "      <th></th>\n",
       "      <th>GENDER</th>\n",
       "      <th>AGE</th>\n",
       "      <th>SMOKING</th>\n",
       "      <th>YELLOW_FINGERS</th>\n",
       "      <th>ANXIETY</th>\n",
       "      <th>PEER_PRESSURE</th>\n",
       "      <th>CHRONIC DISEASE</th>\n",
       "      <th>FATIGUE</th>\n",
       "      <th>ALLERGY</th>\n",
       "      <th>WHEEZING</th>\n",
       "      <th>ALCOHOL CONSUMING</th>\n",
       "      <th>COUGHING</th>\n",
       "      <th>SHORTNESS OF BREATH</th>\n",
       "      <th>SWALLOWING DIFFICULTY</th>\n",
       "      <th>CHEST PAIN</th>\n",
       "      <th>LUNG_CANCER</th>\n",
       "    </tr>\n",
       "  </thead>\n",
       "  <tbody>\n",
       "    <tr>\n",
       "      <th>0</th>\n",
       "      <td>M</td>\n",
       "      <td>69</td>\n",
       "      <td>1</td>\n",
       "      <td>2</td>\n",
       "      <td>2</td>\n",
       "      <td>1</td>\n",
       "      <td>1</td>\n",
       "      <td>2</td>\n",
       "      <td>1</td>\n",
       "      <td>2</td>\n",
       "      <td>2</td>\n",
       "      <td>2</td>\n",
       "      <td>2</td>\n",
       "      <td>2</td>\n",
       "      <td>2</td>\n",
       "      <td>2</td>\n",
       "    </tr>\n",
       "    <tr>\n",
       "      <th>1</th>\n",
       "      <td>M</td>\n",
       "      <td>74</td>\n",
       "      <td>2</td>\n",
       "      <td>1</td>\n",
       "      <td>1</td>\n",
       "      <td>1</td>\n",
       "      <td>2</td>\n",
       "      <td>2</td>\n",
       "      <td>2</td>\n",
       "      <td>1</td>\n",
       "      <td>1</td>\n",
       "      <td>1</td>\n",
       "      <td>2</td>\n",
       "      <td>2</td>\n",
       "      <td>2</td>\n",
       "      <td>2</td>\n",
       "    </tr>\n",
       "    <tr>\n",
       "      <th>2</th>\n",
       "      <td>F</td>\n",
       "      <td>59</td>\n",
       "      <td>1</td>\n",
       "      <td>1</td>\n",
       "      <td>1</td>\n",
       "      <td>2</td>\n",
       "      <td>1</td>\n",
       "      <td>2</td>\n",
       "      <td>1</td>\n",
       "      <td>2</td>\n",
       "      <td>1</td>\n",
       "      <td>2</td>\n",
       "      <td>2</td>\n",
       "      <td>1</td>\n",
       "      <td>2</td>\n",
       "      <td>1</td>\n",
       "    </tr>\n",
       "    <tr>\n",
       "      <th>3</th>\n",
       "      <td>M</td>\n",
       "      <td>63</td>\n",
       "      <td>2</td>\n",
       "      <td>2</td>\n",
       "      <td>2</td>\n",
       "      <td>1</td>\n",
       "      <td>1</td>\n",
       "      <td>1</td>\n",
       "      <td>1</td>\n",
       "      <td>1</td>\n",
       "      <td>2</td>\n",
       "      <td>1</td>\n",
       "      <td>1</td>\n",
       "      <td>2</td>\n",
       "      <td>2</td>\n",
       "      <td>1</td>\n",
       "    </tr>\n",
       "    <tr>\n",
       "      <th>4</th>\n",
       "      <td>F</td>\n",
       "      <td>63</td>\n",
       "      <td>1</td>\n",
       "      <td>2</td>\n",
       "      <td>1</td>\n",
       "      <td>1</td>\n",
       "      <td>1</td>\n",
       "      <td>1</td>\n",
       "      <td>1</td>\n",
       "      <td>2</td>\n",
       "      <td>1</td>\n",
       "      <td>2</td>\n",
       "      <td>2</td>\n",
       "      <td>1</td>\n",
       "      <td>1</td>\n",
       "      <td>1</td>\n",
       "    </tr>\n",
       "    <tr>\n",
       "      <th>...</th>\n",
       "      <td>...</td>\n",
       "      <td>...</td>\n",
       "      <td>...</td>\n",
       "      <td>...</td>\n",
       "      <td>...</td>\n",
       "      <td>...</td>\n",
       "      <td>...</td>\n",
       "      <td>...</td>\n",
       "      <td>...</td>\n",
       "      <td>...</td>\n",
       "      <td>...</td>\n",
       "      <td>...</td>\n",
       "      <td>...</td>\n",
       "      <td>...</td>\n",
       "      <td>...</td>\n",
       "      <td>...</td>\n",
       "    </tr>\n",
       "    <tr>\n",
       "      <th>304</th>\n",
       "      <td>F</td>\n",
       "      <td>56</td>\n",
       "      <td>1</td>\n",
       "      <td>1</td>\n",
       "      <td>1</td>\n",
       "      <td>2</td>\n",
       "      <td>2</td>\n",
       "      <td>2</td>\n",
       "      <td>1</td>\n",
       "      <td>1</td>\n",
       "      <td>2</td>\n",
       "      <td>2</td>\n",
       "      <td>2</td>\n",
       "      <td>2</td>\n",
       "      <td>1</td>\n",
       "      <td>2</td>\n",
       "    </tr>\n",
       "    <tr>\n",
       "      <th>305</th>\n",
       "      <td>M</td>\n",
       "      <td>70</td>\n",
       "      <td>2</td>\n",
       "      <td>1</td>\n",
       "      <td>1</td>\n",
       "      <td>1</td>\n",
       "      <td>1</td>\n",
       "      <td>2</td>\n",
       "      <td>2</td>\n",
       "      <td>2</td>\n",
       "      <td>2</td>\n",
       "      <td>2</td>\n",
       "      <td>2</td>\n",
       "      <td>1</td>\n",
       "      <td>2</td>\n",
       "      <td>2</td>\n",
       "    </tr>\n",
       "    <tr>\n",
       "      <th>306</th>\n",
       "      <td>M</td>\n",
       "      <td>58</td>\n",
       "      <td>2</td>\n",
       "      <td>1</td>\n",
       "      <td>1</td>\n",
       "      <td>1</td>\n",
       "      <td>1</td>\n",
       "      <td>1</td>\n",
       "      <td>2</td>\n",
       "      <td>2</td>\n",
       "      <td>2</td>\n",
       "      <td>2</td>\n",
       "      <td>1</td>\n",
       "      <td>1</td>\n",
       "      <td>2</td>\n",
       "      <td>2</td>\n",
       "    </tr>\n",
       "    <tr>\n",
       "      <th>307</th>\n",
       "      <td>M</td>\n",
       "      <td>67</td>\n",
       "      <td>2</td>\n",
       "      <td>1</td>\n",
       "      <td>2</td>\n",
       "      <td>1</td>\n",
       "      <td>1</td>\n",
       "      <td>2</td>\n",
       "      <td>2</td>\n",
       "      <td>1</td>\n",
       "      <td>2</td>\n",
       "      <td>2</td>\n",
       "      <td>2</td>\n",
       "      <td>1</td>\n",
       "      <td>2</td>\n",
       "      <td>2</td>\n",
       "    </tr>\n",
       "    <tr>\n",
       "      <th>308</th>\n",
       "      <td>M</td>\n",
       "      <td>62</td>\n",
       "      <td>1</td>\n",
       "      <td>1</td>\n",
       "      <td>1</td>\n",
       "      <td>2</td>\n",
       "      <td>1</td>\n",
       "      <td>2</td>\n",
       "      <td>2</td>\n",
       "      <td>2</td>\n",
       "      <td>2</td>\n",
       "      <td>1</td>\n",
       "      <td>1</td>\n",
       "      <td>2</td>\n",
       "      <td>1</td>\n",
       "      <td>2</td>\n",
       "    </tr>\n",
       "  </tbody>\n",
       "</table>\n",
       "<p>309 rows × 16 columns</p>\n",
       "</div>"
      ],
      "text/plain": [
       "    GENDER  AGE  SMOKING  YELLOW_FINGERS  ANXIETY  PEER_PRESSURE  \\\n",
       "0        M   69        1               2        2              1   \n",
       "1        M   74        2               1        1              1   \n",
       "2        F   59        1               1        1              2   \n",
       "3        M   63        2               2        2              1   \n",
       "4        F   63        1               2        1              1   \n",
       "..     ...  ...      ...             ...      ...            ...   \n",
       "304      F   56        1               1        1              2   \n",
       "305      M   70        2               1        1              1   \n",
       "306      M   58        2               1        1              1   \n",
       "307      M   67        2               1        2              1   \n",
       "308      M   62        1               1        1              2   \n",
       "\n",
       "     CHRONIC DISEASE  FATIGUE  ALLERGY  WHEEZING  ALCOHOL CONSUMING  COUGHING  \\\n",
       "0                  1        2        1         2                  2         2   \n",
       "1                  2        2        2         1                  1         1   \n",
       "2                  1        2        1         2                  1         2   \n",
       "3                  1        1        1         1                  2         1   \n",
       "4                  1        1        1         2                  1         2   \n",
       "..               ...      ...      ...       ...                ...       ...   \n",
       "304                2        2        1         1                  2         2   \n",
       "305                1        2        2         2                  2         2   \n",
       "306                1        1        2         2                  2         2   \n",
       "307                1        2        2         1                  2         2   \n",
       "308                1        2        2         2                  2         1   \n",
       "\n",
       "     SHORTNESS OF BREATH  SWALLOWING DIFFICULTY  CHEST PAIN LUNG_CANCER  \n",
       "0                      2                      2           2           2  \n",
       "1                      2                      2           2           2  \n",
       "2                      2                      1           2           1  \n",
       "3                      1                      2           2           1  \n",
       "4                      2                      1           1           1  \n",
       "..                   ...                    ...         ...         ...  \n",
       "304                    2                      2           1           2  \n",
       "305                    2                      1           2           2  \n",
       "306                    1                      1           2           2  \n",
       "307                    2                      1           2           2  \n",
       "308                    1                      2           1           2  \n",
       "\n",
       "[309 rows x 16 columns]"
      ]
     },
     "metadata": {},
     "output_type": "display_data"
    }
   ],
   "source": [
    "# Trocando os nomes das linhas da coluna Lung_Cancer \n",
    "# YES = 2 e NO = 1\n",
    "for i in range(len(base['LUNG_CANCER'])):\n",
    "    if base['LUNG_CANCER'][i] == 'YES':\n",
    "        base.loc[i ,'LUNG_CANCER'] = 2\n",
    "    else: \n",
    "        base.loc[i ,'LUNG_CANCER'] = 1 \n",
    "display(base)"
   ]
  },
  {
   "cell_type": "markdown",
   "id": "9812b2db",
   "metadata": {},
   "source": [
    "Filtragem dos dados separando pessoas que têm chances de ter câncer de pulmão das que não têm:"
   ]
  },
  {
   "cell_type": "code",
   "execution_count": 113,
   "id": "fcb81c2a",
   "metadata": {},
   "outputs": [
    {
     "name": "stdout",
     "output_type": "stream",
     "text": [
      "270, 39\n"
     ]
    }
   ],
   "source": [
    "yes_cancer = base.loc[base['LUNG_CANCER'] == 2]\n",
    "no_cancer = base.loc[base['LUNG_CANCER'] == 1]\n",
    "print(f\"{yes_cancer.shape[0]}, {no_cancer.shape[0]}\")"
   ]
  },
  {
   "cell_type": "code",
   "execution_count": 114,
   "id": "8003471b",
   "metadata": {},
   "outputs": [
    {
     "data": {
      "text/plain": [
       "count    309.000000\n",
       "mean      62.673139\n",
       "std        8.210301\n",
       "min       21.000000\n",
       "25%       57.000000\n",
       "50%       62.000000\n",
       "75%       69.000000\n",
       "max       87.000000\n",
       "Name: AGE, dtype: float64"
      ]
     },
     "execution_count": 114,
     "metadata": {},
     "output_type": "execute_result"
    }
   ],
   "source": [
    "base.AGE.describe()"
   ]
  },
  {
   "cell_type": "code",
   "execution_count": 115,
   "id": "82e8f28b",
   "metadata": {},
   "outputs": [
    {
     "data": {
      "image/png": "[encoded data removed]",
      "text/plain": [
       "<Figure size 1296x432 with 2 Axes>"
      ]
     },
     "metadata": {
      "needs_background": "light"
     },
     "output_type": "display_data"
    }
   ],
   "source": [
    "range_AGE = np.arange(0, 90,5)\n",
    "\n",
    "plt.figure(figsize=(18,6))\n",
    "\n",
    "plt.subplot(121)\n",
    "plt.hist(yes_cancer.AGE, bins = range_AGE, edgecolor='white', density = True, color = 'tab:Green')\n",
    "plt.title(\"Faixa de densidade das pessoas que devem contrair câncer\", size=14)\n",
    "plt.xlabel(\"Faixa de idade\")\n",
    "plt.ylabel(\"Densidade\")\n",
    "plt.ylim(0,0.08)\n",
    "\n",
    "plt.subplot(122)\n",
    "plt.hist(no_cancer.AGE, bins = range_AGE, edgecolor='white', density = True, color = 'tab:blue')\n",
    "plt.title(\"Faixa de densidade das pessoas que não contrairam câncer\", size=14)\n",
    "plt.xlabel(\"Faixa de idade\")\n",
    "plt.ylabel(\"Densidade\")\n",
    "plt.ylim(0,0.08)\n",
    "\n",
    "\n",
    "plt.show()"
   ]
  },
  {
   "cell_type": "markdown",
   "id": "be16e88d",
   "metadata": {},
   "source": [
    "# Análise da correlação de Dedos Amarelos e o Câncer de pulmão"
   ]
  },
  {
   "cell_type": "code",
   "execution_count": 116,
   "id": "3e08c047",
   "metadata": {},
   "outputs": [
    {
     "data": {
      "text/html": [
       "<div>\n",
       "<style scoped>\n",
       "    .dataframe tbody tr th:only-of-type {\n",
       "        vertical-align: middle;\n",
       "    }\n",
       "\n",
       "    .dataframe tbody tr th {\n",
       "        vertical-align: top;\n",
       "    }\n",
       "\n",
       "    .dataframe thead th {\n",
       "        text-align: right;\n",
       "    }\n",
       "</style>\n",
       "<table border=\"1\" class=\"dataframe\">\n",
       "  <thead>\n",
       "    <tr style=\"text-align: right;\">\n",
       "      <th></th>\n",
       "      <th>YELLOW_FINGERS</th>\n",
       "      <th>LUNG_CANCER</th>\n",
       "      <th>counts</th>\n",
       "    </tr>\n",
       "  </thead>\n",
       "  <tbody>\n",
       "    <tr>\n",
       "      <th>0</th>\n",
       "      <td>1</td>\n",
       "      <td>1</td>\n",
       "      <td>26</td>\n",
       "    </tr>\n",
       "    <tr>\n",
       "      <th>1</th>\n",
       "      <td>1</td>\n",
       "      <td>2</td>\n",
       "      <td>107</td>\n",
       "    </tr>\n",
       "    <tr>\n",
       "      <th>2</th>\n",
       "      <td>2</td>\n",
       "      <td>1</td>\n",
       "      <td>13</td>\n",
       "    </tr>\n",
       "    <tr>\n",
       "      <th>3</th>\n",
       "      <td>2</td>\n",
       "      <td>2</td>\n",
       "      <td>163</td>\n",
       "    </tr>\n",
       "  </tbody>\n",
       "</table>\n",
       "</div>"
      ],
      "text/plain": [
       "   YELLOW_FINGERS  LUNG_CANCER  counts\n",
       "0               1            1      26\n",
       "1               1            2     107\n",
       "2               2            1      13\n",
       "3               2            2     163"
      ]
     },
     "execution_count": 116,
     "metadata": {},
     "output_type": "execute_result"
    }
   ],
   "source": [
    "#Gráfico correlativo de cancer and yellow_fingers.\n",
    "dyf = base.groupby(by=[\"YELLOW_FINGERS\", \"LUNG_CANCER\"]).size().reset_index(name=\"counts\")\n",
    "dyf"
   ]
  },
  {
   "cell_type": "code",
   "execution_count": 117,
   "id": "72adddc4",
   "metadata": {},
   "outputs": [
    {
     "data": {
      "application/vnd.plotly.v1+json": {
       "config": {
        "plotlyServerURL": "https://plot.ly"
       },
       "data": [
        {
         "alignmentgroup": "True",
         "bingroup": "x",
         "histfunc": "sum",
         "hovertemplate": "YELLOW_FINGERS=1<br>LUNG_CANCER=%{x}<br>sum of counts=%{y}<extra></extra>",
         "legendgroup": "1",
         "marker": {
          "color": "rgb(127, 60, 141)",
          "pattern": {
           "shape": ""
          }
         },
         "name": "1",
         "offsetgroup": "1",
         "orientation": "v",
         "showlegend": true,
         "type": "histogram",
         "x": [
          1,
          2
         ],
         "xaxis": "x",
         "y": [
          26,
          107
         ],
         "yaxis": "y"
        },
        {
         "alignmentgroup": "True",
         "bingroup": "x",
         "histfunc": "sum",
         "hovertemplate": "YELLOW_FINGERS=2<br>LUNG_CANCER=%{x}<br>sum of counts=%{y}<extra></extra>",
         "legendgroup": "2",
         "marker": {
          "color": "rgb(17, 165, 121)",
          "pattern": {
           "shape": ""
          }
         },
         "name": "2",
         "offsetgroup": "2",
         "orientation": "v",
         "showlegend": true,
         "type": "histogram",
         "x": [
          1,
          2
         ],
         "xaxis": "x",
         "y": [
          13,
          163
         ],
         "yaxis": "y"
        }
       ],
       "layout": {
        "barmode": "group",
        "legend": {
         "title": {
          "text": "YELLOW_FINGERS"
         },
         "tracegroupgap": 0
        },
        "margin": {
         "t": 60
        },
        "template": {
         "data": {
          "bar": [
           {
            "error_x": {
             "color": "#2a3f5f"
            },
            "error_y": {
             "color": "#2a3f5f"
            },
            "marker": {
             "line": {
              "color": "#E5ECF6",
              "width": 0.5
             },
             "pattern": {
              "fillmode": "overlay",
              "size": 10,
              "solidity": 0.2
             }
            },
            "type": "bar"
           }
          ],
          "barpolar": [
           {
            "marker": {
             "line": {
              "color": "#E5ECF6",
              "width": 0.5
             },
             "pattern": {
              "fillmode": "overlay",
              "size": 10,
              "solidity": 0.2
             }
            },
            "type": "barpolar"
           }
          ],
          "carpet": [
           {
            "aaxis": {
             "endlinecolor": "#2a3f5f",
             "gridcolor": "white",
             "linecolor": "white",
             "minorgridcolor": "white",
             "startlinecolor": "#2a3f5f"
            },
            "baxis": {
             "endlinecolor": "#2a3f5f",
             "gridcolor": "white",
             "linecolor": "white",
             "minorgridcolor": "white",
             "startlinecolor": "#2a3f5f"
            },
            "type": "carpet"
           }
          ],
          "choropleth": [
           {
            "colorbar": {
             "outlinewidth": 0,
             "ticks": ""
            },
            "type": "choropleth"
           }
          ],
          "contour": [
           {
            "colorbar": {
             "outlinewidth": 0,
             "ticks": ""
            },
            "colorscale": [
             [
              0,
              "#0d0887"
             ],
             [
              0.1111111111111111,
              "#46039f"
             ],
             [
              0.2222222222222222,
              "#7201a8"
             ],
             [
              0.3333333333333333,
              "#9c179e"
             ],
             [
              0.4444444444444444,
              "#bd3786"
             ],
             [
              0.5555555555555556,
              "#d8576b"
             ],
             [
              0.6666666666666666,
              "#ed7953"
             ],
             [
              0.7777777777777778,
              "#fb9f3a"
             ],
             [
              0.8888888888888888,
              "#fdca26"
             ],
             [
              1,
              "#f0f921"
             ]
            ],
            "type": "contour"
           }
          ],
          "contourcarpet": [
           {
            "colorbar": {
             "outlinewidth": 0,
             "ticks": ""
            },
            "type": "contourcarpet"
           }
          ],
          "heatmap": [
           {
            "colorbar": {
             "outlinewidth": 0,
             "ticks": ""
            },
            "colorscale": [
             [
              0,
              "#0d0887"
             ],
             [
              0.1111111111111111,
              "#46039f"
             ],
             [
              0.2222222222222222,
              "#7201a8"
             ],
             [
              0.3333333333333333,
              "#9c179e"
             ],
             [
              0.4444444444444444,
              "#bd3786"
             ],
             [
              0.5555555555555556,
              "#d8576b"
             ],
             [
              0.6666666666666666,
              "#ed7953"
             ],
             [
              0.7777777777777778,
              "#fb9f3a"
             ],
             [
              0.8888888888888888,
              "#fdca26"
             ],
             [
              1,
              "#f0f921"
             ]
            ],
            "type": "heatmap"
           }
          ],
          "heatmapgl": [
           {
            "colorbar": {
             "outlinewidth": 0,
             "ticks": ""
            },
            "colorscale": [
             [
              0,
              "#0d0887"
             ],
             [
              0.1111111111111111,
              "#46039f"
             ],
             [
              0.2222222222222222,
              "#7201a8"
             ],
             [
              0.3333333333333333,
              "#9c179e"
             ],
             [
              0.4444444444444444,
              "#bd3786"
             ],
             [
              0.5555555555555556,
              "#d8576b"
             ],
             [
              0.6666666666666666,
              "#ed7953"
             ],
             [
              0.7777777777777778,
              "#fb9f3a"
             ],
             [
              0.8888888888888888,
              "#fdca26"
             ],
             [
              1,
              "#f0f921"
             ]
            ],
            "type": "heatmapgl"
           }
          ],
          "histogram": [
           {
            "marker": {
             "pattern": {
              "fillmode": "overlay",
              "size": 10,
              "solidity": 0.2
             }
            },
            "type": "histogram"
           }
          ],
          "histogram2d": [
           {
            "colorbar": {
             "outlinewidth": 0,
             "ticks": ""
            },
            "colorscale": [
             [
              0,
              "#0d0887"
             ],
             [
              0.1111111111111111,
              "#46039f"
             ],
             [
              0.2222222222222222,
              "#7201a8"
             ],
             [
              0.3333333333333333,
              "#9c179e"
             ],
             [
              0.4444444444444444,
              "#bd3786"
             ],
             [
              0.5555555555555556,
              "#d8576b"
             ],
             [
              0.6666666666666666,
              "#ed7953"
             ],
             [
              0.7777777777777778,
              "#fb9f3a"
             ],
             [
              0.8888888888888888,
              "#fdca26"
             ],
             [
              1,
              "#f0f921"
             ]
            ],
            "type": "histogram2d"
           }
          ],
          "histogram2dcontour": [
           {
            "colorbar": {
             "outlinewidth": 0,
             "ticks": ""
            },
            "colorscale": [
             [
              0,
              "#0d0887"
             ],
             [
              0.1111111111111111,
              "#46039f"
             ],
             [
              0.2222222222222222,
              "#7201a8"
             ],
             [
              0.3333333333333333,
              "#9c179e"
             ],
             [
              0.4444444444444444,
              "#bd3786"
             ],
             [
              0.5555555555555556,
              "#d8576b"
             ],
             [
              0.6666666666666666,
              "#ed7953"
             ],
             [
              0.7777777777777778,
              "#fb9f3a"
             ],
             [
              0.8888888888888888,
              "#fdca26"
             ],
             [
              1,
              "#f0f921"
             ]
            ],
            "type": "histogram2dcontour"
           }
          ],
          "mesh3d": [
           {
            "colorbar": {
             "outlinewidth": 0,
             "ticks": ""
            },
            "type": "mesh3d"
           }
          ],
          "parcoords": [
           {
            "line": {
             "colorbar": {
              "outlinewidth": 0,
              "ticks": ""
             }
            },
            "type": "parcoords"
           }
          ],
          "pie": [
           {
            "automargin": true,
            "type": "pie"
           }
          ],
          "scatter": [
           {
            "fillpattern": {
             "fillmode": "overlay",
             "size": 10,
             "solidity": 0.2
            },
            "type": "scatter"
           }
          ],
          "scatter3d": [
           {
            "line": {
             "colorbar": {
              "outlinewidth": 0,
              "ticks": ""
             }
            },
            "marker": {
             "colorbar": {
              "outlinewidth": 0,
              "ticks": ""
             }
            },
            "type": "scatter3d"
           }
          ],
          "scattercarpet": [
           {
            "marker": {
             "colorbar": {
              "outlinewidth": 0,
              "ticks": ""
             }
            },
            "type": "scattercarpet"
           }
          ],
          "scattergeo": [
           {
            "marker": {
             "colorbar": {
              "outlinewidth": 0,
              "ticks": ""
             }
            },
            "type": "scattergeo"
           }
          ],
          "scattergl": [
           {
            "marker": {
             "colorbar": {
              "outlinewidth": 0,
              "ticks": ""
             }
            },
            "type": "scattergl"
           }
          ],
          "scattermapbox": [
           {
            "marker": {
             "colorbar": {
              "outlinewidth": 0,
              "ticks": ""
             }
            },
            "type": "scattermapbox"
           }
          ],
          "scatterpolar": [
           {
            "marker": {
             "colorbar": {
              "outlinewidth": 0,
              "ticks": ""
             }
            },
            "type": "scatterpolar"
           }
          ],
          "scatterpolargl": [
           {
            "marker": {
             "colorbar": {
              "outlinewidth": 0,
              "ticks": ""
             }
            },
            "type": "scatterpolargl"
           }
          ],
          "scatterternary": [
           {
            "marker": {
             "colorbar": {
              "outlinewidth": 0,
              "ticks": ""
             }
            },
            "type": "scatterternary"
           }
          ],
          "surface": [
           {
            "colorbar": {
             "outlinewidth": 0,
             "ticks": ""
            },
            "colorscale": [
             [
              0,
              "#0d0887"
             ],
             [
              0.1111111111111111,
              "#46039f"
             ],
             [
              0.2222222222222222,
              "#7201a8"
             ],
             [
              0.3333333333333333,
              "#9c179e"
             ],
             [
              0.4444444444444444,
              "#bd3786"
             ],
             [
              0.5555555555555556,
              "#d8576b"
             ],
             [
              0.6666666666666666,
              "#ed7953"
             ],
             [
              0.7777777777777778,
              "#fb9f3a"
             ],
             [
              0.8888888888888888,
              "#fdca26"
             ],
             [
              1,
              "#f0f921"
             ]
            ],
            "type": "surface"
           }
          ],
          "table": [
           {
            "cells": {
             "fill": {
              "color": "#EBF0F8"
             },
             "line": {
              "color": "white"
             }
            },
            "header": {
             "fill": {
              "color": "#C8D4E3"
             },
             "line": {
              "color": "white"
             }
            },
            "type": "table"
           }
          ]
         },
         "layout": {
          "annotationdefaults": {
           "arrowcolor": "#2a3f5f",
           "arrowhead": 0,
           "arrowwidth": 1
          },
          "autotypenumbers": "strict",
          "coloraxis": {
           "colorbar": {
            "outlinewidth": 0,
            "ticks": ""
           }
          },
          "colorscale": {
           "diverging": [
            [
             0,
             "#8e0152"
            ],
            [
             0.1,
             "#c51b7d"
            ],
            [
             0.2,
             "#de77ae"
            ],
            [
             0.3,
             "#f1b6da"
            ],
            [
             0.4,
             "#fde0ef"
            ],
            [
             0.5,
             "#f7f7f7"
            ],
            [
             0.6,
             "#e6f5d0"
            ],
            [
             0.7,
             "#b8e186"
            ],
            [
             0.8,
             "#7fbc41"
            ],
            [
             0.9,
             "#4d9221"
            ],
            [
             1,
             "#276419"
            ]
           ],
           "sequential": [
            [
             0,
             "#0d0887"
            ],
            [
             0.1111111111111111,
             "#46039f"
            ],
            [
             0.2222222222222222,
             "#7201a8"
            ],
            [
             0.3333333333333333,
             "#9c179e"
            ],
            [
             0.4444444444444444,
             "#bd3786"
            ],
            [
             0.5555555555555556,
             "#d8576b"
            ],
            [
             0.6666666666666666,
             "#ed7953"
            ],
            [
             0.7777777777777778,
             "#fb9f3a"
            ],
            [
             0.8888888888888888,
             "#fdca26"
            ],
            [
             1,
             "#f0f921"
            ]
           ],
           "sequentialminus": [
            [
             0,
             "#0d0887"
            ],
            [
             0.1111111111111111,
             "#46039f"
            ],
            [
             0.2222222222222222,
             "#7201a8"
            ],
            [
             0.3333333333333333,
             "#9c179e"
            ],
            [
             0.4444444444444444,
             "#bd3786"
            ],
            [
             0.5555555555555556,
             "#d8576b"
            ],
            [
             0.6666666666666666,
             "#ed7953"
            ],
            [
             0.7777777777777778,
             "#fb9f3a"
            ],
            [
             0.8888888888888888,
             "#fdca26"
            ],
            [
             1,
             "#f0f921"
            ]
           ]
          },
          "colorway": [
           "#636efa",
           "#EF553B",
           "#00cc96",
           "#ab63fa",
           "#FFA15A",
           "#19d3f3",
           "#FF6692",
           "#B6E880",
           "#FF97FF",
           "#FECB52"
          ],
          "font": {
           "color": "#2a3f5f"
          },
          "geo": {
           "bgcolor": "white",
           "lakecolor": "white",
           "landcolor": "#E5ECF6",
           "showlakes": true,
           "showland": true,
           "subunitcolor": "white"
          },
          "hoverlabel": {
           "align": "left"
          },
          "hovermode": "closest",
          "mapbox": {
           "style": "light"
          },
          "paper_bgcolor": "white",
          "plot_bgcolor": "#E5ECF6",
          "polar": {
           "angularaxis": {
            "gridcolor": "white",
            "linecolor": "white",
            "ticks": ""
           },
           "bgcolor": "#E5ECF6",
           "radialaxis": {
            "gridcolor": "white",
            "linecolor": "white",
            "ticks": ""
           }
          },
          "scene": {
           "xaxis": {
            "backgroundcolor": "#E5ECF6",
            "gridcolor": "white",
            "gridwidth": 2,
            "linecolor": "white",
            "showbackground": true,
            "ticks": "",
            "zerolinecolor": "white"
           },
           "yaxis": {
            "backgroundcolor": "#E5ECF6",
            "gridcolor": "white",
            "gridwidth": 2,
            "linecolor": "white",
            "showbackground": true,
            "ticks": "",
            "zerolinecolor": "white"
           },
           "zaxis": {
            "backgroundcolor": "#E5ECF6",
            "gridcolor": "white",
            "gridwidth": 2,
            "linecolor": "white",
            "showbackground": true,
            "ticks": "",
            "zerolinecolor": "white"
           }
          },
          "shapedefaults": {
           "line": {
            "color": "#2a3f5f"
           }
          },
          "ternary": {
           "aaxis": {
            "gridcolor": "white",
            "linecolor": "white",
            "ticks": ""
           },
           "baxis": {
            "gridcolor": "white",
            "linecolor": "white",
            "ticks": ""
           },
           "bgcolor": "#E5ECF6",
           "caxis": {
            "gridcolor": "white",
            "linecolor": "white",
            "ticks": ""
           }
          },
          "title": {
           "x": 0.05
          },
          "xaxis": {
           "automargin": true,
           "gridcolor": "white",
           "linecolor": "white",
           "ticks": "",
           "title": {
            "standoff": 15
           },
           "zerolinecolor": "white",
           "zerolinewidth": 2
          },
          "yaxis": {
           "automargin": true,
           "gridcolor": "white",
           "linecolor": "white",
           "ticks": "",
           "title": {
            "standoff": 15
           },
           "zerolinecolor": "white",
           "zerolinewidth": 2
          }
         }
        },
        "xaxis": {
         "anchor": "y",
         "domain": [
          0,
          1
         ],
         "title": {
          "text": "LUNG_CANCER"
         }
        },
        "yaxis": {
         "anchor": "x",
         "domain": [
          0,
          1
         ],
         "title": {
          "text": "sum of counts"
         }
        }
       }
      }
     },
     "metadata": {},
     "output_type": "display_data"
    }
   ],
   "source": [
    "px.histogram(data_frame=dyf, x=\"LUNG_CANCER\", y=\"counts\", color=\"YELLOW_FINGERS\", barmode='group',\n",
    "             color_discrete_sequence=px.colors.qualitative.Bold)"
   ]
  },
  {
   "cell_type": "markdown",
   "id": "c486b14b",
   "metadata": {},
   "source": [
    "# Análise da correlação da Ansiedade e o Cancer de Pulmão"
   ]
  },
  {
   "cell_type": "code",
   "execution_count": 118,
   "id": "c129ebba",
   "metadata": {},
   "outputs": [
    {
     "data": {
      "text/html": [
       "<div>\n",
       "<style scoped>\n",
       "    .dataframe tbody tr th:only-of-type {\n",
       "        vertical-align: middle;\n",
       "    }\n",
       "\n",
       "    .dataframe tbody tr th {\n",
       "        vertical-align: top;\n",
       "    }\n",
       "\n",
       "    .dataframe thead th {\n",
       "        text-align: right;\n",
       "    }\n",
       "</style>\n",
       "<table border=\"1\" class=\"dataframe\">\n",
       "  <thead>\n",
       "    <tr style=\"text-align: right;\">\n",
       "      <th></th>\n",
       "      <th>ANXIETY</th>\n",
       "      <th>LUNG_CANCER</th>\n",
       "      <th>counts</th>\n",
       "    </tr>\n",
       "  </thead>\n",
       "  <tbody>\n",
       "    <tr>\n",
       "      <th>0</th>\n",
       "      <td>1</td>\n",
       "      <td>1</td>\n",
       "      <td>27</td>\n",
       "    </tr>\n",
       "    <tr>\n",
       "      <th>1</th>\n",
       "      <td>1</td>\n",
       "      <td>2</td>\n",
       "      <td>128</td>\n",
       "    </tr>\n",
       "    <tr>\n",
       "      <th>2</th>\n",
       "      <td>2</td>\n",
       "      <td>1</td>\n",
       "      <td>12</td>\n",
       "    </tr>\n",
       "    <tr>\n",
       "      <th>3</th>\n",
       "      <td>2</td>\n",
       "      <td>2</td>\n",
       "      <td>142</td>\n",
       "    </tr>\n",
       "  </tbody>\n",
       "</table>\n",
       "</div>"
      ],
      "text/plain": [
       "   ANXIETY  LUNG_CANCER  counts\n",
       "0        1            1      27\n",
       "1        1            2     128\n",
       "2        2            1      12\n",
       "3        2            2     142"
      ]
     },
     "execution_count": 118,
     "metadata": {},
     "output_type": "execute_result"
    }
   ],
   "source": [
    "#Gráfico correlativo de cancer and anxiety\n",
    "dan = base.groupby(by=[\"ANXIETY\", \"LUNG_CANCER\"]).size().reset_index(name=\"counts\")\n",
    "dan"
   ]
  },
  {
   "cell_type": "code",
   "execution_count": 119,
   "id": "b0f7f933",
   "metadata": {},
   "outputs": [
    {
     "data": {
      "application/vnd.plotly.v1+json": {
       "config": {
        "plotlyServerURL": "https://plot.ly"
       },
       "data": [
        {
         "alignmentgroup": "True",
         "bingroup": "x",
         "histfunc": "sum",
         "hovertemplate": "ANXIETY=1<br>LUNG_CANCER=%{x}<br>sum of counts=%{y}<extra></extra>",
         "legendgroup": "1",
         "marker": {
          "color": "#4C78A8",
          "pattern": {
           "shape": ""
          }
         },
         "name": "1",
         "offsetgroup": "1",
         "orientation": "v",
         "showlegend": true,
         "type": "histogram",
         "x": [
          1,
          2
         ],
         "xaxis": "x",
         "y": [
          27,
          128
         ],
         "yaxis": "y"
        },
        {
         "alignmentgroup": "True",
         "bingroup": "x",
         "histfunc": "sum",
         "hovertemplate": "ANXIETY=2<br>LUNG_CANCER=%{x}<br>sum of counts=%{y}<extra></extra>",
         "legendgroup": "2",
         "marker": {
          "color": "#F58518",
          "pattern": {
           "shape": ""
          }
         },
         "name": "2",
         "offsetgroup": "2",
         "orientation": "v",
         "showlegend": true,
         "type": "histogram",
         "x": [
          1,
          2
         ],
         "xaxis": "x",
         "y": [
          12,
          142
         ],
         "yaxis": "y"
        }
       ],
       "layout": {
        "barmode": "group",
        "legend": {
         "title": {
          "text": "ANXIETY"
         },
         "tracegroupgap": 0
        },
        "margin": {
         "t": 60
        },
        "template": {
         "data": {
          "bar": [
           {
            "error_x": {
             "color": "#2a3f5f"
            },
            "error_y": {
             "color": "#2a3f5f"
            },
            "marker": {
             "line": {
              "color": "#E5ECF6",
              "width": 0.5
             },
             "pattern": {
              "fillmode": "overlay",
              "size": 10,
              "solidity": 0.2
             }
            },
            "type": "bar"
           }
          ],
          "barpolar": [
           {
            "marker": {
             "line": {
              "color": "#E5ECF6",
              "width": 0.5
             },
             "pattern": {
              "fillmode": "overlay",
              "size": 10,
              "solidity": 0.2
             }
            },
            "type": "barpolar"
           }
          ],
          "carpet": [
           {
            "aaxis": {
             "endlinecolor": "#2a3f5f",
             "gridcolor": "white",
             "linecolor": "white",
             "minorgridcolor": "white",
             "startlinecolor": "#2a3f5f"
            },
            "baxis": {
             "endlinecolor": "#2a3f5f",
             "gridcolor": "white",
             "linecolor": "white",
             "minorgridcolor": "white",
             "startlinecolor": "#2a3f5f"
            },
            "type": "carpet"
           }
          ],
          "choropleth": [
           {
            "colorbar": {
             "outlinewidth": 0,
             "ticks": ""
            },
            "type": "choropleth"
           }
          ],
          "contour": [
           {
            "colorbar": {
             "outlinewidth": 0,
             "ticks": ""
            },
            "colorscale": [
             [
              0,
              "#0d0887"
             ],
             [
              0.1111111111111111,
              "#46039f"
             ],
             [
              0.2222222222222222,
              "#7201a8"
             ],
             [
              0.3333333333333333,
              "#9c179e"
             ],
             [
              0.4444444444444444,
              "#bd3786"
             ],
             [
              0.5555555555555556,
              "#d8576b"
             ],
             [
              0.6666666666666666,
              "#ed7953"
             ],
             [
              0.7777777777777778,
              "#fb9f3a"
             ],
             [
              0.8888888888888888,
              "#fdca26"
             ],
             [
              1,
              "#f0f921"
             ]
            ],
            "type": "contour"
           }
          ],
          "contourcarpet": [
           {
            "colorbar": {
             "outlinewidth": 0,
             "ticks": ""
            },
            "type": "contourcarpet"
           }
          ],
          "heatmap": [
           {
            "colorbar": {
             "outlinewidth": 0,
             "ticks": ""
            },
            "colorscale": [
             [
              0,
              "#0d0887"
             ],
             [
              0.1111111111111111,
              "#46039f"
             ],
             [
              0.2222222222222222,
              "#7201a8"
             ],
             [
              0.3333333333333333,
              "#9c179e"
             ],
             [
              0.4444444444444444,
              "#bd3786"
             ],
             [
              0.5555555555555556,
              "#d8576b"
             ],
             [
              0.6666666666666666,
              "#ed7953"
             ],
             [
              0.7777777777777778,
              "#fb9f3a"
             ],
             [
              0.8888888888888888,
              "#fdca26"
             ],
             [
              1,
              "#f0f921"
             ]
            ],
            "type": "heatmap"
           }
          ],
          "heatmapgl": [
           {
            "colorbar": {
             "outlinewidth": 0,
             "ticks": ""
            },
            "colorscale": [
             [
              0,
              "#0d0887"
             ],
             [
              0.1111111111111111,
              "#46039f"
             ],
             [
              0.2222222222222222,
              "#7201a8"
             ],
             [
              0.3333333333333333,
              "#9c179e"
             ],
             [
              0.4444444444444444,
              "#bd3786"
             ],
             [
              0.5555555555555556,
              "#d8576b"
             ],
             [
              0.6666666666666666,
              "#ed7953"
             ],
             [
              0.7777777777777778,
              "#fb9f3a"
             ],
             [
              0.8888888888888888,
              "#fdca26"
             ],
             [
              1,
              "#f0f921"
             ]
            ],
            "type": "heatmapgl"
           }
          ],
          "histogram": [
           {
            "marker": {
             "pattern": {
              "fillmode": "overlay",
              "size": 10,
              "solidity": 0.2
             }
            },
            "type": "histogram"
           }
          ],
          "histogram2d": [
           {
            "colorbar": {
             "outlinewidth": 0,
             "ticks": ""
            },
            "colorscale": [
             [
              0,
              "#0d0887"
             ],
             [
              0.1111111111111111,
              "#46039f"
             ],
             [
              0.2222222222222222,
              "#7201a8"
             ],
             [
              0.3333333333333333,
              "#9c179e"
             ],
             [
              0.4444444444444444,
              "#bd3786"
             ],
             [
              0.5555555555555556,
              "#d8576b"
             ],
             [
              0.6666666666666666,
              "#ed7953"
             ],
             [
              0.7777777777777778,
              "#fb9f3a"
             ],
             [
              0.8888888888888888,
              "#fdca26"
             ],
             [
              1,
              "#f0f921"
             ]
            ],
            "type": "histogram2d"
           }
          ],
          "histogram2dcontour": [
           {
            "colorbar": {
             "outlinewidth": 0,
             "ticks": ""
            },
            "colorscale": [
             [
              0,
              "#0d0887"
             ],
             [
              0.1111111111111111,
              "#46039f"
             ],
             [
              0.2222222222222222,
              "#7201a8"
             ],
             [
              0.3333333333333333,
              "#9c179e"
             ],
             [
              0.4444444444444444,
              "#bd3786"
             ],
             [
              0.5555555555555556,
              "#d8576b"
             ],
             [
              0.6666666666666666,
              "#ed7953"
             ],
             [
              0.7777777777777778,
              "#fb9f3a"
             ],
             [
              0.8888888888888888,
              "#fdca26"
             ],
             [
              1,
              "#f0f921"
             ]
            ],
            "type": "histogram2dcontour"
           }
          ],
          "mesh3d": [
           {
            "colorbar": {
             "outlinewidth": 0,
             "ticks": ""
            },
            "type": "mesh3d"
           }
          ],
          "parcoords": [
           {
            "line": {
             "colorbar": {
              "outlinewidth": 0,
              "ticks": ""
             }
            },
            "type": "parcoords"
           }
          ],
          "pie": [
           {
            "automargin": true,
            "type": "pie"
           }
          ],
          "scatter": [
           {
            "fillpattern": {
             "fillmode": "overlay",
             "size": 10,
             "solidity": 0.2
            },
            "type": "scatter"
           }
          ],
          "scatter3d": [
           {
            "line": {
             "colorbar": {
              "outlinewidth": 0,
              "ticks": ""
             }
            },
            "marker": {
             "colorbar": {
              "outlinewidth": 0,
              "ticks": ""
             }
            },
            "type": "scatter3d"
           }
          ],
          "scattercarpet": [
           {
            "marker": {
             "colorbar": {
              "outlinewidth": 0,
              "ticks": ""
             }
            },
            "type": "scattercarpet"
           }
          ],
          "scattergeo": [
           {
            "marker": {
             "colorbar": {
              "outlinewidth": 0,
              "ticks": ""
             }
            },
            "type": "scattergeo"
           }
          ],
          "scattergl": [
           {
            "marker": {
             "colorbar": {
              "outlinewidth": 0,
              "ticks": ""
             }
            },
            "type": "scattergl"
           }
          ],
          "scattermapbox": [
           {
            "marker": {
             "colorbar": {
              "outlinewidth": 0,
              "ticks": ""
             }
            },
            "type": "scattermapbox"
           }
          ],
          "scatterpolar": [
           {
            "marker": {
             "colorbar": {
              "outlinewidth": 0,
              "ticks": ""
             }
            },
            "type": "scatterpolar"
           }
          ],
          "scatterpolargl": [
           {
            "marker": {
             "colorbar": {
              "outlinewidth": 0,
              "ticks": ""
             }
            },
            "type": "scatterpolargl"
           }
          ],
          "scatterternary": [
           {
            "marker": {
             "colorbar": {
              "outlinewidth": 0,
              "ticks": ""
             }
            },
            "type": "scatterternary"
           }
          ],
          "surface": [
           {
            "colorbar": {
             "outlinewidth": 0,
             "ticks": ""
            },
            "colorscale": [
             [
              0,
              "#0d0887"
             ],
             [
              0.1111111111111111,
              "#46039f"
             ],
             [
              0.2222222222222222,
              "#7201a8"
             ],
             [
              0.3333333333333333,
              "#9c179e"
             ],
             [
              0.4444444444444444,
              "#bd3786"
             ],
             [
              0.5555555555555556,
              "#d8576b"
             ],
             [
              0.6666666666666666,
              "#ed7953"
             ],
             [
              0.7777777777777778,
              "#fb9f3a"
             ],
             [
              0.8888888888888888,
              "#fdca26"
             ],
             [
              1,
              "#f0f921"
             ]
            ],
            "type": "surface"
           }
          ],
          "table": [
           {
            "cells": {
             "fill": {
              "color": "#EBF0F8"
             },
             "line": {
              "color": "white"
             }
            },
            "header": {
             "fill": {
              "color": "#C8D4E3"
             },
             "line": {
              "color": "white"
             }
            },
            "type": "table"
           }
          ]
         },
         "layout": {
          "annotationdefaults": {
           "arrowcolor": "#2a3f5f",
           "arrowhead": 0,
           "arrowwidth": 1
          },
          "autotypenumbers": "strict",
          "coloraxis": {
           "colorbar": {
            "outlinewidth": 0,
            "ticks": ""
           }
          },
          "colorscale": {
           "diverging": [
            [
             0,
             "#8e0152"
            ],
            [
             0.1,
             "#c51b7d"
            ],
            [
             0.2,
             "#de77ae"
            ],
            [
             0.3,
             "#f1b6da"
            ],
            [
             0.4,
             "#fde0ef"
            ],
            [
             0.5,
             "#f7f7f7"
            ],
            [
             0.6,
             "#e6f5d0"
            ],
            [
             0.7,
             "#b8e186"
            ],
            [
             0.8,
             "#7fbc41"
            ],
            [
             0.9,
             "#4d9221"
            ],
            [
             1,
             "#276419"
            ]
           ],
           "sequential": [
            [
             0,
             "#0d0887"
            ],
            [
             0.1111111111111111,
             "#46039f"
            ],
            [
             0.2222222222222222,
             "#7201a8"
            ],
            [
             0.3333333333333333,
             "#9c179e"
            ],
            [
             0.4444444444444444,
             "#bd3786"
            ],
            [
             0.5555555555555556,
             "#d8576b"
            ],
            [
             0.6666666666666666,
             "#ed7953"
            ],
            [
             0.7777777777777778,
             "#fb9f3a"
            ],
            [
             0.8888888888888888,
             "#fdca26"
            ],
            [
             1,
             "#f0f921"
            ]
           ],
           "sequentialminus": [
            [
             0,
             "#0d0887"
            ],
            [
             0.1111111111111111,
             "#46039f"
            ],
            [
             0.2222222222222222,
             "#7201a8"
            ],
            [
             0.3333333333333333,
             "#9c179e"
            ],
            [
             0.4444444444444444,
             "#bd3786"
            ],
            [
             0.5555555555555556,
             "#d8576b"
            ],
            [
             0.6666666666666666,
             "#ed7953"
            ],
            [
             0.7777777777777778,
             "#fb9f3a"
            ],
            [
             0.8888888888888888,
             "#fdca26"
            ],
            [
             1,
             "#f0f921"
            ]
           ]
          },
          "colorway": [
           "#636efa",
           "#EF553B",
           "#00cc96",
           "#ab63fa",
           "#FFA15A",
           "#19d3f3",
           "#FF6692",
           "#B6E880",
           "#FF97FF",
           "#FECB52"
          ],
          "font": {
           "color": "#2a3f5f"
          },
          "geo": {
           "bgcolor": "white",
           "lakecolor": "white",
           "landcolor": "#E5ECF6",
           "showlakes": true,
           "showland": true,
           "subunitcolor": "white"
          },
          "hoverlabel": {
           "align": "left"
          },
          "hovermode": "closest",
          "mapbox": {
           "style": "light"
          },
          "paper_bgcolor": "white",
          "plot_bgcolor": "#E5ECF6",
          "polar": {
           "angularaxis": {
            "gridcolor": "white",
            "linecolor": "white",
            "ticks": ""
           },
           "bgcolor": "#E5ECF6",
           "radialaxis": {
            "gridcolor": "white",
            "linecolor": "white",
            "ticks": ""
           }
          },
          "scene": {
           "xaxis": {
            "backgroundcolor": "#E5ECF6",
            "gridcolor": "white",
            "gridwidth": 2,
            "linecolor": "white",
            "showbackground": true,
            "ticks": "",
            "zerolinecolor": "white"
           },
           "yaxis": {
            "backgroundcolor": "#E5ECF6",
            "gridcolor": "white",
            "gridwidth": 2,
            "linecolor": "white",
            "showbackground": true,
            "ticks": "",
            "zerolinecolor": "white"
           },
           "zaxis": {
            "backgroundcolor": "#E5ECF6",
            "gridcolor": "white",
            "gridwidth": 2,
            "linecolor": "white",
            "showbackground": true,
            "ticks": "",
            "zerolinecolor": "white"
           }
          },
          "shapedefaults": {
           "line": {
            "color": "#2a3f5f"
           }
          },
          "ternary": {
           "aaxis": {
            "gridcolor": "white",
            "linecolor": "white",
            "ticks": ""
           },
           "baxis": {
            "gridcolor": "white",
            "linecolor": "white",
            "ticks": ""
           },
           "bgcolor": "#E5ECF6",
           "caxis": {
            "gridcolor": "white",
            "linecolor": "white",
            "ticks": ""
           }
          },
          "title": {
           "x": 0.05
          },
          "xaxis": {
           "automargin": true,
           "gridcolor": "white",
           "linecolor": "white",
           "ticks": "",
           "title": {
            "standoff": 15
           },
           "zerolinecolor": "white",
           "zerolinewidth": 2
          },
          "yaxis": {
           "automargin": true,
           "gridcolor": "white",
           "linecolor": "white",
           "ticks": "",
           "title": {
            "standoff": 15
           },
           "zerolinecolor": "white",
           "zerolinewidth": 2
          }
         }
        },
        "xaxis": {
         "anchor": "y",
         "domain": [
          0,
          1
         ],
         "title": {
          "text": "LUNG_CANCER"
         }
        },
        "yaxis": {
         "anchor": "x",
         "domain": [
          0,
          1
         ],
         "title": {
          "text": "sum of counts"
         }
        }
       }
      }
     },
     "metadata": {},
     "output_type": "display_data"
    }
   ],
   "source": [
    "px.histogram(data_frame=dan, x=\"LUNG_CANCER\", y=\"counts\", color=\"ANXIETY\", barmode='group',\n",
    "             color_discrete_sequence=px.colors.qualitative.T10)\n"
   ]
  },
  {
   "cell_type": "markdown",
   "id": "da9985c1",
   "metadata": {},
   "source": [
    "# Análise da correlação da Pressão Alta e o Câncer de Pulmão"
   ]
  },
  {
   "cell_type": "code",
   "execution_count": 120,
   "id": "56b7ee2a",
   "metadata": {},
   "outputs": [
    {
     "data": {
      "text/html": [
       "<div>\n",
       "<style scoped>\n",
       "    .dataframe tbody tr th:only-of-type {\n",
       "        vertical-align: middle;\n",
       "    }\n",
       "\n",
       "    .dataframe tbody tr th {\n",
       "        vertical-align: top;\n",
       "    }\n",
       "\n",
       "    .dataframe thead th {\n",
       "        text-align: right;\n",
       "    }\n",
       "</style>\n",
       "<table border=\"1\" class=\"dataframe\">\n",
       "  <thead>\n",
       "    <tr style=\"text-align: right;\">\n",
       "      <th></th>\n",
       "      <th>PEER_PRESSURE</th>\n",
       "      <th>LUNG_CANCER</th>\n",
       "      <th>counts</th>\n",
       "    </tr>\n",
       "  </thead>\n",
       "  <tbody>\n",
       "    <tr>\n",
       "      <th>0</th>\n",
       "      <td>1</td>\n",
       "      <td>1</td>\n",
       "      <td>29</td>\n",
       "    </tr>\n",
       "    <tr>\n",
       "      <th>1</th>\n",
       "      <td>1</td>\n",
       "      <td>2</td>\n",
       "      <td>125</td>\n",
       "    </tr>\n",
       "    <tr>\n",
       "      <th>2</th>\n",
       "      <td>2</td>\n",
       "      <td>1</td>\n",
       "      <td>10</td>\n",
       "    </tr>\n",
       "    <tr>\n",
       "      <th>3</th>\n",
       "      <td>2</td>\n",
       "      <td>2</td>\n",
       "      <td>145</td>\n",
       "    </tr>\n",
       "  </tbody>\n",
       "</table>\n",
       "</div>"
      ],
      "text/plain": [
       "   PEER_PRESSURE  LUNG_CANCER  counts\n",
       "0              1            1      29\n",
       "1              1            2     125\n",
       "2              2            1      10\n",
       "3              2            2     145"
      ]
     },
     "execution_count": 120,
     "metadata": {},
     "output_type": "execute_result"
    }
   ],
   "source": [
    "#Gráfico correlativo de cancer and peer_pressure\n",
    "dpp = base.groupby(by=[\"PEER_PRESSURE\", \"LUNG_CANCER\"]).size().reset_index(name=\"counts\")\n",
    "dpp"
   ]
  },
  {
   "cell_type": "code",
   "execution_count": 121,
   "id": "69d8115e",
   "metadata": {},
   "outputs": [
    {
     "data": {
      "application/vnd.plotly.v1+json": {
       "config": {
        "plotlyServerURL": "https://plot.ly"
       },
       "data": [
        {
         "alignmentgroup": "True",
         "bingroup": "x",
         "histfunc": "sum",
         "hovertemplate": "PEER_PRESSURE=1<br>LUNG_CANCER=%{x}<br>sum of counts=%{y}<extra></extra>",
         "legendgroup": "1",
         "marker": {
          "color": "#AA0DFE",
          "pattern": {
           "shape": ""
          }
         },
         "name": "1",
         "offsetgroup": "1",
         "orientation": "v",
         "showlegend": true,
         "type": "histogram",
         "x": [
          1,
          2
         ],
         "xaxis": "x",
         "y": [
          29,
          125
         ],
         "yaxis": "y"
        },
        {
         "alignmentgroup": "True",
         "bingroup": "x",
         "histfunc": "sum",
         "hovertemplate": "PEER_PRESSURE=2<br>LUNG_CANCER=%{x}<br>sum of counts=%{y}<extra></extra>",
         "legendgroup": "2",
         "marker": {
          "color": "#3283FE",
          "pattern": {
           "shape": ""
          }
         },
         "name": "2",
         "offsetgroup": "2",
         "orientation": "v",
         "showlegend": true,
         "type": "histogram",
         "x": [
          1,
          2
         ],
         "xaxis": "x",
         "y": [
          10,
          145
         ],
         "yaxis": "y"
        }
       ],
       "layout": {
        "barmode": "group",
        "legend": {
         "title": {
          "text": "PEER_PRESSURE"
         },
         "tracegroupgap": 0
        },
        "margin": {
         "t": 60
        },
        "template": {
         "data": {
          "bar": [
           {
            "error_x": {
             "color": "#2a3f5f"
            },
            "error_y": {
             "color": "#2a3f5f"
            },
            "marker": {
             "line": {
              "color": "#E5ECF6",
              "width": 0.5
             },
             "pattern": {
              "fillmode": "overlay",
              "size": 10,
              "solidity": 0.2
             }
            },
            "type": "bar"
           }
          ],
          "barpolar": [
           {
            "marker": {
             "line": {
              "color": "#E5ECF6",
              "width": 0.5
             },
             "pattern": {
              "fillmode": "overlay",
              "size": 10,
              "solidity": 0.2
             }
            },
            "type": "barpolar"
           }
          ],
          "carpet": [
           {
            "aaxis": {
             "endlinecolor": "#2a3f5f",
             "gridcolor": "white",
             "linecolor": "white",
             "minorgridcolor": "white",
             "startlinecolor": "#2a3f5f"
            },
            "baxis": {
             "endlinecolor": "#2a3f5f",
             "gridcolor": "white",
             "linecolor": "white",
             "minorgridcolor": "white",
             "startlinecolor": "#2a3f5f"
            },
            "type": "carpet"
           }
          ],
          "choropleth": [
           {
            "colorbar": {
             "outlinewidth": 0,
             "ticks": ""
            },
            "type": "choropleth"
           }
          ],
          "contour": [
           {
            "colorbar": {
             "outlinewidth": 0,
             "ticks": ""
            },
            "colorscale": [
             [
              0,
              "#0d0887"
             ],
             [
              0.1111111111111111,
              "#46039f"
             ],
             [
              0.2222222222222222,
              "#7201a8"
             ],
             [
              0.3333333333333333,
              "#9c179e"
             ],
             [
              0.4444444444444444,
              "#bd3786"
             ],
             [
              0.5555555555555556,
              "#d8576b"
             ],
             [
              0.6666666666666666,
              "#ed7953"
             ],
             [
              0.7777777777777778,
              "#fb9f3a"
             ],
             [
              0.8888888888888888,
              "#fdca26"
             ],
             [
              1,
              "#f0f921"
             ]
            ],
            "type": "contour"
           }
          ],
          "contourcarpet": [
           {
            "colorbar": {
             "outlinewidth": 0,
             "ticks": ""
            },
            "type": "contourcarpet"
           }
          ],
          "heatmap": [
           {
            "colorbar": {
             "outlinewidth": 0,
             "ticks": ""
            },
            "colorscale": [
             [
              0,
              "#0d0887"
             ],
             [
              0.1111111111111111,
              "#46039f"
             ],
             [
              0.2222222222222222,
              "#7201a8"
             ],
             [
              0.3333333333333333,
              "#9c179e"
             ],
             [
              0.4444444444444444,
              "#bd3786"
             ],
             [
              0.5555555555555556,
              "#d8576b"
             ],
             [
              0.6666666666666666,
              "#ed7953"
             ],
             [
              0.7777777777777778,
              "#fb9f3a"
             ],
             [
              0.8888888888888888,
              "#fdca26"
             ],
             [
              1,
              "#f0f921"
             ]
            ],
            "type": "heatmap"
           }
          ],
          "heatmapgl": [
           {
            "colorbar": {
             "outlinewidth": 0,
             "ticks": ""
            },
            "colorscale": [
             [
              0,
              "#0d0887"
             ],
             [
              0.1111111111111111,
              "#46039f"
             ],
             [
              0.2222222222222222,
              "#7201a8"
             ],
             [
              0.3333333333333333,
              "#9c179e"
             ],
             [
              0.4444444444444444,
              "#bd3786"
             ],
             [
              0.5555555555555556,
              "#d8576b"
             ],
             [
              0.6666666666666666,
              "#ed7953"
             ],
             [
              0.7777777777777778,
              "#fb9f3a"
             ],
             [
              0.8888888888888888,
              "#fdca26"
             ],
             [
              1,
              "#f0f921"
             ]
            ],
            "type": "heatmapgl"
           }
          ],
          "histogram": [
           {
            "marker": {
             "pattern": {
              "fillmode": "overlay",
              "size": 10,
              "solidity": 0.2
             }
            },
            "type": "histogram"
           }
          ],
          "histogram2d": [
           {
            "colorbar": {
             "outlinewidth": 0,
             "ticks": ""
            },
            "colorscale": [
             [
              0,
              "#0d0887"
             ],
             [
              0.1111111111111111,
              "#46039f"
             ],
             [
              0.2222222222222222,
              "#7201a8"
             ],
             [
              0.3333333333333333,
              "#9c179e"
             ],
             [
              0.4444444444444444,
              "#bd3786"
             ],
             [
              0.5555555555555556,
              "#d8576b"
             ],
             [
              0.6666666666666666,
              "#ed7953"
             ],
             [
              0.7777777777777778,
              "#fb9f3a"
             ],
             [
              0.8888888888888888,
              "#fdca26"
             ],
             [
              1,
              "#f0f921"
             ]
            ],
            "type": "histogram2d"
           }
          ],
          "histogram2dcontour": [
           {
            "colorbar": {
             "outlinewidth": 0,
             "ticks": ""
            },
            "colorscale": [
             [
              0,
              "#0d0887"
             ],
             [
              0.1111111111111111,
              "#46039f"
             ],
             [
              0.2222222222222222,
              "#7201a8"
             ],
             [
              0.3333333333333333,
              "#9c179e"
             ],
             [
              0.4444444444444444,
              "#bd3786"
             ],
             [
              0.5555555555555556,
              "#d8576b"
             ],
             [
              0.6666666666666666,
              "#ed7953"
             ],
             [
              0.7777777777777778,
              "#fb9f3a"
             ],
             [
              0.8888888888888888,
              "#fdca26"
             ],
             [
              1,
              "#f0f921"
             ]
            ],
            "type": "histogram2dcontour"
           }
          ],
          "mesh3d": [
           {
            "colorbar": {
             "outlinewidth": 0,
             "ticks": ""
            },
            "type": "mesh3d"
           }
          ],
          "parcoords": [
           {
            "line": {
             "colorbar": {
              "outlinewidth": 0,
              "ticks": ""
             }
            },
            "type": "parcoords"
           }
          ],
          "pie": [
           {
            "automargin": true,
            "type": "pie"
           }
          ],
          "scatter": [
           {
            "fillpattern": {
             "fillmode": "overlay",
             "size": 10,
             "solidity": 0.2
            },
            "type": "scatter"
           }
          ],
          "scatter3d": [
           {
            "line": {
             "colorbar": {
              "outlinewidth": 0,
              "ticks": ""
             }
            },
            "marker": {
             "colorbar": {
              "outlinewidth": 0,
              "ticks": ""
             }
            },
            "type": "scatter3d"
           }
          ],
          "scattercarpet": [
           {
            "marker": {
             "colorbar": {
              "outlinewidth": 0,
              "ticks": ""
             }
            },
            "type": "scattercarpet"
           }
          ],
          "scattergeo": [
           {
            "marker": {
             "colorbar": {
              "outlinewidth": 0,
              "ticks": ""
             }
            },
            "type": "scattergeo"
           }
          ],
          "scattergl": [
           {
            "marker": {
             "colorbar": {
              "outlinewidth": 0,
              "ticks": ""
             }
            },
            "type": "scattergl"
           }
          ],
          "scattermapbox": [
           {
            "marker": {
             "colorbar": {
              "outlinewidth": 0,
              "ticks": ""
             }
            },
            "type": "scattermapbox"
           }
          ],
          "scatterpolar": [
           {
            "marker": {
             "colorbar": {
              "outlinewidth": 0,
              "ticks": ""
             }
            },
            "type": "scatterpolar"
           }
          ],
          "scatterpolargl": [
           {
            "marker": {
             "colorbar": {
              "outlinewidth": 0,
              "ticks": ""
             }
            },
            "type": "scatterpolargl"
           }
          ],
          "scatterternary": [
           {
            "marker": {
             "colorbar": {
              "outlinewidth": 0,
              "ticks": ""
             }
            },
            "type": "scatterternary"
           }
          ],
          "surface": [
           {
            "colorbar": {
             "outlinewidth": 0,
             "ticks": ""
            },
            "colorscale": [
             [
              0,
              "#0d0887"
             ],
             [
              0.1111111111111111,
              "#46039f"
             ],
             [
              0.2222222222222222,
              "#7201a8"
             ],
             [
              0.3333333333333333,
              "#9c179e"
             ],
             [
              0.4444444444444444,
              "#bd3786"
             ],
             [
              0.5555555555555556,
              "#d8576b"
             ],
             [
              0.6666666666666666,
              "#ed7953"
             ],
             [
              0.7777777777777778,
              "#fb9f3a"
             ],
             [
              0.8888888888888888,
              "#fdca26"
             ],
             [
              1,
              "#f0f921"
             ]
            ],
            "type": "surface"
           }
          ],
          "table": [
           {
            "cells": {
             "fill": {
              "color": "#EBF0F8"
             },
             "line": {
              "color": "white"
             }
            },
            "header": {
             "fill": {
              "color": "#C8D4E3"
             },
             "line": {
              "color": "white"
             }
            },
            "type": "table"
           }
          ]
         },
         "layout": {
          "annotationdefaults": {
           "arrowcolor": "#2a3f5f",
           "arrowhead": 0,
           "arrowwidth": 1
          },
          "autotypenumbers": "strict",
          "coloraxis": {
           "colorbar": {
            "outlinewidth": 0,
            "ticks": ""
           }
          },
          "colorscale": {
           "diverging": [
            [
             0,
             "#8e0152"
            ],
            [
             0.1,
             "#c51b7d"
            ],
            [
             0.2,
             "#de77ae"
            ],
            [
             0.3,
             "#f1b6da"
            ],
            [
             0.4,
             "#fde0ef"
            ],
            [
             0.5,
             "#f7f7f7"
            ],
            [
             0.6,
             "#e6f5d0"
            ],
            [
             0.7,
             "#b8e186"
            ],
            [
             0.8,
             "#7fbc41"
            ],
            [
             0.9,
             "#4d9221"
            ],
            [
             1,
             "#276419"
            ]
           ],
           "sequential": [
            [
             0,
             "#0d0887"
            ],
            [
             0.1111111111111111,
             "#46039f"
            ],
            [
             0.2222222222222222,
             "#7201a8"
            ],
            [
             0.3333333333333333,
             "#9c179e"
            ],
            [
             0.4444444444444444,
             "#bd3786"
            ],
            [
             0.5555555555555556,
             "#d8576b"
            ],
            [
             0.6666666666666666,
             "#ed7953"
            ],
            [
             0.7777777777777778,
             "#fb9f3a"
            ],
            [
             0.8888888888888888,
             "#fdca26"
            ],
            [
             1,
             "#f0f921"
            ]
           ],
           "sequentialminus": [
            [
             0,
             "#0d0887"
            ],
            [
             0.1111111111111111,
             "#46039f"
            ],
            [
             0.2222222222222222,
             "#7201a8"
            ],
            [
             0.3333333333333333,
             "#9c179e"
            ],
            [
             0.4444444444444444,
             "#bd3786"
            ],
            [
             0.5555555555555556,
             "#d8576b"
            ],
            [
             0.6666666666666666,
             "#ed7953"
            ],
            [
             0.7777777777777778,
             "#fb9f3a"
            ],
            [
             0.8888888888888888,
             "#fdca26"
            ],
            [
             1,
             "#f0f921"
            ]
           ]
          },
          "colorway": [
           "#636efa",
           "#EF553B",
           "#00cc96",
           "#ab63fa",
           "#FFA15A",
           "#19d3f3",
           "#FF6692",
           "#B6E880",
           "#FF97FF",
           "#FECB52"
          ],
          "font": {
           "color": "#2a3f5f"
          },
          "geo": {
           "bgcolor": "white",
           "lakecolor": "white",
           "landcolor": "#E5ECF6",
           "showlakes": true,
           "showland": true,
           "subunitcolor": "white"
          },
          "hoverlabel": {
           "align": "left"
          },
          "hovermode": "closest",
          "mapbox": {
           "style": "light"
          },
          "paper_bgcolor": "white",
          "plot_bgcolor": "#E5ECF6",
          "polar": {
           "angularaxis": {
            "gridcolor": "white",
            "linecolor": "white",
            "ticks": ""
           },
           "bgcolor": "#E5ECF6",
           "radialaxis": {
            "gridcolor": "white",
            "linecolor": "white",
            "ticks": ""
           }
          },
          "scene": {
           "xaxis": {
            "backgroundcolor": "#E5ECF6",
            "gridcolor": "white",
            "gridwidth": 2,
            "linecolor": "white",
            "showbackground": true,
            "ticks": "",
            "zerolinecolor": "white"
           },
           "yaxis": {
            "backgroundcolor": "#E5ECF6",
            "gridcolor": "white",
            "gridwidth": 2,
            "linecolor": "white",
            "showbackground": true,
            "ticks": "",
            "zerolinecolor": "white"
           },
           "zaxis": {
            "backgroundcolor": "#E5ECF6",
            "gridcolor": "white",
            "gridwidth": 2,
            "linecolor": "white",
            "showbackground": true,
            "ticks": "",
            "zerolinecolor": "white"
           }
          },
          "shapedefaults": {
           "line": {
            "color": "#2a3f5f"
           }
          },
          "ternary": {
           "aaxis": {
            "gridcolor": "white",
            "linecolor": "white",
            "ticks": ""
           },
           "baxis": {
            "gridcolor": "white",
            "linecolor": "white",
            "ticks": ""
           },
           "bgcolor": "#E5ECF6",
           "caxis": {
            "gridcolor": "white",
            "linecolor": "white",
            "ticks": ""
           }
          },
          "title": {
           "x": 0.05
          },
          "xaxis": {
           "automargin": true,
           "gridcolor": "white",
           "linecolor": "white",
           "ticks": "",
           "title": {
            "standoff": 15
           },
           "zerolinecolor": "white",
           "zerolinewidth": 2
          },
          "yaxis": {
           "automargin": true,
           "gridcolor": "white",
           "linecolor": "white",
           "ticks": "",
           "title": {
            "standoff": 15
           },
           "zerolinecolor": "white",
           "zerolinewidth": 2
          }
         }
        },
        "xaxis": {
         "anchor": "y",
         "domain": [
          0,
          1
         ],
         "title": {
          "text": "LUNG_CANCER"
         }
        },
        "yaxis": {
         "anchor": "x",
         "domain": [
          0,
          1
         ],
         "title": {
          "text": "sum of counts"
         }
        }
       }
      }
     },
     "metadata": {},
     "output_type": "display_data"
    }
   ],
   "source": [
    "px.histogram(data_frame=dpp, x=\"LUNG_CANCER\", y=\"counts\", color=\"PEER_PRESSURE\", barmode='group',\n",
    "             color_discrete_sequence=px.colors.qualitative.Alphabet)\n"
   ]
  },
  {
   "cell_type": "markdown",
   "id": "4fb926eb",
   "metadata": {},
   "source": [
    "# Análise da correlação da Respiração Curta e o Cancer de Pulmão"
   ]
  },
  {
   "cell_type": "code",
   "execution_count": 122,
   "id": "69ea58f0",
   "metadata": {},
   "outputs": [
    {
     "data": {
      "text/html": [
       "<div>\n",
       "<style scoped>\n",
       "    .dataframe tbody tr th:only-of-type {\n",
       "        vertical-align: middle;\n",
       "    }\n",
       "\n",
       "    .dataframe tbody tr th {\n",
       "        vertical-align: top;\n",
       "    }\n",
       "\n",
       "    .dataframe thead th {\n",
       "        text-align: right;\n",
       "    }\n",
       "</style>\n",
       "<table border=\"1\" class=\"dataframe\">\n",
       "  <thead>\n",
       "    <tr style=\"text-align: right;\">\n",
       "      <th></th>\n",
       "      <th>SHORTNESS OF BREATH</th>\n",
       "      <th>LUNG_CANCER</th>\n",
       "      <th>counts</th>\n",
       "    </tr>\n",
       "  </thead>\n",
       "  <tbody>\n",
       "    <tr>\n",
       "      <th>0</th>\n",
       "      <td>1</td>\n",
       "      <td>1</td>\n",
       "      <td>17</td>\n",
       "    </tr>\n",
       "    <tr>\n",
       "      <th>1</th>\n",
       "      <td>1</td>\n",
       "      <td>2</td>\n",
       "      <td>94</td>\n",
       "    </tr>\n",
       "    <tr>\n",
       "      <th>2</th>\n",
       "      <td>2</td>\n",
       "      <td>1</td>\n",
       "      <td>22</td>\n",
       "    </tr>\n",
       "    <tr>\n",
       "      <th>3</th>\n",
       "      <td>2</td>\n",
       "      <td>2</td>\n",
       "      <td>176</td>\n",
       "    </tr>\n",
       "  </tbody>\n",
       "</table>\n",
       "</div>"
      ],
      "text/plain": [
       "   SHORTNESS OF BREATH  LUNG_CANCER  counts\n",
       "0                    1            1      17\n",
       "1                    1            2      94\n",
       "2                    2            1      22\n",
       "3                    2            2     176"
      ]
     },
     "execution_count": 122,
     "metadata": {},
     "output_type": "execute_result"
    }
   ],
   "source": [
    "# Gráfico correlativo de cancer and shortness of breath\n",
    "dsb = base.groupby(by=[\"SHORTNESS OF BREATH\", \"LUNG_CANCER\"]).size().reset_index(name=\"counts\")\n",
    "dsb"
   ]
  },
  {
   "cell_type": "code",
   "execution_count": 123,
   "id": "470fd92d",
   "metadata": {},
   "outputs": [
    {
     "data": {
      "application/vnd.plotly.v1+json": {
       "config": {
        "plotlyServerURL": "https://plot.ly"
       },
       "data": [
        {
         "alignmentgroup": "True",
         "bingroup": "x",
         "histfunc": "sum",
         "hovertemplate": "PEER_PRESSURE=1<br>LUNG_CANCER=%{x}<br>sum of counts=%{y}<extra></extra>",
         "legendgroup": "1",
         "marker": {
          "color": "rgb(27,158,119)",
          "pattern": {
           "shape": ""
          }
         },
         "name": "1",
         "offsetgroup": "1",
         "orientation": "v",
         "showlegend": true,
         "type": "histogram",
         "x": [
          1,
          2
         ],
         "xaxis": "x",
         "y": [
          29,
          125
         ],
         "yaxis": "y"
        },
        {
         "alignmentgroup": "True",
         "bingroup": "x",
         "histfunc": "sum",
         "hovertemplate": "PEER_PRESSURE=2<br>LUNG_CANCER=%{x}<br>sum of counts=%{y}<extra></extra>",
         "legendgroup": "2",
         "marker": {
          "color": "rgb(217,95,2)",
          "pattern": {
           "shape": ""
          }
         },
         "name": "2",
         "offsetgroup": "2",
         "orientation": "v",
         "showlegend": true,
         "type": "histogram",
         "x": [
          1,
          2
         ],
         "xaxis": "x",
         "y": [
          10,
          145
         ],
         "yaxis": "y"
        }
       ],
       "layout": {
        "barmode": "group",
        "legend": {
         "title": {
          "text": "PEER_PRESSURE"
         },
         "tracegroupgap": 0
        },
        "margin": {
         "t": 60
        },
        "template": {
         "data": {
          "bar": [
           {
            "error_x": {
             "color": "#2a3f5f"
            },
            "error_y": {
             "color": "#2a3f5f"
            },
            "marker": {
             "line": {
              "color": "#E5ECF6",
              "width": 0.5
             },
             "pattern": {
              "fillmode": "overlay",
              "size": 10,
              "solidity": 0.2
             }
            },
            "type": "bar"
           }
          ],
          "barpolar": [
           {
            "marker": {
             "line": {
              "color": "#E5ECF6",
              "width": 0.5
             },
             "pattern": {
              "fillmode": "overlay",
              "size": 10,
              "solidity": 0.2
             }
            },
            "type": "barpolar"
           }
          ],
          "carpet": [
           {
            "aaxis": {
             "endlinecolor": "#2a3f5f",
             "gridcolor": "white",
             "linecolor": "white",
             "minorgridcolor": "white",
             "startlinecolor": "#2a3f5f"
            },
            "baxis": {
             "endlinecolor": "#2a3f5f",
             "gridcolor": "white",
             "linecolor": "white",
             "minorgridcolor": "white",
             "startlinecolor": "#2a3f5f"
            },
            "type": "carpet"
           }
          ],
          "choropleth": [
           {
            "colorbar": {
             "outlinewidth": 0,
             "ticks": ""
            },
            "type": "choropleth"
           }
          ],
          "contour": [
           {
            "colorbar": {
             "outlinewidth": 0,
             "ticks": ""
            },
            "colorscale": [
             [
              0,
              "#0d0887"
             ],
             [
              0.1111111111111111,
              "#46039f"
             ],
             [
              0.2222222222222222,
              "#7201a8"
             ],
             [
              0.3333333333333333,
              "#9c179e"
             ],
             [
              0.4444444444444444,
              "#bd3786"
             ],
             [
              0.5555555555555556,
              "#d8576b"
             ],
             [
              0.6666666666666666,
              "#ed7953"
             ],
             [
              0.7777777777777778,
              "#fb9f3a"
             ],
             [
              0.8888888888888888,
              "#fdca26"
             ],
             [
              1,
              "#f0f921"
             ]
            ],
            "type": "contour"
           }
          ],
          "contourcarpet": [
           {
            "colorbar": {
             "outlinewidth": 0,
             "ticks": ""
            },
            "type": "contourcarpet"
           }
          ],
          "heatmap": [
           {
            "colorbar": {
             "outlinewidth": 0,
             "ticks": ""
            },
            "colorscale": [
             [
              0,
              "#0d0887"
             ],
             [
              0.1111111111111111,
              "#46039f"
             ],
             [
              0.2222222222222222,
              "#7201a8"
             ],
             [
              0.3333333333333333,
              "#9c179e"
             ],
             [
              0.4444444444444444,
              "#bd3786"
             ],
             [
              0.5555555555555556,
              "#d8576b"
             ],
             [
              0.6666666666666666,
              "#ed7953"
             ],
             [
              0.7777777777777778,
              "#fb9f3a"
             ],
             [
              0.8888888888888888,
              "#fdca26"
             ],
             [
              1,
              "#f0f921"
             ]
            ],
            "type": "heatmap"
           }
          ],
          "heatmapgl": [
           {
            "colorbar": {
             "outlinewidth": 0,
             "ticks": ""
            },
            "colorscale": [
             [
              0,
              "#0d0887"
             ],
             [
              0.1111111111111111,
              "#46039f"
             ],
             [
              0.2222222222222222,
              "#7201a8"
             ],
             [
              0.3333333333333333,
              "#9c179e"
             ],
             [
              0.4444444444444444,
              "#bd3786"
             ],
             [
              0.5555555555555556,
              "#d8576b"
             ],
             [
              0.6666666666666666,
              "#ed7953"
             ],
             [
              0.7777777777777778,
              "#fb9f3a"
             ],
             [
              0.8888888888888888,
              "#fdca26"
             ],
             [
              1,
              "#f0f921"
             ]
            ],
            "type": "heatmapgl"
           }
          ],
          "histogram": [
           {
            "marker": {
             "pattern": {
              "fillmode": "overlay",
              "size": 10,
              "solidity": 0.2
             }
            },
            "type": "histogram"
           }
          ],
          "histogram2d": [
           {
            "colorbar": {
             "outlinewidth": 0,
             "ticks": ""
            },
            "colorscale": [
             [
              0,
              "#0d0887"
             ],
             [
              0.1111111111111111,
              "#46039f"
             ],
             [
              0.2222222222222222,
              "#7201a8"
             ],
             [
              0.3333333333333333,
              "#9c179e"
             ],
             [
              0.4444444444444444,
              "#bd3786"
             ],
             [
              0.5555555555555556,
              "#d8576b"
             ],
             [
              0.6666666666666666,
              "#ed7953"
             ],
             [
              0.7777777777777778,
              "#fb9f3a"
             ],
             [
              0.8888888888888888,
              "#fdca26"
             ],
             [
              1,
              "#f0f921"
             ]
            ],
            "type": "histogram2d"
           }
          ],
          "histogram2dcontour": [
           {
            "colorbar": {
             "outlinewidth": 0,
             "ticks": ""
            },
            "colorscale": [
             [
              0,
              "#0d0887"
             ],
             [
              0.1111111111111111,
              "#46039f"
             ],
             [
              0.2222222222222222,
              "#7201a8"
             ],
             [
              0.3333333333333333,
              "#9c179e"
             ],
             [
              0.4444444444444444,
              "#bd3786"
             ],
             [
              0.5555555555555556,
              "#d8576b"
             ],
             [
              0.6666666666666666,
              "#ed7953"
             ],
             [
              0.7777777777777778,
              "#fb9f3a"
             ],
             [
              0.8888888888888888,
              "#fdca26"
             ],
             [
              1,
              "#f0f921"
             ]
            ],
            "type": "histogram2dcontour"
           }
          ],
          "mesh3d": [
           {
            "colorbar": {
             "outlinewidth": 0,
             "ticks": ""
            },
            "type": "mesh3d"
           }
          ],
          "parcoords": [
           {
            "line": {
             "colorbar": {
              "outlinewidth": 0,
              "ticks": ""
             }
            },
            "type": "parcoords"
           }
          ],
          "pie": [
           {
            "automargin": true,
            "type": "pie"
           }
          ],
          "scatter": [
           {
            "fillpattern": {
             "fillmode": "overlay",
             "size": 10,
             "solidity": 0.2
            },
            "type": "scatter"
           }
          ],
          "scatter3d": [
           {
            "line": {
             "colorbar": {
              "outlinewidth": 0,
              "ticks": ""
             }
            },
            "marker": {
             "colorbar": {
              "outlinewidth": 0,
              "ticks": ""
             }
            },
            "type": "scatter3d"
           }
          ],
          "scattercarpet": [
           {
            "marker": {
             "colorbar": {
              "outlinewidth": 0,
              "ticks": ""
             }
            },
            "type": "scattercarpet"
           }
          ],
          "scattergeo": [
           {
            "marker": {
             "colorbar": {
              "outlinewidth": 0,
              "ticks": ""
             }
            },
            "type": "scattergeo"
           }
          ],
          "scattergl": [
           {
            "marker": {
             "colorbar": {
              "outlinewidth": 0,
              "ticks": ""
             }
            },
            "type": "scattergl"
           }
          ],
          "scattermapbox": [
           {
            "marker": {
             "colorbar": {
              "outlinewidth": 0,
              "ticks": ""
             }
            },
            "type": "scattermapbox"
           }
          ],
          "scatterpolar": [
           {
            "marker": {
             "colorbar": {
              "outlinewidth": 0,
              "ticks": ""
             }
            },
            "type": "scatterpolar"
           }
          ],
          "scatterpolargl": [
           {
            "marker": {
             "colorbar": {
              "outlinewidth": 0,
              "ticks": ""
             }
            },
            "type": "scatterpolargl"
           }
          ],
          "scatterternary": [
           {
            "marker": {
             "colorbar": {
              "outlinewidth": 0,
              "ticks": ""
             }
            },
            "type": "scatterternary"
           }
          ],
          "surface": [
           {
            "colorbar": {
             "outlinewidth": 0,
             "ticks": ""
            },
            "colorscale": [
             [
              0,
              "#0d0887"
             ],
             [
              0.1111111111111111,
              "#46039f"
             ],
             [
              0.2222222222222222,
              "#7201a8"
             ],
             [
              0.3333333333333333,
              "#9c179e"
             ],
             [
              0.4444444444444444,
              "#bd3786"
             ],
             [
              0.5555555555555556,
              "#d8576b"
             ],
             [
              0.6666666666666666,
              "#ed7953"
             ],
             [
              0.7777777777777778,
              "#fb9f3a"
             ],
             [
              0.8888888888888888,
              "#fdca26"
             ],
             [
              1,
              "#f0f921"
             ]
            ],
            "type": "surface"
           }
          ],
          "table": [
           {
            "cells": {
             "fill": {
              "color": "#EBF0F8"
             },
             "line": {
              "color": "white"
             }
            },
            "header": {
             "fill": {
              "color": "#C8D4E3"
             },
             "line": {
              "color": "white"
             }
            },
            "type": "table"
           }
          ]
         },
         "layout": {
          "annotationdefaults": {
           "arrowcolor": "#2a3f5f",
           "arrowhead": 0,
           "arrowwidth": 1
          },
          "autotypenumbers": "strict",
          "coloraxis": {
           "colorbar": {
            "outlinewidth": 0,
            "ticks": ""
           }
          },
          "colorscale": {
           "diverging": [
            [
             0,
             "#8e0152"
            ],
            [
             0.1,
             "#c51b7d"
            ],
            [
             0.2,
             "#de77ae"
            ],
            [
             0.3,
             "#f1b6da"
            ],
            [
             0.4,
             "#fde0ef"
            ],
            [
             0.5,
             "#f7f7f7"
            ],
            [
             0.6,
             "#e6f5d0"
            ],
            [
             0.7,
             "#b8e186"
            ],
            [
             0.8,
             "#7fbc41"
            ],
            [
             0.9,
             "#4d9221"
            ],
            [
             1,
             "#276419"
            ]
           ],
           "sequential": [
            [
             0,
             "#0d0887"
            ],
            [
             0.1111111111111111,
             "#46039f"
            ],
            [
             0.2222222222222222,
             "#7201a8"
            ],
            [
             0.3333333333333333,
             "#9c179e"
            ],
            [
             0.4444444444444444,
             "#bd3786"
            ],
            [
             0.5555555555555556,
             "#d8576b"
            ],
            [
             0.6666666666666666,
             "#ed7953"
            ],
            [
             0.7777777777777778,
             "#fb9f3a"
            ],
            [
             0.8888888888888888,
             "#fdca26"
            ],
            [
             1,
             "#f0f921"
            ]
           ],
           "sequentialminus": [
            [
             0,
             "#0d0887"
            ],
            [
             0.1111111111111111,
             "#46039f"
            ],
            [
             0.2222222222222222,
             "#7201a8"
            ],
            [
             0.3333333333333333,
             "#9c179e"
            ],
            [
             0.4444444444444444,
             "#bd3786"
            ],
            [
             0.5555555555555556,
             "#d8576b"
            ],
            [
             0.6666666666666666,
             "#ed7953"
            ],
            [
             0.7777777777777778,
             "#fb9f3a"
            ],
            [
             0.8888888888888888,
             "#fdca26"
            ],
            [
             1,
             "#f0f921"
            ]
           ]
          },
          "colorway": [
           "#636efa",
           "#EF553B",
           "#00cc96",
           "#ab63fa",
           "#FFA15A",
           "#19d3f3",
           "#FF6692",
           "#B6E880",
           "#FF97FF",
           "#FECB52"
          ],
          "font": {
           "color": "#2a3f5f"
          },
          "geo": {
           "bgcolor": "white",
           "lakecolor": "white",
           "landcolor": "#E5ECF6",
           "showlakes": true,
           "showland": true,
           "subunitcolor": "white"
          },
          "hoverlabel": {
           "align": "left"
          },
          "hovermode": "closest",
          "mapbox": {
           "style": "light"
          },
          "paper_bgcolor": "white",
          "plot_bgcolor": "#E5ECF6",
          "polar": {
           "angularaxis": {
            "gridcolor": "white",
            "linecolor": "white",
            "ticks": ""
           },
           "bgcolor": "#E5ECF6",
           "radialaxis": {
            "gridcolor": "white",
            "linecolor": "white",
            "ticks": ""
           }
          },
          "scene": {
           "xaxis": {
            "backgroundcolor": "#E5ECF6",
            "gridcolor": "white",
            "gridwidth": 2,
            "linecolor": "white",
            "showbackground": true,
            "ticks": "",
            "zerolinecolor": "white"
           },
           "yaxis": {
            "backgroundcolor": "#E5ECF6",
            "gridcolor": "white",
            "gridwidth": 2,
            "linecolor": "white",
            "showbackground": true,
            "ticks": "",
            "zerolinecolor": "white"
           },
           "zaxis": {
            "backgroundcolor": "#E5ECF6",
            "gridcolor": "white",
            "gridwidth": 2,
            "linecolor": "white",
            "showbackground": true,
            "ticks": "",
            "zerolinecolor": "white"
           }
          },
          "shapedefaults": {
           "line": {
            "color": "#2a3f5f"
           }
          },
          "ternary": {
           "aaxis": {
            "gridcolor": "white",
            "linecolor": "white",
            "ticks": ""
           },
           "baxis": {
            "gridcolor": "white",
            "linecolor": "white",
            "ticks": ""
           },
           "bgcolor": "#E5ECF6",
           "caxis": {
            "gridcolor": "white",
            "linecolor": "white",
            "ticks": ""
           }
          },
          "title": {
           "x": 0.05
          },
          "xaxis": {
           "automargin": true,
           "gridcolor": "white",
           "linecolor": "white",
           "ticks": "",
           "title": {
            "standoff": 15
           },
           "zerolinecolor": "white",
           "zerolinewidth": 2
          },
          "yaxis": {
           "automargin": true,
           "gridcolor": "white",
           "linecolor": "white",
           "ticks": "",
           "title": {
            "standoff": 15
           },
           "zerolinecolor": "white",
           "zerolinewidth": 2
          }
         }
        },
        "xaxis": {
         "anchor": "y",
         "domain": [
          0,
          1
         ],
         "title": {
          "text": "LUNG_CANCER"
         }
        },
        "yaxis": {
         "anchor": "x",
         "domain": [
          0,
          1
         ],
         "title": {
          "text": "sum of counts"
         }
        }
       }
      }
     },
     "metadata": {},
     "output_type": "display_data"
    }
   ],
   "source": [
    "px.histogram(data_frame=dpp, x=\"LUNG_CANCER\", y=\"counts\", color=\"PEER_PRESSURE\", barmode='group',\n",
    "             color_discrete_sequence=px.colors.qualitative.Dark2)"
   ]
  },
  {
   "cell_type": "markdown",
   "id": "dbc70d23",
   "metadata": {},
   "source": [
    "# Análise da correlação da Dificuldade de Deglutição e o Câncer de Pulmão"
   ]
  },
  {
   "cell_type": "code",
   "execution_count": 124,
   "id": "1605ee7a",
   "metadata": {},
   "outputs": [
    {
     "data": {
      "text/html": [
       "<div>\n",
       "<style scoped>\n",
       "    .dataframe tbody tr th:only-of-type {\n",
       "        vertical-align: middle;\n",
       "    }\n",
       "\n",
       "    .dataframe tbody tr th {\n",
       "        vertical-align: top;\n",
       "    }\n",
       "\n",
       "    .dataframe thead th {\n",
       "        text-align: right;\n",
       "    }\n",
       "</style>\n",
       "<table border=\"1\" class=\"dataframe\">\n",
       "  <thead>\n",
       "    <tr style=\"text-align: right;\">\n",
       "      <th></th>\n",
       "      <th>SWALLOWING DIFFICULTY</th>\n",
       "      <th>LUNG_CANCER</th>\n",
       "      <th>counts</th>\n",
       "    </tr>\n",
       "  </thead>\n",
       "  <tbody>\n",
       "    <tr>\n",
       "      <th>0</th>\n",
       "      <td>1</td>\n",
       "      <td>1</td>\n",
       "      <td>34</td>\n",
       "    </tr>\n",
       "    <tr>\n",
       "      <th>1</th>\n",
       "      <td>1</td>\n",
       "      <td>2</td>\n",
       "      <td>130</td>\n",
       "    </tr>\n",
       "    <tr>\n",
       "      <th>2</th>\n",
       "      <td>2</td>\n",
       "      <td>1</td>\n",
       "      <td>5</td>\n",
       "    </tr>\n",
       "    <tr>\n",
       "      <th>3</th>\n",
       "      <td>2</td>\n",
       "      <td>2</td>\n",
       "      <td>140</td>\n",
       "    </tr>\n",
       "  </tbody>\n",
       "</table>\n",
       "</div>"
      ],
      "text/plain": [
       "   SWALLOWING DIFFICULTY  LUNG_CANCER  counts\n",
       "0                      1            1      34\n",
       "1                      1            2     130\n",
       "2                      2            1       5\n",
       "3                      2            2     140"
      ]
     },
     "execution_count": 124,
     "metadata": {},
     "output_type": "execute_result"
    }
   ],
   "source": [
    "dsd = base.groupby(by=[\"SWALLOWING DIFFICULTY\", \"LUNG_CANCER\"]).size().reset_index(name=\"counts\")\n",
    "dsd"
   ]
  },
  {
   "cell_type": "code",
   "execution_count": 125,
   "id": "9ba21e1c",
   "metadata": {},
   "outputs": [
    {
     "data": {
      "application/vnd.plotly.v1+json": {
       "config": {
        "plotlyServerURL": "https://plot.ly"
       },
       "data": [
        {
         "alignmentgroup": "True",
         "bingroup": "x",
         "histfunc": "sum",
         "hovertemplate": "SWALLOWING DIFFICULTY=1<br>LUNG_CANCER=%{x}<br>sum of counts=%{y}<extra></extra>",
         "legendgroup": "1",
         "marker": {
          "color": "#2E91E5",
          "pattern": {
           "shape": ""
          }
         },
         "name": "1",
         "offsetgroup": "1",
         "orientation": "v",
         "showlegend": true,
         "type": "histogram",
         "x": [
          1,
          2
         ],
         "xaxis": "x",
         "y": [
          34,
          130
         ],
         "yaxis": "y"
        },
        {
         "alignmentgroup": "True",
         "bingroup": "x",
         "histfunc": "sum",
         "hovertemplate": "SWALLOWING DIFFICULTY=2<br>LUNG_CANCER=%{x}<br>sum of counts=%{y}<extra></extra>",
         "legendgroup": "2",
         "marker": {
          "color": "#E15F99",
          "pattern": {
           "shape": ""
          }
         },
         "name": "2",
         "offsetgroup": "2",
         "orientation": "v",
         "showlegend": true,
         "type": "histogram",
         "x": [
          1,
          2
         ],
         "xaxis": "x",
         "y": [
          5,
          140
         ],
         "yaxis": "y"
        }
       ],
       "layout": {
        "barmode": "group",
        "legend": {
         "title": {
          "text": "SWALLOWING DIFFICULTY"
         },
         "tracegroupgap": 0
        },
        "margin": {
         "t": 60
        },
        "template": {
         "data": {
          "bar": [
           {
            "error_x": {
             "color": "#2a3f5f"
            },
            "error_y": {
             "color": "#2a3f5f"
            },
            "marker": {
             "line": {
              "color": "#E5ECF6",
              "width": 0.5
             },
             "pattern": {
              "fillmode": "overlay",
              "size": 10,
              "solidity": 0.2
             }
            },
            "type": "bar"
           }
          ],
          "barpolar": [
           {
            "marker": {
             "line": {
              "color": "#E5ECF6",
              "width": 0.5
             },
             "pattern": {
              "fillmode": "overlay",
              "size": 10,
              "solidity": 0.2
             }
            },
            "type": "barpolar"
           }
          ],
          "carpet": [
           {
            "aaxis": {
             "endlinecolor": "#2a3f5f",
             "gridcolor": "white",
             "linecolor": "white",
             "minorgridcolor": "white",
             "startlinecolor": "#2a3f5f"
            },
            "baxis": {
             "endlinecolor": "#2a3f5f",
             "gridcolor": "white",
             "linecolor": "white",
             "minorgridcolor": "white",
             "startlinecolor": "#2a3f5f"
            },
            "type": "carpet"
           }
          ],
          "choropleth": [
           {
            "colorbar": {
             "outlinewidth": 0,
             "ticks": ""
            },
            "type": "choropleth"
           }
          ],
          "contour": [
           {
            "colorbar": {
             "outlinewidth": 0,
             "ticks": ""
            },
            "colorscale": [
             [
              0,
              "#0d0887"
             ],
             [
              0.1111111111111111,
              "#46039f"
             ],
             [
              0.2222222222222222,
              "#7201a8"
             ],
             [
              0.3333333333333333,
              "#9c179e"
             ],
             [
              0.4444444444444444,
              "#bd3786"
             ],
             [
              0.5555555555555556,
              "#d8576b"
             ],
             [
              0.6666666666666666,
              "#ed7953"
             ],
             [
              0.7777777777777778,
              "#fb9f3a"
             ],
             [
              0.8888888888888888,
              "#fdca26"
             ],
             [
              1,
              "#f0f921"
             ]
            ],
            "type": "contour"
           }
          ],
          "contourcarpet": [
           {
            "colorbar": {
             "outlinewidth": 0,
             "ticks": ""
            },
            "type": "contourcarpet"
           }
          ],
          "heatmap": [
           {
            "colorbar": {
             "outlinewidth": 0,
             "ticks": ""
            },
            "colorscale": [
             [
              0,
              "#0d0887"
             ],
             [
              0.1111111111111111,
              "#46039f"
             ],
             [
              0.2222222222222222,
              "#7201a8"
             ],
             [
              0.3333333333333333,
              "#9c179e"
             ],
             [
              0.4444444444444444,
              "#bd3786"
             ],
             [
              0.5555555555555556,
              "#d8576b"
             ],
             [
              0.6666666666666666,
              "#ed7953"
             ],
             [
              0.7777777777777778,
              "#fb9f3a"
             ],
             [
              0.8888888888888888,
              "#fdca26"
             ],
             [
              1,
              "#f0f921"
             ]
            ],
            "type": "heatmap"
           }
          ],
          "heatmapgl": [
           {
            "colorbar": {
             "outlinewidth": 0,
             "ticks": ""
            },
            "colorscale": [
             [
              0,
              "#0d0887"
             ],
             [
              0.1111111111111111,
              "#46039f"
             ],
             [
              0.2222222222222222,
              "#7201a8"
             ],
             [
              0.3333333333333333,
              "#9c179e"
             ],
             [
              0.4444444444444444,
              "#bd3786"
             ],
             [
              0.5555555555555556,
              "#d8576b"
             ],
             [
              0.6666666666666666,
              "#ed7953"
             ],
             [
              0.7777777777777778,
              "#fb9f3a"
             ],
             [
              0.8888888888888888,
              "#fdca26"
             ],
             [
              1,
              "#f0f921"
             ]
            ],
            "type": "heatmapgl"
           }
          ],
          "histogram": [
           {
            "marker": {
             "pattern": {
              "fillmode": "overlay",
              "size": 10,
              "solidity": 0.2
             }
            },
            "type": "histogram"
           }
          ],
          "histogram2d": [
           {
            "colorbar": {
             "outlinewidth": 0,
             "ticks": ""
            },
            "colorscale": [
             [
              0,
              "#0d0887"
             ],
             [
              0.1111111111111111,
              "#46039f"
             ],
             [
              0.2222222222222222,
              "#7201a8"
             ],
             [
              0.3333333333333333,
              "#9c179e"
             ],
             [
              0.4444444444444444,
              "#bd3786"
             ],
             [
              0.5555555555555556,
              "#d8576b"
             ],
             [
              0.6666666666666666,
              "#ed7953"
             ],
             [
              0.7777777777777778,
              "#fb9f3a"
             ],
             [
              0.8888888888888888,
              "#fdca26"
             ],
             [
              1,
              "#f0f921"
             ]
            ],
            "type": "histogram2d"
           }
          ],
          "histogram2dcontour": [
           {
            "colorbar": {
             "outlinewidth": 0,
             "ticks": ""
            },
            "colorscale": [
             [
              0,
              "#0d0887"
             ],
             [
              0.1111111111111111,
              "#46039f"
             ],
             [
              0.2222222222222222,
              "#7201a8"
             ],
             [
              0.3333333333333333,
              "#9c179e"
             ],
             [
              0.4444444444444444,
              "#bd3786"
             ],
             [
              0.5555555555555556,
              "#d8576b"
             ],
             [
              0.6666666666666666,
              "#ed7953"
             ],
             [
              0.7777777777777778,
              "#fb9f3a"
             ],
             [
              0.8888888888888888,
              "#fdca26"
             ],
             [
              1,
              "#f0f921"
             ]
            ],
            "type": "histogram2dcontour"
           }
          ],
          "mesh3d": [
           {
            "colorbar": {
             "outlinewidth": 0,
             "ticks": ""
            },
            "type": "mesh3d"
           }
          ],
          "parcoords": [
           {
            "line": {
             "colorbar": {
              "outlinewidth": 0,
              "ticks": ""
             }
            },
            "type": "parcoords"
           }
          ],
          "pie": [
           {
            "automargin": true,
            "type": "pie"
           }
          ],
          "scatter": [
           {
            "fillpattern": {
             "fillmode": "overlay",
             "size": 10,
             "solidity": 0.2
            },
            "type": "scatter"
           }
          ],
          "scatter3d": [
           {
            "line": {
             "colorbar": {
              "outlinewidth": 0,
              "ticks": ""
             }
            },
            "marker": {
             "colorbar": {
              "outlinewidth": 0,
              "ticks": ""
             }
            },
            "type": "scatter3d"
           }
          ],
          "scattercarpet": [
           {
            "marker": {
             "colorbar": {
              "outlinewidth": 0,
              "ticks": ""
             }
            },
            "type": "scattercarpet"
           }
          ],
          "scattergeo": [
           {
            "marker": {
             "colorbar": {
              "outlinewidth": 0,
              "ticks": ""
             }
            },
            "type": "scattergeo"
           }
          ],
          "scattergl": [
           {
            "marker": {
             "colorbar": {
              "outlinewidth": 0,
              "ticks": ""
             }
            },
            "type": "scattergl"
           }
          ],
          "scattermapbox": [
           {
            "marker": {
             "colorbar": {
              "outlinewidth": 0,
              "ticks": ""
             }
            },
            "type": "scattermapbox"
           }
          ],
          "scatterpolar": [
           {
            "marker": {
             "colorbar": {
              "outlinewidth": 0,
              "ticks": ""
             }
            },
            "type": "scatterpolar"
           }
          ],
          "scatterpolargl": [
           {
            "marker": {
             "colorbar": {
              "outlinewidth": 0,
              "ticks": ""
             }
            },
            "type": "scatterpolargl"
           }
          ],
          "scatterternary": [
           {
            "marker": {
             "colorbar": {
              "outlinewidth": 0,
              "ticks": ""
             }
            },
            "type": "scatterternary"
           }
          ],
          "surface": [
           {
            "colorbar": {
             "outlinewidth": 0,
             "ticks": ""
            },
            "colorscale": [
             [
              0,
              "#0d0887"
             ],
             [
              0.1111111111111111,
              "#46039f"
             ],
             [
              0.2222222222222222,
              "#7201a8"
             ],
             [
              0.3333333333333333,
              "#9c179e"
             ],
             [
              0.4444444444444444,
              "#bd3786"
             ],
             [
              0.5555555555555556,
              "#d8576b"
             ],
             [
              0.6666666666666666,
              "#ed7953"
             ],
             [
              0.7777777777777778,
              "#fb9f3a"
             ],
             [
              0.8888888888888888,
              "#fdca26"
             ],
             [
              1,
              "#f0f921"
             ]
            ],
            "type": "surface"
           }
          ],
          "table": [
           {
            "cells": {
             "fill": {
              "color": "#EBF0F8"
             },
             "line": {
              "color": "white"
             }
            },
            "header": {
             "fill": {
              "color": "#C8D4E3"
             },
             "line": {
              "color": "white"
             }
            },
            "type": "table"
           }
          ]
         },
         "layout": {
          "annotationdefaults": {
           "arrowcolor": "#2a3f5f",
           "arrowhead": 0,
           "arrowwidth": 1
          },
          "autotypenumbers": "strict",
          "coloraxis": {
           "colorbar": {
            "outlinewidth": 0,
            "ticks": ""
           }
          },
          "colorscale": {
           "diverging": [
            [
             0,
             "#8e0152"
            ],
            [
             0.1,
             "#c51b7d"
            ],
            [
             0.2,
             "#de77ae"
            ],
            [
             0.3,
             "#f1b6da"
            ],
            [
             0.4,
             "#fde0ef"
            ],
            [
             0.5,
             "#f7f7f7"
            ],
            [
             0.6,
             "#e6f5d0"
            ],
            [
             0.7,
             "#b8e186"
            ],
            [
             0.8,
             "#7fbc41"
            ],
            [
             0.9,
             "#4d9221"
            ],
            [
             1,
             "#276419"
            ]
           ],
           "sequential": [
            [
             0,
             "#0d0887"
            ],
            [
             0.1111111111111111,
             "#46039f"
            ],
            [
             0.2222222222222222,
             "#7201a8"
            ],
            [
             0.3333333333333333,
             "#9c179e"
            ],
            [
             0.4444444444444444,
             "#bd3786"
            ],
            [
             0.5555555555555556,
             "#d8576b"
            ],
            [
             0.6666666666666666,
             "#ed7953"
            ],
            [
             0.7777777777777778,
             "#fb9f3a"
            ],
            [
             0.8888888888888888,
             "#fdca26"
            ],
            [
             1,
             "#f0f921"
            ]
           ],
           "sequentialminus": [
            [
             0,
             "#0d0887"
            ],
            [
             0.1111111111111111,
             "#46039f"
            ],
            [
             0.2222222222222222,
             "#7201a8"
            ],
            [
             0.3333333333333333,
             "#9c179e"
            ],
            [
             0.4444444444444444,
             "#bd3786"
            ],
            [
             0.5555555555555556,
             "#d8576b"
            ],
            [
             0.6666666666666666,
             "#ed7953"
            ],
            [
             0.7777777777777778,
             "#fb9f3a"
            ],
            [
             0.8888888888888888,
             "#fdca26"
            ],
            [
             1,
             "#f0f921"
            ]
           ]
          },
          "colorway": [
           "#636efa",
           "#EF553B",
           "#00cc96",
           "#ab63fa",
           "#FFA15A",
           "#19d3f3",
           "#FF6692",
           "#B6E880",
           "#FF97FF",
           "#FECB52"
          ],
          "font": {
           "color": "#2a3f5f"
          },
          "geo": {
           "bgcolor": "white",
           "lakecolor": "white",
           "landcolor": "#E5ECF6",
           "showlakes": true,
           "showland": true,
           "subunitcolor": "white"
          },
          "hoverlabel": {
           "align": "left"
          },
          "hovermode": "closest",
          "mapbox": {
           "style": "light"
          },
          "paper_bgcolor": "white",
          "plot_bgcolor": "#E5ECF6",
          "polar": {
           "angularaxis": {
            "gridcolor": "white",
            "linecolor": "white",
            "ticks": ""
           },
           "bgcolor": "#E5ECF6",
           "radialaxis": {
            "gridcolor": "white",
            "linecolor": "white",
            "ticks": ""
           }
          },
          "scene": {
           "xaxis": {
            "backgroundcolor": "#E5ECF6",
            "gridcolor": "white",
            "gridwidth": 2,
            "linecolor": "white",
            "showbackground": true,
            "ticks": "",
            "zerolinecolor": "white"
           },
           "yaxis": {
            "backgroundcolor": "#E5ECF6",
            "gridcolor": "white",
            "gridwidth": 2,
            "linecolor": "white",
            "showbackground": true,
            "ticks": "",
            "zerolinecolor": "white"
           },
           "zaxis": {
            "backgroundcolor": "#E5ECF6",
            "gridcolor": "white",
            "gridwidth": 2,
            "linecolor": "white",
            "showbackground": true,
            "ticks": "",
            "zerolinecolor": "white"
           }
          },
          "shapedefaults": {
           "line": {
            "color": "#2a3f5f"
           }
          },
          "ternary": {
           "aaxis": {
            "gridcolor": "white",
            "linecolor": "white",
            "ticks": ""
           },
           "baxis": {
            "gridcolor": "white",
            "linecolor": "white",
            "ticks": ""
           },
           "bgcolor": "#E5ECF6",
           "caxis": {
            "gridcolor": "white",
            "linecolor": "white",
            "ticks": ""
           }
          },
          "title": {
           "x": 0.05
          },
          "xaxis": {
           "automargin": true,
           "gridcolor": "white",
           "linecolor": "white",
           "ticks": "",
           "title": {
            "standoff": 15
           },
           "zerolinecolor": "white",
           "zerolinewidth": 2
          },
          "yaxis": {
           "automargin": true,
           "gridcolor": "white",
           "linecolor": "white",
           "ticks": "",
           "title": {
            "standoff": 15
           },
           "zerolinecolor": "white",
           "zerolinewidth": 2
          }
         }
        },
        "xaxis": {
         "anchor": "y",
         "domain": [
          0,
          1
         ],
         "title": {
          "text": "LUNG_CANCER"
         }
        },
        "yaxis": {
         "anchor": "x",
         "domain": [
          0,
          1
         ],
         "title": {
          "text": "sum of counts"
         }
        }
       }
      }
     },
     "metadata": {},
     "output_type": "display_data"
    }
   ],
   "source": [
    "px.histogram(data_frame=dsd, x=\"LUNG_CANCER\", y=\"counts\", color=\"SWALLOWING DIFFICULTY\", barmode='group',\n",
    "             color_discrete_sequence=px.colors.qualitative.Dark24)"
   ]
  },
  {
   "cell_type": "markdown",
   "id": "c7c2b8d7",
   "metadata": {},
   "source": [
    "# Análise da correlação da Dor no Peito e o Câncer de Pulmão"
   ]
  },
  {
   "cell_type": "code",
   "execution_count": 126,
   "id": "48fccfe5",
   "metadata": {},
   "outputs": [
    {
     "data": {
      "text/html": [
       "<div>\n",
       "<style scoped>\n",
       "    .dataframe tbody tr th:only-of-type {\n",
       "        vertical-align: middle;\n",
       "    }\n",
       "\n",
       "    .dataframe tbody tr th {\n",
       "        vertical-align: top;\n",
       "    }\n",
       "\n",
       "    .dataframe thead th {\n",
       "        text-align: right;\n",
       "    }\n",
       "</style>\n",
       "<table border=\"1\" class=\"dataframe\">\n",
       "  <thead>\n",
       "    <tr style=\"text-align: right;\">\n",
       "      <th></th>\n",
       "      <th>CHEST PAIN</th>\n",
       "      <th>LUNG_CANCER</th>\n",
       "      <th>counts</th>\n",
       "    </tr>\n",
       "  </thead>\n",
       "  <tbody>\n",
       "    <tr>\n",
       "      <th>0</th>\n",
       "      <td>1</td>\n",
       "      <td>1</td>\n",
       "      <td>27</td>\n",
       "    </tr>\n",
       "    <tr>\n",
       "      <th>1</th>\n",
       "      <td>1</td>\n",
       "      <td>2</td>\n",
       "      <td>110</td>\n",
       "    </tr>\n",
       "    <tr>\n",
       "      <th>2</th>\n",
       "      <td>2</td>\n",
       "      <td>1</td>\n",
       "      <td>12</td>\n",
       "    </tr>\n",
       "    <tr>\n",
       "      <th>3</th>\n",
       "      <td>2</td>\n",
       "      <td>2</td>\n",
       "      <td>160</td>\n",
       "    </tr>\n",
       "  </tbody>\n",
       "</table>\n",
       "</div>"
      ],
      "text/plain": [
       "   CHEST PAIN  LUNG_CANCER  counts\n",
       "0           1            1      27\n",
       "1           1            2     110\n",
       "2           2            1      12\n",
       "3           2            2     160"
      ]
     },
     "execution_count": 126,
     "metadata": {},
     "output_type": "execute_result"
    }
   ],
   "source": [
    "dcp = base.groupby(by=[\"CHEST PAIN\", \"LUNG_CANCER\"]).size().reset_index(name=\"counts\")\n",
    "dcp"
   ]
  },
  {
   "cell_type": "code",
   "execution_count": 127,
   "id": "569a0b00",
   "metadata": {},
   "outputs": [
    {
     "data": {
      "application/vnd.plotly.v1+json": {
       "config": {
        "plotlyServerURL": "https://plot.ly"
       },
       "data": [
        {
         "alignmentgroup": "True",
         "bingroup": "x",
         "histfunc": "sum",
         "hovertemplate": "CHEST PAIN=1<br>LUNG_CANCER=%{x}<br>sum of counts=%{y}<extra></extra>",
         "legendgroup": "1",
         "marker": {
          "color": "rgb(95, 70, 144)",
          "pattern": {
           "shape": ""
          }
         },
         "name": "1",
         "offsetgroup": "1",
         "orientation": "v",
         "showlegend": true,
         "type": "histogram",
         "x": [
          1,
          2
         ],
         "xaxis": "x",
         "y": [
          27,
          110
         ],
         "yaxis": "y"
        },
        {
         "alignmentgroup": "True",
         "bingroup": "x",
         "histfunc": "sum",
         "hovertemplate": "CHEST PAIN=2<br>LUNG_CANCER=%{x}<br>sum of counts=%{y}<extra></extra>",
         "legendgroup": "2",
         "marker": {
          "color": "rgb(29, 105, 150)",
          "pattern": {
           "shape": ""
          }
         },
         "name": "2",
         "offsetgroup": "2",
         "orientation": "v",
         "showlegend": true,
         "type": "histogram",
         "x": [
          1,
          2
         ],
         "xaxis": "x",
         "y": [
          12,
          160
         ],
         "yaxis": "y"
        }
       ],
       "layout": {
        "barmode": "group",
        "legend": {
         "title": {
          "text": "CHEST PAIN"
         },
         "tracegroupgap": 0
        },
        "margin": {
         "t": 60
        },
        "template": {
         "data": {
          "bar": [
           {
            "error_x": {
             "color": "#2a3f5f"
            },
            "error_y": {
             "color": "#2a3f5f"
            },
            "marker": {
             "line": {
              "color": "#E5ECF6",
              "width": 0.5
             },
             "pattern": {
              "fillmode": "overlay",
              "size": 10,
              "solidity": 0.2
             }
            },
            "type": "bar"
           }
          ],
          "barpolar": [
           {
            "marker": {
             "line": {
              "color": "#E5ECF6",
              "width": 0.5
             },
             "pattern": {
              "fillmode": "overlay",
              "size": 10,
              "solidity": 0.2
             }
            },
            "type": "barpolar"
           }
          ],
          "carpet": [
           {
            "aaxis": {
             "endlinecolor": "#2a3f5f",
             "gridcolor": "white",
             "linecolor": "white",
             "minorgridcolor": "white",
             "startlinecolor": "#2a3f5f"
            },
            "baxis": {
             "endlinecolor": "#2a3f5f",
             "gridcolor": "white",
             "linecolor": "white",
             "minorgridcolor": "white",
             "startlinecolor": "#2a3f5f"
            },
            "type": "carpet"
           }
          ],
          "choropleth": [
           {
            "colorbar": {
             "outlinewidth": 0,
             "ticks": ""
            },
            "type": "choropleth"
           }
          ],
          "contour": [
           {
            "colorbar": {
             "outlinewidth": 0,
             "ticks": ""
            },
            "colorscale": [
             [
              0,
              "#0d0887"
             ],
             [
              0.1111111111111111,
              "#46039f"
             ],
             [
              0.2222222222222222,
              "#7201a8"
             ],
             [
              0.3333333333333333,
              "#9c179e"
             ],
             [
              0.4444444444444444,
              "#bd3786"
             ],
             [
              0.5555555555555556,
              "#d8576b"
             ],
             [
              0.6666666666666666,
              "#ed7953"
             ],
             [
              0.7777777777777778,
              "#fb9f3a"
             ],
             [
              0.8888888888888888,
              "#fdca26"
             ],
             [
              1,
              "#f0f921"
             ]
            ],
            "type": "contour"
           }
          ],
          "contourcarpet": [
           {
            "colorbar": {
             "outlinewidth": 0,
             "ticks": ""
            },
            "type": "contourcarpet"
           }
          ],
          "heatmap": [
           {
            "colorbar": {
             "outlinewidth": 0,
             "ticks": ""
            },
            "colorscale": [
             [
              0,
              "#0d0887"
             ],
             [
              0.1111111111111111,
              "#46039f"
             ],
             [
              0.2222222222222222,
              "#7201a8"
             ],
             [
              0.3333333333333333,
              "#9c179e"
             ],
             [
              0.4444444444444444,
              "#bd3786"
             ],
             [
              0.5555555555555556,
              "#d8576b"
             ],
             [
              0.6666666666666666,
              "#ed7953"
             ],
             [
              0.7777777777777778,
              "#fb9f3a"
             ],
             [
              0.8888888888888888,
              "#fdca26"
             ],
             [
              1,
              "#f0f921"
             ]
            ],
            "type": "heatmap"
           }
          ],
          "heatmapgl": [
           {
            "colorbar": {
             "outlinewidth": 0,
             "ticks": ""
            },
            "colorscale": [
             [
              0,
              "#0d0887"
             ],
             [
              0.1111111111111111,
              "#46039f"
             ],
             [
              0.2222222222222222,
              "#7201a8"
             ],
             [
              0.3333333333333333,
              "#9c179e"
             ],
             [
              0.4444444444444444,
              "#bd3786"
             ],
             [
              0.5555555555555556,
              "#d8576b"
             ],
             [
              0.6666666666666666,
              "#ed7953"
             ],
             [
              0.7777777777777778,
              "#fb9f3a"
             ],
             [
              0.8888888888888888,
              "#fdca26"
             ],
             [
              1,
              "#f0f921"
             ]
            ],
            "type": "heatmapgl"
           }
          ],
          "histogram": [
           {
            "marker": {
             "pattern": {
              "fillmode": "overlay",
              "size": 10,
              "solidity": 0.2
             }
            },
            "type": "histogram"
           }
          ],
          "histogram2d": [
           {
            "colorbar": {
             "outlinewidth": 0,
             "ticks": ""
            },
            "colorscale": [
             [
              0,
              "#0d0887"
             ],
             [
              0.1111111111111111,
              "#46039f"
             ],
             [
              0.2222222222222222,
              "#7201a8"
             ],
             [
              0.3333333333333333,
              "#9c179e"
             ],
             [
              0.4444444444444444,
              "#bd3786"
             ],
             [
              0.5555555555555556,
              "#d8576b"
             ],
             [
              0.6666666666666666,
              "#ed7953"
             ],
             [
              0.7777777777777778,
              "#fb9f3a"
             ],
             [
              0.8888888888888888,
              "#fdca26"
             ],
             [
              1,
              "#f0f921"
             ]
            ],
            "type": "histogram2d"
           }
          ],
          "histogram2dcontour": [
           {
            "colorbar": {
             "outlinewidth": 0,
             "ticks": ""
            },
            "colorscale": [
             [
              0,
              "#0d0887"
             ],
             [
              0.1111111111111111,
              "#46039f"
             ],
             [
              0.2222222222222222,
              "#7201a8"
             ],
             [
              0.3333333333333333,
              "#9c179e"
             ],
             [
              0.4444444444444444,
              "#bd3786"
             ],
             [
              0.5555555555555556,
              "#d8576b"
             ],
             [
              0.6666666666666666,
              "#ed7953"
             ],
             [
              0.7777777777777778,
              "#fb9f3a"
             ],
             [
              0.8888888888888888,
              "#fdca26"
             ],
             [
              1,
              "#f0f921"
             ]
            ],
            "type": "histogram2dcontour"
           }
          ],
          "mesh3d": [
           {
            "colorbar": {
             "outlinewidth": 0,
             "ticks": ""
            },
            "type": "mesh3d"
           }
          ],
          "parcoords": [
           {
            "line": {
             "colorbar": {
              "outlinewidth": 0,
              "ticks": ""
             }
            },
            "type": "parcoords"
           }
          ],
          "pie": [
           {
            "automargin": true,
            "type": "pie"
           }
          ],
          "scatter": [
           {
            "fillpattern": {
             "fillmode": "overlay",
             "size": 10,
             "solidity": 0.2
            },
            "type": "scatter"
           }
          ],
          "scatter3d": [
           {
            "line": {
             "colorbar": {
              "outlinewidth": 0,
              "ticks": ""
             }
            },
            "marker": {
             "colorbar": {
              "outlinewidth": 0,
              "ticks": ""
             }
            },
            "type": "scatter3d"
           }
          ],
          "scattercarpet": [
           {
            "marker": {
             "colorbar": {
              "outlinewidth": 0,
              "ticks": ""
             }
            },
            "type": "scattercarpet"
           }
          ],
          "scattergeo": [
           {
            "marker": {
             "colorbar": {
              "outlinewidth": 0,
              "ticks": ""
             }
            },
            "type": "scattergeo"
           }
          ],
          "scattergl": [
           {
            "marker": {
             "colorbar": {
              "outlinewidth": 0,
              "ticks": ""
             }
            },
            "type": "scattergl"
           }
          ],
          "scattermapbox": [
           {
            "marker": {
             "colorbar": {
              "outlinewidth": 0,
              "ticks": ""
             }
            },
            "type": "scattermapbox"
           }
          ],
          "scatterpolar": [
           {
            "marker": {
             "colorbar": {
              "outlinewidth": 0,
              "ticks": ""
             }
            },
            "type": "scatterpolar"
           }
          ],
          "scatterpolargl": [
           {
            "marker": {
             "colorbar": {
              "outlinewidth": 0,
              "ticks": ""
             }
            },
            "type": "scatterpolargl"
           }
          ],
          "scatterternary": [
           {
            "marker": {
             "colorbar": {
              "outlinewidth": 0,
              "ticks": ""
             }
            },
            "type": "scatterternary"
           }
          ],
          "surface": [
           {
            "colorbar": {
             "outlinewidth": 0,
             "ticks": ""
            },
            "colorscale": [
             [
              0,
              "#0d0887"
             ],
             [
              0.1111111111111111,
              "#46039f"
             ],
             [
              0.2222222222222222,
              "#7201a8"
             ],
             [
              0.3333333333333333,
              "#9c179e"
             ],
             [
              0.4444444444444444,
              "#bd3786"
             ],
             [
              0.5555555555555556,
              "#d8576b"
             ],
             [
              0.6666666666666666,
              "#ed7953"
             ],
             [
              0.7777777777777778,
              "#fb9f3a"
             ],
             [
              0.8888888888888888,
              "#fdca26"
             ],
             [
              1,
              "#f0f921"
             ]
            ],
            "type": "surface"
           }
          ],
          "table": [
           {
            "cells": {
             "fill": {
              "color": "#EBF0F8"
             },
             "line": {
              "color": "white"
             }
            },
            "header": {
             "fill": {
              "color": "#C8D4E3"
             },
             "line": {
              "color": "white"
             }
            },
            "type": "table"
           }
          ]
         },
         "layout": {
          "annotationdefaults": {
           "arrowcolor": "#2a3f5f",
           "arrowhead": 0,
           "arrowwidth": 1
          },
          "autotypenumbers": "strict",
          "coloraxis": {
           "colorbar": {
            "outlinewidth": 0,
            "ticks": ""
           }
          },
          "colorscale": {
           "diverging": [
            [
             0,
             "#8e0152"
            ],
            [
             0.1,
             "#c51b7d"
            ],
            [
             0.2,
             "#de77ae"
            ],
            [
             0.3,
             "#f1b6da"
            ],
            [
             0.4,
             "#fde0ef"
            ],
            [
             0.5,
             "#f7f7f7"
            ],
            [
             0.6,
             "#e6f5d0"
            ],
            [
             0.7,
             "#b8e186"
            ],
            [
             0.8,
             "#7fbc41"
            ],
            [
             0.9,
             "#4d9221"
            ],
            [
             1,
             "#276419"
            ]
           ],
           "sequential": [
            [
             0,
             "#0d0887"
            ],
            [
             0.1111111111111111,
             "#46039f"
            ],
            [
             0.2222222222222222,
             "#7201a8"
            ],
            [
             0.3333333333333333,
             "#9c179e"
            ],
            [
             0.4444444444444444,
             "#bd3786"
            ],
            [
             0.5555555555555556,
             "#d8576b"
            ],
            [
             0.6666666666666666,
             "#ed7953"
            ],
            [
             0.7777777777777778,
             "#fb9f3a"
            ],
            [
             0.8888888888888888,
             "#fdca26"
            ],
            [
             1,
             "#f0f921"
            ]
           ],
           "sequentialminus": [
            [
             0,
             "#0d0887"
            ],
            [
             0.1111111111111111,
             "#46039f"
            ],
            [
             0.2222222222222222,
             "#7201a8"
            ],
            [
             0.3333333333333333,
             "#9c179e"
            ],
            [
             0.4444444444444444,
             "#bd3786"
            ],
            [
             0.5555555555555556,
             "#d8576b"
            ],
            [
             0.6666666666666666,
             "#ed7953"
            ],
            [
             0.7777777777777778,
             "#fb9f3a"
            ],
            [
             0.8888888888888888,
             "#fdca26"
            ],
            [
             1,
             "#f0f921"
            ]
           ]
          },
          "colorway": [
           "#636efa",
           "#EF553B",
           "#00cc96",
           "#ab63fa",
           "#FFA15A",
           "#19d3f3",
           "#FF6692",
           "#B6E880",
           "#FF97FF",
           "#FECB52"
          ],
          "font": {
           "color": "#2a3f5f"
          },
          "geo": {
           "bgcolor": "white",
           "lakecolor": "white",
           "landcolor": "#E5ECF6",
           "showlakes": true,
           "showland": true,
           "subunitcolor": "white"
          },
          "hoverlabel": {
           "align": "left"
          },
          "hovermode": "closest",
          "mapbox": {
           "style": "light"
          },
          "paper_bgcolor": "white",
          "plot_bgcolor": "#E5ECF6",
          "polar": {
           "angularaxis": {
            "gridcolor": "white",
            "linecolor": "white",
            "ticks": ""
           },
           "bgcolor": "#E5ECF6",
           "radialaxis": {
            "gridcolor": "white",
            "linecolor": "white",
            "ticks": ""
           }
          },
          "scene": {
           "xaxis": {
            "backgroundcolor": "#E5ECF6",
            "gridcolor": "white",
            "gridwidth": 2,
            "linecolor": "white",
            "showbackground": true,
            "ticks": "",
            "zerolinecolor": "white"
           },
           "yaxis": {
            "backgroundcolor": "#E5ECF6",
            "gridcolor": "white",
            "gridwidth": 2,
            "linecolor": "white",
            "showbackground": true,
            "ticks": "",
            "zerolinecolor": "white"
           },
           "zaxis": {
            "backgroundcolor": "#E5ECF6",
            "gridcolor": "white",
            "gridwidth": 2,
            "linecolor": "white",
            "showbackground": true,
            "ticks": "",
            "zerolinecolor": "white"
           }
          },
          "shapedefaults": {
           "line": {
            "color": "#2a3f5f"
           }
          },
          "ternary": {
           "aaxis": {
            "gridcolor": "white",
            "linecolor": "white",
            "ticks": ""
           },
           "baxis": {
            "gridcolor": "white",
            "linecolor": "white",
            "ticks": ""
           },
           "bgcolor": "#E5ECF6",
           "caxis": {
            "gridcolor": "white",
            "linecolor": "white",
            "ticks": ""
           }
          },
          "title": {
           "x": 0.05
          },
          "xaxis": {
           "automargin": true,
           "gridcolor": "white",
           "linecolor": "white",
           "ticks": "",
           "title": {
            "standoff": 15
           },
           "zerolinecolor": "white",
           "zerolinewidth": 2
          },
          "yaxis": {
           "automargin": true,
           "gridcolor": "white",
           "linecolor": "white",
           "ticks": "",
           "title": {
            "standoff": 15
           },
           "zerolinecolor": "white",
           "zerolinewidth": 2
          }
         }
        },
        "xaxis": {
         "anchor": "y",
         "domain": [
          0,
          1
         ],
         "title": {
          "text": "LUNG_CANCER"
         }
        },
        "yaxis": {
         "anchor": "x",
         "domain": [
          0,
          1
         ],
         "title": {
          "text": "sum of counts"
         }
        }
       }
      }
     },
     "metadata": {},
     "output_type": "display_data"
    }
   ],
   "source": [
    "px.histogram(data_frame=dcp, x=\"LUNG_CANCER\", y=\"counts\", color=\"CHEST PAIN\", barmode='group',\n",
    "             color_discrete_sequence=px.colors.qualitative.Prism)"
   ]
  },
  {
   "cell_type": "markdown",
   "id": "220688ae",
   "metadata": {},
   "source": [
    "## Análise da correlação entre gênero e câncer de pulmão:\n"
   ]
  },
  {
   "cell_type": "code",
   "execution_count": 128,
   "id": "1ec43e06",
   "metadata": {},
   "outputs": [
    {
     "data": {
      "text/html": [
       "<div>\n",
       "<style scoped>\n",
       "    .dataframe tbody tr th:only-of-type {\n",
       "        vertical-align: middle;\n",
       "    }\n",
       "\n",
       "    .dataframe tbody tr th {\n",
       "        vertical-align: top;\n",
       "    }\n",
       "\n",
       "    .dataframe thead th {\n",
       "        text-align: right;\n",
       "    }\n",
       "</style>\n",
       "<table border=\"1\" class=\"dataframe\">\n",
       "  <thead>\n",
       "    <tr style=\"text-align: right;\">\n",
       "      <th></th>\n",
       "      <th>GENDER</th>\n",
       "      <th>LUNG_CANCER</th>\n",
       "      <th>counts</th>\n",
       "    </tr>\n",
       "  </thead>\n",
       "  <tbody>\n",
       "    <tr>\n",
       "      <th>0</th>\n",
       "      <td>F</td>\n",
       "      <td>1</td>\n",
       "      <td>22</td>\n",
       "    </tr>\n",
       "    <tr>\n",
       "      <th>1</th>\n",
       "      <td>F</td>\n",
       "      <td>2</td>\n",
       "      <td>125</td>\n",
       "    </tr>\n",
       "    <tr>\n",
       "      <th>2</th>\n",
       "      <td>M</td>\n",
       "      <td>1</td>\n",
       "      <td>17</td>\n",
       "    </tr>\n",
       "    <tr>\n",
       "      <th>3</th>\n",
       "      <td>M</td>\n",
       "      <td>2</td>\n",
       "      <td>145</td>\n",
       "    </tr>\n",
       "  </tbody>\n",
       "</table>\n",
       "</div>"
      ],
      "text/plain": [
       "  GENDER  LUNG_CANCER  counts\n",
       "0      F            1      22\n",
       "1      F            2     125\n",
       "2      M            1      17\n",
       "3      M            2     145"
      ]
     },
     "execution_count": 128,
     "metadata": {},
     "output_type": "execute_result"
    }
   ],
   "source": [
    "base_gerder = base.groupby(by=[\"GENDER\", \"LUNG_CANCER\"]).size().reset_index(name=\"counts\")\n",
    "\n",
    "base_gerder"
   ]
  },
  {
   "cell_type": "code",
   "execution_count": 129,
   "id": "dd562714",
   "metadata": {},
   "outputs": [
    {
     "data": {
      "application/vnd.plotly.v1+json": {
       "config": {
        "plotlyServerURL": "https://plot.ly"
       },
       "data": [
        {
         "alignmentgroup": "True",
         "bingroup": "x",
         "histfunc": "sum",
         "hovertemplate": "GENDER=F<br>LUNG_CANCER=%{x}<br>sum of counts=%{y}<extra></extra>",
         "legendgroup": "F",
         "marker": {
          "color": "rgb(127, 60, 141)",
          "pattern": {
           "shape": ""
          }
         },
         "name": "F",
         "offsetgroup": "F",
         "orientation": "v",
         "showlegend": true,
         "type": "histogram",
         "x": [
          1,
          2
         ],
         "xaxis": "x",
         "y": [
          22,
          125
         ],
         "yaxis": "y"
        },
        {
         "alignmentgroup": "True",
         "bingroup": "x",
         "histfunc": "sum",
         "hovertemplate": "GENDER=M<br>LUNG_CANCER=%{x}<br>sum of counts=%{y}<extra></extra>",
         "legendgroup": "M",
         "marker": {
          "color": "rgb(17, 165, 121)",
          "pattern": {
           "shape": ""
          }
         },
         "name": "M",
         "offsetgroup": "M",
         "orientation": "v",
         "showlegend": true,
         "type": "histogram",
         "x": [
          1,
          2
         ],
         "xaxis": "x",
         "y": [
          17,
          145
         ],
         "yaxis": "y"
        }
       ],
       "layout": {
        "barmode": "group",
        "legend": {
         "title": {
          "text": "GENDER"
         },
         "tracegroupgap": 0
        },
        "margin": {
         "t": 60
        },
        "template": {
         "data": {
          "bar": [
           {
            "error_x": {
             "color": "#2a3f5f"
            },
            "error_y": {
             "color": "#2a3f5f"
            },
            "marker": {
             "line": {
              "color": "#E5ECF6",
              "width": 0.5
             },
             "pattern": {
              "fillmode": "overlay",
              "size": 10,
              "solidity": 0.2
             }
            },
            "type": "bar"
           }
          ],
          "barpolar": [
           {
            "marker": {
             "line": {
              "color": "#E5ECF6",
              "width": 0.5
             },
             "pattern": {
              "fillmode": "overlay",
              "size": 10,
              "solidity": 0.2
             }
            },
            "type": "barpolar"
           }
          ],
          "carpet": [
           {
            "aaxis": {
             "endlinecolor": "#2a3f5f",
             "gridcolor": "white",
             "linecolor": "white",
             "minorgridcolor": "white",
             "startlinecolor": "#2a3f5f"
            },
            "baxis": {
             "endlinecolor": "#2a3f5f",
             "gridcolor": "white",
             "linecolor": "white",
             "minorgridcolor": "white",
             "startlinecolor": "#2a3f5f"
            },
            "type": "carpet"
           }
          ],
          "choropleth": [
           {
            "colorbar": {
             "outlinewidth": 0,
             "ticks": ""
            },
            "type": "choropleth"
           }
          ],
          "contour": [
           {
            "colorbar": {
             "outlinewidth": 0,
             "ticks": ""
            },
            "colorscale": [
             [
              0,
              "#0d0887"
             ],
             [
              0.1111111111111111,
              "#46039f"
             ],
             [
              0.2222222222222222,
              "#7201a8"
             ],
             [
              0.3333333333333333,
              "#9c179e"
             ],
             [
              0.4444444444444444,
              "#bd3786"
             ],
             [
              0.5555555555555556,
              "#d8576b"
             ],
             [
              0.6666666666666666,
              "#ed7953"
             ],
             [
              0.7777777777777778,
              "#fb9f3a"
             ],
             [
              0.8888888888888888,
              "#fdca26"
             ],
             [
              1,
              "#f0f921"
             ]
            ],
            "type": "contour"
           }
          ],
          "contourcarpet": [
           {
            "colorbar": {
             "outlinewidth": 0,
             "ticks": ""
            },
            "type": "contourcarpet"
           }
          ],
          "heatmap": [
           {
            "colorbar": {
             "outlinewidth": 0,
             "ticks": ""
            },
            "colorscale": [
             [
              0,
              "#0d0887"
             ],
             [
              0.1111111111111111,
              "#46039f"
             ],
             [
              0.2222222222222222,
              "#7201a8"
             ],
             [
              0.3333333333333333,
              "#9c179e"
             ],
             [
              0.4444444444444444,
              "#bd3786"
             ],
             [
              0.5555555555555556,
              "#d8576b"
             ],
             [
              0.6666666666666666,
              "#ed7953"
             ],
             [
              0.7777777777777778,
              "#fb9f3a"
             ],
             [
              0.8888888888888888,
              "#fdca26"
             ],
             [
              1,
              "#f0f921"
             ]
            ],
            "type": "heatmap"
           }
          ],
          "heatmapgl": [
           {
            "colorbar": {
             "outlinewidth": 0,
             "ticks": ""
            },
            "colorscale": [
             [
              0,
              "#0d0887"
             ],
             [
              0.1111111111111111,
              "#46039f"
             ],
             [
              0.2222222222222222,
              "#7201a8"
             ],
             [
              0.3333333333333333,
              "#9c179e"
             ],
             [
              0.4444444444444444,
              "#bd3786"
             ],
             [
              0.5555555555555556,
              "#d8576b"
             ],
             [
              0.6666666666666666,
              "#ed7953"
             ],
             [
              0.7777777777777778,
              "#fb9f3a"
             ],
             [
              0.8888888888888888,
              "#fdca26"
             ],
             [
              1,
              "#f0f921"
             ]
            ],
            "type": "heatmapgl"
           }
          ],
          "histogram": [
           {
            "marker": {
             "pattern": {
              "fillmode": "overlay",
              "size": 10,
              "solidity": 0.2
             }
            },
            "type": "histogram"
           }
          ],
          "histogram2d": [
           {
            "colorbar": {
             "outlinewidth": 0,
             "ticks": ""
            },
            "colorscale": [
             [
              0,
              "#0d0887"
             ],
             [
              0.1111111111111111,
              "#46039f"
             ],
             [
              0.2222222222222222,
              "#7201a8"
             ],
             [
              0.3333333333333333,
              "#9c179e"
             ],
             [
              0.4444444444444444,
              "#bd3786"
             ],
             [
              0.5555555555555556,
              "#d8576b"
             ],
             [
              0.6666666666666666,
              "#ed7953"
             ],
             [
              0.7777777777777778,
              "#fb9f3a"
             ],
             [
              0.8888888888888888,
              "#fdca26"
             ],
             [
              1,
              "#f0f921"
             ]
            ],
            "type": "histogram2d"
           }
          ],
          "histogram2dcontour": [
           {
            "colorbar": {
             "outlinewidth": 0,
             "ticks": ""
            },
            "colorscale": [
             [
              0,
              "#0d0887"
             ],
             [
              0.1111111111111111,
              "#46039f"
             ],
             [
              0.2222222222222222,
              "#7201a8"
             ],
             [
              0.3333333333333333,
              "#9c179e"
             ],
             [
              0.4444444444444444,
              "#bd3786"
             ],
             [
              0.5555555555555556,
              "#d8576b"
             ],
             [
              0.6666666666666666,
              "#ed7953"
             ],
             [
              0.7777777777777778,
              "#fb9f3a"
             ],
             [
              0.8888888888888888,
              "#fdca26"
             ],
             [
              1,
              "#f0f921"
             ]
            ],
            "type": "histogram2dcontour"
           }
          ],
          "mesh3d": [
           {
            "colorbar": {
             "outlinewidth": 0,
             "ticks": ""
            },
            "type": "mesh3d"
           }
          ],
          "parcoords": [
           {
            "line": {
             "colorbar": {
              "outlinewidth": 0,
              "ticks": ""
             }
            },
            "type": "parcoords"
           }
          ],
          "pie": [
           {
            "automargin": true,
            "type": "pie"
           }
          ],
          "scatter": [
           {
            "fillpattern": {
             "fillmode": "overlay",
             "size": 10,
             "solidity": 0.2
            },
            "type": "scatter"
           }
          ],
          "scatter3d": [
           {
            "line": {
             "colorbar": {
              "outlinewidth": 0,
              "ticks": ""
             }
            },
            "marker": {
             "colorbar": {
              "outlinewidth": 0,
              "ticks": ""
             }
            },
            "type": "scatter3d"
           }
          ],
          "scattercarpet": [
           {
            "marker": {
             "colorbar": {
              "outlinewidth": 0,
              "ticks": ""
             }
            },
            "type": "scattercarpet"
           }
          ],
          "scattergeo": [
           {
            "marker": {
             "colorbar": {
              "outlinewidth": 0,
              "ticks": ""
             }
            },
            "type": "scattergeo"
           }
          ],
          "scattergl": [
           {
            "marker": {
             "colorbar": {
              "outlinewidth": 0,
              "ticks": ""
             }
            },
            "type": "scattergl"
           }
          ],
          "scattermapbox": [
           {
            "marker": {
             "colorbar": {
              "outlinewidth": 0,
              "ticks": ""
             }
            },
            "type": "scattermapbox"
           }
          ],
          "scatterpolar": [
           {
            "marker": {
             "colorbar": {
              "outlinewidth": 0,
              "ticks": ""
             }
            },
            "type": "scatterpolar"
           }
          ],
          "scatterpolargl": [
           {
            "marker": {
             "colorbar": {
              "outlinewidth": 0,
              "ticks": ""
             }
            },
            "type": "scatterpolargl"
           }
          ],
          "scatterternary": [
           {
            "marker": {
             "colorbar": {
              "outlinewidth": 0,
              "ticks": ""
             }
            },
            "type": "scatterternary"
           }
          ],
          "surface": [
           {
            "colorbar": {
             "outlinewidth": 0,
             "ticks": ""
            },
            "colorscale": [
             [
              0,
              "#0d0887"
             ],
             [
              0.1111111111111111,
              "#46039f"
             ],
             [
              0.2222222222222222,
              "#7201a8"
             ],
             [
              0.3333333333333333,
              "#9c179e"
             ],
             [
              0.4444444444444444,
              "#bd3786"
             ],
             [
              0.5555555555555556,
              "#d8576b"
             ],
             [
              0.6666666666666666,
              "#ed7953"
             ],
             [
              0.7777777777777778,
              "#fb9f3a"
             ],
             [
              0.8888888888888888,
              "#fdca26"
             ],
             [
              1,
              "#f0f921"
             ]
            ],
            "type": "surface"
           }
          ],
          "table": [
           {
            "cells": {
             "fill": {
              "color": "#EBF0F8"
             },
             "line": {
              "color": "white"
             }
            },
            "header": {
             "fill": {
              "color": "#C8D4E3"
             },
             "line": {
              "color": "white"
             }
            },
            "type": "table"
           }
          ]
         },
         "layout": {
          "annotationdefaults": {
           "arrowcolor": "#2a3f5f",
           "arrowhead": 0,
           "arrowwidth": 1
          },
          "autotypenumbers": "strict",
          "coloraxis": {
           "colorbar": {
            "outlinewidth": 0,
            "ticks": ""
           }
          },
          "colorscale": {
           "diverging": [
            [
             0,
             "#8e0152"
            ],
            [
             0.1,
             "#c51b7d"
            ],
            [
             0.2,
             "#de77ae"
            ],
            [
             0.3,
             "#f1b6da"
            ],
            [
             0.4,
             "#fde0ef"
            ],
            [
             0.5,
             "#f7f7f7"
            ],
            [
             0.6,
             "#e6f5d0"
            ],
            [
             0.7,
             "#b8e186"
            ],
            [
             0.8,
             "#7fbc41"
            ],
            [
             0.9,
             "#4d9221"
            ],
            [
             1,
             "#276419"
            ]
           ],
           "sequential": [
            [
             0,
             "#0d0887"
            ],
            [
             0.1111111111111111,
             "#46039f"
            ],
            [
             0.2222222222222222,
             "#7201a8"
            ],
            [
             0.3333333333333333,
             "#9c179e"
            ],
            [
             0.4444444444444444,
             "#bd3786"
            ],
            [
             0.5555555555555556,
             "#d8576b"
            ],
            [
             0.6666666666666666,
             "#ed7953"
            ],
            [
             0.7777777777777778,
             "#fb9f3a"
            ],
            [
             0.8888888888888888,
             "#fdca26"
            ],
            [
             1,
             "#f0f921"
            ]
           ],
           "sequentialminus": [
            [
             0,
             "#0d0887"
            ],
            [
             0.1111111111111111,
             "#46039f"
            ],
            [
             0.2222222222222222,
             "#7201a8"
            ],
            [
             0.3333333333333333,
             "#9c179e"
            ],
            [
             0.4444444444444444,
             "#bd3786"
            ],
            [
             0.5555555555555556,
             "#d8576b"
            ],
            [
             0.6666666666666666,
             "#ed7953"
            ],
            [
             0.7777777777777778,
             "#fb9f3a"
            ],
            [
             0.8888888888888888,
             "#fdca26"
            ],
            [
             1,
             "#f0f921"
            ]
           ]
          },
          "colorway": [
           "#636efa",
           "#EF553B",
           "#00cc96",
           "#ab63fa",
           "#FFA15A",
           "#19d3f3",
           "#FF6692",
           "#B6E880",
           "#FF97FF",
           "#FECB52"
          ],
          "font": {
           "color": "#2a3f5f"
          },
          "geo": {
           "bgcolor": "white",
           "lakecolor": "white",
           "landcolor": "#E5ECF6",
           "showlakes": true,
           "showland": true,
           "subunitcolor": "white"
          },
          "hoverlabel": {
           "align": "left"
          },
          "hovermode": "closest",
          "mapbox": {
           "style": "light"
          },
          "paper_bgcolor": "white",
          "plot_bgcolor": "#E5ECF6",
          "polar": {
           "angularaxis": {
            "gridcolor": "white",
            "linecolor": "white",
            "ticks": ""
           },
           "bgcolor": "#E5ECF6",
           "radialaxis": {
            "gridcolor": "white",
            "linecolor": "white",
            "ticks": ""
           }
          },
          "scene": {
           "xaxis": {
            "backgroundcolor": "#E5ECF6",
            "gridcolor": "white",
            "gridwidth": 2,
            "linecolor": "white",
            "showbackground": true,
            "ticks": "",
            "zerolinecolor": "white"
           },
           "yaxis": {
            "backgroundcolor": "#E5ECF6",
            "gridcolor": "white",
            "gridwidth": 2,
            "linecolor": "white",
            "showbackground": true,
            "ticks": "",
            "zerolinecolor": "white"
           },
           "zaxis": {
            "backgroundcolor": "#E5ECF6",
            "gridcolor": "white",
            "gridwidth": 2,
            "linecolor": "white",
            "showbackground": true,
            "ticks": "",
            "zerolinecolor": "white"
           }
          },
          "shapedefaults": {
           "line": {
            "color": "#2a3f5f"
           }
          },
          "ternary": {
           "aaxis": {
            "gridcolor": "white",
            "linecolor": "white",
            "ticks": ""
           },
           "baxis": {
            "gridcolor": "white",
            "linecolor": "white",
            "ticks": ""
           },
           "bgcolor": "#E5ECF6",
           "caxis": {
            "gridcolor": "white",
            "linecolor": "white",
            "ticks": ""
           }
          },
          "title": {
           "x": 0.05
          },
          "xaxis": {
           "automargin": true,
           "gridcolor": "white",
           "linecolor": "white",
           "ticks": "",
           "title": {
            "standoff": 15
           },
           "zerolinecolor": "white",
           "zerolinewidth": 2
          },
          "yaxis": {
           "automargin": true,
           "gridcolor": "white",
           "linecolor": "white",
           "ticks": "",
           "title": {
            "standoff": 15
           },
           "zerolinecolor": "white",
           "zerolinewidth": 2
          }
         }
        },
        "xaxis": {
         "anchor": "y",
         "domain": [
          0,
          1
         ],
         "title": {
          "text": "LUNG_CANCER"
         }
        },
        "yaxis": {
         "anchor": "x",
         "domain": [
          0,
          1
         ],
         "title": {
          "text": "sum of counts"
         }
        }
       }
      }
     },
     "metadata": {},
     "output_type": "display_data"
    }
   ],
   "source": [
    "#Gráfico da relação entre eles\n",
    "px.histogram(data_frame=base_gerder, x=\"LUNG_CANCER\")\n",
    "px.histogram(data_frame=base_gerder, x=\"LUNG_CANCER\", y=\"counts\", color=\"GENDER\", barmode='group', color_discrete_sequence=px.colors.qualitative.Bold)\n"
   ]
  },
  {
   "cell_type": "markdown",
   "id": "a871ce6b",
   "metadata": {},
   "source": [
    "## Correlação entre Asma e Câncer de Pulmão:\n",
    "### Legenda:\n",
    "'Wheeling' : Asma = Não possui = 1\n",
    "\n",
    "'Wheeling' : Asma = Possui = 2\n"
   ]
  },
  {
   "cell_type": "code",
   "execution_count": 130,
   "id": "86ca21ac",
   "metadata": {},
   "outputs": [
    {
     "data": {
      "text/html": [
       "<div>\n",
       "<style scoped>\n",
       "    .dataframe tbody tr th:only-of-type {\n",
       "        vertical-align: middle;\n",
       "    }\n",
       "\n",
       "    .dataframe tbody tr th {\n",
       "        vertical-align: top;\n",
       "    }\n",
       "\n",
       "    .dataframe thead th {\n",
       "        text-align: right;\n",
       "    }\n",
       "</style>\n",
       "<table border=\"1\" class=\"dataframe\">\n",
       "  <thead>\n",
       "    <tr style=\"text-align: right;\">\n",
       "      <th></th>\n",
       "      <th>WHEEZING</th>\n",
       "      <th>LUNG_CANCER</th>\n",
       "      <th>counts</th>\n",
       "    </tr>\n",
       "  </thead>\n",
       "  <tbody>\n",
       "    <tr>\n",
       "      <th>0</th>\n",
       "      <td>1</td>\n",
       "      <td>1</td>\n",
       "      <td>30</td>\n",
       "    </tr>\n",
       "    <tr>\n",
       "      <th>1</th>\n",
       "      <td>1</td>\n",
       "      <td>2</td>\n",
       "      <td>107</td>\n",
       "    </tr>\n",
       "    <tr>\n",
       "      <th>2</th>\n",
       "      <td>2</td>\n",
       "      <td>1</td>\n",
       "      <td>9</td>\n",
       "    </tr>\n",
       "    <tr>\n",
       "      <th>3</th>\n",
       "      <td>2</td>\n",
       "      <td>2</td>\n",
       "      <td>163</td>\n",
       "    </tr>\n",
       "  </tbody>\n",
       "</table>\n",
       "</div>"
      ],
      "text/plain": [
       "   WHEEZING  LUNG_CANCER  counts\n",
       "0         1            1      30\n",
       "1         1            2     107\n",
       "2         2            1       9\n",
       "3         2            2     163"
      ]
     },
     "execution_count": 130,
     "metadata": {},
     "output_type": "execute_result"
    }
   ],
   "source": [
    "base_asma = base.groupby(by=[\"WHEEZING\", \"LUNG_CANCER\"]).size().reset_index(name=\"counts\")\n",
    "base_asma "
   ]
  },
  {
   "cell_type": "code",
   "execution_count": 131,
   "id": "e757f959",
   "metadata": {},
   "outputs": [
    {
     "data": {
      "application/vnd.plotly.v1+json": {
       "config": {
        "plotlyServerURL": "https://plot.ly"
       },
       "data": [
        {
         "alignmentgroup": "True",
         "bingroup": "x",
         "histfunc": "sum",
         "hovertemplate": "WHEEZING=1<br>LUNG_CANCER=%{x}<br>sum of counts=%{y}<extra></extra>",
         "legendgroup": "1",
         "marker": {
          "color": "#AA0DFE",
          "pattern": {
           "shape": ""
          }
         },
         "name": "1",
         "offsetgroup": "1",
         "orientation": "v",
         "showlegend": true,
         "type": "histogram",
         "x": [
          1,
          2
         ],
         "xaxis": "x",
         "y": [
          30,
          107
         ],
         "yaxis": "y"
        },
        {
         "alignmentgroup": "True",
         "bingroup": "x",
         "histfunc": "sum",
         "hovertemplate": "WHEEZING=2<br>LUNG_CANCER=%{x}<br>sum of counts=%{y}<extra></extra>",
         "legendgroup": "2",
         "marker": {
          "color": "#3283FE",
          "pattern": {
           "shape": ""
          }
         },
         "name": "2",
         "offsetgroup": "2",
         "orientation": "v",
         "showlegend": true,
         "type": "histogram",
         "x": [
          1,
          2
         ],
         "xaxis": "x",
         "y": [
          9,
          163
         ],
         "yaxis": "y"
        }
       ],
       "layout": {
        "barmode": "group",
        "legend": {
         "title": {
          "text": "WHEEZING"
         },
         "tracegroupgap": 0
        },
        "margin": {
         "t": 60
        },
        "template": {
         "data": {
          "bar": [
           {
            "error_x": {
             "color": "#2a3f5f"
            },
            "error_y": {
             "color": "#2a3f5f"
            },
            "marker": {
             "line": {
              "color": "#E5ECF6",
              "width": 0.5
             },
             "pattern": {
              "fillmode": "overlay",
              "size": 10,
              "solidity": 0.2
             }
            },
            "type": "bar"
           }
          ],
          "barpolar": [
           {
            "marker": {
             "line": {
              "color": "#E5ECF6",
              "width": 0.5
             },
             "pattern": {
              "fillmode": "overlay",
              "size": 10,
              "solidity": 0.2
             }
            },
            "type": "barpolar"
           }
          ],
          "carpet": [
           {
            "aaxis": {
             "endlinecolor": "#2a3f5f",
             "gridcolor": "white",
             "linecolor": "white",
             "minorgridcolor": "white",
             "startlinecolor": "#2a3f5f"
            },
            "baxis": {
             "endlinecolor": "#2a3f5f",
             "gridcolor": "white",
             "linecolor": "white",
             "minorgridcolor": "white",
             "startlinecolor": "#2a3f5f"
            },
            "type": "carpet"
           }
          ],
          "choropleth": [
           {
            "colorbar": {
             "outlinewidth": 0,
             "ticks": ""
            },
            "type": "choropleth"
           }
          ],
          "contour": [
           {
            "colorbar": {
             "outlinewidth": 0,
             "ticks": ""
            },
            "colorscale": [
             [
              0,
              "#0d0887"
             ],
             [
              0.1111111111111111,
              "#46039f"
             ],
             [
              0.2222222222222222,
              "#7201a8"
             ],
             [
              0.3333333333333333,
              "#9c179e"
             ],
             [
              0.4444444444444444,
              "#bd3786"
             ],
             [
              0.5555555555555556,
              "#d8576b"
             ],
             [
              0.6666666666666666,
              "#ed7953"
             ],
             [
              0.7777777777777778,
              "#fb9f3a"
             ],
             [
              0.8888888888888888,
              "#fdca26"
             ],
             [
              1,
              "#f0f921"
             ]
            ],
            "type": "contour"
           }
          ],
          "contourcarpet": [
           {
            "colorbar": {
             "outlinewidth": 0,
             "ticks": ""
            },
            "type": "contourcarpet"
           }
          ],
          "heatmap": [
           {
            "colorbar": {
             "outlinewidth": 0,
             "ticks": ""
            },
            "colorscale": [
             [
              0,
              "#0d0887"
             ],
             [
              0.1111111111111111,
              "#46039f"
             ],
             [
              0.2222222222222222,
              "#7201a8"
             ],
             [
              0.3333333333333333,
              "#9c179e"
             ],
             [
              0.4444444444444444,
              "#bd3786"
             ],
             [
              0.5555555555555556,
              "#d8576b"
             ],
             [
              0.6666666666666666,
              "#ed7953"
             ],
             [
              0.7777777777777778,
              "#fb9f3a"
             ],
             [
              0.8888888888888888,
              "#fdca26"
             ],
             [
              1,
              "#f0f921"
             ]
            ],
            "type": "heatmap"
           }
          ],
          "heatmapgl": [
           {
            "colorbar": {
             "outlinewidth": 0,
             "ticks": ""
            },
            "colorscale": [
             [
              0,
              "#0d0887"
             ],
             [
              0.1111111111111111,
              "#46039f"
             ],
             [
              0.2222222222222222,
              "#7201a8"
             ],
             [
              0.3333333333333333,
              "#9c179e"
             ],
             [
              0.4444444444444444,
              "#bd3786"
             ],
             [
              0.5555555555555556,
              "#d8576b"
             ],
             [
              0.6666666666666666,
              "#ed7953"
             ],
             [
              0.7777777777777778,
              "#fb9f3a"
             ],
             [
              0.8888888888888888,
              "#fdca26"
             ],
             [
              1,
              "#f0f921"
             ]
            ],
            "type": "heatmapgl"
           }
          ],
          "histogram": [
           {
            "marker": {
             "pattern": {
              "fillmode": "overlay",
              "size": 10,
              "solidity": 0.2
             }
            },
            "type": "histogram"
           }
          ],
          "histogram2d": [
           {
            "colorbar": {
             "outlinewidth": 0,
             "ticks": ""
            },
            "colorscale": [
             [
              0,
              "#0d0887"
             ],
             [
              0.1111111111111111,
              "#46039f"
             ],
             [
              0.2222222222222222,
              "#7201a8"
             ],
             [
              0.3333333333333333,
              "#9c179e"
             ],
             [
              0.4444444444444444,
              "#bd3786"
             ],
             [
              0.5555555555555556,
              "#d8576b"
             ],
             [
              0.6666666666666666,
              "#ed7953"
             ],
             [
              0.7777777777777778,
              "#fb9f3a"
             ],
             [
              0.8888888888888888,
              "#fdca26"
             ],
             [
              1,
              "#f0f921"
             ]
            ],
            "type": "histogram2d"
           }
          ],
          "histogram2dcontour": [
           {
            "colorbar": {
             "outlinewidth": 0,
             "ticks": ""
            },
            "colorscale": [
             [
              0,
              "#0d0887"
             ],
             [
              0.1111111111111111,
              "#46039f"
             ],
             [
              0.2222222222222222,
              "#7201a8"
             ],
             [
              0.3333333333333333,
              "#9c179e"
             ],
             [
              0.4444444444444444,
              "#bd3786"
             ],
             [
              0.5555555555555556,
              "#d8576b"
             ],
             [
              0.6666666666666666,
              "#ed7953"
             ],
             [
              0.7777777777777778,
              "#fb9f3a"
             ],
             [
              0.8888888888888888,
              "#fdca26"
             ],
             [
              1,
              "#f0f921"
             ]
            ],
            "type": "histogram2dcontour"
           }
          ],
          "mesh3d": [
           {
            "colorbar": {
             "outlinewidth": 0,
             "ticks": ""
            },
            "type": "mesh3d"
           }
          ],
          "parcoords": [
           {
            "line": {
             "colorbar": {
              "outlinewidth": 0,
              "ticks": ""
             }
            },
            "type": "parcoords"
           }
          ],
          "pie": [
           {
            "automargin": true,
            "type": "pie"
           }
          ],
          "scatter": [
           {
            "fillpattern": {
             "fillmode": "overlay",
             "size": 10,
             "solidity": 0.2
            },
            "type": "scatter"
           }
          ],
          "scatter3d": [
           {
            "line": {
             "colorbar": {
              "outlinewidth": 0,
              "ticks": ""
             }
            },
            "marker": {
             "colorbar": {
              "outlinewidth": 0,
              "ticks": ""
             }
            },
            "type": "scatter3d"
           }
          ],
          "scattercarpet": [
           {
            "marker": {
             "colorbar": {
              "outlinewidth": 0,
              "ticks": ""
             }
            },
            "type": "scattercarpet"
           }
          ],
          "scattergeo": [
           {
            "marker": {
             "colorbar": {
              "outlinewidth": 0,
              "ticks": ""
             }
            },
            "type": "scattergeo"
           }
          ],
          "scattergl": [
           {
            "marker": {
             "colorbar": {
              "outlinewidth": 0,
              "ticks": ""
             }
            },
            "type": "scattergl"
           }
          ],
          "scattermapbox": [
           {
            "marker": {
             "colorbar": {
              "outlinewidth": 0,
              "ticks": ""
             }
            },
            "type": "scattermapbox"
           }
          ],
          "scatterpolar": [
           {
            "marker": {
             "colorbar": {
              "outlinewidth": 0,
              "ticks": ""
             }
            },
            "type": "scatterpolar"
           }
          ],
          "scatterpolargl": [
           {
            "marker": {
             "colorbar": {
              "outlinewidth": 0,
              "ticks": ""
             }
            },
            "type": "scatterpolargl"
           }
          ],
          "scatterternary": [
           {
            "marker": {
             "colorbar": {
              "outlinewidth": 0,
              "ticks": ""
             }
            },
            "type": "scatterternary"
           }
          ],
          "surface": [
           {
            "colorbar": {
             "outlinewidth": 0,
             "ticks": ""
            },
            "colorscale": [
             [
              0,
              "#0d0887"
             ],
             [
              0.1111111111111111,
              "#46039f"
             ],
             [
              0.2222222222222222,
              "#7201a8"
             ],
             [
              0.3333333333333333,
              "#9c179e"
             ],
             [
              0.4444444444444444,
              "#bd3786"
             ],
             [
              0.5555555555555556,
              "#d8576b"
             ],
             [
              0.6666666666666666,
              "#ed7953"
             ],
             [
              0.7777777777777778,
              "#fb9f3a"
             ],
             [
              0.8888888888888888,
              "#fdca26"
             ],
             [
              1,
              "#f0f921"
             ]
            ],
            "type": "surface"
           }
          ],
          "table": [
           {
            "cells": {
             "fill": {
              "color": "#EBF0F8"
             },
             "line": {
              "color": "white"
             }
            },
            "header": {
             "fill": {
              "color": "#C8D4E3"
             },
             "line": {
              "color": "white"
             }
            },
            "type": "table"
           }
          ]
         },
         "layout": {
          "annotationdefaults": {
           "arrowcolor": "#2a3f5f",
           "arrowhead": 0,
           "arrowwidth": 1
          },
          "autotypenumbers": "strict",
          "coloraxis": {
           "colorbar": {
            "outlinewidth": 0,
            "ticks": ""
           }
          },
          "colorscale": {
           "diverging": [
            [
             0,
             "#8e0152"
            ],
            [
             0.1,
             "#c51b7d"
            ],
            [
             0.2,
             "#de77ae"
            ],
            [
             0.3,
             "#f1b6da"
            ],
            [
             0.4,
             "#fde0ef"
            ],
            [
             0.5,
             "#f7f7f7"
            ],
            [
             0.6,
             "#e6f5d0"
            ],
            [
             0.7,
             "#b8e186"
            ],
            [
             0.8,
             "#7fbc41"
            ],
            [
             0.9,
             "#4d9221"
            ],
            [
             1,
             "#276419"
            ]
           ],
           "sequential": [
            [
             0,
             "#0d0887"
            ],
            [
             0.1111111111111111,
             "#46039f"
            ],
            [
             0.2222222222222222,
             "#7201a8"
            ],
            [
             0.3333333333333333,
             "#9c179e"
            ],
            [
             0.4444444444444444,
             "#bd3786"
            ],
            [
             0.5555555555555556,
             "#d8576b"
            ],
            [
             0.6666666666666666,
             "#ed7953"
            ],
            [
             0.7777777777777778,
             "#fb9f3a"
            ],
            [
             0.8888888888888888,
             "#fdca26"
            ],
            [
             1,
             "#f0f921"
            ]
           ],
           "sequentialminus": [
            [
             0,
             "#0d0887"
            ],
            [
             0.1111111111111111,
             "#46039f"
            ],
            [
             0.2222222222222222,
             "#7201a8"
            ],
            [
             0.3333333333333333,
             "#9c179e"
            ],
            [
             0.4444444444444444,
             "#bd3786"
            ],
            [
             0.5555555555555556,
             "#d8576b"
            ],
            [
             0.6666666666666666,
             "#ed7953"
            ],
            [
             0.7777777777777778,
             "#fb9f3a"
            ],
            [
             0.8888888888888888,
             "#fdca26"
            ],
            [
             1,
             "#f0f921"
            ]
           ]
          },
          "colorway": [
           "#636efa",
           "#EF553B",
           "#00cc96",
           "#ab63fa",
           "#FFA15A",
           "#19d3f3",
           "#FF6692",
           "#B6E880",
           "#FF97FF",
           "#FECB52"
          ],
          "font": {
           "color": "#2a3f5f"
          },
          "geo": {
           "bgcolor": "white",
           "lakecolor": "white",
           "landcolor": "#E5ECF6",
           "showlakes": true,
           "showland": true,
           "subunitcolor": "white"
          },
          "hoverlabel": {
           "align": "left"
          },
          "hovermode": "closest",
          "mapbox": {
           "style": "light"
          },
          "paper_bgcolor": "white",
          "plot_bgcolor": "#E5ECF6",
          "polar": {
           "angularaxis": {
            "gridcolor": "white",
            "linecolor": "white",
            "ticks": ""
           },
           "bgcolor": "#E5ECF6",
           "radialaxis": {
            "gridcolor": "white",
            "linecolor": "white",
            "ticks": ""
           }
          },
          "scene": {
           "xaxis": {
            "backgroundcolor": "#E5ECF6",
            "gridcolor": "white",
            "gridwidth": 2,
            "linecolor": "white",
            "showbackground": true,
            "ticks": "",
            "zerolinecolor": "white"
           },
           "yaxis": {
            "backgroundcolor": "#E5ECF6",
            "gridcolor": "white",
            "gridwidth": 2,
            "linecolor": "white",
            "showbackground": true,
            "ticks": "",
            "zerolinecolor": "white"
           },
           "zaxis": {
            "backgroundcolor": "#E5ECF6",
            "gridcolor": "white",
            "gridwidth": 2,
            "linecolor": "white",
            "showbackground": true,
            "ticks": "",
            "zerolinecolor": "white"
           }
          },
          "shapedefaults": {
           "line": {
            "color": "#2a3f5f"
           }
          },
          "ternary": {
           "aaxis": {
            "gridcolor": "white",
            "linecolor": "white",
            "ticks": ""
           },
           "baxis": {
            "gridcolor": "white",
            "linecolor": "white",
            "ticks": ""
           },
           "bgcolor": "#E5ECF6",
           "caxis": {
            "gridcolor": "white",
            "linecolor": "white",
            "ticks": ""
           }
          },
          "title": {
           "x": 0.05
          },
          "xaxis": {
           "automargin": true,
           "gridcolor": "white",
           "linecolor": "white",
           "ticks": "",
           "title": {
            "standoff": 15
           },
           "zerolinecolor": "white",
           "zerolinewidth": 2
          },
          "yaxis": {
           "automargin": true,
           "gridcolor": "white",
           "linecolor": "white",
           "ticks": "",
           "title": {
            "standoff": 15
           },
           "zerolinecolor": "white",
           "zerolinewidth": 2
          }
         }
        },
        "xaxis": {
         "anchor": "y",
         "domain": [
          0,
          1
         ],
         "title": {
          "text": "LUNG_CANCER"
         }
        },
        "yaxis": {
         "anchor": "x",
         "domain": [
          0,
          1
         ],
         "title": {
          "text": "sum of counts"
         }
        }
       }
      }
     },
     "metadata": {},
     "output_type": "display_data"
    }
   ],
   "source": [
    "#Gráfico da relação entre asma e cancer de pulmão\n",
    "px.histogram(data_frame=base_asma, x=\"LUNG_CANCER\", y=\"counts\", color=\"WHEEZING\", barmode='group', color_discrete_sequence=px.colors.qualitative.Alphabet)\n"
   ]
  },
  {
   "cell_type": "markdown",
   "id": "12fe1562",
   "metadata": {},
   "source": [
    "## Consumo de alcool e câncer no pulmão\n",
    "\n",
    "#### NO ALCOHOL CONSUMING = 1 \n",
    "#### YES ALCOHOL CONSUMING = 2"
   ]
  },
  {
   "cell_type": "code",
   "execution_count": 132,
   "id": "1f066c0e",
   "metadata": {},
   "outputs": [
    {
     "data": {
      "text/html": [
       "<div>\n",
       "<style scoped>\n",
       "    .dataframe tbody tr th:only-of-type {\n",
       "        vertical-align: middle;\n",
       "    }\n",
       "\n",
       "    .dataframe tbody tr th {\n",
       "        vertical-align: top;\n",
       "    }\n",
       "\n",
       "    .dataframe thead th {\n",
       "        text-align: right;\n",
       "    }\n",
       "</style>\n",
       "<table border=\"1\" class=\"dataframe\">\n",
       "  <thead>\n",
       "    <tr style=\"text-align: right;\">\n",
       "      <th></th>\n",
       "      <th>ALCOHOL CONSUMING</th>\n",
       "      <th>LUNG_CANCER</th>\n",
       "      <th>counts</th>\n",
       "    </tr>\n",
       "  </thead>\n",
       "  <tbody>\n",
       "    <tr>\n",
       "      <th>0</th>\n",
       "      <td>1</td>\n",
       "      <td>1</td>\n",
       "      <td>32</td>\n",
       "    </tr>\n",
       "    <tr>\n",
       "      <th>1</th>\n",
       "      <td>1</td>\n",
       "      <td>2</td>\n",
       "      <td>105</td>\n",
       "    </tr>\n",
       "    <tr>\n",
       "      <th>2</th>\n",
       "      <td>2</td>\n",
       "      <td>1</td>\n",
       "      <td>7</td>\n",
       "    </tr>\n",
       "    <tr>\n",
       "      <th>3</th>\n",
       "      <td>2</td>\n",
       "      <td>2</td>\n",
       "      <td>165</td>\n",
       "    </tr>\n",
       "  </tbody>\n",
       "</table>\n",
       "</div>"
      ],
      "text/plain": [
       "   ALCOHOL CONSUMING  LUNG_CANCER  counts\n",
       "0                  1            1      32\n",
       "1                  1            2     105\n",
       "2                  2            1       7\n",
       "3                  2            2     165"
      ]
     },
     "execution_count": 132,
     "metadata": {},
     "output_type": "execute_result"
    }
   ],
   "source": [
    "dados_alcohol = base.groupby(by=[\"ALCOHOL CONSUMING\", \"LUNG_CANCER\"]).size().reset_index(name=\"counts\")\n",
    "dados_alcohol"
   ]
  },
  {
   "cell_type": "code",
   "execution_count": 133,
   "id": "fc4a177d",
   "metadata": {},
   "outputs": [
    {
     "data": {
      "application/vnd.plotly.v1+json": {
       "config": {
        "plotlyServerURL": "https://plot.ly"
       },
       "data": [
        {
         "alignmentgroup": "True",
         "bingroup": "x",
         "histfunc": "sum",
         "hovertemplate": "ALCOHOL CONSUMING=1<br>LUNG_CANCER=%{x}<br>sum of counts=%{y}<extra></extra>",
         "legendgroup": "1",
         "marker": {
          "color": "#2E91E5",
          "pattern": {
           "shape": ""
          }
         },
         "name": "1",
         "offsetgroup": "1",
         "orientation": "v",
         "showlegend": true,
         "type": "histogram",
         "x": [
          1,
          2
         ],
         "xaxis": "x",
         "y": [
          32,
          105
         ],
         "yaxis": "y"
        },
        {
         "alignmentgroup": "True",
         "bingroup": "x",
         "histfunc": "sum",
         "hovertemplate": "ALCOHOL CONSUMING=2<br>LUNG_CANCER=%{x}<br>sum of counts=%{y}<extra></extra>",
         "legendgroup": "2",
         "marker": {
          "color": "#E15F99",
          "pattern": {
           "shape": ""
          }
         },
         "name": "2",
         "offsetgroup": "2",
         "orientation": "v",
         "showlegend": true,
         "type": "histogram",
         "x": [
          1,
          2
         ],
         "xaxis": "x",
         "y": [
          7,
          165
         ],
         "yaxis": "y"
        }
       ],
       "layout": {
        "barmode": "group",
        "legend": {
         "title": {
          "text": "ALCOHOL CONSUMING"
         },
         "tracegroupgap": 0
        },
        "margin": {
         "t": 60
        },
        "template": {
         "data": {
          "bar": [
           {
            "error_x": {
             "color": "#2a3f5f"
            },
            "error_y": {
             "color": "#2a3f5f"
            },
            "marker": {
             "line": {
              "color": "#E5ECF6",
              "width": 0.5
             },
             "pattern": {
              "fillmode": "overlay",
              "size": 10,
              "solidity": 0.2
             }
            },
            "type": "bar"
           }
          ],
          "barpolar": [
           {
            "marker": {
             "line": {
              "color": "#E5ECF6",
              "width": 0.5
             },
             "pattern": {
              "fillmode": "overlay",
              "size": 10,
              "solidity": 0.2
             }
            },
            "type": "barpolar"
           }
          ],
          "carpet": [
           {
            "aaxis": {
             "endlinecolor": "#2a3f5f",
             "gridcolor": "white",
             "linecolor": "white",
             "minorgridcolor": "white",
             "startlinecolor": "#2a3f5f"
            },
            "baxis": {
             "endlinecolor": "#2a3f5f",
             "gridcolor": "white",
             "linecolor": "white",
             "minorgridcolor": "white",
             "startlinecolor": "#2a3f5f"
            },
            "type": "carpet"
           }
          ],
          "choropleth": [
           {
            "colorbar": {
             "outlinewidth": 0,
             "ticks": ""
            },
            "type": "choropleth"
           }
          ],
          "contour": [
           {
            "colorbar": {
             "outlinewidth": 0,
             "ticks": ""
            },
            "colorscale": [
             [
              0,
              "#0d0887"
             ],
             [
              0.1111111111111111,
              "#46039f"
             ],
             [
              0.2222222222222222,
              "#7201a8"
             ],
             [
              0.3333333333333333,
              "#9c179e"
             ],
             [
              0.4444444444444444,
              "#bd3786"
             ],
             [
              0.5555555555555556,
              "#d8576b"
             ],
             [
              0.6666666666666666,
              "#ed7953"
             ],
             [
              0.7777777777777778,
              "#fb9f3a"
             ],
             [
              0.8888888888888888,
              "#fdca26"
             ],
             [
              1,
              "#f0f921"
             ]
            ],
            "type": "contour"
           }
          ],
          "contourcarpet": [
           {
            "colorbar": {
             "outlinewidth": 0,
             "ticks": ""
            },
            "type": "contourcarpet"
           }
          ],
          "heatmap": [
           {
            "colorbar": {
             "outlinewidth": 0,
             "ticks": ""
            },
            "colorscale": [
             [
              0,
              "#0d0887"
             ],
             [
              0.1111111111111111,
              "#46039f"
             ],
             [
              0.2222222222222222,
              "#7201a8"
             ],
             [
              0.3333333333333333,
              "#9c179e"
             ],
             [
              0.4444444444444444,
              "#bd3786"
             ],
             [
              0.5555555555555556,
              "#d8576b"
             ],
             [
              0.6666666666666666,
              "#ed7953"
             ],
             [
              0.7777777777777778,
              "#fb9f3a"
             ],
             [
              0.8888888888888888,
              "#fdca26"
             ],
             [
              1,
              "#f0f921"
             ]
            ],
            "type": "heatmap"
           }
          ],
          "heatmapgl": [
           {
            "colorbar": {
             "outlinewidth": 0,
             "ticks": ""
            },
            "colorscale": [
             [
              0,
              "#0d0887"
             ],
             [
              0.1111111111111111,
              "#46039f"
             ],
             [
              0.2222222222222222,
              "#7201a8"
             ],
             [
              0.3333333333333333,
              "#9c179e"
             ],
             [
              0.4444444444444444,
              "#bd3786"
             ],
             [
              0.5555555555555556,
              "#d8576b"
             ],
             [
              0.6666666666666666,
              "#ed7953"
             ],
             [
              0.7777777777777778,
              "#fb9f3a"
             ],
             [
              0.8888888888888888,
              "#fdca26"
             ],
             [
              1,
              "#f0f921"
             ]
            ],
            "type": "heatmapgl"
           }
          ],
          "histogram": [
           {
            "marker": {
             "pattern": {
              "fillmode": "overlay",
              "size": 10,
              "solidity": 0.2
             }
            },
            "type": "histogram"
           }
          ],
          "histogram2d": [
           {
            "colorbar": {
             "outlinewidth": 0,
             "ticks": ""
            },
            "colorscale": [
             [
              0,
              "#0d0887"
             ],
             [
              0.1111111111111111,
              "#46039f"
             ],
             [
              0.2222222222222222,
              "#7201a8"
             ],
             [
              0.3333333333333333,
              "#9c179e"
             ],
             [
              0.4444444444444444,
              "#bd3786"
             ],
             [
              0.5555555555555556,
              "#d8576b"
             ],
             [
              0.6666666666666666,
              "#ed7953"
             ],
             [
              0.7777777777777778,
              "#fb9f3a"
             ],
             [
              0.8888888888888888,
              "#fdca26"
             ],
             [
              1,
              "#f0f921"
             ]
            ],
            "type": "histogram2d"
           }
          ],
          "histogram2dcontour": [
           {
            "colorbar": {
             "outlinewidth": 0,
             "ticks": ""
            },
            "colorscale": [
             [
              0,
              "#0d0887"
             ],
             [
              0.1111111111111111,
              "#46039f"
             ],
             [
              0.2222222222222222,
              "#7201a8"
             ],
             [
              0.3333333333333333,
              "#9c179e"
             ],
             [
              0.4444444444444444,
              "#bd3786"
             ],
             [
              0.5555555555555556,
              "#d8576b"
             ],
             [
              0.6666666666666666,
              "#ed7953"
             ],
             [
              0.7777777777777778,
              "#fb9f3a"
             ],
             [
              0.8888888888888888,
              "#fdca26"
             ],
             [
              1,
              "#f0f921"
             ]
            ],
            "type": "histogram2dcontour"
           }
          ],
          "mesh3d": [
           {
            "colorbar": {
             "outlinewidth": 0,
             "ticks": ""
            },
            "type": "mesh3d"
           }
          ],
          "parcoords": [
           {
            "line": {
             "colorbar": {
              "outlinewidth": 0,
              "ticks": ""
             }
            },
            "type": "parcoords"
           }
          ],
          "pie": [
           {
            "automargin": true,
            "type": "pie"
           }
          ],
          "scatter": [
           {
            "fillpattern": {
             "fillmode": "overlay",
             "size": 10,
             "solidity": 0.2
            },
            "type": "scatter"
           }
          ],
          "scatter3d": [
           {
            "line": {
             "colorbar": {
              "outlinewidth": 0,
              "ticks": ""
             }
            },
            "marker": {
             "colorbar": {
              "outlinewidth": 0,
              "ticks": ""
             }
            },
            "type": "scatter3d"
           }
          ],
          "scattercarpet": [
           {
            "marker": {
             "colorbar": {
              "outlinewidth": 0,
              "ticks": ""
             }
            },
            "type": "scattercarpet"
           }
          ],
          "scattergeo": [
           {
            "marker": {
             "colorbar": {
              "outlinewidth": 0,
              "ticks": ""
             }
            },
            "type": "scattergeo"
           }
          ],
          "scattergl": [
           {
            "marker": {
             "colorbar": {
              "outlinewidth": 0,
              "ticks": ""
             }
            },
            "type": "scattergl"
           }
          ],
          "scattermapbox": [
           {
            "marker": {
             "colorbar": {
              "outlinewidth": 0,
              "ticks": ""
             }
            },
            "type": "scattermapbox"
           }
          ],
          "scatterpolar": [
           {
            "marker": {
             "colorbar": {
              "outlinewidth": 0,
              "ticks": ""
             }
            },
            "type": "scatterpolar"
           }
          ],
          "scatterpolargl": [
           {
            "marker": {
             "colorbar": {
              "outlinewidth": 0,
              "ticks": ""
             }
            },
            "type": "scatterpolargl"
           }
          ],
          "scatterternary": [
           {
            "marker": {
             "colorbar": {
              "outlinewidth": 0,
              "ticks": ""
             }
            },
            "type": "scatterternary"
           }
          ],
          "surface": [
           {
            "colorbar": {
             "outlinewidth": 0,
             "ticks": ""
            },
            "colorscale": [
             [
              0,
              "#0d0887"
             ],
             [
              0.1111111111111111,
              "#46039f"
             ],
             [
              0.2222222222222222,
              "#7201a8"
             ],
             [
              0.3333333333333333,
              "#9c179e"
             ],
             [
              0.4444444444444444,
              "#bd3786"
             ],
             [
              0.5555555555555556,
              "#d8576b"
             ],
             [
              0.6666666666666666,
              "#ed7953"
             ],
             [
              0.7777777777777778,
              "#fb9f3a"
             ],
             [
              0.8888888888888888,
              "#fdca26"
             ],
             [
              1,
              "#f0f921"
             ]
            ],
            "type": "surface"
           }
          ],
          "table": [
           {
            "cells": {
             "fill": {
              "color": "#EBF0F8"
             },
             "line": {
              "color": "white"
             }
            },
            "header": {
             "fill": {
              "color": "#C8D4E3"
             },
             "line": {
              "color": "white"
             }
            },
            "type": "table"
           }
          ]
         },
         "layout": {
          "annotationdefaults": {
           "arrowcolor": "#2a3f5f",
           "arrowhead": 0,
           "arrowwidth": 1
          },
          "autotypenumbers": "strict",
          "coloraxis": {
           "colorbar": {
            "outlinewidth": 0,
            "ticks": ""
           }
          },
          "colorscale": {
           "diverging": [
            [
             0,
             "#8e0152"
            ],
            [
             0.1,
             "#c51b7d"
            ],
            [
             0.2,
             "#de77ae"
            ],
            [
             0.3,
             "#f1b6da"
            ],
            [
             0.4,
             "#fde0ef"
            ],
            [
             0.5,
             "#f7f7f7"
            ],
            [
             0.6,
             "#e6f5d0"
            ],
            [
             0.7,
             "#b8e186"
            ],
            [
             0.8,
             "#7fbc41"
            ],
            [
             0.9,
             "#4d9221"
            ],
            [
             1,
             "#276419"
            ]
           ],
           "sequential": [
            [
             0,
             "#0d0887"
            ],
            [
             0.1111111111111111,
             "#46039f"
            ],
            [
             0.2222222222222222,
             "#7201a8"
            ],
            [
             0.3333333333333333,
             "#9c179e"
            ],
            [
             0.4444444444444444,
             "#bd3786"
            ],
            [
             0.5555555555555556,
             "#d8576b"
            ],
            [
             0.6666666666666666,
             "#ed7953"
            ],
            [
             0.7777777777777778,
             "#fb9f3a"
            ],
            [
             0.8888888888888888,
             "#fdca26"
            ],
            [
             1,
             "#f0f921"
            ]
           ],
           "sequentialminus": [
            [
             0,
             "#0d0887"
            ],
            [
             0.1111111111111111,
             "#46039f"
            ],
            [
             0.2222222222222222,
             "#7201a8"
            ],
            [
             0.3333333333333333,
             "#9c179e"
            ],
            [
             0.4444444444444444,
             "#bd3786"
            ],
            [
             0.5555555555555556,
             "#d8576b"
            ],
            [
             0.6666666666666666,
             "#ed7953"
            ],
            [
             0.7777777777777778,
             "#fb9f3a"
            ],
            [
             0.8888888888888888,
             "#fdca26"
            ],
            [
             1,
             "#f0f921"
            ]
           ]
          },
          "colorway": [
           "#636efa",
           "#EF553B",
           "#00cc96",
           "#ab63fa",
           "#FFA15A",
           "#19d3f3",
           "#FF6692",
           "#B6E880",
           "#FF97FF",
           "#FECB52"
          ],
          "font": {
           "color": "#2a3f5f"
          },
          "geo": {
           "bgcolor": "white",
           "lakecolor": "white",
           "landcolor": "#E5ECF6",
           "showlakes": true,
           "showland": true,
           "subunitcolor": "white"
          },
          "hoverlabel": {
           "align": "left"
          },
          "hovermode": "closest",
          "mapbox": {
           "style": "light"
          },
          "paper_bgcolor": "white",
          "plot_bgcolor": "#E5ECF6",
          "polar": {
           "angularaxis": {
            "gridcolor": "white",
            "linecolor": "white",
            "ticks": ""
           },
           "bgcolor": "#E5ECF6",
           "radialaxis": {
            "gridcolor": "white",
            "linecolor": "white",
            "ticks": ""
           }
          },
          "scene": {
           "xaxis": {
            "backgroundcolor": "#E5ECF6",
            "gridcolor": "white",
            "gridwidth": 2,
            "linecolor": "white",
            "showbackground": true,
            "ticks": "",
            "zerolinecolor": "white"
           },
           "yaxis": {
            "backgroundcolor": "#E5ECF6",
            "gridcolor": "white",
            "gridwidth": 2,
            "linecolor": "white",
            "showbackground": true,
            "ticks": "",
            "zerolinecolor": "white"
           },
           "zaxis": {
            "backgroundcolor": "#E5ECF6",
            "gridcolor": "white",
            "gridwidth": 2,
            "linecolor": "white",
            "showbackground": true,
            "ticks": "",
            "zerolinecolor": "white"
           }
          },
          "shapedefaults": {
           "line": {
            "color": "#2a3f5f"
           }
          },
          "ternary": {
           "aaxis": {
            "gridcolor": "white",
            "linecolor": "white",
            "ticks": ""
           },
           "baxis": {
            "gridcolor": "white",
            "linecolor": "white",
            "ticks": ""
           },
           "bgcolor": "#E5ECF6",
           "caxis": {
            "gridcolor": "white",
            "linecolor": "white",
            "ticks": ""
           }
          },
          "title": {
           "x": 0.05
          },
          "xaxis": {
           "automargin": true,
           "gridcolor": "white",
           "linecolor": "white",
           "ticks": "",
           "title": {
            "standoff": 15
           },
           "zerolinecolor": "white",
           "zerolinewidth": 2
          },
          "yaxis": {
           "automargin": true,
           "gridcolor": "white",
           "linecolor": "white",
           "ticks": "",
           "title": {
            "standoff": 15
           },
           "zerolinecolor": "white",
           "zerolinewidth": 2
          }
         }
        },
        "xaxis": {
         "anchor": "y",
         "domain": [
          0,
          1
         ],
         "title": {
          "text": "LUNG_CANCER"
         }
        },
        "yaxis": {
         "anchor": "x",
         "domain": [
          0,
          1
         ],
         "title": {
          "text": "sum of counts"
         }
        }
       }
      }
     },
     "metadata": {},
     "output_type": "display_data"
    }
   ],
   "source": [
    "#Gráfico consumo de alcool vs cancer\n",
    "px.histogram(data_frame=dados_alcohol, x=\"LUNG_CANCER\", y=\"counts\", color=\"ALCOHOL CONSUMING\", barmode='group', color_discrete_sequence=px.colors.qualitative.Dark24)\n"
   ]
  },
  {
   "cell_type": "markdown",
   "id": "529ffb3a",
   "metadata": {},
   "source": [
    "## Correlação entre Tosse crônica e câncer de pulmão:"
   ]
  },
  {
   "cell_type": "code",
   "execution_count": 134,
   "id": "71895b06",
   "metadata": {},
   "outputs": [
    {
     "data": {
      "text/html": [
       "<div>\n",
       "<style scoped>\n",
       "    .dataframe tbody tr th:only-of-type {\n",
       "        vertical-align: middle;\n",
       "    }\n",
       "\n",
       "    .dataframe tbody tr th {\n",
       "        vertical-align: top;\n",
       "    }\n",
       "\n",
       "    .dataframe thead th {\n",
       "        text-align: right;\n",
       "    }\n",
       "</style>\n",
       "<table border=\"1\" class=\"dataframe\">\n",
       "  <thead>\n",
       "    <tr style=\"text-align: right;\">\n",
       "      <th></th>\n",
       "      <th>COUGHING</th>\n",
       "      <th>LUNG_CANCER</th>\n",
       "      <th>counts</th>\n",
       "    </tr>\n",
       "  </thead>\n",
       "  <tbody>\n",
       "    <tr>\n",
       "      <th>0</th>\n",
       "      <td>1</td>\n",
       "      <td>1</td>\n",
       "      <td>29</td>\n",
       "    </tr>\n",
       "    <tr>\n",
       "      <th>1</th>\n",
       "      <td>1</td>\n",
       "      <td>2</td>\n",
       "      <td>101</td>\n",
       "    </tr>\n",
       "    <tr>\n",
       "      <th>2</th>\n",
       "      <td>2</td>\n",
       "      <td>1</td>\n",
       "      <td>10</td>\n",
       "    </tr>\n",
       "    <tr>\n",
       "      <th>3</th>\n",
       "      <td>2</td>\n",
       "      <td>2</td>\n",
       "      <td>169</td>\n",
       "    </tr>\n",
       "  </tbody>\n",
       "</table>\n",
       "</div>"
      ],
      "text/plain": [
       "   COUGHING  LUNG_CANCER  counts\n",
       "0         1            1      29\n",
       "1         1            2     101\n",
       "2         2            1      10\n",
       "3         2            2     169"
      ]
     },
     "execution_count": 134,
     "metadata": {},
     "output_type": "execute_result"
    }
   ],
   "source": [
    "dados_tosse = base.groupby(by=[\"COUGHING\", \"LUNG_CANCER\"]).size().reset_index(name=\"counts\")\n",
    "dados_tosse"
   ]
  },
  {
   "cell_type": "code",
   "execution_count": 135,
   "id": "fd5cd1ba",
   "metadata": {},
   "outputs": [
    {
     "data": {
      "application/vnd.plotly.v1+json": {
       "config": {
        "plotlyServerURL": "https://plot.ly"
       },
       "data": [
        {
         "alignmentgroup": "True",
         "bingroup": "x",
         "histfunc": "sum",
         "hovertemplate": "COUGHING=1<br>LUNG_CANCER=%{x}<br>sum of counts=%{y}<extra></extra>",
         "legendgroup": "1",
         "marker": {
          "color": "#AA0DFE",
          "pattern": {
           "shape": ""
          }
         },
         "name": "1",
         "offsetgroup": "1",
         "orientation": "v",
         "showlegend": true,
         "type": "histogram",
         "x": [
          1,
          2
         ],
         "xaxis": "x",
         "y": [
          29,
          101
         ],
         "yaxis": "y"
        },
        {
         "alignmentgroup": "True",
         "bingroup": "x",
         "histfunc": "sum",
         "hovertemplate": "COUGHING=2<br>LUNG_CANCER=%{x}<br>sum of counts=%{y}<extra></extra>",
         "legendgroup": "2",
         "marker": {
          "color": "#3283FE",
          "pattern": {
           "shape": ""
          }
         },
         "name": "2",
         "offsetgroup": "2",
         "orientation": "v",
         "showlegend": true,
         "type": "histogram",
         "x": [
          1,
          2
         ],
         "xaxis": "x",
         "y": [
          10,
          169
         ],
         "yaxis": "y"
        }
       ],
       "layout": {
        "barmode": "group",
        "legend": {
         "title": {
          "text": "COUGHING"
         },
         "tracegroupgap": 0
        },
        "margin": {
         "t": 60
        },
        "template": {
         "data": {
          "bar": [
           {
            "error_x": {
             "color": "#2a3f5f"
            },
            "error_y": {
             "color": "#2a3f5f"
            },
            "marker": {
             "line": {
              "color": "#E5ECF6",
              "width": 0.5
             },
             "pattern": {
              "fillmode": "overlay",
              "size": 10,
              "solidity": 0.2
             }
            },
            "type": "bar"
           }
          ],
          "barpolar": [
           {
            "marker": {
             "line": {
              "color": "#E5ECF6",
              "width": 0.5
             },
             "pattern": {
              "fillmode": "overlay",
              "size": 10,
              "solidity": 0.2
             }
            },
            "type": "barpolar"
           }
          ],
          "carpet": [
           {
            "aaxis": {
             "endlinecolor": "#2a3f5f",
             "gridcolor": "white",
             "linecolor": "white",
             "minorgridcolor": "white",
             "startlinecolor": "#2a3f5f"
            },
            "baxis": {
             "endlinecolor": "#2a3f5f",
             "gridcolor": "white",
             "linecolor": "white",
             "minorgridcolor": "white",
             "startlinecolor": "#2a3f5f"
            },
            "type": "carpet"
           }
          ],
          "choropleth": [
           {
            "colorbar": {
             "outlinewidth": 0,
             "ticks": ""
            },
            "type": "choropleth"
           }
          ],
          "contour": [
           {
            "colorbar": {
             "outlinewidth": 0,
             "ticks": ""
            },
            "colorscale": [
             [
              0,
              "#0d0887"
             ],
             [
              0.1111111111111111,
              "#46039f"
             ],
             [
              0.2222222222222222,
              "#7201a8"
             ],
             [
              0.3333333333333333,
              "#9c179e"
             ],
             [
              0.4444444444444444,
              "#bd3786"
             ],
             [
              0.5555555555555556,
              "#d8576b"
             ],
             [
              0.6666666666666666,
              "#ed7953"
             ],
             [
              0.7777777777777778,
              "#fb9f3a"
             ],
             [
              0.8888888888888888,
              "#fdca26"
             ],
             [
              1,
              "#f0f921"
             ]
            ],
            "type": "contour"
           }
          ],
          "contourcarpet": [
           {
            "colorbar": {
             "outlinewidth": 0,
             "ticks": ""
            },
            "type": "contourcarpet"
           }
          ],
          "heatmap": [
           {
            "colorbar": {
             "outlinewidth": 0,
             "ticks": ""
            },
            "colorscale": [
             [
              0,
              "#0d0887"
             ],
             [
              0.1111111111111111,
              "#46039f"
             ],
             [
              0.2222222222222222,
              "#7201a8"
             ],
             [
              0.3333333333333333,
              "#9c179e"
             ],
             [
              0.4444444444444444,
              "#bd3786"
             ],
             [
              0.5555555555555556,
              "#d8576b"
             ],
             [
              0.6666666666666666,
              "#ed7953"
             ],
             [
              0.7777777777777778,
              "#fb9f3a"
             ],
             [
              0.8888888888888888,
              "#fdca26"
             ],
             [
              1,
              "#f0f921"
             ]
            ],
            "type": "heatmap"
           }
          ],
          "heatmapgl": [
           {
            "colorbar": {
             "outlinewidth": 0,
             "ticks": ""
            },
            "colorscale": [
             [
              0,
              "#0d0887"
             ],
             [
              0.1111111111111111,
              "#46039f"
             ],
             [
              0.2222222222222222,
              "#7201a8"
             ],
             [
              0.3333333333333333,
              "#9c179e"
             ],
             [
              0.4444444444444444,
              "#bd3786"
             ],
             [
              0.5555555555555556,
              "#d8576b"
             ],
             [
              0.6666666666666666,
              "#ed7953"
             ],
             [
              0.7777777777777778,
              "#fb9f3a"
             ],
             [
              0.8888888888888888,
              "#fdca26"
             ],
             [
              1,
              "#f0f921"
             ]
            ],
            "type": "heatmapgl"
           }
          ],
          "histogram": [
           {
            "marker": {
             "pattern": {
              "fillmode": "overlay",
              "size": 10,
              "solidity": 0.2
             }
            },
            "type": "histogram"
           }
          ],
          "histogram2d": [
           {
            "colorbar": {
             "outlinewidth": 0,
             "ticks": ""
            },
            "colorscale": [
             [
              0,
              "#0d0887"
             ],
             [
              0.1111111111111111,
              "#46039f"
             ],
             [
              0.2222222222222222,
              "#7201a8"
             ],
             [
              0.3333333333333333,
              "#9c179e"
             ],
             [
              0.4444444444444444,
              "#bd3786"
             ],
             [
              0.5555555555555556,
              "#d8576b"
             ],
             [
              0.6666666666666666,
              "#ed7953"
             ],
             [
              0.7777777777777778,
              "#fb9f3a"
             ],
             [
              0.8888888888888888,
              "#fdca26"
             ],
             [
              1,
              "#f0f921"
             ]
            ],
            "type": "histogram2d"
           }
          ],
          "histogram2dcontour": [
           {
            "colorbar": {
             "outlinewidth": 0,
             "ticks": ""
            },
            "colorscale": [
             [
              0,
              "#0d0887"
             ],
             [
              0.1111111111111111,
              "#46039f"
             ],
             [
              0.2222222222222222,
              "#7201a8"
             ],
             [
              0.3333333333333333,
              "#9c179e"
             ],
             [
              0.4444444444444444,
              "#bd3786"
             ],
             [
              0.5555555555555556,
              "#d8576b"
             ],
             [
              0.6666666666666666,
              "#ed7953"
             ],
             [
              0.7777777777777778,
              "#fb9f3a"
             ],
             [
              0.8888888888888888,
              "#fdca26"
             ],
             [
              1,
              "#f0f921"
             ]
            ],
            "type": "histogram2dcontour"
           }
          ],
          "mesh3d": [
           {
            "colorbar": {
             "outlinewidth": 0,
             "ticks": ""
            },
            "type": "mesh3d"
           }
          ],
          "parcoords": [
           {
            "line": {
             "colorbar": {
              "outlinewidth": 0,
              "ticks": ""
             }
            },
            "type": "parcoords"
           }
          ],
          "pie": [
           {
            "automargin": true,
            "type": "pie"
           }
          ],
          "scatter": [
           {
            "fillpattern": {
             "fillmode": "overlay",
             "size": 10,
             "solidity": 0.2
            },
            "type": "scatter"
           }
          ],
          "scatter3d": [
           {
            "line": {
             "colorbar": {
              "outlinewidth": 0,
              "ticks": ""
             }
            },
            "marker": {
             "colorbar": {
              "outlinewidth": 0,
              "ticks": ""
             }
            },
            "type": "scatter3d"
           }
          ],
          "scattercarpet": [
           {
            "marker": {
             "colorbar": {
              "outlinewidth": 0,
              "ticks": ""
             }
            },
            "type": "scattercarpet"
           }
          ],
          "scattergeo": [
           {
            "marker": {
             "colorbar": {
              "outlinewidth": 0,
              "ticks": ""
             }
            },
            "type": "scattergeo"
           }
          ],
          "scattergl": [
           {
            "marker": {
             "colorbar": {
              "outlinewidth": 0,
              "ticks": ""
             }
            },
            "type": "scattergl"
           }
          ],
          "scattermapbox": [
           {
            "marker": {
             "colorbar": {
              "outlinewidth": 0,
              "ticks": ""
             }
            },
            "type": "scattermapbox"
           }
          ],
          "scatterpolar": [
           {
            "marker": {
             "colorbar": {
              "outlinewidth": 0,
              "ticks": ""
             }
            },
            "type": "scatterpolar"
           }
          ],
          "scatterpolargl": [
           {
            "marker": {
             "colorbar": {
              "outlinewidth": 0,
              "ticks": ""
             }
            },
            "type": "scatterpolargl"
           }
          ],
          "scatterternary": [
           {
            "marker": {
             "colorbar": {
              "outlinewidth": 0,
              "ticks": ""
             }
            },
            "type": "scatterternary"
           }
          ],
          "surface": [
           {
            "colorbar": {
             "outlinewidth": 0,
             "ticks": ""
            },
            "colorscale": [
             [
              0,
              "#0d0887"
             ],
             [
              0.1111111111111111,
              "#46039f"
             ],
             [
              0.2222222222222222,
              "#7201a8"
             ],
             [
              0.3333333333333333,
              "#9c179e"
             ],
             [
              0.4444444444444444,
              "#bd3786"
             ],
             [
              0.5555555555555556,
              "#d8576b"
             ],
             [
              0.6666666666666666,
              "#ed7953"
             ],
             [
              0.7777777777777778,
              "#fb9f3a"
             ],
             [
              0.8888888888888888,
              "#fdca26"
             ],
             [
              1,
              "#f0f921"
             ]
            ],
            "type": "surface"
           }
          ],
          "table": [
           {
            "cells": {
             "fill": {
              "color": "#EBF0F8"
             },
             "line": {
              "color": "white"
             }
            },
            "header": {
             "fill": {
              "color": "#C8D4E3"
             },
             "line": {
              "color": "white"
             }
            },
            "type": "table"
           }
          ]
         },
         "layout": {
          "annotationdefaults": {
           "arrowcolor": "#2a3f5f",
           "arrowhead": 0,
           "arrowwidth": 1
          },
          "autotypenumbers": "strict",
          "coloraxis": {
           "colorbar": {
            "outlinewidth": 0,
            "ticks": ""
           }
          },
          "colorscale": {
           "diverging": [
            [
             0,
             "#8e0152"
            ],
            [
             0.1,
             "#c51b7d"
            ],
            [
             0.2,
             "#de77ae"
            ],
            [
             0.3,
             "#f1b6da"
            ],
            [
             0.4,
             "#fde0ef"
            ],
            [
             0.5,
             "#f7f7f7"
            ],
            [
             0.6,
             "#e6f5d0"
            ],
            [
             0.7,
             "#b8e186"
            ],
            [
             0.8,
             "#7fbc41"
            ],
            [
             0.9,
             "#4d9221"
            ],
            [
             1,
             "#276419"
            ]
           ],
           "sequential": [
            [
             0,
             "#0d0887"
            ],
            [
             0.1111111111111111,
             "#46039f"
            ],
            [
             0.2222222222222222,
             "#7201a8"
            ],
            [
             0.3333333333333333,
             "#9c179e"
            ],
            [
             0.4444444444444444,
             "#bd3786"
            ],
            [
             0.5555555555555556,
             "#d8576b"
            ],
            [
             0.6666666666666666,
             "#ed7953"
            ],
            [
             0.7777777777777778,
             "#fb9f3a"
            ],
            [
             0.8888888888888888,
             "#fdca26"
            ],
            [
             1,
             "#f0f921"
            ]
           ],
           "sequentialminus": [
            [
             0,
             "#0d0887"
            ],
            [
             0.1111111111111111,
             "#46039f"
            ],
            [
             0.2222222222222222,
             "#7201a8"
            ],
            [
             0.3333333333333333,
             "#9c179e"
            ],
            [
             0.4444444444444444,
             "#bd3786"
            ],
            [
             0.5555555555555556,
             "#d8576b"
            ],
            [
             0.6666666666666666,
             "#ed7953"
            ],
            [
             0.7777777777777778,
             "#fb9f3a"
            ],
            [
             0.8888888888888888,
             "#fdca26"
            ],
            [
             1,
             "#f0f921"
            ]
           ]
          },
          "colorway": [
           "#636efa",
           "#EF553B",
           "#00cc96",
           "#ab63fa",
           "#FFA15A",
           "#19d3f3",
           "#FF6692",
           "#B6E880",
           "#FF97FF",
           "#FECB52"
          ],
          "font": {
           "color": "#2a3f5f"
          },
          "geo": {
           "bgcolor": "white",
           "lakecolor": "white",
           "landcolor": "#E5ECF6",
           "showlakes": true,
           "showland": true,
           "subunitcolor": "white"
          },
          "hoverlabel": {
           "align": "left"
          },
          "hovermode": "closest",
          "mapbox": {
           "style": "light"
          },
          "paper_bgcolor": "white",
          "plot_bgcolor": "#E5ECF6",
          "polar": {
           "angularaxis": {
            "gridcolor": "white",
            "linecolor": "white",
            "ticks": ""
           },
           "bgcolor": "#E5ECF6",
           "radialaxis": {
            "gridcolor": "white",
            "linecolor": "white",
            "ticks": ""
           }
          },
          "scene": {
           "xaxis": {
            "backgroundcolor": "#E5ECF6",
            "gridcolor": "white",
            "gridwidth": 2,
            "linecolor": "white",
            "showbackground": true,
            "ticks": "",
            "zerolinecolor": "white"
           },
           "yaxis": {
            "backgroundcolor": "#E5ECF6",
            "gridcolor": "white",
            "gridwidth": 2,
            "linecolor": "white",
            "showbackground": true,
            "ticks": "",
            "zerolinecolor": "white"
           },
           "zaxis": {
            "backgroundcolor": "#E5ECF6",
            "gridcolor": "white",
            "gridwidth": 2,
            "linecolor": "white",
            "showbackground": true,
            "ticks": "",
            "zerolinecolor": "white"
           }
          },
          "shapedefaults": {
           "line": {
            "color": "#2a3f5f"
           }
          },
          "ternary": {
           "aaxis": {
            "gridcolor": "white",
            "linecolor": "white",
            "ticks": ""
           },
           "baxis": {
            "gridcolor": "white",
            "linecolor": "white",
            "ticks": ""
           },
           "bgcolor": "#E5ECF6",
           "caxis": {
            "gridcolor": "white",
            "linecolor": "white",
            "ticks": ""
           }
          },
          "title": {
           "x": 0.05
          },
          "xaxis": {
           "automargin": true,
           "gridcolor": "white",
           "linecolor": "white",
           "ticks": "",
           "title": {
            "standoff": 15
           },
           "zerolinecolor": "white",
           "zerolinewidth": 2
          },
          "yaxis": {
           "automargin": true,
           "gridcolor": "white",
           "linecolor": "white",
           "ticks": "",
           "title": {
            "standoff": 15
           },
           "zerolinecolor": "white",
           "zerolinewidth": 2
          }
         }
        },
        "xaxis": {
         "anchor": "y",
         "domain": [
          0,
          1
         ],
         "title": {
          "text": "LUNG_CANCER"
         }
        },
        "yaxis": {
         "anchor": "x",
         "domain": [
          0,
          1
         ],
         "title": {
          "text": "sum of counts"
         }
        }
       }
      }
     },
     "metadata": {},
     "output_type": "display_data"
    }
   ],
   "source": [
    "px.histogram(data_frame=dados_tosse, x=\"LUNG_CANCER\", y=\"counts\", color=\"COUGHING\", barmode='group', color_discrete_sequence=px.colors.qualitative.Alphabet)\n"
   ]
  },
  {
   "cell_type": "markdown",
   "id": "914659ad",
   "metadata": {},
   "source": [
    "## Análise da correlação entre Fumar e o Câncer de Pulmão"
   ]
  },
  {
   "cell_type": "code",
   "execution_count": 136,
   "id": "658bd525",
   "metadata": {},
   "outputs": [
    {
     "data": {
      "text/html": [
       "<div>\n",
       "<style scoped>\n",
       "    .dataframe tbody tr th:only-of-type {\n",
       "        vertical-align: middle;\n",
       "    }\n",
       "\n",
       "    .dataframe tbody tr th {\n",
       "        vertical-align: top;\n",
       "    }\n",
       "\n",
       "    .dataframe thead th {\n",
       "        text-align: right;\n",
       "    }\n",
       "</style>\n",
       "<table border=\"1\" class=\"dataframe\">\n",
       "  <thead>\n",
       "    <tr style=\"text-align: right;\">\n",
       "      <th></th>\n",
       "      <th>SMOKING</th>\n",
       "      <th>LUNG_CANCER</th>\n",
       "      <th>counts</th>\n",
       "    </tr>\n",
       "  </thead>\n",
       "  <tbody>\n",
       "    <tr>\n",
       "      <th>0</th>\n",
       "      <td>1</td>\n",
       "      <td>1</td>\n",
       "      <td>20</td>\n",
       "    </tr>\n",
       "    <tr>\n",
       "      <th>1</th>\n",
       "      <td>1</td>\n",
       "      <td>2</td>\n",
       "      <td>115</td>\n",
       "    </tr>\n",
       "    <tr>\n",
       "      <th>2</th>\n",
       "      <td>2</td>\n",
       "      <td>1</td>\n",
       "      <td>19</td>\n",
       "    </tr>\n",
       "    <tr>\n",
       "      <th>3</th>\n",
       "      <td>2</td>\n",
       "      <td>2</td>\n",
       "      <td>155</td>\n",
       "    </tr>\n",
       "  </tbody>\n",
       "</table>\n",
       "</div>"
      ],
      "text/plain": [
       "   SMOKING  LUNG_CANCER  counts\n",
       "0        1            1      20\n",
       "1        1            2     115\n",
       "2        2            1      19\n",
       "3        2            2     155"
      ]
     },
     "execution_count": 136,
     "metadata": {},
     "output_type": "execute_result"
    }
   ],
   "source": [
    "dg = base.groupby(by=[\"SMOKING\", \"LUNG_CANCER\"]).size().reset_index(name=\"counts\")\n",
    "dg"
   ]
  },
  {
   "cell_type": "code",
   "execution_count": 137,
   "id": "220bf60f",
   "metadata": {},
   "outputs": [
    {
     "data": {
      "application/vnd.plotly.v1+json": {
       "config": {
        "plotlyServerURL": "https://plot.ly"
       },
       "data": [
        {
         "alignmentgroup": "True",
         "bingroup": "x",
         "histfunc": "sum",
         "hovertemplate": "SMOKING=1<br>LUNG_CANCER=%{x}<br>sum of counts=%{y}<extra></extra>",
         "legendgroup": "1",
         "marker": {
          "color": "#2E91E5",
          "pattern": {
           "shape": ""
          }
         },
         "name": "1",
         "offsetgroup": "1",
         "orientation": "v",
         "showlegend": true,
         "type": "histogram",
         "x": [
          1,
          2
         ],
         "xaxis": "x",
         "y": [
          20,
          115
         ],
         "yaxis": "y"
        },
        {
         "alignmentgroup": "True",
         "bingroup": "x",
         "histfunc": "sum",
         "hovertemplate": "SMOKING=2<br>LUNG_CANCER=%{x}<br>sum of counts=%{y}<extra></extra>",
         "legendgroup": "2",
         "marker": {
          "color": "#E15F99",
          "pattern": {
           "shape": ""
          }
         },
         "name": "2",
         "offsetgroup": "2",
         "orientation": "v",
         "showlegend": true,
         "type": "histogram",
         "x": [
          1,
          2
         ],
         "xaxis": "x",
         "y": [
          19,
          155
         ],
         "yaxis": "y"
        }
       ],
       "layout": {
        "barmode": "group",
        "legend": {
         "title": {
          "text": "SMOKING"
         },
         "tracegroupgap": 0
        },
        "margin": {
         "t": 60
        },
        "template": {
         "data": {
          "bar": [
           {
            "error_x": {
             "color": "#2a3f5f"
            },
            "error_y": {
             "color": "#2a3f5f"
            },
            "marker": {
             "line": {
              "color": "#E5ECF6",
              "width": 0.5
             },
             "pattern": {
              "fillmode": "overlay",
              "size": 10,
              "solidity": 0.2
             }
            },
            "type": "bar"
           }
          ],
          "barpolar": [
           {
            "marker": {
             "line": {
              "color": "#E5ECF6",
              "width": 0.5
             },
             "pattern": {
              "fillmode": "overlay",
              "size": 10,
              "solidity": 0.2
             }
            },
            "type": "barpolar"
           }
          ],
          "carpet": [
           {
            "aaxis": {
             "endlinecolor": "#2a3f5f",
             "gridcolor": "white",
             "linecolor": "white",
             "minorgridcolor": "white",
             "startlinecolor": "#2a3f5f"
            },
            "baxis": {
             "endlinecolor": "#2a3f5f",
             "gridcolor": "white",
             "linecolor": "white",
             "minorgridcolor": "white",
             "startlinecolor": "#2a3f5f"
            },
            "type": "carpet"
           }
          ],
          "choropleth": [
           {
            "colorbar": {
             "outlinewidth": 0,
             "ticks": ""
            },
            "type": "choropleth"
           }
          ],
          "contour": [
           {
            "colorbar": {
             "outlinewidth": 0,
             "ticks": ""
            },
            "colorscale": [
             [
              0,
              "#0d0887"
             ],
             [
              0.1111111111111111,
              "#46039f"
             ],
             [
              0.2222222222222222,
              "#7201a8"
             ],
             [
              0.3333333333333333,
              "#9c179e"
             ],
             [
              0.4444444444444444,
              "#bd3786"
             ],
             [
              0.5555555555555556,
              "#d8576b"
             ],
             [
              0.6666666666666666,
              "#ed7953"
             ],
             [
              0.7777777777777778,
              "#fb9f3a"
             ],
             [
              0.8888888888888888,
              "#fdca26"
             ],
             [
              1,
              "#f0f921"
             ]
            ],
            "type": "contour"
           }
          ],
          "contourcarpet": [
           {
            "colorbar": {
             "outlinewidth": 0,
             "ticks": ""
            },
            "type": "contourcarpet"
           }
          ],
          "heatmap": [
           {
            "colorbar": {
             "outlinewidth": 0,
             "ticks": ""
            },
            "colorscale": [
             [
              0,
              "#0d0887"
             ],
             [
              0.1111111111111111,
              "#46039f"
             ],
             [
              0.2222222222222222,
              "#7201a8"
             ],
             [
              0.3333333333333333,
              "#9c179e"
             ],
             [
              0.4444444444444444,
              "#bd3786"
             ],
             [
              0.5555555555555556,
              "#d8576b"
             ],
             [
              0.6666666666666666,
              "#ed7953"
             ],
             [
              0.7777777777777778,
              "#fb9f3a"
             ],
             [
              0.8888888888888888,
              "#fdca26"
             ],
             [
              1,
              "#f0f921"
             ]
            ],
            "type": "heatmap"
           }
          ],
          "heatmapgl": [
           {
            "colorbar": {
             "outlinewidth": 0,
             "ticks": ""
            },
            "colorscale": [
             [
              0,
              "#0d0887"
             ],
             [
              0.1111111111111111,
              "#46039f"
             ],
             [
              0.2222222222222222,
              "#7201a8"
             ],
             [
              0.3333333333333333,
              "#9c179e"
             ],
             [
              0.4444444444444444,
              "#bd3786"
             ],
             [
              0.5555555555555556,
              "#d8576b"
             ],
             [
              0.6666666666666666,
              "#ed7953"
             ],
             [
              0.7777777777777778,
              "#fb9f3a"
             ],
             [
              0.8888888888888888,
              "#fdca26"
             ],
             [
              1,
              "#f0f921"
             ]
            ],
            "type": "heatmapgl"
           }
          ],
          "histogram": [
           {
            "marker": {
             "pattern": {
              "fillmode": "overlay",
              "size": 10,
              "solidity": 0.2
             }
            },
            "type": "histogram"
           }
          ],
          "histogram2d": [
           {
            "colorbar": {
             "outlinewidth": 0,
             "ticks": ""
            },
            "colorscale": [
             [
              0,
              "#0d0887"
             ],
             [
              0.1111111111111111,
              "#46039f"
             ],
             [
              0.2222222222222222,
              "#7201a8"
             ],
             [
              0.3333333333333333,
              "#9c179e"
             ],
             [
              0.4444444444444444,
              "#bd3786"
             ],
             [
              0.5555555555555556,
              "#d8576b"
             ],
             [
              0.6666666666666666,
              "#ed7953"
             ],
             [
              0.7777777777777778,
              "#fb9f3a"
             ],
             [
              0.8888888888888888,
              "#fdca26"
             ],
             [
              1,
              "#f0f921"
             ]
            ],
            "type": "histogram2d"
           }
          ],
          "histogram2dcontour": [
           {
            "colorbar": {
             "outlinewidth": 0,
             "ticks": ""
            },
            "colorscale": [
             [
              0,
              "#0d0887"
             ],
             [
              0.1111111111111111,
              "#46039f"
             ],
             [
              0.2222222222222222,
              "#7201a8"
             ],
             [
              0.3333333333333333,
              "#9c179e"
             ],
             [
              0.4444444444444444,
              "#bd3786"
             ],
             [
              0.5555555555555556,
              "#d8576b"
             ],
             [
              0.6666666666666666,
              "#ed7953"
             ],
             [
              0.7777777777777778,
              "#fb9f3a"
             ],
             [
              0.8888888888888888,
              "#fdca26"
             ],
             [
              1,
              "#f0f921"
             ]
            ],
            "type": "histogram2dcontour"
           }
          ],
          "mesh3d": [
           {
            "colorbar": {
             "outlinewidth": 0,
             "ticks": ""
            },
            "type": "mesh3d"
           }
          ],
          "parcoords": [
           {
            "line": {
             "colorbar": {
              "outlinewidth": 0,
              "ticks": ""
             }
            },
            "type": "parcoords"
           }
          ],
          "pie": [
           {
            "automargin": true,
            "type": "pie"
           }
          ],
          "scatter": [
           {
            "fillpattern": {
             "fillmode": "overlay",
             "size": 10,
             "solidity": 0.2
            },
            "type": "scatter"
           }
          ],
          "scatter3d": [
           {
            "line": {
             "colorbar": {
              "outlinewidth": 0,
              "ticks": ""
             }
            },
            "marker": {
             "colorbar": {
              "outlinewidth": 0,
              "ticks": ""
             }
            },
            "type": "scatter3d"
           }
          ],
          "scattercarpet": [
           {
            "marker": {
             "colorbar": {
              "outlinewidth": 0,
              "ticks": ""
             }
            },
            "type": "scattercarpet"
           }
          ],
          "scattergeo": [
           {
            "marker": {
             "colorbar": {
              "outlinewidth": 0,
              "ticks": ""
             }
            },
            "type": "scattergeo"
           }
          ],
          "scattergl": [
           {
            "marker": {
             "colorbar": {
              "outlinewidth": 0,
              "ticks": ""
             }
            },
            "type": "scattergl"
           }
          ],
          "scattermapbox": [
           {
            "marker": {
             "colorbar": {
              "outlinewidth": 0,
              "ticks": ""
             }
            },
            "type": "scattermapbox"
           }
          ],
          "scatterpolar": [
           {
            "marker": {
             "colorbar": {
              "outlinewidth": 0,
              "ticks": ""
             }
            },
            "type": "scatterpolar"
           }
          ],
          "scatterpolargl": [
           {
            "marker": {
             "colorbar": {
              "outlinewidth": 0,
              "ticks": ""
             }
            },
            "type": "scatterpolargl"
           }
          ],
          "scatterternary": [
           {
            "marker": {
             "colorbar": {
              "outlinewidth": 0,
              "ticks": ""
             }
            },
            "type": "scatterternary"
           }
          ],
          "surface": [
           {
            "colorbar": {
             "outlinewidth": 0,
             "ticks": ""
            },
            "colorscale": [
             [
              0,
              "#0d0887"
             ],
             [
              0.1111111111111111,
              "#46039f"
             ],
             [
              0.2222222222222222,
              "#7201a8"
             ],
             [
              0.3333333333333333,
              "#9c179e"
             ],
             [
              0.4444444444444444,
              "#bd3786"
             ],
             [
              0.5555555555555556,
              "#d8576b"
             ],
             [
              0.6666666666666666,
              "#ed7953"
             ],
             [
              0.7777777777777778,
              "#fb9f3a"
             ],
             [
              0.8888888888888888,
              "#fdca26"
             ],
             [
              1,
              "#f0f921"
             ]
            ],
            "type": "surface"
           }
          ],
          "table": [
           {
            "cells": {
             "fill": {
              "color": "#EBF0F8"
             },
             "line": {
              "color": "white"
             }
            },
            "header": {
             "fill": {
              "color": "#C8D4E3"
             },
             "line": {
              "color": "white"
             }
            },
            "type": "table"
           }
          ]
         },
         "layout": {
          "annotationdefaults": {
           "arrowcolor": "#2a3f5f",
           "arrowhead": 0,
           "arrowwidth": 1
          },
          "autotypenumbers": "strict",
          "coloraxis": {
           "colorbar": {
            "outlinewidth": 0,
            "ticks": ""
           }
          },
          "colorscale": {
           "diverging": [
            [
             0,
             "#8e0152"
            ],
            [
             0.1,
             "#c51b7d"
            ],
            [
             0.2,
             "#de77ae"
            ],
            [
             0.3,
             "#f1b6da"
            ],
            [
             0.4,
             "#fde0ef"
            ],
            [
             0.5,
             "#f7f7f7"
            ],
            [
             0.6,
             "#e6f5d0"
            ],
            [
             0.7,
             "#b8e186"
            ],
            [
             0.8,
             "#7fbc41"
            ],
            [
             0.9,
             "#4d9221"
            ],
            [
             1,
             "#276419"
            ]
           ],
           "sequential": [
            [
             0,
             "#0d0887"
            ],
            [
             0.1111111111111111,
             "#46039f"
            ],
            [
             0.2222222222222222,
             "#7201a8"
            ],
            [
             0.3333333333333333,
             "#9c179e"
            ],
            [
             0.4444444444444444,
             "#bd3786"
            ],
            [
             0.5555555555555556,
             "#d8576b"
            ],
            [
             0.6666666666666666,
             "#ed7953"
            ],
            [
             0.7777777777777778,
             "#fb9f3a"
            ],
            [
             0.8888888888888888,
             "#fdca26"
            ],
            [
             1,
             "#f0f921"
            ]
           ],
           "sequentialminus": [
            [
             0,
             "#0d0887"
            ],
            [
             0.1111111111111111,
             "#46039f"
            ],
            [
             0.2222222222222222,
             "#7201a8"
            ],
            [
             0.3333333333333333,
             "#9c179e"
            ],
            [
             0.4444444444444444,
             "#bd3786"
            ],
            [
             0.5555555555555556,
             "#d8576b"
            ],
            [
             0.6666666666666666,
             "#ed7953"
            ],
            [
             0.7777777777777778,
             "#fb9f3a"
            ],
            [
             0.8888888888888888,
             "#fdca26"
            ],
            [
             1,
             "#f0f921"
            ]
           ]
          },
          "colorway": [
           "#636efa",
           "#EF553B",
           "#00cc96",
           "#ab63fa",
           "#FFA15A",
           "#19d3f3",
           "#FF6692",
           "#B6E880",
           "#FF97FF",
           "#FECB52"
          ],
          "font": {
           "color": "#2a3f5f"
          },
          "geo": {
           "bgcolor": "white",
           "lakecolor": "white",
           "landcolor": "#E5ECF6",
           "showlakes": true,
           "showland": true,
           "subunitcolor": "white"
          },
          "hoverlabel": {
           "align": "left"
          },
          "hovermode": "closest",
          "mapbox": {
           "style": "light"
          },
          "paper_bgcolor": "white",
          "plot_bgcolor": "#E5ECF6",
          "polar": {
           "angularaxis": {
            "gridcolor": "white",
            "linecolor": "white",
            "ticks": ""
           },
           "bgcolor": "#E5ECF6",
           "radialaxis": {
            "gridcolor": "white",
            "linecolor": "white",
            "ticks": ""
           }
          },
          "scene": {
           "xaxis": {
            "backgroundcolor": "#E5ECF6",
            "gridcolor": "white",
            "gridwidth": 2,
            "linecolor": "white",
            "showbackground": true,
            "ticks": "",
            "zerolinecolor": "white"
           },
           "yaxis": {
            "backgroundcolor": "#E5ECF6",
            "gridcolor": "white",
            "gridwidth": 2,
            "linecolor": "white",
            "showbackground": true,
            "ticks": "",
            "zerolinecolor": "white"
           },
           "zaxis": {
            "backgroundcolor": "#E5ECF6",
            "gridcolor": "white",
            "gridwidth": 2,
            "linecolor": "white",
            "showbackground": true,
            "ticks": "",
            "zerolinecolor": "white"
           }
          },
          "shapedefaults": {
           "line": {
            "color": "#2a3f5f"
           }
          },
          "ternary": {
           "aaxis": {
            "gridcolor": "white",
            "linecolor": "white",
            "ticks": ""
           },
           "baxis": {
            "gridcolor": "white",
            "linecolor": "white",
            "ticks": ""
           },
           "bgcolor": "#E5ECF6",
           "caxis": {
            "gridcolor": "white",
            "linecolor": "white",
            "ticks": ""
           }
          },
          "title": {
           "x": 0.05
          },
          "xaxis": {
           "automargin": true,
           "gridcolor": "white",
           "linecolor": "white",
           "ticks": "",
           "title": {
            "standoff": 15
           },
           "zerolinecolor": "white",
           "zerolinewidth": 2
          },
          "yaxis": {
           "automargin": true,
           "gridcolor": "white",
           "linecolor": "white",
           "ticks": "",
           "title": {
            "standoff": 15
           },
           "zerolinecolor": "white",
           "zerolinewidth": 2
          }
         }
        },
        "xaxis": {
         "anchor": "y",
         "domain": [
          0,
          1
         ],
         "title": {
          "text": "LUNG_CANCER"
         }
        },
        "yaxis": {
         "anchor": "x",
         "domain": [
          0,
          1
         ],
         "title": {
          "text": "sum of counts"
         }
        }
       }
      }
     },
     "metadata": {},
     "output_type": "display_data"
    }
   ],
   "source": [
    "px.histogram(data_frame=dg, x=\"LUNG_CANCER\", y=\"counts\", color=\"SMOKING\", barmode='group', color_discrete_sequence=px.colors.qualitative.Dark24)"
   ]
  },
  {
   "cell_type": "markdown",
   "id": "dd3d11f6",
   "metadata": {},
   "source": [
    "## Análise da correlação entre Doença Crônica e o Cancer de Pulmão"
   ]
  },
  {
   "cell_type": "code",
   "execution_count": 138,
   "id": "5250297c",
   "metadata": {},
   "outputs": [
    {
     "data": {
      "text/html": [
       "<div>\n",
       "<style scoped>\n",
       "    .dataframe tbody tr th:only-of-type {\n",
       "        vertical-align: middle;\n",
       "    }\n",
       "\n",
       "    .dataframe tbody tr th {\n",
       "        vertical-align: top;\n",
       "    }\n",
       "\n",
       "    .dataframe thead th {\n",
       "        text-align: right;\n",
       "    }\n",
       "</style>\n",
       "<table border=\"1\" class=\"dataframe\">\n",
       "  <thead>\n",
       "    <tr style=\"text-align: right;\">\n",
       "      <th></th>\n",
       "      <th>CHRONIC DISEASE</th>\n",
       "      <th>LUNG_CANCER</th>\n",
       "      <th>counts</th>\n",
       "    </tr>\n",
       "  </thead>\n",
       "  <tbody>\n",
       "    <tr>\n",
       "      <th>0</th>\n",
       "      <td>1</td>\n",
       "      <td>1</td>\n",
       "      <td>25</td>\n",
       "    </tr>\n",
       "    <tr>\n",
       "      <th>1</th>\n",
       "      <td>1</td>\n",
       "      <td>2</td>\n",
       "      <td>128</td>\n",
       "    </tr>\n",
       "    <tr>\n",
       "      <th>2</th>\n",
       "      <td>2</td>\n",
       "      <td>1</td>\n",
       "      <td>14</td>\n",
       "    </tr>\n",
       "    <tr>\n",
       "      <th>3</th>\n",
       "      <td>2</td>\n",
       "      <td>2</td>\n",
       "      <td>142</td>\n",
       "    </tr>\n",
       "  </tbody>\n",
       "</table>\n",
       "</div>"
      ],
      "text/plain": [
       "   CHRONIC DISEASE  LUNG_CANCER  counts\n",
       "0                1            1      25\n",
       "1                1            2     128\n",
       "2                2            1      14\n",
       "3                2            2     142"
      ]
     },
     "execution_count": 138,
     "metadata": {},
     "output_type": "execute_result"
    }
   ],
   "source": [
    "dg0 = base.groupby(by=[\"CHRONIC DISEASE\", \"LUNG_CANCER\"]).size().reset_index(name=\"counts\")\n",
    "dg0"
   ]
  },
  {
   "cell_type": "code",
   "execution_count": 139,
   "id": "5ebb776d",
   "metadata": {},
   "outputs": [
    {
     "data": {
      "application/vnd.plotly.v1+json": {
       "config": {
        "plotlyServerURL": "https://plot.ly"
       },
       "data": [
        {
         "alignmentgroup": "True",
         "bingroup": "x",
         "histfunc": "sum",
         "hovertemplate": "CHRONIC DISEASE=1<br>LUNG_CANCER=%{x}<br>sum of counts=%{y}<extra></extra>",
         "legendgroup": "1",
         "marker": {
          "color": "#AA0DFE",
          "pattern": {
           "shape": ""
          }
         },
         "name": "1",
         "offsetgroup": "1",
         "orientation": "v",
         "showlegend": true,
         "type": "histogram",
         "x": [
          1,
          2
         ],
         "xaxis": "x",
         "y": [
          25,
          128
         ],
         "yaxis": "y"
        },
        {
         "alignmentgroup": "True",
         "bingroup": "x",
         "histfunc": "sum",
         "hovertemplate": "CHRONIC DISEASE=2<br>LUNG_CANCER=%{x}<br>sum of counts=%{y}<extra></extra>",
         "legendgroup": "2",
         "marker": {
          "color": "#3283FE",
          "pattern": {
           "shape": ""
          }
         },
         "name": "2",
         "offsetgroup": "2",
         "orientation": "v",
         "showlegend": true,
         "type": "histogram",
         "x": [
          1,
          2
         ],
         "xaxis": "x",
         "y": [
          14,
          142
         ],
         "yaxis": "y"
        }
       ],
       "layout": {
        "barmode": "group",
        "legend": {
         "title": {
          "text": "CHRONIC DISEASE"
         },
         "tracegroupgap": 0
        },
        "margin": {
         "t": 60
        },
        "template": {
         "data": {
          "bar": [
           {
            "error_x": {
             "color": "#2a3f5f"
            },
            "error_y": {
             "color": "#2a3f5f"
            },
            "marker": {
             "line": {
              "color": "#E5ECF6",
              "width": 0.5
             },
             "pattern": {
              "fillmode": "overlay",
              "size": 10,
              "solidity": 0.2
             }
            },
            "type": "bar"
           }
          ],
          "barpolar": [
           {
            "marker": {
             "line": {
              "color": "#E5ECF6",
              "width": 0.5
             },
             "pattern": {
              "fillmode": "overlay",
              "size": 10,
              "solidity": 0.2
             }
            },
            "type": "barpolar"
           }
          ],
          "carpet": [
           {
            "aaxis": {
             "endlinecolor": "#2a3f5f",
             "gridcolor": "white",
             "linecolor": "white",
             "minorgridcolor": "white",
             "startlinecolor": "#2a3f5f"
            },
            "baxis": {
             "endlinecolor": "#2a3f5f",
             "gridcolor": "white",
             "linecolor": "white",
             "minorgridcolor": "white",
             "startlinecolor": "#2a3f5f"
            },
            "type": "carpet"
           }
          ],
          "choropleth": [
           {
            "colorbar": {
             "outlinewidth": 0,
             "ticks": ""
            },
            "type": "choropleth"
           }
          ],
          "contour": [
           {
            "colorbar": {
             "outlinewidth": 0,
             "ticks": ""
            },
            "colorscale": [
             [
              0,
              "#0d0887"
             ],
             [
              0.1111111111111111,
              "#46039f"
             ],
             [
              0.2222222222222222,
              "#7201a8"
             ],
             [
              0.3333333333333333,
              "#9c179e"
             ],
             [
              0.4444444444444444,
              "#bd3786"
             ],
             [
              0.5555555555555556,
              "#d8576b"
             ],
             [
              0.6666666666666666,
              "#ed7953"
             ],
             [
              0.7777777777777778,
              "#fb9f3a"
             ],
             [
              0.8888888888888888,
              "#fdca26"
             ],
             [
              1,
              "#f0f921"
             ]
            ],
            "type": "contour"
           }
          ],
          "contourcarpet": [
           {
            "colorbar": {
             "outlinewidth": 0,
             "ticks": ""
            },
            "type": "contourcarpet"
           }
          ],
          "heatmap": [
           {
            "colorbar": {
             "outlinewidth": 0,
             "ticks": ""
            },
            "colorscale": [
             [
              0,
              "#0d0887"
             ],
             [
              0.1111111111111111,
              "#46039f"
             ],
             [
              0.2222222222222222,
              "#7201a8"
             ],
             [
              0.3333333333333333,
              "#9c179e"
             ],
             [
              0.4444444444444444,
              "#bd3786"
             ],
             [
              0.5555555555555556,
              "#d8576b"
             ],
             [
              0.6666666666666666,
              "#ed7953"
             ],
             [
              0.7777777777777778,
              "#fb9f3a"
             ],
             [
              0.8888888888888888,
              "#fdca26"
             ],
             [
              1,
              "#f0f921"
             ]
            ],
            "type": "heatmap"
           }
          ],
          "heatmapgl": [
           {
            "colorbar": {
             "outlinewidth": 0,
             "ticks": ""
            },
            "colorscale": [
             [
              0,
              "#0d0887"
             ],
             [
              0.1111111111111111,
              "#46039f"
             ],
             [
              0.2222222222222222,
              "#7201a8"
             ],
             [
              0.3333333333333333,
              "#9c179e"
             ],
             [
              0.4444444444444444,
              "#bd3786"
             ],
             [
              0.5555555555555556,
              "#d8576b"
             ],
             [
              0.6666666666666666,
              "#ed7953"
             ],
             [
              0.7777777777777778,
              "#fb9f3a"
             ],
             [
              0.8888888888888888,
              "#fdca26"
             ],
             [
              1,
              "#f0f921"
             ]
            ],
            "type": "heatmapgl"
           }
          ],
          "histogram": [
           {
            "marker": {
             "pattern": {
              "fillmode": "overlay",
              "size": 10,
              "solidity": 0.2
             }
            },
            "type": "histogram"
           }
          ],
          "histogram2d": [
           {
            "colorbar": {
             "outlinewidth": 0,
             "ticks": ""
            },
            "colorscale": [
             [
              0,
              "#0d0887"
             ],
             [
              0.1111111111111111,
              "#46039f"
             ],
             [
              0.2222222222222222,
              "#7201a8"
             ],
             [
              0.3333333333333333,
              "#9c179e"
             ],
             [
              0.4444444444444444,
              "#bd3786"
             ],
             [
              0.5555555555555556,
              "#d8576b"
             ],
             [
              0.6666666666666666,
              "#ed7953"
             ],
             [
              0.7777777777777778,
              "#fb9f3a"
             ],
             [
              0.8888888888888888,
              "#fdca26"
             ],
             [
              1,
              "#f0f921"
             ]
            ],
            "type": "histogram2d"
           }
          ],
          "histogram2dcontour": [
           {
            "colorbar": {
             "outlinewidth": 0,
             "ticks": ""
            },
            "colorscale": [
             [
              0,
              "#0d0887"
             ],
             [
              0.1111111111111111,
              "#46039f"
             ],
             [
              0.2222222222222222,
              "#7201a8"
             ],
             [
              0.3333333333333333,
              "#9c179e"
             ],
             [
              0.4444444444444444,
              "#bd3786"
             ],
             [
              0.5555555555555556,
              "#d8576b"
             ],
             [
              0.6666666666666666,
              "#ed7953"
             ],
             [
              0.7777777777777778,
              "#fb9f3a"
             ],
             [
              0.8888888888888888,
              "#fdca26"
             ],
             [
              1,
              "#f0f921"
             ]
            ],
            "type": "histogram2dcontour"
           }
          ],
          "mesh3d": [
           {
            "colorbar": {
             "outlinewidth": 0,
             "ticks": ""
            },
            "type": "mesh3d"
           }
          ],
          "parcoords": [
           {
            "line": {
             "colorbar": {
              "outlinewidth": 0,
              "ticks": ""
             }
            },
            "type": "parcoords"
           }
          ],
          "pie": [
           {
            "automargin": true,
            "type": "pie"
           }
          ],
          "scatter": [
           {
            "fillpattern": {
             "fillmode": "overlay",
             "size": 10,
             "solidity": 0.2
            },
            "type": "scatter"
           }
          ],
          "scatter3d": [
           {
            "line": {
             "colorbar": {
              "outlinewidth": 0,
              "ticks": ""
             }
            },
            "marker": {
             "colorbar": {
              "outlinewidth": 0,
              "ticks": ""
             }
            },
            "type": "scatter3d"
           }
          ],
          "scattercarpet": [
           {
            "marker": {
             "colorbar": {
              "outlinewidth": 0,
              "ticks": ""
             }
            },
            "type": "scattercarpet"
           }
          ],
          "scattergeo": [
           {
            "marker": {
             "colorbar": {
              "outlinewidth": 0,
              "ticks": ""
             }
            },
            "type": "scattergeo"
           }
          ],
          "scattergl": [
           {
            "marker": {
             "colorbar": {
              "outlinewidth": 0,
              "ticks": ""
             }
            },
            "type": "scattergl"
           }
          ],
          "scattermapbox": [
           {
            "marker": {
             "colorbar": {
              "outlinewidth": 0,
              "ticks": ""
             }
            },
            "type": "scattermapbox"
           }
          ],
          "scatterpolar": [
           {
            "marker": {
             "colorbar": {
              "outlinewidth": 0,
              "ticks": ""
             }
            },
            "type": "scatterpolar"
           }
          ],
          "scatterpolargl": [
           {
            "marker": {
             "colorbar": {
              "outlinewidth": 0,
              "ticks": ""
             }
            },
            "type": "scatterpolargl"
           }
          ],
          "scatterternary": [
           {
            "marker": {
             "colorbar": {
              "outlinewidth": 0,
              "ticks": ""
             }
            },
            "type": "scatterternary"
           }
          ],
          "surface": [
           {
            "colorbar": {
             "outlinewidth": 0,
             "ticks": ""
            },
            "colorscale": [
             [
              0,
              "#0d0887"
             ],
             [
              0.1111111111111111,
              "#46039f"
             ],
             [
              0.2222222222222222,
              "#7201a8"
             ],
             [
              0.3333333333333333,
              "#9c179e"
             ],
             [
              0.4444444444444444,
              "#bd3786"
             ],
             [
              0.5555555555555556,
              "#d8576b"
             ],
             [
              0.6666666666666666,
              "#ed7953"
             ],
             [
              0.7777777777777778,
              "#fb9f3a"
             ],
             [
              0.8888888888888888,
              "#fdca26"
             ],
             [
              1,
              "#f0f921"
             ]
            ],
            "type": "surface"
           }
          ],
          "table": [
           {
            "cells": {
             "fill": {
              "color": "#EBF0F8"
             },
             "line": {
              "color": "white"
             }
            },
            "header": {
             "fill": {
              "color": "#C8D4E3"
             },
             "line": {
              "color": "white"
             }
            },
            "type": "table"
           }
          ]
         },
         "layout": {
          "annotationdefaults": {
           "arrowcolor": "#2a3f5f",
           "arrowhead": 0,
           "arrowwidth": 1
          },
          "autotypenumbers": "strict",
          "coloraxis": {
           "colorbar": {
            "outlinewidth": 0,
            "ticks": ""
           }
          },
          "colorscale": {
           "diverging": [
            [
             0,
             "#8e0152"
            ],
            [
             0.1,
             "#c51b7d"
            ],
            [
             0.2,
             "#de77ae"
            ],
            [
             0.3,
             "#f1b6da"
            ],
            [
             0.4,
             "#fde0ef"
            ],
            [
             0.5,
             "#f7f7f7"
            ],
            [
             0.6,
             "#e6f5d0"
            ],
            [
             0.7,
             "#b8e186"
            ],
            [
             0.8,
             "#7fbc41"
            ],
            [
             0.9,
             "#4d9221"
            ],
            [
             1,
             "#276419"
            ]
           ],
           "sequential": [
            [
             0,
             "#0d0887"
            ],
            [
             0.1111111111111111,
             "#46039f"
            ],
            [
             0.2222222222222222,
             "#7201a8"
            ],
            [
             0.3333333333333333,
             "#9c179e"
            ],
            [
             0.4444444444444444,
             "#bd3786"
            ],
            [
             0.5555555555555556,
             "#d8576b"
            ],
            [
             0.6666666666666666,
             "#ed7953"
            ],
            [
             0.7777777777777778,
             "#fb9f3a"
            ],
            [
             0.8888888888888888,
             "#fdca26"
            ],
            [
             1,
             "#f0f921"
            ]
           ],
           "sequentialminus": [
            [
             0,
             "#0d0887"
            ],
            [
             0.1111111111111111,
             "#46039f"
            ],
            [
             0.2222222222222222,
             "#7201a8"
            ],
            [
             0.3333333333333333,
             "#9c179e"
            ],
            [
             0.4444444444444444,
             "#bd3786"
            ],
            [
             0.5555555555555556,
             "#d8576b"
            ],
            [
             0.6666666666666666,
             "#ed7953"
            ],
            [
             0.7777777777777778,
             "#fb9f3a"
            ],
            [
             0.8888888888888888,
             "#fdca26"
            ],
            [
             1,
             "#f0f921"
            ]
           ]
          },
          "colorway": [
           "#636efa",
           "#EF553B",
           "#00cc96",
           "#ab63fa",
           "#FFA15A",
           "#19d3f3",
           "#FF6692",
           "#B6E880",
           "#FF97FF",
           "#FECB52"
          ],
          "font": {
           "color": "#2a3f5f"
          },
          "geo": {
           "bgcolor": "white",
           "lakecolor": "white",
           "landcolor": "#E5ECF6",
           "showlakes": true,
           "showland": true,
           "subunitcolor": "white"
          },
          "hoverlabel": {
           "align": "left"
          },
          "hovermode": "closest",
          "mapbox": {
           "style": "light"
          },
          "paper_bgcolor": "white",
          "plot_bgcolor": "#E5ECF6",
          "polar": {
           "angularaxis": {
            "gridcolor": "white",
            "linecolor": "white",
            "ticks": ""
           },
           "bgcolor": "#E5ECF6",
           "radialaxis": {
            "gridcolor": "white",
            "linecolor": "white",
            "ticks": ""
           }
          },
          "scene": {
           "xaxis": {
            "backgroundcolor": "#E5ECF6",
            "gridcolor": "white",
            "gridwidth": 2,
            "linecolor": "white",
            "showbackground": true,
            "ticks": "",
            "zerolinecolor": "white"
           },
           "yaxis": {
            "backgroundcolor": "#E5ECF6",
            "gridcolor": "white",
            "gridwidth": 2,
            "linecolor": "white",
            "showbackground": true,
            "ticks": "",
            "zerolinecolor": "white"
           },
           "zaxis": {
            "backgroundcolor": "#E5ECF6",
            "gridcolor": "white",
            "gridwidth": 2,
            "linecolor": "white",
            "showbackground": true,
            "ticks": "",
            "zerolinecolor": "white"
           }
          },
          "shapedefaults": {
           "line": {
            "color": "#2a3f5f"
           }
          },
          "ternary": {
           "aaxis": {
            "gridcolor": "white",
            "linecolor": "white",
            "ticks": ""
           },
           "baxis": {
            "gridcolor": "white",
            "linecolor": "white",
            "ticks": ""
           },
           "bgcolor": "#E5ECF6",
           "caxis": {
            "gridcolor": "white",
            "linecolor": "white",
            "ticks": ""
           }
          },
          "title": {
           "x": 0.05
          },
          "xaxis": {
           "automargin": true,
           "gridcolor": "white",
           "linecolor": "white",
           "ticks": "",
           "title": {
            "standoff": 15
           },
           "zerolinecolor": "white",
           "zerolinewidth": 2
          },
          "yaxis": {
           "automargin": true,
           "gridcolor": "white",
           "linecolor": "white",
           "ticks": "",
           "title": {
            "standoff": 15
           },
           "zerolinecolor": "white",
           "zerolinewidth": 2
          }
         }
        },
        "xaxis": {
         "anchor": "y",
         "domain": [
          0,
          1
         ],
         "title": {
          "text": "LUNG_CANCER"
         }
        },
        "yaxis": {
         "anchor": "x",
         "domain": [
          0,
          1
         ],
         "title": {
          "text": "sum of counts"
         }
        }
       }
      }
     },
     "metadata": {},
     "output_type": "display_data"
    }
   ],
   "source": [
    "\n",
    "px.histogram(data_frame=dg0, x=\"LUNG_CANCER\", y=\"counts\", color=\"CHRONIC DISEASE\", barmode='group', color_discrete_sequence=px.colors.qualitative.Alphabet)"
   ]
  },
  {
   "cell_type": "markdown",
   "id": "c06f74ba",
   "metadata": {},
   "source": [
    "## Análise da correlação entre Fadiga e Câncer de Pulmão"
   ]
  },
  {
   "cell_type": "code",
   "execution_count": 142,
   "id": "1b586b94",
   "metadata": {},
   "outputs": [
    {
     "data": {
      "text/html": [
       "<div>\n",
       "<style scoped>\n",
       "    .dataframe tbody tr th:only-of-type {\n",
       "        vertical-align: middle;\n",
       "    }\n",
       "\n",
       "    .dataframe tbody tr th {\n",
       "        vertical-align: top;\n",
       "    }\n",
       "\n",
       "    .dataframe thead th {\n",
       "        text-align: right;\n",
       "    }\n",
       "</style>\n",
       "<table border=\"1\" class=\"dataframe\">\n",
       "  <thead>\n",
       "    <tr style=\"text-align: right;\">\n",
       "      <th></th>\n",
       "      <th>FATIGUE</th>\n",
       "      <th>LUNG_CANCER</th>\n",
       "      <th>counts</th>\n",
       "    </tr>\n",
       "  </thead>\n",
       "  <tbody>\n",
       "    <tr>\n",
       "      <th>0</th>\n",
       "      <td>1</td>\n",
       "      <td>1</td>\n",
       "      <td>20</td>\n",
       "    </tr>\n",
       "    <tr>\n",
       "      <th>1</th>\n",
       "      <td>1</td>\n",
       "      <td>2</td>\n",
       "      <td>81</td>\n",
       "    </tr>\n",
       "    <tr>\n",
       "      <th>2</th>\n",
       "      <td>2</td>\n",
       "      <td>1</td>\n",
       "      <td>19</td>\n",
       "    </tr>\n",
       "    <tr>\n",
       "      <th>3</th>\n",
       "      <td>2</td>\n",
       "      <td>2</td>\n",
       "      <td>189</td>\n",
       "    </tr>\n",
       "  </tbody>\n",
       "</table>\n",
       "</div>"
      ],
      "text/plain": [
       "   FATIGUE  LUNG_CANCER  counts\n",
       "0        1            1      20\n",
       "1        1            2      81\n",
       "2        2            1      19\n",
       "3        2            2     189"
      ]
     },
     "execution_count": 142,
     "metadata": {},
     "output_type": "execute_result"
    }
   ],
   "source": [
    "dg1 = base.groupby(by=[\"FATIGUE\", \"LUNG_CANCER\"]).size().reset_index(name=\"counts\")\n",
    "dg1"
   ]
  },
  {
   "cell_type": "code",
   "execution_count": null,
   "id": "2f4c5243",
   "metadata": {},
   "outputs": [
    {
     "data": {
      "application/vnd.plotly.v1+json": {
       "config": {
        "plotlyServerURL": "https://plot.ly"
       },
       "data": [
        {
         "alignmentgroup": "True",
         "bingroup": "x",
         "histfunc": "sum",
         "hovertemplate": "FATIGUE=1<br>LUNG_CANCER=%{x}<br>sum of counts=%{y}<extra></extra>",
         "legendgroup": "1",
         "marker": {
          "color": "#636efa",
          "pattern": {
           "shape": ""
          }
         },
         "name": "1",
         "offsetgroup": "1",
         "orientation": "v",
         "showlegend": true,
         "type": "histogram",
         "x": [
          1,
          2
         ],
         "xaxis": "x",
         "y": [
          20,
          81
         ],
         "yaxis": "y"
        },
        {
         "alignmentgroup": "True",
         "bingroup": "x",
         "histfunc": "sum",
         "hovertemplate": "FATIGUE=2<br>LUNG_CANCER=%{x}<br>sum of counts=%{y}<extra></extra>",
         "legendgroup": "2",
         "marker": {
          "color": "#EF553B",
          "pattern": {
           "shape": ""
          }
         },
         "name": "2",
         "offsetgroup": "2",
         "orientation": "v",
         "showlegend": true,
         "type": "histogram",
         "x": [
          1,
          2
         ],
         "xaxis": "x",
         "y": [
          19,
          189
         ],
         "yaxis": "y"
        }
       ],
       "layout": {
        "barmode": "group",
        "legend": {
         "title": {
          "text": "FATIGUE"
         },
         "tracegroupgap": 0
        },
        "margin": {
         "t": 60
        },
        "template": {
         "data": {
          "bar": [
           {
            "error_x": {
             "color": "#2a3f5f"
            },
            "error_y": {
             "color": "#2a3f5f"
            },
            "marker": {
             "line": {
              "color": "#E5ECF6",
              "width": 0.5
             },
             "pattern": {
              "fillmode": "overlay",
              "size": 10,
              "solidity": 0.2
             }
            },
            "type": "bar"
           }
          ],
          "barpolar": [
           {
            "marker": {
             "line": {
              "color": "#E5ECF6",
              "width": 0.5
             },
             "pattern": {
              "fillmode": "overlay",
              "size": 10,
              "solidity": 0.2
             }
            },
            "type": "barpolar"
           }
          ],
          "carpet": [
           {
            "aaxis": {
             "endlinecolor": "#2a3f5f",
             "gridcolor": "white",
             "linecolor": "white",
             "minorgridcolor": "white",
             "startlinecolor": "#2a3f5f"
            },
            "baxis": {
             "endlinecolor": "#2a3f5f",
             "gridcolor": "white",
             "linecolor": "white",
             "minorgridcolor": "white",
             "startlinecolor": "#2a3f5f"
            },
            "type": "carpet"
           }
          ],
          "choropleth": [
           {
            "colorbar": {
             "outlinewidth": 0,
             "ticks": ""
            },
            "type": "choropleth"
           }
          ],
          "contour": [
           {
            "colorbar": {
             "outlinewidth": 0,
             "ticks": ""
            },
            "colorscale": [
             [
              0,
              "#0d0887"
             ],
             [
              0.1111111111111111,
              "#46039f"
             ],
             [
              0.2222222222222222,
              "#7201a8"
             ],
             [
              0.3333333333333333,
              "#9c179e"
             ],
             [
              0.4444444444444444,
              "#bd3786"
             ],
             [
              0.5555555555555556,
              "#d8576b"
             ],
             [
              0.6666666666666666,
              "#ed7953"
             ],
             [
              0.7777777777777778,
              "#fb9f3a"
             ],
             [
              0.8888888888888888,
              "#fdca26"
             ],
             [
              1,
              "#f0f921"
             ]
            ],
            "type": "contour"
           }
          ],
          "contourcarpet": [
           {
            "colorbar": {
             "outlinewidth": 0,
             "ticks": ""
            },
            "type": "contourcarpet"
           }
          ],
          "heatmap": [
           {
            "colorbar": {
             "outlinewidth": 0,
             "ticks": ""
            },
            "colorscale": [
             [
              0,
              "#0d0887"
             ],
             [
              0.1111111111111111,
              "#46039f"
             ],
             [
              0.2222222222222222,
              "#7201a8"
             ],
             [
              0.3333333333333333,
              "#9c179e"
             ],
             [
              0.4444444444444444,
              "#bd3786"
             ],
             [
              0.5555555555555556,
              "#d8576b"
             ],
             [
              0.6666666666666666,
              "#ed7953"
             ],
             [
              0.7777777777777778,
              "#fb9f3a"
             ],
             [
              0.8888888888888888,
              "#fdca26"
             ],
             [
              1,
              "#f0f921"
             ]
            ],
            "type": "heatmap"
           }
          ],
          "heatmapgl": [
           {
            "colorbar": {
             "outlinewidth": 0,
             "ticks": ""
            },
            "colorscale": [
             [
              0,
              "#0d0887"
             ],
             [
              0.1111111111111111,
              "#46039f"
             ],
             [
              0.2222222222222222,
              "#7201a8"
             ],
             [
              0.3333333333333333,
              "#9c179e"
             ],
             [
              0.4444444444444444,
              "#bd3786"
             ],
             [
              0.5555555555555556,
              "#d8576b"
             ],
             [
              0.6666666666666666,
              "#ed7953"
             ],
             [
              0.7777777777777778,
              "#fb9f3a"
             ],
             [
              0.8888888888888888,
              "#fdca26"
             ],
             [
              1,
              "#f0f921"
             ]
            ],
            "type": "heatmapgl"
           }
          ],
          "histogram": [
           {
            "marker": {
             "pattern": {
              "fillmode": "overlay",
              "size": 10,
              "solidity": 0.2
             }
            },
            "type": "histogram"
           }
          ],
          "histogram2d": [
           {
            "colorbar": {
             "outlinewidth": 0,
             "ticks": ""
            },
            "colorscale": [
             [
              0,
              "#0d0887"
             ],
             [
              0.1111111111111111,
              "#46039f"
             ],
             [
              0.2222222222222222,
              "#7201a8"
             ],
             [
              0.3333333333333333,
              "#9c179e"
             ],
             [
              0.4444444444444444,
              "#bd3786"
             ],
             [
              0.5555555555555556,
              "#d8576b"
             ],
             [
              0.6666666666666666,
              "#ed7953"
             ],
             [
              0.7777777777777778,
              "#fb9f3a"
             ],
             [
              0.8888888888888888,
              "#fdca26"
             ],
             [
              1,
              "#f0f921"
             ]
            ],
            "type": "histogram2d"
           }
          ],
          "histogram2dcontour": [
           {
            "colorbar": {
             "outlinewidth": 0,
             "ticks": ""
            },
            "colorscale": [
             [
              0,
              "#0d0887"
             ],
             [
              0.1111111111111111,
              "#46039f"
             ],
             [
              0.2222222222222222,
              "#7201a8"
             ],
             [
              0.3333333333333333,
              "#9c179e"
             ],
             [
              0.4444444444444444,
              "#bd3786"
             ],
             [
              0.5555555555555556,
              "#d8576b"
             ],
             [
              0.6666666666666666,
              "#ed7953"
             ],
             [
              0.7777777777777778,
              "#fb9f3a"
             ],
             [
              0.8888888888888888,
              "#fdca26"
             ],
             [
              1,
              "#f0f921"
             ]
            ],
            "type": "histogram2dcontour"
           }
          ],
          "mesh3d": [
           {
            "colorbar": {
             "outlinewidth": 0,
             "ticks": ""
            },
            "type": "mesh3d"
           }
          ],
          "parcoords": [
           {
            "line": {
             "colorbar": {
              "outlinewidth": 0,
              "ticks": ""
             }
            },
            "type": "parcoords"
           }
          ],
          "pie": [
           {
            "automargin": true,
            "type": "pie"
           }
          ],
          "scatter": [
           {
            "fillpattern": {
             "fillmode": "overlay",
             "size": 10,
             "solidity": 0.2
            },
            "type": "scatter"
           }
          ],
          "scatter3d": [
           {
            "line": {
             "colorbar": {
              "outlinewidth": 0,
              "ticks": ""
             }
            },
            "marker": {
             "colorbar": {
              "outlinewidth": 0,
              "ticks": ""
             }
            },
            "type": "scatter3d"
           }
          ],
          "scattercarpet": [
           {
            "marker": {
             "colorbar": {
              "outlinewidth": 0,
              "ticks": ""
             }
            },
            "type": "scattercarpet"
           }
          ],
          "scattergeo": [
           {
            "marker": {
             "colorbar": {
              "outlinewidth": 0,
              "ticks": ""
             }
            },
            "type": "scattergeo"
           }
          ],
          "scattergl": [
           {
            "marker": {
             "colorbar": {
              "outlinewidth": 0,
              "ticks": ""
             }
            },
            "type": "scattergl"
           }
          ],
          "scattermapbox": [
           {
            "marker": {
             "colorbar": {
              "outlinewidth": 0,
              "ticks": ""
             }
            },
            "type": "scattermapbox"
           }
          ],
          "scatterpolar": [
           {
            "marker": {
             "colorbar": {
              "outlinewidth": 0,
              "ticks": ""
             }
            },
            "type": "scatterpolar"
           }
          ],
          "scatterpolargl": [
           {
            "marker": {
             "colorbar": {
              "outlinewidth": 0,
              "ticks": ""
             }
            },
            "type": "scatterpolargl"
           }
          ],
          "scatterternary": [
           {
            "marker": {
             "colorbar": {
              "outlinewidth": 0,
              "ticks": ""
             }
            },
            "type": "scatterternary"
           }
          ],
          "surface": [
           {
            "colorbar": {
             "outlinewidth": 0,
             "ticks": ""
            },
            "colorscale": [
             [
              0,
              "#0d0887"
             ],
             [
              0.1111111111111111,
              "#46039f"
             ],
             [
              0.2222222222222222,
              "#7201a8"
             ],
             [
              0.3333333333333333,
              "#9c179e"
             ],
             [
              0.4444444444444444,
              "#bd3786"
             ],
             [
              0.5555555555555556,
              "#d8576b"
             ],
             [
              0.6666666666666666,
              "#ed7953"
             ],
             [
              0.7777777777777778,
              "#fb9f3a"
             ],
             [
              0.8888888888888888,
              "#fdca26"
             ],
             [
              1,
              "#f0f921"
             ]
            ],
            "type": "surface"
           }
          ],
          "table": [
           {
            "cells": {
             "fill": {
              "color": "#EBF0F8"
             },
             "line": {
              "color": "white"
             }
            },
            "header": {
             "fill": {
              "color": "#C8D4E3"
             },
             "line": {
              "color": "white"
             }
            },
            "type": "table"
           }
          ]
         },
         "layout": {
          "annotationdefaults": {
           "arrowcolor": "#2a3f5f",
           "arrowhead": 0,
           "arrowwidth": 1
          },
          "autotypenumbers": "strict",
          "coloraxis": {
           "colorbar": {
            "outlinewidth": 0,
            "ticks": ""
           }
          },
          "colorscale": {
           "diverging": [
            [
             0,
             "#8e0152"
            ],
            [
             0.1,
             "#c51b7d"
            ],
            [
             0.2,
             "#de77ae"
            ],
            [
             0.3,
             "#f1b6da"
            ],
            [
             0.4,
             "#fde0ef"
            ],
            [
             0.5,
             "#f7f7f7"
            ],
            [
             0.6,
             "#e6f5d0"
            ],
            [
             0.7,
             "#b8e186"
            ],
            [
             0.8,
             "#7fbc41"
            ],
            [
             0.9,
             "#4d9221"
            ],
            [
             1,
             "#276419"
            ]
           ],
           "sequential": [
            [
             0,
             "#0d0887"
            ],
            [
             0.1111111111111111,
             "#46039f"
            ],
            [
             0.2222222222222222,
             "#7201a8"
            ],
            [
             0.3333333333333333,
             "#9c179e"
            ],
            [
             0.4444444444444444,
             "#bd3786"
            ],
            [
             0.5555555555555556,
             "#d8576b"
            ],
            [
             0.6666666666666666,
             "#ed7953"
            ],
            [
             0.7777777777777778,
             "#fb9f3a"
            ],
            [
             0.8888888888888888,
             "#fdca26"
            ],
            [
             1,
             "#f0f921"
            ]
           ],
           "sequentialminus": [
            [
             0,
             "#0d0887"
            ],
            [
             0.1111111111111111,
             "#46039f"
            ],
            [
             0.2222222222222222,
             "#7201a8"
            ],
            [
             0.3333333333333333,
             "#9c179e"
            ],
            [
             0.4444444444444444,
             "#bd3786"
            ],
            [
             0.5555555555555556,
             "#d8576b"
            ],
            [
             0.6666666666666666,
             "#ed7953"
            ],
            [
             0.7777777777777778,
             "#fb9f3a"
            ],
            [
             0.8888888888888888,
             "#fdca26"
            ],
            [
             1,
             "#f0f921"
            ]
           ]
          },
          "colorway": [
           "#636efa",
           "#EF553B",
           "#00cc96",
           "#ab63fa",
           "#FFA15A",
           "#19d3f3",
           "#FF6692",
           "#B6E880",
           "#FF97FF",
           "#FECB52"
          ],
          "font": {
           "color": "#2a3f5f"
          },
          "geo": {
           "bgcolor": "white",
           "lakecolor": "white",
           "landcolor": "#E5ECF6",
           "showlakes": true,
           "showland": true,
           "subunitcolor": "white"
          },
          "hoverlabel": {
           "align": "left"
          },
          "hovermode": "closest",
          "mapbox": {
           "style": "light"
          },
          "paper_bgcolor": "white",
          "plot_bgcolor": "#E5ECF6",
          "polar": {
           "angularaxis": {
            "gridcolor": "white",
            "linecolor": "white",
            "ticks": ""
           },
           "bgcolor": "#E5ECF6",
           "radialaxis": {
            "gridcolor": "white",
            "linecolor": "white",
            "ticks": ""
           }
          },
          "scene": {
           "xaxis": {
            "backgroundcolor": "#E5ECF6",
            "gridcolor": "white",
            "gridwidth": 2,
            "linecolor": "white",
            "showbackground": true,
            "ticks": "",
            "zerolinecolor": "white"
           },
           "yaxis": {
            "backgroundcolor": "#E5ECF6",
            "gridcolor": "white",
            "gridwidth": 2,
            "linecolor": "white",
            "showbackground": true,
            "ticks": "",
            "zerolinecolor": "white"
           },
           "zaxis": {
            "backgroundcolor": "#E5ECF6",
            "gridcolor": "white",
            "gridwidth": 2,
            "linecolor": "white",
            "showbackground": true,
            "ticks": "",
            "zerolinecolor": "white"
           }
          },
          "shapedefaults": {
           "line": {
            "color": "#2a3f5f"
           }
          },
          "ternary": {
           "aaxis": {
            "gridcolor": "white",
            "linecolor": "white",
            "ticks": ""
           },
           "baxis": {
            "gridcolor": "white",
            "linecolor": "white",
            "ticks": ""
           },
           "bgcolor": "#E5ECF6",
           "caxis": {
            "gridcolor": "white",
            "linecolor": "white",
            "ticks": ""
           }
          },
          "title": {
           "x": 0.05
          },
          "xaxis": {
           "automargin": true,
           "gridcolor": "white",
           "linecolor": "white",
           "ticks": "",
           "title": {
            "standoff": 15
           },
           "zerolinecolor": "white",
           "zerolinewidth": 2
          },
          "yaxis": {
           "automargin": true,
           "gridcolor": "white",
           "linecolor": "white",
           "ticks": "",
           "title": {
            "standoff": 15
           },
           "zerolinecolor": "white",
           "zerolinewidth": 2
          }
         }
        },
        "xaxis": {
         "anchor": "y",
         "domain": [
          0,
          1
         ],
         "title": {
          "text": "LUNG_CANCER"
         }
        },
        "yaxis": {
         "anchor": "x",
         "domain": [
          0,
          1
         ],
         "title": {
          "text": "sum of counts"
         }
        }
       }
      }
     },
     "metadata": {},
     "output_type": "display_data"
    }
   ],
   "source": [
    "px.histogram(data_frame=dg1, x=\"LUNG_CANCER\", y=\"counts\", color=\"FATIGUE\", barmode='group')"
   ]
  },
  {
   "cell_type": "markdown",
   "id": "a220b13c",
   "metadata": {},
   "source": [
    "## Análise da correlação entre Alergia e o Câncer de pulmão"
   ]
  },
  {
   "cell_type": "code",
   "execution_count": null,
   "id": "67eefa1a",
   "metadata": {},
   "outputs": [
    {
     "data": {
      "text/html": [
       "<div>\n",
       "<style scoped>\n",
       "    .dataframe tbody tr th:only-of-type {\n",
       "        vertical-align: middle;\n",
       "    }\n",
       "\n",
       "    .dataframe tbody tr th {\n",
       "        vertical-align: top;\n",
       "    }\n",
       "\n",
       "    .dataframe thead th {\n",
       "        text-align: right;\n",
       "    }\n",
       "</style>\n",
       "<table border=\"1\" class=\"dataframe\">\n",
       "  <thead>\n",
       "    <tr style=\"text-align: right;\">\n",
       "      <th></th>\n",
       "      <th>ALLERGY</th>\n",
       "      <th>LUNG_CANCER</th>\n",
       "      <th>counts</th>\n",
       "    </tr>\n",
       "  </thead>\n",
       "  <tbody>\n",
       "    <tr>\n",
       "      <th>0</th>\n",
       "      <td>1</td>\n",
       "      <td>1</td>\n",
       "      <td>34</td>\n",
       "    </tr>\n",
       "    <tr>\n",
       "      <th>1</th>\n",
       "      <td>1</td>\n",
       "      <td>2</td>\n",
       "      <td>103</td>\n",
       "    </tr>\n",
       "    <tr>\n",
       "      <th>2</th>\n",
       "      <td>2</td>\n",
       "      <td>1</td>\n",
       "      <td>5</td>\n",
       "    </tr>\n",
       "    <tr>\n",
       "      <th>3</th>\n",
       "      <td>2</td>\n",
       "      <td>2</td>\n",
       "      <td>167</td>\n",
       "    </tr>\n",
       "  </tbody>\n",
       "</table>\n",
       "</div>"
      ],
      "text/plain": [
       "   ALLERGY  LUNG_CANCER  counts\n",
       "0        1            1      34\n",
       "1        1            2     103\n",
       "2        2            1       5\n",
       "3        2            2     167"
      ]
     },
     "execution_count": 100,
     "metadata": {},
     "output_type": "execute_result"
    }
   ],
   "source": [
    "dg2 = base.groupby(by=[\"ALLERGY\", \"LUNG_CANCER\"]).size().reset_index(name=\"counts\")\n",
    "dg2"
   ]
  },
  {
   "cell_type": "code",
   "execution_count": null,
   "id": "0ec8fdfb",
   "metadata": {},
   "outputs": [
    {
     "data": {
      "application/vnd.plotly.v1+json": {
       "config": {
        "plotlyServerURL": "https://plot.ly"
       },
       "data": [
        {
         "alignmentgroup": "True",
         "bingroup": "x",
         "histfunc": "sum",
         "hovertemplate": "ALLERGY=1<br>LUNG_CANCER=%{x}<br>sum of counts=%{y}<extra></extra>",
         "legendgroup": "1",
         "marker": {
          "color": "rgb(127, 60, 141)",
          "pattern": {
           "shape": ""
          }
         },
         "name": "1",
         "offsetgroup": "1",
         "orientation": "v",
         "showlegend": true,
         "type": "histogram",
         "x": [
          1,
          2
         ],
         "xaxis": "x",
         "y": [
          34,
          103
         ],
         "yaxis": "y"
        },
        {
         "alignmentgroup": "True",
         "bingroup": "x",
         "histfunc": "sum",
         "hovertemplate": "ALLERGY=2<br>LUNG_CANCER=%{x}<br>sum of counts=%{y}<extra></extra>",
         "legendgroup": "2",
         "marker": {
          "color": "rgb(17, 165, 121)",
          "pattern": {
           "shape": ""
          }
         },
         "name": "2",
         "offsetgroup": "2",
         "orientation": "v",
         "showlegend": true,
         "type": "histogram",
         "x": [
          1,
          2
         ],
         "xaxis": "x",
         "y": [
          5,
          167
         ],
         "yaxis": "y"
        }
       ],
       "layout": {
        "barmode": "group",
        "legend": {
         "title": {
          "text": "ALLERGY"
         },
         "tracegroupgap": 0
        },
        "margin": {
         "t": 60
        },
        "template": {
         "data": {
          "bar": [
           {
            "error_x": {
             "color": "#2a3f5f"
            },
            "error_y": {
             "color": "#2a3f5f"
            },
            "marker": {
             "line": {
              "color": "#E5ECF6",
              "width": 0.5
             },
             "pattern": {
              "fillmode": "overlay",
              "size": 10,
              "solidity": 0.2
             }
            },
            "type": "bar"
           }
          ],
          "barpolar": [
           {
            "marker": {
             "line": {
              "color": "#E5ECF6",
              "width": 0.5
             },
             "pattern": {
              "fillmode": "overlay",
              "size": 10,
              "solidity": 0.2
             }
            },
            "type": "barpolar"
           }
          ],
          "carpet": [
           {
            "aaxis": {
             "endlinecolor": "#2a3f5f",
             "gridcolor": "white",
             "linecolor": "white",
             "minorgridcolor": "white",
             "startlinecolor": "#2a3f5f"
            },
            "baxis": {
             "endlinecolor": "#2a3f5f",
             "gridcolor": "white",
             "linecolor": "white",
             "minorgridcolor": "white",
             "startlinecolor": "#2a3f5f"
            },
            "type": "carpet"
           }
          ],
          "choropleth": [
           {
            "colorbar": {
             "outlinewidth": 0,
             "ticks": ""
            },
            "type": "choropleth"
           }
          ],
          "contour": [
           {
            "colorbar": {
             "outlinewidth": 0,
             "ticks": ""
            },
            "colorscale": [
             [
              0,
              "#0d0887"
             ],
             [
              0.1111111111111111,
              "#46039f"
             ],
             [
              0.2222222222222222,
              "#7201a8"
             ],
             [
              0.3333333333333333,
              "#9c179e"
             ],
             [
              0.4444444444444444,
              "#bd3786"
             ],
             [
              0.5555555555555556,
              "#d8576b"
             ],
             [
              0.6666666666666666,
              "#ed7953"
             ],
             [
              0.7777777777777778,
              "#fb9f3a"
             ],
             [
              0.8888888888888888,
              "#fdca26"
             ],
             [
              1,
              "#f0f921"
             ]
            ],
            "type": "contour"
           }
          ],
          "contourcarpet": [
           {
            "colorbar": {
             "outlinewidth": 0,
             "ticks": ""
            },
            "type": "contourcarpet"
           }
          ],
          "heatmap": [
           {
            "colorbar": {
             "outlinewidth": 0,
             "ticks": ""
            },
            "colorscale": [
             [
              0,
              "#0d0887"
             ],
             [
              0.1111111111111111,
              "#46039f"
             ],
             [
              0.2222222222222222,
              "#7201a8"
             ],
             [
              0.3333333333333333,
              "#9c179e"
             ],
             [
              0.4444444444444444,
              "#bd3786"
             ],
             [
              0.5555555555555556,
              "#d8576b"
             ],
             [
              0.6666666666666666,
              "#ed7953"
             ],
             [
              0.7777777777777778,
              "#fb9f3a"
             ],
             [
              0.8888888888888888,
              "#fdca26"
             ],
             [
              1,
              "#f0f921"
             ]
            ],
            "type": "heatmap"
           }
          ],
          "heatmapgl": [
           {
            "colorbar": {
             "outlinewidth": 0,
             "ticks": ""
            },
            "colorscale": [
             [
              0,
              "#0d0887"
             ],
             [
              0.1111111111111111,
              "#46039f"
             ],
             [
              0.2222222222222222,
              "#7201a8"
             ],
             [
              0.3333333333333333,
              "#9c179e"
             ],
             [
              0.4444444444444444,
              "#bd3786"
             ],
             [
              0.5555555555555556,
              "#d8576b"
             ],
             [
              0.6666666666666666,
              "#ed7953"
             ],
             [
              0.7777777777777778,
              "#fb9f3a"
             ],
             [
              0.8888888888888888,
              "#fdca26"
             ],
             [
              1,
              "#f0f921"
             ]
            ],
            "type": "heatmapgl"
           }
          ],
          "histogram": [
           {
            "marker": {
             "pattern": {
              "fillmode": "overlay",
              "size": 10,
              "solidity": 0.2
             }
            },
            "type": "histogram"
           }
          ],
          "histogram2d": [
           {
            "colorbar": {
             "outlinewidth": 0,
             "ticks": ""
            },
            "colorscale": [
             [
              0,
              "#0d0887"
             ],
             [
              0.1111111111111111,
              "#46039f"
             ],
             [
              0.2222222222222222,
              "#7201a8"
             ],
             [
              0.3333333333333333,
              "#9c179e"
             ],
             [
              0.4444444444444444,
              "#bd3786"
             ],
             [
              0.5555555555555556,
              "#d8576b"
             ],
             [
              0.6666666666666666,
              "#ed7953"
             ],
             [
              0.7777777777777778,
              "#fb9f3a"
             ],
             [
              0.8888888888888888,
              "#fdca26"
             ],
             [
              1,
              "#f0f921"
             ]
            ],
            "type": "histogram2d"
           }
          ],
          "histogram2dcontour": [
           {
            "colorbar": {
             "outlinewidth": 0,
             "ticks": ""
            },
            "colorscale": [
             [
              0,
              "#0d0887"
             ],
             [
              0.1111111111111111,
              "#46039f"
             ],
             [
              0.2222222222222222,
              "#7201a8"
             ],
             [
              0.3333333333333333,
              "#9c179e"
             ],
             [
              0.4444444444444444,
              "#bd3786"
             ],
             [
              0.5555555555555556,
              "#d8576b"
             ],
             [
              0.6666666666666666,
              "#ed7953"
             ],
             [
              0.7777777777777778,
              "#fb9f3a"
             ],
             [
              0.8888888888888888,
              "#fdca26"
             ],
             [
              1,
              "#f0f921"
             ]
            ],
            "type": "histogram2dcontour"
           }
          ],
          "mesh3d": [
           {
            "colorbar": {
             "outlinewidth": 0,
             "ticks": ""
            },
            "type": "mesh3d"
           }
          ],
          "parcoords": [
           {
            "line": {
             "colorbar": {
              "outlinewidth": 0,
              "ticks": ""
             }
            },
            "type": "parcoords"
           }
          ],
          "pie": [
           {
            "automargin": true,
            "type": "pie"
           }
          ],
          "scatter": [
           {
            "fillpattern": {
             "fillmode": "overlay",
             "size": 10,
             "solidity": 0.2
            },
            "type": "scatter"
           }
          ],
          "scatter3d": [
           {
            "line": {
             "colorbar": {
              "outlinewidth": 0,
              "ticks": ""
             }
            },
            "marker": {
             "colorbar": {
              "outlinewidth": 0,
              "ticks": ""
             }
            },
            "type": "scatter3d"
           }
          ],
          "scattercarpet": [
           {
            "marker": {
             "colorbar": {
              "outlinewidth": 0,
              "ticks": ""
             }
            },
            "type": "scattercarpet"
           }
          ],
          "scattergeo": [
           {
            "marker": {
             "colorbar": {
              "outlinewidth": 0,
              "ticks": ""
             }
            },
            "type": "scattergeo"
           }
          ],
          "scattergl": [
           {
            "marker": {
             "colorbar": {
              "outlinewidth": 0,
              "ticks": ""
             }
            },
            "type": "scattergl"
           }
          ],
          "scattermapbox": [
           {
            "marker": {
             "colorbar": {
              "outlinewidth": 0,
              "ticks": ""
             }
            },
            "type": "scattermapbox"
           }
          ],
          "scatterpolar": [
           {
            "marker": {
             "colorbar": {
              "outlinewidth": 0,
              "ticks": ""
             }
            },
            "type": "scatterpolar"
           }
          ],
          "scatterpolargl": [
           {
            "marker": {
             "colorbar": {
              "outlinewidth": 0,
              "ticks": ""
             }
            },
            "type": "scatterpolargl"
           }
          ],
          "scatterternary": [
           {
            "marker": {
             "colorbar": {
              "outlinewidth": 0,
              "ticks": ""
             }
            },
            "type": "scatterternary"
           }
          ],
          "surface": [
           {
            "colorbar": {
             "outlinewidth": 0,
             "ticks": ""
            },
            "colorscale": [
             [
              0,
              "#0d0887"
             ],
             [
              0.1111111111111111,
              "#46039f"
             ],
             [
              0.2222222222222222,
              "#7201a8"
             ],
             [
              0.3333333333333333,
              "#9c179e"
             ],
             [
              0.4444444444444444,
              "#bd3786"
             ],
             [
              0.5555555555555556,
              "#d8576b"
             ],
             [
              0.6666666666666666,
              "#ed7953"
             ],
             [
              0.7777777777777778,
              "#fb9f3a"
             ],
             [
              0.8888888888888888,
              "#fdca26"
             ],
             [
              1,
              "#f0f921"
             ]
            ],
            "type": "surface"
           }
          ],
          "table": [
           {
            "cells": {
             "fill": {
              "color": "#EBF0F8"
             },
             "line": {
              "color": "white"
             }
            },
            "header": {
             "fill": {
              "color": "#C8D4E3"
             },
             "line": {
              "color": "white"
             }
            },
            "type": "table"
           }
          ]
         },
         "layout": {
          "annotationdefaults": {
           "arrowcolor": "#2a3f5f",
           "arrowhead": 0,
           "arrowwidth": 1
          },
          "autotypenumbers": "strict",
          "coloraxis": {
           "colorbar": {
            "outlinewidth": 0,
            "ticks": ""
           }
          },
          "colorscale": {
           "diverging": [
            [
             0,
             "#8e0152"
            ],
            [
             0.1,
             "#c51b7d"
            ],
            [
             0.2,
             "#de77ae"
            ],
            [
             0.3,
             "#f1b6da"
            ],
            [
             0.4,
             "#fde0ef"
            ],
            [
             0.5,
             "#f7f7f7"
            ],
            [
             0.6,
             "#e6f5d0"
            ],
            [
             0.7,
             "#b8e186"
            ],
            [
             0.8,
             "#7fbc41"
            ],
            [
             0.9,
             "#4d9221"
            ],
            [
             1,
             "#276419"
            ]
           ],
           "sequential": [
            [
             0,
             "#0d0887"
            ],
            [
             0.1111111111111111,
             "#46039f"
            ],
            [
             0.2222222222222222,
             "#7201a8"
            ],
            [
             0.3333333333333333,
             "#9c179e"
            ],
            [
             0.4444444444444444,
             "#bd3786"
            ],
            [
             0.5555555555555556,
             "#d8576b"
            ],
            [
             0.6666666666666666,
             "#ed7953"
            ],
            [
             0.7777777777777778,
             "#fb9f3a"
            ],
            [
             0.8888888888888888,
             "#fdca26"
            ],
            [
             1,
             "#f0f921"
            ]
           ],
           "sequentialminus": [
            [
             0,
             "#0d0887"
            ],
            [
             0.1111111111111111,
             "#46039f"
            ],
            [
             0.2222222222222222,
             "#7201a8"
            ],
            [
             0.3333333333333333,
             "#9c179e"
            ],
            [
             0.4444444444444444,
             "#bd3786"
            ],
            [
             0.5555555555555556,
             "#d8576b"
            ],
            [
             0.6666666666666666,
             "#ed7953"
            ],
            [
             0.7777777777777778,
             "#fb9f3a"
            ],
            [
             0.8888888888888888,
             "#fdca26"
            ],
            [
             1,
             "#f0f921"
            ]
           ]
          },
          "colorway": [
           "#636efa",
           "#EF553B",
           "#00cc96",
           "#ab63fa",
           "#FFA15A",
           "#19d3f3",
           "#FF6692",
           "#B6E880",
           "#FF97FF",
           "#FECB52"
          ],
          "font": {
           "color": "#2a3f5f"
          },
          "geo": {
           "bgcolor": "white",
           "lakecolor": "white",
           "landcolor": "#E5ECF6",
           "showlakes": true,
           "showland": true,
           "subunitcolor": "white"
          },
          "hoverlabel": {
           "align": "left"
          },
          "hovermode": "closest",
          "mapbox": {
           "style": "light"
          },
          "paper_bgcolor": "white",
          "plot_bgcolor": "#E5ECF6",
          "polar": {
           "angularaxis": {
            "gridcolor": "white",
            "linecolor": "white",
            "ticks": ""
           },
           "bgcolor": "#E5ECF6",
           "radialaxis": {
            "gridcolor": "white",
            "linecolor": "white",
            "ticks": ""
           }
          },
          "scene": {
           "xaxis": {
            "backgroundcolor": "#E5ECF6",
            "gridcolor": "white",
            "gridwidth": 2,
            "linecolor": "white",
            "showbackground": true,
            "ticks": "",
            "zerolinecolor": "white"
           },
           "yaxis": {
            "backgroundcolor": "#E5ECF6",
            "gridcolor": "white",
            "gridwidth": 2,
            "linecolor": "white",
            "showbackground": true,
            "ticks": "",
            "zerolinecolor": "white"
           },
           "zaxis": {
            "backgroundcolor": "#E5ECF6",
            "gridcolor": "white",
            "gridwidth": 2,
            "linecolor": "white",
            "showbackground": true,
            "ticks": "",
            "zerolinecolor": "white"
           }
          },
          "shapedefaults": {
           "line": {
            "color": "#2a3f5f"
           }
          },
          "ternary": {
           "aaxis": {
            "gridcolor": "white",
            "linecolor": "white",
            "ticks": ""
           },
           "baxis": {
            "gridcolor": "white",
            "linecolor": "white",
            "ticks": ""
           },
           "bgcolor": "#E5ECF6",
           "caxis": {
            "gridcolor": "white",
            "linecolor": "white",
            "ticks": ""
           }
          },
          "title": {
           "x": 0.05
          },
          "xaxis": {
           "automargin": true,
           "gridcolor": "white",
           "linecolor": "white",
           "ticks": "",
           "title": {
            "standoff": 15
           },
           "zerolinecolor": "white",
           "zerolinewidth": 2
          },
          "yaxis": {
           "automargin": true,
           "gridcolor": "white",
           "linecolor": "white",
           "ticks": "",
           "title": {
            "standoff": 15
           },
           "zerolinecolor": "white",
           "zerolinewidth": 2
          }
         }
        },
        "xaxis": {
         "anchor": "y",
         "domain": [
          0,
          1
         ],
         "title": {
          "text": "LUNG_CANCER"
         }
        },
        "yaxis": {
         "anchor": "x",
         "domain": [
          0,
          1
         ],
         "title": {
          "text": "sum of counts"
         }
        }
       }
      }
     },
     "metadata": {},
     "output_type": "display_data"
    }
   ],
   "source": [
    "px.histogram(data_frame=dg2, x=\"LUNG_CANCER\", y=\"counts\", color=\"ALLERGY\", barmode='group', color_discrete_sequence=px.colors.qualitative.Bold)\n"
   ]
  },
  {
   "cell_type": "code",
   "execution_count": null,
   "id": "c3ceed0e",
   "metadata": {},
   "outputs": [
    {
     "data": {
      "text/html": [
       "<div>\n",
       "<style scoped>\n",
       "    .dataframe tbody tr th:only-of-type {\n",
       "        vertical-align: middle;\n",
       "    }\n",
       "\n",
       "    .dataframe tbody tr th {\n",
       "        vertical-align: top;\n",
       "    }\n",
       "\n",
       "    .dataframe thead th {\n",
       "        text-align: right;\n",
       "    }\n",
       "</style>\n",
       "<table border=\"1\" class=\"dataframe\">\n",
       "  <thead>\n",
       "    <tr style=\"text-align: right;\">\n",
       "      <th></th>\n",
       "      <th>AGE</th>\n",
       "      <th>SMOKING</th>\n",
       "      <th>YELLOW_FINGERS</th>\n",
       "      <th>ANXIETY</th>\n",
       "      <th>PEER_PRESSURE</th>\n",
       "      <th>CHRONIC DISEASE</th>\n",
       "      <th>FATIGUE</th>\n",
       "      <th>ALLERGY</th>\n",
       "      <th>WHEEZING</th>\n",
       "      <th>ALCOHOL CONSUMING</th>\n",
       "      <th>COUGHING</th>\n",
       "      <th>SHORTNESS OF BREATH</th>\n",
       "      <th>SWALLOWING DIFFICULTY</th>\n",
       "      <th>CHEST PAIN</th>\n",
       "      <th>GENDER_F</th>\n",
       "      <th>GENDER_M</th>\n",
       "    </tr>\n",
       "  </thead>\n",
       "  <tbody>\n",
       "    <tr>\n",
       "      <th>0</th>\n",
       "      <td>69</td>\n",
       "      <td>1</td>\n",
       "      <td>2</td>\n",
       "      <td>2</td>\n",
       "      <td>1</td>\n",
       "      <td>1</td>\n",
       "      <td>2</td>\n",
       "      <td>1</td>\n",
       "      <td>2</td>\n",
       "      <td>2</td>\n",
       "      <td>2</td>\n",
       "      <td>2</td>\n",
       "      <td>2</td>\n",
       "      <td>2</td>\n",
       "      <td>1</td>\n",
       "      <td>2</td>\n",
       "    </tr>\n",
       "    <tr>\n",
       "      <th>1</th>\n",
       "      <td>74</td>\n",
       "      <td>2</td>\n",
       "      <td>1</td>\n",
       "      <td>1</td>\n",
       "      <td>1</td>\n",
       "      <td>2</td>\n",
       "      <td>2</td>\n",
       "      <td>2</td>\n",
       "      <td>1</td>\n",
       "      <td>1</td>\n",
       "      <td>1</td>\n",
       "      <td>2</td>\n",
       "      <td>2</td>\n",
       "      <td>2</td>\n",
       "      <td>1</td>\n",
       "      <td>2</td>\n",
       "    </tr>\n",
       "    <tr>\n",
       "      <th>2</th>\n",
       "      <td>59</td>\n",
       "      <td>1</td>\n",
       "      <td>1</td>\n",
       "      <td>1</td>\n",
       "      <td>2</td>\n",
       "      <td>1</td>\n",
       "      <td>2</td>\n",
       "      <td>1</td>\n",
       "      <td>2</td>\n",
       "      <td>1</td>\n",
       "      <td>2</td>\n",
       "      <td>2</td>\n",
       "      <td>1</td>\n",
       "      <td>2</td>\n",
       "      <td>2</td>\n",
       "      <td>1</td>\n",
       "    </tr>\n",
       "    <tr>\n",
       "      <th>3</th>\n",
       "      <td>63</td>\n",
       "      <td>2</td>\n",
       "      <td>2</td>\n",
       "      <td>2</td>\n",
       "      <td>1</td>\n",
       "      <td>1</td>\n",
       "      <td>1</td>\n",
       "      <td>1</td>\n",
       "      <td>1</td>\n",
       "      <td>2</td>\n",
       "      <td>1</td>\n",
       "      <td>1</td>\n",
       "      <td>2</td>\n",
       "      <td>2</td>\n",
       "      <td>1</td>\n",
       "      <td>2</td>\n",
       "    </tr>\n",
       "    <tr>\n",
       "      <th>4</th>\n",
       "      <td>63</td>\n",
       "      <td>1</td>\n",
       "      <td>2</td>\n",
       "      <td>1</td>\n",
       "      <td>1</td>\n",
       "      <td>1</td>\n",
       "      <td>1</td>\n",
       "      <td>1</td>\n",
       "      <td>2</td>\n",
       "      <td>1</td>\n",
       "      <td>2</td>\n",
       "      <td>2</td>\n",
       "      <td>1</td>\n",
       "      <td>1</td>\n",
       "      <td>2</td>\n",
       "      <td>1</td>\n",
       "    </tr>\n",
       "    <tr>\n",
       "      <th>...</th>\n",
       "      <td>...</td>\n",
       "      <td>...</td>\n",
       "      <td>...</td>\n",
       "      <td>...</td>\n",
       "      <td>...</td>\n",
       "      <td>...</td>\n",
       "      <td>...</td>\n",
       "      <td>...</td>\n",
       "      <td>...</td>\n",
       "      <td>...</td>\n",
       "      <td>...</td>\n",
       "      <td>...</td>\n",
       "      <td>...</td>\n",
       "      <td>...</td>\n",
       "      <td>...</td>\n",
       "      <td>...</td>\n",
       "    </tr>\n",
       "    <tr>\n",
       "      <th>304</th>\n",
       "      <td>56</td>\n",
       "      <td>1</td>\n",
       "      <td>1</td>\n",
       "      <td>1</td>\n",
       "      <td>2</td>\n",
       "      <td>2</td>\n",
       "      <td>2</td>\n",
       "      <td>1</td>\n",
       "      <td>1</td>\n",
       "      <td>2</td>\n",
       "      <td>2</td>\n",
       "      <td>2</td>\n",
       "      <td>2</td>\n",
       "      <td>1</td>\n",
       "      <td>2</td>\n",
       "      <td>1</td>\n",
       "    </tr>\n",
       "    <tr>\n",
       "      <th>305</th>\n",
       "      <td>70</td>\n",
       "      <td>2</td>\n",
       "      <td>1</td>\n",
       "      <td>1</td>\n",
       "      <td>1</td>\n",
       "      <td>1</td>\n",
       "      <td>2</td>\n",
       "      <td>2</td>\n",
       "      <td>2</td>\n",
       "      <td>2</td>\n",
       "      <td>2</td>\n",
       "      <td>2</td>\n",
       "      <td>1</td>\n",
       "      <td>2</td>\n",
       "      <td>1</td>\n",
       "      <td>2</td>\n",
       "    </tr>\n",
       "    <tr>\n",
       "      <th>306</th>\n",
       "      <td>58</td>\n",
       "      <td>2</td>\n",
       "      <td>1</td>\n",
       "      <td>1</td>\n",
       "      <td>1</td>\n",
       "      <td>1</td>\n",
       "      <td>1</td>\n",
       "      <td>2</td>\n",
       "      <td>2</td>\n",
       "      <td>2</td>\n",
       "      <td>2</td>\n",
       "      <td>1</td>\n",
       "      <td>1</td>\n",
       "      <td>2</td>\n",
       "      <td>1</td>\n",
       "      <td>2</td>\n",
       "    </tr>\n",
       "    <tr>\n",
       "      <th>307</th>\n",
       "      <td>67</td>\n",
       "      <td>2</td>\n",
       "      <td>1</td>\n",
       "      <td>2</td>\n",
       "      <td>1</td>\n",
       "      <td>1</td>\n",
       "      <td>2</td>\n",
       "      <td>2</td>\n",
       "      <td>1</td>\n",
       "      <td>2</td>\n",
       "      <td>2</td>\n",
       "      <td>2</td>\n",
       "      <td>1</td>\n",
       "      <td>2</td>\n",
       "      <td>1</td>\n",
       "      <td>2</td>\n",
       "    </tr>\n",
       "    <tr>\n",
       "      <th>308</th>\n",
       "      <td>62</td>\n",
       "      <td>1</td>\n",
       "      <td>1</td>\n",
       "      <td>1</td>\n",
       "      <td>2</td>\n",
       "      <td>1</td>\n",
       "      <td>2</td>\n",
       "      <td>2</td>\n",
       "      <td>2</td>\n",
       "      <td>2</td>\n",
       "      <td>1</td>\n",
       "      <td>1</td>\n",
       "      <td>2</td>\n",
       "      <td>1</td>\n",
       "      <td>1</td>\n",
       "      <td>2</td>\n",
       "    </tr>\n",
       "  </tbody>\n",
       "</table>\n",
       "<p>309 rows × 16 columns</p>\n",
       "</div>"
      ],
      "text/plain": [
       "     AGE  SMOKING  YELLOW_FINGERS  ANXIETY  PEER_PRESSURE  CHRONIC DISEASE  \\\n",
       "0     69        1               2        2              1                1   \n",
       "1     74        2               1        1              1                2   \n",
       "2     59        1               1        1              2                1   \n",
       "3     63        2               2        2              1                1   \n",
       "4     63        1               2        1              1                1   \n",
       "..   ...      ...             ...      ...            ...              ...   \n",
       "304   56        1               1        1              2                2   \n",
       "305   70        2               1        1              1                1   \n",
       "306   58        2               1        1              1                1   \n",
       "307   67        2               1        2              1                1   \n",
       "308   62        1               1        1              2                1   \n",
       "\n",
       "     FATIGUE  ALLERGY  WHEEZING  ALCOHOL CONSUMING  COUGHING  \\\n",
       "0          2        1         2                  2         2   \n",
       "1          2        2         1                  1         1   \n",
       "2          2        1         2                  1         2   \n",
       "3          1        1         1                  2         1   \n",
       "4          1        1         2                  1         2   \n",
       "..       ...      ...       ...                ...       ...   \n",
       "304        2        1         1                  2         2   \n",
       "305        2        2         2                  2         2   \n",
       "306        1        2         2                  2         2   \n",
       "307        2        2         1                  2         2   \n",
       "308        2        2         2                  2         1   \n",
       "\n",
       "     SHORTNESS OF BREATH  SWALLOWING DIFFICULTY  CHEST PAIN  GENDER_F  \\\n",
       "0                      2                      2           2         1   \n",
       "1                      2                      2           2         1   \n",
       "2                      2                      1           2         2   \n",
       "3                      1                      2           2         1   \n",
       "4                      2                      1           1         2   \n",
       "..                   ...                    ...         ...       ...   \n",
       "304                    2                      2           1         2   \n",
       "305                    2                      1           2         1   \n",
       "306                    1                      1           2         1   \n",
       "307                    2                      1           2         1   \n",
       "308                    1                      2           1         1   \n",
       "\n",
       "     GENDER_M  \n",
       "0           2  \n",
       "1           2  \n",
       "2           1  \n",
       "3           2  \n",
       "4           1  \n",
       "..        ...  \n",
       "304         1  \n",
       "305         2  \n",
       "306         2  \n",
       "307         2  \n",
       "308         2  \n",
       "\n",
       "[309 rows x 16 columns]"
      ]
     },
     "metadata": {},
     "output_type": "display_data"
    }
   ],
   "source": [
    "X = base[['GENDER', 'AGE', 'SMOKING', 'YELLOW_FINGERS', 'ANXIETY', 'PEER_PRESSURE', 'CHRONIC DISEASE', 'FATIGUE', 'ALLERGY', 'WHEEZING', 'ALCOHOL CONSUMING', 'COUGHING', 'SHORTNESS OF BREATH', 'SWALLOWING DIFFICULTY', 'CHEST PAIN']]\n",
    "X = pd.get_dummies(X)\n",
    "\n",
    "# YES = 2 e NO = 1 (trocando os targets de Gender_F e Gender_M para 2 e 1 , no lugar de 0 e 1)\n",
    "for i in range(len(X['GENDER_F'])):\n",
    "    if X['GENDER_F'][i] == 0:\n",
    "        X.loc[i ,'GENDER_F'] = 1\n",
    "    else: \n",
    "        X.loc[i ,'GENDER_F'] = 2 \n",
    "        \n",
    "for i in range(len(X['GENDER_M'])):\n",
    "    if X['GENDER_M'][i] == 0:\n",
    "        X.loc[i ,'GENDER_M'] = 1\n",
    "    else: \n",
    "        X.loc[i ,'GENDER_M'] = 2 \n",
    "display(X)"
   ]
  },
  {
   "cell_type": "code",
   "execution_count": null,
   "id": "cd94203d",
   "metadata": {},
   "outputs": [],
   "source": [
    "y = base['LUNG_CANCER'].astype('int')\n",
    "X_train,X_test,y_train,y_test = train_test_split(X,y,test_size=0.25,random_state=0)"
   ]
  },
  {
   "cell_type": "code",
   "execution_count": null,
   "id": "0a22b613",
   "metadata": {},
   "outputs": [],
   "source": []
  },
  {
   "cell_type": "markdown",
   "id": "17a82680",
   "metadata": {},
   "source": [
    "<img src=\"imagens/Regressão Logística.png\" style=\"width:1200px;height:350px;\">"
   ]
  },
  {
   "cell_type": "markdown",
   "id": "217bbdba",
   "metadata": {},
   "source": [
    "A regressão logística é uma técnica estatística que tem como objetivo produzir, a partir de um conjunto de observações, um modelo que permita a predição de valores tomados por uma variável categórica, frequentemente binária, em função de uma ou mais variáveis independentes contínuas e/ou binárias. Apesar de parecer algo muito inacessível, a regressão logística é bastante utilizada em ciências médicas e sociais. No campo da medicina é possível determinar determinar os conjunto de fatores que torna um grupo de indivíduos doentes quando comparamos com indivíduos saudáveis. Podem existir também outros nomes: modelo logístico, modelo logit, ou classificador de máxima entropia. Portanto, podemos concluir que Regressão Logística busca estimar a probabilidade da variável dependente assumir um determinado valor em função dos outros valores. "
   ]
  },
  {
   "cell_type": "markdown",
   "id": "6f628ecf",
   "metadata": {},
   "source": [
    "A regressão logística é um algoritmo de aprendizagem de máquina supervisionado utilizado para classificação, apesar de ter a palavra regressão em seu nome. Essa nomenclatura está relacionada com o fato da Regressão Logística ser construída a partir da aplicação de uma transformação/função (denominada função logística ou sigmoide) sobre a Regressão Linear.\n",
    "\n",
    "Para entender a motivação por trás da definição da regressão logística é interessante que se entenda as premissas e o objetivo do algoritmo de regressão linear, afinal ele é o ponto de partida da análise matemática que iremos fazer. No entanto, vou tentar explicar este modelo de forma independente e compreensível, e em outro momento falaremos somente sobre regressão linear.\n",
    "\n",
    "Quando estamos lidando com um problema de regressão a variável alvo é um número real, ou seja, o resultado da predição pode cair dentro do intervalo dos números reais [-∞, +∞]. Tomando como exemplo a imagem abaixo, a variável alvo Custo (do plano de saúde, neste exemplo) é plotada em função do atributo Idade, onde pode-se notar uma relação linear entre elas, em que quanto maior a idade de uma pessoa, maior será o custo do plano de saúde. Dessa forma, o objetivo da regressão linear é encontrar a equação da reta que melhor se ajusta ao conjunto de dados, isto é, encontrar a combinação dos coeficientes b0 (coeficiente linear) e b1 (coeficiente angular) que irá minimizar os erros de predição.\n",
    "\n",
    "<img src=\"imagens/0_KigCyIJKGuJTmJqj.png\" style=\"width:1000px;height:500px;\">>"
   ]
  },
  {
   "cell_type": "markdown",
   "id": "bceeaf2c",
   "metadata": {},
   "source": [
    "No entanto, em um problema de classificação, aplicar a técnica de regressão linear diretamente não faz sentido, uma vez que se objetiva prever rótulos e não valores quantitativos. No exemplo abaixo temos a variável alvo Pagar (um empréstimo), que pode assumir o valor 1 (indicando que o cliente pagou o empréstimo) ou o valor 0 (o cliente não pagou o empréstimo), e o atributo Idade que nesse caso indica que quanto maior a idade maiores as chances de que um dado cliente pague o empréstimo. Nesse tipo de problema binário o resultado da predição estará dentro do intervalo [0, 1].\n",
    "\n",
    "<img src=\"imagens/0_JL2irOqEb0_MV07j.png\" style=\"width:900px;height:600px;\">"
   ]
  },
  {
   "cell_type": "markdown",
   "id": "2a0ecc18",
   "metadata": {},
   "source": [
    "Nesse contexto, seria interessante ter uma função que apenas admita uma saída dentro do intervalo [0, 1], ou seja, dado uma combinação linear dos atributos (um número real qualquer) a saída dessa função estaria dentro do intervalo [0, 1], permitindo que o resultado seja mapeado em classes/rótulos. São justamente estas as características que a função logística/sigmoide consegue suprir para atingir a solução para esse problema, daí a sua importância.\n",
    "\n",
    "A função sigmoide é matematicamente definida por:\n",
    "\n",
    "<center><img src=\"imagens/1_xjKzLeMxv-7e9FeWJBlsYA.png\"></center>\n",
    "\n",
    "Onde p representa a probabilidade de uma dada instância pertencer a classe analisada — evento (normalmente é definido como sendo o evento positivo/verdadeiro — 1).\n",
    "\n",
    "y é um número real dado pela combinação linear dos atributos utilizados na predição, derivado da regressão linear.\n",
    "Dessa forma, a função sigmoide recebe um número real (combinação linear de variáveis) como entrada e retorna uma saída dentro do intervalo [0, 1], que representa a probabilidade do registro de entrada pertencer a classe evento (1, por exemplo).\n",
    "\n",
    "Para realizar uma classificação a partir de uma probabilidade se define um limiar de decisão (threshold), onde registros cuja probabilidade ultrapasse esse limiar são classificados como sendo da classe 1, caso contrário serão considerados da classe 0. Sendo assim, a regressão logística não só é capaz de classificar instâncias mas também de informar a certeza/incerteza associada com a classificação, através do valor de probabilidade calculada.\n",
    "\n",
    "\n",
    "\n",
    "<center><img src=\"imagens/0_wUJ1p_Sol9P734fO.png\"></center>"
   ]
  },
  {
   "cell_type": "markdown",
   "id": "7015bd72",
   "metadata": {},
   "source": [
    "É a equação de uma reta e define a técnica de regressão linear, temos a partir da equação (1):\n",
    "\n",
    "<img src=\"imagens/1_9usZhPMukggWCik_-cvqzA.png\" >\n"
   ]
  },
  {
   "cell_type": "markdown",
   "id": "60a03ef4",
   "metadata": {},
   "source": [
    "Portanto, podemos rearranjar os termos e reescrever a equação (3) como:\n",
    "\n",
    "<img src=\"imagens/1_GTcxhFu4iDTPw0G2Ho3P5A.png\">\n"
   ]
  },
  {
   "cell_type": "markdown",
   "id": "5682d47f",
   "metadata": {},
   "source": [
    "<img src=\"imagens/1_Y1ySWYKloB5_eDF1f74ZoQ.png\">"
   ]
  },
  {
   "cell_type": "markdown",
   "id": "38c9e05e",
   "metadata": {},
   "source": [
    "Essa equação representa a função inversa da função logística, chamada de função logit. Podemos notar que dado uma probabilidade como entrada (com valores definidos no intervalo [0, 1], por definição) a saída é representada por um número real, este definido pela equação da reta (regressão linear).\n",
    "\n",
    "<img src=\"imagens/0_eCbkiIYeC1FHS_3R.png\">\n"
   ]
  },
  {
   "cell_type": "markdown",
   "id": "72b2f63e",
   "metadata": {},
   "source": [
    "No domínio da probabilidade, a expressão:\n",
    "\n",
    "<img src=\"imagens/1_VSleKFM8ZXiw5d6E-EEqMw.png\">\n"
   ]
  },
  {
   "cell_type": "code",
   "execution_count": null,
   "metadata": {},
   "outputs": [],
   "source": []
  },
  {
   "cell_type": "markdown",
   "id": "182157bc",
   "metadata": {},
   "source": [
    "# Decision Trees"
   ]
  },
  {
   "cell_type": "markdown",
   "id": "2f67d641",
   "metadata": {},
   "source": [
    "<img src=\"imagens/Decision Tree.png\" style=\"width:1200px;height:300px;\">"
   ]
  },
  {
   "cell_type": "markdown",
   "id": "4bf64505",
   "metadata": {},
   "source": [
    "Uma decision tree pode ser aplicada para identificar doenças a partir de informações cedidas ao algoritmo como treinamento — uma classificação. Nesse caso, o sistema apreende os dados, entende suas relações, realiza os cálculos a fim de entender quais são os nós mais importantes e ajusta as condições. \n",
    "\n",
    "Como o próprio nome sugere, neste algoritmo vários pontos de decisão serão criados. Estes pontos são os “nós” da árvore e em cada um deles o resultado da decisão será seguir por um caminho, ou por outro. Os caminhos existentes são os “ramos”. Esta é a estrutura básica de uma árvore de decisão. Os nós são responsáveis pelas conferências que irão indicar um ramo ou outro para sequência do fluxo."
   ]
  },
  {
   "cell_type": "markdown",
   "id": "6474179f",
   "metadata": {},
   "source": [
    "Na imagem abaixo vemos uma árvore de decisão extremamente simples, apenas com dois nós e poucos ramos.\n",
    "<img src=\"imagens/image-1.png\">"
   ]
  },
  {
   "cell_type": "markdown",
   "id": "92ab166b",
   "metadata": {},
   "source": [
    "É claro que, em uma situação como esta, não será necessário um algoritmo que nos diga se iremos a praia ou não, mas a ideia é válida para este aprendizado. Entendendo como esta árvore foi criada, você entenderá a lógica de uma árvore de decisão.\n",
    "\n",
    "<img src=\"imagens/image-4.png\">\n",
    "\n",
    "Esta é a tabela que levou à criação da árvore apresentada. Como podemos ver, todas as vezes em que a coluna “Sol?” é igual a “Não”, a pessoa não foi para praia. Esta coluna foi utilizada na primeira pergunta, ou no primeiro nó de nossa árvore, sendo que sempre que a informação na coluna “Sol?” for “Não”, nossa árvore de decisão responderá que a pessoa não foi para praia. Porém quando esta resposta for “Sim”, temos casos onde a pessoa foi para praia e outros em que ela não foi.\n",
    "\n",
    "Ou seja, é necessário fazermos mais uma pergunta para definirmos a resposta, levando assim a segunda pergunta, ou segundo nó de nossa árvore, que irá conferir a informação existente na coluna “Vento?”."
   ]
  },
  {
   "cell_type": "markdown",
   "id": "8deca2ec",
   "metadata": {},
   "source": [
    "É importante observamos que esta mesma tabela poderia levar a construção de uma árvore diferente. Se primeiramente conferirmos o valor da variável “Vento?” veremos que em todos os dias com vento não fomos para praia. Em dias sem vento, conferimos também se havia sol, para então definir a resposta final.\n",
    "\n",
    "<img src=\"imagens/image-5.png\">\n",
    "\n",
    "Neste simples exemplo vemos que normalmente não existirá uma única árvore de decisão para um mesmo problema, sendo que com diferentes árvores poderemos chegar a um mesmo resultado."
   ]
  },
  {
   "cell_type": "markdown",
   "id": "64add16e",
   "metadata": {},
   "source": [
    "### Definindo os nós e ramos\n",
    "Assim como podemos ter mais de uma árvore para um mesmo problema, também podemos utilizar diferentes métodos de cálculo na criação de uma árvore de decisão. Estes métodos são os responsáveis pela definição da estrutura e resultado final da árvore, e tentam buscar a estrutura mais otimizada para o problema em questão.\n",
    "\n",
    "<img src=\"imagens/image-2.png\">\n",
    "\n",
    "Imagine que em nosso exemplo anterior os dados fossem um pouco diferentes, sendo que em todos os dias de sol fomos para a praia, e em dias sem sol, não fomos. Nesta situação, a árvore não precisaria conferir se existe vento ou não, pois independente desta informação o resultado seria o mesmo. Ou seja, nossa variável target “Vou para praia?” seria totalmente explicada pela variação da variável preditora “Sol?”, resultando em uma árvore com apenas um nó.\n",
    "\n",
    "Os métodos utilizados pelos algoritmos irão buscar justamente estas variáveis dentre todas as preditoras, identificando aquelas que possuem maior relação com a variável target, e colocando-as no topo da árvore, em seus nós principais."
   ]
  },
  {
   "cell_type": "markdown",
   "id": "0261cdd4",
   "metadata": {},
   "source": [
    "### Entropia \n",
    "\n",
    "através da entropia o algoritmo verifica como os dados estão distribuídos nas variáveis preditoras de acordo com a variação da variável target. Quanto maior a entropia, maior a desordem dos dados; e quanto menor, maior será a ordem destes dados, quando analisados pela ótica da variável target. Partindo da entropia, o algoritmo confere o ganho de informação de cada variável. Aquela que apresentar maior ganho de informação será a variável do primeiro nó da árvores.\n",
    "Podemos entender o ganho de informação como a medida de quão bem relacionados os dados da variável preditora estão com os dados da variável target (ou o quanto a variável target pode ser explicada a partir da variável preditora), sendo que a variável com melhor desempenho será a escolhida para iniciar a árvore.\n",
    "\n",
    "\n",
    "\n",
    "\n",
    "### Índice GINI \n",
    "\n",
    "com o cálculo do índice GINI, assim como na Entropia, será verificada a distribuição dos dados nas variáveis preditoras de acordo com a variação da variável target, porém com um método diferente. A variável preditora com o menor índice Gini será a escolhida para o nó principal da árvore, pois um baixo valor do índice indica maior ordem na distribuição dos dados.\n",
    "\n",
    "\n",
    "\n",
    "### Regressão \n",
    "\n",
    "nos problemas de regressão nosso objetivo é prever um valor, e não uma classe. Para isso a árvore utilizará os conceitos de média e desvio padrão, que possibilitarão um resultado final numérico.\n",
    "Para definir as variáveis preditoras dos nós principais em um problema de regressão, será calculado o desvio padrão dos valores da variável target para cada variável preditora, de acordo com suas variações. Desta forma teremos um valor de desvio padrão para cada variável preditora e, comparando-o com o desvio padrão da variável target completa, chegaremos a redução de desvio padrão que a variável preditora em questão aplicou sobre a variável target.\n",
    "Lembrando que o desvio padrão indica o quão distante os valores estão da média, podemos entender que uma variável com grande redução de desvio padrão indica que através dela a variável target se aproxima da média, mostrando uma grande relação entre a variável preditora e a variável target. Portanto, a variável preditora com maior redução de desvio padrão será escolhida para o nó principal da árvore."
   ]
  },
  {
   "cell_type": "code",
   "execution_count": null,
   "id": "33d8371d",
   "metadata": {},
   "outputs": [],
   "source": [
    "from sklearn import tree\n",
    "model = tree.DecisionTreeClassifier()"
   ]
  },
  {
   "cell_type": "code",
   "execution_count": null,
   "id": "4e22f9c2",
   "metadata": {},
   "outputs": [
    {
     "data": {
      "text/plain": [
       "DecisionTreeClassifier()"
      ]
     },
     "execution_count": 85,
     "metadata": {},
     "output_type": "execute_result"
    }
   ],
   "source": [
    "# Precisa instalar o graphviz no seu windows, acesse o link\n",
    "# https://graphviz.org/download/\n",
    "# e baixe a versão executável Windows 64 bits\n",
    "\n",
    "# Depois disso, faça a instalação do graphviz no python com o comando (se estiver dentro do notebook, acidione exclamação no inicio)\n",
    "# pip install graphviz\n",
    "\n",
    "# Cria um classificador\n",
    "classificador = tree.DecisionTreeClassifier()\n",
    "\n",
    "# Treina ele\n",
    "classificador.fit(X_train, y_train)"
   ]
  },
  {
   "cell_type": "code",
   "execution_count": null,
   "id": "2f105bbf",
   "metadata": {},
   "outputs": [
    {
     "data": {
      "text/plain": [
       "0.9102564102564102"
      ]
     },
     "execution_count": 86,
     "metadata": {},
     "output_type": "execute_result"
    }
   ],
   "source": [
    "classificador.score(X_test, y_test)"
   ]
  },
  {
   "cell_type": "code",
   "execution_count": 141,
   "id": "4d7ce11d",
   "metadata": {},
   "outputs": [
    {
     "ename": "ExecutableNotFound",
     "evalue": "failed to execute WindowsPath('dot'), make sure the Graphviz executables are on your systems' PATH",
     "output_type": "error",
     "traceback": [
      "\u001b[1;31m---------------------------------------------------------------------------\u001b[0m",
      "\u001b[1;31mFileNotFoundError\u001b[0m                         Traceback (most recent call last)",
      "\u001b[1;32mc:\\Users\\Alexia\\anaconda3\\lib\\site-packages\\graphviz\\backend\\execute.py\u001b[0m in \u001b[0;36mrun_check\u001b[1;34m(cmd, input_lines, encoding, quiet, **kwargs)\u001b[0m\n\u001b[0;32m     78\u001b[0m                 \u001b[0mkwargs\u001b[0m\u001b[1;33m[\u001b[0m\u001b[1;34m'stdout'\u001b[0m\u001b[1;33m]\u001b[0m \u001b[1;33m=\u001b[0m \u001b[0mkwargs\u001b[0m\u001b[1;33m[\u001b[0m\u001b[1;34m'stderr'\u001b[0m\u001b[1;33m]\u001b[0m \u001b[1;33m=\u001b[0m \u001b[0msubprocess\u001b[0m\u001b[1;33m.\u001b[0m\u001b[0mPIPE\u001b[0m\u001b[1;33m\u001b[0m\u001b[1;33m\u001b[0m\u001b[0m\n\u001b[1;32m---> 79\u001b[1;33m             \u001b[0mproc\u001b[0m \u001b[1;33m=\u001b[0m \u001b[0m_run_input_lines\u001b[0m\u001b[1;33m(\u001b[0m\u001b[0mcmd\u001b[0m\u001b[1;33m,\u001b[0m \u001b[0minput_lines\u001b[0m\u001b[1;33m,\u001b[0m \u001b[0mkwargs\u001b[0m\u001b[1;33m=\u001b[0m\u001b[0mkwargs\u001b[0m\u001b[1;33m)\u001b[0m\u001b[1;33m\u001b[0m\u001b[1;33m\u001b[0m\u001b[0m\n\u001b[0m\u001b[0;32m     80\u001b[0m         \u001b[1;32melse\u001b[0m\u001b[1;33m:\u001b[0m\u001b[1;33m\u001b[0m\u001b[1;33m\u001b[0m\u001b[0m\n",
      "\u001b[1;32mc:\\Users\\Alexia\\anaconda3\\lib\\site-packages\\graphviz\\backend\\execute.py\u001b[0m in \u001b[0;36m_run_input_lines\u001b[1;34m(cmd, input_lines, kwargs)\u001b[0m\n\u001b[0;32m     98\u001b[0m \u001b[1;32mdef\u001b[0m \u001b[0m_run_input_lines\u001b[0m\u001b[1;33m(\u001b[0m\u001b[0mcmd\u001b[0m\u001b[1;33m,\u001b[0m \u001b[0minput_lines\u001b[0m\u001b[1;33m,\u001b[0m \u001b[1;33m*\u001b[0m\u001b[1;33m,\u001b[0m \u001b[0mkwargs\u001b[0m\u001b[1;33m)\u001b[0m\u001b[1;33m:\u001b[0m\u001b[1;33m\u001b[0m\u001b[1;33m\u001b[0m\u001b[0m\n\u001b[1;32m---> 99\u001b[1;33m     \u001b[0mpopen\u001b[0m \u001b[1;33m=\u001b[0m \u001b[0msubprocess\u001b[0m\u001b[1;33m.\u001b[0m\u001b[0mPopen\u001b[0m\u001b[1;33m(\u001b[0m\u001b[0mcmd\u001b[0m\u001b[1;33m,\u001b[0m \u001b[0mstdin\u001b[0m\u001b[1;33m=\u001b[0m\u001b[0msubprocess\u001b[0m\u001b[1;33m.\u001b[0m\u001b[0mPIPE\u001b[0m\u001b[1;33m,\u001b[0m \u001b[1;33m**\u001b[0m\u001b[0mkwargs\u001b[0m\u001b[1;33m)\u001b[0m\u001b[1;33m\u001b[0m\u001b[1;33m\u001b[0m\u001b[0m\n\u001b[0m\u001b[0;32m    100\u001b[0m \u001b[1;33m\u001b[0m\u001b[0m\n",
      "\u001b[1;32mc:\\Users\\Alexia\\anaconda3\\lib\\subprocess.py\u001b[0m in \u001b[0;36m__init__\u001b[1;34m(self, args, bufsize, executable, stdin, stdout, stderr, preexec_fn, close_fds, shell, cwd, env, universal_newlines, startupinfo, creationflags, restore_signals, start_new_session, pass_fds, encoding, errors, text)\u001b[0m\n\u001b[0;32m    857\u001b[0m \u001b[1;33m\u001b[0m\u001b[0m\n\u001b[1;32m--> 858\u001b[1;33m             self._execute_child(args, executable, preexec_fn, close_fds,\n\u001b[0m\u001b[0;32m    859\u001b[0m                                 \u001b[0mpass_fds\u001b[0m\u001b[1;33m,\u001b[0m \u001b[0mcwd\u001b[0m\u001b[1;33m,\u001b[0m \u001b[0menv\u001b[0m\u001b[1;33m,\u001b[0m\u001b[1;33m\u001b[0m\u001b[1;33m\u001b[0m\u001b[0m\n",
      "\u001b[1;32mc:\\Users\\Alexia\\anaconda3\\lib\\subprocess.py\u001b[0m in \u001b[0;36m_execute_child\u001b[1;34m(self, args, executable, preexec_fn, close_fds, pass_fds, cwd, env, startupinfo, creationflags, shell, p2cread, p2cwrite, c2pread, c2pwrite, errread, errwrite, unused_restore_signals, unused_start_new_session)\u001b[0m\n\u001b[0;32m   1310\u001b[0m             \u001b[1;32mtry\u001b[0m\u001b[1;33m:\u001b[0m\u001b[1;33m\u001b[0m\u001b[1;33m\u001b[0m\u001b[0m\n\u001b[1;32m-> 1311\u001b[1;33m                 hp, ht, pid, tid = _winapi.CreateProcess(executable, args,\n\u001b[0m\u001b[0;32m   1312\u001b[0m                                          \u001b[1;31m# no special security\u001b[0m\u001b[1;33m\u001b[0m\u001b[1;33m\u001b[0m\u001b[1;33m\u001b[0m\u001b[0m\n",
      "\u001b[1;31mFileNotFoundError\u001b[0m: [WinError 2] O sistema não pode encontrar o arquivo especificado",
      "\nThe above exception was the direct cause of the following exception:\n",
      "\u001b[1;31mExecutableNotFound\u001b[0m                        Traceback (most recent call last)",
      "\u001b[1;32mc:\\Users\\Alexia\\anaconda3\\lib\\site-packages\\IPython\\core\\formatters.py\u001b[0m in \u001b[0;36m__call__\u001b[1;34m(self, obj, include, exclude)\u001b[0m\n\u001b[0;32m    968\u001b[0m \u001b[1;33m\u001b[0m\u001b[0m\n\u001b[0;32m    969\u001b[0m             \u001b[1;32mif\u001b[0m \u001b[0mmethod\u001b[0m \u001b[1;32mis\u001b[0m \u001b[1;32mnot\u001b[0m \u001b[1;32mNone\u001b[0m\u001b[1;33m:\u001b[0m\u001b[1;33m\u001b[0m\u001b[1;33m\u001b[0m\u001b[0m\n\u001b[1;32m--> 970\u001b[1;33m                 \u001b[1;32mreturn\u001b[0m \u001b[0mmethod\u001b[0m\u001b[1;33m(\u001b[0m\u001b[0minclude\u001b[0m\u001b[1;33m=\u001b[0m\u001b[0minclude\u001b[0m\u001b[1;33m,\u001b[0m \u001b[0mexclude\u001b[0m\u001b[1;33m=\u001b[0m\u001b[0mexclude\u001b[0m\u001b[1;33m)\u001b[0m\u001b[1;33m\u001b[0m\u001b[1;33m\u001b[0m\u001b[0m\n\u001b[0m\u001b[0;32m    971\u001b[0m             \u001b[1;32mreturn\u001b[0m \u001b[1;32mNone\u001b[0m\u001b[1;33m\u001b[0m\u001b[1;33m\u001b[0m\u001b[0m\n\u001b[0;32m    972\u001b[0m         \u001b[1;32melse\u001b[0m\u001b[1;33m:\u001b[0m\u001b[1;33m\u001b[0m\u001b[1;33m\u001b[0m\u001b[0m\n",
      "\u001b[1;32mc:\\Users\\Alexia\\anaconda3\\lib\\site-packages\\graphviz\\jupyter_integration.py\u001b[0m in \u001b[0;36m_repr_mimebundle_\u001b[1;34m(self, include, exclude, **_)\u001b[0m\n\u001b[0;32m     96\u001b[0m         \u001b[0minclude\u001b[0m \u001b[1;33m=\u001b[0m \u001b[0mset\u001b[0m\u001b[1;33m(\u001b[0m\u001b[0minclude\u001b[0m\u001b[1;33m)\u001b[0m \u001b[1;32mif\u001b[0m \u001b[0minclude\u001b[0m \u001b[1;32mis\u001b[0m \u001b[1;32mnot\u001b[0m \u001b[1;32mNone\u001b[0m \u001b[1;32melse\u001b[0m \u001b[1;33m{\u001b[0m\u001b[0mself\u001b[0m\u001b[1;33m.\u001b[0m\u001b[0m_jupyter_mimetype\u001b[0m\u001b[1;33m}\u001b[0m\u001b[1;33m\u001b[0m\u001b[1;33m\u001b[0m\u001b[0m\n\u001b[0;32m     97\u001b[0m         \u001b[0minclude\u001b[0m \u001b[1;33m-=\u001b[0m \u001b[0mset\u001b[0m\u001b[1;33m(\u001b[0m\u001b[0mexclude\u001b[0m \u001b[1;32mor\u001b[0m \u001b[1;33m[\u001b[0m\u001b[1;33m]\u001b[0m\u001b[1;33m)\u001b[0m\u001b[1;33m\u001b[0m\u001b[1;33m\u001b[0m\u001b[0m\n\u001b[1;32m---> 98\u001b[1;33m         return {mimetype: getattr(self, method_name)()\n\u001b[0m\u001b[0;32m     99\u001b[0m                 \u001b[1;32mfor\u001b[0m \u001b[0mmimetype\u001b[0m\u001b[1;33m,\u001b[0m \u001b[0mmethod_name\u001b[0m \u001b[1;32min\u001b[0m \u001b[0mMIME_TYPES\u001b[0m\u001b[1;33m.\u001b[0m\u001b[0mitems\u001b[0m\u001b[1;33m(\u001b[0m\u001b[1;33m)\u001b[0m\u001b[1;33m\u001b[0m\u001b[1;33m\u001b[0m\u001b[0m\n\u001b[0;32m    100\u001b[0m                 if mimetype in include}\n",
      "\u001b[1;32mc:\\Users\\Alexia\\anaconda3\\lib\\site-packages\\graphviz\\jupyter_integration.py\u001b[0m in \u001b[0;36m<dictcomp>\u001b[1;34m(.0)\u001b[0m\n\u001b[0;32m     96\u001b[0m         \u001b[0minclude\u001b[0m \u001b[1;33m=\u001b[0m \u001b[0mset\u001b[0m\u001b[1;33m(\u001b[0m\u001b[0minclude\u001b[0m\u001b[1;33m)\u001b[0m \u001b[1;32mif\u001b[0m \u001b[0minclude\u001b[0m \u001b[1;32mis\u001b[0m \u001b[1;32mnot\u001b[0m \u001b[1;32mNone\u001b[0m \u001b[1;32melse\u001b[0m \u001b[1;33m{\u001b[0m\u001b[0mself\u001b[0m\u001b[1;33m.\u001b[0m\u001b[0m_jupyter_mimetype\u001b[0m\u001b[1;33m}\u001b[0m\u001b[1;33m\u001b[0m\u001b[1;33m\u001b[0m\u001b[0m\n\u001b[0;32m     97\u001b[0m         \u001b[0minclude\u001b[0m \u001b[1;33m-=\u001b[0m \u001b[0mset\u001b[0m\u001b[1;33m(\u001b[0m\u001b[0mexclude\u001b[0m \u001b[1;32mor\u001b[0m \u001b[1;33m[\u001b[0m\u001b[1;33m]\u001b[0m\u001b[1;33m)\u001b[0m\u001b[1;33m\u001b[0m\u001b[1;33m\u001b[0m\u001b[0m\n\u001b[1;32m---> 98\u001b[1;33m         return {mimetype: getattr(self, method_name)()\n\u001b[0m\u001b[0;32m     99\u001b[0m                 \u001b[1;32mfor\u001b[0m \u001b[0mmimetype\u001b[0m\u001b[1;33m,\u001b[0m \u001b[0mmethod_name\u001b[0m \u001b[1;32min\u001b[0m \u001b[0mMIME_TYPES\u001b[0m\u001b[1;33m.\u001b[0m\u001b[0mitems\u001b[0m\u001b[1;33m(\u001b[0m\u001b[1;33m)\u001b[0m\u001b[1;33m\u001b[0m\u001b[1;33m\u001b[0m\u001b[0m\n\u001b[0;32m    100\u001b[0m                 if mimetype in include}\n",
      "\u001b[1;32mc:\\Users\\Alexia\\anaconda3\\lib\\site-packages\\graphviz\\jupyter_integration.py\u001b[0m in \u001b[0;36m_repr_image_svg_xml\u001b[1;34m(self)\u001b[0m\n\u001b[0;32m    110\u001b[0m     \u001b[1;32mdef\u001b[0m \u001b[0m_repr_image_svg_xml\u001b[0m\u001b[1;33m(\u001b[0m\u001b[0mself\u001b[0m\u001b[1;33m)\u001b[0m \u001b[1;33m->\u001b[0m \u001b[0mstr\u001b[0m\u001b[1;33m:\u001b[0m\u001b[1;33m\u001b[0m\u001b[1;33m\u001b[0m\u001b[0m\n\u001b[0;32m    111\u001b[0m         \u001b[1;34m\"\"\"Return the rendered graph as SVG string.\"\"\"\u001b[0m\u001b[1;33m\u001b[0m\u001b[1;33m\u001b[0m\u001b[0m\n\u001b[1;32m--> 112\u001b[1;33m         \u001b[1;32mreturn\u001b[0m \u001b[0mself\u001b[0m\u001b[1;33m.\u001b[0m\u001b[0mpipe\u001b[0m\u001b[1;33m(\u001b[0m\u001b[0mformat\u001b[0m\u001b[1;33m=\u001b[0m\u001b[1;34m'svg'\u001b[0m\u001b[1;33m,\u001b[0m \u001b[0mencoding\u001b[0m\u001b[1;33m=\u001b[0m\u001b[0mSVG_ENCODING\u001b[0m\u001b[1;33m)\u001b[0m\u001b[1;33m\u001b[0m\u001b[1;33m\u001b[0m\u001b[0m\n\u001b[0m",
      "\u001b[1;32mc:\\Users\\Alexia\\anaconda3\\lib\\site-packages\\graphviz\\piping.py\u001b[0m in \u001b[0;36mpipe\u001b[1;34m(self, format, renderer, formatter, neato_no_op, quiet, engine, encoding)\u001b[0m\n\u001b[0;32m    102\u001b[0m             \u001b[1;34m'<?xml version='\u001b[0m\u001b[1;33m\u001b[0m\u001b[1;33m\u001b[0m\u001b[0m\n\u001b[0;32m    103\u001b[0m         \"\"\"\n\u001b[1;32m--> 104\u001b[1;33m         return self._pipe_legacy(format,\n\u001b[0m\u001b[0;32m    105\u001b[0m                                  \u001b[0mrenderer\u001b[0m\u001b[1;33m=\u001b[0m\u001b[0mrenderer\u001b[0m\u001b[1;33m,\u001b[0m\u001b[1;33m\u001b[0m\u001b[1;33m\u001b[0m\u001b[0m\n\u001b[0;32m    106\u001b[0m                                  \u001b[0mformatter\u001b[0m\u001b[1;33m=\u001b[0m\u001b[0mformatter\u001b[0m\u001b[1;33m,\u001b[0m\u001b[1;33m\u001b[0m\u001b[1;33m\u001b[0m\u001b[0m\n",
      "\u001b[1;32mc:\\Users\\Alexia\\anaconda3\\lib\\site-packages\\graphviz\\_tools.py\u001b[0m in \u001b[0;36mwrapper\u001b[1;34m(*args, **kwargs)\u001b[0m\n\u001b[0;32m    169\u001b[0m                               category=category)\n\u001b[0;32m    170\u001b[0m \u001b[1;33m\u001b[0m\u001b[0m\n\u001b[1;32m--> 171\u001b[1;33m             \u001b[1;32mreturn\u001b[0m \u001b[0mfunc\u001b[0m\u001b[1;33m(\u001b[0m\u001b[1;33m*\u001b[0m\u001b[0margs\u001b[0m\u001b[1;33m,\u001b[0m \u001b[1;33m**\u001b[0m\u001b[0mkwargs\u001b[0m\u001b[1;33m)\u001b[0m\u001b[1;33m\u001b[0m\u001b[1;33m\u001b[0m\u001b[0m\n\u001b[0m\u001b[0;32m    172\u001b[0m \u001b[1;33m\u001b[0m\u001b[0m\n\u001b[0;32m    173\u001b[0m         \u001b[1;32mreturn\u001b[0m \u001b[0mwrapper\u001b[0m\u001b[1;33m\u001b[0m\u001b[1;33m\u001b[0m\u001b[0m\n",
      "\u001b[1;32mc:\\Users\\Alexia\\anaconda3\\lib\\site-packages\\graphviz\\piping.py\u001b[0m in \u001b[0;36m_pipe_legacy\u001b[1;34m(self, format, renderer, formatter, neato_no_op, quiet, engine, encoding)\u001b[0m\n\u001b[0;32m    119\u001b[0m                      \u001b[0mengine\u001b[0m\u001b[1;33m:\u001b[0m \u001b[0mtyping\u001b[0m\u001b[1;33m.\u001b[0m\u001b[0mOptional\u001b[0m\u001b[1;33m[\u001b[0m\u001b[0mstr\u001b[0m\u001b[1;33m]\u001b[0m \u001b[1;33m=\u001b[0m \u001b[1;32mNone\u001b[0m\u001b[1;33m,\u001b[0m\u001b[1;33m\u001b[0m\u001b[1;33m\u001b[0m\u001b[0m\n\u001b[0;32m    120\u001b[0m                      encoding: typing.Optional[str] = None) -> typing.Union[bytes, str]:\n\u001b[1;32m--> 121\u001b[1;33m         return self._pipe_future(format,\n\u001b[0m\u001b[0;32m    122\u001b[0m                                  \u001b[0mrenderer\u001b[0m\u001b[1;33m=\u001b[0m\u001b[0mrenderer\u001b[0m\u001b[1;33m,\u001b[0m\u001b[1;33m\u001b[0m\u001b[1;33m\u001b[0m\u001b[0m\n\u001b[0;32m    123\u001b[0m                                  \u001b[0mformatter\u001b[0m\u001b[1;33m=\u001b[0m\u001b[0mformatter\u001b[0m\u001b[1;33m,\u001b[0m\u001b[1;33m\u001b[0m\u001b[1;33m\u001b[0m\u001b[0m\n",
      "\u001b[1;32mc:\\Users\\Alexia\\anaconda3\\lib\\site-packages\\graphviz\\piping.py\u001b[0m in \u001b[0;36m_pipe_future\u001b[1;34m(self, format, renderer, formatter, neato_no_op, quiet, engine, encoding)\u001b[0m\n\u001b[0;32m    147\u001b[0m             \u001b[1;32mif\u001b[0m \u001b[0mcodecs\u001b[0m\u001b[1;33m.\u001b[0m\u001b[0mlookup\u001b[0m\u001b[1;33m(\u001b[0m\u001b[0mencoding\u001b[0m\u001b[1;33m)\u001b[0m \u001b[1;32mis\u001b[0m \u001b[0mcodecs\u001b[0m\u001b[1;33m.\u001b[0m\u001b[0mlookup\u001b[0m\u001b[1;33m(\u001b[0m\u001b[0mself\u001b[0m\u001b[1;33m.\u001b[0m\u001b[0mencoding\u001b[0m\u001b[1;33m)\u001b[0m\u001b[1;33m:\u001b[0m\u001b[1;33m\u001b[0m\u001b[1;33m\u001b[0m\u001b[0m\n\u001b[0;32m    148\u001b[0m                 \u001b[1;31m# common case: both stdin and stdout need the same encoding\u001b[0m\u001b[1;33m\u001b[0m\u001b[1;33m\u001b[0m\u001b[1;33m\u001b[0m\u001b[0m\n\u001b[1;32m--> 149\u001b[1;33m                 \u001b[1;32mreturn\u001b[0m \u001b[0mself\u001b[0m\u001b[1;33m.\u001b[0m\u001b[0m_pipe_lines_string\u001b[0m\u001b[1;33m(\u001b[0m\u001b[1;33m*\u001b[0m\u001b[0margs\u001b[0m\u001b[1;33m,\u001b[0m \u001b[0mencoding\u001b[0m\u001b[1;33m=\u001b[0m\u001b[0mencoding\u001b[0m\u001b[1;33m,\u001b[0m \u001b[1;33m**\u001b[0m\u001b[0mkwargs\u001b[0m\u001b[1;33m)\u001b[0m\u001b[1;33m\u001b[0m\u001b[1;33m\u001b[0m\u001b[0m\n\u001b[0m\u001b[0;32m    150\u001b[0m             \u001b[1;32mtry\u001b[0m\u001b[1;33m:\u001b[0m\u001b[1;33m\u001b[0m\u001b[1;33m\u001b[0m\u001b[0m\n\u001b[0;32m    151\u001b[0m                 \u001b[0mraw\u001b[0m \u001b[1;33m=\u001b[0m \u001b[0mself\u001b[0m\u001b[1;33m.\u001b[0m\u001b[0m_pipe_lines\u001b[0m\u001b[1;33m(\u001b[0m\u001b[1;33m*\u001b[0m\u001b[0margs\u001b[0m\u001b[1;33m,\u001b[0m \u001b[0minput_encoding\u001b[0m\u001b[1;33m=\u001b[0m\u001b[0mself\u001b[0m\u001b[1;33m.\u001b[0m\u001b[0mencoding\u001b[0m\u001b[1;33m,\u001b[0m \u001b[1;33m**\u001b[0m\u001b[0mkwargs\u001b[0m\u001b[1;33m)\u001b[0m\u001b[1;33m\u001b[0m\u001b[1;33m\u001b[0m\u001b[0m\n",
      "\u001b[1;32mc:\\Users\\Alexia\\anaconda3\\lib\\site-packages\\graphviz\\backend\\piping.py\u001b[0m in \u001b[0;36mpipe_lines_string\u001b[1;34m(engine, format, input_lines, encoding, renderer, formatter, neato_no_op, quiet)\u001b[0m\n\u001b[0;32m    210\u001b[0m     \u001b[0mkwargs\u001b[0m \u001b[1;33m=\u001b[0m \u001b[1;33m{\u001b[0m\u001b[1;34m'input_lines'\u001b[0m\u001b[1;33m:\u001b[0m \u001b[0minput_lines\u001b[0m\u001b[1;33m,\u001b[0m \u001b[1;34m'encoding'\u001b[0m\u001b[1;33m:\u001b[0m \u001b[0mencoding\u001b[0m\u001b[1;33m}\u001b[0m\u001b[1;33m\u001b[0m\u001b[1;33m\u001b[0m\u001b[0m\n\u001b[0;32m    211\u001b[0m \u001b[1;33m\u001b[0m\u001b[0m\n\u001b[1;32m--> 212\u001b[1;33m     \u001b[0mproc\u001b[0m \u001b[1;33m=\u001b[0m \u001b[0mexecute\u001b[0m\u001b[1;33m.\u001b[0m\u001b[0mrun_check\u001b[0m\u001b[1;33m(\u001b[0m\u001b[0mcmd\u001b[0m\u001b[1;33m,\u001b[0m \u001b[0mcapture_output\u001b[0m\u001b[1;33m=\u001b[0m\u001b[1;32mTrue\u001b[0m\u001b[1;33m,\u001b[0m \u001b[0mquiet\u001b[0m\u001b[1;33m=\u001b[0m\u001b[0mquiet\u001b[0m\u001b[1;33m,\u001b[0m \u001b[1;33m**\u001b[0m\u001b[0mkwargs\u001b[0m\u001b[1;33m)\u001b[0m\u001b[1;33m\u001b[0m\u001b[1;33m\u001b[0m\u001b[0m\n\u001b[0m\u001b[0;32m    213\u001b[0m     \u001b[1;32mreturn\u001b[0m \u001b[0mproc\u001b[0m\u001b[1;33m.\u001b[0m\u001b[0mstdout\u001b[0m\u001b[1;33m\u001b[0m\u001b[1;33m\u001b[0m\u001b[0m\n",
      "\u001b[1;32mc:\\Users\\Alexia\\anaconda3\\lib\\site-packages\\graphviz\\backend\\execute.py\u001b[0m in \u001b[0;36mrun_check\u001b[1;34m(cmd, input_lines, encoding, quiet, **kwargs)\u001b[0m\n\u001b[0;32m     82\u001b[0m     \u001b[1;32mexcept\u001b[0m \u001b[0mOSError\u001b[0m \u001b[1;32mas\u001b[0m \u001b[0me\u001b[0m\u001b[1;33m:\u001b[0m\u001b[1;33m\u001b[0m\u001b[1;33m\u001b[0m\u001b[0m\n\u001b[0;32m     83\u001b[0m         \u001b[1;32mif\u001b[0m \u001b[0me\u001b[0m\u001b[1;33m.\u001b[0m\u001b[0merrno\u001b[0m \u001b[1;33m==\u001b[0m \u001b[0merrno\u001b[0m\u001b[1;33m.\u001b[0m\u001b[0mENOENT\u001b[0m\u001b[1;33m:\u001b[0m\u001b[1;33m\u001b[0m\u001b[1;33m\u001b[0m\u001b[0m\n\u001b[1;32m---> 84\u001b[1;33m             \u001b[1;32mraise\u001b[0m \u001b[0mExecutableNotFound\u001b[0m\u001b[1;33m(\u001b[0m\u001b[0mcmd\u001b[0m\u001b[1;33m)\u001b[0m \u001b[1;32mfrom\u001b[0m \u001b[0me\u001b[0m\u001b[1;33m\u001b[0m\u001b[1;33m\u001b[0m\u001b[0m\n\u001b[0m\u001b[0;32m     85\u001b[0m         \u001b[1;32mraise\u001b[0m\u001b[1;33m\u001b[0m\u001b[1;33m\u001b[0m\u001b[0m\n\u001b[0;32m     86\u001b[0m \u001b[1;33m\u001b[0m\u001b[0m\n",
      "\u001b[1;31mExecutableNotFound\u001b[0m: failed to execute WindowsPath('dot'), make sure the Graphviz executables are on your systems' PATH"
     ]
    },
    {
     "data": {
      "text/plain": [
       "<graphviz.sources.Source at 0x225bed23b20>"
      ]
     },
     "execution_count": 141,
     "metadata": {},
     "output_type": "execute_result"
    }
   ],
   "source": [
    "# a árvore\n",
    "from sklearn import tree\n",
    "import graphviz\n",
    "\n",
    "gclassif = tree.export_graphviz(classificador, out_file = None,\n",
    "                                feature_names = X_train.columns.to_list(),\n",
    "                                class_names = None,\n",
    "                                filled = True, rounded = True,\n",
    "                                special_characters = True)\n",
    "\n",
    "garv = graphviz.Source(gclassif)\n",
    "garv\n"
   ]
  },
  {
   "cell_type": "markdown",
   "id": "fb085ebb",
   "metadata": {},
   "source": [
    "## Dtreeviz \n",
    "\n",
    "A biblioteca Scikit-learn vem inerentemente com o recurso de plotagem para árvores de decisão. No entanto, existem algumas inconsistências com a opção padrão. Este artigo examinará uma alternativa chamada dtreeviz que renderiza visualizações mais intuitivas e com melhor aparência, oferecendo maiores opções de interpretabilidade.\n",
    "\n",
    "O algoritmo dos modelos de árvore de decisão funciona particionando repetidamente os dados em vários subespaços para que os resultados em cada subespaço final sejam o mais homogêneos possível. Essa abordagem é tecnicamente chamada de particionamento recursivo . O algoritmo tenta dividir os dados em subconjuntos para que cada subgrupo seja o mais puro ou homogêneo possível."
   ]
  },
  {
   "cell_type": "code",
   "execution_count": null,
   "id": "919707bc",
   "metadata": {},
   "outputs": [],
   "source": [
    "import sys\n",
    "\n",
    "if 'google.colab' in sys.modules:\n",
    "  !pip install -q dtreeviz\n",
    "\n",
    "import sys\n",
    "import os\n",
    "# add library module to PYTHONPATH\n",
    "sys.path.append(f\"{os.getcwd()}/../\")\n",
    "\n",
    "from sklearn.datasets import *\n",
    "from dtreeviz.trees import *\n",
    "from IPython.display import Image, display_svg, SVG"
   ]
  },
  {
   "cell_type": "code",
   "execution_count": null,
   "id": "badff5c4",
   "metadata": {},
   "outputs": [
    {
     "data": {
      "image/svg+xml": "<svg xmlns=\"http://www.w3.org/2000/svg\" xmlns:dc=\"http://purl.org/dc/elements/1.1/\" xmlns:ns2=\"http://creativecommons.org/ns#\" xmlns:rdf=\"http://www.w3.org/1999/02/22-rdf-syntax-ns#\" xmlns:xlink=\"http://www.w3.org/1999/xlink\" width=\"1257.0\" height=\"619.5\" viewBox=\"0.0 0.0 1257.0 619.5\">\n<g id=\"graph0\" class=\"graph\" transform=\"scale(1.5 1.5) rotate(0) translate(4 409)\">\n<title>G</title>\n<polygon fill=\"white\" stroke=\"transparent\" points=\"-4,4 -4,-409 834,-409 834,4 -4,4\" />\n<text text-anchor=\"middle\" x=\"415\" y=\"-389.8\" font-family=\"Arial\" font-size=\"14.00\" fill=\"purple\">Regress&#227;o do conjunto de dados do c&#226;ncer de pulm&#227;o</text>\n\n<g id=\"node1\" class=\"node\">\n<title>node2</title>\n<svg height=\"67px\" version=\"1.1\" viewBox=\"0 0 165.58375 89.512875\" width=\"124px\" preserveAspectRatio=\"xMinYMin meet\" x=\"210.5\" y=\"-147.5\">\n <metadata>\n  <rdf:RDF>\n   <ns2:Work>\n    <dc:type rdf:resource=\"http://purl.org/dc/dcmitype/StillImage\" />\n    <dc:date>2022-06-06T19:38:44.020655</dc:date>\n    <dc:format>image/svg+xml</dc:format>\n    <dc:creator>\n     <ns2:Agent>\n      <dc:title>Matplotlib v3.4.3, https://matplotlib.org/</dc:title>\n     </ns2:Agent>\n    </dc:creator>\n   </ns2:Work>\n  </rdf:RDF>\n </metadata>\n <defs>\n  <style type=\"text/css\">*{stroke-linecap:butt;stroke-linejoin:round;}</style>\n </defs>\n <g id=\"figure_1\">\n  <g id=\"patch_1\">\n   <path d=\"M 0 89.512875  L 165.58375 89.512875  L 165.58375 0  L 0 0  z \" style=\"fill:none;\" />\n  </g>\n  <g id=\"axes_1\">\n   <g id=\"patch_2\">\n    <path d=\"M 19.7225 59.796  L 159.2225 59.796  L 159.2225 0  L 19.7225 0  z \" style=\"fill:#ffffff;\" />\n   </g>\n   <g id=\"PathCollection_1\">\n    <defs>\n     <path d=\"M 0 1.118034  C 0.296506 1.118034 0.580908 1.000231 0.790569 0.790569  C 1.000231 0.580908 1.118034 0.296506 1.118034 0  C 1.118034 -0.296506 1.000231 -0.580908 0.790569 -0.790569  C 0.580908 -1.000231 0.296506 -1.118034 0 -1.118034  C -0.296506 -1.118034 -0.580908 -1.000231 -0.790569 -0.790569  C -1.000231 -0.580908 -1.118034 -0.296506 -1.118034 0  C -1.118034 0.296506 -1.000231 0.580908 -0.790569 0.790569  C -0.580908 1.000231 -0.296506 1.118034 0 1.118034  z \" id=\"m48cdd05a62\" style=\"stroke:#4575b4;stroke-opacity:0.7;stroke-width:0.3;\" />\n    </defs>\n    <g clip-path=\"url(#pe0b005795c)\">\n     <use style=\"fill:#4575b4;fill-opacity:0.7;stroke:#4575b4;stroke-opacity:0.7;stroke-width:0.3;\" x=\"159.2225\" xlink:href=\"#m48cdd05a62\" y=\"61.537631\" />\n     <use style=\"fill:#4575b4;fill-opacity:0.7;stroke:#4575b4;stroke-opacity:0.7;stroke-width:0.3;\" x=\"19.7225\" xlink:href=\"#m48cdd05a62\" y=\"61.537631\" />\n     <use style=\"fill:#4575b4;fill-opacity:0.7;stroke:#4575b4;stroke-opacity:0.7;stroke-width:0.3;\" x=\"19.7225\" xlink:href=\"#m48cdd05a62\" y=\"61.537631\" />\n     <use style=\"fill:#4575b4;fill-opacity:0.7;stroke:#4575b4;stroke-opacity:0.7;stroke-width:0.3;\" x=\"19.7225\" xlink:href=\"#m48cdd05a62\" y=\"3.483262\" />\n     <use style=\"fill:#4575b4;fill-opacity:0.7;stroke:#4575b4;stroke-opacity:0.7;stroke-width:0.3;\" x=\"19.7225\" xlink:href=\"#m48cdd05a62\" y=\"61.537631\" />\n     <use style=\"fill:#4575b4;fill-opacity:0.7;stroke:#4575b4;stroke-opacity:0.7;stroke-width:0.3;\" x=\"19.7225\" xlink:href=\"#m48cdd05a62\" y=\"61.537631\" />\n     <use style=\"fill:#4575b4;fill-opacity:0.7;stroke:#4575b4;stroke-opacity:0.7;stroke-width:0.3;\" x=\"159.2225\" xlink:href=\"#m48cdd05a62\" y=\"3.483262\" />\n     <use style=\"fill:#4575b4;fill-opacity:0.7;stroke:#4575b4;stroke-opacity:0.7;stroke-width:0.3;\" x=\"19.7225\" xlink:href=\"#m48cdd05a62\" y=\"61.537631\" />\n     <use style=\"fill:#4575b4;fill-opacity:0.7;stroke:#4575b4;stroke-opacity:0.7;stroke-width:0.3;\" x=\"19.7225\" xlink:href=\"#m48cdd05a62\" y=\"3.483262\" />\n     <use style=\"fill:#4575b4;fill-opacity:0.7;stroke:#4575b4;stroke-opacity:0.7;stroke-width:0.3;\" x=\"19.7225\" xlink:href=\"#m48cdd05a62\" y=\"3.483262\" />\n     <use style=\"fill:#4575b4;fill-opacity:0.7;stroke:#4575b4;stroke-opacity:0.7;stroke-width:0.3;\" x=\"19.7225\" xlink:href=\"#m48cdd05a62\" y=\"3.483262\" />\n     <use style=\"fill:#4575b4;fill-opacity:0.7;stroke:#4575b4;stroke-opacity:0.7;stroke-width:0.3;\" x=\"19.7225\" xlink:href=\"#m48cdd05a62\" y=\"61.537631\" />\n     <use style=\"fill:#4575b4;fill-opacity:0.7;stroke:#4575b4;stroke-opacity:0.7;stroke-width:0.3;\" x=\"159.2225\" xlink:href=\"#m48cdd05a62\" y=\"3.483262\" />\n     <use style=\"fill:#4575b4;fill-opacity:0.7;stroke:#4575b4;stroke-opacity:0.7;stroke-width:0.3;\" x=\"19.7225\" xlink:href=\"#m48cdd05a62\" y=\"3.483262\" />\n     <use style=\"fill:#4575b4;fill-opacity:0.7;stroke:#4575b4;stroke-opacity:0.7;stroke-width:0.3;\" x=\"19.7225\" xlink:href=\"#m48cdd05a62\" y=\"3.483262\" />\n     <use style=\"fill:#4575b4;fill-opacity:0.7;stroke:#4575b4;stroke-opacity:0.7;stroke-width:0.3;\" x=\"19.7225\" xlink:href=\"#m48cdd05a62\" y=\"61.537631\" />\n     <use style=\"fill:#4575b4;fill-opacity:0.7;stroke:#4575b4;stroke-opacity:0.7;stroke-width:0.3;\" x=\"159.2225\" xlink:href=\"#m48cdd05a62\" y=\"3.483262\" />\n     <use style=\"fill:#4575b4;fill-opacity:0.7;stroke:#4575b4;stroke-opacity:0.7;stroke-width:0.3;\" x=\"159.2225\" xlink:href=\"#m48cdd05a62\" y=\"3.483262\" />\n     <use style=\"fill:#4575b4;fill-opacity:0.7;stroke:#4575b4;stroke-opacity:0.7;stroke-width:0.3;\" x=\"19.7225\" xlink:href=\"#m48cdd05a62\" y=\"3.483262\" />\n     <use style=\"fill:#4575b4;fill-opacity:0.7;stroke:#4575b4;stroke-opacity:0.7;stroke-width:0.3;\" x=\"159.2225\" xlink:href=\"#m48cdd05a62\" y=\"3.483262\" />\n     <use style=\"fill:#4575b4;fill-opacity:0.7;stroke:#4575b4;stroke-opacity:0.7;stroke-width:0.3;\" x=\"19.7225\" xlink:href=\"#m48cdd05a62\" y=\"61.537631\" />\n     <use style=\"fill:#4575b4;fill-opacity:0.7;stroke:#4575b4;stroke-opacity:0.7;stroke-width:0.3;\" x=\"19.7225\" xlink:href=\"#m48cdd05a62\" y=\"61.537631\" />\n     <use style=\"fill:#4575b4;fill-opacity:0.7;stroke:#4575b4;stroke-opacity:0.7;stroke-width:0.3;\" x=\"159.2225\" xlink:href=\"#m48cdd05a62\" y=\"3.483262\" />\n     <use style=\"fill:#4575b4;fill-opacity:0.7;stroke:#4575b4;stroke-opacity:0.7;stroke-width:0.3;\" x=\"19.7225\" xlink:href=\"#m48cdd05a62\" y=\"61.537631\" />\n     <use style=\"fill:#4575b4;fill-opacity:0.7;stroke:#4575b4;stroke-opacity:0.7;stroke-width:0.3;\" x=\"19.7225\" xlink:href=\"#m48cdd05a62\" y=\"61.537631\" />\n     <use style=\"fill:#4575b4;fill-opacity:0.7;stroke:#4575b4;stroke-opacity:0.7;stroke-width:0.3;\" x=\"19.7225\" xlink:href=\"#m48cdd05a62\" y=\"61.537631\" />\n     <use style=\"fill:#4575b4;fill-opacity:0.7;stroke:#4575b4;stroke-opacity:0.7;stroke-width:0.3;\" x=\"19.7225\" xlink:href=\"#m48cdd05a62\" y=\"61.537631\" />\n     <use style=\"fill:#4575b4;fill-opacity:0.7;stroke:#4575b4;stroke-opacity:0.7;stroke-width:0.3;\" x=\"19.7225\" xlink:href=\"#m48cdd05a62\" y=\"61.537631\" />\n     <use style=\"fill:#4575b4;fill-opacity:0.7;stroke:#4575b4;stroke-opacity:0.7;stroke-width:0.3;\" x=\"19.7225\" xlink:href=\"#m48cdd05a62\" y=\"61.537631\" />\n     <use style=\"fill:#4575b4;fill-opacity:0.7;stroke:#4575b4;stroke-opacity:0.7;stroke-width:0.3;\" x=\"19.7225\" xlink:href=\"#m48cdd05a62\" y=\"3.483262\" />\n     <use style=\"fill:#4575b4;fill-opacity:0.7;stroke:#4575b4;stroke-opacity:0.7;stroke-width:0.3;\" x=\"19.7225\" xlink:href=\"#m48cdd05a62\" y=\"3.483262\" />\n     <use style=\"fill:#4575b4;fill-opacity:0.7;stroke:#4575b4;stroke-opacity:0.7;stroke-width:0.3;\" x=\"19.7225\" xlink:href=\"#m48cdd05a62\" y=\"3.483262\" />\n     <use style=\"fill:#4575b4;fill-opacity:0.7;stroke:#4575b4;stroke-opacity:0.7;stroke-width:0.3;\" x=\"159.2225\" xlink:href=\"#m48cdd05a62\" y=\"3.483262\" />\n     <use style=\"fill:#4575b4;fill-opacity:0.7;stroke:#4575b4;stroke-opacity:0.7;stroke-width:0.3;\" x=\"19.7225\" xlink:href=\"#m48cdd05a62\" y=\"3.483262\" />\n     <use style=\"fill:#4575b4;fill-opacity:0.7;stroke:#4575b4;stroke-opacity:0.7;stroke-width:0.3;\" x=\"159.2225\" xlink:href=\"#m48cdd05a62\" y=\"3.483262\" />\n     <use style=\"fill:#4575b4;fill-opacity:0.7;stroke:#4575b4;stroke-opacity:0.7;stroke-width:0.3;\" x=\"19.7225\" xlink:href=\"#m48cdd05a62\" y=\"3.483262\" />\n     <use style=\"fill:#4575b4;fill-opacity:0.7;stroke:#4575b4;stroke-opacity:0.7;stroke-width:0.3;\" x=\"159.2225\" xlink:href=\"#m48cdd05a62\" y=\"61.537631\" />\n     <use style=\"fill:#4575b4;fill-opacity:0.7;stroke:#4575b4;stroke-opacity:0.7;stroke-width:0.3;\" x=\"159.2225\" xlink:href=\"#m48cdd05a62\" y=\"3.483262\" />\n     <use style=\"fill:#4575b4;fill-opacity:0.7;stroke:#4575b4;stroke-opacity:0.7;stroke-width:0.3;\" x=\"19.7225\" xlink:href=\"#m48cdd05a62\" y=\"61.537631\" />\n     <use style=\"fill:#4575b4;fill-opacity:0.7;stroke:#4575b4;stroke-opacity:0.7;stroke-width:0.3;\" x=\"19.7225\" xlink:href=\"#m48cdd05a62\" y=\"3.483262\" />\n     <use style=\"fill:#4575b4;fill-opacity:0.7;stroke:#4575b4;stroke-opacity:0.7;stroke-width:0.3;\" x=\"159.2225\" xlink:href=\"#m48cdd05a62\" y=\"3.483262\" />\n     <use style=\"fill:#4575b4;fill-opacity:0.7;stroke:#4575b4;stroke-opacity:0.7;stroke-width:0.3;\" x=\"159.2225\" xlink:href=\"#m48cdd05a62\" y=\"3.483262\" />\n     <use style=\"fill:#4575b4;fill-opacity:0.7;stroke:#4575b4;stroke-opacity:0.7;stroke-width:0.3;\" x=\"159.2225\" xlink:href=\"#m48cdd05a62\" y=\"3.483262\" />\n     <use style=\"fill:#4575b4;fill-opacity:0.7;stroke:#4575b4;stroke-opacity:0.7;stroke-width:0.3;\" x=\"19.7225\" xlink:href=\"#m48cdd05a62\" y=\"3.483262\" />\n     <use style=\"fill:#4575b4;fill-opacity:0.7;stroke:#4575b4;stroke-opacity:0.7;stroke-width:0.3;\" x=\"19.7225\" xlink:href=\"#m48cdd05a62\" y=\"3.483262\" />\n     <use style=\"fill:#4575b4;fill-opacity:0.7;stroke:#4575b4;stroke-opacity:0.7;stroke-width:0.3;\" x=\"19.7225\" xlink:href=\"#m48cdd05a62\" y=\"61.537631\" />\n     <use style=\"fill:#4575b4;fill-opacity:0.7;stroke:#4575b4;stroke-opacity:0.7;stroke-width:0.3;\" x=\"19.7225\" xlink:href=\"#m48cdd05a62\" y=\"61.537631\" />\n     <use style=\"fill:#4575b4;fill-opacity:0.7;stroke:#4575b4;stroke-opacity:0.7;stroke-width:0.3;\" x=\"19.7225\" xlink:href=\"#m48cdd05a62\" y=\"61.537631\" />\n     <use style=\"fill:#4575b4;fill-opacity:0.7;stroke:#4575b4;stroke-opacity:0.7;stroke-width:0.3;\" x=\"159.2225\" xlink:href=\"#m48cdd05a62\" y=\"3.483262\" />\n     <use style=\"fill:#4575b4;fill-opacity:0.7;stroke:#4575b4;stroke-opacity:0.7;stroke-width:0.3;\" x=\"19.7225\" xlink:href=\"#m48cdd05a62\" y=\"3.483262\" />\n     <use style=\"fill:#4575b4;fill-opacity:0.7;stroke:#4575b4;stroke-opacity:0.7;stroke-width:0.3;\" x=\"19.7225\" xlink:href=\"#m48cdd05a62\" y=\"61.537631\" />\n     <use style=\"fill:#4575b4;fill-opacity:0.7;stroke:#4575b4;stroke-opacity:0.7;stroke-width:0.3;\" x=\"19.7225\" xlink:href=\"#m48cdd05a62\" y=\"3.483262\" />\n    </g>\n   </g>\n   <g id=\"patch_3\">\n    <path d=\"M 89.4725 59.796  L 86.9615 65.7756  L 91.9835 65.7756  z \" style=\"fill:#444443;\" />\n   </g>\n   <g id=\"matplotlib.axis_1\">\n    <g id=\"xtick_1\">\n     <g id=\"line2d_1\">\n      <defs>\n       <path d=\"M 0 0  L 0 3.5  \" id=\"m45a6e35a6d\" style=\"stroke:#444443;stroke-width:0.3;\" />\n      </defs>\n      <g>\n       <use style=\"fill:#444443;stroke:#444443;stroke-width:0.3;\" x=\"19.7225\" xlink:href=\"#m45a6e35a6d\" y=\"59.796\" />\n      </g>\n     </g>\n     <g id=\"text_1\">\n      \n      <g style=\"fill:#444443;\" transform=\"translate(13.36125 72.87475)scale(0.08 -0.08)\">\n       <defs>\n        <path d=\"M 794 531  L 1825 531  L 1825 4091  L 703 3866  L 703 4441  L 1819 4666  L 2450 4666  L 2450 531  L 3481 531  L 3481 0  L 794 0  L 794 531  z \" id=\"DejaVuSans-31\" transform=\"scale(0.015625)\" />\n        <path d=\"M 684 794  L 1344 794  L 1344 0  L 684 0  L 684 794  z \" id=\"DejaVuSans-2e\" transform=\"scale(0.015625)\" />\n        <path d=\"M 2034 4250  Q 1547 4250 1301 3770  Q 1056 3291 1056 2328  Q 1056 1369 1301 889  Q 1547 409 2034 409  Q 2525 409 2770 889  Q 3016 1369 3016 2328  Q 3016 3291 2770 3770  Q 2525 4250 2034 4250  z M 2034 4750  Q 2819 4750 3233 4129  Q 3647 3509 3647 2328  Q 3647 1150 3233 529  Q 2819 -91 2034 -91  Q 1250 -91 836 529  Q 422 1150 422 2328  Q 422 3509 836 4129  Q 1250 4750 2034 4750  z \" id=\"DejaVuSans-30\" transform=\"scale(0.015625)\" />\n       </defs>\n       <use xlink:href=\"#DejaVuSans-31\" />\n       <use x=\"63.623047\" xlink:href=\"#DejaVuSans-2e\" />\n       <use x=\"95.410156\" xlink:href=\"#DejaVuSans-30\" />\n      </g>\n     </g>\n    </g>\n    <g id=\"xtick_2\">\n     <g id=\"line2d_2\">\n      <g>\n       <use style=\"fill:#444443;stroke:#444443;stroke-width:0.3;\" x=\"159.2225\" xlink:href=\"#m45a6e35a6d\" y=\"59.796\" />\n      </g>\n     </g>\n     <g id=\"text_2\">\n      \n      <g style=\"fill:#444443;\" transform=\"translate(152.86125 72.87475)scale(0.08 -0.08)\">\n       <defs>\n        <path d=\"M 1228 531  L 3431 531  L 3431 0  L 469 0  L 469 531  Q 828 903 1448 1529  Q 2069 2156 2228 2338  Q 2531 2678 2651 2914  Q 2772 3150 2772 3378  Q 2772 3750 2511 3984  Q 2250 4219 1831 4219  Q 1534 4219 1204 4116  Q 875 4013 500 3803  L 500 4441  Q 881 4594 1212 4672  Q 1544 4750 1819 4750  Q 2544 4750 2975 4387  Q 3406 4025 3406 3419  Q 3406 3131 3298 2873  Q 3191 2616 2906 2266  Q 2828 2175 2409 1742  Q 1991 1309 1228 531  z \" id=\"DejaVuSans-32\" transform=\"scale(0.015625)\" />\n       </defs>\n       <use xlink:href=\"#DejaVuSans-32\" />\n       <use x=\"63.623047\" xlink:href=\"#DejaVuSans-2e\" />\n       <use x=\"95.410156\" xlink:href=\"#DejaVuSans-30\" />\n      </g>\n     </g>\n    </g>\n    <g id=\"xtick_3\">\n     <g id=\"line2d_3\">\n      <g>\n       <use style=\"fill:#444443;stroke:#444443;stroke-width:0.3;\" x=\"89.4725\" xlink:href=\"#m45a6e35a6d\" y=\"59.796\" />\n      </g>\n     </g>\n     <g id=\"text_3\">\n      \n      <g style=\"fill:#444443;\" transform=\"translate(83.11125 72.87475)scale(0.08 -0.08)\">\n       <defs>\n        <path d=\"M 691 4666  L 3169 4666  L 3169 4134  L 1269 4134  L 1269 2991  Q 1406 3038 1543 3061  Q 1681 3084 1819 3084  Q 2600 3084 3056 2656  Q 3513 2228 3513 1497  Q 3513 744 3044 326  Q 2575 -91 1722 -91  Q 1428 -91 1123 -41  Q 819 9 494 109  L 494 744  Q 775 591 1075 516  Q 1375 441 1709 441  Q 2250 441 2565 725  Q 2881 1009 2881 1497  Q 2881 1984 2565 2268  Q 2250 2553 1709 2553  Q 1456 2553 1204 2497  Q 953 2441 691 2322  L 691 4666  z \" id=\"DejaVuSans-35\" transform=\"scale(0.015625)\" />\n       </defs>\n       <use xlink:href=\"#DejaVuSans-31\" />\n       <use x=\"63.623047\" xlink:href=\"#DejaVuSans-2e\" />\n       <use x=\"95.410156\" xlink:href=\"#DejaVuSans-35\" />\n      </g>\n     </g>\n    </g>\n    <g id=\"text_4\">\n     \n     <g style=\"fill:#444443;\" transform=\"translate(22.022188 87.127875)scale(0.12 -0.12)\">\n      <defs>\n       <path d=\"M -9 0  L 1750 4581  L 2403 4581  L 4278 0  L 3588 0  L 3053 1388  L 1138 1388  L 634 0  L -9 0  z M 1313 1881  L 2866 1881  L 2388 3150  Q 2169 3728 2063 4100  Q 1975 3659 1816 3225  L 1313 1881  z \" id=\"ArialMT-41\" transform=\"scale(0.015625)\" />\n       <path d=\"M 469 0  L 469 4581  L 1075 4581  L 1075 541  L 3331 541  L 3331 0  L 469 0  z \" id=\"ArialMT-4c\" transform=\"scale(0.015625)\" />\n       <path d=\"M 3763 1606  L 4369 1453  Q 4178 706 3683 314  Q 3188 -78 2472 -78  Q 1731 -78 1267 223  Q 803 525 561 1097  Q 319 1669 319 2325  Q 319 3041 592 3573  Q 866 4106 1370 4382  Q 1875 4659 2481 4659  Q 3169 4659 3637 4309  Q 4106 3959 4291 3325  L 3694 3184  Q 3534 3684 3231 3912  Q 2928 4141 2469 4141  Q 1941 4141 1586 3887  Q 1231 3634 1087 3207  Q 944 2781 944 2328  Q 944 1744 1114 1308  Q 1284 872 1643 656  Q 2003 441 2422 441  Q 2931 441 3284 734  Q 3638 1028 3763 1606  z \" id=\"ArialMT-43\" transform=\"scale(0.015625)\" />\n       <path d=\"M 309 2231  Q 309 3372 921 4017  Q 1534 4663 2503 4663  Q 3138 4663 3647 4359  Q 4156 4056 4423 3514  Q 4691 2972 4691 2284  Q 4691 1588 4409 1038  Q 4128 488 3612 205  Q 3097 -78 2500 -78  Q 1853 -78 1343 234  Q 834 547 571 1087  Q 309 1628 309 2231  z M 934 2222  Q 934 1394 1379 917  Q 1825 441 2497 441  Q 3181 441 3623 922  Q 4066 1403 4066 2288  Q 4066 2847 3877 3264  Q 3688 3681 3323 3911  Q 2959 4141 2506 4141  Q 1863 4141 1398 3698  Q 934 3256 934 2222  z \" id=\"ArialMT-4f\" transform=\"scale(0.015625)\" />\n       <path d=\"M 513 0  L 513 4581  L 1119 4581  L 1119 2700  L 3500 2700  L 3500 4581  L 4106 4581  L 4106 0  L 3500 0  L 3500 2159  L 1119 2159  L 1119 0  L 513 0  z \" id=\"ArialMT-48\" transform=\"scale(0.015625)\" />\n       <path id=\"ArialMT-20\" transform=\"scale(0.015625)\" />\n       <path d=\"M 488 0  L 488 4581  L 1109 4581  L 3516 984  L 3516 4581  L 4097 4581  L 4097 0  L 3475 0  L 1069 3600  L 1069 0  L 488 0  z \" id=\"ArialMT-4e\" transform=\"scale(0.015625)\" />\n       <path d=\"M 288 1472  L 859 1522  Q 900 1178 1048 958  Q 1197 738 1509 602  Q 1822 466 2213 466  Q 2559 466 2825 569  Q 3091 672 3220 851  Q 3350 1031 3350 1244  Q 3350 1459 3225 1620  Q 3100 1781 2813 1891  Q 2628 1963 1997 2114  Q 1366 2266 1113 2400  Q 784 2572 623 2826  Q 463 3081 463 3397  Q 463 3744 659 4045  Q 856 4347 1234 4503  Q 1613 4659 2075 4659  Q 2584 4659 2973 4495  Q 3363 4331 3572 4012  Q 3781 3694 3797 3291  L 3216 3247  Q 3169 3681 2898 3903  Q 2628 4125 2100 4125  Q 1550 4125 1298 3923  Q 1047 3722 1047 3438  Q 1047 3191 1225 3031  Q 1400 2872 2139 2705  Q 2878 2538 3153 2413  Q 3553 2228 3743 1945  Q 3934 1663 3934 1294  Q 3934 928 3725 604  Q 3516 281 3123 101  Q 2731 -78 2241 -78  Q 1619 -78 1198 103  Q 778 284 539 648  Q 300 1013 288 1472  z \" id=\"ArialMT-53\" transform=\"scale(0.015625)\" />\n       <path d=\"M 3500 4581  L 4106 4581  L 4106 1934  Q 4106 1244 3950 837  Q 3794 431 3386 176  Q 2978 -78 2316 -78  Q 1672 -78 1262 144  Q 853 366 678 786  Q 503 1206 503 1934  L 503 4581  L 1109 4581  L 1109 1938  Q 1109 1341 1220 1058  Q 1331 775 1601 622  Q 1872 469 2263 469  Q 2931 469 3215 772  Q 3500 1075 3500 1938  L 3500 4581  z \" id=\"ArialMT-55\" transform=\"scale(0.015625)\" />\n       <path d=\"M 475 0  L 475 4581  L 1388 4581  L 2472 1338  Q 2622 884 2691 659  Q 2769 909 2934 1394  L 4031 4581  L 4847 4581  L 4847 0  L 4263 0  L 4263 3834  L 2931 0  L 2384 0  L 1059 3900  L 1059 0  L 475 0  z \" id=\"ArialMT-4d\" transform=\"scale(0.015625)\" />\n       <path d=\"M 597 0  L 597 4581  L 1203 4581  L 1203 0  L 597 0  z \" id=\"ArialMT-49\" transform=\"scale(0.015625)\" />\n       <path d=\"M 2638 1797  L 2638 2334  L 4578 2338  L 4578 638  Q 4131 281 3656 101  Q 3181 -78 2681 -78  Q 2006 -78 1454 211  Q 903 500 622 1047  Q 341 1594 341 2269  Q 341 2938 620 3517  Q 900 4097 1425 4378  Q 1950 4659 2634 4659  Q 3131 4659 3532 4498  Q 3934 4338 4162 4050  Q 4391 3763 4509 3300  L 3963 3150  Q 3859 3500 3706 3700  Q 3553 3900 3268 4020  Q 2984 4141 2638 4141  Q 2222 4141 1919 4014  Q 1616 3888 1430 3681  Q 1244 3475 1141 3228  Q 966 2803 966 2306  Q 966 1694 1177 1281  Q 1388 869 1791 669  Q 2194 469 2647 469  Q 3041 469 3416 620  Q 3791 772 3984 944  L 3984 1797  L 2638 1797  z \" id=\"ArialMT-47\" transform=\"scale(0.015625)\" />\n      </defs>\n      <use xlink:href=\"#ArialMT-41\" />\n      <use x=\"66.699219\" xlink:href=\"#ArialMT-4c\" />\n      <use x=\"122.314453\" xlink:href=\"#ArialMT-43\" />\n      <use x=\"194.53125\" xlink:href=\"#ArialMT-4f\" />\n      <use x=\"272.314453\" xlink:href=\"#ArialMT-48\" />\n      <use x=\"344.53125\" xlink:href=\"#ArialMT-4f\" />\n      <use x=\"422.314453\" xlink:href=\"#ArialMT-4c\" />\n      <use x=\"474.179688\" xlink:href=\"#ArialMT-20\" />\n      <use x=\"501.962891\" xlink:href=\"#ArialMT-43\" />\n      <use x=\"574.179688\" xlink:href=\"#ArialMT-4f\" />\n      <use x=\"651.962891\" xlink:href=\"#ArialMT-4e\" />\n      <use x=\"724.179688\" xlink:href=\"#ArialMT-53\" />\n      <use x=\"790.878906\" xlink:href=\"#ArialMT-55\" />\n      <use x=\"863.095703\" xlink:href=\"#ArialMT-4d\" />\n      <use x=\"946.396484\" xlink:href=\"#ArialMT-49\" />\n      <use x=\"974.179688\" xlink:href=\"#ArialMT-4e\" />\n      <use x=\"1046.396484\" xlink:href=\"#ArialMT-47\" />\n     </g>\n    </g>\n   </g>\n   <g id=\"matplotlib.axis_2\">\n    <g id=\"ytick_1\">\n     <g id=\"line2d_4\">\n      <defs>\n       <path d=\"M 0 0  L -3.5 0  \" id=\"m7ce18c8e9d\" style=\"stroke:#444443;stroke-width:0.3;\" />\n      </defs>\n      <g>\n       <use style=\"fill:#444443;stroke:#444443;stroke-width:0.3;\" x=\"19.7225\" xlink:href=\"#m7ce18c8e9d\" y=\"32.510447\" />\n      </g>\n     </g>\n     <g id=\"text_5\">\n      \n      <g style=\"fill:#444443;\" transform=\"translate(0 35.549822)scale(0.08 -0.08)\">\n       <use xlink:href=\"#DejaVuSans-31\" />\n       <use x=\"63.623047\" xlink:href=\"#DejaVuSans-2e\" />\n       <use x=\"95.410156\" xlink:href=\"#DejaVuSans-35\" />\n      </g>\n     </g>\n    </g>\n    <g id=\"ytick_2\">\n     <g id=\"line2d_5\">\n      <g>\n       <use style=\"fill:#444443;stroke:#444443;stroke-width:0.3;\" x=\"19.7225\" xlink:href=\"#m7ce18c8e9d\" y=\"3.483262\" />\n      </g>\n     </g>\n     <g id=\"text_6\">\n      \n      <g style=\"fill:#444443;\" transform=\"translate(0 6.522637)scale(0.08 -0.08)\">\n       <use xlink:href=\"#DejaVuSans-32\" />\n       <use x=\"63.623047\" xlink:href=\"#DejaVuSans-2e\" />\n       <use x=\"95.410156\" xlink:href=\"#DejaVuSans-30\" />\n      </g>\n     </g>\n    </g>\n   </g>\n   <g id=\"line2d_6\">\n    <path clip-path=\"url(#pe0b005795c)\" d=\"M 19.7225 34.864002  L 89.4725 34.864002  \" style=\"fill:none;stroke:#444443;stroke-dasharray:3.7,1.6;stroke-dashoffset:0;\" />\n   </g>\n   <g id=\"line2d_7\">\n    <path clip-path=\"url(#pe0b005795c)\" d=\"M 89.4725 59.796  L 89.4725 0  \" style=\"fill:none;stroke:#444443;stroke-dasharray:3.7,1.6;stroke-dashoffset:0;\" />\n   </g>\n   <g id=\"line2d_8\">\n    <path clip-path=\"url(#pe0b005795c)\" d=\"M 89.4725 11.223845  L 159.2225 11.223845  \" style=\"fill:none;stroke:#444443;stroke-dasharray:3.7,1.6;stroke-dashoffset:0;\" />\n   </g>\n   <g id=\"patch_4\">\n    <path d=\"M 19.7225 59.796  L 19.7225 0  \" style=\"fill:none;stroke:#000000;stroke-linecap:square;stroke-linejoin:miter;stroke-width:0.3;\" />\n   </g>\n   <g id=\"patch_5\">\n    <path d=\"M 19.7225 59.796  L 159.2225 59.796  \" style=\"fill:none;stroke:#000000;stroke-linecap:square;stroke-linejoin:miter;stroke-width:0.3;\" />\n   </g>\n  </g>\n </g>\n <defs>\n  <clipPath id=\"pe0b005795c\">\n   <rect height=\"59.796\" width=\"139.5\" x=\"19.7225\" y=\"0\" />\n  </clipPath>\n </defs>\n</svg></g>\n\n<g id=\"node2\" class=\"node\">\n<title>node5</title>\n<svg height=\"67px\" version=\"1.1\" viewBox=\"0 0 165.58375 89.512875\" width=\"124px\" preserveAspectRatio=\"xMinYMin meet\" x=\"387.5\" y=\"-147.5\">\n <metadata>\n  <rdf:RDF>\n   <ns2:Work>\n    <dc:type rdf:resource=\"http://purl.org/dc/dcmitype/StillImage\" />\n    <dc:date>2022-06-06T19:38:44.230147</dc:date>\n    <dc:format>image/svg+xml</dc:format>\n    <dc:creator>\n     <ns2:Agent>\n      <dc:title>Matplotlib v3.4.3, https://matplotlib.org/</dc:title>\n     </ns2:Agent>\n    </dc:creator>\n   </ns2:Work>\n  </rdf:RDF>\n </metadata>\n <defs>\n  <style type=\"text/css\">*{stroke-linecap:butt;stroke-linejoin:round;}</style>\n </defs>\n <g id=\"figure_1\">\n  <g id=\"patch_1\">\n   <path d=\"M 0 89.512875  L 165.58375 89.512875  L 165.58375 0  L 0 0  z \" style=\"fill:none;\" />\n  </g>\n  <g id=\"axes_1\">\n   <g id=\"patch_2\">\n    <path d=\"M 19.7225 59.796  L 159.2225 59.796  L 159.2225 0  L 19.7225 0  z \" style=\"fill:#ffffff;\" />\n   </g>\n   <g id=\"PathCollection_1\">\n    <defs>\n     <path d=\"M 0 1.118034  C 0.296506 1.118034 0.580908 1.000231 0.790569 0.790569  C 1.000231 0.580908 1.118034 0.296506 1.118034 0  C 1.118034 -0.296506 1.000231 -0.580908 0.790569 -0.790569  C 0.580908 -1.000231 0.296506 -1.118034 0 -1.118034  C -0.296506 -1.118034 -0.580908 -1.000231 -0.790569 -0.790569  C -1.000231 -0.580908 -1.118034 -0.296506 -1.118034 0  C -1.118034 0.296506 -1.000231 0.580908 -0.790569 0.790569  C -0.580908 1.000231 -0.296506 1.118034 0 1.118034  z \" id=\"mcc57b9b90d\" style=\"stroke:#4575b4;stroke-opacity:0.7;stroke-width:0.3;\" />\n    </defs>\n    <g clip-path=\"url(#p72170571a5)\">\n     <use style=\"fill:#4575b4;fill-opacity:0.7;stroke:#4575b4;stroke-opacity:0.7;stroke-width:0.3;\" x=\"159.2225\" xlink:href=\"#mcc57b9b90d\" y=\"3.483262\" />\n     <use style=\"fill:#4575b4;fill-opacity:0.7;stroke:#4575b4;stroke-opacity:0.7;stroke-width:0.3;\" x=\"159.2225\" xlink:href=\"#mcc57b9b90d\" y=\"3.483262\" />\n     <use style=\"fill:#4575b4;fill-opacity:0.7;stroke:#4575b4;stroke-opacity:0.7;stroke-width:0.3;\" x=\"19.7225\" xlink:href=\"#mcc57b9b90d\" y=\"61.537631\" />\n     <use style=\"fill:#4575b4;fill-opacity:0.7;stroke:#4575b4;stroke-opacity:0.7;stroke-width:0.3;\" x=\"159.2225\" xlink:href=\"#mcc57b9b90d\" y=\"3.483262\" />\n     <use style=\"fill:#4575b4;fill-opacity:0.7;stroke:#4575b4;stroke-opacity:0.7;stroke-width:0.3;\" x=\"19.7225\" xlink:href=\"#mcc57b9b90d\" y=\"3.483262\" />\n     <use style=\"fill:#4575b4;fill-opacity:0.7;stroke:#4575b4;stroke-opacity:0.7;stroke-width:0.3;\" x=\"159.2225\" xlink:href=\"#mcc57b9b90d\" y=\"3.483262\" />\n     <use style=\"fill:#4575b4;fill-opacity:0.7;stroke:#4575b4;stroke-opacity:0.7;stroke-width:0.3;\" x=\"19.7225\" xlink:href=\"#mcc57b9b90d\" y=\"3.483262\" />\n     <use style=\"fill:#4575b4;fill-opacity:0.7;stroke:#4575b4;stroke-opacity:0.7;stroke-width:0.3;\" x=\"159.2225\" xlink:href=\"#mcc57b9b90d\" y=\"3.483262\" />\n     <use style=\"fill:#4575b4;fill-opacity:0.7;stroke:#4575b4;stroke-opacity:0.7;stroke-width:0.3;\" x=\"159.2225\" xlink:href=\"#mcc57b9b90d\" y=\"3.483262\" />\n     <use style=\"fill:#4575b4;fill-opacity:0.7;stroke:#4575b4;stroke-opacity:0.7;stroke-width:0.3;\" x=\"159.2225\" xlink:href=\"#mcc57b9b90d\" y=\"3.483262\" />\n     <use style=\"fill:#4575b4;fill-opacity:0.7;stroke:#4575b4;stroke-opacity:0.7;stroke-width:0.3;\" x=\"159.2225\" xlink:href=\"#mcc57b9b90d\" y=\"3.483262\" />\n     <use style=\"fill:#4575b4;fill-opacity:0.7;stroke:#4575b4;stroke-opacity:0.7;stroke-width:0.3;\" x=\"159.2225\" xlink:href=\"#mcc57b9b90d\" y=\"3.483262\" />\n     <use style=\"fill:#4575b4;fill-opacity:0.7;stroke:#4575b4;stroke-opacity:0.7;stroke-width:0.3;\" x=\"159.2225\" xlink:href=\"#mcc57b9b90d\" y=\"3.483262\" />\n     <use style=\"fill:#4575b4;fill-opacity:0.7;stroke:#4575b4;stroke-opacity:0.7;stroke-width:0.3;\" x=\"159.2225\" xlink:href=\"#mcc57b9b90d\" y=\"3.483262\" />\n     <use style=\"fill:#4575b4;fill-opacity:0.7;stroke:#4575b4;stroke-opacity:0.7;stroke-width:0.3;\" x=\"159.2225\" xlink:href=\"#mcc57b9b90d\" y=\"3.483262\" />\n     <use style=\"fill:#4575b4;fill-opacity:0.7;stroke:#4575b4;stroke-opacity:0.7;stroke-width:0.3;\" x=\"159.2225\" xlink:href=\"#mcc57b9b90d\" y=\"3.483262\" />\n     <use style=\"fill:#4575b4;fill-opacity:0.7;stroke:#4575b4;stroke-opacity:0.7;stroke-width:0.3;\" x=\"19.7225\" xlink:href=\"#mcc57b9b90d\" y=\"61.537631\" />\n     <use style=\"fill:#4575b4;fill-opacity:0.7;stroke:#4575b4;stroke-opacity:0.7;stroke-width:0.3;\" x=\"159.2225\" xlink:href=\"#mcc57b9b90d\" y=\"3.483262\" />\n     <use style=\"fill:#4575b4;fill-opacity:0.7;stroke:#4575b4;stroke-opacity:0.7;stroke-width:0.3;\" x=\"159.2225\" xlink:href=\"#mcc57b9b90d\" y=\"3.483262\" />\n     <use style=\"fill:#4575b4;fill-opacity:0.7;stroke:#4575b4;stroke-opacity:0.7;stroke-width:0.3;\" x=\"159.2225\" xlink:href=\"#mcc57b9b90d\" y=\"3.483262\" />\n     <use style=\"fill:#4575b4;fill-opacity:0.7;stroke:#4575b4;stroke-opacity:0.7;stroke-width:0.3;\" x=\"159.2225\" xlink:href=\"#mcc57b9b90d\" y=\"3.483262\" />\n     <use style=\"fill:#4575b4;fill-opacity:0.7;stroke:#4575b4;stroke-opacity:0.7;stroke-width:0.3;\" x=\"159.2225\" xlink:href=\"#mcc57b9b90d\" y=\"3.483262\" />\n     <use style=\"fill:#4575b4;fill-opacity:0.7;stroke:#4575b4;stroke-opacity:0.7;stroke-width:0.3;\" x=\"159.2225\" xlink:href=\"#mcc57b9b90d\" y=\"3.483262\" />\n     <use style=\"fill:#4575b4;fill-opacity:0.7;stroke:#4575b4;stroke-opacity:0.7;stroke-width:0.3;\" x=\"159.2225\" xlink:href=\"#mcc57b9b90d\" y=\"3.483262\" />\n     <use style=\"fill:#4575b4;fill-opacity:0.7;stroke:#4575b4;stroke-opacity:0.7;stroke-width:0.3;\" x=\"159.2225\" xlink:href=\"#mcc57b9b90d\" y=\"3.483262\" />\n     <use style=\"fill:#4575b4;fill-opacity:0.7;stroke:#4575b4;stroke-opacity:0.7;stroke-width:0.3;\" x=\"159.2225\" xlink:href=\"#mcc57b9b90d\" y=\"3.483262\" />\n     <use style=\"fill:#4575b4;fill-opacity:0.7;stroke:#4575b4;stroke-opacity:0.7;stroke-width:0.3;\" x=\"19.7225\" xlink:href=\"#mcc57b9b90d\" y=\"3.483262\" />\n     <use style=\"fill:#4575b4;fill-opacity:0.7;stroke:#4575b4;stroke-opacity:0.7;stroke-width:0.3;\" x=\"159.2225\" xlink:href=\"#mcc57b9b90d\" y=\"3.483262\" />\n     <use style=\"fill:#4575b4;fill-opacity:0.7;stroke:#4575b4;stroke-opacity:0.7;stroke-width:0.3;\" x=\"19.7225\" xlink:href=\"#mcc57b9b90d\" y=\"3.483262\" />\n     <use style=\"fill:#4575b4;fill-opacity:0.7;stroke:#4575b4;stroke-opacity:0.7;stroke-width:0.3;\" x=\"19.7225\" xlink:href=\"#mcc57b9b90d\" y=\"3.483262\" />\n     <use style=\"fill:#4575b4;fill-opacity:0.7;stroke:#4575b4;stroke-opacity:0.7;stroke-width:0.3;\" x=\"19.7225\" xlink:href=\"#mcc57b9b90d\" y=\"3.483262\" />\n     <use style=\"fill:#4575b4;fill-opacity:0.7;stroke:#4575b4;stroke-opacity:0.7;stroke-width:0.3;\" x=\"159.2225\" xlink:href=\"#mcc57b9b90d\" y=\"3.483262\" />\n     <use style=\"fill:#4575b4;fill-opacity:0.7;stroke:#4575b4;stroke-opacity:0.7;stroke-width:0.3;\" x=\"19.7225\" xlink:href=\"#mcc57b9b90d\" y=\"3.483262\" />\n     <use style=\"fill:#4575b4;fill-opacity:0.7;stroke:#4575b4;stroke-opacity:0.7;stroke-width:0.3;\" x=\"159.2225\" xlink:href=\"#mcc57b9b90d\" y=\"3.483262\" />\n     <use style=\"fill:#4575b4;fill-opacity:0.7;stroke:#4575b4;stroke-opacity:0.7;stroke-width:0.3;\" x=\"159.2225\" xlink:href=\"#mcc57b9b90d\" y=\"3.483262\" />\n     <use style=\"fill:#4575b4;fill-opacity:0.7;stroke:#4575b4;stroke-opacity:0.7;stroke-width:0.3;\" x=\"159.2225\" xlink:href=\"#mcc57b9b90d\" y=\"3.483262\" />\n     <use style=\"fill:#4575b4;fill-opacity:0.7;stroke:#4575b4;stroke-opacity:0.7;stroke-width:0.3;\" x=\"159.2225\" xlink:href=\"#mcc57b9b90d\" y=\"3.483262\" />\n     <use style=\"fill:#4575b4;fill-opacity:0.7;stroke:#4575b4;stroke-opacity:0.7;stroke-width:0.3;\" x=\"19.7225\" xlink:href=\"#mcc57b9b90d\" y=\"3.483262\" />\n     <use style=\"fill:#4575b4;fill-opacity:0.7;stroke:#4575b4;stroke-opacity:0.7;stroke-width:0.3;\" x=\"19.7225\" xlink:href=\"#mcc57b9b90d\" y=\"3.483262\" />\n     <use style=\"fill:#4575b4;fill-opacity:0.7;stroke:#4575b4;stroke-opacity:0.7;stroke-width:0.3;\" x=\"19.7225\" xlink:href=\"#mcc57b9b90d\" y=\"3.483262\" />\n     <use style=\"fill:#4575b4;fill-opacity:0.7;stroke:#4575b4;stroke-opacity:0.7;stroke-width:0.3;\" x=\"19.7225\" xlink:href=\"#mcc57b9b90d\" y=\"61.537631\" />\n     <use style=\"fill:#4575b4;fill-opacity:0.7;stroke:#4575b4;stroke-opacity:0.7;stroke-width:0.3;\" x=\"159.2225\" xlink:href=\"#mcc57b9b90d\" y=\"3.483262\" />\n     <use style=\"fill:#4575b4;fill-opacity:0.7;stroke:#4575b4;stroke-opacity:0.7;stroke-width:0.3;\" x=\"19.7225\" xlink:href=\"#mcc57b9b90d\" y=\"3.483262\" />\n     <use style=\"fill:#4575b4;fill-opacity:0.7;stroke:#4575b4;stroke-opacity:0.7;stroke-width:0.3;\" x=\"19.7225\" xlink:href=\"#mcc57b9b90d\" y=\"61.537631\" />\n     <use style=\"fill:#4575b4;fill-opacity:0.7;stroke:#4575b4;stroke-opacity:0.7;stroke-width:0.3;\" x=\"19.7225\" xlink:href=\"#mcc57b9b90d\" y=\"3.483262\" />\n     <use style=\"fill:#4575b4;fill-opacity:0.7;stroke:#4575b4;stroke-opacity:0.7;stroke-width:0.3;\" x=\"159.2225\" xlink:href=\"#mcc57b9b90d\" y=\"3.483262\" />\n     <use style=\"fill:#4575b4;fill-opacity:0.7;stroke:#4575b4;stroke-opacity:0.7;stroke-width:0.3;\" x=\"19.7225\" xlink:href=\"#mcc57b9b90d\" y=\"3.483262\" />\n     <use style=\"fill:#4575b4;fill-opacity:0.7;stroke:#4575b4;stroke-opacity:0.7;stroke-width:0.3;\" x=\"159.2225\" xlink:href=\"#mcc57b9b90d\" y=\"3.483262\" />\n     <use style=\"fill:#4575b4;fill-opacity:0.7;stroke:#4575b4;stroke-opacity:0.7;stroke-width:0.3;\" x=\"159.2225\" xlink:href=\"#mcc57b9b90d\" y=\"3.483262\" />\n     <use style=\"fill:#4575b4;fill-opacity:0.7;stroke:#4575b4;stroke-opacity:0.7;stroke-width:0.3;\" x=\"159.2225\" xlink:href=\"#mcc57b9b90d\" y=\"3.483262\" />\n     <use style=\"fill:#4575b4;fill-opacity:0.7;stroke:#4575b4;stroke-opacity:0.7;stroke-width:0.3;\" x=\"19.7225\" xlink:href=\"#mcc57b9b90d\" y=\"3.483262\" />\n     <use style=\"fill:#4575b4;fill-opacity:0.7;stroke:#4575b4;stroke-opacity:0.7;stroke-width:0.3;\" x=\"159.2225\" xlink:href=\"#mcc57b9b90d\" y=\"3.483262\" />\n     <use style=\"fill:#4575b4;fill-opacity:0.7;stroke:#4575b4;stroke-opacity:0.7;stroke-width:0.3;\" x=\"159.2225\" xlink:href=\"#mcc57b9b90d\" y=\"3.483262\" />\n     <use style=\"fill:#4575b4;fill-opacity:0.7;stroke:#4575b4;stroke-opacity:0.7;stroke-width:0.3;\" x=\"19.7225\" xlink:href=\"#mcc57b9b90d\" y=\"3.483262\" />\n     <use style=\"fill:#4575b4;fill-opacity:0.7;stroke:#4575b4;stroke-opacity:0.7;stroke-width:0.3;\" x=\"159.2225\" xlink:href=\"#mcc57b9b90d\" y=\"3.483262\" />\n    </g>\n   </g>\n   <g id=\"patch_3\">\n    <path d=\"M 89.4725 59.796  L 86.9615 65.7756  L 91.9835 65.7756  z \" style=\"fill:#444443;\" />\n   </g>\n   <g id=\"matplotlib.axis_1\">\n    <g id=\"xtick_1\">\n     <g id=\"line2d_1\">\n      <defs>\n       <path d=\"M 0 0  L 0 3.5  \" id=\"m36cd6719ef\" style=\"stroke:#444443;stroke-width:0.3;\" />\n      </defs>\n      <g>\n       <use style=\"fill:#444443;stroke:#444443;stroke-width:0.3;\" x=\"19.7225\" xlink:href=\"#m36cd6719ef\" y=\"59.796\" />\n      </g>\n     </g>\n     <g id=\"text_1\">\n      \n      <g style=\"fill:#444443;\" transform=\"translate(13.36125 72.87475)scale(0.08 -0.08)\">\n       <defs>\n        <path d=\"M 794 531  L 1825 531  L 1825 4091  L 703 3866  L 703 4441  L 1819 4666  L 2450 4666  L 2450 531  L 3481 531  L 3481 0  L 794 0  L 794 531  z \" id=\"DejaVuSans-31\" transform=\"scale(0.015625)\" />\n        <path d=\"M 684 794  L 1344 794  L 1344 0  L 684 0  L 684 794  z \" id=\"DejaVuSans-2e\" transform=\"scale(0.015625)\" />\n        <path d=\"M 2034 4250  Q 1547 4250 1301 3770  Q 1056 3291 1056 2328  Q 1056 1369 1301 889  Q 1547 409 2034 409  Q 2525 409 2770 889  Q 3016 1369 3016 2328  Q 3016 3291 2770 3770  Q 2525 4250 2034 4250  z M 2034 4750  Q 2819 4750 3233 4129  Q 3647 3509 3647 2328  Q 3647 1150 3233 529  Q 2819 -91 2034 -91  Q 1250 -91 836 529  Q 422 1150 422 2328  Q 422 3509 836 4129  Q 1250 4750 2034 4750  z \" id=\"DejaVuSans-30\" transform=\"scale(0.015625)\" />\n       </defs>\n       <use xlink:href=\"#DejaVuSans-31\" />\n       <use x=\"63.623047\" xlink:href=\"#DejaVuSans-2e\" />\n       <use x=\"95.410156\" xlink:href=\"#DejaVuSans-30\" />\n      </g>\n     </g>\n    </g>\n    <g id=\"xtick_2\">\n     <g id=\"line2d_2\">\n      <g>\n       <use style=\"fill:#444443;stroke:#444443;stroke-width:0.3;\" x=\"159.2225\" xlink:href=\"#m36cd6719ef\" y=\"59.796\" />\n      </g>\n     </g>\n     <g id=\"text_2\">\n      \n      <g style=\"fill:#444443;\" transform=\"translate(152.86125 72.87475)scale(0.08 -0.08)\">\n       <defs>\n        <path d=\"M 1228 531  L 3431 531  L 3431 0  L 469 0  L 469 531  Q 828 903 1448 1529  Q 2069 2156 2228 2338  Q 2531 2678 2651 2914  Q 2772 3150 2772 3378  Q 2772 3750 2511 3984  Q 2250 4219 1831 4219  Q 1534 4219 1204 4116  Q 875 4013 500 3803  L 500 4441  Q 881 4594 1212 4672  Q 1544 4750 1819 4750  Q 2544 4750 2975 4387  Q 3406 4025 3406 3419  Q 3406 3131 3298 2873  Q 3191 2616 2906 2266  Q 2828 2175 2409 1742  Q 1991 1309 1228 531  z \" id=\"DejaVuSans-32\" transform=\"scale(0.015625)\" />\n       </defs>\n       <use xlink:href=\"#DejaVuSans-32\" />\n       <use x=\"63.623047\" xlink:href=\"#DejaVuSans-2e\" />\n       <use x=\"95.410156\" xlink:href=\"#DejaVuSans-30\" />\n      </g>\n     </g>\n    </g>\n    <g id=\"xtick_3\">\n     <g id=\"line2d_3\">\n      <g>\n       <use style=\"fill:#444443;stroke:#444443;stroke-width:0.3;\" x=\"89.4725\" xlink:href=\"#m36cd6719ef\" y=\"59.796\" />\n      </g>\n     </g>\n     <g id=\"text_3\">\n      \n      <g style=\"fill:#444443;\" transform=\"translate(83.11125 72.87475)scale(0.08 -0.08)\">\n       <defs>\n        <path d=\"M 691 4666  L 3169 4666  L 3169 4134  L 1269 4134  L 1269 2991  Q 1406 3038 1543 3061  Q 1681 3084 1819 3084  Q 2600 3084 3056 2656  Q 3513 2228 3513 1497  Q 3513 744 3044 326  Q 2575 -91 1722 -91  Q 1428 -91 1123 -41  Q 819 9 494 109  L 494 744  Q 775 591 1075 516  Q 1375 441 1709 441  Q 2250 441 2565 725  Q 2881 1009 2881 1497  Q 2881 1984 2565 2268  Q 2250 2553 1709 2553  Q 1456 2553 1204 2497  Q 953 2441 691 2322  L 691 4666  z \" id=\"DejaVuSans-35\" transform=\"scale(0.015625)\" />\n       </defs>\n       <use xlink:href=\"#DejaVuSans-31\" />\n       <use x=\"63.623047\" xlink:href=\"#DejaVuSans-2e\" />\n       <use x=\"95.410156\" xlink:href=\"#DejaVuSans-35\" />\n      </g>\n     </g>\n    </g>\n    <g id=\"text_4\">\n     \n     <g style=\"fill:#444443;\" transform=\"translate(64.244375 87.127875)scale(0.12 -0.12)\">\n      <defs>\n       <path d=\"M 525 0  L 525 4581  L 3616 4581  L 3616 4041  L 1131 4041  L 1131 2622  L 3281 2622  L 3281 2081  L 1131 2081  L 1131 0  L 525 0  z \" id=\"ArialMT-46\" transform=\"scale(0.015625)\" />\n       <path d=\"M -9 0  L 1750 4581  L 2403 4581  L 4278 0  L 3588 0  L 3053 1388  L 1138 1388  L 634 0  L -9 0  z M 1313 1881  L 2866 1881  L 2388 3150  Q 2169 3728 2063 4100  Q 1975 3659 1816 3225  L 1313 1881  z \" id=\"ArialMT-41\" transform=\"scale(0.015625)\" />\n       <path d=\"M 1659 0  L 1659 4041  L 150 4041  L 150 4581  L 3781 4581  L 3781 4041  L 2266 4041  L 2266 0  L 1659 0  z \" id=\"ArialMT-54\" transform=\"scale(0.015625)\" />\n       <path d=\"M 597 0  L 597 4581  L 1203 4581  L 1203 0  L 597 0  z \" id=\"ArialMT-49\" transform=\"scale(0.015625)\" />\n       <path d=\"M 2638 1797  L 2638 2334  L 4578 2338  L 4578 638  Q 4131 281 3656 101  Q 3181 -78 2681 -78  Q 2006 -78 1454 211  Q 903 500 622 1047  Q 341 1594 341 2269  Q 341 2938 620 3517  Q 900 4097 1425 4378  Q 1950 4659 2634 4659  Q 3131 4659 3532 4498  Q 3934 4338 4162 4050  Q 4391 3763 4509 3300  L 3963 3150  Q 3859 3500 3706 3700  Q 3553 3900 3268 4020  Q 2984 4141 2638 4141  Q 2222 4141 1919 4014  Q 1616 3888 1430 3681  Q 1244 3475 1141 3228  Q 966 2803 966 2306  Q 966 1694 1177 1281  Q 1388 869 1791 669  Q 2194 469 2647 469  Q 3041 469 3416 620  Q 3791 772 3984 944  L 3984 1797  L 2638 1797  z \" id=\"ArialMT-47\" transform=\"scale(0.015625)\" />\n       <path d=\"M 3500 4581  L 4106 4581  L 4106 1934  Q 4106 1244 3950 837  Q 3794 431 3386 176  Q 2978 -78 2316 -78  Q 1672 -78 1262 144  Q 853 366 678 786  Q 503 1206 503 1934  L 503 4581  L 1109 4581  L 1109 1938  Q 1109 1341 1220 1058  Q 1331 775 1601 622  Q 1872 469 2263 469  Q 2931 469 3215 772  Q 3500 1075 3500 1938  L 3500 4581  z \" id=\"ArialMT-55\" transform=\"scale(0.015625)\" />\n       <path d=\"M 506 0  L 506 4581  L 3819 4581  L 3819 4041  L 1113 4041  L 1113 2638  L 3647 2638  L 3647 2100  L 1113 2100  L 1113 541  L 3925 541  L 3925 0  L 506 0  z \" id=\"ArialMT-45\" transform=\"scale(0.015625)\" />\n      </defs>\n      <use xlink:href=\"#ArialMT-46\" />\n      <use x=\"55.583984\" xlink:href=\"#ArialMT-41\" />\n      <use x=\"114.908203\" xlink:href=\"#ArialMT-54\" />\n      <use x=\"175.992188\" xlink:href=\"#ArialMT-49\" />\n      <use x=\"203.775391\" xlink:href=\"#ArialMT-47\" />\n      <use x=\"281.558594\" xlink:href=\"#ArialMT-55\" />\n      <use x=\"353.775391\" xlink:href=\"#ArialMT-45\" />\n     </g>\n    </g>\n   </g>\n   <g id=\"matplotlib.axis_2\">\n    <g id=\"ytick_1\">\n     <g id=\"line2d_4\">\n      <defs>\n       <path d=\"M 0 0  L -3.5 0  \" id=\"m94b449c462\" style=\"stroke:#444443;stroke-width:0.3;\" />\n      </defs>\n      <g>\n       <use style=\"fill:#444443;stroke:#444443;stroke-width:0.3;\" x=\"19.7225\" xlink:href=\"#m94b449c462\" y=\"32.510447\" />\n      </g>\n     </g>\n     <g id=\"text_5\">\n      \n      <g style=\"fill:#444443;\" transform=\"translate(0 35.549822)scale(0.08 -0.08)\">\n       <use xlink:href=\"#DejaVuSans-31\" />\n       <use x=\"63.623047\" xlink:href=\"#DejaVuSans-2e\" />\n       <use x=\"95.410156\" xlink:href=\"#DejaVuSans-35\" />\n      </g>\n     </g>\n    </g>\n    <g id=\"ytick_2\">\n     <g id=\"line2d_5\">\n      <g>\n       <use style=\"fill:#444443;stroke:#444443;stroke-width:0.3;\" x=\"19.7225\" xlink:href=\"#m94b449c462\" y=\"3.483262\" />\n      </g>\n     </g>\n     <g id=\"text_6\">\n      \n      <g style=\"fill:#444443;\" transform=\"translate(0 6.522637)scale(0.08 -0.08)\">\n       <use xlink:href=\"#DejaVuSans-32\" />\n       <use x=\"63.623047\" xlink:href=\"#DejaVuSans-2e\" />\n       <use x=\"95.410156\" xlink:href=\"#DejaVuSans-30\" />\n      </g>\n     </g>\n    </g>\n   </g>\n   <g id=\"line2d_6\">\n    <path clip-path=\"url(#p72170571a5)\" d=\"M 19.7225 15.705235  L 89.4725 15.705235  \" style=\"fill:none;stroke:#444443;stroke-dasharray:3.7,1.6;stroke-dashoffset:0;\" />\n   </g>\n   <g id=\"line2d_7\">\n    <path clip-path=\"url(#p72170571a5)\" d=\"M 89.4725 59.796  L 89.4725 0  \" style=\"fill:none;stroke:#444443;stroke-dasharray:3.7,1.6;stroke-dashoffset:0;\" />\n   </g>\n   <g id=\"line2d_8\">\n    <path clip-path=\"url(#p72170571a5)\" d=\"M 89.4725 3.483262  L 159.2225 3.483262  \" style=\"fill:none;stroke:#444443;stroke-dasharray:3.7,1.6;stroke-dashoffset:0;\" />\n   </g>\n   <g id=\"patch_4\">\n    <path d=\"M 19.7225 59.796  L 19.7225 0  \" style=\"fill:none;stroke:#000000;stroke-linecap:square;stroke-linejoin:miter;stroke-width:0.3;\" />\n   </g>\n   <g id=\"patch_5\">\n    <path d=\"M 19.7225 59.796  L 159.2225 59.796  \" style=\"fill:none;stroke:#000000;stroke-linecap:square;stroke-linejoin:miter;stroke-width:0.3;\" />\n   </g>\n  </g>\n </g>\n <defs>\n  <clipPath id=\"p72170571a5\">\n   <rect height=\"59.796\" width=\"139.5\" x=\"19.7225\" y=\"0\" />\n  </clipPath>\n </defs>\n</svg></g>\n\n\n<g id=\"node7\" class=\"node\">\n<title>leaf3</title>\n<polygon fill=\"none\" stroke=\"#444443\" stroke-width=\"0\" points=\"129,-60 0,-60 0,0 129,0 129,-60\" />\n<svg height=\"52px\" version=\"1.1\" viewBox=\"0 0 161.754375 69.564468\" width=\"121px\" preserveAspectRatio=\"xMinYMin meet\" x=\"4.5\" y=\"-56\">\n <metadata>\n  <rdf:RDF>\n   <ns2:Work>\n    <dc:type rdf:resource=\"http://purl.org/dc/dcmitype/StillImage\" />\n    <dc:date>2022-06-06T19:38:45.034558</dc:date>\n    <dc:format>image/svg+xml</dc:format>\n    <dc:creator>\n     <ns2:Agent>\n      <dc:title>Matplotlib v3.4.3, https://matplotlib.org/</dc:title>\n     </ns2:Agent>\n    </dc:creator>\n   </ns2:Work>\n  </rdf:RDF>\n </metadata>\n <defs>\n  <style type=\"text/css\">*{stroke-linecap:butt;stroke-linejoin:round;}</style>\n </defs>\n <g id=\"figure_1\">\n  <g id=\"patch_1\">\n   <path d=\"M 0 69.564468  L 161.754375 69.564468  L 161.754375 -0  L 0 -0  z \" style=\"fill:none;\" />\n  </g>\n  <g id=\"axes_1\">\n   <g id=\"patch_2\">\n    <path d=\"M 59.452187 43.994093  L 101.302188 43.994093  L 101.302188 0.506093  L 59.452187 0.506093  z \" style=\"fill:#ffffff;\" />\n   </g>\n   <g id=\"PathCollection_1\">\n    <defs>\n     <path d=\"M 0 1.118034  C 0.296506 1.118034 0.580908 1.000231 0.790569 0.790569  C 1.000231 0.580908 1.118034 0.296506 1.118034 0  C 1.118034 -0.296506 1.000231 -0.580908 0.790569 -0.790569  C 0.580908 -1.000231 0.296506 -1.118034 0 -1.118034  C -0.296506 -1.118034 -0.580908 -1.000231 -0.790569 -0.790569  C -1.000231 -0.580908 -1.118034 -0.296506 -1.118034 0  C -1.118034 0.296506 -1.000231 0.580908 -0.790569 0.790569  C -0.580908 1.000231 -0.296506 1.118034 0 1.118034  z \" id=\"mb123b45ba3\" style=\"stroke:#4575b4;stroke-opacity:0.7;stroke-width:0.3;\" />\n    </defs>\n    <g clip-path=\"url(#p36c87700c0)\">\n     <use style=\"fill:#4575b4;fill-opacity:0.7;stroke:#4575b4;stroke-opacity:0.7;stroke-width:0.3;\" x=\"80.931401\" xlink:href=\"#mb123b45ba3\" y=\"45.260734\" />\n     <use style=\"fill:#4575b4;fill-opacity:0.7;stroke:#4575b4;stroke-opacity:0.7;stroke-width:0.3;\" x=\"79.819126\" xlink:href=\"#mb123b45ba3\" y=\"45.260734\" />\n     <use style=\"fill:#4575b4;fill-opacity:0.7;stroke:#4575b4;stroke-opacity:0.7;stroke-width:0.3;\" x=\"79.834239\" xlink:href=\"#mb123b45ba3\" y=\"3.039375\" />\n     <use style=\"fill:#4575b4;fill-opacity:0.7;stroke:#4575b4;stroke-opacity:0.7;stroke-width:0.3;\" x=\"78.596943\" xlink:href=\"#mb123b45ba3\" y=\"45.260734\" />\n     <use style=\"fill:#4575b4;fill-opacity:0.7;stroke:#4575b4;stroke-opacity:0.7;stroke-width:0.3;\" x=\"76.549203\" xlink:href=\"#mb123b45ba3\" y=\"45.260734\" />\n     <use style=\"fill:#4575b4;fill-opacity:0.7;stroke:#4575b4;stroke-opacity:0.7;stroke-width:0.3;\" x=\"88.544767\" xlink:href=\"#mb123b45ba3\" y=\"45.260734\" />\n     <use style=\"fill:#4575b4;fill-opacity:0.7;stroke:#4575b4;stroke-opacity:0.7;stroke-width:0.3;\" x=\"77.28205\" xlink:href=\"#mb123b45ba3\" y=\"3.039375\" />\n     <use style=\"fill:#4575b4;fill-opacity:0.7;stroke:#4575b4;stroke-opacity:0.7;stroke-width:0.3;\" x=\"76.528164\" xlink:href=\"#mb123b45ba3\" y=\"3.039375\" />\n     <use style=\"fill:#4575b4;fill-opacity:0.7;stroke:#4575b4;stroke-opacity:0.7;stroke-width:0.3;\" x=\"86.015313\" xlink:href=\"#mb123b45ba3\" y=\"3.039375\" />\n     <use style=\"fill:#4575b4;fill-opacity:0.7;stroke:#4575b4;stroke-opacity:0.7;stroke-width:0.3;\" x=\"83.450666\" xlink:href=\"#mb123b45ba3\" y=\"45.260734\" />\n     <use style=\"fill:#4575b4;fill-opacity:0.7;stroke:#4575b4;stroke-opacity:0.7;stroke-width:0.3;\" x=\"76.163004\" xlink:href=\"#mb123b45ba3\" y=\"3.039375\" />\n     <use style=\"fill:#4575b4;fill-opacity:0.7;stroke:#4575b4;stroke-opacity:0.7;stroke-width:0.3;\" x=\"78.8733\" xlink:href=\"#mb123b45ba3\" y=\"3.039375\" />\n     <use style=\"fill:#4575b4;fill-opacity:0.7;stroke:#4575b4;stroke-opacity:0.7;stroke-width:0.3;\" x=\"74.915891\" xlink:href=\"#mb123b45ba3\" y=\"45.260734\" />\n     <use style=\"fill:#4575b4;fill-opacity:0.7;stroke:#4575b4;stroke-opacity:0.7;stroke-width:0.3;\" x=\"83.647636\" xlink:href=\"#mb123b45ba3\" y=\"3.039375\" />\n     <use style=\"fill:#4575b4;fill-opacity:0.7;stroke:#4575b4;stroke-opacity:0.7;stroke-width:0.3;\" x=\"75.479986\" xlink:href=\"#mb123b45ba3\" y=\"45.260734\" />\n     <use style=\"fill:#4575b4;fill-opacity:0.7;stroke:#4575b4;stroke-opacity:0.7;stroke-width:0.3;\" x=\"80.082699\" xlink:href=\"#mb123b45ba3\" y=\"45.260734\" />\n     <use style=\"fill:#4575b4;fill-opacity:0.7;stroke:#4575b4;stroke-opacity:0.7;stroke-width:0.3;\" x=\"78.19473\" xlink:href=\"#mb123b45ba3\" y=\"45.260734\" />\n     <use style=\"fill:#4575b4;fill-opacity:0.7;stroke:#4575b4;stroke-opacity:0.7;stroke-width:0.3;\" x=\"80.752053\" xlink:href=\"#mb123b45ba3\" y=\"45.260734\" />\n     <use style=\"fill:#4575b4;fill-opacity:0.7;stroke:#4575b4;stroke-opacity:0.7;stroke-width:0.3;\" x=\"84.555653\" xlink:href=\"#mb123b45ba3\" y=\"45.260734\" />\n     <use style=\"fill:#4575b4;fill-opacity:0.7;stroke:#4575b4;stroke-opacity:0.7;stroke-width:0.3;\" x=\"84.520647\" xlink:href=\"#mb123b45ba3\" y=\"45.260734\" />\n     <use style=\"fill:#4575b4;fill-opacity:0.7;stroke:#4575b4;stroke-opacity:0.7;stroke-width:0.3;\" x=\"79.278684\" xlink:href=\"#mb123b45ba3\" y=\"45.260734\" />\n     <use style=\"fill:#4575b4;fill-opacity:0.7;stroke:#4575b4;stroke-opacity:0.7;stroke-width:0.3;\" x=\"82.551486\" xlink:href=\"#mb123b45ba3\" y=\"45.260734\" />\n     <use style=\"fill:#4575b4;fill-opacity:0.7;stroke:#4575b4;stroke-opacity:0.7;stroke-width:0.3;\" x=\"78.04949\" xlink:href=\"#mb123b45ba3\" y=\"3.039375\" />\n     <use style=\"fill:#4575b4;fill-opacity:0.7;stroke:#4575b4;stroke-opacity:0.7;stroke-width:0.3;\" x=\"75.404028\" xlink:href=\"#mb123b45ba3\" y=\"3.039375\" />\n     <use style=\"fill:#4575b4;fill-opacity:0.7;stroke:#4575b4;stroke-opacity:0.7;stroke-width:0.3;\" x=\"82.866405\" xlink:href=\"#mb123b45ba3\" y=\"3.039375\" />\n     <use style=\"fill:#4575b4;fill-opacity:0.7;stroke:#4575b4;stroke-opacity:0.7;stroke-width:0.3;\" x=\"82.713875\" xlink:href=\"#mb123b45ba3\" y=\"3.039375\" />\n     <use style=\"fill:#4575b4;fill-opacity:0.7;stroke:#4575b4;stroke-opacity:0.7;stroke-width:0.3;\" x=\"82.131186\" xlink:href=\"#mb123b45ba3\" y=\"3.039375\" />\n     <use style=\"fill:#4575b4;fill-opacity:0.7;stroke:#4575b4;stroke-opacity:0.7;stroke-width:0.3;\" x=\"83.836421\" xlink:href=\"#mb123b45ba3\" y=\"45.260734\" />\n     <use style=\"fill:#4575b4;fill-opacity:0.7;stroke:#4575b4;stroke-opacity:0.7;stroke-width:0.3;\" x=\"77.715911\" xlink:href=\"#mb123b45ba3\" y=\"3.039375\" />\n     <use style=\"fill:#4575b4;fill-opacity:0.7;stroke:#4575b4;stroke-opacity:0.7;stroke-width:0.3;\" x=\"79.276638\" xlink:href=\"#mb123b45ba3\" y=\"3.039375\" />\n     <use style=\"fill:#4575b4;fill-opacity:0.7;stroke:#4575b4;stroke-opacity:0.7;stroke-width:0.3;\" x=\"76.77563\" xlink:href=\"#mb123b45ba3\" y=\"3.039375\" />\n     <use style=\"fill:#4575b4;fill-opacity:0.7;stroke:#4575b4;stroke-opacity:0.7;stroke-width:0.3;\" x=\"78.359528\" xlink:href=\"#mb123b45ba3\" y=\"45.260734\" />\n     <use style=\"fill:#4575b4;fill-opacity:0.7;stroke:#4575b4;stroke-opacity:0.7;stroke-width:0.3;\" x=\"77.86614\" xlink:href=\"#mb123b45ba3\" y=\"45.260734\" />\n     <use style=\"fill:#4575b4;fill-opacity:0.7;stroke:#4575b4;stroke-opacity:0.7;stroke-width:0.3;\" x=\"73.563855\" xlink:href=\"#mb123b45ba3\" y=\"45.260734\" />\n     <use style=\"fill:#4575b4;fill-opacity:0.7;stroke:#4575b4;stroke-opacity:0.7;stroke-width:0.3;\" x=\"81.43512\" xlink:href=\"#mb123b45ba3\" y=\"3.039375\" />\n     <use style=\"fill:#4575b4;fill-opacity:0.7;stroke:#4575b4;stroke-opacity:0.7;stroke-width:0.3;\" x=\"76.744132\" xlink:href=\"#mb123b45ba3\" y=\"45.260734\" />\n     <use style=\"fill:#4575b4;fill-opacity:0.7;stroke:#4575b4;stroke-opacity:0.7;stroke-width:0.3;\" x=\"81.800475\" xlink:href=\"#mb123b45ba3\" y=\"3.039375\" />\n    </g>\n   </g>\n   <g id=\"matplotlib.axis_1\" />\n   <g id=\"matplotlib.axis_2\">\n    <g id=\"ytick_1\">\n     <g id=\"line2d_1\">\n      <defs>\n       <path d=\"M 0 0  L -3.5 0  \" id=\"ma211e45373\" style=\"stroke:#444443;stroke-width:0.3;\" />\n      </defs>\n      <g>\n       <use style=\"fill:#444443;stroke:#444443;stroke-width:0.3;\" x=\"59.452187\" xlink:href=\"#ma211e45373\" y=\"24.150055\" />\n      </g>\n     </g>\n     <g id=\"text_1\">\n      \n      <g style=\"fill:#444443;\" transform=\"translate(39.729687 27.18943)scale(0.08 -0.08)\">\n       <defs>\n        <path d=\"M 794 531  L 1825 531  L 1825 4091  L 703 3866  L 703 4441  L 1819 4666  L 2450 4666  L 2450 531  L 3481 531  L 3481 0  L 794 0  L 794 531  z \" id=\"DejaVuSans-31\" transform=\"scale(0.015625)\" />\n        <path d=\"M 684 794  L 1344 794  L 1344 0  L 684 0  L 684 794  z \" id=\"DejaVuSans-2e\" transform=\"scale(0.015625)\" />\n        <path d=\"M 691 4666  L 3169 4666  L 3169 4134  L 1269 4134  L 1269 2991  Q 1406 3038 1543 3061  Q 1681 3084 1819 3084  Q 2600 3084 3056 2656  Q 3513 2228 3513 1497  Q 3513 744 3044 326  Q 2575 -91 1722 -91  Q 1428 -91 1123 -41  Q 819 9 494 109  L 494 744  Q 775 591 1075 516  Q 1375 441 1709 441  Q 2250 441 2565 725  Q 2881 1009 2881 1497  Q 2881 1984 2565 2268  Q 2250 2553 1709 2553  Q 1456 2553 1204 2497  Q 953 2441 691 2322  L 691 4666  z \" id=\"DejaVuSans-35\" transform=\"scale(0.015625)\" />\n       </defs>\n       <use xlink:href=\"#DejaVuSans-31\" />\n       <use x=\"63.623047\" xlink:href=\"#DejaVuSans-2e\" />\n       <use x=\"95.410156\" xlink:href=\"#DejaVuSans-35\" />\n      </g>\n     </g>\n    </g>\n    <g id=\"ytick_2\">\n     <g id=\"line2d_2\">\n      <g>\n       <use style=\"fill:#444443;stroke:#444443;stroke-width:0.3;\" x=\"59.452187\" xlink:href=\"#ma211e45373\" y=\"3.039375\" />\n      </g>\n     </g>\n     <g id=\"text_2\">\n      \n      <g style=\"fill:#444443;\" transform=\"translate(39.729687 6.07875)scale(0.08 -0.08)\">\n       <defs>\n        <path d=\"M 1228 531  L 3431 531  L 3431 0  L 469 0  L 469 531  Q 828 903 1448 1529  Q 2069 2156 2228 2338  Q 2531 2678 2651 2914  Q 2772 3150 2772 3378  Q 2772 3750 2511 3984  Q 2250 4219 1831 4219  Q 1534 4219 1204 4116  Q 875 4013 500 3803  L 500 4441  Q 881 4594 1212 4672  Q 1544 4750 1819 4750  Q 2544 4750 2975 4387  Q 3406 4025 3406 3419  Q 3406 3131 3298 2873  Q 3191 2616 2906 2266  Q 2828 2175 2409 1742  Q 1991 1309 1228 531  z \" id=\"DejaVuSans-32\" transform=\"scale(0.015625)\" />\n        <path d=\"M 2034 4250  Q 1547 4250 1301 3770  Q 1056 3291 1056 2328  Q 1056 1369 1301 889  Q 1547 409 2034 409  Q 2525 409 2770 889  Q 3016 1369 3016 2328  Q 3016 3291 2770 3770  Q 2525 4250 2034 4250  z M 2034 4750  Q 2819 4750 3233 4129  Q 3647 3509 3647 2328  Q 3647 1150 3233 529  Q 2819 -91 2034 -91  Q 1250 -91 836 529  Q 422 1150 422 2328  Q 422 3509 836 4129  Q 1250 4750 2034 4750  z \" id=\"DejaVuSans-30\" transform=\"scale(0.015625)\" />\n       </defs>\n       <use xlink:href=\"#DejaVuSans-32\" />\n       <use x=\"63.623047\" xlink:href=\"#DejaVuSans-2e\" />\n       <use x=\"95.410156\" xlink:href=\"#DejaVuSans-30\" />\n      </g>\n     </g>\n    </g>\n   </g>\n   <g id=\"line2d_3\">\n    <path clip-path=\"url(#p36c87700c0)\" d=\"M 59.452187 25.861731  L 162.754375 25.861731  \" style=\"fill:none;stroke:#444443;stroke-dasharray:3.7,1.6;stroke-dashoffset:0;\" />\n   </g>\n   <g id=\"patch_3\">\n    <path d=\"M 59.452187 43.994093  L 59.452187 0.506093  \" style=\"fill:none;stroke:#000000;stroke-linecap:square;stroke-linejoin:miter;stroke-width:0.3;\" />\n   </g>\n   <g id=\"text_3\">\n    \n    <g style=\"fill:#444443;\" transform=\"translate(0 54.487218)scale(0.12 -0.12)\">\n     <defs>\n      <path d=\"M 309 2231  Q 309 3372 921 4017  Q 1534 4663 2503 4663  Q 3138 4663 3647 4359  Q 4156 4056 4423 3514  Q 4691 2972 4691 2284  Q 4691 1588 4409 1038  Q 4128 488 3612 205  Q 3097 -78 2500 -78  Q 1853 -78 1343 234  Q 834 547 571 1087  Q 309 1628 309 2231  z M 934 2222  Q 934 1394 1379 917  Q 1825 441 2497 441  Q 3181 441 3623 922  Q 4066 1403 4066 2288  Q 4066 2847 3877 3264  Q 3688 3681 3323 3911  Q 2959 4141 2506 4141  Q 1863 4141 1398 3698  Q 934 3256 934 2222  z \" id=\"ArialMT-4f\" transform=\"scale(0.015625)\" />\n      <path d=\"M 941 0  L 419 0  L 419 4581  L 981 4581  L 981 2947  Q 1338 3394 1891 3394  Q 2197 3394 2470 3270  Q 2744 3147 2920 2923  Q 3097 2700 3197 2384  Q 3297 2069 3297 1709  Q 3297 856 2875 390  Q 2453 -75 1863 -75  Q 1275 -75 941 416  L 941 0  z M 934 1684  Q 934 1088 1097 822  Q 1363 388 1816 388  Q 2184 388 2453 708  Q 2722 1028 2722 1663  Q 2722 2313 2464 2622  Q 2206 2931 1841 2931  Q 1472 2931 1203 2611  Q 934 2291 934 1684  z \" id=\"ArialMT-62\" transform=\"scale(0.015625)\" />\n      <path d=\"M 1650 503  L 1731 6  Q 1494 -44 1306 -44  Q 1000 -44 831 53  Q 663 150 594 308  Q 525 466 525 972  L 525 2881  L 113 2881  L 113 3319  L 525 3319  L 525 4141  L 1084 4478  L 1084 3319  L 1650 3319  L 1650 2881  L 1084 2881  L 1084 941  Q 1084 700 1114 631  Q 1144 563 1211 522  Q 1278 481 1403 481  Q 1497 481 1650 503  z \" id=\"ArialMT-74\" transform=\"scale(0.015625)\" />\n      <path d=\"M 2694 1069  L 3275 997  Q 3138 488 2766 206  Q 2394 -75 1816 -75  Q 1088 -75 661 373  Q 234 822 234 1631  Q 234 2469 665 2931  Q 1097 3394 1784 3394  Q 2450 3394 2872 2941  Q 3294 2488 3294 1666  Q 3294 1616 3291 1516  L 816 1516  Q 847 969 1125 678  Q 1403 388 1819 388  Q 2128 388 2347 550  Q 2566 713 2694 1069  z M 847 1978  L 2700 1978  Q 2663 2397 2488 2606  Q 2219 2931 1791 2931  Q 1403 2931 1139 2672  Q 875 2413 847 1978  z \" id=\"ArialMT-65\" transform=\"scale(0.015625)\" />\n      <path d=\"M 416 0  L 416 3319  L 922 3319  L 922 2816  Q 1116 3169 1280 3281  Q 1444 3394 1641 3394  Q 1925 3394 2219 3213  L 2025 2691  Q 1819 2813 1613 2813  Q 1428 2813 1281 2702  Q 1134 2591 1072 2394  Q 978 2094 978 1738  L 978 0  L 416 0  z \" id=\"ArialMT-72\" transform=\"scale(0.015625)\" />\n      <path id=\"ArialMT-20\" transform=\"scale(0.015625)\" />\n      <path d=\"M 3763 1606  L 4369 1453  Q 4178 706 3683 314  Q 3188 -78 2472 -78  Q 1731 -78 1267 223  Q 803 525 561 1097  Q 319 1669 319 2325  Q 319 3041 592 3573  Q 866 4106 1370 4382  Q 1875 4659 2481 4659  Q 3169 4659 3637 4309  Q 4106 3959 4291 3325  L 3694 3184  Q 3534 3684 3231 3912  Q 2928 4141 2469 4141  Q 1941 4141 1586 3887  Q 1231 3634 1087 3207  Q 944 2781 944 2328  Q 944 1744 1114 1308  Q 1284 872 1643 656  Q 2003 441 2422 441  Q 2931 441 3284 734  Q 3638 1028 3763 1606  z \" id=\"ArialMT-43\" transform=\"scale(0.015625)\" />\n      <path d=\"M 2588 409  Q 2275 144 1986 34  Q 1697 -75 1366 -75  Q 819 -75 525 192  Q 231 459 231 875  Q 231 1119 342 1320  Q 453 1522 633 1644  Q 813 1766 1038 1828  Q 1203 1872 1538 1913  Q 2219 1994 2541 2106  Q 2544 2222 2544 2253  Q 2544 2597 2384 2738  Q 2169 2928 1744 2928  Q 1347 2928 1158 2789  Q 969 2650 878 2297  L 328 2372  Q 403 2725 575 2942  Q 747 3159 1072 3276  Q 1397 3394 1825 3394  Q 2250 3394 2515 3294  Q 2781 3194 2906 3042  Q 3031 2891 3081 2659  Q 3109 2516 3109 2141  L 3109 1391  Q 3109 606 3145 398  Q 3181 191 3288 0  L 2700 0  Q 2613 175 2588 409  z M 2541 1666  Q 2234 1541 1622 1453  Q 1275 1403 1131 1340  Q 988 1278 909 1158  Q 831 1038 831 891  Q 831 666 1001 516  Q 1172 366 1500 366  Q 1825 366 2078 508  Q 2331 650 2450 897  Q 2541 1088 2541 1459  L 2541 1666  z M 1769 4263  L 1416 3731  L 772 3731  L 1447 4606  L 2047 4606  L 2750 3731  L 2113 3731  L 1769 4263  z \" id=\"ArialMT-e2\" transform=\"scale(0.015625)\" />\n      <path d=\"M 422 0  L 422 3319  L 928 3319  L 928 2847  Q 1294 3394 1984 3394  Q 2284 3394 2536 3286  Q 2788 3178 2913 3003  Q 3038 2828 3088 2588  Q 3119 2431 3119 2041  L 3119 0  L 2556 0  L 2556 2019  Q 2556 2363 2490 2533  Q 2425 2703 2258 2804  Q 2091 2906 1866 2906  Q 1506 2906 1245 2678  Q 984 2450 984 1813  L 984 0  L 422 0  z \" id=\"ArialMT-6e\" transform=\"scale(0.015625)\" />\n      <path d=\"M 2588 1216  L 3141 1144  Q 3050 572 2676 248  Q 2303 -75 1759 -75  Q 1078 -75 664 370  Q 250 816 250 1647  Q 250 2184 428 2587  Q 606 2991 970 3192  Q 1334 3394 1763 3394  Q 2303 3394 2647 3120  Q 2991 2847 3088 2344  L 2541 2259  Q 2463 2594 2264 2762  Q 2066 2931 1784 2931  Q 1359 2931 1093 2626  Q 828 2322 828 1663  Q 828 994 1084 691  Q 1341 388 1753 388  Q 2084 388 2306 591  Q 2528 794 2588 1216  z \" id=\"ArialMT-63\" transform=\"scale(0.015625)\" />\n      <path d=\"M 2575 0  L 2575 419  Q 2259 -75 1647 -75  Q 1250 -75 917 144  Q 584 363 401 755  Q 219 1147 219 1656  Q 219 2153 384 2558  Q 550 2963 881 3178  Q 1213 3394 1622 3394  Q 1922 3394 2156 3267  Q 2391 3141 2538 2938  L 2538 4581  L 3097 4581  L 3097 0  L 2575 0  z M 797 1656  Q 797 1019 1065 703  Q 1334 388 1700 388  Q 2069 388 2326 689  Q 2584 991 2584 1609  Q 2584 2291 2321 2609  Q 2059 2928 1675 2928  Q 1300 2928 1048 2622  Q 797 2316 797 1656  z \" id=\"ArialMT-64\" transform=\"scale(0.015625)\" />\n      <path d=\"M 422 -1272  L 422 3319  L 934 3319  L 934 2888  Q 1116 3141 1344 3267  Q 1572 3394 1897 3394  Q 2322 3394 2647 3175  Q 2972 2956 3137 2557  Q 3303 2159 3303 1684  Q 3303 1175 3120 767  Q 2938 359 2589 142  Q 2241 -75 1856 -75  Q 1575 -75 1351 44  Q 1128 163 984 344  L 984 -1272  L 422 -1272  z M 931 1641  Q 931 1000 1190 694  Q 1450 388 1819 388  Q 2194 388 2461 705  Q 2728 1022 2728 1688  Q 2728 2322 2467 2637  Q 2206 2953 1844 2953  Q 1484 2953 1207 2617  Q 931 2281 931 1641  z \" id=\"ArialMT-70\" transform=\"scale(0.015625)\" />\n      <path d=\"M 2597 0  L 2597 488  Q 2209 -75 1544 -75  Q 1250 -75 995 37  Q 741 150 617 320  Q 494 491 444 738  Q 409 903 409 1263  L 409 3319  L 972 3319  L 972 1478  Q 972 1038 1006 884  Q 1059 663 1231 536  Q 1403 409 1656 409  Q 1909 409 2131 539  Q 2353 669 2445 892  Q 2538 1116 2538 1541  L 2538 3319  L 3100 3319  L 3100 0  L 2597 0  z \" id=\"ArialMT-75\" transform=\"scale(0.015625)\" />\n      <path d=\"M 409 0  L 409 4581  L 972 4581  L 972 0  L 409 0  z \" id=\"ArialMT-6c\" transform=\"scale(0.015625)\" />\n      <path d=\"M 422 0  L 422 3319  L 925 3319  L 925 2853  Q 1081 3097 1340 3245  Q 1600 3394 1931 3394  Q 2300 3394 2536 3241  Q 2772 3088 2869 2813  Q 3263 3394 3894 3394  Q 4388 3394 4653 3120  Q 4919 2847 4919 2278  L 4919 0  L 4359 0  L 4359 2091  Q 4359 2428 4304 2576  Q 4250 2725 4106 2815  Q 3963 2906 3769 2906  Q 3419 2906 3187 2673  Q 2956 2441 2956 1928  L 2956 0  L 2394 0  L 2394 2156  Q 2394 2531 2256 2718  Q 2119 2906 1806 2906  Q 1569 2906 1367 2781  Q 1166 2656 1075 2415  Q 984 2175 984 1722  L 984 0  L 422 0  z \" id=\"ArialMT-6d\" transform=\"scale(0.015625)\" />\n      <path d=\"M 2588 409  Q 2275 144 1986 34  Q 1697 -75 1366 -75  Q 819 -75 525 192  Q 231 459 231 875  Q 231 1119 342 1320  Q 453 1522 633 1644  Q 813 1766 1038 1828  Q 1203 1872 1538 1913  Q 2219 1994 2541 2106  Q 2544 2222 2544 2253  Q 2544 2597 2384 2738  Q 2169 2928 1744 2928  Q 1347 2928 1158 2789  Q 969 2650 878 2297  L 328 2372  Q 403 2725 575 2942  Q 747 3159 1072 3276  Q 1397 3394 1825 3394  Q 2250 3394 2515 3294  Q 2781 3194 2906 3042  Q 3031 2891 3081 2659  Q 3109 2516 3109 2141  L 3109 1391  Q 3109 606 3145 398  Q 3181 191 3288 0  L 2700 0  Q 2613 175 2588 409  z M 2541 1666  Q 2234 1541 1622 1453  Q 1275 1403 1131 1340  Q 988 1278 909 1158  Q 831 1038 831 891  Q 831 666 1001 516  Q 1172 366 1500 366  Q 1825 366 2078 508  Q 2331 650 2450 897  Q 2541 1088 2541 1459  L 2541 1666  z M 716 3809  Q 713 4134 894 4328  Q 1072 4522 1350 4522  Q 1544 4522 1878 4353  Q 2063 4259 2172 4259  Q 2272 4259 2325 4314  Q 2378 4369 2400 4531  L 2806 4531  Q 2797 4175 2626 3997  Q 2456 3819 2194 3819  Q 1997 3819 1675 3994  Q 1466 4106 1369 4106  Q 1263 4106 1197 4031  Q 1128 3956 1131 3809  L 716 3809  z \" id=\"ArialMT-e3\" transform=\"scale(0.015625)\" />\n      <path d=\"M 213 1659  Q 213 2581 725 3025  Q 1153 3394 1769 3394  Q 2453 3394 2887 2945  Q 3322 2497 3322 1706  Q 3322 1066 3130 698  Q 2938 331 2570 128  Q 2203 -75 1769 -75  Q 1072 -75 642 372  Q 213 819 213 1659  z M 791 1659  Q 791 1022 1069 705  Q 1347 388 1769 388  Q 2188 388 2466 706  Q 2744 1025 2744 1678  Q 2744 2294 2464 2611  Q 2184 2928 1769 2928  Q 1347 2928 1069 2612  Q 791 2297 791 1659  z \" id=\"ArialMT-6f\" transform=\"scale(0.015625)\" />\n      <path d=\"M 3381 2694  L 356 2694  L 356 3219  L 3381 3219  L 3381 2694  z M 3381 1303  L 356 1303  L 356 1828  L 3381 1828  L 3381 1303  z \" id=\"ArialMT-3d\" transform=\"scale(0.015625)\" />\n      <path d=\"M 2384 0  L 1822 0  L 1822 3584  Q 1619 3391 1289 3197  Q 959 3003 697 2906  L 697 3450  Q 1169 3672 1522 3987  Q 1875 4303 2022 4600  L 2384 4600  L 2384 0  z \" id=\"ArialMT-31\" transform=\"scale(0.015625)\" />\n      <path d=\"M 581 0  L 581 641  L 1222 641  L 1222 0  L 581 0  z \" id=\"ArialMT-2e\" transform=\"scale(0.015625)\" />\n      <path d=\"M 2069 0  L 2069 1097  L 81 1097  L 81 1613  L 2172 4581  L 2631 4581  L 2631 1613  L 3250 1613  L 3250 1097  L 2631 1097  L 2631 0  L 2069 0  z M 2069 1613  L 2069 3678  L 634 1613  L 2069 1613  z \" id=\"ArialMT-34\" transform=\"scale(0.015625)\" />\n      <path d=\"M 3184 3459  L 2625 3416  Q 2550 3747 2413 3897  Q 2184 4138 1850 4138  Q 1581 4138 1378 3988  Q 1113 3794 959 3422  Q 806 3050 800 2363  Q 1003 2672 1297 2822  Q 1591 2972 1913 2972  Q 2475 2972 2870 2558  Q 3266 2144 3266 1488  Q 3266 1056 3080 686  Q 2894 316 2569 119  Q 2244 -78 1831 -78  Q 1128 -78 684 439  Q 241 956 241 2144  Q 241 3472 731 4075  Q 1159 4600 1884 4600  Q 2425 4600 2770 4297  Q 3116 3994 3184 3459  z M 888 1484  Q 888 1194 1011 928  Q 1134 663 1356 523  Q 1578 384 1822 384  Q 2178 384 2434 671  Q 2691 959 2691 1453  Q 2691 1928 2437 2201  Q 2184 2475 1800 2475  Q 1419 2475 1153 2201  Q 888 1928 888 1484  z \" id=\"ArialMT-36\" transform=\"scale(0.015625)\" />\n     </defs>\n     <use xlink:href=\"#ArialMT-4f\" />\n     <use x=\"77.783203\" xlink:href=\"#ArialMT-62\" />\n     <use x=\"133.398438\" xlink:href=\"#ArialMT-74\" />\n     <use x=\"161.181641\" xlink:href=\"#ArialMT-65\" />\n     <use x=\"216.796875\" xlink:href=\"#ArialMT-72\" />\n     <use x=\"250.097656\" xlink:href=\"#ArialMT-20\" />\n     <use x=\"277.880859\" xlink:href=\"#ArialMT-43\" />\n     <use x=\"350.097656\" xlink:href=\"#ArialMT-e2\" />\n     <use x=\"405.712891\" xlink:href=\"#ArialMT-6e\" />\n     <use x=\"461.328125\" xlink:href=\"#ArialMT-63\" />\n     <use x=\"511.328125\" xlink:href=\"#ArialMT-65\" />\n     <use x=\"566.943359\" xlink:href=\"#ArialMT-72\" />\n     <use x=\"600.244141\" xlink:href=\"#ArialMT-20\" />\n     <use x=\"628.027344\" xlink:href=\"#ArialMT-64\" />\n     <use x=\"683.642578\" xlink:href=\"#ArialMT-65\" />\n     <use x=\"739.257812\" xlink:href=\"#ArialMT-20\" />\n     <use x=\"767.041016\" xlink:href=\"#ArialMT-70\" />\n     <use x=\"822.65625\" xlink:href=\"#ArialMT-75\" />\n     <use x=\"878.271484\" xlink:href=\"#ArialMT-6c\" />\n     <use x=\"900.488281\" xlink:href=\"#ArialMT-6d\" />\n     <use x=\"983.789062\" xlink:href=\"#ArialMT-e3\" />\n     <use x=\"1039.404297\" xlink:href=\"#ArialMT-6f\" />\n     <use x=\"1095.019531\" xlink:href=\"#ArialMT-3d\" />\n     <use x=\"1153.417969\" xlink:href=\"#ArialMT-31\" />\n     <use x=\"1209.033203\" xlink:href=\"#ArialMT-2e\" />\n     <use x=\"1236.816406\" xlink:href=\"#ArialMT-34\" />\n     <use x=\"1292.431641\" xlink:href=\"#ArialMT-36\" />\n    </g>\n    \n    <g style=\"fill:#444443;\" transform=\"translate(67.363125 67.179468)scale(0.12 -0.12)\">\n     <defs>\n      <path d=\"M 269 1209  L 831 1284  Q 928 806 1161 595  Q 1394 384 1728 384  Q 2125 384 2398 659  Q 2672 934 2672 1341  Q 2672 1728 2419 1979  Q 2166 2231 1775 2231  Q 1616 2231 1378 2169  L 1441 2663  Q 1497 2656 1531 2656  Q 1891 2656 2178 2843  Q 2466 3031 2466 3422  Q 2466 3731 2256 3934  Q 2047 4138 1716 4138  Q 1388 4138 1169 3931  Q 950 3725 888 3313  L 325 3413  Q 428 3978 793 4289  Q 1159 4600 1703 4600  Q 2078 4600 2393 4439  Q 2709 4278 2876 4000  Q 3044 3722 3044 3409  Q 3044 3113 2884 2869  Q 2725 2625 2413 2481  Q 2819 2388 3044 2092  Q 3269 1797 3269 1353  Q 3269 753 2831 336  Q 2394 -81 1725 -81  Q 1122 -81 723 278  Q 325 638 269 1209  z \" id=\"ArialMT-33\" transform=\"scale(0.015625)\" />\n      <path d=\"M 303 3981  L 303 4522  L 3269 4522  L 3269 4084  Q 2831 3619 2401 2847  Q 1972 2075 1738 1259  Q 1569 684 1522 0  L 944 0  Q 953 541 1156 1306  Q 1359 2072 1739 2783  Q 2119 3494 2547 3981  L 303 3981  z \" id=\"ArialMT-37\" transform=\"scale(0.015625)\" />\n     </defs>\n     <use xlink:href=\"#ArialMT-6e\" />\n     <use x=\"55.615234\" xlink:href=\"#ArialMT-3d\" />\n     <use x=\"114.013672\" xlink:href=\"#ArialMT-33\" />\n     <use x=\"169.628906\" xlink:href=\"#ArialMT-37\" />\n    </g>\n   </g>\n  </g>\n </g>\n <defs>\n  <clipPath id=\"p36c87700c0\">\n   <rect height=\"43.488\" width=\"41.85\" x=\"59.452187\" y=\"0.506093\" />\n  </clipPath>\n </defs>\n</svg></g>\n\n<g id=\"edge1\" class=\"edge\">\n<title>node2-&gt;leaf3</title>\n<path fill=\"none\" stroke=\"#444443\" stroke-width=\"0.3\" d=\"M206.4,-87.28C182.92,-77.97 156.44,-67.47 132.78,-58.08\" />\n<polygon fill=\"#444443\" stroke=\"#444443\" stroke-width=\"0.3\" points=\"133.24,-56.76 129,-56.58 132.21,-59.36 133.24,-56.76\" />\n</g>\n\n<g id=\"node8\" class=\"node\">\n<title>leaf4</title>\n<polygon fill=\"none\" stroke=\"#444443\" stroke-width=\"0\" points=\"272,-60 143,-60 143,0 272,0 272,-60\" />\n<svg height=\"52px\" version=\"1.1\" viewBox=\"0 0 161.754375 69.564468\" width=\"121px\" preserveAspectRatio=\"xMinYMin meet\" x=\"147.5\" y=\"-56\">\n <metadata>\n  <rdf:RDF>\n   <ns2:Work>\n    <dc:type rdf:resource=\"http://purl.org/dc/dcmitype/StillImage\" />\n    <dc:date>2022-06-06T19:38:45.144375</dc:date>\n    <dc:format>image/svg+xml</dc:format>\n    <dc:creator>\n     <ns2:Agent>\n      <dc:title>Matplotlib v3.4.3, https://matplotlib.org/</dc:title>\n     </ns2:Agent>\n    </dc:creator>\n   </ns2:Work>\n  </rdf:RDF>\n </metadata>\n <defs>\n  <style type=\"text/css\">*{stroke-linecap:butt;stroke-linejoin:round;}</style>\n </defs>\n <g id=\"figure_1\">\n  <g id=\"patch_1\">\n   <path d=\"M 0 69.564468  L 161.754375 69.564468  L 161.754375 -0  L 0 -0  z \" style=\"fill:none;\" />\n  </g>\n  <g id=\"axes_1\">\n   <g id=\"patch_2\">\n    <path d=\"M 59.452187 43.994093  L 101.302188 43.994093  L 101.302188 0.506093  L 59.452187 0.506093  z \" style=\"fill:#ffffff;\" />\n   </g>\n   <g id=\"PathCollection_1\">\n    <defs>\n     <path d=\"M 0 1.118034  C 0.296506 1.118034 0.580908 1.000231 0.790569 0.790569  C 1.000231 0.580908 1.118034 0.296506 1.118034 0  C 1.118034 -0.296506 1.000231 -0.580908 0.790569 -0.790569  C 0.580908 -1.000231 0.296506 -1.118034 0 -1.118034  C -0.296506 -1.118034 -0.580908 -1.000231 -0.790569 -0.790569  C -1.000231 -0.580908 -1.118034 -0.296506 -1.118034 0  C -1.118034 0.296506 -1.000231 0.580908 -0.790569 0.790569  C -0.580908 1.000231 -0.296506 1.118034 0 1.118034  z \" id=\"m5a571e2bd9\" style=\"stroke:#4575b4;stroke-opacity:0.7;stroke-width:0.3;\" />\n    </defs>\n    <g clip-path=\"url(#p22b21754fd)\">\n     <use style=\"fill:#4575b4;fill-opacity:0.7;stroke:#4575b4;stroke-opacity:0.7;stroke-width:0.3;\" x=\"84.811364\" xlink:href=\"#m5a571e2bd9\" y=\"45.260734\" />\n     <use style=\"fill:#4575b4;fill-opacity:0.7;stroke:#4575b4;stroke-opacity:0.7;stroke-width:0.3;\" x=\"80.480303\" xlink:href=\"#m5a571e2bd9\" y=\"3.039375\" />\n     <use style=\"fill:#4575b4;fill-opacity:0.7;stroke:#4575b4;stroke-opacity:0.7;stroke-width:0.3;\" x=\"79.710756\" xlink:href=\"#m5a571e2bd9\" y=\"3.039375\" />\n     <use style=\"fill:#4575b4;fill-opacity:0.7;stroke:#4575b4;stroke-opacity:0.7;stroke-width:0.3;\" x=\"81.321267\" xlink:href=\"#m5a571e2bd9\" y=\"3.039375\" />\n     <use style=\"fill:#4575b4;fill-opacity:0.7;stroke:#4575b4;stroke-opacity:0.7;stroke-width:0.3;\" x=\"76.184402\" xlink:href=\"#m5a571e2bd9\" y=\"3.039375\" />\n     <use style=\"fill:#4575b4;fill-opacity:0.7;stroke:#4575b4;stroke-opacity:0.7;stroke-width:0.3;\" x=\"76.100755\" xlink:href=\"#m5a571e2bd9\" y=\"3.039375\" />\n     <use style=\"fill:#4575b4;fill-opacity:0.7;stroke:#4575b4;stroke-opacity:0.7;stroke-width:0.3;\" x=\"75.370029\" xlink:href=\"#m5a571e2bd9\" y=\"3.039375\" />\n     <use style=\"fill:#4575b4;fill-opacity:0.7;stroke:#4575b4;stroke-opacity:0.7;stroke-width:0.3;\" x=\"80.142203\" xlink:href=\"#m5a571e2bd9\" y=\"3.039375\" />\n     <use style=\"fill:#4575b4;fill-opacity:0.7;stroke:#4575b4;stroke-opacity:0.7;stroke-width:0.3;\" x=\"82.121389\" xlink:href=\"#m5a571e2bd9\" y=\"3.039375\" />\n     <use style=\"fill:#4575b4;fill-opacity:0.7;stroke:#4575b4;stroke-opacity:0.7;stroke-width:0.3;\" x=\"84.231883\" xlink:href=\"#m5a571e2bd9\" y=\"45.260734\" />\n     <use style=\"fill:#4575b4;fill-opacity:0.7;stroke:#4575b4;stroke-opacity:0.7;stroke-width:0.3;\" x=\"83.213426\" xlink:href=\"#m5a571e2bd9\" y=\"3.039375\" />\n     <use style=\"fill:#4575b4;fill-opacity:0.7;stroke:#4575b4;stroke-opacity:0.7;stroke-width:0.3;\" x=\"79.500126\" xlink:href=\"#m5a571e2bd9\" y=\"3.039375\" />\n     <use style=\"fill:#4575b4;fill-opacity:0.7;stroke:#4575b4;stroke-opacity:0.7;stroke-width:0.3;\" x=\"80.192395\" xlink:href=\"#m5a571e2bd9\" y=\"3.039375\" />\n     <use style=\"fill:#4575b4;fill-opacity:0.7;stroke:#4575b4;stroke-opacity:0.7;stroke-width:0.3;\" x=\"84.419262\" xlink:href=\"#m5a571e2bd9\" y=\"3.039375\" />\n     <use style=\"fill:#4575b4;fill-opacity:0.7;stroke:#4575b4;stroke-opacity:0.7;stroke-width:0.3;\" x=\"81.521393\" xlink:href=\"#m5a571e2bd9\" y=\"3.039375\" />\n    </g>\n   </g>\n   <g id=\"matplotlib.axis_1\" />\n   <g id=\"matplotlib.axis_2\">\n    <g id=\"ytick_1\">\n     <g id=\"line2d_1\">\n      <defs>\n       <path d=\"M 0 0  L -3.5 0  \" id=\"m037f127f28\" style=\"stroke:#444443;stroke-width:0.3;\" />\n      </defs>\n      <g>\n       <use style=\"fill:#444443;stroke:#444443;stroke-width:0.3;\" x=\"59.452187\" xlink:href=\"#m037f127f28\" y=\"24.150055\" />\n      </g>\n     </g>\n     <g id=\"text_1\">\n      \n      <g style=\"fill:#444443;\" transform=\"translate(39.729687 27.18943)scale(0.08 -0.08)\">\n       <defs>\n        <path d=\"M 794 531  L 1825 531  L 1825 4091  L 703 3866  L 703 4441  L 1819 4666  L 2450 4666  L 2450 531  L 3481 531  L 3481 0  L 794 0  L 794 531  z \" id=\"DejaVuSans-31\" transform=\"scale(0.015625)\" />\n        <path d=\"M 684 794  L 1344 794  L 1344 0  L 684 0  L 684 794  z \" id=\"DejaVuSans-2e\" transform=\"scale(0.015625)\" />\n        <path d=\"M 691 4666  L 3169 4666  L 3169 4134  L 1269 4134  L 1269 2991  Q 1406 3038 1543 3061  Q 1681 3084 1819 3084  Q 2600 3084 3056 2656  Q 3513 2228 3513 1497  Q 3513 744 3044 326  Q 2575 -91 1722 -91  Q 1428 -91 1123 -41  Q 819 9 494 109  L 494 744  Q 775 591 1075 516  Q 1375 441 1709 441  Q 2250 441 2565 725  Q 2881 1009 2881 1497  Q 2881 1984 2565 2268  Q 2250 2553 1709 2553  Q 1456 2553 1204 2497  Q 953 2441 691 2322  L 691 4666  z \" id=\"DejaVuSans-35\" transform=\"scale(0.015625)\" />\n       </defs>\n       <use xlink:href=\"#DejaVuSans-31\" />\n       <use x=\"63.623047\" xlink:href=\"#DejaVuSans-2e\" />\n       <use x=\"95.410156\" xlink:href=\"#DejaVuSans-35\" />\n      </g>\n     </g>\n    </g>\n    <g id=\"ytick_2\">\n     <g id=\"line2d_2\">\n      <g>\n       <use style=\"fill:#444443;stroke:#444443;stroke-width:0.3;\" x=\"59.452187\" xlink:href=\"#m037f127f28\" y=\"3.039375\" />\n      </g>\n     </g>\n     <g id=\"text_2\">\n      \n      <g style=\"fill:#444443;\" transform=\"translate(39.729687 6.07875)scale(0.08 -0.08)\">\n       <defs>\n        <path d=\"M 1228 531  L 3431 531  L 3431 0  L 469 0  L 469 531  Q 828 903 1448 1529  Q 2069 2156 2228 2338  Q 2531 2678 2651 2914  Q 2772 3150 2772 3378  Q 2772 3750 2511 3984  Q 2250 4219 1831 4219  Q 1534 4219 1204 4116  Q 875 4013 500 3803  L 500 4441  Q 881 4594 1212 4672  Q 1544 4750 1819 4750  Q 2544 4750 2975 4387  Q 3406 4025 3406 3419  Q 3406 3131 3298 2873  Q 3191 2616 2906 2266  Q 2828 2175 2409 1742  Q 1991 1309 1228 531  z \" id=\"DejaVuSans-32\" transform=\"scale(0.015625)\" />\n        <path d=\"M 2034 4250  Q 1547 4250 1301 3770  Q 1056 3291 1056 2328  Q 1056 1369 1301 889  Q 1547 409 2034 409  Q 2525 409 2770 889  Q 3016 1369 3016 2328  Q 3016 3291 2770 3770  Q 2525 4250 2034 4250  z M 2034 4750  Q 2819 4750 3233 4129  Q 3647 3509 3647 2328  Q 3647 1150 3233 529  Q 2819 -91 2034 -91  Q 1250 -91 836 529  Q 422 1150 422 2328  Q 422 3509 836 4129  Q 1250 4750 2034 4750  z \" id=\"DejaVuSans-30\" transform=\"scale(0.015625)\" />\n       </defs>\n       <use xlink:href=\"#DejaVuSans-32\" />\n       <use x=\"63.623047\" xlink:href=\"#DejaVuSans-2e\" />\n       <use x=\"95.410156\" xlink:href=\"#DejaVuSans-30\" />\n      </g>\n     </g>\n    </g>\n   </g>\n   <g id=\"line2d_3\">\n    <path clip-path=\"url(#p22b21754fd)\" d=\"M 59.452187 8.66889  L 162.754375 8.66889  \" style=\"fill:none;stroke:#444443;stroke-dasharray:3.7,1.6;stroke-dashoffset:0;\" />\n   </g>\n   <g id=\"patch_3\">\n    <path d=\"M 59.452187 43.994093  L 59.452187 0.506093  \" style=\"fill:none;stroke:#000000;stroke-linecap:square;stroke-linejoin:miter;stroke-width:0.3;\" />\n   </g>\n   <g id=\"text_3\">\n    \n    <g style=\"fill:#444443;\" transform=\"translate(0 54.487218)scale(0.12 -0.12)\">\n     <defs>\n      <path d=\"M 309 2231  Q 309 3372 921 4017  Q 1534 4663 2503 4663  Q 3138 4663 3647 4359  Q 4156 4056 4423 3514  Q 4691 2972 4691 2284  Q 4691 1588 4409 1038  Q 4128 488 3612 205  Q 3097 -78 2500 -78  Q 1853 -78 1343 234  Q 834 547 571 1087  Q 309 1628 309 2231  z M 934 2222  Q 934 1394 1379 917  Q 1825 441 2497 441  Q 3181 441 3623 922  Q 4066 1403 4066 2288  Q 4066 2847 3877 3264  Q 3688 3681 3323 3911  Q 2959 4141 2506 4141  Q 1863 4141 1398 3698  Q 934 3256 934 2222  z \" id=\"ArialMT-4f\" transform=\"scale(0.015625)\" />\n      <path d=\"M 941 0  L 419 0  L 419 4581  L 981 4581  L 981 2947  Q 1338 3394 1891 3394  Q 2197 3394 2470 3270  Q 2744 3147 2920 2923  Q 3097 2700 3197 2384  Q 3297 2069 3297 1709  Q 3297 856 2875 390  Q 2453 -75 1863 -75  Q 1275 -75 941 416  L 941 0  z M 934 1684  Q 934 1088 1097 822  Q 1363 388 1816 388  Q 2184 388 2453 708  Q 2722 1028 2722 1663  Q 2722 2313 2464 2622  Q 2206 2931 1841 2931  Q 1472 2931 1203 2611  Q 934 2291 934 1684  z \" id=\"ArialMT-62\" transform=\"scale(0.015625)\" />\n      <path d=\"M 1650 503  L 1731 6  Q 1494 -44 1306 -44  Q 1000 -44 831 53  Q 663 150 594 308  Q 525 466 525 972  L 525 2881  L 113 2881  L 113 3319  L 525 3319  L 525 4141  L 1084 4478  L 1084 3319  L 1650 3319  L 1650 2881  L 1084 2881  L 1084 941  Q 1084 700 1114 631  Q 1144 563 1211 522  Q 1278 481 1403 481  Q 1497 481 1650 503  z \" id=\"ArialMT-74\" transform=\"scale(0.015625)\" />\n      <path d=\"M 2694 1069  L 3275 997  Q 3138 488 2766 206  Q 2394 -75 1816 -75  Q 1088 -75 661 373  Q 234 822 234 1631  Q 234 2469 665 2931  Q 1097 3394 1784 3394  Q 2450 3394 2872 2941  Q 3294 2488 3294 1666  Q 3294 1616 3291 1516  L 816 1516  Q 847 969 1125 678  Q 1403 388 1819 388  Q 2128 388 2347 550  Q 2566 713 2694 1069  z M 847 1978  L 2700 1978  Q 2663 2397 2488 2606  Q 2219 2931 1791 2931  Q 1403 2931 1139 2672  Q 875 2413 847 1978  z \" id=\"ArialMT-65\" transform=\"scale(0.015625)\" />\n      <path d=\"M 416 0  L 416 3319  L 922 3319  L 922 2816  Q 1116 3169 1280 3281  Q 1444 3394 1641 3394  Q 1925 3394 2219 3213  L 2025 2691  Q 1819 2813 1613 2813  Q 1428 2813 1281 2702  Q 1134 2591 1072 2394  Q 978 2094 978 1738  L 978 0  L 416 0  z \" id=\"ArialMT-72\" transform=\"scale(0.015625)\" />\n      <path id=\"ArialMT-20\" transform=\"scale(0.015625)\" />\n      <path d=\"M 3763 1606  L 4369 1453  Q 4178 706 3683 314  Q 3188 -78 2472 -78  Q 1731 -78 1267 223  Q 803 525 561 1097  Q 319 1669 319 2325  Q 319 3041 592 3573  Q 866 4106 1370 4382  Q 1875 4659 2481 4659  Q 3169 4659 3637 4309  Q 4106 3959 4291 3325  L 3694 3184  Q 3534 3684 3231 3912  Q 2928 4141 2469 4141  Q 1941 4141 1586 3887  Q 1231 3634 1087 3207  Q 944 2781 944 2328  Q 944 1744 1114 1308  Q 1284 872 1643 656  Q 2003 441 2422 441  Q 2931 441 3284 734  Q 3638 1028 3763 1606  z \" id=\"ArialMT-43\" transform=\"scale(0.015625)\" />\n      <path d=\"M 2588 409  Q 2275 144 1986 34  Q 1697 -75 1366 -75  Q 819 -75 525 192  Q 231 459 231 875  Q 231 1119 342 1320  Q 453 1522 633 1644  Q 813 1766 1038 1828  Q 1203 1872 1538 1913  Q 2219 1994 2541 2106  Q 2544 2222 2544 2253  Q 2544 2597 2384 2738  Q 2169 2928 1744 2928  Q 1347 2928 1158 2789  Q 969 2650 878 2297  L 328 2372  Q 403 2725 575 2942  Q 747 3159 1072 3276  Q 1397 3394 1825 3394  Q 2250 3394 2515 3294  Q 2781 3194 2906 3042  Q 3031 2891 3081 2659  Q 3109 2516 3109 2141  L 3109 1391  Q 3109 606 3145 398  Q 3181 191 3288 0  L 2700 0  Q 2613 175 2588 409  z M 2541 1666  Q 2234 1541 1622 1453  Q 1275 1403 1131 1340  Q 988 1278 909 1158  Q 831 1038 831 891  Q 831 666 1001 516  Q 1172 366 1500 366  Q 1825 366 2078 508  Q 2331 650 2450 897  Q 2541 1088 2541 1459  L 2541 1666  z M 1769 4263  L 1416 3731  L 772 3731  L 1447 4606  L 2047 4606  L 2750 3731  L 2113 3731  L 1769 4263  z \" id=\"ArialMT-e2\" transform=\"scale(0.015625)\" />\n      <path d=\"M 422 0  L 422 3319  L 928 3319  L 928 2847  Q 1294 3394 1984 3394  Q 2284 3394 2536 3286  Q 2788 3178 2913 3003  Q 3038 2828 3088 2588  Q 3119 2431 3119 2041  L 3119 0  L 2556 0  L 2556 2019  Q 2556 2363 2490 2533  Q 2425 2703 2258 2804  Q 2091 2906 1866 2906  Q 1506 2906 1245 2678  Q 984 2450 984 1813  L 984 0  L 422 0  z \" id=\"ArialMT-6e\" transform=\"scale(0.015625)\" />\n      <path d=\"M 2588 1216  L 3141 1144  Q 3050 572 2676 248  Q 2303 -75 1759 -75  Q 1078 -75 664 370  Q 250 816 250 1647  Q 250 2184 428 2587  Q 606 2991 970 3192  Q 1334 3394 1763 3394  Q 2303 3394 2647 3120  Q 2991 2847 3088 2344  L 2541 2259  Q 2463 2594 2264 2762  Q 2066 2931 1784 2931  Q 1359 2931 1093 2626  Q 828 2322 828 1663  Q 828 994 1084 691  Q 1341 388 1753 388  Q 2084 388 2306 591  Q 2528 794 2588 1216  z \" id=\"ArialMT-63\" transform=\"scale(0.015625)\" />\n      <path d=\"M 2575 0  L 2575 419  Q 2259 -75 1647 -75  Q 1250 -75 917 144  Q 584 363 401 755  Q 219 1147 219 1656  Q 219 2153 384 2558  Q 550 2963 881 3178  Q 1213 3394 1622 3394  Q 1922 3394 2156 3267  Q 2391 3141 2538 2938  L 2538 4581  L 3097 4581  L 3097 0  L 2575 0  z M 797 1656  Q 797 1019 1065 703  Q 1334 388 1700 388  Q 2069 388 2326 689  Q 2584 991 2584 1609  Q 2584 2291 2321 2609  Q 2059 2928 1675 2928  Q 1300 2928 1048 2622  Q 797 2316 797 1656  z \" id=\"ArialMT-64\" transform=\"scale(0.015625)\" />\n      <path d=\"M 422 -1272  L 422 3319  L 934 3319  L 934 2888  Q 1116 3141 1344 3267  Q 1572 3394 1897 3394  Q 2322 3394 2647 3175  Q 2972 2956 3137 2557  Q 3303 2159 3303 1684  Q 3303 1175 3120 767  Q 2938 359 2589 142  Q 2241 -75 1856 -75  Q 1575 -75 1351 44  Q 1128 163 984 344  L 984 -1272  L 422 -1272  z M 931 1641  Q 931 1000 1190 694  Q 1450 388 1819 388  Q 2194 388 2461 705  Q 2728 1022 2728 1688  Q 2728 2322 2467 2637  Q 2206 2953 1844 2953  Q 1484 2953 1207 2617  Q 931 2281 931 1641  z \" id=\"ArialMT-70\" transform=\"scale(0.015625)\" />\n      <path d=\"M 2597 0  L 2597 488  Q 2209 -75 1544 -75  Q 1250 -75 995 37  Q 741 150 617 320  Q 494 491 444 738  Q 409 903 409 1263  L 409 3319  L 972 3319  L 972 1478  Q 972 1038 1006 884  Q 1059 663 1231 536  Q 1403 409 1656 409  Q 1909 409 2131 539  Q 2353 669 2445 892  Q 2538 1116 2538 1541  L 2538 3319  L 3100 3319  L 3100 0  L 2597 0  z \" id=\"ArialMT-75\" transform=\"scale(0.015625)\" />\n      <path d=\"M 409 0  L 409 4581  L 972 4581  L 972 0  L 409 0  z \" id=\"ArialMT-6c\" transform=\"scale(0.015625)\" />\n      <path d=\"M 422 0  L 422 3319  L 925 3319  L 925 2853  Q 1081 3097 1340 3245  Q 1600 3394 1931 3394  Q 2300 3394 2536 3241  Q 2772 3088 2869 2813  Q 3263 3394 3894 3394  Q 4388 3394 4653 3120  Q 4919 2847 4919 2278  L 4919 0  L 4359 0  L 4359 2091  Q 4359 2428 4304 2576  Q 4250 2725 4106 2815  Q 3963 2906 3769 2906  Q 3419 2906 3187 2673  Q 2956 2441 2956 1928  L 2956 0  L 2394 0  L 2394 2156  Q 2394 2531 2256 2718  Q 2119 2906 1806 2906  Q 1569 2906 1367 2781  Q 1166 2656 1075 2415  Q 984 2175 984 1722  L 984 0  L 422 0  z \" id=\"ArialMT-6d\" transform=\"scale(0.015625)\" />\n      <path d=\"M 2588 409  Q 2275 144 1986 34  Q 1697 -75 1366 -75  Q 819 -75 525 192  Q 231 459 231 875  Q 231 1119 342 1320  Q 453 1522 633 1644  Q 813 1766 1038 1828  Q 1203 1872 1538 1913  Q 2219 1994 2541 2106  Q 2544 2222 2544 2253  Q 2544 2597 2384 2738  Q 2169 2928 1744 2928  Q 1347 2928 1158 2789  Q 969 2650 878 2297  L 328 2372  Q 403 2725 575 2942  Q 747 3159 1072 3276  Q 1397 3394 1825 3394  Q 2250 3394 2515 3294  Q 2781 3194 2906 3042  Q 3031 2891 3081 2659  Q 3109 2516 3109 2141  L 3109 1391  Q 3109 606 3145 398  Q 3181 191 3288 0  L 2700 0  Q 2613 175 2588 409  z M 2541 1666  Q 2234 1541 1622 1453  Q 1275 1403 1131 1340  Q 988 1278 909 1158  Q 831 1038 831 891  Q 831 666 1001 516  Q 1172 366 1500 366  Q 1825 366 2078 508  Q 2331 650 2450 897  Q 2541 1088 2541 1459  L 2541 1666  z M 716 3809  Q 713 4134 894 4328  Q 1072 4522 1350 4522  Q 1544 4522 1878 4353  Q 2063 4259 2172 4259  Q 2272 4259 2325 4314  Q 2378 4369 2400 4531  L 2806 4531  Q 2797 4175 2626 3997  Q 2456 3819 2194 3819  Q 1997 3819 1675 3994  Q 1466 4106 1369 4106  Q 1263 4106 1197 4031  Q 1128 3956 1131 3809  L 716 3809  z \" id=\"ArialMT-e3\" transform=\"scale(0.015625)\" />\n      <path d=\"M 213 1659  Q 213 2581 725 3025  Q 1153 3394 1769 3394  Q 2453 3394 2887 2945  Q 3322 2497 3322 1706  Q 3322 1066 3130 698  Q 2938 331 2570 128  Q 2203 -75 1769 -75  Q 1072 -75 642 372  Q 213 819 213 1659  z M 791 1659  Q 791 1022 1069 705  Q 1347 388 1769 388  Q 2188 388 2466 706  Q 2744 1025 2744 1678  Q 2744 2294 2464 2611  Q 2184 2928 1769 2928  Q 1347 2928 1069 2612  Q 791 2297 791 1659  z \" id=\"ArialMT-6f\" transform=\"scale(0.015625)\" />\n      <path d=\"M 3381 2694  L 356 2694  L 356 3219  L 3381 3219  L 3381 2694  z M 3381 1303  L 356 1303  L 356 1828  L 3381 1828  L 3381 1303  z \" id=\"ArialMT-3d\" transform=\"scale(0.015625)\" />\n      <path d=\"M 2384 0  L 1822 0  L 1822 3584  Q 1619 3391 1289 3197  Q 959 3003 697 2906  L 697 3450  Q 1169 3672 1522 3987  Q 1875 4303 2022 4600  L 2384 4600  L 2384 0  z \" id=\"ArialMT-31\" transform=\"scale(0.015625)\" />\n      <path d=\"M 581 0  L 581 641  L 1222 641  L 1222 0  L 581 0  z \" id=\"ArialMT-2e\" transform=\"scale(0.015625)\" />\n      <path d=\"M 1131 2484  Q 781 2613 612 2850  Q 444 3088 444 3419  Q 444 3919 803 4259  Q 1163 4600 1759 4600  Q 2359 4600 2725 4251  Q 3091 3903 3091 3403  Q 3091 3084 2923 2848  Q 2756 2613 2416 2484  Q 2838 2347 3058 2040  Q 3278 1734 3278 1309  Q 3278 722 2862 322  Q 2447 -78 1769 -78  Q 1091 -78 675 323  Q 259 725 259 1325  Q 259 1772 486 2073  Q 713 2375 1131 2484  z M 1019 3438  Q 1019 3113 1228 2906  Q 1438 2700 1772 2700  Q 2097 2700 2305 2904  Q 2513 3109 2513 3406  Q 2513 3716 2298 3927  Q 2084 4138 1766 4138  Q 1444 4138 1231 3931  Q 1019 3725 1019 3438  z M 838 1322  Q 838 1081 952 856  Q 1066 631 1291 507  Q 1516 384 1775 384  Q 2178 384 2440 643  Q 2703 903 2703 1303  Q 2703 1709 2433 1975  Q 2163 2241 1756 2241  Q 1359 2241 1098 1978  Q 838 1716 838 1322  z \" id=\"ArialMT-38\" transform=\"scale(0.015625)\" />\n      <path d=\"M 303 3981  L 303 4522  L 3269 4522  L 3269 4084  Q 2831 3619 2401 2847  Q 1972 2075 1738 1259  Q 1569 684 1522 0  L 944 0  Q 953 541 1156 1306  Q 1359 2072 1739 2783  Q 2119 3494 2547 3981  L 303 3981  z \" id=\"ArialMT-37\" transform=\"scale(0.015625)\" />\n     </defs>\n     <use xlink:href=\"#ArialMT-4f\" />\n     <use x=\"77.783203\" xlink:href=\"#ArialMT-62\" />\n     <use x=\"133.398438\" xlink:href=\"#ArialMT-74\" />\n     <use x=\"161.181641\" xlink:href=\"#ArialMT-65\" />\n     <use x=\"216.796875\" xlink:href=\"#ArialMT-72\" />\n     <use x=\"250.097656\" xlink:href=\"#ArialMT-20\" />\n     <use x=\"277.880859\" xlink:href=\"#ArialMT-43\" />\n     <use x=\"350.097656\" xlink:href=\"#ArialMT-e2\" />\n     <use x=\"405.712891\" xlink:href=\"#ArialMT-6e\" />\n     <use x=\"461.328125\" xlink:href=\"#ArialMT-63\" />\n     <use x=\"511.328125\" xlink:href=\"#ArialMT-65\" />\n     <use x=\"566.943359\" xlink:href=\"#ArialMT-72\" />\n     <use x=\"600.244141\" xlink:href=\"#ArialMT-20\" />\n     <use x=\"628.027344\" xlink:href=\"#ArialMT-64\" />\n     <use x=\"683.642578\" xlink:href=\"#ArialMT-65\" />\n     <use x=\"739.257812\" xlink:href=\"#ArialMT-20\" />\n     <use x=\"767.041016\" xlink:href=\"#ArialMT-70\" />\n     <use x=\"822.65625\" xlink:href=\"#ArialMT-75\" />\n     <use x=\"878.271484\" xlink:href=\"#ArialMT-6c\" />\n     <use x=\"900.488281\" xlink:href=\"#ArialMT-6d\" />\n     <use x=\"983.789062\" xlink:href=\"#ArialMT-e3\" />\n     <use x=\"1039.404297\" xlink:href=\"#ArialMT-6f\" />\n     <use x=\"1095.019531\" xlink:href=\"#ArialMT-3d\" />\n     <use x=\"1153.417969\" xlink:href=\"#ArialMT-31\" />\n     <use x=\"1209.033203\" xlink:href=\"#ArialMT-2e\" />\n     <use x=\"1236.816406\" xlink:href=\"#ArialMT-38\" />\n     <use x=\"1292.431641\" xlink:href=\"#ArialMT-37\" />\n    </g>\n    \n    <g style=\"fill:#444443;\" transform=\"translate(67.363125 67.179468)scale(0.12 -0.12)\">\n     <defs>\n      <path d=\"M 266 1200  L 856 1250  Q 922 819 1161 601  Q 1400 384 1738 384  Q 2144 384 2425 690  Q 2706 997 2706 1503  Q 2706 1984 2436 2262  Q 2166 2541 1728 2541  Q 1456 2541 1237 2417  Q 1019 2294 894 2097  L 366 2166  L 809 4519  L 3088 4519  L 3088 3981  L 1259 3981  L 1013 2750  Q 1425 3038 1878 3038  Q 2478 3038 2890 2622  Q 3303 2206 3303 1553  Q 3303 931 2941 478  Q 2500 -78 1738 -78  Q 1113 -78 717 272  Q 322 622 266 1200  z \" id=\"ArialMT-35\" transform=\"scale(0.015625)\" />\n     </defs>\n     <use xlink:href=\"#ArialMT-6e\" />\n     <use x=\"55.615234\" xlink:href=\"#ArialMT-3d\" />\n     <use x=\"114.013672\" xlink:href=\"#ArialMT-31\" />\n     <use x=\"169.628906\" xlink:href=\"#ArialMT-35\" />\n    </g>\n   </g>\n  </g>\n </g>\n <defs>\n  <clipPath id=\"p22b21754fd\">\n   <rect height=\"43.488\" width=\"41.85\" x=\"59.452187\" y=\"0.506093\" />\n  </clipPath>\n </defs>\n</svg></g>\n\n<g id=\"edge2\" class=\"edge\">\n<title>node2-&gt;leaf4</title>\n<path fill=\"none\" stroke=\"#444443\" stroke-width=\"0.3\" d=\"M243.42,-76.59C239.97,-72.22 236.47,-67.78 233.08,-63.47\" />\n<polygon fill=\"#444443\" stroke=\"#444443\" stroke-width=\"0.3\" points=\"234.08,-62.48 230.51,-60.2 231.88,-64.21 234.08,-62.48\" />\n</g>\n\n<g id=\"node9\" class=\"node\">\n<title>leaf6</title>\n<polygon fill=\"none\" stroke=\"#444443\" stroke-width=\"0\" points=\"408,-60 279,-60 279,0 408,0 408,-60\" />\n<svg height=\"52px\" version=\"1.1\" viewBox=\"0 0 161.754375 69.564468\" width=\"121px\" preserveAspectRatio=\"xMinYMin meet\" x=\"283.5\" y=\"-56\">\n <metadata>\n  <rdf:RDF>\n   <ns2:Work>\n    <dc:type rdf:resource=\"http://purl.org/dc/dcmitype/StillImage\" />\n    <dc:date>2022-06-06T19:38:45.390428</dc:date>\n    <dc:format>image/svg+xml</dc:format>\n    <dc:creator>\n     <ns2:Agent>\n      <dc:title>Matplotlib v3.4.3, https://matplotlib.org/</dc:title>\n     </ns2:Agent>\n    </dc:creator>\n   </ns2:Work>\n  </rdf:RDF>\n </metadata>\n <defs>\n  <style type=\"text/css\">*{stroke-linecap:butt;stroke-linejoin:round;}</style>\n </defs>\n <g id=\"figure_1\">\n  <g id=\"patch_1\">\n   <path d=\"M 0 69.564468  L 161.754375 69.564468  L 161.754375 -0  L 0 -0  z \" style=\"fill:none;\" />\n  </g>\n  <g id=\"axes_1\">\n   <g id=\"patch_2\">\n    <path d=\"M 59.452187 43.994093  L 101.302188 43.994093  L 101.302188 0.506093  L 59.452187 0.506093  z \" style=\"fill:#ffffff;\" />\n   </g>\n   <g id=\"PathCollection_1\">\n    <defs>\n     <path d=\"M 0 1.118034  C 0.296506 1.118034 0.580908 1.000231 0.790569 0.790569  C 1.000231 0.580908 1.118034 0.296506 1.118034 0  C 1.118034 -0.296506 1.000231 -0.580908 0.790569 -0.790569  C 0.580908 -1.000231 0.296506 -1.118034 0 -1.118034  C -0.296506 -1.118034 -0.580908 -1.000231 -0.790569 -0.790569  C -1.000231 -0.580908 -1.118034 -0.296506 -1.118034 0  C -1.118034 0.296506 -1.000231 0.580908 -0.790569 0.790569  C -0.580908 1.000231 -0.296506 1.118034 0 1.118034  z \" id=\"md1aefc2230\" style=\"stroke:#4575b4;stroke-opacity:0.7;stroke-width:0.3;\" />\n    </defs>\n    <g clip-path=\"url(#p993e320910)\">\n     <use style=\"fill:#4575b4;fill-opacity:0.7;stroke:#4575b4;stroke-opacity:0.7;stroke-width:0.3;\" x=\"79.731887\" xlink:href=\"#md1aefc2230\" y=\"45.260734\" />\n     <use style=\"fill:#4575b4;fill-opacity:0.7;stroke:#4575b4;stroke-opacity:0.7;stroke-width:0.3;\" x=\"78.122569\" xlink:href=\"#md1aefc2230\" y=\"3.039375\" />\n     <use style=\"fill:#4575b4;fill-opacity:0.7;stroke:#4575b4;stroke-opacity:0.7;stroke-width:0.3;\" x=\"78.051975\" xlink:href=\"#md1aefc2230\" y=\"3.039375\" />\n     <use style=\"fill:#4575b4;fill-opacity:0.7;stroke:#4575b4;stroke-opacity:0.7;stroke-width:0.3;\" x=\"81.453775\" xlink:href=\"#md1aefc2230\" y=\"45.260734\" />\n     <use style=\"fill:#4575b4;fill-opacity:0.7;stroke:#4575b4;stroke-opacity:0.7;stroke-width:0.3;\" x=\"81.061035\" xlink:href=\"#md1aefc2230\" y=\"3.039375\" />\n     <use style=\"fill:#4575b4;fill-opacity:0.7;stroke:#4575b4;stroke-opacity:0.7;stroke-width:0.3;\" x=\"82.147475\" xlink:href=\"#md1aefc2230\" y=\"3.039375\" />\n     <use style=\"fill:#4575b4;fill-opacity:0.7;stroke:#4575b4;stroke-opacity:0.7;stroke-width:0.3;\" x=\"85.439218\" xlink:href=\"#md1aefc2230\" y=\"3.039375\" />\n     <use style=\"fill:#4575b4;fill-opacity:0.7;stroke:#4575b4;stroke-opacity:0.7;stroke-width:0.3;\" x=\"76.687569\" xlink:href=\"#md1aefc2230\" y=\"3.039375\" />\n     <use style=\"fill:#4575b4;fill-opacity:0.7;stroke:#4575b4;stroke-opacity:0.7;stroke-width:0.3;\" x=\"78.333009\" xlink:href=\"#md1aefc2230\" y=\"3.039375\" />\n     <use style=\"fill:#4575b4;fill-opacity:0.7;stroke:#4575b4;stroke-opacity:0.7;stroke-width:0.3;\" x=\"79.690988\" xlink:href=\"#md1aefc2230\" y=\"3.039375\" />\n     <use style=\"fill:#4575b4;fill-opacity:0.7;stroke:#4575b4;stroke-opacity:0.7;stroke-width:0.3;\" x=\"82.30162\" xlink:href=\"#md1aefc2230\" y=\"3.039375\" />\n     <use style=\"fill:#4575b4;fill-opacity:0.7;stroke:#4575b4;stroke-opacity:0.7;stroke-width:0.3;\" x=\"81.118162\" xlink:href=\"#md1aefc2230\" y=\"3.039375\" />\n     <use style=\"fill:#4575b4;fill-opacity:0.7;stroke:#4575b4;stroke-opacity:0.7;stroke-width:0.3;\" x=\"79.933284\" xlink:href=\"#md1aefc2230\" y=\"45.260734\" />\n     <use style=\"fill:#4575b4;fill-opacity:0.7;stroke:#4575b4;stroke-opacity:0.7;stroke-width:0.3;\" x=\"76.05082\" xlink:href=\"#md1aefc2230\" y=\"3.039375\" />\n     <use style=\"fill:#4575b4;fill-opacity:0.7;stroke:#4575b4;stroke-opacity:0.7;stroke-width:0.3;\" x=\"80.450897\" xlink:href=\"#md1aefc2230\" y=\"45.260734\" />\n     <use style=\"fill:#4575b4;fill-opacity:0.7;stroke:#4575b4;stroke-opacity:0.7;stroke-width:0.3;\" x=\"80.252818\" xlink:href=\"#md1aefc2230\" y=\"3.039375\" />\n     <use style=\"fill:#4575b4;fill-opacity:0.7;stroke:#4575b4;stroke-opacity:0.7;stroke-width:0.3;\" x=\"81.196368\" xlink:href=\"#md1aefc2230\" y=\"3.039375\" />\n     <use style=\"fill:#4575b4;fill-opacity:0.7;stroke:#4575b4;stroke-opacity:0.7;stroke-width:0.3;\" x=\"81.404519\" xlink:href=\"#md1aefc2230\" y=\"3.039375\" />\n     <use style=\"fill:#4575b4;fill-opacity:0.7;stroke:#4575b4;stroke-opacity:0.7;stroke-width:0.3;\" x=\"85.117536\" xlink:href=\"#md1aefc2230\" y=\"3.039375\" />\n    </g>\n   </g>\n   <g id=\"matplotlib.axis_1\" />\n   <g id=\"matplotlib.axis_2\">\n    <g id=\"ytick_1\">\n     <g id=\"line2d_1\">\n      <defs>\n       <path d=\"M 0 0  L -3.5 0  \" id=\"mcace1ba29f\" style=\"stroke:#444443;stroke-width:0.3;\" />\n      </defs>\n      <g>\n       <use style=\"fill:#444443;stroke:#444443;stroke-width:0.3;\" x=\"59.452187\" xlink:href=\"#mcace1ba29f\" y=\"24.150055\" />\n      </g>\n     </g>\n     <g id=\"text_1\">\n      \n      <g style=\"fill:#444443;\" transform=\"translate(39.729687 27.18943)scale(0.08 -0.08)\">\n       <defs>\n        <path d=\"M 794 531  L 1825 531  L 1825 4091  L 703 3866  L 703 4441  L 1819 4666  L 2450 4666  L 2450 531  L 3481 531  L 3481 0  L 794 0  L 794 531  z \" id=\"DejaVuSans-31\" transform=\"scale(0.015625)\" />\n        <path d=\"M 684 794  L 1344 794  L 1344 0  L 684 0  L 684 794  z \" id=\"DejaVuSans-2e\" transform=\"scale(0.015625)\" />\n        <path d=\"M 691 4666  L 3169 4666  L 3169 4134  L 1269 4134  L 1269 2991  Q 1406 3038 1543 3061  Q 1681 3084 1819 3084  Q 2600 3084 3056 2656  Q 3513 2228 3513 1497  Q 3513 744 3044 326  Q 2575 -91 1722 -91  Q 1428 -91 1123 -41  Q 819 9 494 109  L 494 744  Q 775 591 1075 516  Q 1375 441 1709 441  Q 2250 441 2565 725  Q 2881 1009 2881 1497  Q 2881 1984 2565 2268  Q 2250 2553 1709 2553  Q 1456 2553 1204 2497  Q 953 2441 691 2322  L 691 4666  z \" id=\"DejaVuSans-35\" transform=\"scale(0.015625)\" />\n       </defs>\n       <use xlink:href=\"#DejaVuSans-31\" />\n       <use x=\"63.623047\" xlink:href=\"#DejaVuSans-2e\" />\n       <use x=\"95.410156\" xlink:href=\"#DejaVuSans-35\" />\n      </g>\n     </g>\n    </g>\n    <g id=\"ytick_2\">\n     <g id=\"line2d_2\">\n      <g>\n       <use style=\"fill:#444443;stroke:#444443;stroke-width:0.3;\" x=\"59.452187\" xlink:href=\"#mcace1ba29f\" y=\"3.039375\" />\n      </g>\n     </g>\n     <g id=\"text_2\">\n      \n      <g style=\"fill:#444443;\" transform=\"translate(39.729687 6.07875)scale(0.08 -0.08)\">\n       <defs>\n        <path d=\"M 1228 531  L 3431 531  L 3431 0  L 469 0  L 469 531  Q 828 903 1448 1529  Q 2069 2156 2228 2338  Q 2531 2678 2651 2914  Q 2772 3150 2772 3378  Q 2772 3750 2511 3984  Q 2250 4219 1831 4219  Q 1534 4219 1204 4116  Q 875 4013 500 3803  L 500 4441  Q 881 4594 1212 4672  Q 1544 4750 1819 4750  Q 2544 4750 2975 4387  Q 3406 4025 3406 3419  Q 3406 3131 3298 2873  Q 3191 2616 2906 2266  Q 2828 2175 2409 1742  Q 1991 1309 1228 531  z \" id=\"DejaVuSans-32\" transform=\"scale(0.015625)\" />\n        <path d=\"M 2034 4250  Q 1547 4250 1301 3770  Q 1056 3291 1056 2328  Q 1056 1369 1301 889  Q 1547 409 2034 409  Q 2525 409 2770 889  Q 3016 1369 3016 2328  Q 3016 3291 2770 3770  Q 2525 4250 2034 4250  z M 2034 4750  Q 2819 4750 3233 4129  Q 3647 3509 3647 2328  Q 3647 1150 3233 529  Q 2819 -91 2034 -91  Q 1250 -91 836 529  Q 422 1150 422 2328  Q 422 3509 836 4129  Q 1250 4750 2034 4750  z \" id=\"DejaVuSans-30\" transform=\"scale(0.015625)\" />\n       </defs>\n       <use xlink:href=\"#DejaVuSans-32\" />\n       <use x=\"63.623047\" xlink:href=\"#DejaVuSans-2e\" />\n       <use x=\"95.410156\" xlink:href=\"#DejaVuSans-30\" />\n      </g>\n     </g>\n    </g>\n   </g>\n   <g id=\"line2d_3\">\n    <path clip-path=\"url(#p993e320910)\" d=\"M 59.452187 11.928082  L 162.754375 11.928082  \" style=\"fill:none;stroke:#444443;stroke-dasharray:3.7,1.6;stroke-dashoffset:0;\" />\n   </g>\n   <g id=\"patch_3\">\n    <path d=\"M 59.452187 43.994093  L 59.452187 0.506093  \" style=\"fill:none;stroke:#000000;stroke-linecap:square;stroke-linejoin:miter;stroke-width:0.3;\" />\n   </g>\n   <g id=\"text_3\">\n    \n    <g style=\"fill:#444443;\" transform=\"translate(0 54.487218)scale(0.12 -0.12)\">\n     <defs>\n      <path d=\"M 309 2231  Q 309 3372 921 4017  Q 1534 4663 2503 4663  Q 3138 4663 3647 4359  Q 4156 4056 4423 3514  Q 4691 2972 4691 2284  Q 4691 1588 4409 1038  Q 4128 488 3612 205  Q 3097 -78 2500 -78  Q 1853 -78 1343 234  Q 834 547 571 1087  Q 309 1628 309 2231  z M 934 2222  Q 934 1394 1379 917  Q 1825 441 2497 441  Q 3181 441 3623 922  Q 4066 1403 4066 2288  Q 4066 2847 3877 3264  Q 3688 3681 3323 3911  Q 2959 4141 2506 4141  Q 1863 4141 1398 3698  Q 934 3256 934 2222  z \" id=\"ArialMT-4f\" transform=\"scale(0.015625)\" />\n      <path d=\"M 941 0  L 419 0  L 419 4581  L 981 4581  L 981 2947  Q 1338 3394 1891 3394  Q 2197 3394 2470 3270  Q 2744 3147 2920 2923  Q 3097 2700 3197 2384  Q 3297 2069 3297 1709  Q 3297 856 2875 390  Q 2453 -75 1863 -75  Q 1275 -75 941 416  L 941 0  z M 934 1684  Q 934 1088 1097 822  Q 1363 388 1816 388  Q 2184 388 2453 708  Q 2722 1028 2722 1663  Q 2722 2313 2464 2622  Q 2206 2931 1841 2931  Q 1472 2931 1203 2611  Q 934 2291 934 1684  z \" id=\"ArialMT-62\" transform=\"scale(0.015625)\" />\n      <path d=\"M 1650 503  L 1731 6  Q 1494 -44 1306 -44  Q 1000 -44 831 53  Q 663 150 594 308  Q 525 466 525 972  L 525 2881  L 113 2881  L 113 3319  L 525 3319  L 525 4141  L 1084 4478  L 1084 3319  L 1650 3319  L 1650 2881  L 1084 2881  L 1084 941  Q 1084 700 1114 631  Q 1144 563 1211 522  Q 1278 481 1403 481  Q 1497 481 1650 503  z \" id=\"ArialMT-74\" transform=\"scale(0.015625)\" />\n      <path d=\"M 2694 1069  L 3275 997  Q 3138 488 2766 206  Q 2394 -75 1816 -75  Q 1088 -75 661 373  Q 234 822 234 1631  Q 234 2469 665 2931  Q 1097 3394 1784 3394  Q 2450 3394 2872 2941  Q 3294 2488 3294 1666  Q 3294 1616 3291 1516  L 816 1516  Q 847 969 1125 678  Q 1403 388 1819 388  Q 2128 388 2347 550  Q 2566 713 2694 1069  z M 847 1978  L 2700 1978  Q 2663 2397 2488 2606  Q 2219 2931 1791 2931  Q 1403 2931 1139 2672  Q 875 2413 847 1978  z \" id=\"ArialMT-65\" transform=\"scale(0.015625)\" />\n      <path d=\"M 416 0  L 416 3319  L 922 3319  L 922 2816  Q 1116 3169 1280 3281  Q 1444 3394 1641 3394  Q 1925 3394 2219 3213  L 2025 2691  Q 1819 2813 1613 2813  Q 1428 2813 1281 2702  Q 1134 2591 1072 2394  Q 978 2094 978 1738  L 978 0  L 416 0  z \" id=\"ArialMT-72\" transform=\"scale(0.015625)\" />\n      <path id=\"ArialMT-20\" transform=\"scale(0.015625)\" />\n      <path d=\"M 3763 1606  L 4369 1453  Q 4178 706 3683 314  Q 3188 -78 2472 -78  Q 1731 -78 1267 223  Q 803 525 561 1097  Q 319 1669 319 2325  Q 319 3041 592 3573  Q 866 4106 1370 4382  Q 1875 4659 2481 4659  Q 3169 4659 3637 4309  Q 4106 3959 4291 3325  L 3694 3184  Q 3534 3684 3231 3912  Q 2928 4141 2469 4141  Q 1941 4141 1586 3887  Q 1231 3634 1087 3207  Q 944 2781 944 2328  Q 944 1744 1114 1308  Q 1284 872 1643 656  Q 2003 441 2422 441  Q 2931 441 3284 734  Q 3638 1028 3763 1606  z \" id=\"ArialMT-43\" transform=\"scale(0.015625)\" />\n      <path d=\"M 2588 409  Q 2275 144 1986 34  Q 1697 -75 1366 -75  Q 819 -75 525 192  Q 231 459 231 875  Q 231 1119 342 1320  Q 453 1522 633 1644  Q 813 1766 1038 1828  Q 1203 1872 1538 1913  Q 2219 1994 2541 2106  Q 2544 2222 2544 2253  Q 2544 2597 2384 2738  Q 2169 2928 1744 2928  Q 1347 2928 1158 2789  Q 969 2650 878 2297  L 328 2372  Q 403 2725 575 2942  Q 747 3159 1072 3276  Q 1397 3394 1825 3394  Q 2250 3394 2515 3294  Q 2781 3194 2906 3042  Q 3031 2891 3081 2659  Q 3109 2516 3109 2141  L 3109 1391  Q 3109 606 3145 398  Q 3181 191 3288 0  L 2700 0  Q 2613 175 2588 409  z M 2541 1666  Q 2234 1541 1622 1453  Q 1275 1403 1131 1340  Q 988 1278 909 1158  Q 831 1038 831 891  Q 831 666 1001 516  Q 1172 366 1500 366  Q 1825 366 2078 508  Q 2331 650 2450 897  Q 2541 1088 2541 1459  L 2541 1666  z M 1769 4263  L 1416 3731  L 772 3731  L 1447 4606  L 2047 4606  L 2750 3731  L 2113 3731  L 1769 4263  z \" id=\"ArialMT-e2\" transform=\"scale(0.015625)\" />\n      <path d=\"M 422 0  L 422 3319  L 928 3319  L 928 2847  Q 1294 3394 1984 3394  Q 2284 3394 2536 3286  Q 2788 3178 2913 3003  Q 3038 2828 3088 2588  Q 3119 2431 3119 2041  L 3119 0  L 2556 0  L 2556 2019  Q 2556 2363 2490 2533  Q 2425 2703 2258 2804  Q 2091 2906 1866 2906  Q 1506 2906 1245 2678  Q 984 2450 984 1813  L 984 0  L 422 0  z \" id=\"ArialMT-6e\" transform=\"scale(0.015625)\" />\n      <path d=\"M 2588 1216  L 3141 1144  Q 3050 572 2676 248  Q 2303 -75 1759 -75  Q 1078 -75 664 370  Q 250 816 250 1647  Q 250 2184 428 2587  Q 606 2991 970 3192  Q 1334 3394 1763 3394  Q 2303 3394 2647 3120  Q 2991 2847 3088 2344  L 2541 2259  Q 2463 2594 2264 2762  Q 2066 2931 1784 2931  Q 1359 2931 1093 2626  Q 828 2322 828 1663  Q 828 994 1084 691  Q 1341 388 1753 388  Q 2084 388 2306 591  Q 2528 794 2588 1216  z \" id=\"ArialMT-63\" transform=\"scale(0.015625)\" />\n      <path d=\"M 2575 0  L 2575 419  Q 2259 -75 1647 -75  Q 1250 -75 917 144  Q 584 363 401 755  Q 219 1147 219 1656  Q 219 2153 384 2558  Q 550 2963 881 3178  Q 1213 3394 1622 3394  Q 1922 3394 2156 3267  Q 2391 3141 2538 2938  L 2538 4581  L 3097 4581  L 3097 0  L 2575 0  z M 797 1656  Q 797 1019 1065 703  Q 1334 388 1700 388  Q 2069 388 2326 689  Q 2584 991 2584 1609  Q 2584 2291 2321 2609  Q 2059 2928 1675 2928  Q 1300 2928 1048 2622  Q 797 2316 797 1656  z \" id=\"ArialMT-64\" transform=\"scale(0.015625)\" />\n      <path d=\"M 422 -1272  L 422 3319  L 934 3319  L 934 2888  Q 1116 3141 1344 3267  Q 1572 3394 1897 3394  Q 2322 3394 2647 3175  Q 2972 2956 3137 2557  Q 3303 2159 3303 1684  Q 3303 1175 3120 767  Q 2938 359 2589 142  Q 2241 -75 1856 -75  Q 1575 -75 1351 44  Q 1128 163 984 344  L 984 -1272  L 422 -1272  z M 931 1641  Q 931 1000 1190 694  Q 1450 388 1819 388  Q 2194 388 2461 705  Q 2728 1022 2728 1688  Q 2728 2322 2467 2637  Q 2206 2953 1844 2953  Q 1484 2953 1207 2617  Q 931 2281 931 1641  z \" id=\"ArialMT-70\" transform=\"scale(0.015625)\" />\n      <path d=\"M 2597 0  L 2597 488  Q 2209 -75 1544 -75  Q 1250 -75 995 37  Q 741 150 617 320  Q 494 491 444 738  Q 409 903 409 1263  L 409 3319  L 972 3319  L 972 1478  Q 972 1038 1006 884  Q 1059 663 1231 536  Q 1403 409 1656 409  Q 1909 409 2131 539  Q 2353 669 2445 892  Q 2538 1116 2538 1541  L 2538 3319  L 3100 3319  L 3100 0  L 2597 0  z \" id=\"ArialMT-75\" transform=\"scale(0.015625)\" />\n      <path d=\"M 409 0  L 409 4581  L 972 4581  L 972 0  L 409 0  z \" id=\"ArialMT-6c\" transform=\"scale(0.015625)\" />\n      <path d=\"M 422 0  L 422 3319  L 925 3319  L 925 2853  Q 1081 3097 1340 3245  Q 1600 3394 1931 3394  Q 2300 3394 2536 3241  Q 2772 3088 2869 2813  Q 3263 3394 3894 3394  Q 4388 3394 4653 3120  Q 4919 2847 4919 2278  L 4919 0  L 4359 0  L 4359 2091  Q 4359 2428 4304 2576  Q 4250 2725 4106 2815  Q 3963 2906 3769 2906  Q 3419 2906 3187 2673  Q 2956 2441 2956 1928  L 2956 0  L 2394 0  L 2394 2156  Q 2394 2531 2256 2718  Q 2119 2906 1806 2906  Q 1569 2906 1367 2781  Q 1166 2656 1075 2415  Q 984 2175 984 1722  L 984 0  L 422 0  z \" id=\"ArialMT-6d\" transform=\"scale(0.015625)\" />\n      <path d=\"M 2588 409  Q 2275 144 1986 34  Q 1697 -75 1366 -75  Q 819 -75 525 192  Q 231 459 231 875  Q 231 1119 342 1320  Q 453 1522 633 1644  Q 813 1766 1038 1828  Q 1203 1872 1538 1913  Q 2219 1994 2541 2106  Q 2544 2222 2544 2253  Q 2544 2597 2384 2738  Q 2169 2928 1744 2928  Q 1347 2928 1158 2789  Q 969 2650 878 2297  L 328 2372  Q 403 2725 575 2942  Q 747 3159 1072 3276  Q 1397 3394 1825 3394  Q 2250 3394 2515 3294  Q 2781 3194 2906 3042  Q 3031 2891 3081 2659  Q 3109 2516 3109 2141  L 3109 1391  Q 3109 606 3145 398  Q 3181 191 3288 0  L 2700 0  Q 2613 175 2588 409  z M 2541 1666  Q 2234 1541 1622 1453  Q 1275 1403 1131 1340  Q 988 1278 909 1158  Q 831 1038 831 891  Q 831 666 1001 516  Q 1172 366 1500 366  Q 1825 366 2078 508  Q 2331 650 2450 897  Q 2541 1088 2541 1459  L 2541 1666  z M 716 3809  Q 713 4134 894 4328  Q 1072 4522 1350 4522  Q 1544 4522 1878 4353  Q 2063 4259 2172 4259  Q 2272 4259 2325 4314  Q 2378 4369 2400 4531  L 2806 4531  Q 2797 4175 2626 3997  Q 2456 3819 2194 3819  Q 1997 3819 1675 3994  Q 1466 4106 1369 4106  Q 1263 4106 1197 4031  Q 1128 3956 1131 3809  L 716 3809  z \" id=\"ArialMT-e3\" transform=\"scale(0.015625)\" />\n      <path d=\"M 213 1659  Q 213 2581 725 3025  Q 1153 3394 1769 3394  Q 2453 3394 2887 2945  Q 3322 2497 3322 1706  Q 3322 1066 3130 698  Q 2938 331 2570 128  Q 2203 -75 1769 -75  Q 1072 -75 642 372  Q 213 819 213 1659  z M 791 1659  Q 791 1022 1069 705  Q 1347 388 1769 388  Q 2188 388 2466 706  Q 2744 1025 2744 1678  Q 2744 2294 2464 2611  Q 2184 2928 1769 2928  Q 1347 2928 1069 2612  Q 791 2297 791 1659  z \" id=\"ArialMT-6f\" transform=\"scale(0.015625)\" />\n      <path d=\"M 3381 2694  L 356 2694  L 356 3219  L 3381 3219  L 3381 2694  z M 3381 1303  L 356 1303  L 356 1828  L 3381 1828  L 3381 1303  z \" id=\"ArialMT-3d\" transform=\"scale(0.015625)\" />\n      <path d=\"M 2384 0  L 1822 0  L 1822 3584  Q 1619 3391 1289 3197  Q 959 3003 697 2906  L 697 3450  Q 1169 3672 1522 3987  Q 1875 4303 2022 4600  L 2384 4600  L 2384 0  z \" id=\"ArialMT-31\" transform=\"scale(0.015625)\" />\n      <path d=\"M 581 0  L 581 641  L 1222 641  L 1222 0  L 581 0  z \" id=\"ArialMT-2e\" transform=\"scale(0.015625)\" />\n      <path d=\"M 303 3981  L 303 4522  L 3269 4522  L 3269 4084  Q 2831 3619 2401 2847  Q 1972 2075 1738 1259  Q 1569 684 1522 0  L 944 0  Q 953 541 1156 1306  Q 1359 2072 1739 2783  Q 2119 3494 2547 3981  L 303 3981  z \" id=\"ArialMT-37\" transform=\"scale(0.015625)\" />\n      <path d=\"M 350 1059  L 891 1109  Q 959 728 1153 556  Q 1347 384 1650 384  Q 1909 384 2104 503  Q 2300 622 2425 820  Q 2550 1019 2634 1356  Q 2719 1694 2719 2044  Q 2719 2081 2716 2156  Q 2547 1888 2255 1720  Q 1963 1553 1622 1553  Q 1053 1553 659 1965  Q 266 2378 266 3053  Q 266 3750 677 4175  Q 1088 4600 1706 4600  Q 2153 4600 2523 4359  Q 2894 4119 3086 3673  Q 3278 3228 3278 2384  Q 3278 1506 3087 986  Q 2897 466 2520 194  Q 2144 -78 1638 -78  Q 1100 -78 759 220  Q 419 519 350 1059  z M 2653 3081  Q 2653 3566 2395 3850  Q 2138 4134 1775 4134  Q 1400 4134 1122 3828  Q 844 3522 844 3034  Q 844 2597 1108 2323  Q 1372 2050 1759 2050  Q 2150 2050 2401 2323  Q 2653 2597 2653 3081  z \" id=\"ArialMT-39\" transform=\"scale(0.015625)\" />\n     </defs>\n     <use xlink:href=\"#ArialMT-4f\" />\n     <use x=\"77.783203\" xlink:href=\"#ArialMT-62\" />\n     <use x=\"133.398438\" xlink:href=\"#ArialMT-74\" />\n     <use x=\"161.181641\" xlink:href=\"#ArialMT-65\" />\n     <use x=\"216.796875\" xlink:href=\"#ArialMT-72\" />\n     <use x=\"250.097656\" xlink:href=\"#ArialMT-20\" />\n     <use x=\"277.880859\" xlink:href=\"#ArialMT-43\" />\n     <use x=\"350.097656\" xlink:href=\"#ArialMT-e2\" />\n     <use x=\"405.712891\" xlink:href=\"#ArialMT-6e\" />\n     <use x=\"461.328125\" xlink:href=\"#ArialMT-63\" />\n     <use x=\"511.328125\" xlink:href=\"#ArialMT-65\" />\n     <use x=\"566.943359\" xlink:href=\"#ArialMT-72\" />\n     <use x=\"600.244141\" xlink:href=\"#ArialMT-20\" />\n     <use x=\"628.027344\" xlink:href=\"#ArialMT-64\" />\n     <use x=\"683.642578\" xlink:href=\"#ArialMT-65\" />\n     <use x=\"739.257812\" xlink:href=\"#ArialMT-20\" />\n     <use x=\"767.041016\" xlink:href=\"#ArialMT-70\" />\n     <use x=\"822.65625\" xlink:href=\"#ArialMT-75\" />\n     <use x=\"878.271484\" xlink:href=\"#ArialMT-6c\" />\n     <use x=\"900.488281\" xlink:href=\"#ArialMT-6d\" />\n     <use x=\"983.789062\" xlink:href=\"#ArialMT-e3\" />\n     <use x=\"1039.404297\" xlink:href=\"#ArialMT-6f\" />\n     <use x=\"1095.019531\" xlink:href=\"#ArialMT-3d\" />\n     <use x=\"1153.417969\" xlink:href=\"#ArialMT-31\" />\n     <use x=\"1209.033203\" xlink:href=\"#ArialMT-2e\" />\n     <use x=\"1236.816406\" xlink:href=\"#ArialMT-37\" />\n     <use x=\"1292.431641\" xlink:href=\"#ArialMT-39\" />\n    </g>\n    \n    <g style=\"fill:#444443;\" transform=\"translate(67.363125 67.179468)scale(0.12 -0.12)\">\n     <use xlink:href=\"#ArialMT-6e\" />\n     <use x=\"55.615234\" xlink:href=\"#ArialMT-3d\" />\n     <use x=\"114.013672\" xlink:href=\"#ArialMT-31\" />\n     <use x=\"169.628906\" xlink:href=\"#ArialMT-39\" />\n    </g>\n   </g>\n  </g>\n </g>\n <defs>\n  <clipPath id=\"p993e320910\">\n   <rect height=\"43.488\" width=\"41.85\" x=\"59.452187\" y=\"0.506093\" />\n  </clipPath>\n </defs>\n</svg></g>\n\n<g id=\"edge4\" class=\"edge\">\n<title>node5-&gt;leaf6</title>\n<path fill=\"none\" stroke=\"#444443\" stroke-width=\"0.3\" d=\"M402.39,-76.83C396.32,-72.11 390.16,-67.31 384.21,-62.68\" />\n<polygon fill=\"#444443\" stroke=\"#444443\" stroke-width=\"0.3\" points=\"384.94,-61.48 380.92,-60.13 383.22,-63.69 384.94,-61.48\" />\n</g>\n\n<g id=\"node10\" class=\"node\">\n<title>leaf7</title>\n<polygon fill=\"none\" stroke=\"#444443\" stroke-width=\"0\" points=\"551,-60 422,-60 422,0 551,0 551,-60\" />\n<svg height=\"52px\" version=\"1.1\" viewBox=\"0 0 161.754375 69.564468\" width=\"121px\" preserveAspectRatio=\"xMinYMin meet\" x=\"426.5\" y=\"-56\">\n <metadata>\n  <rdf:RDF>\n   <ns2:Work>\n    <dc:type rdf:resource=\"http://purl.org/dc/dcmitype/StillImage\" />\n    <dc:date>2022-06-06T19:38:45.546411</dc:date>\n    <dc:format>image/svg+xml</dc:format>\n    <dc:creator>\n     <ns2:Agent>\n      <dc:title>Matplotlib v3.4.3, https://matplotlib.org/</dc:title>\n     </ns2:Agent>\n    </dc:creator>\n   </ns2:Work>\n  </rdf:RDF>\n </metadata>\n <defs>\n  <style type=\"text/css\">*{stroke-linecap:butt;stroke-linejoin:round;}</style>\n </defs>\n <g id=\"figure_1\">\n  <g id=\"patch_1\">\n   <path d=\"M 0 69.564468  L 161.754375 69.564468  L 161.754375 -0  L 0 -0  z \" style=\"fill:none;\" />\n  </g>\n  <g id=\"axes_1\">\n   <g id=\"patch_2\">\n    <path d=\"M 59.452187 43.994093  L 101.302188 43.994093  L 101.302188 0.506093  L 59.452187 0.506093  z \" style=\"fill:#ffffff;\" />\n   </g>\n   <g id=\"PathCollection_1\">\n    <defs>\n     <path d=\"M 0 1.118034  C 0.296506 1.118034 0.580908 1.000231 0.790569 0.790569  C 1.000231 0.580908 1.118034 0.296506 1.118034 0  C 1.118034 -0.296506 1.000231 -0.580908 0.790569 -0.790569  C 0.580908 -1.000231 0.296506 -1.118034 0 -1.118034  C -0.296506 -1.118034 -0.580908 -1.000231 -0.790569 -0.790569  C -1.000231 -0.580908 -1.118034 -0.296506 -1.118034 0  C -1.118034 0.296506 -1.000231 0.580908 -0.790569 0.790569  C -0.580908 1.000231 -0.296506 1.118034 0 1.118034  z \" id=\"m4b650a8a25\" style=\"stroke:#4575b4;stroke-opacity:0.7;stroke-width:0.3;\" />\n    </defs>\n    <g clip-path=\"url(#p60eb49f15a)\">\n     <use style=\"fill:#4575b4;fill-opacity:0.7;stroke:#4575b4;stroke-opacity:0.7;stroke-width:0.3;\" x=\"74.611555\" xlink:href=\"#m4b650a8a25\" y=\"3.039375\" />\n     <use style=\"fill:#4575b4;fill-opacity:0.7;stroke:#4575b4;stroke-opacity:0.7;stroke-width:0.3;\" x=\"82.208001\" xlink:href=\"#m4b650a8a25\" y=\"3.039375\" />\n     <use style=\"fill:#4575b4;fill-opacity:0.7;stroke:#4575b4;stroke-opacity:0.7;stroke-width:0.3;\" x=\"80.787026\" xlink:href=\"#m4b650a8a25\" y=\"3.039375\" />\n     <use style=\"fill:#4575b4;fill-opacity:0.7;stroke:#4575b4;stroke-opacity:0.7;stroke-width:0.3;\" x=\"78.631469\" xlink:href=\"#m4b650a8a25\" y=\"3.039375\" />\n     <use style=\"fill:#4575b4;fill-opacity:0.7;stroke:#4575b4;stroke-opacity:0.7;stroke-width:0.3;\" x=\"85.509162\" xlink:href=\"#m4b650a8a25\" y=\"3.039375\" />\n     <use style=\"fill:#4575b4;fill-opacity:0.7;stroke:#4575b4;stroke-opacity:0.7;stroke-width:0.3;\" x=\"78.938103\" xlink:href=\"#m4b650a8a25\" y=\"3.039375\" />\n     <use style=\"fill:#4575b4;fill-opacity:0.7;stroke:#4575b4;stroke-opacity:0.7;stroke-width:0.3;\" x=\"80.265388\" xlink:href=\"#m4b650a8a25\" y=\"3.039375\" />\n     <use style=\"fill:#4575b4;fill-opacity:0.7;stroke:#4575b4;stroke-opacity:0.7;stroke-width:0.3;\" x=\"80.972027\" xlink:href=\"#m4b650a8a25\" y=\"3.039375\" />\n     <use style=\"fill:#4575b4;fill-opacity:0.7;stroke:#4575b4;stroke-opacity:0.7;stroke-width:0.3;\" x=\"78.689132\" xlink:href=\"#m4b650a8a25\" y=\"3.039375\" />\n     <use style=\"fill:#4575b4;fill-opacity:0.7;stroke:#4575b4;stroke-opacity:0.7;stroke-width:0.3;\" x=\"79.524789\" xlink:href=\"#m4b650a8a25\" y=\"3.039375\" />\n     <use style=\"fill:#4575b4;fill-opacity:0.7;stroke:#4575b4;stroke-opacity:0.7;stroke-width:0.3;\" x=\"76.937497\" xlink:href=\"#m4b650a8a25\" y=\"3.039375\" />\n     <use style=\"fill:#4575b4;fill-opacity:0.7;stroke:#4575b4;stroke-opacity:0.7;stroke-width:0.3;\" x=\"80.263572\" xlink:href=\"#m4b650a8a25\" y=\"3.039375\" />\n     <use style=\"fill:#4575b4;fill-opacity:0.7;stroke:#4575b4;stroke-opacity:0.7;stroke-width:0.3;\" x=\"77.411621\" xlink:href=\"#m4b650a8a25\" y=\"3.039375\" />\n     <use style=\"fill:#4575b4;fill-opacity:0.7;stroke:#4575b4;stroke-opacity:0.7;stroke-width:0.3;\" x=\"79.021481\" xlink:href=\"#m4b650a8a25\" y=\"3.039375\" />\n     <use style=\"fill:#4575b4;fill-opacity:0.7;stroke:#4575b4;stroke-opacity:0.7;stroke-width:0.3;\" x=\"78.969773\" xlink:href=\"#m4b650a8a25\" y=\"3.039375\" />\n     <use style=\"fill:#4575b4;fill-opacity:0.7;stroke:#4575b4;stroke-opacity:0.7;stroke-width:0.3;\" x=\"81.537457\" xlink:href=\"#m4b650a8a25\" y=\"3.039375\" />\n     <use style=\"fill:#4575b4;fill-opacity:0.7;stroke:#4575b4;stroke-opacity:0.7;stroke-width:0.3;\" x=\"79.163389\" xlink:href=\"#m4b650a8a25\" y=\"3.039375\" />\n     <use style=\"fill:#4575b4;fill-opacity:0.7;stroke:#4575b4;stroke-opacity:0.7;stroke-width:0.3;\" x=\"79.41268\" xlink:href=\"#m4b650a8a25\" y=\"3.039375\" />\n     <use style=\"fill:#4575b4;fill-opacity:0.7;stroke:#4575b4;stroke-opacity:0.7;stroke-width:0.3;\" x=\"76.210828\" xlink:href=\"#m4b650a8a25\" y=\"3.039375\" />\n     <use style=\"fill:#4575b4;fill-opacity:0.7;stroke:#4575b4;stroke-opacity:0.7;stroke-width:0.3;\" x=\"82.914171\" xlink:href=\"#m4b650a8a25\" y=\"3.039375\" />\n     <use style=\"fill:#4575b4;fill-opacity:0.7;stroke:#4575b4;stroke-opacity:0.7;stroke-width:0.3;\" x=\"80.981337\" xlink:href=\"#m4b650a8a25\" y=\"3.039375\" />\n     <use style=\"fill:#4575b4;fill-opacity:0.7;stroke:#4575b4;stroke-opacity:0.7;stroke-width:0.3;\" x=\"80.385757\" xlink:href=\"#m4b650a8a25\" y=\"3.039375\" />\n     <use style=\"fill:#4575b4;fill-opacity:0.7;stroke:#4575b4;stroke-opacity:0.7;stroke-width:0.3;\" x=\"83.067312\" xlink:href=\"#m4b650a8a25\" y=\"3.039375\" />\n     <use style=\"fill:#4575b4;fill-opacity:0.7;stroke:#4575b4;stroke-opacity:0.7;stroke-width:0.3;\" x=\"82.40543\" xlink:href=\"#m4b650a8a25\" y=\"3.039375\" />\n     <use style=\"fill:#4575b4;fill-opacity:0.7;stroke:#4575b4;stroke-opacity:0.7;stroke-width:0.3;\" x=\"76.75651\" xlink:href=\"#m4b650a8a25\" y=\"3.039375\" />\n     <use style=\"fill:#4575b4;fill-opacity:0.7;stroke:#4575b4;stroke-opacity:0.7;stroke-width:0.3;\" x=\"79.876876\" xlink:href=\"#m4b650a8a25\" y=\"3.039375\" />\n     <use style=\"fill:#4575b4;fill-opacity:0.7;stroke:#4575b4;stroke-opacity:0.7;stroke-width:0.3;\" x=\"80.282989\" xlink:href=\"#m4b650a8a25\" y=\"3.039375\" />\n     <use style=\"fill:#4575b4;fill-opacity:0.7;stroke:#4575b4;stroke-opacity:0.7;stroke-width:0.3;\" x=\"83.514861\" xlink:href=\"#m4b650a8a25\" y=\"3.039375\" />\n     <use style=\"fill:#4575b4;fill-opacity:0.7;stroke:#4575b4;stroke-opacity:0.7;stroke-width:0.3;\" x=\"80.828139\" xlink:href=\"#m4b650a8a25\" y=\"3.039375\" />\n     <use style=\"fill:#4575b4;fill-opacity:0.7;stroke:#4575b4;stroke-opacity:0.7;stroke-width:0.3;\" x=\"83.586443\" xlink:href=\"#m4b650a8a25\" y=\"3.039375\" />\n     <use style=\"fill:#4575b4;fill-opacity:0.7;stroke:#4575b4;stroke-opacity:0.7;stroke-width:0.3;\" x=\"84.062962\" xlink:href=\"#m4b650a8a25\" y=\"3.039375\" />\n     <use style=\"fill:#4575b4;fill-opacity:0.7;stroke:#4575b4;stroke-opacity:0.7;stroke-width:0.3;\" x=\"83.043466\" xlink:href=\"#m4b650a8a25\" y=\"3.039375\" />\n     <use style=\"fill:#4575b4;fill-opacity:0.7;stroke:#4575b4;stroke-opacity:0.7;stroke-width:0.3;\" x=\"78.462999\" xlink:href=\"#m4b650a8a25\" y=\"3.039375\" />\n     <use style=\"fill:#4575b4;fill-opacity:0.7;stroke:#4575b4;stroke-opacity:0.7;stroke-width:0.3;\" x=\"82.685098\" xlink:href=\"#m4b650a8a25\" y=\"3.039375\" />\n     <use style=\"fill:#4575b4;fill-opacity:0.7;stroke:#4575b4;stroke-opacity:0.7;stroke-width:0.3;\" x=\"80.126158\" xlink:href=\"#m4b650a8a25\" y=\"3.039375\" />\n     <use style=\"fill:#4575b4;fill-opacity:0.7;stroke:#4575b4;stroke-opacity:0.7;stroke-width:0.3;\" x=\"81.33529\" xlink:href=\"#m4b650a8a25\" y=\"3.039375\" />\n    </g>\n   </g>\n   <g id=\"matplotlib.axis_1\" />\n   <g id=\"matplotlib.axis_2\">\n    <g id=\"ytick_1\">\n     <g id=\"line2d_1\">\n      <defs>\n       <path d=\"M 0 0  L -3.5 0  \" id=\"m9cf9c3e73d\" style=\"stroke:#444443;stroke-width:0.3;\" />\n      </defs>\n      <g>\n       <use style=\"fill:#444443;stroke:#444443;stroke-width:0.3;\" x=\"59.452187\" xlink:href=\"#m9cf9c3e73d\" y=\"24.150055\" />\n      </g>\n     </g>\n     <g id=\"text_1\">\n      \n      <g style=\"fill:#444443;\" transform=\"translate(39.729687 27.18943)scale(0.08 -0.08)\">\n       <defs>\n        <path d=\"M 794 531  L 1825 531  L 1825 4091  L 703 3866  L 703 4441  L 1819 4666  L 2450 4666  L 2450 531  L 3481 531  L 3481 0  L 794 0  L 794 531  z \" id=\"DejaVuSans-31\" transform=\"scale(0.015625)\" />\n        <path d=\"M 684 794  L 1344 794  L 1344 0  L 684 0  L 684 794  z \" id=\"DejaVuSans-2e\" transform=\"scale(0.015625)\" />\n        <path d=\"M 691 4666  L 3169 4666  L 3169 4134  L 1269 4134  L 1269 2991  Q 1406 3038 1543 3061  Q 1681 3084 1819 3084  Q 2600 3084 3056 2656  Q 3513 2228 3513 1497  Q 3513 744 3044 326  Q 2575 -91 1722 -91  Q 1428 -91 1123 -41  Q 819 9 494 109  L 494 744  Q 775 591 1075 516  Q 1375 441 1709 441  Q 2250 441 2565 725  Q 2881 1009 2881 1497  Q 2881 1984 2565 2268  Q 2250 2553 1709 2553  Q 1456 2553 1204 2497  Q 953 2441 691 2322  L 691 4666  z \" id=\"DejaVuSans-35\" transform=\"scale(0.015625)\" />\n       </defs>\n       <use xlink:href=\"#DejaVuSans-31\" />\n       <use x=\"63.623047\" xlink:href=\"#DejaVuSans-2e\" />\n       <use x=\"95.410156\" xlink:href=\"#DejaVuSans-35\" />\n      </g>\n     </g>\n    </g>\n    <g id=\"ytick_2\">\n     <g id=\"line2d_2\">\n      <g>\n       <use style=\"fill:#444443;stroke:#444443;stroke-width:0.3;\" x=\"59.452187\" xlink:href=\"#m9cf9c3e73d\" y=\"3.039375\" />\n      </g>\n     </g>\n     <g id=\"text_2\">\n      \n      <g style=\"fill:#444443;\" transform=\"translate(39.729687 6.07875)scale(0.08 -0.08)\">\n       <defs>\n        <path d=\"M 1228 531  L 3431 531  L 3431 0  L 469 0  L 469 531  Q 828 903 1448 1529  Q 2069 2156 2228 2338  Q 2531 2678 2651 2914  Q 2772 3150 2772 3378  Q 2772 3750 2511 3984  Q 2250 4219 1831 4219  Q 1534 4219 1204 4116  Q 875 4013 500 3803  L 500 4441  Q 881 4594 1212 4672  Q 1544 4750 1819 4750  Q 2544 4750 2975 4387  Q 3406 4025 3406 3419  Q 3406 3131 3298 2873  Q 3191 2616 2906 2266  Q 2828 2175 2409 1742  Q 1991 1309 1228 531  z \" id=\"DejaVuSans-32\" transform=\"scale(0.015625)\" />\n        <path d=\"M 2034 4250  Q 1547 4250 1301 3770  Q 1056 3291 1056 2328  Q 1056 1369 1301 889  Q 1547 409 2034 409  Q 2525 409 2770 889  Q 3016 1369 3016 2328  Q 3016 3291 2770 3770  Q 2525 4250 2034 4250  z M 2034 4750  Q 2819 4750 3233 4129  Q 3647 3509 3647 2328  Q 3647 1150 3233 529  Q 2819 -91 2034 -91  Q 1250 -91 836 529  Q 422 1150 422 2328  Q 422 3509 836 4129  Q 1250 4750 2034 4750  z \" id=\"DejaVuSans-30\" transform=\"scale(0.015625)\" />\n       </defs>\n       <use xlink:href=\"#DejaVuSans-32\" />\n       <use x=\"63.623047\" xlink:href=\"#DejaVuSans-2e\" />\n       <use x=\"95.410156\" xlink:href=\"#DejaVuSans-30\" />\n      </g>\n     </g>\n    </g>\n   </g>\n   <g id=\"line2d_3\">\n    <path clip-path=\"url(#p60eb49f15a)\" d=\"M 59.452187 3.039375  L 162.754375 3.039375  \" style=\"fill:none;stroke:#444443;stroke-dasharray:3.7,1.6;stroke-dashoffset:0;\" />\n   </g>\n   <g id=\"patch_3\">\n    <path d=\"M 59.452187 43.994093  L 59.452187 0.506093  \" style=\"fill:none;stroke:#000000;stroke-linecap:square;stroke-linejoin:miter;stroke-width:0.3;\" />\n   </g>\n   <g id=\"text_3\">\n    \n    <g style=\"fill:#444443;\" transform=\"translate(0 54.487218)scale(0.12 -0.12)\">\n     <defs>\n      <path d=\"M 309 2231  Q 309 3372 921 4017  Q 1534 4663 2503 4663  Q 3138 4663 3647 4359  Q 4156 4056 4423 3514  Q 4691 2972 4691 2284  Q 4691 1588 4409 1038  Q 4128 488 3612 205  Q 3097 -78 2500 -78  Q 1853 -78 1343 234  Q 834 547 571 1087  Q 309 1628 309 2231  z M 934 2222  Q 934 1394 1379 917  Q 1825 441 2497 441  Q 3181 441 3623 922  Q 4066 1403 4066 2288  Q 4066 2847 3877 3264  Q 3688 3681 3323 3911  Q 2959 4141 2506 4141  Q 1863 4141 1398 3698  Q 934 3256 934 2222  z \" id=\"ArialMT-4f\" transform=\"scale(0.015625)\" />\n      <path d=\"M 941 0  L 419 0  L 419 4581  L 981 4581  L 981 2947  Q 1338 3394 1891 3394  Q 2197 3394 2470 3270  Q 2744 3147 2920 2923  Q 3097 2700 3197 2384  Q 3297 2069 3297 1709  Q 3297 856 2875 390  Q 2453 -75 1863 -75  Q 1275 -75 941 416  L 941 0  z M 934 1684  Q 934 1088 1097 822  Q 1363 388 1816 388  Q 2184 388 2453 708  Q 2722 1028 2722 1663  Q 2722 2313 2464 2622  Q 2206 2931 1841 2931  Q 1472 2931 1203 2611  Q 934 2291 934 1684  z \" id=\"ArialMT-62\" transform=\"scale(0.015625)\" />\n      <path d=\"M 1650 503  L 1731 6  Q 1494 -44 1306 -44  Q 1000 -44 831 53  Q 663 150 594 308  Q 525 466 525 972  L 525 2881  L 113 2881  L 113 3319  L 525 3319  L 525 4141  L 1084 4478  L 1084 3319  L 1650 3319  L 1650 2881  L 1084 2881  L 1084 941  Q 1084 700 1114 631  Q 1144 563 1211 522  Q 1278 481 1403 481  Q 1497 481 1650 503  z \" id=\"ArialMT-74\" transform=\"scale(0.015625)\" />\n      <path d=\"M 2694 1069  L 3275 997  Q 3138 488 2766 206  Q 2394 -75 1816 -75  Q 1088 -75 661 373  Q 234 822 234 1631  Q 234 2469 665 2931  Q 1097 3394 1784 3394  Q 2450 3394 2872 2941  Q 3294 2488 3294 1666  Q 3294 1616 3291 1516  L 816 1516  Q 847 969 1125 678  Q 1403 388 1819 388  Q 2128 388 2347 550  Q 2566 713 2694 1069  z M 847 1978  L 2700 1978  Q 2663 2397 2488 2606  Q 2219 2931 1791 2931  Q 1403 2931 1139 2672  Q 875 2413 847 1978  z \" id=\"ArialMT-65\" transform=\"scale(0.015625)\" />\n      <path d=\"M 416 0  L 416 3319  L 922 3319  L 922 2816  Q 1116 3169 1280 3281  Q 1444 3394 1641 3394  Q 1925 3394 2219 3213  L 2025 2691  Q 1819 2813 1613 2813  Q 1428 2813 1281 2702  Q 1134 2591 1072 2394  Q 978 2094 978 1738  L 978 0  L 416 0  z \" id=\"ArialMT-72\" transform=\"scale(0.015625)\" />\n      <path id=\"ArialMT-20\" transform=\"scale(0.015625)\" />\n      <path d=\"M 3763 1606  L 4369 1453  Q 4178 706 3683 314  Q 3188 -78 2472 -78  Q 1731 -78 1267 223  Q 803 525 561 1097  Q 319 1669 319 2325  Q 319 3041 592 3573  Q 866 4106 1370 4382  Q 1875 4659 2481 4659  Q 3169 4659 3637 4309  Q 4106 3959 4291 3325  L 3694 3184  Q 3534 3684 3231 3912  Q 2928 4141 2469 4141  Q 1941 4141 1586 3887  Q 1231 3634 1087 3207  Q 944 2781 944 2328  Q 944 1744 1114 1308  Q 1284 872 1643 656  Q 2003 441 2422 441  Q 2931 441 3284 734  Q 3638 1028 3763 1606  z \" id=\"ArialMT-43\" transform=\"scale(0.015625)\" />\n      <path d=\"M 2588 409  Q 2275 144 1986 34  Q 1697 -75 1366 -75  Q 819 -75 525 192  Q 231 459 231 875  Q 231 1119 342 1320  Q 453 1522 633 1644  Q 813 1766 1038 1828  Q 1203 1872 1538 1913  Q 2219 1994 2541 2106  Q 2544 2222 2544 2253  Q 2544 2597 2384 2738  Q 2169 2928 1744 2928  Q 1347 2928 1158 2789  Q 969 2650 878 2297  L 328 2372  Q 403 2725 575 2942  Q 747 3159 1072 3276  Q 1397 3394 1825 3394  Q 2250 3394 2515 3294  Q 2781 3194 2906 3042  Q 3031 2891 3081 2659  Q 3109 2516 3109 2141  L 3109 1391  Q 3109 606 3145 398  Q 3181 191 3288 0  L 2700 0  Q 2613 175 2588 409  z M 2541 1666  Q 2234 1541 1622 1453  Q 1275 1403 1131 1340  Q 988 1278 909 1158  Q 831 1038 831 891  Q 831 666 1001 516  Q 1172 366 1500 366  Q 1825 366 2078 508  Q 2331 650 2450 897  Q 2541 1088 2541 1459  L 2541 1666  z M 1769 4263  L 1416 3731  L 772 3731  L 1447 4606  L 2047 4606  L 2750 3731  L 2113 3731  L 1769 4263  z \" id=\"ArialMT-e2\" transform=\"scale(0.015625)\" />\n      <path d=\"M 422 0  L 422 3319  L 928 3319  L 928 2847  Q 1294 3394 1984 3394  Q 2284 3394 2536 3286  Q 2788 3178 2913 3003  Q 3038 2828 3088 2588  Q 3119 2431 3119 2041  L 3119 0  L 2556 0  L 2556 2019  Q 2556 2363 2490 2533  Q 2425 2703 2258 2804  Q 2091 2906 1866 2906  Q 1506 2906 1245 2678  Q 984 2450 984 1813  L 984 0  L 422 0  z \" id=\"ArialMT-6e\" transform=\"scale(0.015625)\" />\n      <path d=\"M 2588 1216  L 3141 1144  Q 3050 572 2676 248  Q 2303 -75 1759 -75  Q 1078 -75 664 370  Q 250 816 250 1647  Q 250 2184 428 2587  Q 606 2991 970 3192  Q 1334 3394 1763 3394  Q 2303 3394 2647 3120  Q 2991 2847 3088 2344  L 2541 2259  Q 2463 2594 2264 2762  Q 2066 2931 1784 2931  Q 1359 2931 1093 2626  Q 828 2322 828 1663  Q 828 994 1084 691  Q 1341 388 1753 388  Q 2084 388 2306 591  Q 2528 794 2588 1216  z \" id=\"ArialMT-63\" transform=\"scale(0.015625)\" />\n      <path d=\"M 2575 0  L 2575 419  Q 2259 -75 1647 -75  Q 1250 -75 917 144  Q 584 363 401 755  Q 219 1147 219 1656  Q 219 2153 384 2558  Q 550 2963 881 3178  Q 1213 3394 1622 3394  Q 1922 3394 2156 3267  Q 2391 3141 2538 2938  L 2538 4581  L 3097 4581  L 3097 0  L 2575 0  z M 797 1656  Q 797 1019 1065 703  Q 1334 388 1700 388  Q 2069 388 2326 689  Q 2584 991 2584 1609  Q 2584 2291 2321 2609  Q 2059 2928 1675 2928  Q 1300 2928 1048 2622  Q 797 2316 797 1656  z \" id=\"ArialMT-64\" transform=\"scale(0.015625)\" />\n      <path d=\"M 422 -1272  L 422 3319  L 934 3319  L 934 2888  Q 1116 3141 1344 3267  Q 1572 3394 1897 3394  Q 2322 3394 2647 3175  Q 2972 2956 3137 2557  Q 3303 2159 3303 1684  Q 3303 1175 3120 767  Q 2938 359 2589 142  Q 2241 -75 1856 -75  Q 1575 -75 1351 44  Q 1128 163 984 344  L 984 -1272  L 422 -1272  z M 931 1641  Q 931 1000 1190 694  Q 1450 388 1819 388  Q 2194 388 2461 705  Q 2728 1022 2728 1688  Q 2728 2322 2467 2637  Q 2206 2953 1844 2953  Q 1484 2953 1207 2617  Q 931 2281 931 1641  z \" id=\"ArialMT-70\" transform=\"scale(0.015625)\" />\n      <path d=\"M 2597 0  L 2597 488  Q 2209 -75 1544 -75  Q 1250 -75 995 37  Q 741 150 617 320  Q 494 491 444 738  Q 409 903 409 1263  L 409 3319  L 972 3319  L 972 1478  Q 972 1038 1006 884  Q 1059 663 1231 536  Q 1403 409 1656 409  Q 1909 409 2131 539  Q 2353 669 2445 892  Q 2538 1116 2538 1541  L 2538 3319  L 3100 3319  L 3100 0  L 2597 0  z \" id=\"ArialMT-75\" transform=\"scale(0.015625)\" />\n      <path d=\"M 409 0  L 409 4581  L 972 4581  L 972 0  L 409 0  z \" id=\"ArialMT-6c\" transform=\"scale(0.015625)\" />\n      <path d=\"M 422 0  L 422 3319  L 925 3319  L 925 2853  Q 1081 3097 1340 3245  Q 1600 3394 1931 3394  Q 2300 3394 2536 3241  Q 2772 3088 2869 2813  Q 3263 3394 3894 3394  Q 4388 3394 4653 3120  Q 4919 2847 4919 2278  L 4919 0  L 4359 0  L 4359 2091  Q 4359 2428 4304 2576  Q 4250 2725 4106 2815  Q 3963 2906 3769 2906  Q 3419 2906 3187 2673  Q 2956 2441 2956 1928  L 2956 0  L 2394 0  L 2394 2156  Q 2394 2531 2256 2718  Q 2119 2906 1806 2906  Q 1569 2906 1367 2781  Q 1166 2656 1075 2415  Q 984 2175 984 1722  L 984 0  L 422 0  z \" id=\"ArialMT-6d\" transform=\"scale(0.015625)\" />\n      <path d=\"M 2588 409  Q 2275 144 1986 34  Q 1697 -75 1366 -75  Q 819 -75 525 192  Q 231 459 231 875  Q 231 1119 342 1320  Q 453 1522 633 1644  Q 813 1766 1038 1828  Q 1203 1872 1538 1913  Q 2219 1994 2541 2106  Q 2544 2222 2544 2253  Q 2544 2597 2384 2738  Q 2169 2928 1744 2928  Q 1347 2928 1158 2789  Q 969 2650 878 2297  L 328 2372  Q 403 2725 575 2942  Q 747 3159 1072 3276  Q 1397 3394 1825 3394  Q 2250 3394 2515 3294  Q 2781 3194 2906 3042  Q 3031 2891 3081 2659  Q 3109 2516 3109 2141  L 3109 1391  Q 3109 606 3145 398  Q 3181 191 3288 0  L 2700 0  Q 2613 175 2588 409  z M 2541 1666  Q 2234 1541 1622 1453  Q 1275 1403 1131 1340  Q 988 1278 909 1158  Q 831 1038 831 891  Q 831 666 1001 516  Q 1172 366 1500 366  Q 1825 366 2078 508  Q 2331 650 2450 897  Q 2541 1088 2541 1459  L 2541 1666  z M 716 3809  Q 713 4134 894 4328  Q 1072 4522 1350 4522  Q 1544 4522 1878 4353  Q 2063 4259 2172 4259  Q 2272 4259 2325 4314  Q 2378 4369 2400 4531  L 2806 4531  Q 2797 4175 2626 3997  Q 2456 3819 2194 3819  Q 1997 3819 1675 3994  Q 1466 4106 1369 4106  Q 1263 4106 1197 4031  Q 1128 3956 1131 3809  L 716 3809  z \" id=\"ArialMT-e3\" transform=\"scale(0.015625)\" />\n      <path d=\"M 213 1659  Q 213 2581 725 3025  Q 1153 3394 1769 3394  Q 2453 3394 2887 2945  Q 3322 2497 3322 1706  Q 3322 1066 3130 698  Q 2938 331 2570 128  Q 2203 -75 1769 -75  Q 1072 -75 642 372  Q 213 819 213 1659  z M 791 1659  Q 791 1022 1069 705  Q 1347 388 1769 388  Q 2188 388 2466 706  Q 2744 1025 2744 1678  Q 2744 2294 2464 2611  Q 2184 2928 1769 2928  Q 1347 2928 1069 2612  Q 791 2297 791 1659  z \" id=\"ArialMT-6f\" transform=\"scale(0.015625)\" />\n      <path d=\"M 3381 2694  L 356 2694  L 356 3219  L 3381 3219  L 3381 2694  z M 3381 1303  L 356 1303  L 356 1828  L 3381 1828  L 3381 1303  z \" id=\"ArialMT-3d\" transform=\"scale(0.015625)\" />\n      <path d=\"M 3222 541  L 3222 0  L 194 0  Q 188 203 259 391  Q 375 700 629 1000  Q 884 1300 1366 1694  Q 2113 2306 2375 2664  Q 2638 3022 2638 3341  Q 2638 3675 2398 3904  Q 2159 4134 1775 4134  Q 1369 4134 1125 3890  Q 881 3647 878 3216  L 300 3275  Q 359 3922 746 4261  Q 1134 4600 1788 4600  Q 2447 4600 2831 4234  Q 3216 3869 3216 3328  Q 3216 3053 3103 2787  Q 2991 2522 2730 2228  Q 2469 1934 1863 1422  Q 1356 997 1212 845  Q 1069 694 975 541  L 3222 541  z \" id=\"ArialMT-32\" transform=\"scale(0.015625)\" />\n      <path d=\"M 581 0  L 581 641  L 1222 641  L 1222 0  L 581 0  z \" id=\"ArialMT-2e\" transform=\"scale(0.015625)\" />\n      <path d=\"M 266 2259  Q 266 3072 433 3567  Q 600 4063 929 4331  Q 1259 4600 1759 4600  Q 2128 4600 2406 4451  Q 2684 4303 2865 4023  Q 3047 3744 3150 3342  Q 3253 2941 3253 2259  Q 3253 1453 3087 958  Q 2922 463 2592 192  Q 2263 -78 1759 -78  Q 1097 -78 719 397  Q 266 969 266 2259  z M 844 2259  Q 844 1131 1108 757  Q 1372 384 1759 384  Q 2147 384 2411 759  Q 2675 1134 2675 2259  Q 2675 3391 2411 3762  Q 2147 4134 1753 4134  Q 1366 4134 1134 3806  Q 844 3388 844 2259  z \" id=\"ArialMT-30\" transform=\"scale(0.015625)\" />\n     </defs>\n     <use xlink:href=\"#ArialMT-4f\" />\n     <use x=\"77.783203\" xlink:href=\"#ArialMT-62\" />\n     <use x=\"133.398438\" xlink:href=\"#ArialMT-74\" />\n     <use x=\"161.181641\" xlink:href=\"#ArialMT-65\" />\n     <use x=\"216.796875\" xlink:href=\"#ArialMT-72\" />\n     <use x=\"250.097656\" xlink:href=\"#ArialMT-20\" />\n     <use x=\"277.880859\" xlink:href=\"#ArialMT-43\" />\n     <use x=\"350.097656\" xlink:href=\"#ArialMT-e2\" />\n     <use x=\"405.712891\" xlink:href=\"#ArialMT-6e\" />\n     <use x=\"461.328125\" xlink:href=\"#ArialMT-63\" />\n     <use x=\"511.328125\" xlink:href=\"#ArialMT-65\" />\n     <use x=\"566.943359\" xlink:href=\"#ArialMT-72\" />\n     <use x=\"600.244141\" xlink:href=\"#ArialMT-20\" />\n     <use x=\"628.027344\" xlink:href=\"#ArialMT-64\" />\n     <use x=\"683.642578\" xlink:href=\"#ArialMT-65\" />\n     <use x=\"739.257812\" xlink:href=\"#ArialMT-20\" />\n     <use x=\"767.041016\" xlink:href=\"#ArialMT-70\" />\n     <use x=\"822.65625\" xlink:href=\"#ArialMT-75\" />\n     <use x=\"878.271484\" xlink:href=\"#ArialMT-6c\" />\n     <use x=\"900.488281\" xlink:href=\"#ArialMT-6d\" />\n     <use x=\"983.789062\" xlink:href=\"#ArialMT-e3\" />\n     <use x=\"1039.404297\" xlink:href=\"#ArialMT-6f\" />\n     <use x=\"1095.019531\" xlink:href=\"#ArialMT-3d\" />\n     <use x=\"1153.417969\" xlink:href=\"#ArialMT-32\" />\n     <use x=\"1209.033203\" xlink:href=\"#ArialMT-2e\" />\n     <use x=\"1236.816406\" xlink:href=\"#ArialMT-30\" />\n     <use x=\"1292.431641\" xlink:href=\"#ArialMT-30\" />\n    </g>\n    \n    <g style=\"fill:#444443;\" transform=\"translate(67.363125 67.179468)scale(0.12 -0.12)\">\n     <defs>\n      <path d=\"M 269 1209  L 831 1284  Q 928 806 1161 595  Q 1394 384 1728 384  Q 2125 384 2398 659  Q 2672 934 2672 1341  Q 2672 1728 2419 1979  Q 2166 2231 1775 2231  Q 1616 2231 1378 2169  L 1441 2663  Q 1497 2656 1531 2656  Q 1891 2656 2178 2843  Q 2466 3031 2466 3422  Q 2466 3731 2256 3934  Q 2047 4138 1716 4138  Q 1388 4138 1169 3931  Q 950 3725 888 3313  L 325 3413  Q 428 3978 793 4289  Q 1159 4600 1703 4600  Q 2078 4600 2393 4439  Q 2709 4278 2876 4000  Q 3044 3722 3044 3409  Q 3044 3113 2884 2869  Q 2725 2625 2413 2481  Q 2819 2388 3044 2092  Q 3269 1797 3269 1353  Q 3269 753 2831 336  Q 2394 -81 1725 -81  Q 1122 -81 723 278  Q 325 638 269 1209  z \" id=\"ArialMT-33\" transform=\"scale(0.015625)\" />\n      <path d=\"M 3184 3459  L 2625 3416  Q 2550 3747 2413 3897  Q 2184 4138 1850 4138  Q 1581 4138 1378 3988  Q 1113 3794 959 3422  Q 806 3050 800 2363  Q 1003 2672 1297 2822  Q 1591 2972 1913 2972  Q 2475 2972 2870 2558  Q 3266 2144 3266 1488  Q 3266 1056 3080 686  Q 2894 316 2569 119  Q 2244 -78 1831 -78  Q 1128 -78 684 439  Q 241 956 241 2144  Q 241 3472 731 4075  Q 1159 4600 1884 4600  Q 2425 4600 2770 4297  Q 3116 3994 3184 3459  z M 888 1484  Q 888 1194 1011 928  Q 1134 663 1356 523  Q 1578 384 1822 384  Q 2178 384 2434 671  Q 2691 959 2691 1453  Q 2691 1928 2437 2201  Q 2184 2475 1800 2475  Q 1419 2475 1153 2201  Q 888 1928 888 1484  z \" id=\"ArialMT-36\" transform=\"scale(0.015625)\" />\n     </defs>\n     <use xlink:href=\"#ArialMT-6e\" />\n     <use x=\"55.615234\" xlink:href=\"#ArialMT-3d\" />\n     <use x=\"114.013672\" xlink:href=\"#ArialMT-33\" />\n     <use x=\"169.628906\" xlink:href=\"#ArialMT-36\" />\n    </g>\n   </g>\n  </g>\n </g>\n <defs>\n  <clipPath id=\"p60eb49f15a\">\n   <rect height=\"43.488\" width=\"41.85\" x=\"59.452187\" y=\"0.506093\" />\n  </clipPath>\n </defs>\n</svg></g>\n\n<g id=\"edge5\" class=\"edge\">\n<title>node5-&gt;leaf7</title>\n<path fill=\"none\" stroke=\"#444443\" stroke-width=\"0.3\" d=\"M466.05,-76.59C467.94,-72.39 469.85,-68.12 471.71,-63.97\" />\n<polygon fill=\"#444443\" stroke=\"#444443\" stroke-width=\"0.3\" points=\"473.04,-64.43 473.4,-60.2 470.49,-63.28 473.04,-64.43\" />\n</g>\n\n<g id=\"node3\" class=\"node\">\n<title>node1</title>\n<svg height=\"67px\" version=\"1.1\" viewBox=\"0 0 166.475938 89.512875\" width=\"125px\" preserveAspectRatio=\"xMinYMin meet\" x=\"404.5\" y=\"-239.5\">\n <metadata>\n  <rdf:RDF>\n   <ns2:Work>\n    <dc:type rdf:resource=\"http://purl.org/dc/dcmitype/StillImage\" />\n    <dc:date>2022-06-06T19:38:44.420160</dc:date>\n    <dc:format>image/svg+xml</dc:format>\n    <dc:creator>\n     <ns2:Agent>\n      <dc:title>Matplotlib v3.4.3, https://matplotlib.org/</dc:title>\n     </ns2:Agent>\n    </dc:creator>\n   </ns2:Work>\n  </rdf:RDF>\n </metadata>\n <defs>\n  <style type=\"text/css\">*{stroke-linecap:butt;stroke-linejoin:round;}</style>\n </defs>\n <g id=\"figure_1\">\n  <g id=\"patch_1\">\n   <path d=\"M 0 89.512875  L 166.475938 89.512875  L 166.475938 0  L 0 0  z \" style=\"fill:none;\" />\n  </g>\n  <g id=\"axes_1\">\n   <g id=\"patch_2\">\n    <path d=\"M 19.7225 59.796  L 159.2225 59.796  L 159.2225 0  L 19.7225 0  z \" style=\"fill:#ffffff;\" />\n   </g>\n   <g id=\"PathCollection_1\">\n    <defs>\n     <path d=\"M 0 1.118034  C 0.296506 1.118034 0.580908 1.000231 0.790569 0.790569  C 1.000231 0.580908 1.118034 0.296506 1.118034 0  C 1.118034 -0.296506 1.000231 -0.580908 0.790569 -0.790569  C 0.580908 -1.000231 0.296506 -1.118034 0 -1.118034  C -0.296506 -1.118034 -0.580908 -1.000231 -0.790569 -0.790569  C -1.000231 -0.580908 -1.118034 -0.296506 -1.118034 0  C -1.118034 0.296506 -1.000231 0.580908 -0.790569 0.790569  C -0.580908 1.000231 -0.296506 1.118034 0 1.118034  z \" id=\"m6b3a93f959\" style=\"stroke:#4575b4;stroke-opacity:0.7;stroke-width:0.3;\" />\n    </defs>\n    <g clip-path=\"url(#pd73c69725f)\">\n     <use style=\"fill:#4575b4;fill-opacity:0.7;stroke:#4575b4;stroke-opacity:0.7;stroke-width:0.3;\" x=\"159.2225\" xlink:href=\"#m6b3a93f959\" y=\"3.483262\" />\n     <use style=\"fill:#4575b4;fill-opacity:0.7;stroke:#4575b4;stroke-opacity:0.7;stroke-width:0.3;\" x=\"19.7225\" xlink:href=\"#m6b3a93f959\" y=\"61.537631\" />\n     <use style=\"fill:#4575b4;fill-opacity:0.7;stroke:#4575b4;stroke-opacity:0.7;stroke-width:0.3;\" x=\"19.7225\" xlink:href=\"#m6b3a93f959\" y=\"61.537631\" />\n     <use style=\"fill:#4575b4;fill-opacity:0.7;stroke:#4575b4;stroke-opacity:0.7;stroke-width:0.3;\" x=\"159.2225\" xlink:href=\"#m6b3a93f959\" y=\"3.483262\" />\n     <use style=\"fill:#4575b4;fill-opacity:0.7;stroke:#4575b4;stroke-opacity:0.7;stroke-width:0.3;\" x=\"19.7225\" xlink:href=\"#m6b3a93f959\" y=\"61.537631\" />\n     <use style=\"fill:#4575b4;fill-opacity:0.7;stroke:#4575b4;stroke-opacity:0.7;stroke-width:0.3;\" x=\"19.7225\" xlink:href=\"#m6b3a93f959\" y=\"3.483262\" />\n     <use style=\"fill:#4575b4;fill-opacity:0.7;stroke:#4575b4;stroke-opacity:0.7;stroke-width:0.3;\" x=\"19.7225\" xlink:href=\"#m6b3a93f959\" y=\"61.537631\" />\n     <use style=\"fill:#4575b4;fill-opacity:0.7;stroke:#4575b4;stroke-opacity:0.7;stroke-width:0.3;\" x=\"159.2225\" xlink:href=\"#m6b3a93f959\" y=\"61.537631\" />\n     <use style=\"fill:#4575b4;fill-opacity:0.7;stroke:#4575b4;stroke-opacity:0.7;stroke-width:0.3;\" x=\"19.7225\" xlink:href=\"#m6b3a93f959\" y=\"61.537631\" />\n     <use style=\"fill:#4575b4;fill-opacity:0.7;stroke:#4575b4;stroke-opacity:0.7;stroke-width:0.3;\" x=\"159.2225\" xlink:href=\"#m6b3a93f959\" y=\"3.483262\" />\n     <use style=\"fill:#4575b4;fill-opacity:0.7;stroke:#4575b4;stroke-opacity:0.7;stroke-width:0.3;\" x=\"19.7225\" xlink:href=\"#m6b3a93f959\" y=\"3.483262\" />\n     <use style=\"fill:#4575b4;fill-opacity:0.7;stroke:#4575b4;stroke-opacity:0.7;stroke-width:0.3;\" x=\"159.2225\" xlink:href=\"#m6b3a93f959\" y=\"3.483262\" />\n     <use style=\"fill:#4575b4;fill-opacity:0.7;stroke:#4575b4;stroke-opacity:0.7;stroke-width:0.3;\" x=\"19.7225\" xlink:href=\"#m6b3a93f959\" y=\"61.537631\" />\n     <use style=\"fill:#4575b4;fill-opacity:0.7;stroke:#4575b4;stroke-opacity:0.7;stroke-width:0.3;\" x=\"19.7225\" xlink:href=\"#m6b3a93f959\" y=\"3.483262\" />\n     <use style=\"fill:#4575b4;fill-opacity:0.7;stroke:#4575b4;stroke-opacity:0.7;stroke-width:0.3;\" x=\"159.2225\" xlink:href=\"#m6b3a93f959\" y=\"3.483262\" />\n     <use style=\"fill:#4575b4;fill-opacity:0.7;stroke:#4575b4;stroke-opacity:0.7;stroke-width:0.3;\" x=\"19.7225\" xlink:href=\"#m6b3a93f959\" y=\"3.483262\" />\n     <use style=\"fill:#4575b4;fill-opacity:0.7;stroke:#4575b4;stroke-opacity:0.7;stroke-width:0.3;\" x=\"159.2225\" xlink:href=\"#m6b3a93f959\" y=\"3.483262\" />\n     <use style=\"fill:#4575b4;fill-opacity:0.7;stroke:#4575b4;stroke-opacity:0.7;stroke-width:0.3;\" x=\"19.7225\" xlink:href=\"#m6b3a93f959\" y=\"3.483262\" />\n     <use style=\"fill:#4575b4;fill-opacity:0.7;stroke:#4575b4;stroke-opacity:0.7;stroke-width:0.3;\" x=\"19.7225\" xlink:href=\"#m6b3a93f959\" y=\"61.537631\" />\n     <use style=\"fill:#4575b4;fill-opacity:0.7;stroke:#4575b4;stroke-opacity:0.7;stroke-width:0.3;\" x=\"19.7225\" xlink:href=\"#m6b3a93f959\" y=\"3.483262\" />\n     <use style=\"fill:#4575b4;fill-opacity:0.7;stroke:#4575b4;stroke-opacity:0.7;stroke-width:0.3;\" x=\"19.7225\" xlink:href=\"#m6b3a93f959\" y=\"3.483262\" />\n     <use style=\"fill:#4575b4;fill-opacity:0.7;stroke:#4575b4;stroke-opacity:0.7;stroke-width:0.3;\" x=\"159.2225\" xlink:href=\"#m6b3a93f959\" y=\"3.483262\" />\n     <use style=\"fill:#4575b4;fill-opacity:0.7;stroke:#4575b4;stroke-opacity:0.7;stroke-width:0.3;\" x=\"159.2225\" xlink:href=\"#m6b3a93f959\" y=\"3.483262\" />\n     <use style=\"fill:#4575b4;fill-opacity:0.7;stroke:#4575b4;stroke-opacity:0.7;stroke-width:0.3;\" x=\"19.7225\" xlink:href=\"#m6b3a93f959\" y=\"3.483262\" />\n     <use style=\"fill:#4575b4;fill-opacity:0.7;stroke:#4575b4;stroke-opacity:0.7;stroke-width:0.3;\" x=\"159.2225\" xlink:href=\"#m6b3a93f959\" y=\"3.483262\" />\n     <use style=\"fill:#4575b4;fill-opacity:0.7;stroke:#4575b4;stroke-opacity:0.7;stroke-width:0.3;\" x=\"19.7225\" xlink:href=\"#m6b3a93f959\" y=\"61.537631\" />\n     <use style=\"fill:#4575b4;fill-opacity:0.7;stroke:#4575b4;stroke-opacity:0.7;stroke-width:0.3;\" x=\"19.7225\" xlink:href=\"#m6b3a93f959\" y=\"3.483262\" />\n     <use style=\"fill:#4575b4;fill-opacity:0.7;stroke:#4575b4;stroke-opacity:0.7;stroke-width:0.3;\" x=\"159.2225\" xlink:href=\"#m6b3a93f959\" y=\"3.483262\" />\n     <use style=\"fill:#4575b4;fill-opacity:0.7;stroke:#4575b4;stroke-opacity:0.7;stroke-width:0.3;\" x=\"19.7225\" xlink:href=\"#m6b3a93f959\" y=\"3.483262\" />\n     <use style=\"fill:#4575b4;fill-opacity:0.7;stroke:#4575b4;stroke-opacity:0.7;stroke-width:0.3;\" x=\"159.2225\" xlink:href=\"#m6b3a93f959\" y=\"3.483262\" />\n     <use style=\"fill:#4575b4;fill-opacity:0.7;stroke:#4575b4;stroke-opacity:0.7;stroke-width:0.3;\" x=\"19.7225\" xlink:href=\"#m6b3a93f959\" y=\"3.483262\" />\n     <use style=\"fill:#4575b4;fill-opacity:0.7;stroke:#4575b4;stroke-opacity:0.7;stroke-width:0.3;\" x=\"159.2225\" xlink:href=\"#m6b3a93f959\" y=\"3.483262\" />\n     <use style=\"fill:#4575b4;fill-opacity:0.7;stroke:#4575b4;stroke-opacity:0.7;stroke-width:0.3;\" x=\"19.7225\" xlink:href=\"#m6b3a93f959\" y=\"3.483262\" />\n     <use style=\"fill:#4575b4;fill-opacity:0.7;stroke:#4575b4;stroke-opacity:0.7;stroke-width:0.3;\" x=\"19.7225\" xlink:href=\"#m6b3a93f959\" y=\"61.537631\" />\n     <use style=\"fill:#4575b4;fill-opacity:0.7;stroke:#4575b4;stroke-opacity:0.7;stroke-width:0.3;\" x=\"19.7225\" xlink:href=\"#m6b3a93f959\" y=\"61.537631\" />\n     <use style=\"fill:#4575b4;fill-opacity:0.7;stroke:#4575b4;stroke-opacity:0.7;stroke-width:0.3;\" x=\"19.7225\" xlink:href=\"#m6b3a93f959\" y=\"3.483262\" />\n     <use style=\"fill:#4575b4;fill-opacity:0.7;stroke:#4575b4;stroke-opacity:0.7;stroke-width:0.3;\" x=\"19.7225\" xlink:href=\"#m6b3a93f959\" y=\"61.537631\" />\n     <use style=\"fill:#4575b4;fill-opacity:0.7;stroke:#4575b4;stroke-opacity:0.7;stroke-width:0.3;\" x=\"159.2225\" xlink:href=\"#m6b3a93f959\" y=\"3.483262\" />\n     <use style=\"fill:#4575b4;fill-opacity:0.7;stroke:#4575b4;stroke-opacity:0.7;stroke-width:0.3;\" x=\"159.2225\" xlink:href=\"#m6b3a93f959\" y=\"3.483262\" />\n     <use style=\"fill:#4575b4;fill-opacity:0.7;stroke:#4575b4;stroke-opacity:0.7;stroke-width:0.3;\" x=\"159.2225\" xlink:href=\"#m6b3a93f959\" y=\"3.483262\" />\n     <use style=\"fill:#4575b4;fill-opacity:0.7;stroke:#4575b4;stroke-opacity:0.7;stroke-width:0.3;\" x=\"159.2225\" xlink:href=\"#m6b3a93f959\" y=\"61.537631\" />\n     <use style=\"fill:#4575b4;fill-opacity:0.7;stroke:#4575b4;stroke-opacity:0.7;stroke-width:0.3;\" x=\"19.7225\" xlink:href=\"#m6b3a93f959\" y=\"61.537631\" />\n     <use style=\"fill:#4575b4;fill-opacity:0.7;stroke:#4575b4;stroke-opacity:0.7;stroke-width:0.3;\" x=\"19.7225\" xlink:href=\"#m6b3a93f959\" y=\"61.537631\" />\n     <use style=\"fill:#4575b4;fill-opacity:0.7;stroke:#4575b4;stroke-opacity:0.7;stroke-width:0.3;\" x=\"159.2225\" xlink:href=\"#m6b3a93f959\" y=\"3.483262\" />\n     <use style=\"fill:#4575b4;fill-opacity:0.7;stroke:#4575b4;stroke-opacity:0.7;stroke-width:0.3;\" x=\"19.7225\" xlink:href=\"#m6b3a93f959\" y=\"61.537631\" />\n     <use style=\"fill:#4575b4;fill-opacity:0.7;stroke:#4575b4;stroke-opacity:0.7;stroke-width:0.3;\" x=\"159.2225\" xlink:href=\"#m6b3a93f959\" y=\"3.483262\" />\n     <use style=\"fill:#4575b4;fill-opacity:0.7;stroke:#4575b4;stroke-opacity:0.7;stroke-width:0.3;\" x=\"19.7225\" xlink:href=\"#m6b3a93f959\" y=\"61.537631\" />\n     <use style=\"fill:#4575b4;fill-opacity:0.7;stroke:#4575b4;stroke-opacity:0.7;stroke-width:0.3;\" x=\"19.7225\" xlink:href=\"#m6b3a93f959\" y=\"61.537631\" />\n     <use style=\"fill:#4575b4;fill-opacity:0.7;stroke:#4575b4;stroke-opacity:0.7;stroke-width:0.3;\" x=\"159.2225\" xlink:href=\"#m6b3a93f959\" y=\"3.483262\" />\n     <use style=\"fill:#4575b4;fill-opacity:0.7;stroke:#4575b4;stroke-opacity:0.7;stroke-width:0.3;\" x=\"159.2225\" xlink:href=\"#m6b3a93f959\" y=\"3.483262\" />\n     <use style=\"fill:#4575b4;fill-opacity:0.7;stroke:#4575b4;stroke-opacity:0.7;stroke-width:0.3;\" x=\"159.2225\" xlink:href=\"#m6b3a93f959\" y=\"3.483262\" />\n     <use style=\"fill:#4575b4;fill-opacity:0.7;stroke:#4575b4;stroke-opacity:0.7;stroke-width:0.3;\" x=\"159.2225\" xlink:href=\"#m6b3a93f959\" y=\"3.483262\" />\n     <use style=\"fill:#4575b4;fill-opacity:0.7;stroke:#4575b4;stroke-opacity:0.7;stroke-width:0.3;\" x=\"19.7225\" xlink:href=\"#m6b3a93f959\" y=\"3.483262\" />\n     <use style=\"fill:#4575b4;fill-opacity:0.7;stroke:#4575b4;stroke-opacity:0.7;stroke-width:0.3;\" x=\"159.2225\" xlink:href=\"#m6b3a93f959\" y=\"3.483262\" />\n     <use style=\"fill:#4575b4;fill-opacity:0.7;stroke:#4575b4;stroke-opacity:0.7;stroke-width:0.3;\" x=\"159.2225\" xlink:href=\"#m6b3a93f959\" y=\"3.483262\" />\n     <use style=\"fill:#4575b4;fill-opacity:0.7;stroke:#4575b4;stroke-opacity:0.7;stroke-width:0.3;\" x=\"159.2225\" xlink:href=\"#m6b3a93f959\" y=\"3.483262\" />\n     <use style=\"fill:#4575b4;fill-opacity:0.7;stroke:#4575b4;stroke-opacity:0.7;stroke-width:0.3;\" x=\"159.2225\" xlink:href=\"#m6b3a93f959\" y=\"3.483262\" />\n     <use style=\"fill:#4575b4;fill-opacity:0.7;stroke:#4575b4;stroke-opacity:0.7;stroke-width:0.3;\" x=\"159.2225\" xlink:href=\"#m6b3a93f959\" y=\"3.483262\" />\n     <use style=\"fill:#4575b4;fill-opacity:0.7;stroke:#4575b4;stroke-opacity:0.7;stroke-width:0.3;\" x=\"19.7225\" xlink:href=\"#m6b3a93f959\" y=\"3.483262\" />\n     <use style=\"fill:#4575b4;fill-opacity:0.7;stroke:#4575b4;stroke-opacity:0.7;stroke-width:0.3;\" x=\"159.2225\" xlink:href=\"#m6b3a93f959\" y=\"3.483262\" />\n     <use style=\"fill:#4575b4;fill-opacity:0.7;stroke:#4575b4;stroke-opacity:0.7;stroke-width:0.3;\" x=\"19.7225\" xlink:href=\"#m6b3a93f959\" y=\"3.483262\" />\n     <use style=\"fill:#4575b4;fill-opacity:0.7;stroke:#4575b4;stroke-opacity:0.7;stroke-width:0.3;\" x=\"19.7225\" xlink:href=\"#m6b3a93f959\" y=\"3.483262\" />\n     <use style=\"fill:#4575b4;fill-opacity:0.7;stroke:#4575b4;stroke-opacity:0.7;stroke-width:0.3;\" x=\"159.2225\" xlink:href=\"#m6b3a93f959\" y=\"3.483262\" />\n     <use style=\"fill:#4575b4;fill-opacity:0.7;stroke:#4575b4;stroke-opacity:0.7;stroke-width:0.3;\" x=\"159.2225\" xlink:href=\"#m6b3a93f959\" y=\"3.483262\" />\n     <use style=\"fill:#4575b4;fill-opacity:0.7;stroke:#4575b4;stroke-opacity:0.7;stroke-width:0.3;\" x=\"19.7225\" xlink:href=\"#m6b3a93f959\" y=\"3.483262\" />\n     <use style=\"fill:#4575b4;fill-opacity:0.7;stroke:#4575b4;stroke-opacity:0.7;stroke-width:0.3;\" x=\"19.7225\" xlink:href=\"#m6b3a93f959\" y=\"3.483262\" />\n     <use style=\"fill:#4575b4;fill-opacity:0.7;stroke:#4575b4;stroke-opacity:0.7;stroke-width:0.3;\" x=\"159.2225\" xlink:href=\"#m6b3a93f959\" y=\"3.483262\" />\n     <use style=\"fill:#4575b4;fill-opacity:0.7;stroke:#4575b4;stroke-opacity:0.7;stroke-width:0.3;\" x=\"19.7225\" xlink:href=\"#m6b3a93f959\" y=\"3.483262\" />\n     <use style=\"fill:#4575b4;fill-opacity:0.7;stroke:#4575b4;stroke-opacity:0.7;stroke-width:0.3;\" x=\"159.2225\" xlink:href=\"#m6b3a93f959\" y=\"3.483262\" />\n     <use style=\"fill:#4575b4;fill-opacity:0.7;stroke:#4575b4;stroke-opacity:0.7;stroke-width:0.3;\" x=\"159.2225\" xlink:href=\"#m6b3a93f959\" y=\"3.483262\" />\n     <use style=\"fill:#4575b4;fill-opacity:0.7;stroke:#4575b4;stroke-opacity:0.7;stroke-width:0.3;\" x=\"159.2225\" xlink:href=\"#m6b3a93f959\" y=\"3.483262\" />\n     <use style=\"fill:#4575b4;fill-opacity:0.7;stroke:#4575b4;stroke-opacity:0.7;stroke-width:0.3;\" x=\"159.2225\" xlink:href=\"#m6b3a93f959\" y=\"3.483262\" />\n     <use style=\"fill:#4575b4;fill-opacity:0.7;stroke:#4575b4;stroke-opacity:0.7;stroke-width:0.3;\" x=\"159.2225\" xlink:href=\"#m6b3a93f959\" y=\"3.483262\" />\n     <use style=\"fill:#4575b4;fill-opacity:0.7;stroke:#4575b4;stroke-opacity:0.7;stroke-width:0.3;\" x=\"19.7225\" xlink:href=\"#m6b3a93f959\" y=\"61.537631\" />\n     <use style=\"fill:#4575b4;fill-opacity:0.7;stroke:#4575b4;stroke-opacity:0.7;stroke-width:0.3;\" x=\"159.2225\" xlink:href=\"#m6b3a93f959\" y=\"3.483262\" />\n     <use style=\"fill:#4575b4;fill-opacity:0.7;stroke:#4575b4;stroke-opacity:0.7;stroke-width:0.3;\" x=\"19.7225\" xlink:href=\"#m6b3a93f959\" y=\"3.483262\" />\n     <use style=\"fill:#4575b4;fill-opacity:0.7;stroke:#4575b4;stroke-opacity:0.7;stroke-width:0.3;\" x=\"19.7225\" xlink:href=\"#m6b3a93f959\" y=\"61.537631\" />\n     <use style=\"fill:#4575b4;fill-opacity:0.7;stroke:#4575b4;stroke-opacity:0.7;stroke-width:0.3;\" x=\"19.7225\" xlink:href=\"#m6b3a93f959\" y=\"3.483262\" />\n     <use style=\"fill:#4575b4;fill-opacity:0.7;stroke:#4575b4;stroke-opacity:0.7;stroke-width:0.3;\" x=\"159.2225\" xlink:href=\"#m6b3a93f959\" y=\"3.483262\" />\n     <use style=\"fill:#4575b4;fill-opacity:0.7;stroke:#4575b4;stroke-opacity:0.7;stroke-width:0.3;\" x=\"159.2225\" xlink:href=\"#m6b3a93f959\" y=\"3.483262\" />\n     <use style=\"fill:#4575b4;fill-opacity:0.7;stroke:#4575b4;stroke-opacity:0.7;stroke-width:0.3;\" x=\"19.7225\" xlink:href=\"#m6b3a93f959\" y=\"3.483262\" />\n     <use style=\"fill:#4575b4;fill-opacity:0.7;stroke:#4575b4;stroke-opacity:0.7;stroke-width:0.3;\" x=\"19.7225\" xlink:href=\"#m6b3a93f959\" y=\"3.483262\" />\n     <use style=\"fill:#4575b4;fill-opacity:0.7;stroke:#4575b4;stroke-opacity:0.7;stroke-width:0.3;\" x=\"159.2225\" xlink:href=\"#m6b3a93f959\" y=\"61.537631\" />\n     <use style=\"fill:#4575b4;fill-opacity:0.7;stroke:#4575b4;stroke-opacity:0.7;stroke-width:0.3;\" x=\"19.7225\" xlink:href=\"#m6b3a93f959\" y=\"3.483262\" />\n     <use style=\"fill:#4575b4;fill-opacity:0.7;stroke:#4575b4;stroke-opacity:0.7;stroke-width:0.3;\" x=\"19.7225\" xlink:href=\"#m6b3a93f959\" y=\"3.483262\" />\n     <use style=\"fill:#4575b4;fill-opacity:0.7;stroke:#4575b4;stroke-opacity:0.7;stroke-width:0.3;\" x=\"19.7225\" xlink:href=\"#m6b3a93f959\" y=\"3.483262\" />\n     <use style=\"fill:#4575b4;fill-opacity:0.7;stroke:#4575b4;stroke-opacity:0.7;stroke-width:0.3;\" x=\"19.7225\" xlink:href=\"#m6b3a93f959\" y=\"61.537631\" />\n     <use style=\"fill:#4575b4;fill-opacity:0.7;stroke:#4575b4;stroke-opacity:0.7;stroke-width:0.3;\" x=\"159.2225\" xlink:href=\"#m6b3a93f959\" y=\"3.483262\" />\n     <use style=\"fill:#4575b4;fill-opacity:0.7;stroke:#4575b4;stroke-opacity:0.7;stroke-width:0.3;\" x=\"159.2225\" xlink:href=\"#m6b3a93f959\" y=\"3.483262\" />\n     <use style=\"fill:#4575b4;fill-opacity:0.7;stroke:#4575b4;stroke-opacity:0.7;stroke-width:0.3;\" x=\"19.7225\" xlink:href=\"#m6b3a93f959\" y=\"61.537631\" />\n     <use style=\"fill:#4575b4;fill-opacity:0.7;stroke:#4575b4;stroke-opacity:0.7;stroke-width:0.3;\" x=\"159.2225\" xlink:href=\"#m6b3a93f959\" y=\"61.537631\" />\n     <use style=\"fill:#4575b4;fill-opacity:0.7;stroke:#4575b4;stroke-opacity:0.7;stroke-width:0.3;\" x=\"159.2225\" xlink:href=\"#m6b3a93f959\" y=\"3.483262\" />\n     <use style=\"fill:#4575b4;fill-opacity:0.7;stroke:#4575b4;stroke-opacity:0.7;stroke-width:0.3;\" x=\"19.7225\" xlink:href=\"#m6b3a93f959\" y=\"61.537631\" />\n     <use style=\"fill:#4575b4;fill-opacity:0.7;stroke:#4575b4;stroke-opacity:0.7;stroke-width:0.3;\" x=\"159.2225\" xlink:href=\"#m6b3a93f959\" y=\"3.483262\" />\n     <use style=\"fill:#4575b4;fill-opacity:0.7;stroke:#4575b4;stroke-opacity:0.7;stroke-width:0.3;\" x=\"159.2225\" xlink:href=\"#m6b3a93f959\" y=\"3.483262\" />\n     <use style=\"fill:#4575b4;fill-opacity:0.7;stroke:#4575b4;stroke-opacity:0.7;stroke-width:0.3;\" x=\"19.7225\" xlink:href=\"#m6b3a93f959\" y=\"3.483262\" />\n     <use style=\"fill:#4575b4;fill-opacity:0.7;stroke:#4575b4;stroke-opacity:0.7;stroke-width:0.3;\" x=\"159.2225\" xlink:href=\"#m6b3a93f959\" y=\"3.483262\" />\n     <use style=\"fill:#4575b4;fill-opacity:0.7;stroke:#4575b4;stroke-opacity:0.7;stroke-width:0.3;\" x=\"159.2225\" xlink:href=\"#m6b3a93f959\" y=\"3.483262\" />\n     <use style=\"fill:#4575b4;fill-opacity:0.7;stroke:#4575b4;stroke-opacity:0.7;stroke-width:0.3;\" x=\"159.2225\" xlink:href=\"#m6b3a93f959\" y=\"3.483262\" />\n     <use style=\"fill:#4575b4;fill-opacity:0.7;stroke:#4575b4;stroke-opacity:0.7;stroke-width:0.3;\" x=\"159.2225\" xlink:href=\"#m6b3a93f959\" y=\"3.483262\" />\n     <use style=\"fill:#4575b4;fill-opacity:0.7;stroke:#4575b4;stroke-opacity:0.7;stroke-width:0.3;\" x=\"19.7225\" xlink:href=\"#m6b3a93f959\" y=\"3.483262\" />\n     <use style=\"fill:#4575b4;fill-opacity:0.7;stroke:#4575b4;stroke-opacity:0.7;stroke-width:0.3;\" x=\"159.2225\" xlink:href=\"#m6b3a93f959\" y=\"3.483262\" />\n     <use style=\"fill:#4575b4;fill-opacity:0.7;stroke:#4575b4;stroke-opacity:0.7;stroke-width:0.3;\" x=\"159.2225\" xlink:href=\"#m6b3a93f959\" y=\"3.483262\" />\n     <use style=\"fill:#4575b4;fill-opacity:0.7;stroke:#4575b4;stroke-opacity:0.7;stroke-width:0.3;\" x=\"19.7225\" xlink:href=\"#m6b3a93f959\" y=\"61.537631\" />\n     <use style=\"fill:#4575b4;fill-opacity:0.7;stroke:#4575b4;stroke-opacity:0.7;stroke-width:0.3;\" x=\"159.2225\" xlink:href=\"#m6b3a93f959\" y=\"3.483262\" />\n     <use style=\"fill:#4575b4;fill-opacity:0.7;stroke:#4575b4;stroke-opacity:0.7;stroke-width:0.3;\" x=\"19.7225\" xlink:href=\"#m6b3a93f959\" y=\"3.483262\" />\n     <use style=\"fill:#4575b4;fill-opacity:0.7;stroke:#4575b4;stroke-opacity:0.7;stroke-width:0.3;\" x=\"159.2225\" xlink:href=\"#m6b3a93f959\" y=\"3.483262\" />\n    </g>\n   </g>\n   <g id=\"patch_3\">\n    <path d=\"M 89.4725 59.796  L 86.9615 65.7756  L 91.9835 65.7756  z \" style=\"fill:#444443;\" />\n   </g>\n   <g id=\"matplotlib.axis_1\">\n    <g id=\"xtick_1\">\n     <g id=\"line2d_1\">\n      <defs>\n       <path d=\"M 0 0  L 0 3.5  \" id=\"m7105f82fe3\" style=\"stroke:#444443;stroke-width:0.3;\" />\n      </defs>\n      <g>\n       <use style=\"fill:#444443;stroke:#444443;stroke-width:0.3;\" x=\"19.7225\" xlink:href=\"#m7105f82fe3\" y=\"59.796\" />\n      </g>\n     </g>\n     <g id=\"text_1\">\n      \n      <g style=\"fill:#444443;\" transform=\"translate(13.36125 72.87475)scale(0.08 -0.08)\">\n       <defs>\n        <path d=\"M 794 531  L 1825 531  L 1825 4091  L 703 3866  L 703 4441  L 1819 4666  L 2450 4666  L 2450 531  L 3481 531  L 3481 0  L 794 0  L 794 531  z \" id=\"DejaVuSans-31\" transform=\"scale(0.015625)\" />\n        <path d=\"M 684 794  L 1344 794  L 1344 0  L 684 0  L 684 794  z \" id=\"DejaVuSans-2e\" transform=\"scale(0.015625)\" />\n        <path d=\"M 2034 4250  Q 1547 4250 1301 3770  Q 1056 3291 1056 2328  Q 1056 1369 1301 889  Q 1547 409 2034 409  Q 2525 409 2770 889  Q 3016 1369 3016 2328  Q 3016 3291 2770 3770  Q 2525 4250 2034 4250  z M 2034 4750  Q 2819 4750 3233 4129  Q 3647 3509 3647 2328  Q 3647 1150 3233 529  Q 2819 -91 2034 -91  Q 1250 -91 836 529  Q 422 1150 422 2328  Q 422 3509 836 4129  Q 1250 4750 2034 4750  z \" id=\"DejaVuSans-30\" transform=\"scale(0.015625)\" />\n       </defs>\n       <use xlink:href=\"#DejaVuSans-31\" />\n       <use x=\"63.623047\" xlink:href=\"#DejaVuSans-2e\" />\n       <use x=\"95.410156\" xlink:href=\"#DejaVuSans-30\" />\n      </g>\n     </g>\n    </g>\n    <g id=\"xtick_2\">\n     <g id=\"line2d_2\">\n      <g>\n       <use style=\"fill:#444443;stroke:#444443;stroke-width:0.3;\" x=\"159.2225\" xlink:href=\"#m7105f82fe3\" y=\"59.796\" />\n      </g>\n     </g>\n     <g id=\"text_2\">\n      \n      <g style=\"fill:#444443;\" transform=\"translate(152.86125 72.87475)scale(0.08 -0.08)\">\n       <defs>\n        <path d=\"M 1228 531  L 3431 531  L 3431 0  L 469 0  L 469 531  Q 828 903 1448 1529  Q 2069 2156 2228 2338  Q 2531 2678 2651 2914  Q 2772 3150 2772 3378  Q 2772 3750 2511 3984  Q 2250 4219 1831 4219  Q 1534 4219 1204 4116  Q 875 4013 500 3803  L 500 4441  Q 881 4594 1212 4672  Q 1544 4750 1819 4750  Q 2544 4750 2975 4387  Q 3406 4025 3406 3419  Q 3406 3131 3298 2873  Q 3191 2616 2906 2266  Q 2828 2175 2409 1742  Q 1991 1309 1228 531  z \" id=\"DejaVuSans-32\" transform=\"scale(0.015625)\" />\n       </defs>\n       <use xlink:href=\"#DejaVuSans-32\" />\n       <use x=\"63.623047\" xlink:href=\"#DejaVuSans-2e\" />\n       <use x=\"95.410156\" xlink:href=\"#DejaVuSans-30\" />\n      </g>\n     </g>\n    </g>\n    <g id=\"xtick_3\">\n     <g id=\"line2d_3\">\n      <g>\n       <use style=\"fill:#444443;stroke:#444443;stroke-width:0.3;\" x=\"89.4725\" xlink:href=\"#m7105f82fe3\" y=\"59.796\" />\n      </g>\n     </g>\n     <g id=\"text_3\">\n      \n      <g style=\"fill:#444443;\" transform=\"translate(83.11125 72.87475)scale(0.08 -0.08)\">\n       <defs>\n        <path d=\"M 691 4666  L 3169 4666  L 3169 4134  L 1269 4134  L 1269 2991  Q 1406 3038 1543 3061  Q 1681 3084 1819 3084  Q 2600 3084 3056 2656  Q 3513 2228 3513 1497  Q 3513 744 3044 326  Q 2575 -91 1722 -91  Q 1428 -91 1123 -41  Q 819 9 494 109  L 494 744  Q 775 591 1075 516  Q 1375 441 1709 441  Q 2250 441 2565 725  Q 2881 1009 2881 1497  Q 2881 1984 2565 2268  Q 2250 2553 1709 2553  Q 1456 2553 1204 2497  Q 953 2441 691 2322  L 691 4666  z \" id=\"DejaVuSans-35\" transform=\"scale(0.015625)\" />\n       </defs>\n       <use xlink:href=\"#DejaVuSans-31\" />\n       <use x=\"63.623047\" xlink:href=\"#DejaVuSans-2e\" />\n       <use x=\"95.410156\" xlink:href=\"#DejaVuSans-35\" />\n      </g>\n     </g>\n    </g>\n    <g id=\"text_4\">\n     \n     <g style=\"fill:#444443;\" transform=\"translate(12.469062 87.127875)scale(0.12 -0.12)\">\n      <defs>\n       <path d=\"M 288 1472  L 859 1522  Q 900 1178 1048 958  Q 1197 738 1509 602  Q 1822 466 2213 466  Q 2559 466 2825 569  Q 3091 672 3220 851  Q 3350 1031 3350 1244  Q 3350 1459 3225 1620  Q 3100 1781 2813 1891  Q 2628 1963 1997 2114  Q 1366 2266 1113 2400  Q 784 2572 623 2826  Q 463 3081 463 3397  Q 463 3744 659 4045  Q 856 4347 1234 4503  Q 1613 4659 2075 4659  Q 2584 4659 2973 4495  Q 3363 4331 3572 4012  Q 3781 3694 3797 3291  L 3216 3247  Q 3169 3681 2898 3903  Q 2628 4125 2100 4125  Q 1550 4125 1298 3923  Q 1047 3722 1047 3438  Q 1047 3191 1225 3031  Q 1400 2872 2139 2705  Q 2878 2538 3153 2413  Q 3553 2228 3743 1945  Q 3934 1663 3934 1294  Q 3934 928 3725 604  Q 3516 281 3123 101  Q 2731 -78 2241 -78  Q 1619 -78 1198 103  Q 778 284 539 648  Q 300 1013 288 1472  z \" id=\"ArialMT-53\" transform=\"scale(0.015625)\" />\n       <path d=\"M 1294 0  L 78 4581  L 700 4581  L 1397 1578  Q 1509 1106 1591 641  Q 1766 1375 1797 1488  L 2669 4581  L 3400 4581  L 4056 2263  Q 4303 1400 4413 641  Q 4500 1075 4641 1638  L 5359 4581  L 5969 4581  L 4713 0  L 4128 0  L 3163 3491  Q 3041 3928 3019 4028  Q 2947 3713 2884 3491  L 1913 0  L 1294 0  z \" id=\"ArialMT-57\" transform=\"scale(0.015625)\" />\n       <path d=\"M -9 0  L 1750 4581  L 2403 4581  L 4278 0  L 3588 0  L 3053 1388  L 1138 1388  L 634 0  L -9 0  z M 1313 1881  L 2866 1881  L 2388 3150  Q 2169 3728 2063 4100  Q 1975 3659 1816 3225  L 1313 1881  z \" id=\"ArialMT-41\" transform=\"scale(0.015625)\" />\n       <path d=\"M 469 0  L 469 4581  L 1075 4581  L 1075 541  L 3331 541  L 3331 0  L 469 0  z \" id=\"ArialMT-4c\" transform=\"scale(0.015625)\" />\n       <path d=\"M 309 2231  Q 309 3372 921 4017  Q 1534 4663 2503 4663  Q 3138 4663 3647 4359  Q 4156 4056 4423 3514  Q 4691 2972 4691 2284  Q 4691 1588 4409 1038  Q 4128 488 3612 205  Q 3097 -78 2500 -78  Q 1853 -78 1343 234  Q 834 547 571 1087  Q 309 1628 309 2231  z M 934 2222  Q 934 1394 1379 917  Q 1825 441 2497 441  Q 3181 441 3623 922  Q 4066 1403 4066 2288  Q 4066 2847 3877 3264  Q 3688 3681 3323 3911  Q 2959 4141 2506 4141  Q 1863 4141 1398 3698  Q 934 3256 934 2222  z \" id=\"ArialMT-4f\" transform=\"scale(0.015625)\" />\n       <path d=\"M 597 0  L 597 4581  L 1203 4581  L 1203 0  L 597 0  z \" id=\"ArialMT-49\" transform=\"scale(0.015625)\" />\n       <path d=\"M 488 0  L 488 4581  L 1109 4581  L 3516 984  L 3516 4581  L 4097 4581  L 4097 0  L 3475 0  L 1069 3600  L 1069 0  L 488 0  z \" id=\"ArialMT-4e\" transform=\"scale(0.015625)\" />\n       <path d=\"M 2638 1797  L 2638 2334  L 4578 2338  L 4578 638  Q 4131 281 3656 101  Q 3181 -78 2681 -78  Q 2006 -78 1454 211  Q 903 500 622 1047  Q 341 1594 341 2269  Q 341 2938 620 3517  Q 900 4097 1425 4378  Q 1950 4659 2634 4659  Q 3131 4659 3532 4498  Q 3934 4338 4162 4050  Q 4391 3763 4509 3300  L 3963 3150  Q 3859 3500 3706 3700  Q 3553 3900 3268 4020  Q 2984 4141 2638 4141  Q 2222 4141 1919 4014  Q 1616 3888 1430 3681  Q 1244 3475 1141 3228  Q 966 2803 966 2306  Q 966 1694 1177 1281  Q 1388 869 1791 669  Q 2194 469 2647 469  Q 3041 469 3416 620  Q 3791 772 3984 944  L 3984 1797  L 2638 1797  z \" id=\"ArialMT-47\" transform=\"scale(0.015625)\" />\n       <path id=\"ArialMT-20\" transform=\"scale(0.015625)\" />\n       <path d=\"M 494 0  L 494 4581  L 2072 4581  Q 2606 4581 2888 4516  Q 3281 4425 3559 4188  Q 3922 3881 4101 3404  Q 4281 2928 4281 2316  Q 4281 1794 4159 1391  Q 4038 988 3847 723  Q 3656 459 3429 307  Q 3203 156 2883 78  Q 2563 0 2147 0  L 494 0  z M 1100 541  L 2078 541  Q 2531 541 2789 625  Q 3047 709 3200 863  Q 3416 1078 3536 1442  Q 3656 1806 3656 2325  Q 3656 3044 3420 3430  Q 3184 3816 2847 3947  Q 2603 4041 2063 4041  L 1100 4041  L 1100 541  z \" id=\"ArialMT-44\" transform=\"scale(0.015625)\" />\n       <path d=\"M 525 0  L 525 4581  L 3616 4581  L 3616 4041  L 1131 4041  L 1131 2622  L 3281 2622  L 3281 2081  L 1131 2081  L 1131 0  L 525 0  z \" id=\"ArialMT-46\" transform=\"scale(0.015625)\" />\n       <path d=\"M 3763 1606  L 4369 1453  Q 4178 706 3683 314  Q 3188 -78 2472 -78  Q 1731 -78 1267 223  Q 803 525 561 1097  Q 319 1669 319 2325  Q 319 3041 592 3573  Q 866 4106 1370 4382  Q 1875 4659 2481 4659  Q 3169 4659 3637 4309  Q 4106 3959 4291 3325  L 3694 3184  Q 3534 3684 3231 3912  Q 2928 4141 2469 4141  Q 1941 4141 1586 3887  Q 1231 3634 1087 3207  Q 944 2781 944 2328  Q 944 1744 1114 1308  Q 1284 872 1643 656  Q 2003 441 2422 441  Q 2931 441 3284 734  Q 3638 1028 3763 1606  z \" id=\"ArialMT-43\" transform=\"scale(0.015625)\" />\n       <path d=\"M 3500 4581  L 4106 4581  L 4106 1934  Q 4106 1244 3950 837  Q 3794 431 3386 176  Q 2978 -78 2316 -78  Q 1672 -78 1262 144  Q 853 366 678 786  Q 503 1206 503 1934  L 503 4581  L 1109 4581  L 1109 1938  Q 1109 1341 1220 1058  Q 1331 775 1601 622  Q 1872 469 2263 469  Q 2931 469 3215 772  Q 3500 1075 3500 1938  L 3500 4581  z \" id=\"ArialMT-55\" transform=\"scale(0.015625)\" />\n       <path d=\"M 1659 0  L 1659 4041  L 150 4041  L 150 4581  L 3781 4581  L 3781 4041  L 2266 4041  L 2266 0  L 1659 0  z \" id=\"ArialMT-54\" transform=\"scale(0.015625)\" />\n       <path d=\"M 1784 0  L 1784 1941  L 19 4581  L 756 4581  L 1659 3200  Q 1909 2813 2125 2425  Q 2331 2784 2625 3234  L 3513 4581  L 4219 4581  L 2391 1941  L 2391 0  L 1784 0  z \" id=\"ArialMT-59\" transform=\"scale(0.015625)\" />\n      </defs>\n      <use xlink:href=\"#ArialMT-53\" />\n      <use x=\"66.699219\" xlink:href=\"#ArialMT-57\" />\n      <use x=\"157.333984\" xlink:href=\"#ArialMT-41\" />\n      <use x=\"224.033203\" xlink:href=\"#ArialMT-4c\" />\n      <use x=\"279.648438\" xlink:href=\"#ArialMT-4c\" />\n      <use x=\"335.263672\" xlink:href=\"#ArialMT-4f\" />\n      <use x=\"413.046875\" xlink:href=\"#ArialMT-57\" />\n      <use x=\"507.431641\" xlink:href=\"#ArialMT-49\" />\n      <use x=\"535.214844\" xlink:href=\"#ArialMT-4e\" />\n      <use x=\"607.431641\" xlink:href=\"#ArialMT-47\" />\n      <use x=\"685.214844\" xlink:href=\"#ArialMT-20\" />\n      <use x=\"712.998047\" xlink:href=\"#ArialMT-44\" />\n      <use x=\"785.214844\" xlink:href=\"#ArialMT-49\" />\n      <use x=\"812.998047\" xlink:href=\"#ArialMT-46\" />\n      <use x=\"874.082031\" xlink:href=\"#ArialMT-46\" />\n      <use x=\"935.166016\" xlink:href=\"#ArialMT-49\" />\n      <use x=\"962.949219\" xlink:href=\"#ArialMT-43\" />\n      <use x=\"1035.166016\" xlink:href=\"#ArialMT-55\" />\n      <use x=\"1107.382812\" xlink:href=\"#ArialMT-4c\" />\n      <use x=\"1155.623047\" xlink:href=\"#ArialMT-54\" />\n      <use x=\"1216.707031\" xlink:href=\"#ArialMT-59\" />\n     </g>\n    </g>\n   </g>\n   <g id=\"matplotlib.axis_2\">\n    <g id=\"ytick_1\">\n     <g id=\"line2d_4\">\n      <defs>\n       <path d=\"M 0 0  L -3.5 0  \" id=\"mdc447bf1f6\" style=\"stroke:#444443;stroke-width:0.3;\" />\n      </defs>\n      <g>\n       <use style=\"fill:#444443;stroke:#444443;stroke-width:0.3;\" x=\"19.7225\" xlink:href=\"#mdc447bf1f6\" y=\"32.510447\" />\n      </g>\n     </g>\n     <g id=\"text_5\">\n      \n      <g style=\"fill:#444443;\" transform=\"translate(0 35.549822)scale(0.08 -0.08)\">\n       <use xlink:href=\"#DejaVuSans-31\" />\n       <use x=\"63.623047\" xlink:href=\"#DejaVuSans-2e\" />\n       <use x=\"95.410156\" xlink:href=\"#DejaVuSans-35\" />\n      </g>\n     </g>\n    </g>\n    <g id=\"ytick_2\">\n     <g id=\"line2d_5\">\n      <g>\n       <use style=\"fill:#444443;stroke:#444443;stroke-width:0.3;\" x=\"19.7225\" xlink:href=\"#mdc447bf1f6\" y=\"3.483262\" />\n      </g>\n     </g>\n     <g id=\"text_6\">\n      \n      <g style=\"fill:#444443;\" transform=\"translate(0 6.522637)scale(0.08 -0.08)\">\n       <use xlink:href=\"#DejaVuSans-32\" />\n       <use x=\"63.623047\" xlink:href=\"#DejaVuSans-2e\" />\n       <use x=\"95.410156\" xlink:href=\"#DejaVuSans-30\" />\n      </g>\n     </g>\n    </g>\n   </g>\n   <g id=\"line2d_6\">\n    <path clip-path=\"url(#pd73c69725f)\" d=\"M 19.7225 28.044726  L 89.4725 28.044726  \" style=\"fill:none;stroke:#444443;stroke-dasharray:3.7,1.6;stroke-dashoffset:0;\" />\n   </g>\n   <g id=\"line2d_7\">\n    <path clip-path=\"url(#pd73c69725f)\" d=\"M 89.4725 59.796  L 89.4725 0  \" style=\"fill:none;stroke:#444443;stroke-dasharray:3.7,1.6;stroke-dashoffset:0;\" />\n   </g>\n   <g id=\"line2d_8\">\n    <path clip-path=\"url(#pd73c69725f)\" d=\"M 89.4725 7.705398  L 159.2225 7.705398  \" style=\"fill:none;stroke:#444443;stroke-dasharray:3.7,1.6;stroke-dashoffset:0;\" />\n   </g>\n   <g id=\"patch_4\">\n    <path d=\"M 19.7225 59.796  L 19.7225 0  \" style=\"fill:none;stroke:#000000;stroke-linecap:square;stroke-linejoin:miter;stroke-width:0.3;\" />\n   </g>\n   <g id=\"patch_5\">\n    <path d=\"M 19.7225 59.796  L 159.2225 59.796  \" style=\"fill:none;stroke:#000000;stroke-linecap:square;stroke-linejoin:miter;stroke-width:0.3;\" />\n   </g>\n  </g>\n </g>\n <defs>\n  <clipPath id=\"pd73c69725f\">\n   <rect height=\"59.796\" width=\"139.5\" x=\"19.7225\" y=\"0\" />\n  </clipPath>\n </defs>\n</svg></g>\n\n<g id=\"edge7\" class=\"edge\">\n<title>node1-&gt;node2</title>\n<path fill=\"none\" stroke=\"#444443\" stroke-width=\"0.3\" d=\"M399.74,-174.53C381.24,-165.95 361.12,-156.61 342.44,-147.95\" />\n<polygon fill=\"#444443\" stroke=\"#444443\" stroke-width=\"0.3\" points=\"342.95,-146.64 338.73,-146.23 341.77,-149.18 342.95,-146.64\" />\n</g>\n\n<g id=\"edge8\" class=\"edge\">\n<title>node1-&gt;node5</title>\n<path fill=\"none\" stroke=\"#444443\" stroke-width=\"0.3\" d=\"M459.59,-168.89C458.8,-164.73 457.99,-160.47 457.2,-156.26\" />\n<polygon fill=\"#444443\" stroke=\"#444443\" stroke-width=\"0.3\" points=\"458.53,-155.74 456.41,-152.07 455.78,-156.26 458.53,-155.74\" />\n</g>\n\n<g id=\"node5\" class=\"node\">\n<title>node8</title>\n<svg height=\"67px\" version=\"1.1\" viewBox=\"0 0 165.58375 89.666625\" width=\"124px\" preserveAspectRatio=\"xMinYMin meet\" x=\"558.5\" y=\"-239.5\">\n <metadata>\n  <rdf:RDF>\n   <ns2:Work>\n    <dc:type rdf:resource=\"http://purl.org/dc/dcmitype/StillImage\" />\n    <dc:date>2022-06-06T19:38:44.734550</dc:date>\n    <dc:format>image/svg+xml</dc:format>\n    <dc:creator>\n     <ns2:Agent>\n      <dc:title>Matplotlib v3.4.3, https://matplotlib.org/</dc:title>\n     </ns2:Agent>\n    </dc:creator>\n   </ns2:Work>\n  </rdf:RDF>\n </metadata>\n <defs>\n  <style type=\"text/css\">*{stroke-linecap:butt;stroke-linejoin:round;}</style>\n </defs>\n <g id=\"figure_1\">\n  <g id=\"patch_1\">\n   <path d=\"M 0 89.666625  L 165.58375 89.666625  L 165.58375 0  L 0 0  z \" style=\"fill:none;\" />\n  </g>\n  <g id=\"axes_1\">\n   <g id=\"patch_2\">\n    <path d=\"M 19.7225 59.796  L 159.2225 59.796  L 159.2225 0  L 19.7225 0  z \" style=\"fill:#ffffff;\" />\n   </g>\n   <g id=\"PathCollection_1\">\n    <defs>\n     <path d=\"M 0 1.118034  C 0.296506 1.118034 0.580908 1.000231 0.790569 0.790569  C 1.000231 0.580908 1.118034 0.296506 1.118034 0  C 1.118034 -0.296506 1.000231 -0.580908 0.790569 -0.790569  C 0.580908 -1.000231 0.296506 -1.118034 0 -1.118034  C -0.296506 -1.118034 -0.580908 -1.000231 -0.790569 -0.790569  C -1.000231 -0.580908 -1.118034 -0.296506 -1.118034 0  C -1.118034 0.296506 -1.000231 0.580908 -0.790569 0.790569  C -0.580908 1.000231 -0.296506 1.118034 0 1.118034  z \" id=\"m90f3c54495\" style=\"stroke:#4575b4;stroke-opacity:0.7;stroke-width:0.3;\" />\n    </defs>\n    <g clip-path=\"url(#p091be8d4e3)\">\n     <use style=\"fill:#4575b4;fill-opacity:0.7;stroke:#4575b4;stroke-opacity:0.7;stroke-width:0.3;\" x=\"159.2225\" xlink:href=\"#m90f3c54495\" y=\"3.483262\" />\n     <use style=\"fill:#4575b4;fill-opacity:0.7;stroke:#4575b4;stroke-opacity:0.7;stroke-width:0.3;\" x=\"159.2225\" xlink:href=\"#m90f3c54495\" y=\"3.483262\" />\n     <use style=\"fill:#4575b4;fill-opacity:0.7;stroke:#4575b4;stroke-opacity:0.7;stroke-width:0.3;\" x=\"159.2225\" xlink:href=\"#m90f3c54495\" y=\"3.483262\" />\n     <use style=\"fill:#4575b4;fill-opacity:0.7;stroke:#4575b4;stroke-opacity:0.7;stroke-width:0.3;\" x=\"19.7225\" xlink:href=\"#m90f3c54495\" y=\"3.483262\" />\n     <use style=\"fill:#4575b4;fill-opacity:0.7;stroke:#4575b4;stroke-opacity:0.7;stroke-width:0.3;\" x=\"159.2225\" xlink:href=\"#m90f3c54495\" y=\"3.483262\" />\n     <use style=\"fill:#4575b4;fill-opacity:0.7;stroke:#4575b4;stroke-opacity:0.7;stroke-width:0.3;\" x=\"19.7225\" xlink:href=\"#m90f3c54495\" y=\"3.483262\" />\n     <use style=\"fill:#4575b4;fill-opacity:0.7;stroke:#4575b4;stroke-opacity:0.7;stroke-width:0.3;\" x=\"159.2225\" xlink:href=\"#m90f3c54495\" y=\"3.483262\" />\n     <use style=\"fill:#4575b4;fill-opacity:0.7;stroke:#4575b4;stroke-opacity:0.7;stroke-width:0.3;\" x=\"159.2225\" xlink:href=\"#m90f3c54495\" y=\"3.483262\" />\n     <use style=\"fill:#4575b4;fill-opacity:0.7;stroke:#4575b4;stroke-opacity:0.7;stroke-width:0.3;\" x=\"19.7225\" xlink:href=\"#m90f3c54495\" y=\"3.483262\" />\n     <use style=\"fill:#4575b4;fill-opacity:0.7;stroke:#4575b4;stroke-opacity:0.7;stroke-width:0.3;\" x=\"19.7225\" xlink:href=\"#m90f3c54495\" y=\"3.483262\" />\n     <use style=\"fill:#4575b4;fill-opacity:0.7;stroke:#4575b4;stroke-opacity:0.7;stroke-width:0.3;\" x=\"159.2225\" xlink:href=\"#m90f3c54495\" y=\"3.483262\" />\n     <use style=\"fill:#4575b4;fill-opacity:0.7;stroke:#4575b4;stroke-opacity:0.7;stroke-width:0.3;\" x=\"19.7225\" xlink:href=\"#m90f3c54495\" y=\"3.483262\" />\n     <use style=\"fill:#4575b4;fill-opacity:0.7;stroke:#4575b4;stroke-opacity:0.7;stroke-width:0.3;\" x=\"19.7225\" xlink:href=\"#m90f3c54495\" y=\"3.483262\" />\n     <use style=\"fill:#4575b4;fill-opacity:0.7;stroke:#4575b4;stroke-opacity:0.7;stroke-width:0.3;\" x=\"159.2225\" xlink:href=\"#m90f3c54495\" y=\"3.483262\" />\n     <use style=\"fill:#4575b4;fill-opacity:0.7;stroke:#4575b4;stroke-opacity:0.7;stroke-width:0.3;\" x=\"19.7225\" xlink:href=\"#m90f3c54495\" y=\"3.483262\" />\n     <use style=\"fill:#4575b4;fill-opacity:0.7;stroke:#4575b4;stroke-opacity:0.7;stroke-width:0.3;\" x=\"19.7225\" xlink:href=\"#m90f3c54495\" y=\"61.537631\" />\n     <use style=\"fill:#4575b4;fill-opacity:0.7;stroke:#4575b4;stroke-opacity:0.7;stroke-width:0.3;\" x=\"19.7225\" xlink:href=\"#m90f3c54495\" y=\"3.483262\" />\n     <use style=\"fill:#4575b4;fill-opacity:0.7;stroke:#4575b4;stroke-opacity:0.7;stroke-width:0.3;\" x=\"159.2225\" xlink:href=\"#m90f3c54495\" y=\"3.483262\" />\n     <use style=\"fill:#4575b4;fill-opacity:0.7;stroke:#4575b4;stroke-opacity:0.7;stroke-width:0.3;\" x=\"159.2225\" xlink:href=\"#m90f3c54495\" y=\"3.483262\" />\n     <use style=\"fill:#4575b4;fill-opacity:0.7;stroke:#4575b4;stroke-opacity:0.7;stroke-width:0.3;\" x=\"19.7225\" xlink:href=\"#m90f3c54495\" y=\"3.483262\" />\n     <use style=\"fill:#4575b4;fill-opacity:0.7;stroke:#4575b4;stroke-opacity:0.7;stroke-width:0.3;\" x=\"159.2225\" xlink:href=\"#m90f3c54495\" y=\"3.483262\" />\n     <use style=\"fill:#4575b4;fill-opacity:0.7;stroke:#4575b4;stroke-opacity:0.7;stroke-width:0.3;\" x=\"19.7225\" xlink:href=\"#m90f3c54495\" y=\"3.483262\" />\n     <use style=\"fill:#4575b4;fill-opacity:0.7;stroke:#4575b4;stroke-opacity:0.7;stroke-width:0.3;\" x=\"19.7225\" xlink:href=\"#m90f3c54495\" y=\"3.483262\" />\n     <use style=\"fill:#4575b4;fill-opacity:0.7;stroke:#4575b4;stroke-opacity:0.7;stroke-width:0.3;\" x=\"159.2225\" xlink:href=\"#m90f3c54495\" y=\"3.483262\" />\n     <use style=\"fill:#4575b4;fill-opacity:0.7;stroke:#4575b4;stroke-opacity:0.7;stroke-width:0.3;\" x=\"159.2225\" xlink:href=\"#m90f3c54495\" y=\"3.483262\" />\n     <use style=\"fill:#4575b4;fill-opacity:0.7;stroke:#4575b4;stroke-opacity:0.7;stroke-width:0.3;\" x=\"19.7225\" xlink:href=\"#m90f3c54495\" y=\"3.483262\" />\n     <use style=\"fill:#4575b4;fill-opacity:0.7;stroke:#4575b4;stroke-opacity:0.7;stroke-width:0.3;\" x=\"19.7225\" xlink:href=\"#m90f3c54495\" y=\"3.483262\" />\n     <use style=\"fill:#4575b4;fill-opacity:0.7;stroke:#4575b4;stroke-opacity:0.7;stroke-width:0.3;\" x=\"19.7225\" xlink:href=\"#m90f3c54495\" y=\"3.483262\" />\n     <use style=\"fill:#4575b4;fill-opacity:0.7;stroke:#4575b4;stroke-opacity:0.7;stroke-width:0.3;\" x=\"159.2225\" xlink:href=\"#m90f3c54495\" y=\"3.483262\" />\n     <use style=\"fill:#4575b4;fill-opacity:0.7;stroke:#4575b4;stroke-opacity:0.7;stroke-width:0.3;\" x=\"19.7225\" xlink:href=\"#m90f3c54495\" y=\"3.483262\" />\n     <use style=\"fill:#4575b4;fill-opacity:0.7;stroke:#4575b4;stroke-opacity:0.7;stroke-width:0.3;\" x=\"19.7225\" xlink:href=\"#m90f3c54495\" y=\"3.483262\" />\n     <use style=\"fill:#4575b4;fill-opacity:0.7;stroke:#4575b4;stroke-opacity:0.7;stroke-width:0.3;\" x=\"19.7225\" xlink:href=\"#m90f3c54495\" y=\"3.483262\" />\n     <use style=\"fill:#4575b4;fill-opacity:0.7;stroke:#4575b4;stroke-opacity:0.7;stroke-width:0.3;\" x=\"159.2225\" xlink:href=\"#m90f3c54495\" y=\"3.483262\" />\n     <use style=\"fill:#4575b4;fill-opacity:0.7;stroke:#4575b4;stroke-opacity:0.7;stroke-width:0.3;\" x=\"159.2225\" xlink:href=\"#m90f3c54495\" y=\"3.483262\" />\n     <use style=\"fill:#4575b4;fill-opacity:0.7;stroke:#4575b4;stroke-opacity:0.7;stroke-width:0.3;\" x=\"19.7225\" xlink:href=\"#m90f3c54495\" y=\"3.483262\" />\n     <use style=\"fill:#4575b4;fill-opacity:0.7;stroke:#4575b4;stroke-opacity:0.7;stroke-width:0.3;\" x=\"19.7225\" xlink:href=\"#m90f3c54495\" y=\"3.483262\" />\n     <use style=\"fill:#4575b4;fill-opacity:0.7;stroke:#4575b4;stroke-opacity:0.7;stroke-width:0.3;\" x=\"19.7225\" xlink:href=\"#m90f3c54495\" y=\"61.537631\" />\n     <use style=\"fill:#4575b4;fill-opacity:0.7;stroke:#4575b4;stroke-opacity:0.7;stroke-width:0.3;\" x=\"19.7225\" xlink:href=\"#m90f3c54495\" y=\"3.483262\" />\n     <use style=\"fill:#4575b4;fill-opacity:0.7;stroke:#4575b4;stroke-opacity:0.7;stroke-width:0.3;\" x=\"159.2225\" xlink:href=\"#m90f3c54495\" y=\"3.483262\" />\n     <use style=\"fill:#4575b4;fill-opacity:0.7;stroke:#4575b4;stroke-opacity:0.7;stroke-width:0.3;\" x=\"159.2225\" xlink:href=\"#m90f3c54495\" y=\"3.483262\" />\n     <use style=\"fill:#4575b4;fill-opacity:0.7;stroke:#4575b4;stroke-opacity:0.7;stroke-width:0.3;\" x=\"159.2225\" xlink:href=\"#m90f3c54495\" y=\"3.483262\" />\n     <use style=\"fill:#4575b4;fill-opacity:0.7;stroke:#4575b4;stroke-opacity:0.7;stroke-width:0.3;\" x=\"19.7225\" xlink:href=\"#m90f3c54495\" y=\"3.483262\" />\n     <use style=\"fill:#4575b4;fill-opacity:0.7;stroke:#4575b4;stroke-opacity:0.7;stroke-width:0.3;\" x=\"159.2225\" xlink:href=\"#m90f3c54495\" y=\"3.483262\" />\n     <use style=\"fill:#4575b4;fill-opacity:0.7;stroke:#4575b4;stroke-opacity:0.7;stroke-width:0.3;\" x=\"159.2225\" xlink:href=\"#m90f3c54495\" y=\"3.483262\" />\n     <use style=\"fill:#4575b4;fill-opacity:0.7;stroke:#4575b4;stroke-opacity:0.7;stroke-width:0.3;\" x=\"19.7225\" xlink:href=\"#m90f3c54495\" y=\"3.483262\" />\n     <use style=\"fill:#4575b4;fill-opacity:0.7;stroke:#4575b4;stroke-opacity:0.7;stroke-width:0.3;\" x=\"159.2225\" xlink:href=\"#m90f3c54495\" y=\"3.483262\" />\n     <use style=\"fill:#4575b4;fill-opacity:0.7;stroke:#4575b4;stroke-opacity:0.7;stroke-width:0.3;\" x=\"19.7225\" xlink:href=\"#m90f3c54495\" y=\"3.483262\" />\n     <use style=\"fill:#4575b4;fill-opacity:0.7;stroke:#4575b4;stroke-opacity:0.7;stroke-width:0.3;\" x=\"159.2225\" xlink:href=\"#m90f3c54495\" y=\"3.483262\" />\n     <use style=\"fill:#4575b4;fill-opacity:0.7;stroke:#4575b4;stroke-opacity:0.7;stroke-width:0.3;\" x=\"19.7225\" xlink:href=\"#m90f3c54495\" y=\"3.483262\" />\n     <use style=\"fill:#4575b4;fill-opacity:0.7;stroke:#4575b4;stroke-opacity:0.7;stroke-width:0.3;\" x=\"19.7225\" xlink:href=\"#m90f3c54495\" y=\"3.483262\" />\n     <use style=\"fill:#4575b4;fill-opacity:0.7;stroke:#4575b4;stroke-opacity:0.7;stroke-width:0.3;\" x=\"19.7225\" xlink:href=\"#m90f3c54495\" y=\"61.537631\" />\n     <use style=\"fill:#4575b4;fill-opacity:0.7;stroke:#4575b4;stroke-opacity:0.7;stroke-width:0.3;\" x=\"19.7225\" xlink:href=\"#m90f3c54495\" y=\"3.483262\" />\n     <use style=\"fill:#4575b4;fill-opacity:0.7;stroke:#4575b4;stroke-opacity:0.7;stroke-width:0.3;\" x=\"159.2225\" xlink:href=\"#m90f3c54495\" y=\"3.483262\" />\n     <use style=\"fill:#4575b4;fill-opacity:0.7;stroke:#4575b4;stroke-opacity:0.7;stroke-width:0.3;\" x=\"159.2225\" xlink:href=\"#m90f3c54495\" y=\"3.483262\" />\n     <use style=\"fill:#4575b4;fill-opacity:0.7;stroke:#4575b4;stroke-opacity:0.7;stroke-width:0.3;\" x=\"19.7225\" xlink:href=\"#m90f3c54495\" y=\"3.483262\" />\n     <use style=\"fill:#4575b4;fill-opacity:0.7;stroke:#4575b4;stroke-opacity:0.7;stroke-width:0.3;\" x=\"159.2225\" xlink:href=\"#m90f3c54495\" y=\"3.483262\" />\n     <use style=\"fill:#4575b4;fill-opacity:0.7;stroke:#4575b4;stroke-opacity:0.7;stroke-width:0.3;\" x=\"19.7225\" xlink:href=\"#m90f3c54495\" y=\"3.483262\" />\n     <use style=\"fill:#4575b4;fill-opacity:0.7;stroke:#4575b4;stroke-opacity:0.7;stroke-width:0.3;\" x=\"19.7225\" xlink:href=\"#m90f3c54495\" y=\"3.483262\" />\n     <use style=\"fill:#4575b4;fill-opacity:0.7;stroke:#4575b4;stroke-opacity:0.7;stroke-width:0.3;\" x=\"159.2225\" xlink:href=\"#m90f3c54495\" y=\"3.483262\" />\n     <use style=\"fill:#4575b4;fill-opacity:0.7;stroke:#4575b4;stroke-opacity:0.7;stroke-width:0.3;\" x=\"19.7225\" xlink:href=\"#m90f3c54495\" y=\"3.483262\" />\n     <use style=\"fill:#4575b4;fill-opacity:0.7;stroke:#4575b4;stroke-opacity:0.7;stroke-width:0.3;\" x=\"19.7225\" xlink:href=\"#m90f3c54495\" y=\"3.483262\" />\n     <use style=\"fill:#4575b4;fill-opacity:0.7;stroke:#4575b4;stroke-opacity:0.7;stroke-width:0.3;\" x=\"159.2225\" xlink:href=\"#m90f3c54495\" y=\"3.483262\" />\n     <use style=\"fill:#4575b4;fill-opacity:0.7;stroke:#4575b4;stroke-opacity:0.7;stroke-width:0.3;\" x=\"159.2225\" xlink:href=\"#m90f3c54495\" y=\"3.483262\" />\n     <use style=\"fill:#4575b4;fill-opacity:0.7;stroke:#4575b4;stroke-opacity:0.7;stroke-width:0.3;\" x=\"19.7225\" xlink:href=\"#m90f3c54495\" y=\"3.483262\" />\n     <use style=\"fill:#4575b4;fill-opacity:0.7;stroke:#4575b4;stroke-opacity:0.7;stroke-width:0.3;\" x=\"19.7225\" xlink:href=\"#m90f3c54495\" y=\"3.483262\" />\n     <use style=\"fill:#4575b4;fill-opacity:0.7;stroke:#4575b4;stroke-opacity:0.7;stroke-width:0.3;\" x=\"159.2225\" xlink:href=\"#m90f3c54495\" y=\"3.483262\" />\n     <use style=\"fill:#4575b4;fill-opacity:0.7;stroke:#4575b4;stroke-opacity:0.7;stroke-width:0.3;\" x=\"19.7225\" xlink:href=\"#m90f3c54495\" y=\"3.483262\" />\n     <use style=\"fill:#4575b4;fill-opacity:0.7;stroke:#4575b4;stroke-opacity:0.7;stroke-width:0.3;\" x=\"19.7225\" xlink:href=\"#m90f3c54495\" y=\"3.483262\" />\n     <use style=\"fill:#4575b4;fill-opacity:0.7;stroke:#4575b4;stroke-opacity:0.7;stroke-width:0.3;\" x=\"19.7225\" xlink:href=\"#m90f3c54495\" y=\"3.483262\" />\n     <use style=\"fill:#4575b4;fill-opacity:0.7;stroke:#4575b4;stroke-opacity:0.7;stroke-width:0.3;\" x=\"159.2225\" xlink:href=\"#m90f3c54495\" y=\"3.483262\" />\n     <use style=\"fill:#4575b4;fill-opacity:0.7;stroke:#4575b4;stroke-opacity:0.7;stroke-width:0.3;\" x=\"19.7225\" xlink:href=\"#m90f3c54495\" y=\"3.483262\" />\n     <use style=\"fill:#4575b4;fill-opacity:0.7;stroke:#4575b4;stroke-opacity:0.7;stroke-width:0.3;\" x=\"19.7225\" xlink:href=\"#m90f3c54495\" y=\"3.483262\" />\n     <use style=\"fill:#4575b4;fill-opacity:0.7;stroke:#4575b4;stroke-opacity:0.7;stroke-width:0.3;\" x=\"19.7225\" xlink:href=\"#m90f3c54495\" y=\"3.483262\" />\n     <use style=\"fill:#4575b4;fill-opacity:0.7;stroke:#4575b4;stroke-opacity:0.7;stroke-width:0.3;\" x=\"159.2225\" xlink:href=\"#m90f3c54495\" y=\"3.483262\" />\n     <use style=\"fill:#4575b4;fill-opacity:0.7;stroke:#4575b4;stroke-opacity:0.7;stroke-width:0.3;\" x=\"19.7225\" xlink:href=\"#m90f3c54495\" y=\"3.483262\" />\n     <use style=\"fill:#4575b4;fill-opacity:0.7;stroke:#4575b4;stroke-opacity:0.7;stroke-width:0.3;\" x=\"159.2225\" xlink:href=\"#m90f3c54495\" y=\"3.483262\" />\n     <use style=\"fill:#4575b4;fill-opacity:0.7;stroke:#4575b4;stroke-opacity:0.7;stroke-width:0.3;\" x=\"159.2225\" xlink:href=\"#m90f3c54495\" y=\"3.483262\" />\n     <use style=\"fill:#4575b4;fill-opacity:0.7;stroke:#4575b4;stroke-opacity:0.7;stroke-width:0.3;\" x=\"159.2225\" xlink:href=\"#m90f3c54495\" y=\"3.483262\" />\n     <use style=\"fill:#4575b4;fill-opacity:0.7;stroke:#4575b4;stroke-opacity:0.7;stroke-width:0.3;\" x=\"19.7225\" xlink:href=\"#m90f3c54495\" y=\"3.483262\" />\n     <use style=\"fill:#4575b4;fill-opacity:0.7;stroke:#4575b4;stroke-opacity:0.7;stroke-width:0.3;\" x=\"19.7225\" xlink:href=\"#m90f3c54495\" y=\"3.483262\" />\n     <use style=\"fill:#4575b4;fill-opacity:0.7;stroke:#4575b4;stroke-opacity:0.7;stroke-width:0.3;\" x=\"159.2225\" xlink:href=\"#m90f3c54495\" y=\"3.483262\" />\n     <use style=\"fill:#4575b4;fill-opacity:0.7;stroke:#4575b4;stroke-opacity:0.7;stroke-width:0.3;\" x=\"19.7225\" xlink:href=\"#m90f3c54495\" y=\"3.483262\" />\n     <use style=\"fill:#4575b4;fill-opacity:0.7;stroke:#4575b4;stroke-opacity:0.7;stroke-width:0.3;\" x=\"159.2225\" xlink:href=\"#m90f3c54495\" y=\"3.483262\" />\n     <use style=\"fill:#4575b4;fill-opacity:0.7;stroke:#4575b4;stroke-opacity:0.7;stroke-width:0.3;\" x=\"159.2225\" xlink:href=\"#m90f3c54495\" y=\"3.483262\" />\n     <use style=\"fill:#4575b4;fill-opacity:0.7;stroke:#4575b4;stroke-opacity:0.7;stroke-width:0.3;\" x=\"159.2225\" xlink:href=\"#m90f3c54495\" y=\"3.483262\" />\n     <use style=\"fill:#4575b4;fill-opacity:0.7;stroke:#4575b4;stroke-opacity:0.7;stroke-width:0.3;\" x=\"19.7225\" xlink:href=\"#m90f3c54495\" y=\"3.483262\" />\n     <use style=\"fill:#4575b4;fill-opacity:0.7;stroke:#4575b4;stroke-opacity:0.7;stroke-width:0.3;\" x=\"159.2225\" xlink:href=\"#m90f3c54495\" y=\"3.483262\" />\n     <use style=\"fill:#4575b4;fill-opacity:0.7;stroke:#4575b4;stroke-opacity:0.7;stroke-width:0.3;\" x=\"19.7225\" xlink:href=\"#m90f3c54495\" y=\"3.483262\" />\n     <use style=\"fill:#4575b4;fill-opacity:0.7;stroke:#4575b4;stroke-opacity:0.7;stroke-width:0.3;\" x=\"159.2225\" xlink:href=\"#m90f3c54495\" y=\"3.483262\" />\n     <use style=\"fill:#4575b4;fill-opacity:0.7;stroke:#4575b4;stroke-opacity:0.7;stroke-width:0.3;\" x=\"159.2225\" xlink:href=\"#m90f3c54495\" y=\"3.483262\" />\n     <use style=\"fill:#4575b4;fill-opacity:0.7;stroke:#4575b4;stroke-opacity:0.7;stroke-width:0.3;\" x=\"159.2225\" xlink:href=\"#m90f3c54495\" y=\"3.483262\" />\n     <use style=\"fill:#4575b4;fill-opacity:0.7;stroke:#4575b4;stroke-opacity:0.7;stroke-width:0.3;\" x=\"19.7225\" xlink:href=\"#m90f3c54495\" y=\"3.483262\" />\n     <use style=\"fill:#4575b4;fill-opacity:0.7;stroke:#4575b4;stroke-opacity:0.7;stroke-width:0.3;\" x=\"159.2225\" xlink:href=\"#m90f3c54495\" y=\"3.483262\" />\n     <use style=\"fill:#4575b4;fill-opacity:0.7;stroke:#4575b4;stroke-opacity:0.7;stroke-width:0.3;\" x=\"159.2225\" xlink:href=\"#m90f3c54495\" y=\"3.483262\" />\n     <use style=\"fill:#4575b4;fill-opacity:0.7;stroke:#4575b4;stroke-opacity:0.7;stroke-width:0.3;\" x=\"19.7225\" xlink:href=\"#m90f3c54495\" y=\"3.483262\" />\n     <use style=\"fill:#4575b4;fill-opacity:0.7;stroke:#4575b4;stroke-opacity:0.7;stroke-width:0.3;\" x=\"159.2225\" xlink:href=\"#m90f3c54495\" y=\"3.483262\" />\n     <use style=\"fill:#4575b4;fill-opacity:0.7;stroke:#4575b4;stroke-opacity:0.7;stroke-width:0.3;\" x=\"19.7225\" xlink:href=\"#m90f3c54495\" y=\"3.483262\" />\n     <use style=\"fill:#4575b4;fill-opacity:0.7;stroke:#4575b4;stroke-opacity:0.7;stroke-width:0.3;\" x=\"19.7225\" xlink:href=\"#m90f3c54495\" y=\"3.483262\" />\n     <use style=\"fill:#4575b4;fill-opacity:0.7;stroke:#4575b4;stroke-opacity:0.7;stroke-width:0.3;\" x=\"159.2225\" xlink:href=\"#m90f3c54495\" y=\"3.483262\" />\n     <use style=\"fill:#4575b4;fill-opacity:0.7;stroke:#4575b4;stroke-opacity:0.7;stroke-width:0.3;\" x=\"19.7225\" xlink:href=\"#m90f3c54495\" y=\"3.483262\" />\n     <use style=\"fill:#4575b4;fill-opacity:0.7;stroke:#4575b4;stroke-opacity:0.7;stroke-width:0.3;\" x=\"19.7225\" xlink:href=\"#m90f3c54495\" y=\"3.483262\" />\n     <use style=\"fill:#4575b4;fill-opacity:0.7;stroke:#4575b4;stroke-opacity:0.7;stroke-width:0.3;\" x=\"19.7225\" xlink:href=\"#m90f3c54495\" y=\"3.483262\" />\n     <use style=\"fill:#4575b4;fill-opacity:0.7;stroke:#4575b4;stroke-opacity:0.7;stroke-width:0.3;\" x=\"19.7225\" xlink:href=\"#m90f3c54495\" y=\"3.483262\" />\n     <use style=\"fill:#4575b4;fill-opacity:0.7;stroke:#4575b4;stroke-opacity:0.7;stroke-width:0.3;\" x=\"159.2225\" xlink:href=\"#m90f3c54495\" y=\"3.483262\" />\n     <use style=\"fill:#4575b4;fill-opacity:0.7;stroke:#4575b4;stroke-opacity:0.7;stroke-width:0.3;\" x=\"19.7225\" xlink:href=\"#m90f3c54495\" y=\"3.483262\" />\n     <use style=\"fill:#4575b4;fill-opacity:0.7;stroke:#4575b4;stroke-opacity:0.7;stroke-width:0.3;\" x=\"19.7225\" xlink:href=\"#m90f3c54495\" y=\"3.483262\" />\n     <use style=\"fill:#4575b4;fill-opacity:0.7;stroke:#4575b4;stroke-opacity:0.7;stroke-width:0.3;\" x=\"19.7225\" xlink:href=\"#m90f3c54495\" y=\"3.483262\" />\n     <use style=\"fill:#4575b4;fill-opacity:0.7;stroke:#4575b4;stroke-opacity:0.7;stroke-width:0.3;\" x=\"159.2225\" xlink:href=\"#m90f3c54495\" y=\"3.483262\" />\n     <use style=\"fill:#4575b4;fill-opacity:0.7;stroke:#4575b4;stroke-opacity:0.7;stroke-width:0.3;\" x=\"19.7225\" xlink:href=\"#m90f3c54495\" y=\"3.483262\" />\n     <use style=\"fill:#4575b4;fill-opacity:0.7;stroke:#4575b4;stroke-opacity:0.7;stroke-width:0.3;\" x=\"159.2225\" xlink:href=\"#m90f3c54495\" y=\"3.483262\" />\n     <use style=\"fill:#4575b4;fill-opacity:0.7;stroke:#4575b4;stroke-opacity:0.7;stroke-width:0.3;\" x=\"159.2225\" xlink:href=\"#m90f3c54495\" y=\"3.483262\" />\n     <use style=\"fill:#4575b4;fill-opacity:0.7;stroke:#4575b4;stroke-opacity:0.7;stroke-width:0.3;\" x=\"19.7225\" xlink:href=\"#m90f3c54495\" y=\"3.483262\" />\n     <use style=\"fill:#4575b4;fill-opacity:0.7;stroke:#4575b4;stroke-opacity:0.7;stroke-width:0.3;\" x=\"159.2225\" xlink:href=\"#m90f3c54495\" y=\"3.483262\" />\n     <use style=\"fill:#4575b4;fill-opacity:0.7;stroke:#4575b4;stroke-opacity:0.7;stroke-width:0.3;\" x=\"159.2225\" xlink:href=\"#m90f3c54495\" y=\"3.483262\" />\n     <use style=\"fill:#4575b4;fill-opacity:0.7;stroke:#4575b4;stroke-opacity:0.7;stroke-width:0.3;\" x=\"159.2225\" xlink:href=\"#m90f3c54495\" y=\"3.483262\" />\n     <use style=\"fill:#4575b4;fill-opacity:0.7;stroke:#4575b4;stroke-opacity:0.7;stroke-width:0.3;\" x=\"19.7225\" xlink:href=\"#m90f3c54495\" y=\"3.483262\" />\n     <use style=\"fill:#4575b4;fill-opacity:0.7;stroke:#4575b4;stroke-opacity:0.7;stroke-width:0.3;\" x=\"159.2225\" xlink:href=\"#m90f3c54495\" y=\"3.483262\" />\n     <use style=\"fill:#4575b4;fill-opacity:0.7;stroke:#4575b4;stroke-opacity:0.7;stroke-width:0.3;\" x=\"159.2225\" xlink:href=\"#m90f3c54495\" y=\"3.483262\" />\n     <use style=\"fill:#4575b4;fill-opacity:0.7;stroke:#4575b4;stroke-opacity:0.7;stroke-width:0.3;\" x=\"159.2225\" xlink:href=\"#m90f3c54495\" y=\"3.483262\" />\n     <use style=\"fill:#4575b4;fill-opacity:0.7;stroke:#4575b4;stroke-opacity:0.7;stroke-width:0.3;\" x=\"159.2225\" xlink:href=\"#m90f3c54495\" y=\"3.483262\" />\n     <use style=\"fill:#4575b4;fill-opacity:0.7;stroke:#4575b4;stroke-opacity:0.7;stroke-width:0.3;\" x=\"159.2225\" xlink:href=\"#m90f3c54495\" y=\"3.483262\" />\n     <use style=\"fill:#4575b4;fill-opacity:0.7;stroke:#4575b4;stroke-opacity:0.7;stroke-width:0.3;\" x=\"159.2225\" xlink:href=\"#m90f3c54495\" y=\"3.483262\" />\n     <use style=\"fill:#4575b4;fill-opacity:0.7;stroke:#4575b4;stroke-opacity:0.7;stroke-width:0.3;\" x=\"159.2225\" xlink:href=\"#m90f3c54495\" y=\"3.483262\" />\n     <use style=\"fill:#4575b4;fill-opacity:0.7;stroke:#4575b4;stroke-opacity:0.7;stroke-width:0.3;\" x=\"159.2225\" xlink:href=\"#m90f3c54495\" y=\"3.483262\" />\n    </g>\n   </g>\n   <g id=\"patch_3\">\n    <path d=\"M 89.4725 59.796  L 86.9615 65.7756  L 91.9835 65.7756  z \" style=\"fill:#444443;\" />\n   </g>\n   <g id=\"matplotlib.axis_1\">\n    <g id=\"xtick_1\">\n     <g id=\"line2d_1\">\n      <defs>\n       <path d=\"M 0 0  L 0 3.5  \" id=\"m0a7771042a\" style=\"stroke:#444443;stroke-width:0.3;\" />\n      </defs>\n      <g>\n       <use style=\"fill:#444443;stroke:#444443;stroke-width:0.3;\" x=\"19.7225\" xlink:href=\"#m0a7771042a\" y=\"59.796\" />\n      </g>\n     </g>\n     <g id=\"text_1\">\n      \n      <g style=\"fill:#444443;\" transform=\"translate(13.36125 72.87475)scale(0.08 -0.08)\">\n       <defs>\n        <path d=\"M 794 531  L 1825 531  L 1825 4091  L 703 3866  L 703 4441  L 1819 4666  L 2450 4666  L 2450 531  L 3481 531  L 3481 0  L 794 0  L 794 531  z \" id=\"DejaVuSans-31\" transform=\"scale(0.015625)\" />\n        <path d=\"M 684 794  L 1344 794  L 1344 0  L 684 0  L 684 794  z \" id=\"DejaVuSans-2e\" transform=\"scale(0.015625)\" />\n        <path d=\"M 2034 4250  Q 1547 4250 1301 3770  Q 1056 3291 1056 2328  Q 1056 1369 1301 889  Q 1547 409 2034 409  Q 2525 409 2770 889  Q 3016 1369 3016 2328  Q 3016 3291 2770 3770  Q 2525 4250 2034 4250  z M 2034 4750  Q 2819 4750 3233 4129  Q 3647 3509 3647 2328  Q 3647 1150 3233 529  Q 2819 -91 2034 -91  Q 1250 -91 836 529  Q 422 1150 422 2328  Q 422 3509 836 4129  Q 1250 4750 2034 4750  z \" id=\"DejaVuSans-30\" transform=\"scale(0.015625)\" />\n       </defs>\n       <use xlink:href=\"#DejaVuSans-31\" />\n       <use x=\"63.623047\" xlink:href=\"#DejaVuSans-2e\" />\n       <use x=\"95.410156\" xlink:href=\"#DejaVuSans-30\" />\n      </g>\n     </g>\n    </g>\n    <g id=\"xtick_2\">\n     <g id=\"line2d_2\">\n      <g>\n       <use style=\"fill:#444443;stroke:#444443;stroke-width:0.3;\" x=\"159.2225\" xlink:href=\"#m0a7771042a\" y=\"59.796\" />\n      </g>\n     </g>\n     <g id=\"text_2\">\n      \n      <g style=\"fill:#444443;\" transform=\"translate(152.86125 72.87475)scale(0.08 -0.08)\">\n       <defs>\n        <path d=\"M 1228 531  L 3431 531  L 3431 0  L 469 0  L 469 531  Q 828 903 1448 1529  Q 2069 2156 2228 2338  Q 2531 2678 2651 2914  Q 2772 3150 2772 3378  Q 2772 3750 2511 3984  Q 2250 4219 1831 4219  Q 1534 4219 1204 4116  Q 875 4013 500 3803  L 500 4441  Q 881 4594 1212 4672  Q 1544 4750 1819 4750  Q 2544 4750 2975 4387  Q 3406 4025 3406 3419  Q 3406 3131 3298 2873  Q 3191 2616 2906 2266  Q 2828 2175 2409 1742  Q 1991 1309 1228 531  z \" id=\"DejaVuSans-32\" transform=\"scale(0.015625)\" />\n       </defs>\n       <use xlink:href=\"#DejaVuSans-32\" />\n       <use x=\"63.623047\" xlink:href=\"#DejaVuSans-2e\" />\n       <use x=\"95.410156\" xlink:href=\"#DejaVuSans-30\" />\n      </g>\n     </g>\n    </g>\n    <g id=\"xtick_3\">\n     <g id=\"line2d_3\">\n      <g>\n       <use style=\"fill:#444443;stroke:#444443;stroke-width:0.3;\" x=\"89.4725\" xlink:href=\"#m0a7771042a\" y=\"59.796\" />\n      </g>\n     </g>\n     <g id=\"text_3\">\n      \n      <g style=\"fill:#444443;\" transform=\"translate(83.11125 72.87475)scale(0.08 -0.08)\">\n       <defs>\n        <path d=\"M 691 4666  L 3169 4666  L 3169 4134  L 1269 4134  L 1269 2991  Q 1406 3038 1543 3061  Q 1681 3084 1819 3084  Q 2600 3084 3056 2656  Q 3513 2228 3513 1497  Q 3513 744 3044 326  Q 2575 -91 1722 -91  Q 1428 -91 1123 -41  Q 819 9 494 109  L 494 744  Q 775 591 1075 516  Q 1375 441 1709 441  Q 2250 441 2565 725  Q 2881 1009 2881 1497  Q 2881 1984 2565 2268  Q 2250 2553 1709 2553  Q 1456 2553 1204 2497  Q 953 2441 691 2322  L 691 4666  z \" id=\"DejaVuSans-35\" transform=\"scale(0.015625)\" />\n       </defs>\n       <use xlink:href=\"#DejaVuSans-31\" />\n       <use x=\"63.623047\" xlink:href=\"#DejaVuSans-2e\" />\n       <use x=\"95.410156\" xlink:href=\"#DejaVuSans-35\" />\n      </g>\n     </g>\n    </g>\n    <g id=\"text_4\">\n     \n     <g style=\"fill:#444443;\" transform=\"translate(34.459063 87.281625)scale(0.12 -0.12)\">\n      <defs>\n       <path d=\"M 1784 0  L 1784 1941  L 19 4581  L 756 4581  L 1659 3200  Q 1909 2813 2125 2425  Q 2331 2784 2625 3234  L 3513 4581  L 4219 4581  L 2391 1941  L 2391 0  L 1784 0  z \" id=\"ArialMT-59\" transform=\"scale(0.015625)\" />\n       <path d=\"M 506 0  L 506 4581  L 3819 4581  L 3819 4041  L 1113 4041  L 1113 2638  L 3647 2638  L 3647 2100  L 1113 2100  L 1113 541  L 3925 541  L 3925 0  L 506 0  z \" id=\"ArialMT-45\" transform=\"scale(0.015625)\" />\n       <path d=\"M 469 0  L 469 4581  L 1075 4581  L 1075 541  L 3331 541  L 3331 0  L 469 0  z \" id=\"ArialMT-4c\" transform=\"scale(0.015625)\" />\n       <path d=\"M 309 2231  Q 309 3372 921 4017  Q 1534 4663 2503 4663  Q 3138 4663 3647 4359  Q 4156 4056 4423 3514  Q 4691 2972 4691 2284  Q 4691 1588 4409 1038  Q 4128 488 3612 205  Q 3097 -78 2500 -78  Q 1853 -78 1343 234  Q 834 547 571 1087  Q 309 1628 309 2231  z M 934 2222  Q 934 1394 1379 917  Q 1825 441 2497 441  Q 3181 441 3623 922  Q 4066 1403 4066 2288  Q 4066 2847 3877 3264  Q 3688 3681 3323 3911  Q 2959 4141 2506 4141  Q 1863 4141 1398 3698  Q 934 3256 934 2222  z \" id=\"ArialMT-4f\" transform=\"scale(0.015625)\" />\n       <path d=\"M 1294 0  L 78 4581  L 700 4581  L 1397 1578  Q 1509 1106 1591 641  Q 1766 1375 1797 1488  L 2669 4581  L 3400 4581  L 4056 2263  Q 4303 1400 4413 641  Q 4500 1075 4641 1638  L 5359 4581  L 5969 4581  L 4713 0  L 4128 0  L 3163 3491  Q 3041 3928 3019 4028  Q 2947 3713 2884 3491  L 1913 0  L 1294 0  z \" id=\"ArialMT-57\" transform=\"scale(0.015625)\" />\n       <path d=\"M -97 -1272  L -97 -866  L 3631 -866  L 3631 -1272  L -97 -1272  z \" id=\"ArialMT-5f\" transform=\"scale(0.015625)\" />\n       <path d=\"M 525 0  L 525 4581  L 3616 4581  L 3616 4041  L 1131 4041  L 1131 2622  L 3281 2622  L 3281 2081  L 1131 2081  L 1131 0  L 525 0  z \" id=\"ArialMT-46\" transform=\"scale(0.015625)\" />\n       <path d=\"M 597 0  L 597 4581  L 1203 4581  L 1203 0  L 597 0  z \" id=\"ArialMT-49\" transform=\"scale(0.015625)\" />\n       <path d=\"M 488 0  L 488 4581  L 1109 4581  L 3516 984  L 3516 4581  L 4097 4581  L 4097 0  L 3475 0  L 1069 3600  L 1069 0  L 488 0  z \" id=\"ArialMT-4e\" transform=\"scale(0.015625)\" />\n       <path d=\"M 2638 1797  L 2638 2334  L 4578 2338  L 4578 638  Q 4131 281 3656 101  Q 3181 -78 2681 -78  Q 2006 -78 1454 211  Q 903 500 622 1047  Q 341 1594 341 2269  Q 341 2938 620 3517  Q 900 4097 1425 4378  Q 1950 4659 2634 4659  Q 3131 4659 3532 4498  Q 3934 4338 4162 4050  Q 4391 3763 4509 3300  L 3963 3150  Q 3859 3500 3706 3700  Q 3553 3900 3268 4020  Q 2984 4141 2638 4141  Q 2222 4141 1919 4014  Q 1616 3888 1430 3681  Q 1244 3475 1141 3228  Q 966 2803 966 2306  Q 966 1694 1177 1281  Q 1388 869 1791 669  Q 2194 469 2647 469  Q 3041 469 3416 620  Q 3791 772 3984 944  L 3984 1797  L 2638 1797  z \" id=\"ArialMT-47\" transform=\"scale(0.015625)\" />\n       <path d=\"M 503 0  L 503 4581  L 2534 4581  Q 3147 4581 3465 4457  Q 3784 4334 3975 4021  Q 4166 3709 4166 3331  Q 4166 2844 3850 2509  Q 3534 2175 2875 2084  Q 3116 1969 3241 1856  Q 3506 1613 3744 1247  L 4541 0  L 3778 0  L 3172 953  Q 2906 1366 2734 1584  Q 2563 1803 2427 1890  Q 2291 1978 2150 2013  Q 2047 2034 1813 2034  L 1109 2034  L 1109 0  L 503 0  z M 1109 2559  L 2413 2559  Q 2828 2559 3062 2645  Q 3297 2731 3419 2920  Q 3541 3109 3541 3331  Q 3541 3656 3305 3865  Q 3069 4075 2559 4075  L 1109 4075  L 1109 2559  z \" id=\"ArialMT-52\" transform=\"scale(0.015625)\" />\n       <path d=\"M 288 1472  L 859 1522  Q 900 1178 1048 958  Q 1197 738 1509 602  Q 1822 466 2213 466  Q 2559 466 2825 569  Q 3091 672 3220 851  Q 3350 1031 3350 1244  Q 3350 1459 3225 1620  Q 3100 1781 2813 1891  Q 2628 1963 1997 2114  Q 1366 2266 1113 2400  Q 784 2572 623 2826  Q 463 3081 463 3397  Q 463 3744 659 4045  Q 856 4347 1234 4503  Q 1613 4659 2075 4659  Q 2584 4659 2973 4495  Q 3363 4331 3572 4012  Q 3781 3694 3797 3291  L 3216 3247  Q 3169 3681 2898 3903  Q 2628 4125 2100 4125  Q 1550 4125 1298 3923  Q 1047 3722 1047 3438  Q 1047 3191 1225 3031  Q 1400 2872 2139 2705  Q 2878 2538 3153 2413  Q 3553 2228 3743 1945  Q 3934 1663 3934 1294  Q 3934 928 3725 604  Q 3516 281 3123 101  Q 2731 -78 2241 -78  Q 1619 -78 1198 103  Q 778 284 539 648  Q 300 1013 288 1472  z \" id=\"ArialMT-53\" transform=\"scale(0.015625)\" />\n      </defs>\n      <use xlink:href=\"#ArialMT-59\" />\n      <use x=\"66.699219\" xlink:href=\"#ArialMT-45\" />\n      <use x=\"133.398438\" xlink:href=\"#ArialMT-4c\" />\n      <use x=\"189.013672\" xlink:href=\"#ArialMT-4c\" />\n      <use x=\"244.628906\" xlink:href=\"#ArialMT-4f\" />\n      <use x=\"322.412109\" xlink:href=\"#ArialMT-57\" />\n      <use x=\"416.796875\" xlink:href=\"#ArialMT-5f\" />\n      <use x=\"472.412109\" xlink:href=\"#ArialMT-46\" />\n      <use x=\"533.496094\" xlink:href=\"#ArialMT-49\" />\n      <use x=\"561.279297\" xlink:href=\"#ArialMT-4e\" />\n      <use x=\"633.496094\" xlink:href=\"#ArialMT-47\" />\n      <use x=\"711.279297\" xlink:href=\"#ArialMT-45\" />\n      <use x=\"777.978516\" xlink:href=\"#ArialMT-52\" />\n      <use x=\"850.195312\" xlink:href=\"#ArialMT-53\" />\n     </g>\n    </g>\n   </g>\n   <g id=\"matplotlib.axis_2\">\n    <g id=\"ytick_1\">\n     <g id=\"line2d_4\">\n      <defs>\n       <path d=\"M 0 0  L -3.5 0  \" id=\"m789677638c\" style=\"stroke:#444443;stroke-width:0.3;\" />\n      </defs>\n      <g>\n       <use style=\"fill:#444443;stroke:#444443;stroke-width:0.3;\" x=\"19.7225\" xlink:href=\"#m789677638c\" y=\"32.510447\" />\n      </g>\n     </g>\n     <g id=\"text_5\">\n      \n      <g style=\"fill:#444443;\" transform=\"translate(0 35.549822)scale(0.08 -0.08)\">\n       <use xlink:href=\"#DejaVuSans-31\" />\n       <use x=\"63.623047\" xlink:href=\"#DejaVuSans-2e\" />\n       <use x=\"95.410156\" xlink:href=\"#DejaVuSans-35\" />\n      </g>\n     </g>\n    </g>\n    <g id=\"ytick_2\">\n     <g id=\"line2d_5\">\n      <g>\n       <use style=\"fill:#444443;stroke:#444443;stroke-width:0.3;\" x=\"19.7225\" xlink:href=\"#m789677638c\" y=\"3.483262\" />\n      </g>\n     </g>\n     <g id=\"text_6\">\n      \n      <g style=\"fill:#444443;\" transform=\"translate(0 6.522637)scale(0.08 -0.08)\">\n       <use xlink:href=\"#DejaVuSans-32\" />\n       <use x=\"63.623047\" xlink:href=\"#DejaVuSans-2e\" />\n       <use x=\"95.410156\" xlink:href=\"#DejaVuSans-30\" />\n      </g>\n     </g>\n    </g>\n   </g>\n   <g id=\"line2d_6\">\n    <path clip-path=\"url(#p091be8d4e3)\" d=\"M 19.7225 6.292345  L 89.4725 6.292345  \" style=\"fill:none;stroke:#444443;stroke-dasharray:3.7,1.6;stroke-dashoffset:0;\" />\n   </g>\n   <g id=\"line2d_7\">\n    <path clip-path=\"url(#p091be8d4e3)\" d=\"M 89.4725 59.796  L 89.4725 0  \" style=\"fill:none;stroke:#444443;stroke-dasharray:3.7,1.6;stroke-dashoffset:0;\" />\n   </g>\n   <g id=\"line2d_8\">\n    <path clip-path=\"url(#p091be8d4e3)\" d=\"M 89.4725 3.483262  L 159.2225 3.483262  \" style=\"fill:none;stroke:#444443;stroke-dasharray:3.7,1.6;stroke-dashoffset:0;\" />\n   </g>\n   <g id=\"patch_4\">\n    <path d=\"M 19.7225 59.796  L 19.7225 0  \" style=\"fill:none;stroke:#000000;stroke-linecap:square;stroke-linejoin:miter;stroke-width:0.3;\" />\n   </g>\n   <g id=\"patch_5\">\n    <path d=\"M 19.7225 59.796  L 159.2225 59.796  \" style=\"fill:none;stroke:#000000;stroke-linecap:square;stroke-linejoin:miter;stroke-width:0.3;\" />\n   </g>\n  </g>\n </g>\n <defs>\n  <clipPath id=\"p091be8d4e3\">\n   <rect height=\"59.796\" width=\"139.5\" x=\"19.7225\" y=\"0\" />\n  </clipPath>\n </defs>\n</svg></g>\n\n\n<g id=\"node4\" class=\"node\">\n<title>node9</title>\n<svg height=\"67px\" version=\"1.1\" viewBox=\"0 0 165.58375 89.512875\" width=\"124px\" preserveAspectRatio=\"xMinYMin meet\" x=\"559.5\" y=\"-147.5\">\n <metadata>\n  <rdf:RDF>\n   <ns2:Work>\n    <dc:type rdf:resource=\"http://purl.org/dc/dcmitype/StillImage\" />\n    <dc:date>2022-06-06T19:38:44.585172</dc:date>\n    <dc:format>image/svg+xml</dc:format>\n    <dc:creator>\n     <ns2:Agent>\n      <dc:title>Matplotlib v3.4.3, https://matplotlib.org/</dc:title>\n     </ns2:Agent>\n    </dc:creator>\n   </ns2:Work>\n  </rdf:RDF>\n </metadata>\n <defs>\n  <style type=\"text/css\">*{stroke-linecap:butt;stroke-linejoin:round;}</style>\n </defs>\n <g id=\"figure_1\">\n  <g id=\"patch_1\">\n   <path d=\"M 0 89.512875  L 165.58375 89.512875  L 165.58375 0  L 0 0  z \" style=\"fill:none;\" />\n  </g>\n  <g id=\"axes_1\">\n   <g id=\"patch_2\">\n    <path d=\"M 19.7225 59.796  L 159.2225 59.796  L 159.2225 0  L 19.7225 0  z \" style=\"fill:#ffffff;\" />\n   </g>\n   <g id=\"PathCollection_1\">\n    <defs>\n     <path d=\"M 0 1.118034  C 0.296506 1.118034 0.580908 1.000231 0.790569 0.790569  C 1.000231 0.580908 1.118034 0.296506 1.118034 0  C 1.118034 -0.296506 1.000231 -0.580908 0.790569 -0.790569  C 0.580908 -1.000231 0.296506 -1.118034 0 -1.118034  C -0.296506 -1.118034 -0.580908 -1.000231 -0.790569 -0.790569  C -1.000231 -0.580908 -1.118034 -0.296506 -1.118034 0  C -1.118034 0.296506 -1.000231 0.580908 -0.790569 0.790569  C -0.580908 1.000231 -0.296506 1.118034 0 1.118034  z \" id=\"mf765abd8f7\" style=\"stroke:#4575b4;stroke-opacity:0.7;stroke-width:0.3;\" />\n    </defs>\n    <g clip-path=\"url(#p5f687bc8b9)\">\n     <use style=\"fill:#4575b4;fill-opacity:0.7;stroke:#4575b4;stroke-opacity:0.7;stroke-width:0.3;\" x=\"159.2225\" xlink:href=\"#mf765abd8f7\" y=\"3.483262\" />\n     <use style=\"fill:#4575b4;fill-opacity:0.7;stroke:#4575b4;stroke-opacity:0.7;stroke-width:0.3;\" x=\"159.2225\" xlink:href=\"#mf765abd8f7\" y=\"3.483262\" />\n     <use style=\"fill:#4575b4;fill-opacity:0.7;stroke:#4575b4;stroke-opacity:0.7;stroke-width:0.3;\" x=\"159.2225\" xlink:href=\"#mf765abd8f7\" y=\"3.483262\" />\n     <use style=\"fill:#4575b4;fill-opacity:0.7;stroke:#4575b4;stroke-opacity:0.7;stroke-width:0.3;\" x=\"159.2225\" xlink:href=\"#mf765abd8f7\" y=\"3.483262\" />\n     <use style=\"fill:#4575b4;fill-opacity:0.7;stroke:#4575b4;stroke-opacity:0.7;stroke-width:0.3;\" x=\"159.2225\" xlink:href=\"#mf765abd8f7\" y=\"3.483262\" />\n     <use style=\"fill:#4575b4;fill-opacity:0.7;stroke:#4575b4;stroke-opacity:0.7;stroke-width:0.3;\" x=\"159.2225\" xlink:href=\"#mf765abd8f7\" y=\"3.483262\" />\n     <use style=\"fill:#4575b4;fill-opacity:0.7;stroke:#4575b4;stroke-opacity:0.7;stroke-width:0.3;\" x=\"159.2225\" xlink:href=\"#mf765abd8f7\" y=\"3.483262\" />\n     <use style=\"fill:#4575b4;fill-opacity:0.7;stroke:#4575b4;stroke-opacity:0.7;stroke-width:0.3;\" x=\"19.7225\" xlink:href=\"#mf765abd8f7\" y=\"61.537631\" />\n     <use style=\"fill:#4575b4;fill-opacity:0.7;stroke:#4575b4;stroke-opacity:0.7;stroke-width:0.3;\" x=\"159.2225\" xlink:href=\"#mf765abd8f7\" y=\"3.483262\" />\n     <use style=\"fill:#4575b4;fill-opacity:0.7;stroke:#4575b4;stroke-opacity:0.7;stroke-width:0.3;\" x=\"159.2225\" xlink:href=\"#mf765abd8f7\" y=\"3.483262\" />\n     <use style=\"fill:#4575b4;fill-opacity:0.7;stroke:#4575b4;stroke-opacity:0.7;stroke-width:0.3;\" x=\"159.2225\" xlink:href=\"#mf765abd8f7\" y=\"3.483262\" />\n     <use style=\"fill:#4575b4;fill-opacity:0.7;stroke:#4575b4;stroke-opacity:0.7;stroke-width:0.3;\" x=\"159.2225\" xlink:href=\"#mf765abd8f7\" y=\"3.483262\" />\n     <use style=\"fill:#4575b4;fill-opacity:0.7;stroke:#4575b4;stroke-opacity:0.7;stroke-width:0.3;\" x=\"19.7225\" xlink:href=\"#mf765abd8f7\" y=\"3.483262\" />\n     <use style=\"fill:#4575b4;fill-opacity:0.7;stroke:#4575b4;stroke-opacity:0.7;stroke-width:0.3;\" x=\"19.7225\" xlink:href=\"#mf765abd8f7\" y=\"3.483262\" />\n     <use style=\"fill:#4575b4;fill-opacity:0.7;stroke:#4575b4;stroke-opacity:0.7;stroke-width:0.3;\" x=\"159.2225\" xlink:href=\"#mf765abd8f7\" y=\"3.483262\" />\n     <use style=\"fill:#4575b4;fill-opacity:0.7;stroke:#4575b4;stroke-opacity:0.7;stroke-width:0.3;\" x=\"19.7225\" xlink:href=\"#mf765abd8f7\" y=\"3.483262\" />\n     <use style=\"fill:#4575b4;fill-opacity:0.7;stroke:#4575b4;stroke-opacity:0.7;stroke-width:0.3;\" x=\"19.7225\" xlink:href=\"#mf765abd8f7\" y=\"3.483262\" />\n     <use style=\"fill:#4575b4;fill-opacity:0.7;stroke:#4575b4;stroke-opacity:0.7;stroke-width:0.3;\" x=\"159.2225\" xlink:href=\"#mf765abd8f7\" y=\"3.483262\" />\n     <use style=\"fill:#4575b4;fill-opacity:0.7;stroke:#4575b4;stroke-opacity:0.7;stroke-width:0.3;\" x=\"159.2225\" xlink:href=\"#mf765abd8f7\" y=\"3.483262\" />\n     <use style=\"fill:#4575b4;fill-opacity:0.7;stroke:#4575b4;stroke-opacity:0.7;stroke-width:0.3;\" x=\"159.2225\" xlink:href=\"#mf765abd8f7\" y=\"3.483262\" />\n     <use style=\"fill:#4575b4;fill-opacity:0.7;stroke:#4575b4;stroke-opacity:0.7;stroke-width:0.3;\" x=\"159.2225\" xlink:href=\"#mf765abd8f7\" y=\"61.537631\" />\n     <use style=\"fill:#4575b4;fill-opacity:0.7;stroke:#4575b4;stroke-opacity:0.7;stroke-width:0.3;\" x=\"159.2225\" xlink:href=\"#mf765abd8f7\" y=\"3.483262\" />\n     <use style=\"fill:#4575b4;fill-opacity:0.7;stroke:#4575b4;stroke-opacity:0.7;stroke-width:0.3;\" x=\"159.2225\" xlink:href=\"#mf765abd8f7\" y=\"3.483262\" />\n     <use style=\"fill:#4575b4;fill-opacity:0.7;stroke:#4575b4;stroke-opacity:0.7;stroke-width:0.3;\" x=\"19.7225\" xlink:href=\"#mf765abd8f7\" y=\"3.483262\" />\n     <use style=\"fill:#4575b4;fill-opacity:0.7;stroke:#4575b4;stroke-opacity:0.7;stroke-width:0.3;\" x=\"19.7225\" xlink:href=\"#mf765abd8f7\" y=\"3.483262\" />\n     <use style=\"fill:#4575b4;fill-opacity:0.7;stroke:#4575b4;stroke-opacity:0.7;stroke-width:0.3;\" x=\"19.7225\" xlink:href=\"#mf765abd8f7\" y=\"3.483262\" />\n     <use style=\"fill:#4575b4;fill-opacity:0.7;stroke:#4575b4;stroke-opacity:0.7;stroke-width:0.3;\" x=\"159.2225\" xlink:href=\"#mf765abd8f7\" y=\"3.483262\" />\n     <use style=\"fill:#4575b4;fill-opacity:0.7;stroke:#4575b4;stroke-opacity:0.7;stroke-width:0.3;\" x=\"19.7225\" xlink:href=\"#mf765abd8f7\" y=\"61.537631\" />\n     <use style=\"fill:#4575b4;fill-opacity:0.7;stroke:#4575b4;stroke-opacity:0.7;stroke-width:0.3;\" x=\"159.2225\" xlink:href=\"#mf765abd8f7\" y=\"3.483262\" />\n     <use style=\"fill:#4575b4;fill-opacity:0.7;stroke:#4575b4;stroke-opacity:0.7;stroke-width:0.3;\" x=\"19.7225\" xlink:href=\"#mf765abd8f7\" y=\"3.483262\" />\n     <use style=\"fill:#4575b4;fill-opacity:0.7;stroke:#4575b4;stroke-opacity:0.7;stroke-width:0.3;\" x=\"19.7225\" xlink:href=\"#mf765abd8f7\" y=\"3.483262\" />\n     <use style=\"fill:#4575b4;fill-opacity:0.7;stroke:#4575b4;stroke-opacity:0.7;stroke-width:0.3;\" x=\"159.2225\" xlink:href=\"#mf765abd8f7\" y=\"3.483262\" />\n     <use style=\"fill:#4575b4;fill-opacity:0.7;stroke:#4575b4;stroke-opacity:0.7;stroke-width:0.3;\" x=\"159.2225\" xlink:href=\"#mf765abd8f7\" y=\"3.483262\" />\n     <use style=\"fill:#4575b4;fill-opacity:0.7;stroke:#4575b4;stroke-opacity:0.7;stroke-width:0.3;\" x=\"19.7225\" xlink:href=\"#mf765abd8f7\" y=\"3.483262\" />\n     <use style=\"fill:#4575b4;fill-opacity:0.7;stroke:#4575b4;stroke-opacity:0.7;stroke-width:0.3;\" x=\"159.2225\" xlink:href=\"#mf765abd8f7\" y=\"3.483262\" />\n     <use style=\"fill:#4575b4;fill-opacity:0.7;stroke:#4575b4;stroke-opacity:0.7;stroke-width:0.3;\" x=\"159.2225\" xlink:href=\"#mf765abd8f7\" y=\"3.483262\" />\n     <use style=\"fill:#4575b4;fill-opacity:0.7;stroke:#4575b4;stroke-opacity:0.7;stroke-width:0.3;\" x=\"159.2225\" xlink:href=\"#mf765abd8f7\" y=\"3.483262\" />\n     <use style=\"fill:#4575b4;fill-opacity:0.7;stroke:#4575b4;stroke-opacity:0.7;stroke-width:0.3;\" x=\"159.2225\" xlink:href=\"#mf765abd8f7\" y=\"3.483262\" />\n     <use style=\"fill:#4575b4;fill-opacity:0.7;stroke:#4575b4;stroke-opacity:0.7;stroke-width:0.3;\" x=\"159.2225\" xlink:href=\"#mf765abd8f7\" y=\"3.483262\" />\n     <use style=\"fill:#4575b4;fill-opacity:0.7;stroke:#4575b4;stroke-opacity:0.7;stroke-width:0.3;\" x=\"159.2225\" xlink:href=\"#mf765abd8f7\" y=\"3.483262\" />\n     <use style=\"fill:#4575b4;fill-opacity:0.7;stroke:#4575b4;stroke-opacity:0.7;stroke-width:0.3;\" x=\"19.7225\" xlink:href=\"#mf765abd8f7\" y=\"3.483262\" />\n     <use style=\"fill:#4575b4;fill-opacity:0.7;stroke:#4575b4;stroke-opacity:0.7;stroke-width:0.3;\" x=\"159.2225\" xlink:href=\"#mf765abd8f7\" y=\"3.483262\" />\n     <use style=\"fill:#4575b4;fill-opacity:0.7;stroke:#4575b4;stroke-opacity:0.7;stroke-width:0.3;\" x=\"159.2225\" xlink:href=\"#mf765abd8f7\" y=\"3.483262\" />\n     <use style=\"fill:#4575b4;fill-opacity:0.7;stroke:#4575b4;stroke-opacity:0.7;stroke-width:0.3;\" x=\"19.7225\" xlink:href=\"#mf765abd8f7\" y=\"3.483262\" />\n     <use style=\"fill:#4575b4;fill-opacity:0.7;stroke:#4575b4;stroke-opacity:0.7;stroke-width:0.3;\" x=\"159.2225\" xlink:href=\"#mf765abd8f7\" y=\"3.483262\" />\n     <use style=\"fill:#4575b4;fill-opacity:0.7;stroke:#4575b4;stroke-opacity:0.7;stroke-width:0.3;\" x=\"159.2225\" xlink:href=\"#mf765abd8f7\" y=\"3.483262\" />\n     <use style=\"fill:#4575b4;fill-opacity:0.7;stroke:#4575b4;stroke-opacity:0.7;stroke-width:0.3;\" x=\"159.2225\" xlink:href=\"#mf765abd8f7\" y=\"3.483262\" />\n     <use style=\"fill:#4575b4;fill-opacity:0.7;stroke:#4575b4;stroke-opacity:0.7;stroke-width:0.3;\" x=\"159.2225\" xlink:href=\"#mf765abd8f7\" y=\"3.483262\" />\n     <use style=\"fill:#4575b4;fill-opacity:0.7;stroke:#4575b4;stroke-opacity:0.7;stroke-width:0.3;\" x=\"159.2225\" xlink:href=\"#mf765abd8f7\" y=\"3.483262\" />\n     <use style=\"fill:#4575b4;fill-opacity:0.7;stroke:#4575b4;stroke-opacity:0.7;stroke-width:0.3;\" x=\"159.2225\" xlink:href=\"#mf765abd8f7\" y=\"3.483262\" />\n     <use style=\"fill:#4575b4;fill-opacity:0.7;stroke:#4575b4;stroke-opacity:0.7;stroke-width:0.3;\" x=\"19.7225\" xlink:href=\"#mf765abd8f7\" y=\"3.483262\" />\n     <use style=\"fill:#4575b4;fill-opacity:0.7;stroke:#4575b4;stroke-opacity:0.7;stroke-width:0.3;\" x=\"19.7225\" xlink:href=\"#mf765abd8f7\" y=\"3.483262\" />\n     <use style=\"fill:#4575b4;fill-opacity:0.7;stroke:#4575b4;stroke-opacity:0.7;stroke-width:0.3;\" x=\"159.2225\" xlink:href=\"#mf765abd8f7\" y=\"3.483262\" />\n     <use style=\"fill:#4575b4;fill-opacity:0.7;stroke:#4575b4;stroke-opacity:0.7;stroke-width:0.3;\" x=\"159.2225\" xlink:href=\"#mf765abd8f7\" y=\"3.483262\" />\n     <use style=\"fill:#4575b4;fill-opacity:0.7;stroke:#4575b4;stroke-opacity:0.7;stroke-width:0.3;\" x=\"159.2225\" xlink:href=\"#mf765abd8f7\" y=\"3.483262\" />\n     <use style=\"fill:#4575b4;fill-opacity:0.7;stroke:#4575b4;stroke-opacity:0.7;stroke-width:0.3;\" x=\"159.2225\" xlink:href=\"#mf765abd8f7\" y=\"3.483262\" />\n     <use style=\"fill:#4575b4;fill-opacity:0.7;stroke:#4575b4;stroke-opacity:0.7;stroke-width:0.3;\" x=\"159.2225\" xlink:href=\"#mf765abd8f7\" y=\"3.483262\" />\n     <use style=\"fill:#4575b4;fill-opacity:0.7;stroke:#4575b4;stroke-opacity:0.7;stroke-width:0.3;\" x=\"19.7225\" xlink:href=\"#mf765abd8f7\" y=\"3.483262\" />\n     <use style=\"fill:#4575b4;fill-opacity:0.7;stroke:#4575b4;stroke-opacity:0.7;stroke-width:0.3;\" x=\"19.7225\" xlink:href=\"#mf765abd8f7\" y=\"3.483262\" />\n     <use style=\"fill:#4575b4;fill-opacity:0.7;stroke:#4575b4;stroke-opacity:0.7;stroke-width:0.3;\" x=\"159.2225\" xlink:href=\"#mf765abd8f7\" y=\"3.483262\" />\n     <use style=\"fill:#4575b4;fill-opacity:0.7;stroke:#4575b4;stroke-opacity:0.7;stroke-width:0.3;\" x=\"159.2225\" xlink:href=\"#mf765abd8f7\" y=\"3.483262\" />\n     <use style=\"fill:#4575b4;fill-opacity:0.7;stroke:#4575b4;stroke-opacity:0.7;stroke-width:0.3;\" x=\"19.7225\" xlink:href=\"#mf765abd8f7\" y=\"3.483262\" />\n    </g>\n   </g>\n   <g id=\"patch_3\">\n    <path d=\"M 89.4725 59.796  L 86.9615 65.7756  L 91.9835 65.7756  z \" style=\"fill:#444443;\" />\n   </g>\n   <g id=\"matplotlib.axis_1\">\n    <g id=\"xtick_1\">\n     <g id=\"line2d_1\">\n      <defs>\n       <path d=\"M 0 0  L 0 3.5  \" id=\"m7794b22329\" style=\"stroke:#444443;stroke-width:0.3;\" />\n      </defs>\n      <g>\n       <use style=\"fill:#444443;stroke:#444443;stroke-width:0.3;\" x=\"19.7225\" xlink:href=\"#m7794b22329\" y=\"59.796\" />\n      </g>\n     </g>\n     <g id=\"text_1\">\n      \n      <g style=\"fill:#444443;\" transform=\"translate(13.36125 72.87475)scale(0.08 -0.08)\">\n       <defs>\n        <path d=\"M 794 531  L 1825 531  L 1825 4091  L 703 3866  L 703 4441  L 1819 4666  L 2450 4666  L 2450 531  L 3481 531  L 3481 0  L 794 0  L 794 531  z \" id=\"DejaVuSans-31\" transform=\"scale(0.015625)\" />\n        <path d=\"M 684 794  L 1344 794  L 1344 0  L 684 0  L 684 794  z \" id=\"DejaVuSans-2e\" transform=\"scale(0.015625)\" />\n        <path d=\"M 2034 4250  Q 1547 4250 1301 3770  Q 1056 3291 1056 2328  Q 1056 1369 1301 889  Q 1547 409 2034 409  Q 2525 409 2770 889  Q 3016 1369 3016 2328  Q 3016 3291 2770 3770  Q 2525 4250 2034 4250  z M 2034 4750  Q 2819 4750 3233 4129  Q 3647 3509 3647 2328  Q 3647 1150 3233 529  Q 2819 -91 2034 -91  Q 1250 -91 836 529  Q 422 1150 422 2328  Q 422 3509 836 4129  Q 1250 4750 2034 4750  z \" id=\"DejaVuSans-30\" transform=\"scale(0.015625)\" />\n       </defs>\n       <use xlink:href=\"#DejaVuSans-31\" />\n       <use x=\"63.623047\" xlink:href=\"#DejaVuSans-2e\" />\n       <use x=\"95.410156\" xlink:href=\"#DejaVuSans-30\" />\n      </g>\n     </g>\n    </g>\n    <g id=\"xtick_2\">\n     <g id=\"line2d_2\">\n      <g>\n       <use style=\"fill:#444443;stroke:#444443;stroke-width:0.3;\" x=\"159.2225\" xlink:href=\"#m7794b22329\" y=\"59.796\" />\n      </g>\n     </g>\n     <g id=\"text_2\">\n      \n      <g style=\"fill:#444443;\" transform=\"translate(152.86125 72.87475)scale(0.08 -0.08)\">\n       <defs>\n        <path d=\"M 1228 531  L 3431 531  L 3431 0  L 469 0  L 469 531  Q 828 903 1448 1529  Q 2069 2156 2228 2338  Q 2531 2678 2651 2914  Q 2772 3150 2772 3378  Q 2772 3750 2511 3984  Q 2250 4219 1831 4219  Q 1534 4219 1204 4116  Q 875 4013 500 3803  L 500 4441  Q 881 4594 1212 4672  Q 1544 4750 1819 4750  Q 2544 4750 2975 4387  Q 3406 4025 3406 3419  Q 3406 3131 3298 2873  Q 3191 2616 2906 2266  Q 2828 2175 2409 1742  Q 1991 1309 1228 531  z \" id=\"DejaVuSans-32\" transform=\"scale(0.015625)\" />\n       </defs>\n       <use xlink:href=\"#DejaVuSans-32\" />\n       <use x=\"63.623047\" xlink:href=\"#DejaVuSans-2e\" />\n       <use x=\"95.410156\" xlink:href=\"#DejaVuSans-30\" />\n      </g>\n     </g>\n    </g>\n    <g id=\"xtick_3\">\n     <g id=\"line2d_3\">\n      <g>\n       <use style=\"fill:#444443;stroke:#444443;stroke-width:0.3;\" x=\"89.4725\" xlink:href=\"#m7794b22329\" y=\"59.796\" />\n      </g>\n     </g>\n     <g id=\"text_3\">\n      \n      <g style=\"fill:#444443;\" transform=\"translate(83.11125 72.87475)scale(0.08 -0.08)\">\n       <defs>\n        <path d=\"M 691 4666  L 3169 4666  L 3169 4134  L 1269 4134  L 1269 2991  Q 1406 3038 1543 3061  Q 1681 3084 1819 3084  Q 2600 3084 3056 2656  Q 3513 2228 3513 1497  Q 3513 744 3044 326  Q 2575 -91 1722 -91  Q 1428 -91 1123 -41  Q 819 9 494 109  L 494 744  Q 775 591 1075 516  Q 1375 441 1709 441  Q 2250 441 2565 725  Q 2881 1009 2881 1497  Q 2881 1984 2565 2268  Q 2250 2553 1709 2553  Q 1456 2553 1204 2497  Q 953 2441 691 2322  L 691 4666  z \" id=\"DejaVuSans-35\" transform=\"scale(0.015625)\" />\n       </defs>\n       <use xlink:href=\"#DejaVuSans-31\" />\n       <use x=\"63.623047\" xlink:href=\"#DejaVuSans-2e\" />\n       <use x=\"95.410156\" xlink:href=\"#DejaVuSans-35\" />\n      </g>\n     </g>\n    </g>\n    <g id=\"text_4\">\n     \n     <g style=\"fill:#444443;\" transform=\"translate(64.244375 87.127875)scale(0.12 -0.12)\">\n      <defs>\n       <path d=\"M 525 0  L 525 4581  L 3616 4581  L 3616 4041  L 1131 4041  L 1131 2622  L 3281 2622  L 3281 2081  L 1131 2081  L 1131 0  L 525 0  z \" id=\"ArialMT-46\" transform=\"scale(0.015625)\" />\n       <path d=\"M -9 0  L 1750 4581  L 2403 4581  L 4278 0  L 3588 0  L 3053 1388  L 1138 1388  L 634 0  L -9 0  z M 1313 1881  L 2866 1881  L 2388 3150  Q 2169 3728 2063 4100  Q 1975 3659 1816 3225  L 1313 1881  z \" id=\"ArialMT-41\" transform=\"scale(0.015625)\" />\n       <path d=\"M 1659 0  L 1659 4041  L 150 4041  L 150 4581  L 3781 4581  L 3781 4041  L 2266 4041  L 2266 0  L 1659 0  z \" id=\"ArialMT-54\" transform=\"scale(0.015625)\" />\n       <path d=\"M 597 0  L 597 4581  L 1203 4581  L 1203 0  L 597 0  z \" id=\"ArialMT-49\" transform=\"scale(0.015625)\" />\n       <path d=\"M 2638 1797  L 2638 2334  L 4578 2338  L 4578 638  Q 4131 281 3656 101  Q 3181 -78 2681 -78  Q 2006 -78 1454 211  Q 903 500 622 1047  Q 341 1594 341 2269  Q 341 2938 620 3517  Q 900 4097 1425 4378  Q 1950 4659 2634 4659  Q 3131 4659 3532 4498  Q 3934 4338 4162 4050  Q 4391 3763 4509 3300  L 3963 3150  Q 3859 3500 3706 3700  Q 3553 3900 3268 4020  Q 2984 4141 2638 4141  Q 2222 4141 1919 4014  Q 1616 3888 1430 3681  Q 1244 3475 1141 3228  Q 966 2803 966 2306  Q 966 1694 1177 1281  Q 1388 869 1791 669  Q 2194 469 2647 469  Q 3041 469 3416 620  Q 3791 772 3984 944  L 3984 1797  L 2638 1797  z \" id=\"ArialMT-47\" transform=\"scale(0.015625)\" />\n       <path d=\"M 3500 4581  L 4106 4581  L 4106 1934  Q 4106 1244 3950 837  Q 3794 431 3386 176  Q 2978 -78 2316 -78  Q 1672 -78 1262 144  Q 853 366 678 786  Q 503 1206 503 1934  L 503 4581  L 1109 4581  L 1109 1938  Q 1109 1341 1220 1058  Q 1331 775 1601 622  Q 1872 469 2263 469  Q 2931 469 3215 772  Q 3500 1075 3500 1938  L 3500 4581  z \" id=\"ArialMT-55\" transform=\"scale(0.015625)\" />\n       <path d=\"M 506 0  L 506 4581  L 3819 4581  L 3819 4041  L 1113 4041  L 1113 2638  L 3647 2638  L 3647 2100  L 1113 2100  L 1113 541  L 3925 541  L 3925 0  L 506 0  z \" id=\"ArialMT-45\" transform=\"scale(0.015625)\" />\n      </defs>\n      <use xlink:href=\"#ArialMT-46\" />\n      <use x=\"55.583984\" xlink:href=\"#ArialMT-41\" />\n      <use x=\"114.908203\" xlink:href=\"#ArialMT-54\" />\n      <use x=\"175.992188\" xlink:href=\"#ArialMT-49\" />\n      <use x=\"203.775391\" xlink:href=\"#ArialMT-47\" />\n      <use x=\"281.558594\" xlink:href=\"#ArialMT-55\" />\n      <use x=\"353.775391\" xlink:href=\"#ArialMT-45\" />\n     </g>\n    </g>\n   </g>\n   <g id=\"matplotlib.axis_2\">\n    <g id=\"ytick_1\">\n     <g id=\"line2d_4\">\n      <defs>\n       <path d=\"M 0 0  L -3.5 0  \" id=\"m674ef964ff\" style=\"stroke:#444443;stroke-width:0.3;\" />\n      </defs>\n      <g>\n       <use style=\"fill:#444443;stroke:#444443;stroke-width:0.3;\" x=\"19.7225\" xlink:href=\"#m674ef964ff\" y=\"32.510447\" />\n      </g>\n     </g>\n     <g id=\"text_5\">\n      \n      <g style=\"fill:#444443;\" transform=\"translate(0 35.549822)scale(0.08 -0.08)\">\n       <use xlink:href=\"#DejaVuSans-31\" />\n       <use x=\"63.623047\" xlink:href=\"#DejaVuSans-2e\" />\n       <use x=\"95.410156\" xlink:href=\"#DejaVuSans-35\" />\n      </g>\n     </g>\n    </g>\n    <g id=\"ytick_2\">\n     <g id=\"line2d_5\">\n      <g>\n       <use style=\"fill:#444443;stroke:#444443;stroke-width:0.3;\" x=\"19.7225\" xlink:href=\"#m674ef964ff\" y=\"3.483262\" />\n      </g>\n     </g>\n     <g id=\"text_6\">\n      \n      <g style=\"fill:#444443;\" transform=\"translate(0 6.522637)scale(0.08 -0.08)\">\n       <use xlink:href=\"#DejaVuSans-32\" />\n       <use x=\"63.623047\" xlink:href=\"#DejaVuSans-2e\" />\n       <use x=\"95.410156\" xlink:href=\"#DejaVuSans-30\" />\n      </g>\n     </g>\n    </g>\n   </g>\n   <g id=\"line2d_6\">\n    <path clip-path=\"url(#p5f687bc8b9)\" d=\"M 19.7225 9.594248  L 89.4725 9.594248  \" style=\"fill:none;stroke:#444443;stroke-dasharray:3.7,1.6;stroke-dashoffset:0;\" />\n   </g>\n   <g id=\"line2d_7\">\n    <path clip-path=\"url(#p5f687bc8b9)\" d=\"M 89.4725 59.796  L 89.4725 0  \" style=\"fill:none;stroke:#444443;stroke-dasharray:3.7,1.6;stroke-dashoffset:0;\" />\n   </g>\n   <g id=\"line2d_8\">\n    <path clip-path=\"url(#p5f687bc8b9)\" d=\"M 89.4725 4.833364  L 159.2225 4.833364  \" style=\"fill:none;stroke:#444443;stroke-dasharray:3.7,1.6;stroke-dashoffset:0;\" />\n   </g>\n   <g id=\"patch_4\">\n    <path d=\"M 19.7225 59.796  L 19.7225 0  \" style=\"fill:none;stroke:#000000;stroke-linecap:square;stroke-linejoin:miter;stroke-width:0.3;\" />\n   </g>\n   <g id=\"patch_5\">\n    <path d=\"M 19.7225 59.796  L 159.2225 59.796  \" style=\"fill:none;stroke:#000000;stroke-linecap:square;stroke-linejoin:miter;stroke-width:0.3;\" />\n   </g>\n  </g>\n </g>\n <defs>\n  <clipPath id=\"p5f687bc8b9\">\n   <rect height=\"59.796\" width=\"139.5\" x=\"19.7225\" y=\"0\" />\n  </clipPath>\n </defs>\n</svg></g>\n\n<g id=\"node11\" class=\"node\">\n<title>leaf10</title>\n<polygon fill=\"none\" stroke=\"#444443\" stroke-width=\"0\" points=\"687,-60 558,-60 558,0 687,0 687,-60\" />\n<svg height=\"52px\" version=\"1.1\" viewBox=\"0 0 161.754375 69.564468\" width=\"121px\" preserveAspectRatio=\"xMinYMin meet\" x=\"562.5\" y=\"-56\">\n <metadata>\n  <rdf:RDF>\n   <ns2:Work>\n    <dc:type rdf:resource=\"http://purl.org/dc/dcmitype/StillImage\" />\n    <dc:date>2022-06-06T19:38:45.726608</dc:date>\n    <dc:format>image/svg+xml</dc:format>\n    <dc:creator>\n     <ns2:Agent>\n      <dc:title>Matplotlib v3.4.3, https://matplotlib.org/</dc:title>\n     </ns2:Agent>\n    </dc:creator>\n   </ns2:Work>\n  </rdf:RDF>\n </metadata>\n <defs>\n  <style type=\"text/css\">*{stroke-linecap:butt;stroke-linejoin:round;}</style>\n </defs>\n <g id=\"figure_1\">\n  <g id=\"patch_1\">\n   <path d=\"M 0 69.564468  L 161.754375 69.564468  L 161.754375 -0  L 0 -0  z \" style=\"fill:none;\" />\n  </g>\n  <g id=\"axes_1\">\n   <g id=\"patch_2\">\n    <path d=\"M 59.452187 43.994093  L 101.302188 43.994093  L 101.302188 0.506093  L 59.452187 0.506093  z \" style=\"fill:#ffffff;\" />\n   </g>\n   <g id=\"PathCollection_1\">\n    <defs>\n     <path d=\"M 0 1.118034  C 0.296506 1.118034 0.580908 1.000231 0.790569 0.790569  C 1.000231 0.580908 1.118034 0.296506 1.118034 0  C 1.118034 -0.296506 1.000231 -0.580908 0.790569 -0.790569  C 0.580908 -1.000231 0.296506 -1.118034 0 -1.118034  C -0.296506 -1.118034 -0.580908 -1.000231 -0.790569 -0.790569  C -1.000231 -0.580908 -1.118034 -0.296506 -1.118034 0  C -1.118034 0.296506 -1.000231 0.580908 -0.790569 0.790569  C -0.580908 1.000231 -0.296506 1.118034 0 1.118034  z \" id=\"mec44b8dd35\" style=\"stroke:#4575b4;stroke-opacity:0.7;stroke-width:0.3;\" />\n    </defs>\n    <g clip-path=\"url(#pcbb40d2c40)\">\n     <use style=\"fill:#4575b4;fill-opacity:0.7;stroke:#4575b4;stroke-opacity:0.7;stroke-width:0.3;\" x=\"82.32052\" xlink:href=\"#mec44b8dd35\" y=\"45.260734\" />\n     <use style=\"fill:#4575b4;fill-opacity:0.7;stroke:#4575b4;stroke-opacity:0.7;stroke-width:0.3;\" x=\"77.05782\" xlink:href=\"#mec44b8dd35\" y=\"3.039375\" />\n     <use style=\"fill:#4575b4;fill-opacity:0.7;stroke:#4575b4;stroke-opacity:0.7;stroke-width:0.3;\" x=\"81.843742\" xlink:href=\"#mec44b8dd35\" y=\"3.039375\" />\n     <use style=\"fill:#4575b4;fill-opacity:0.7;stroke:#4575b4;stroke-opacity:0.7;stroke-width:0.3;\" x=\"77.618666\" xlink:href=\"#mec44b8dd35\" y=\"3.039375\" />\n     <use style=\"fill:#4575b4;fill-opacity:0.7;stroke:#4575b4;stroke-opacity:0.7;stroke-width:0.3;\" x=\"78.894488\" xlink:href=\"#mec44b8dd35\" y=\"3.039375\" />\n     <use style=\"fill:#4575b4;fill-opacity:0.7;stroke:#4575b4;stroke-opacity:0.7;stroke-width:0.3;\" x=\"84.528096\" xlink:href=\"#mec44b8dd35\" y=\"3.039375\" />\n     <use style=\"fill:#4575b4;fill-opacity:0.7;stroke:#4575b4;stroke-opacity:0.7;stroke-width:0.3;\" x=\"81.350446\" xlink:href=\"#mec44b8dd35\" y=\"3.039375\" />\n     <use style=\"fill:#4575b4;fill-opacity:0.7;stroke:#4575b4;stroke-opacity:0.7;stroke-width:0.3;\" x=\"81.232657\" xlink:href=\"#mec44b8dd35\" y=\"3.039375\" />\n     <use style=\"fill:#4575b4;fill-opacity:0.7;stroke:#4575b4;stroke-opacity:0.7;stroke-width:0.3;\" x=\"87.244555\" xlink:href=\"#mec44b8dd35\" y=\"45.260734\" />\n     <use style=\"fill:#4575b4;fill-opacity:0.7;stroke:#4575b4;stroke-opacity:0.7;stroke-width:0.3;\" x=\"80.528267\" xlink:href=\"#mec44b8dd35\" y=\"3.039375\" />\n     <use style=\"fill:#4575b4;fill-opacity:0.7;stroke:#4575b4;stroke-opacity:0.7;stroke-width:0.3;\" x=\"79.816023\" xlink:href=\"#mec44b8dd35\" y=\"3.039375\" />\n     <use style=\"fill:#4575b4;fill-opacity:0.7;stroke:#4575b4;stroke-opacity:0.7;stroke-width:0.3;\" x=\"85.70206\" xlink:href=\"#mec44b8dd35\" y=\"3.039375\" />\n     <use style=\"fill:#4575b4;fill-opacity:0.7;stroke:#4575b4;stroke-opacity:0.7;stroke-width:0.3;\" x=\"73.55358\" xlink:href=\"#mec44b8dd35\" y=\"3.039375\" />\n     <use style=\"fill:#4575b4;fill-opacity:0.7;stroke:#4575b4;stroke-opacity:0.7;stroke-width:0.3;\" x=\"80.106855\" xlink:href=\"#mec44b8dd35\" y=\"3.039375\" />\n     <use style=\"fill:#4575b4;fill-opacity:0.7;stroke:#4575b4;stroke-opacity:0.7;stroke-width:0.3;\" x=\"78.432506\" xlink:href=\"#mec44b8dd35\" y=\"3.039375\" />\n     <use style=\"fill:#4575b4;fill-opacity:0.7;stroke:#4575b4;stroke-opacity:0.7;stroke-width:0.3;\" x=\"82.725958\" xlink:href=\"#mec44b8dd35\" y=\"3.039375\" />\n     <use style=\"fill:#4575b4;fill-opacity:0.7;stroke:#4575b4;stroke-opacity:0.7;stroke-width:0.3;\" x=\"75.972292\" xlink:href=\"#mec44b8dd35\" y=\"3.039375\" />\n     <use style=\"fill:#4575b4;fill-opacity:0.7;stroke:#4575b4;stroke-opacity:0.7;stroke-width:0.3;\" x=\"84.776913\" xlink:href=\"#mec44b8dd35\" y=\"3.039375\" />\n     <use style=\"fill:#4575b4;fill-opacity:0.7;stroke:#4575b4;stroke-opacity:0.7;stroke-width:0.3;\" x=\"77.883467\" xlink:href=\"#mec44b8dd35\" y=\"3.039375\" />\n    </g>\n   </g>\n   <g id=\"matplotlib.axis_1\" />\n   <g id=\"matplotlib.axis_2\">\n    <g id=\"ytick_1\">\n     <g id=\"line2d_1\">\n      <defs>\n       <path d=\"M 0 0  L -3.5 0  \" id=\"m33c8ea5cda\" style=\"stroke:#444443;stroke-width:0.3;\" />\n      </defs>\n      <g>\n       <use style=\"fill:#444443;stroke:#444443;stroke-width:0.3;\" x=\"59.452187\" xlink:href=\"#m33c8ea5cda\" y=\"24.150055\" />\n      </g>\n     </g>\n     <g id=\"text_1\">\n      \n      <g style=\"fill:#444443;\" transform=\"translate(39.729687 27.18943)scale(0.08 -0.08)\">\n       <defs>\n        <path d=\"M 794 531  L 1825 531  L 1825 4091  L 703 3866  L 703 4441  L 1819 4666  L 2450 4666  L 2450 531  L 3481 531  L 3481 0  L 794 0  L 794 531  z \" id=\"DejaVuSans-31\" transform=\"scale(0.015625)\" />\n        <path d=\"M 684 794  L 1344 794  L 1344 0  L 684 0  L 684 794  z \" id=\"DejaVuSans-2e\" transform=\"scale(0.015625)\" />\n        <path d=\"M 691 4666  L 3169 4666  L 3169 4134  L 1269 4134  L 1269 2991  Q 1406 3038 1543 3061  Q 1681 3084 1819 3084  Q 2600 3084 3056 2656  Q 3513 2228 3513 1497  Q 3513 744 3044 326  Q 2575 -91 1722 -91  Q 1428 -91 1123 -41  Q 819 9 494 109  L 494 744  Q 775 591 1075 516  Q 1375 441 1709 441  Q 2250 441 2565 725  Q 2881 1009 2881 1497  Q 2881 1984 2565 2268  Q 2250 2553 1709 2553  Q 1456 2553 1204 2497  Q 953 2441 691 2322  L 691 4666  z \" id=\"DejaVuSans-35\" transform=\"scale(0.015625)\" />\n       </defs>\n       <use xlink:href=\"#DejaVuSans-31\" />\n       <use x=\"63.623047\" xlink:href=\"#DejaVuSans-2e\" />\n       <use x=\"95.410156\" xlink:href=\"#DejaVuSans-35\" />\n      </g>\n     </g>\n    </g>\n    <g id=\"ytick_2\">\n     <g id=\"line2d_2\">\n      <g>\n       <use style=\"fill:#444443;stroke:#444443;stroke-width:0.3;\" x=\"59.452187\" xlink:href=\"#m33c8ea5cda\" y=\"3.039375\" />\n      </g>\n     </g>\n     <g id=\"text_2\">\n      \n      <g style=\"fill:#444443;\" transform=\"translate(39.729687 6.07875)scale(0.08 -0.08)\">\n       <defs>\n        <path d=\"M 1228 531  L 3431 531  L 3431 0  L 469 0  L 469 531  Q 828 903 1448 1529  Q 2069 2156 2228 2338  Q 2531 2678 2651 2914  Q 2772 3150 2772 3378  Q 2772 3750 2511 3984  Q 2250 4219 1831 4219  Q 1534 4219 1204 4116  Q 875 4013 500 3803  L 500 4441  Q 881 4594 1212 4672  Q 1544 4750 1819 4750  Q 2544 4750 2975 4387  Q 3406 4025 3406 3419  Q 3406 3131 3298 2873  Q 3191 2616 2906 2266  Q 2828 2175 2409 1742  Q 1991 1309 1228 531  z \" id=\"DejaVuSans-32\" transform=\"scale(0.015625)\" />\n        <path d=\"M 2034 4250  Q 1547 4250 1301 3770  Q 1056 3291 1056 2328  Q 1056 1369 1301 889  Q 1547 409 2034 409  Q 2525 409 2770 889  Q 3016 1369 3016 2328  Q 3016 3291 2770 3770  Q 2525 4250 2034 4250  z M 2034 4750  Q 2819 4750 3233 4129  Q 3647 3509 3647 2328  Q 3647 1150 3233 529  Q 2819 -91 2034 -91  Q 1250 -91 836 529  Q 422 1150 422 2328  Q 422 3509 836 4129  Q 1250 4750 2034 4750  z \" id=\"DejaVuSans-30\" transform=\"scale(0.015625)\" />\n       </defs>\n       <use xlink:href=\"#DejaVuSans-32\" />\n       <use x=\"63.623047\" xlink:href=\"#DejaVuSans-2e\" />\n       <use x=\"95.410156\" xlink:href=\"#DejaVuSans-30\" />\n      </g>\n     </g>\n    </g>\n   </g>\n   <g id=\"line2d_3\">\n    <path clip-path=\"url(#pcbb40d2c40)\" d=\"M 59.452187 7.483729  L 162.754375 7.483729  \" style=\"fill:none;stroke:#444443;stroke-dasharray:3.7,1.6;stroke-dashoffset:0;\" />\n   </g>\n   <g id=\"patch_3\">\n    <path d=\"M 59.452187 43.994093  L 59.452187 0.506093  \" style=\"fill:none;stroke:#000000;stroke-linecap:square;stroke-linejoin:miter;stroke-width:0.3;\" />\n   </g>\n   <g id=\"text_3\">\n    \n    <g style=\"fill:#444443;\" transform=\"translate(0 54.487218)scale(0.12 -0.12)\">\n     <defs>\n      <path d=\"M 309 2231  Q 309 3372 921 4017  Q 1534 4663 2503 4663  Q 3138 4663 3647 4359  Q 4156 4056 4423 3514  Q 4691 2972 4691 2284  Q 4691 1588 4409 1038  Q 4128 488 3612 205  Q 3097 -78 2500 -78  Q 1853 -78 1343 234  Q 834 547 571 1087  Q 309 1628 309 2231  z M 934 2222  Q 934 1394 1379 917  Q 1825 441 2497 441  Q 3181 441 3623 922  Q 4066 1403 4066 2288  Q 4066 2847 3877 3264  Q 3688 3681 3323 3911  Q 2959 4141 2506 4141  Q 1863 4141 1398 3698  Q 934 3256 934 2222  z \" id=\"ArialMT-4f\" transform=\"scale(0.015625)\" />\n      <path d=\"M 941 0  L 419 0  L 419 4581  L 981 4581  L 981 2947  Q 1338 3394 1891 3394  Q 2197 3394 2470 3270  Q 2744 3147 2920 2923  Q 3097 2700 3197 2384  Q 3297 2069 3297 1709  Q 3297 856 2875 390  Q 2453 -75 1863 -75  Q 1275 -75 941 416  L 941 0  z M 934 1684  Q 934 1088 1097 822  Q 1363 388 1816 388  Q 2184 388 2453 708  Q 2722 1028 2722 1663  Q 2722 2313 2464 2622  Q 2206 2931 1841 2931  Q 1472 2931 1203 2611  Q 934 2291 934 1684  z \" id=\"ArialMT-62\" transform=\"scale(0.015625)\" />\n      <path d=\"M 1650 503  L 1731 6  Q 1494 -44 1306 -44  Q 1000 -44 831 53  Q 663 150 594 308  Q 525 466 525 972  L 525 2881  L 113 2881  L 113 3319  L 525 3319  L 525 4141  L 1084 4478  L 1084 3319  L 1650 3319  L 1650 2881  L 1084 2881  L 1084 941  Q 1084 700 1114 631  Q 1144 563 1211 522  Q 1278 481 1403 481  Q 1497 481 1650 503  z \" id=\"ArialMT-74\" transform=\"scale(0.015625)\" />\n      <path d=\"M 2694 1069  L 3275 997  Q 3138 488 2766 206  Q 2394 -75 1816 -75  Q 1088 -75 661 373  Q 234 822 234 1631  Q 234 2469 665 2931  Q 1097 3394 1784 3394  Q 2450 3394 2872 2941  Q 3294 2488 3294 1666  Q 3294 1616 3291 1516  L 816 1516  Q 847 969 1125 678  Q 1403 388 1819 388  Q 2128 388 2347 550  Q 2566 713 2694 1069  z M 847 1978  L 2700 1978  Q 2663 2397 2488 2606  Q 2219 2931 1791 2931  Q 1403 2931 1139 2672  Q 875 2413 847 1978  z \" id=\"ArialMT-65\" transform=\"scale(0.015625)\" />\n      <path d=\"M 416 0  L 416 3319  L 922 3319  L 922 2816  Q 1116 3169 1280 3281  Q 1444 3394 1641 3394  Q 1925 3394 2219 3213  L 2025 2691  Q 1819 2813 1613 2813  Q 1428 2813 1281 2702  Q 1134 2591 1072 2394  Q 978 2094 978 1738  L 978 0  L 416 0  z \" id=\"ArialMT-72\" transform=\"scale(0.015625)\" />\n      <path id=\"ArialMT-20\" transform=\"scale(0.015625)\" />\n      <path d=\"M 3763 1606  L 4369 1453  Q 4178 706 3683 314  Q 3188 -78 2472 -78  Q 1731 -78 1267 223  Q 803 525 561 1097  Q 319 1669 319 2325  Q 319 3041 592 3573  Q 866 4106 1370 4382  Q 1875 4659 2481 4659  Q 3169 4659 3637 4309  Q 4106 3959 4291 3325  L 3694 3184  Q 3534 3684 3231 3912  Q 2928 4141 2469 4141  Q 1941 4141 1586 3887  Q 1231 3634 1087 3207  Q 944 2781 944 2328  Q 944 1744 1114 1308  Q 1284 872 1643 656  Q 2003 441 2422 441  Q 2931 441 3284 734  Q 3638 1028 3763 1606  z \" id=\"ArialMT-43\" transform=\"scale(0.015625)\" />\n      <path d=\"M 2588 409  Q 2275 144 1986 34  Q 1697 -75 1366 -75  Q 819 -75 525 192  Q 231 459 231 875  Q 231 1119 342 1320  Q 453 1522 633 1644  Q 813 1766 1038 1828  Q 1203 1872 1538 1913  Q 2219 1994 2541 2106  Q 2544 2222 2544 2253  Q 2544 2597 2384 2738  Q 2169 2928 1744 2928  Q 1347 2928 1158 2789  Q 969 2650 878 2297  L 328 2372  Q 403 2725 575 2942  Q 747 3159 1072 3276  Q 1397 3394 1825 3394  Q 2250 3394 2515 3294  Q 2781 3194 2906 3042  Q 3031 2891 3081 2659  Q 3109 2516 3109 2141  L 3109 1391  Q 3109 606 3145 398  Q 3181 191 3288 0  L 2700 0  Q 2613 175 2588 409  z M 2541 1666  Q 2234 1541 1622 1453  Q 1275 1403 1131 1340  Q 988 1278 909 1158  Q 831 1038 831 891  Q 831 666 1001 516  Q 1172 366 1500 366  Q 1825 366 2078 508  Q 2331 650 2450 897  Q 2541 1088 2541 1459  L 2541 1666  z M 1769 4263  L 1416 3731  L 772 3731  L 1447 4606  L 2047 4606  L 2750 3731  L 2113 3731  L 1769 4263  z \" id=\"ArialMT-e2\" transform=\"scale(0.015625)\" />\n      <path d=\"M 422 0  L 422 3319  L 928 3319  L 928 2847  Q 1294 3394 1984 3394  Q 2284 3394 2536 3286  Q 2788 3178 2913 3003  Q 3038 2828 3088 2588  Q 3119 2431 3119 2041  L 3119 0  L 2556 0  L 2556 2019  Q 2556 2363 2490 2533  Q 2425 2703 2258 2804  Q 2091 2906 1866 2906  Q 1506 2906 1245 2678  Q 984 2450 984 1813  L 984 0  L 422 0  z \" id=\"ArialMT-6e\" transform=\"scale(0.015625)\" />\n      <path d=\"M 2588 1216  L 3141 1144  Q 3050 572 2676 248  Q 2303 -75 1759 -75  Q 1078 -75 664 370  Q 250 816 250 1647  Q 250 2184 428 2587  Q 606 2991 970 3192  Q 1334 3394 1763 3394  Q 2303 3394 2647 3120  Q 2991 2847 3088 2344  L 2541 2259  Q 2463 2594 2264 2762  Q 2066 2931 1784 2931  Q 1359 2931 1093 2626  Q 828 2322 828 1663  Q 828 994 1084 691  Q 1341 388 1753 388  Q 2084 388 2306 591  Q 2528 794 2588 1216  z \" id=\"ArialMT-63\" transform=\"scale(0.015625)\" />\n      <path d=\"M 2575 0  L 2575 419  Q 2259 -75 1647 -75  Q 1250 -75 917 144  Q 584 363 401 755  Q 219 1147 219 1656  Q 219 2153 384 2558  Q 550 2963 881 3178  Q 1213 3394 1622 3394  Q 1922 3394 2156 3267  Q 2391 3141 2538 2938  L 2538 4581  L 3097 4581  L 3097 0  L 2575 0  z M 797 1656  Q 797 1019 1065 703  Q 1334 388 1700 388  Q 2069 388 2326 689  Q 2584 991 2584 1609  Q 2584 2291 2321 2609  Q 2059 2928 1675 2928  Q 1300 2928 1048 2622  Q 797 2316 797 1656  z \" id=\"ArialMT-64\" transform=\"scale(0.015625)\" />\n      <path d=\"M 422 -1272  L 422 3319  L 934 3319  L 934 2888  Q 1116 3141 1344 3267  Q 1572 3394 1897 3394  Q 2322 3394 2647 3175  Q 2972 2956 3137 2557  Q 3303 2159 3303 1684  Q 3303 1175 3120 767  Q 2938 359 2589 142  Q 2241 -75 1856 -75  Q 1575 -75 1351 44  Q 1128 163 984 344  L 984 -1272  L 422 -1272  z M 931 1641  Q 931 1000 1190 694  Q 1450 388 1819 388  Q 2194 388 2461 705  Q 2728 1022 2728 1688  Q 2728 2322 2467 2637  Q 2206 2953 1844 2953  Q 1484 2953 1207 2617  Q 931 2281 931 1641  z \" id=\"ArialMT-70\" transform=\"scale(0.015625)\" />\n      <path d=\"M 2597 0  L 2597 488  Q 2209 -75 1544 -75  Q 1250 -75 995 37  Q 741 150 617 320  Q 494 491 444 738  Q 409 903 409 1263  L 409 3319  L 972 3319  L 972 1478  Q 972 1038 1006 884  Q 1059 663 1231 536  Q 1403 409 1656 409  Q 1909 409 2131 539  Q 2353 669 2445 892  Q 2538 1116 2538 1541  L 2538 3319  L 3100 3319  L 3100 0  L 2597 0  z \" id=\"ArialMT-75\" transform=\"scale(0.015625)\" />\n      <path d=\"M 409 0  L 409 4581  L 972 4581  L 972 0  L 409 0  z \" id=\"ArialMT-6c\" transform=\"scale(0.015625)\" />\n      <path d=\"M 422 0  L 422 3319  L 925 3319  L 925 2853  Q 1081 3097 1340 3245  Q 1600 3394 1931 3394  Q 2300 3394 2536 3241  Q 2772 3088 2869 2813  Q 3263 3394 3894 3394  Q 4388 3394 4653 3120  Q 4919 2847 4919 2278  L 4919 0  L 4359 0  L 4359 2091  Q 4359 2428 4304 2576  Q 4250 2725 4106 2815  Q 3963 2906 3769 2906  Q 3419 2906 3187 2673  Q 2956 2441 2956 1928  L 2956 0  L 2394 0  L 2394 2156  Q 2394 2531 2256 2718  Q 2119 2906 1806 2906  Q 1569 2906 1367 2781  Q 1166 2656 1075 2415  Q 984 2175 984 1722  L 984 0  L 422 0  z \" id=\"ArialMT-6d\" transform=\"scale(0.015625)\" />\n      <path d=\"M 2588 409  Q 2275 144 1986 34  Q 1697 -75 1366 -75  Q 819 -75 525 192  Q 231 459 231 875  Q 231 1119 342 1320  Q 453 1522 633 1644  Q 813 1766 1038 1828  Q 1203 1872 1538 1913  Q 2219 1994 2541 2106  Q 2544 2222 2544 2253  Q 2544 2597 2384 2738  Q 2169 2928 1744 2928  Q 1347 2928 1158 2789  Q 969 2650 878 2297  L 328 2372  Q 403 2725 575 2942  Q 747 3159 1072 3276  Q 1397 3394 1825 3394  Q 2250 3394 2515 3294  Q 2781 3194 2906 3042  Q 3031 2891 3081 2659  Q 3109 2516 3109 2141  L 3109 1391  Q 3109 606 3145 398  Q 3181 191 3288 0  L 2700 0  Q 2613 175 2588 409  z M 2541 1666  Q 2234 1541 1622 1453  Q 1275 1403 1131 1340  Q 988 1278 909 1158  Q 831 1038 831 891  Q 831 666 1001 516  Q 1172 366 1500 366  Q 1825 366 2078 508  Q 2331 650 2450 897  Q 2541 1088 2541 1459  L 2541 1666  z M 716 3809  Q 713 4134 894 4328  Q 1072 4522 1350 4522  Q 1544 4522 1878 4353  Q 2063 4259 2172 4259  Q 2272 4259 2325 4314  Q 2378 4369 2400 4531  L 2806 4531  Q 2797 4175 2626 3997  Q 2456 3819 2194 3819  Q 1997 3819 1675 3994  Q 1466 4106 1369 4106  Q 1263 4106 1197 4031  Q 1128 3956 1131 3809  L 716 3809  z \" id=\"ArialMT-e3\" transform=\"scale(0.015625)\" />\n      <path d=\"M 213 1659  Q 213 2581 725 3025  Q 1153 3394 1769 3394  Q 2453 3394 2887 2945  Q 3322 2497 3322 1706  Q 3322 1066 3130 698  Q 2938 331 2570 128  Q 2203 -75 1769 -75  Q 1072 -75 642 372  Q 213 819 213 1659  z M 791 1659  Q 791 1022 1069 705  Q 1347 388 1769 388  Q 2188 388 2466 706  Q 2744 1025 2744 1678  Q 2744 2294 2464 2611  Q 2184 2928 1769 2928  Q 1347 2928 1069 2612  Q 791 2297 791 1659  z \" id=\"ArialMT-6f\" transform=\"scale(0.015625)\" />\n      <path d=\"M 3381 2694  L 356 2694  L 356 3219  L 3381 3219  L 3381 2694  z M 3381 1303  L 356 1303  L 356 1828  L 3381 1828  L 3381 1303  z \" id=\"ArialMT-3d\" transform=\"scale(0.015625)\" />\n      <path d=\"M 2384 0  L 1822 0  L 1822 3584  Q 1619 3391 1289 3197  Q 959 3003 697 2906  L 697 3450  Q 1169 3672 1522 3987  Q 1875 4303 2022 4600  L 2384 4600  L 2384 0  z \" id=\"ArialMT-31\" transform=\"scale(0.015625)\" />\n      <path d=\"M 581 0  L 581 641  L 1222 641  L 1222 0  L 581 0  z \" id=\"ArialMT-2e\" transform=\"scale(0.015625)\" />\n      <path d=\"M 1131 2484  Q 781 2613 612 2850  Q 444 3088 444 3419  Q 444 3919 803 4259  Q 1163 4600 1759 4600  Q 2359 4600 2725 4251  Q 3091 3903 3091 3403  Q 3091 3084 2923 2848  Q 2756 2613 2416 2484  Q 2838 2347 3058 2040  Q 3278 1734 3278 1309  Q 3278 722 2862 322  Q 2447 -78 1769 -78  Q 1091 -78 675 323  Q 259 725 259 1325  Q 259 1772 486 2073  Q 713 2375 1131 2484  z M 1019 3438  Q 1019 3113 1228 2906  Q 1438 2700 1772 2700  Q 2097 2700 2305 2904  Q 2513 3109 2513 3406  Q 2513 3716 2298 3927  Q 2084 4138 1766 4138  Q 1444 4138 1231 3931  Q 1019 3725 1019 3438  z M 838 1322  Q 838 1081 952 856  Q 1066 631 1291 507  Q 1516 384 1775 384  Q 2178 384 2440 643  Q 2703 903 2703 1303  Q 2703 1709 2433 1975  Q 2163 2241 1756 2241  Q 1359 2241 1098 1978  Q 838 1716 838 1322  z \" id=\"ArialMT-38\" transform=\"scale(0.015625)\" />\n      <path d=\"M 350 1059  L 891 1109  Q 959 728 1153 556  Q 1347 384 1650 384  Q 1909 384 2104 503  Q 2300 622 2425 820  Q 2550 1019 2634 1356  Q 2719 1694 2719 2044  Q 2719 2081 2716 2156  Q 2547 1888 2255 1720  Q 1963 1553 1622 1553  Q 1053 1553 659 1965  Q 266 2378 266 3053  Q 266 3750 677 4175  Q 1088 4600 1706 4600  Q 2153 4600 2523 4359  Q 2894 4119 3086 3673  Q 3278 3228 3278 2384  Q 3278 1506 3087 986  Q 2897 466 2520 194  Q 2144 -78 1638 -78  Q 1100 -78 759 220  Q 419 519 350 1059  z M 2653 3081  Q 2653 3566 2395 3850  Q 2138 4134 1775 4134  Q 1400 4134 1122 3828  Q 844 3522 844 3034  Q 844 2597 1108 2323  Q 1372 2050 1759 2050  Q 2150 2050 2401 2323  Q 2653 2597 2653 3081  z \" id=\"ArialMT-39\" transform=\"scale(0.015625)\" />\n     </defs>\n     <use xlink:href=\"#ArialMT-4f\" />\n     <use x=\"77.783203\" xlink:href=\"#ArialMT-62\" />\n     <use x=\"133.398438\" xlink:href=\"#ArialMT-74\" />\n     <use x=\"161.181641\" xlink:href=\"#ArialMT-65\" />\n     <use x=\"216.796875\" xlink:href=\"#ArialMT-72\" />\n     <use x=\"250.097656\" xlink:href=\"#ArialMT-20\" />\n     <use x=\"277.880859\" xlink:href=\"#ArialMT-43\" />\n     <use x=\"350.097656\" xlink:href=\"#ArialMT-e2\" />\n     <use x=\"405.712891\" xlink:href=\"#ArialMT-6e\" />\n     <use x=\"461.328125\" xlink:href=\"#ArialMT-63\" />\n     <use x=\"511.328125\" xlink:href=\"#ArialMT-65\" />\n     <use x=\"566.943359\" xlink:href=\"#ArialMT-72\" />\n     <use x=\"600.244141\" xlink:href=\"#ArialMT-20\" />\n     <use x=\"628.027344\" xlink:href=\"#ArialMT-64\" />\n     <use x=\"683.642578\" xlink:href=\"#ArialMT-65\" />\n     <use x=\"739.257812\" xlink:href=\"#ArialMT-20\" />\n     <use x=\"767.041016\" xlink:href=\"#ArialMT-70\" />\n     <use x=\"822.65625\" xlink:href=\"#ArialMT-75\" />\n     <use x=\"878.271484\" xlink:href=\"#ArialMT-6c\" />\n     <use x=\"900.488281\" xlink:href=\"#ArialMT-6d\" />\n     <use x=\"983.789062\" xlink:href=\"#ArialMT-e3\" />\n     <use x=\"1039.404297\" xlink:href=\"#ArialMT-6f\" />\n     <use x=\"1095.019531\" xlink:href=\"#ArialMT-3d\" />\n     <use x=\"1153.417969\" xlink:href=\"#ArialMT-31\" />\n     <use x=\"1209.033203\" xlink:href=\"#ArialMT-2e\" />\n     <use x=\"1236.816406\" xlink:href=\"#ArialMT-38\" />\n     <use x=\"1292.431641\" xlink:href=\"#ArialMT-39\" />\n    </g>\n    \n    <g style=\"fill:#444443;\" transform=\"translate(67.363125 67.179468)scale(0.12 -0.12)\">\n     <use xlink:href=\"#ArialMT-6e\" />\n     <use x=\"55.615234\" xlink:href=\"#ArialMT-3d\" />\n     <use x=\"114.013672\" xlink:href=\"#ArialMT-31\" />\n     <use x=\"169.628906\" xlink:href=\"#ArialMT-39\" />\n    </g>\n   </g>\n  </g>\n </g>\n <defs>\n  <clipPath id=\"pcbb40d2c40\">\n   <rect height=\"43.488\" width=\"41.85\" x=\"59.452187\" y=\"0.506093\" />\n  </clipPath>\n </defs>\n</svg></g>\n\n<g id=\"edge10\" class=\"edge\">\n<title>node9-&gt;leaf10</title>\n<path fill=\"none\" stroke=\"#444443\" stroke-width=\"0.3\" d=\"M621.95,-76.59C622,-72.47 622.05,-68.3 622.1,-64.23\" />\n<polygon fill=\"#444443\" stroke=\"#444443\" stroke-width=\"0.3\" points=\"623.5,-64.22 622.15,-60.2 620.7,-64.19 623.5,-64.22\" />\n</g>\n\n<g id=\"node12\" class=\"node\">\n<title>leaf11</title>\n<polygon fill=\"none\" stroke=\"#444443\" stroke-width=\"0\" points=\"830,-60 701,-60 701,0 830,0 830,-60\" />\n<svg height=\"52px\" version=\"1.1\" viewBox=\"0 0 161.754375 69.564468\" width=\"121px\" preserveAspectRatio=\"xMinYMin meet\" x=\"705.5\" y=\"-56\">\n <metadata>\n  <rdf:RDF>\n   <ns2:Work>\n    <dc:type rdf:resource=\"http://purl.org/dc/dcmitype/StillImage\" />\n    <dc:date>2022-06-06T19:38:45.824845</dc:date>\n    <dc:format>image/svg+xml</dc:format>\n    <dc:creator>\n     <ns2:Agent>\n      <dc:title>Matplotlib v3.4.3, https://matplotlib.org/</dc:title>\n     </ns2:Agent>\n    </dc:creator>\n   </ns2:Work>\n  </rdf:RDF>\n </metadata>\n <defs>\n  <style type=\"text/css\">*{stroke-linecap:butt;stroke-linejoin:round;}</style>\n </defs>\n <g id=\"figure_1\">\n  <g id=\"patch_1\">\n   <path d=\"M 0 69.564468  L 161.754375 69.564468  L 161.754375 -0  L 0 -0  z \" style=\"fill:none;\" />\n  </g>\n  <g id=\"axes_1\">\n   <g id=\"patch_2\">\n    <path d=\"M 59.452187 43.994093  L 101.302188 43.994093  L 101.302188 0.506093  L 59.452187 0.506093  z \" style=\"fill:#ffffff;\" />\n   </g>\n   <g id=\"PathCollection_1\">\n    <defs>\n     <path d=\"M 0 1.118034  C 0.296506 1.118034 0.580908 1.000231 0.790569 0.790569  C 1.000231 0.580908 1.118034 0.296506 1.118034 0  C 1.118034 -0.296506 1.000231 -0.580908 0.790569 -0.790569  C 0.580908 -1.000231 0.296506 -1.118034 0 -1.118034  C -0.296506 -1.118034 -0.580908 -1.000231 -0.790569 -0.790569  C -1.000231 -0.580908 -1.118034 -0.296506 -1.118034 0  C -1.118034 0.296506 -1.000231 0.580908 -0.790569 0.790569  C -0.580908 1.000231 -0.296506 1.118034 0 1.118034  z \" id=\"m9c1e07bfe5\" style=\"stroke:#4575b4;stroke-opacity:0.7;stroke-width:0.3;\" />\n    </defs>\n    <g clip-path=\"url(#p5f02212546)\">\n     <use style=\"fill:#4575b4;fill-opacity:0.7;stroke:#4575b4;stroke-opacity:0.7;stroke-width:0.3;\" x=\"76.281565\" xlink:href=\"#m9c1e07bfe5\" y=\"3.039375\" />\n     <use style=\"fill:#4575b4;fill-opacity:0.7;stroke:#4575b4;stroke-opacity:0.7;stroke-width:0.3;\" x=\"79.927472\" xlink:href=\"#m9c1e07bfe5\" y=\"3.039375\" />\n     <use style=\"fill:#4575b4;fill-opacity:0.7;stroke:#4575b4;stroke-opacity:0.7;stroke-width:0.3;\" x=\"82.21245\" xlink:href=\"#m9c1e07bfe5\" y=\"3.039375\" />\n     <use style=\"fill:#4575b4;fill-opacity:0.7;stroke:#4575b4;stroke-opacity:0.7;stroke-width:0.3;\" x=\"88.987044\" xlink:href=\"#m9c1e07bfe5\" y=\"3.039375\" />\n     <use style=\"fill:#4575b4;fill-opacity:0.7;stroke:#4575b4;stroke-opacity:0.7;stroke-width:0.3;\" x=\"80.022073\" xlink:href=\"#m9c1e07bfe5\" y=\"3.039375\" />\n     <use style=\"fill:#4575b4;fill-opacity:0.7;stroke:#4575b4;stroke-opacity:0.7;stroke-width:0.3;\" x=\"83.313206\" xlink:href=\"#m9c1e07bfe5\" y=\"3.039375\" />\n     <use style=\"fill:#4575b4;fill-opacity:0.7;stroke:#4575b4;stroke-opacity:0.7;stroke-width:0.3;\" x=\"80.103572\" xlink:href=\"#m9c1e07bfe5\" y=\"3.039375\" />\n     <use style=\"fill:#4575b4;fill-opacity:0.7;stroke:#4575b4;stroke-opacity:0.7;stroke-width:0.3;\" x=\"80.337412\" xlink:href=\"#m9c1e07bfe5\" y=\"3.039375\" />\n     <use style=\"fill:#4575b4;fill-opacity:0.7;stroke:#4575b4;stroke-opacity:0.7;stroke-width:0.3;\" x=\"82.100696\" xlink:href=\"#m9c1e07bfe5\" y=\"3.039375\" />\n     <use style=\"fill:#4575b4;fill-opacity:0.7;stroke:#4575b4;stroke-opacity:0.7;stroke-width:0.3;\" x=\"76.29359\" xlink:href=\"#m9c1e07bfe5\" y=\"3.039375\" />\n     <use style=\"fill:#4575b4;fill-opacity:0.7;stroke:#4575b4;stroke-opacity:0.7;stroke-width:0.3;\" x=\"79.120546\" xlink:href=\"#m9c1e07bfe5\" y=\"3.039375\" />\n     <use style=\"fill:#4575b4;fill-opacity:0.7;stroke:#4575b4;stroke-opacity:0.7;stroke-width:0.3;\" x=\"82.576829\" xlink:href=\"#m9c1e07bfe5\" y=\"3.039375\" />\n     <use style=\"fill:#4575b4;fill-opacity:0.7;stroke:#4575b4;stroke-opacity:0.7;stroke-width:0.3;\" x=\"77.593276\" xlink:href=\"#m9c1e07bfe5\" y=\"3.039375\" />\n     <use style=\"fill:#4575b4;fill-opacity:0.7;stroke:#4575b4;stroke-opacity:0.7;stroke-width:0.3;\" x=\"75.341539\" xlink:href=\"#m9c1e07bfe5\" y=\"3.039375\" />\n     <use style=\"fill:#4575b4;fill-opacity:0.7;stroke:#4575b4;stroke-opacity:0.7;stroke-width:0.3;\" x=\"84.830291\" xlink:href=\"#m9c1e07bfe5\" y=\"3.039375\" />\n     <use style=\"fill:#4575b4;fill-opacity:0.7;stroke:#4575b4;stroke-opacity:0.7;stroke-width:0.3;\" x=\"84.422821\" xlink:href=\"#m9c1e07bfe5\" y=\"45.260734\" />\n     <use style=\"fill:#4575b4;fill-opacity:0.7;stroke:#4575b4;stroke-opacity:0.7;stroke-width:0.3;\" x=\"80.095313\" xlink:href=\"#m9c1e07bfe5\" y=\"3.039375\" />\n     <use style=\"fill:#4575b4;fill-opacity:0.7;stroke:#4575b4;stroke-opacity:0.7;stroke-width:0.3;\" x=\"81.705426\" xlink:href=\"#m9c1e07bfe5\" y=\"3.039375\" />\n     <use style=\"fill:#4575b4;fill-opacity:0.7;stroke:#4575b4;stroke-opacity:0.7;stroke-width:0.3;\" x=\"79.952176\" xlink:href=\"#m9c1e07bfe5\" y=\"3.039375\" />\n     <use style=\"fill:#4575b4;fill-opacity:0.7;stroke:#4575b4;stroke-opacity:0.7;stroke-width:0.3;\" x=\"88.296157\" xlink:href=\"#m9c1e07bfe5\" y=\"3.039375\" />\n     <use style=\"fill:#4575b4;fill-opacity:0.7;stroke:#4575b4;stroke-opacity:0.7;stroke-width:0.3;\" x=\"84.097524\" xlink:href=\"#m9c1e07bfe5\" y=\"3.039375\" />\n     <use style=\"fill:#4575b4;fill-opacity:0.7;stroke:#4575b4;stroke-opacity:0.7;stroke-width:0.3;\" x=\"82.365017\" xlink:href=\"#m9c1e07bfe5\" y=\"3.039375\" />\n     <use style=\"fill:#4575b4;fill-opacity:0.7;stroke:#4575b4;stroke-opacity:0.7;stroke-width:0.3;\" x=\"76.349179\" xlink:href=\"#m9c1e07bfe5\" y=\"3.039375\" />\n     <use style=\"fill:#4575b4;fill-opacity:0.7;stroke:#4575b4;stroke-opacity:0.7;stroke-width:0.3;\" x=\"79.744399\" xlink:href=\"#m9c1e07bfe5\" y=\"3.039375\" />\n     <use style=\"fill:#4575b4;fill-opacity:0.7;stroke:#4575b4;stroke-opacity:0.7;stroke-width:0.3;\" x=\"81.59271\" xlink:href=\"#m9c1e07bfe5\" y=\"3.039375\" />\n     <use style=\"fill:#4575b4;fill-opacity:0.7;stroke:#4575b4;stroke-opacity:0.7;stroke-width:0.3;\" x=\"82.266575\" xlink:href=\"#m9c1e07bfe5\" y=\"3.039375\" />\n     <use style=\"fill:#4575b4;fill-opacity:0.7;stroke:#4575b4;stroke-opacity:0.7;stroke-width:0.3;\" x=\"83.553771\" xlink:href=\"#m9c1e07bfe5\" y=\"3.039375\" />\n     <use style=\"fill:#4575b4;fill-opacity:0.7;stroke:#4575b4;stroke-opacity:0.7;stroke-width:0.3;\" x=\"77.367753\" xlink:href=\"#m9c1e07bfe5\" y=\"3.039375\" />\n     <use style=\"fill:#4575b4;fill-opacity:0.7;stroke:#4575b4;stroke-opacity:0.7;stroke-width:0.3;\" x=\"83.901825\" xlink:href=\"#m9c1e07bfe5\" y=\"3.039375\" />\n     <use style=\"fill:#4575b4;fill-opacity:0.7;stroke:#4575b4;stroke-opacity:0.7;stroke-width:0.3;\" x=\"79.937977\" xlink:href=\"#m9c1e07bfe5\" y=\"3.039375\" />\n     <use style=\"fill:#4575b4;fill-opacity:0.7;stroke:#4575b4;stroke-opacity:0.7;stroke-width:0.3;\" x=\"73.438645\" xlink:href=\"#m9c1e07bfe5\" y=\"3.039375\" />\n     <use style=\"fill:#4575b4;fill-opacity:0.7;stroke:#4575b4;stroke-opacity:0.7;stroke-width:0.3;\" x=\"81.039703\" xlink:href=\"#m9c1e07bfe5\" y=\"3.039375\" />\n     <use style=\"fill:#4575b4;fill-opacity:0.7;stroke:#4575b4;stroke-opacity:0.7;stroke-width:0.3;\" x=\"74.037763\" xlink:href=\"#m9c1e07bfe5\" y=\"3.039375\" />\n     <use style=\"fill:#4575b4;fill-opacity:0.7;stroke:#4575b4;stroke-opacity:0.7;stroke-width:0.3;\" x=\"77.293028\" xlink:href=\"#m9c1e07bfe5\" y=\"3.039375\" />\n     <use style=\"fill:#4575b4;fill-opacity:0.7;stroke:#4575b4;stroke-opacity:0.7;stroke-width:0.3;\" x=\"74.993764\" xlink:href=\"#m9c1e07bfe5\" y=\"3.039375\" />\n     <use style=\"fill:#4575b4;fill-opacity:0.7;stroke:#4575b4;stroke-opacity:0.7;stroke-width:0.3;\" x=\"80.527683\" xlink:href=\"#m9c1e07bfe5\" y=\"3.039375\" />\n     <use style=\"fill:#4575b4;fill-opacity:0.7;stroke:#4575b4;stroke-opacity:0.7;stroke-width:0.3;\" x=\"77.27349\" xlink:href=\"#m9c1e07bfe5\" y=\"3.039375\" />\n     <use style=\"fill:#4575b4;fill-opacity:0.7;stroke:#4575b4;stroke-opacity:0.7;stroke-width:0.3;\" x=\"82.408046\" xlink:href=\"#m9c1e07bfe5\" y=\"3.039375\" />\n     <use style=\"fill:#4575b4;fill-opacity:0.7;stroke:#4575b4;stroke-opacity:0.7;stroke-width:0.3;\" x=\"78.556878\" xlink:href=\"#m9c1e07bfe5\" y=\"3.039375\" />\n     <use style=\"fill:#4575b4;fill-opacity:0.7;stroke:#4575b4;stroke-opacity:0.7;stroke-width:0.3;\" x=\"78.443161\" xlink:href=\"#m9c1e07bfe5\" y=\"3.039375\" />\n     <use style=\"fill:#4575b4;fill-opacity:0.7;stroke:#4575b4;stroke-opacity:0.7;stroke-width:0.3;\" x=\"81.342684\" xlink:href=\"#m9c1e07bfe5\" y=\"3.039375\" />\n     <use style=\"fill:#4575b4;fill-opacity:0.7;stroke:#4575b4;stroke-opacity:0.7;stroke-width:0.3;\" x=\"82.142647\" xlink:href=\"#m9c1e07bfe5\" y=\"3.039375\" />\n     <use style=\"fill:#4575b4;fill-opacity:0.7;stroke:#4575b4;stroke-opacity:0.7;stroke-width:0.3;\" x=\"73.789324\" xlink:href=\"#m9c1e07bfe5\" y=\"3.039375\" />\n    </g>\n   </g>\n   <g id=\"matplotlib.axis_1\" />\n   <g id=\"matplotlib.axis_2\">\n    <g id=\"ytick_1\">\n     <g id=\"line2d_1\">\n      <defs>\n       <path d=\"M 0 0  L -3.5 0  \" id=\"m2d6a76e63c\" style=\"stroke:#444443;stroke-width:0.3;\" />\n      </defs>\n      <g>\n       <use style=\"fill:#444443;stroke:#444443;stroke-width:0.3;\" x=\"59.452187\" xlink:href=\"#m2d6a76e63c\" y=\"24.150055\" />\n      </g>\n     </g>\n     <g id=\"text_1\">\n      \n      <g style=\"fill:#444443;\" transform=\"translate(39.729687 27.18943)scale(0.08 -0.08)\">\n       <defs>\n        <path d=\"M 794 531  L 1825 531  L 1825 4091  L 703 3866  L 703 4441  L 1819 4666  L 2450 4666  L 2450 531  L 3481 531  L 3481 0  L 794 0  L 794 531  z \" id=\"DejaVuSans-31\" transform=\"scale(0.015625)\" />\n        <path d=\"M 684 794  L 1344 794  L 1344 0  L 684 0  L 684 794  z \" id=\"DejaVuSans-2e\" transform=\"scale(0.015625)\" />\n        <path d=\"M 691 4666  L 3169 4666  L 3169 4134  L 1269 4134  L 1269 2991  Q 1406 3038 1543 3061  Q 1681 3084 1819 3084  Q 2600 3084 3056 2656  Q 3513 2228 3513 1497  Q 3513 744 3044 326  Q 2575 -91 1722 -91  Q 1428 -91 1123 -41  Q 819 9 494 109  L 494 744  Q 775 591 1075 516  Q 1375 441 1709 441  Q 2250 441 2565 725  Q 2881 1009 2881 1497  Q 2881 1984 2565 2268  Q 2250 2553 1709 2553  Q 1456 2553 1204 2497  Q 953 2441 691 2322  L 691 4666  z \" id=\"DejaVuSans-35\" transform=\"scale(0.015625)\" />\n       </defs>\n       <use xlink:href=\"#DejaVuSans-31\" />\n       <use x=\"63.623047\" xlink:href=\"#DejaVuSans-2e\" />\n       <use x=\"95.410156\" xlink:href=\"#DejaVuSans-35\" />\n      </g>\n     </g>\n    </g>\n    <g id=\"ytick_2\">\n     <g id=\"line2d_2\">\n      <g>\n       <use style=\"fill:#444443;stroke:#444443;stroke-width:0.3;\" x=\"59.452187\" xlink:href=\"#m2d6a76e63c\" y=\"3.039375\" />\n      </g>\n     </g>\n     <g id=\"text_2\">\n      \n      <g style=\"fill:#444443;\" transform=\"translate(39.729687 6.07875)scale(0.08 -0.08)\">\n       <defs>\n        <path d=\"M 1228 531  L 3431 531  L 3431 0  L 469 0  L 469 531  Q 828 903 1448 1529  Q 2069 2156 2228 2338  Q 2531 2678 2651 2914  Q 2772 3150 2772 3378  Q 2772 3750 2511 3984  Q 2250 4219 1831 4219  Q 1534 4219 1204 4116  Q 875 4013 500 3803  L 500 4441  Q 881 4594 1212 4672  Q 1544 4750 1819 4750  Q 2544 4750 2975 4387  Q 3406 4025 3406 3419  Q 3406 3131 3298 2873  Q 3191 2616 2906 2266  Q 2828 2175 2409 1742  Q 1991 1309 1228 531  z \" id=\"DejaVuSans-32\" transform=\"scale(0.015625)\" />\n        <path d=\"M 2034 4250  Q 1547 4250 1301 3770  Q 1056 3291 1056 2328  Q 1056 1369 1301 889  Q 1547 409 2034 409  Q 2525 409 2770 889  Q 3016 1369 3016 2328  Q 3016 3291 2770 3770  Q 2525 4250 2034 4250  z M 2034 4750  Q 2819 4750 3233 4129  Q 3647 3509 3647 2328  Q 3647 1150 3233 529  Q 2819 -91 2034 -91  Q 1250 -91 836 529  Q 422 1150 422 2328  Q 422 3509 836 4129  Q 1250 4750 2034 4750  z \" id=\"DejaVuSans-30\" transform=\"scale(0.015625)\" />\n       </defs>\n       <use xlink:href=\"#DejaVuSans-32\" />\n       <use x=\"63.623047\" xlink:href=\"#DejaVuSans-2e\" />\n       <use x=\"95.410156\" xlink:href=\"#DejaVuSans-30\" />\n      </g>\n     </g>\n    </g>\n   </g>\n   <g id=\"line2d_3\">\n    <path clip-path=\"url(#p5f02212546)\" d=\"M 59.452187 4.021267  L 162.754375 4.021267  \" style=\"fill:none;stroke:#444443;stroke-dasharray:3.7,1.6;stroke-dashoffset:0;\" />\n   </g>\n   <g id=\"patch_3\">\n    <path d=\"M 59.452187 43.994093  L 59.452187 0.506093  \" style=\"fill:none;stroke:#000000;stroke-linecap:square;stroke-linejoin:miter;stroke-width:0.3;\" />\n   </g>\n   <g id=\"text_3\">\n    \n    <g style=\"fill:#444443;\" transform=\"translate(0 54.487218)scale(0.12 -0.12)\">\n     <defs>\n      <path d=\"M 309 2231  Q 309 3372 921 4017  Q 1534 4663 2503 4663  Q 3138 4663 3647 4359  Q 4156 4056 4423 3514  Q 4691 2972 4691 2284  Q 4691 1588 4409 1038  Q 4128 488 3612 205  Q 3097 -78 2500 -78  Q 1853 -78 1343 234  Q 834 547 571 1087  Q 309 1628 309 2231  z M 934 2222  Q 934 1394 1379 917  Q 1825 441 2497 441  Q 3181 441 3623 922  Q 4066 1403 4066 2288  Q 4066 2847 3877 3264  Q 3688 3681 3323 3911  Q 2959 4141 2506 4141  Q 1863 4141 1398 3698  Q 934 3256 934 2222  z \" id=\"ArialMT-4f\" transform=\"scale(0.015625)\" />\n      <path d=\"M 941 0  L 419 0  L 419 4581  L 981 4581  L 981 2947  Q 1338 3394 1891 3394  Q 2197 3394 2470 3270  Q 2744 3147 2920 2923  Q 3097 2700 3197 2384  Q 3297 2069 3297 1709  Q 3297 856 2875 390  Q 2453 -75 1863 -75  Q 1275 -75 941 416  L 941 0  z M 934 1684  Q 934 1088 1097 822  Q 1363 388 1816 388  Q 2184 388 2453 708  Q 2722 1028 2722 1663  Q 2722 2313 2464 2622  Q 2206 2931 1841 2931  Q 1472 2931 1203 2611  Q 934 2291 934 1684  z \" id=\"ArialMT-62\" transform=\"scale(0.015625)\" />\n      <path d=\"M 1650 503  L 1731 6  Q 1494 -44 1306 -44  Q 1000 -44 831 53  Q 663 150 594 308  Q 525 466 525 972  L 525 2881  L 113 2881  L 113 3319  L 525 3319  L 525 4141  L 1084 4478  L 1084 3319  L 1650 3319  L 1650 2881  L 1084 2881  L 1084 941  Q 1084 700 1114 631  Q 1144 563 1211 522  Q 1278 481 1403 481  Q 1497 481 1650 503  z \" id=\"ArialMT-74\" transform=\"scale(0.015625)\" />\n      <path d=\"M 2694 1069  L 3275 997  Q 3138 488 2766 206  Q 2394 -75 1816 -75  Q 1088 -75 661 373  Q 234 822 234 1631  Q 234 2469 665 2931  Q 1097 3394 1784 3394  Q 2450 3394 2872 2941  Q 3294 2488 3294 1666  Q 3294 1616 3291 1516  L 816 1516  Q 847 969 1125 678  Q 1403 388 1819 388  Q 2128 388 2347 550  Q 2566 713 2694 1069  z M 847 1978  L 2700 1978  Q 2663 2397 2488 2606  Q 2219 2931 1791 2931  Q 1403 2931 1139 2672  Q 875 2413 847 1978  z \" id=\"ArialMT-65\" transform=\"scale(0.015625)\" />\n      <path d=\"M 416 0  L 416 3319  L 922 3319  L 922 2816  Q 1116 3169 1280 3281  Q 1444 3394 1641 3394  Q 1925 3394 2219 3213  L 2025 2691  Q 1819 2813 1613 2813  Q 1428 2813 1281 2702  Q 1134 2591 1072 2394  Q 978 2094 978 1738  L 978 0  L 416 0  z \" id=\"ArialMT-72\" transform=\"scale(0.015625)\" />\n      <path id=\"ArialMT-20\" transform=\"scale(0.015625)\" />\n      <path d=\"M 3763 1606  L 4369 1453  Q 4178 706 3683 314  Q 3188 -78 2472 -78  Q 1731 -78 1267 223  Q 803 525 561 1097  Q 319 1669 319 2325  Q 319 3041 592 3573  Q 866 4106 1370 4382  Q 1875 4659 2481 4659  Q 3169 4659 3637 4309  Q 4106 3959 4291 3325  L 3694 3184  Q 3534 3684 3231 3912  Q 2928 4141 2469 4141  Q 1941 4141 1586 3887  Q 1231 3634 1087 3207  Q 944 2781 944 2328  Q 944 1744 1114 1308  Q 1284 872 1643 656  Q 2003 441 2422 441  Q 2931 441 3284 734  Q 3638 1028 3763 1606  z \" id=\"ArialMT-43\" transform=\"scale(0.015625)\" />\n      <path d=\"M 2588 409  Q 2275 144 1986 34  Q 1697 -75 1366 -75  Q 819 -75 525 192  Q 231 459 231 875  Q 231 1119 342 1320  Q 453 1522 633 1644  Q 813 1766 1038 1828  Q 1203 1872 1538 1913  Q 2219 1994 2541 2106  Q 2544 2222 2544 2253  Q 2544 2597 2384 2738  Q 2169 2928 1744 2928  Q 1347 2928 1158 2789  Q 969 2650 878 2297  L 328 2372  Q 403 2725 575 2942  Q 747 3159 1072 3276  Q 1397 3394 1825 3394  Q 2250 3394 2515 3294  Q 2781 3194 2906 3042  Q 3031 2891 3081 2659  Q 3109 2516 3109 2141  L 3109 1391  Q 3109 606 3145 398  Q 3181 191 3288 0  L 2700 0  Q 2613 175 2588 409  z M 2541 1666  Q 2234 1541 1622 1453  Q 1275 1403 1131 1340  Q 988 1278 909 1158  Q 831 1038 831 891  Q 831 666 1001 516  Q 1172 366 1500 366  Q 1825 366 2078 508  Q 2331 650 2450 897  Q 2541 1088 2541 1459  L 2541 1666  z M 1769 4263  L 1416 3731  L 772 3731  L 1447 4606  L 2047 4606  L 2750 3731  L 2113 3731  L 1769 4263  z \" id=\"ArialMT-e2\" transform=\"scale(0.015625)\" />\n      <path d=\"M 422 0  L 422 3319  L 928 3319  L 928 2847  Q 1294 3394 1984 3394  Q 2284 3394 2536 3286  Q 2788 3178 2913 3003  Q 3038 2828 3088 2588  Q 3119 2431 3119 2041  L 3119 0  L 2556 0  L 2556 2019  Q 2556 2363 2490 2533  Q 2425 2703 2258 2804  Q 2091 2906 1866 2906  Q 1506 2906 1245 2678  Q 984 2450 984 1813  L 984 0  L 422 0  z \" id=\"ArialMT-6e\" transform=\"scale(0.015625)\" />\n      <path d=\"M 2588 1216  L 3141 1144  Q 3050 572 2676 248  Q 2303 -75 1759 -75  Q 1078 -75 664 370  Q 250 816 250 1647  Q 250 2184 428 2587  Q 606 2991 970 3192  Q 1334 3394 1763 3394  Q 2303 3394 2647 3120  Q 2991 2847 3088 2344  L 2541 2259  Q 2463 2594 2264 2762  Q 2066 2931 1784 2931  Q 1359 2931 1093 2626  Q 828 2322 828 1663  Q 828 994 1084 691  Q 1341 388 1753 388  Q 2084 388 2306 591  Q 2528 794 2588 1216  z \" id=\"ArialMT-63\" transform=\"scale(0.015625)\" />\n      <path d=\"M 2575 0  L 2575 419  Q 2259 -75 1647 -75  Q 1250 -75 917 144  Q 584 363 401 755  Q 219 1147 219 1656  Q 219 2153 384 2558  Q 550 2963 881 3178  Q 1213 3394 1622 3394  Q 1922 3394 2156 3267  Q 2391 3141 2538 2938  L 2538 4581  L 3097 4581  L 3097 0  L 2575 0  z M 797 1656  Q 797 1019 1065 703  Q 1334 388 1700 388  Q 2069 388 2326 689  Q 2584 991 2584 1609  Q 2584 2291 2321 2609  Q 2059 2928 1675 2928  Q 1300 2928 1048 2622  Q 797 2316 797 1656  z \" id=\"ArialMT-64\" transform=\"scale(0.015625)\" />\n      <path d=\"M 422 -1272  L 422 3319  L 934 3319  L 934 2888  Q 1116 3141 1344 3267  Q 1572 3394 1897 3394  Q 2322 3394 2647 3175  Q 2972 2956 3137 2557  Q 3303 2159 3303 1684  Q 3303 1175 3120 767  Q 2938 359 2589 142  Q 2241 -75 1856 -75  Q 1575 -75 1351 44  Q 1128 163 984 344  L 984 -1272  L 422 -1272  z M 931 1641  Q 931 1000 1190 694  Q 1450 388 1819 388  Q 2194 388 2461 705  Q 2728 1022 2728 1688  Q 2728 2322 2467 2637  Q 2206 2953 1844 2953  Q 1484 2953 1207 2617  Q 931 2281 931 1641  z \" id=\"ArialMT-70\" transform=\"scale(0.015625)\" />\n      <path d=\"M 2597 0  L 2597 488  Q 2209 -75 1544 -75  Q 1250 -75 995 37  Q 741 150 617 320  Q 494 491 444 738  Q 409 903 409 1263  L 409 3319  L 972 3319  L 972 1478  Q 972 1038 1006 884  Q 1059 663 1231 536  Q 1403 409 1656 409  Q 1909 409 2131 539  Q 2353 669 2445 892  Q 2538 1116 2538 1541  L 2538 3319  L 3100 3319  L 3100 0  L 2597 0  z \" id=\"ArialMT-75\" transform=\"scale(0.015625)\" />\n      <path d=\"M 409 0  L 409 4581  L 972 4581  L 972 0  L 409 0  z \" id=\"ArialMT-6c\" transform=\"scale(0.015625)\" />\n      <path d=\"M 422 0  L 422 3319  L 925 3319  L 925 2853  Q 1081 3097 1340 3245  Q 1600 3394 1931 3394  Q 2300 3394 2536 3241  Q 2772 3088 2869 2813  Q 3263 3394 3894 3394  Q 4388 3394 4653 3120  Q 4919 2847 4919 2278  L 4919 0  L 4359 0  L 4359 2091  Q 4359 2428 4304 2576  Q 4250 2725 4106 2815  Q 3963 2906 3769 2906  Q 3419 2906 3187 2673  Q 2956 2441 2956 1928  L 2956 0  L 2394 0  L 2394 2156  Q 2394 2531 2256 2718  Q 2119 2906 1806 2906  Q 1569 2906 1367 2781  Q 1166 2656 1075 2415  Q 984 2175 984 1722  L 984 0  L 422 0  z \" id=\"ArialMT-6d\" transform=\"scale(0.015625)\" />\n      <path d=\"M 2588 409  Q 2275 144 1986 34  Q 1697 -75 1366 -75  Q 819 -75 525 192  Q 231 459 231 875  Q 231 1119 342 1320  Q 453 1522 633 1644  Q 813 1766 1038 1828  Q 1203 1872 1538 1913  Q 2219 1994 2541 2106  Q 2544 2222 2544 2253  Q 2544 2597 2384 2738  Q 2169 2928 1744 2928  Q 1347 2928 1158 2789  Q 969 2650 878 2297  L 328 2372  Q 403 2725 575 2942  Q 747 3159 1072 3276  Q 1397 3394 1825 3394  Q 2250 3394 2515 3294  Q 2781 3194 2906 3042  Q 3031 2891 3081 2659  Q 3109 2516 3109 2141  L 3109 1391  Q 3109 606 3145 398  Q 3181 191 3288 0  L 2700 0  Q 2613 175 2588 409  z M 2541 1666  Q 2234 1541 1622 1453  Q 1275 1403 1131 1340  Q 988 1278 909 1158  Q 831 1038 831 891  Q 831 666 1001 516  Q 1172 366 1500 366  Q 1825 366 2078 508  Q 2331 650 2450 897  Q 2541 1088 2541 1459  L 2541 1666  z M 716 3809  Q 713 4134 894 4328  Q 1072 4522 1350 4522  Q 1544 4522 1878 4353  Q 2063 4259 2172 4259  Q 2272 4259 2325 4314  Q 2378 4369 2400 4531  L 2806 4531  Q 2797 4175 2626 3997  Q 2456 3819 2194 3819  Q 1997 3819 1675 3994  Q 1466 4106 1369 4106  Q 1263 4106 1197 4031  Q 1128 3956 1131 3809  L 716 3809  z \" id=\"ArialMT-e3\" transform=\"scale(0.015625)\" />\n      <path d=\"M 213 1659  Q 213 2581 725 3025  Q 1153 3394 1769 3394  Q 2453 3394 2887 2945  Q 3322 2497 3322 1706  Q 3322 1066 3130 698  Q 2938 331 2570 128  Q 2203 -75 1769 -75  Q 1072 -75 642 372  Q 213 819 213 1659  z M 791 1659  Q 791 1022 1069 705  Q 1347 388 1769 388  Q 2188 388 2466 706  Q 2744 1025 2744 1678  Q 2744 2294 2464 2611  Q 2184 2928 1769 2928  Q 1347 2928 1069 2612  Q 791 2297 791 1659  z \" id=\"ArialMT-6f\" transform=\"scale(0.015625)\" />\n      <path d=\"M 3381 2694  L 356 2694  L 356 3219  L 3381 3219  L 3381 2694  z M 3381 1303  L 356 1303  L 356 1828  L 3381 1828  L 3381 1303  z \" id=\"ArialMT-3d\" transform=\"scale(0.015625)\" />\n      <path d=\"M 2384 0  L 1822 0  L 1822 3584  Q 1619 3391 1289 3197  Q 959 3003 697 2906  L 697 3450  Q 1169 3672 1522 3987  Q 1875 4303 2022 4600  L 2384 4600  L 2384 0  z \" id=\"ArialMT-31\" transform=\"scale(0.015625)\" />\n      <path d=\"M 581 0  L 581 641  L 1222 641  L 1222 0  L 581 0  z \" id=\"ArialMT-2e\" transform=\"scale(0.015625)\" />\n      <path d=\"M 350 1059  L 891 1109  Q 959 728 1153 556  Q 1347 384 1650 384  Q 1909 384 2104 503  Q 2300 622 2425 820  Q 2550 1019 2634 1356  Q 2719 1694 2719 2044  Q 2719 2081 2716 2156  Q 2547 1888 2255 1720  Q 1963 1553 1622 1553  Q 1053 1553 659 1965  Q 266 2378 266 3053  Q 266 3750 677 4175  Q 1088 4600 1706 4600  Q 2153 4600 2523 4359  Q 2894 4119 3086 3673  Q 3278 3228 3278 2384  Q 3278 1506 3087 986  Q 2897 466 2520 194  Q 2144 -78 1638 -78  Q 1100 -78 759 220  Q 419 519 350 1059  z M 2653 3081  Q 2653 3566 2395 3850  Q 2138 4134 1775 4134  Q 1400 4134 1122 3828  Q 844 3522 844 3034  Q 844 2597 1108 2323  Q 1372 2050 1759 2050  Q 2150 2050 2401 2323  Q 2653 2597 2653 3081  z \" id=\"ArialMT-39\" transform=\"scale(0.015625)\" />\n      <path d=\"M 1131 2484  Q 781 2613 612 2850  Q 444 3088 444 3419  Q 444 3919 803 4259  Q 1163 4600 1759 4600  Q 2359 4600 2725 4251  Q 3091 3903 3091 3403  Q 3091 3084 2923 2848  Q 2756 2613 2416 2484  Q 2838 2347 3058 2040  Q 3278 1734 3278 1309  Q 3278 722 2862 322  Q 2447 -78 1769 -78  Q 1091 -78 675 323  Q 259 725 259 1325  Q 259 1772 486 2073  Q 713 2375 1131 2484  z M 1019 3438  Q 1019 3113 1228 2906  Q 1438 2700 1772 2700  Q 2097 2700 2305 2904  Q 2513 3109 2513 3406  Q 2513 3716 2298 3927  Q 2084 4138 1766 4138  Q 1444 4138 1231 3931  Q 1019 3725 1019 3438  z M 838 1322  Q 838 1081 952 856  Q 1066 631 1291 507  Q 1516 384 1775 384  Q 2178 384 2440 643  Q 2703 903 2703 1303  Q 2703 1709 2433 1975  Q 2163 2241 1756 2241  Q 1359 2241 1098 1978  Q 838 1716 838 1322  z \" id=\"ArialMT-38\" transform=\"scale(0.015625)\" />\n     </defs>\n     <use xlink:href=\"#ArialMT-4f\" />\n     <use x=\"77.783203\" xlink:href=\"#ArialMT-62\" />\n     <use x=\"133.398438\" xlink:href=\"#ArialMT-74\" />\n     <use x=\"161.181641\" xlink:href=\"#ArialMT-65\" />\n     <use x=\"216.796875\" xlink:href=\"#ArialMT-72\" />\n     <use x=\"250.097656\" xlink:href=\"#ArialMT-20\" />\n     <use x=\"277.880859\" xlink:href=\"#ArialMT-43\" />\n     <use x=\"350.097656\" xlink:href=\"#ArialMT-e2\" />\n     <use x=\"405.712891\" xlink:href=\"#ArialMT-6e\" />\n     <use x=\"461.328125\" xlink:href=\"#ArialMT-63\" />\n     <use x=\"511.328125\" xlink:href=\"#ArialMT-65\" />\n     <use x=\"566.943359\" xlink:href=\"#ArialMT-72\" />\n     <use x=\"600.244141\" xlink:href=\"#ArialMT-20\" />\n     <use x=\"628.027344\" xlink:href=\"#ArialMT-64\" />\n     <use x=\"683.642578\" xlink:href=\"#ArialMT-65\" />\n     <use x=\"739.257812\" xlink:href=\"#ArialMT-20\" />\n     <use x=\"767.041016\" xlink:href=\"#ArialMT-70\" />\n     <use x=\"822.65625\" xlink:href=\"#ArialMT-75\" />\n     <use x=\"878.271484\" xlink:href=\"#ArialMT-6c\" />\n     <use x=\"900.488281\" xlink:href=\"#ArialMT-6d\" />\n     <use x=\"983.789062\" xlink:href=\"#ArialMT-e3\" />\n     <use x=\"1039.404297\" xlink:href=\"#ArialMT-6f\" />\n     <use x=\"1095.019531\" xlink:href=\"#ArialMT-3d\" />\n     <use x=\"1153.417969\" xlink:href=\"#ArialMT-31\" />\n     <use x=\"1209.033203\" xlink:href=\"#ArialMT-2e\" />\n     <use x=\"1236.816406\" xlink:href=\"#ArialMT-39\" />\n     <use x=\"1292.431641\" xlink:href=\"#ArialMT-38\" />\n    </g>\n    \n    <g style=\"fill:#444443;\" transform=\"translate(67.363125 67.179468)scale(0.12 -0.12)\">\n     <defs>\n      <path d=\"M 2069 0  L 2069 1097  L 81 1097  L 81 1613  L 2172 4581  L 2631 4581  L 2631 1613  L 3250 1613  L 3250 1097  L 2631 1097  L 2631 0  L 2069 0  z M 2069 1613  L 2069 3678  L 634 1613  L 2069 1613  z \" id=\"ArialMT-34\" transform=\"scale(0.015625)\" />\n      <path d=\"M 269 1209  L 831 1284  Q 928 806 1161 595  Q 1394 384 1728 384  Q 2125 384 2398 659  Q 2672 934 2672 1341  Q 2672 1728 2419 1979  Q 2166 2231 1775 2231  Q 1616 2231 1378 2169  L 1441 2663  Q 1497 2656 1531 2656  Q 1891 2656 2178 2843  Q 2466 3031 2466 3422  Q 2466 3731 2256 3934  Q 2047 4138 1716 4138  Q 1388 4138 1169 3931  Q 950 3725 888 3313  L 325 3413  Q 428 3978 793 4289  Q 1159 4600 1703 4600  Q 2078 4600 2393 4439  Q 2709 4278 2876 4000  Q 3044 3722 3044 3409  Q 3044 3113 2884 2869  Q 2725 2625 2413 2481  Q 2819 2388 3044 2092  Q 3269 1797 3269 1353  Q 3269 753 2831 336  Q 2394 -81 1725 -81  Q 1122 -81 723 278  Q 325 638 269 1209  z \" id=\"ArialMT-33\" transform=\"scale(0.015625)\" />\n     </defs>\n     <use xlink:href=\"#ArialMT-6e\" />\n     <use x=\"55.615234\" xlink:href=\"#ArialMT-3d\" />\n     <use x=\"114.013672\" xlink:href=\"#ArialMT-34\" />\n     <use x=\"169.628906\" xlink:href=\"#ArialMT-33\" />\n    </g>\n   </g>\n  </g>\n </g>\n <defs>\n  <clipPath id=\"p5f02212546\">\n   <rect height=\"43.488\" width=\"41.85\" x=\"59.452187\" y=\"0.506093\" />\n  </clipPath>\n </defs>\n</svg></g>\n\n<g id=\"edge11\" class=\"edge\">\n<title>node9-&gt;leaf11</title>\n<path fill=\"none\" stroke=\"#444443\" stroke-width=\"0.3\" d=\"M685.5,-76.83C694.04,-71.94 702.74,-66.96 711.1,-62.17\" />\n<polygon fill=\"#444443\" stroke=\"#444443\" stroke-width=\"0.3\" points=\"711.88,-63.33 714.66,-60.13 710.49,-60.9 711.88,-63.33\" />\n</g>\n\n<g id=\"node13\" class=\"node\">\n<title>leaf12</title>\n<polygon fill=\"none\" stroke=\"#444443\" stroke-width=\"0\" points=\"830,-144.5 701,-144.5 701,-84.5 830,-84.5 830,-144.5\" />\n<svg height=\"52px\" version=\"1.1\" viewBox=\"0 0 161.754375 69.564468\" width=\"121px\" preserveAspectRatio=\"xMinYMin meet\" x=\"705.5\" y=\"-140.5\">\n <metadata>\n  <rdf:RDF>\n   <ns2:Work>\n    <dc:type rdf:resource=\"http://purl.org/dc/dcmitype/StillImage\" />\n    <dc:date>2022-06-06T19:38:45.905298</dc:date>\n    <dc:format>image/svg+xml</dc:format>\n    <dc:creator>\n     <ns2:Agent>\n      <dc:title>Matplotlib v3.4.3, https://matplotlib.org/</dc:title>\n     </ns2:Agent>\n    </dc:creator>\n   </ns2:Work>\n  </rdf:RDF>\n </metadata>\n <defs>\n  <style type=\"text/css\">*{stroke-linecap:butt;stroke-linejoin:round;}</style>\n </defs>\n <g id=\"figure_1\">\n  <g id=\"patch_1\">\n   <path d=\"M 0 69.564468  L 161.754375 69.564468  L 161.754375 -0  L 0 -0  z \" style=\"fill:none;\" />\n  </g>\n  <g id=\"axes_1\">\n   <g id=\"patch_2\">\n    <path d=\"M 59.452187 43.994093  L 101.302188 43.994093  L 101.302188 0.506093  L 59.452187 0.506093  z \" style=\"fill:#ffffff;\" />\n   </g>\n   <g id=\"PathCollection_1\">\n    <defs>\n     <path d=\"M 0 1.118034  C 0.296506 1.118034 0.580908 1.000231 0.790569 0.790569  C 1.000231 0.580908 1.118034 0.296506 1.118034 0  C 1.118034 -0.296506 1.000231 -0.580908 0.790569 -0.790569  C 0.580908 -1.000231 0.296506 -1.118034 0 -1.118034  C -0.296506 -1.118034 -0.580908 -1.000231 -0.790569 -0.790569  C -1.000231 -0.580908 -1.118034 -0.296506 -1.118034 0  C -1.118034 0.296506 -1.000231 0.580908 -0.790569 0.790569  C -0.580908 1.000231 -0.296506 1.118034 0 1.118034  z \" id=\"m6e87624803\" style=\"stroke:#4575b4;stroke-opacity:0.7;stroke-width:0.3;\" />\n    </defs>\n    <g clip-path=\"url(#p3384871e82)\">\n     <use style=\"fill:#4575b4;fill-opacity:0.7;stroke:#4575b4;stroke-opacity:0.7;stroke-width:0.3;\" x=\"78.128753\" xlink:href=\"#m6e87624803\" y=\"3.039375\" />\n     <use style=\"fill:#4575b4;fill-opacity:0.7;stroke:#4575b4;stroke-opacity:0.7;stroke-width:0.3;\" x=\"76.989042\" xlink:href=\"#m6e87624803\" y=\"3.039375\" />\n     <use style=\"fill:#4575b4;fill-opacity:0.7;stroke:#4575b4;stroke-opacity:0.7;stroke-width:0.3;\" x=\"79.361214\" xlink:href=\"#m6e87624803\" y=\"3.039375\" />\n     <use style=\"fill:#4575b4;fill-opacity:0.7;stroke:#4575b4;stroke-opacity:0.7;stroke-width:0.3;\" x=\"82.239666\" xlink:href=\"#m6e87624803\" y=\"3.039375\" />\n     <use style=\"fill:#4575b4;fill-opacity:0.7;stroke:#4575b4;stroke-opacity:0.7;stroke-width:0.3;\" x=\"76.979739\" xlink:href=\"#m6e87624803\" y=\"3.039375\" />\n     <use style=\"fill:#4575b4;fill-opacity:0.7;stroke:#4575b4;stroke-opacity:0.7;stroke-width:0.3;\" x=\"84.920375\" xlink:href=\"#m6e87624803\" y=\"3.039375\" />\n     <use style=\"fill:#4575b4;fill-opacity:0.7;stroke:#4575b4;stroke-opacity:0.7;stroke-width:0.3;\" x=\"83.177028\" xlink:href=\"#m6e87624803\" y=\"3.039375\" />\n     <use style=\"fill:#4575b4;fill-opacity:0.7;stroke:#4575b4;stroke-opacity:0.7;stroke-width:0.3;\" x=\"83.434337\" xlink:href=\"#m6e87624803\" y=\"3.039375\" />\n     <use style=\"fill:#4575b4;fill-opacity:0.7;stroke:#4575b4;stroke-opacity:0.7;stroke-width:0.3;\" x=\"81.994167\" xlink:href=\"#m6e87624803\" y=\"3.039375\" />\n     <use style=\"fill:#4575b4;fill-opacity:0.7;stroke:#4575b4;stroke-opacity:0.7;stroke-width:0.3;\" x=\"78.659257\" xlink:href=\"#m6e87624803\" y=\"3.039375\" />\n     <use style=\"fill:#4575b4;fill-opacity:0.7;stroke:#4575b4;stroke-opacity:0.7;stroke-width:0.3;\" x=\"82.07238\" xlink:href=\"#m6e87624803\" y=\"3.039375\" />\n     <use style=\"fill:#4575b4;fill-opacity:0.7;stroke:#4575b4;stroke-opacity:0.7;stroke-width:0.3;\" x=\"79.908123\" xlink:href=\"#m6e87624803\" y=\"3.039375\" />\n     <use style=\"fill:#4575b4;fill-opacity:0.7;stroke:#4575b4;stroke-opacity:0.7;stroke-width:0.3;\" x=\"80.215502\" xlink:href=\"#m6e87624803\" y=\"3.039375\" />\n     <use style=\"fill:#4575b4;fill-opacity:0.7;stroke:#4575b4;stroke-opacity:0.7;stroke-width:0.3;\" x=\"77.153249\" xlink:href=\"#m6e87624803\" y=\"3.039375\" />\n     <use style=\"fill:#4575b4;fill-opacity:0.7;stroke:#4575b4;stroke-opacity:0.7;stroke-width:0.3;\" x=\"77.105892\" xlink:href=\"#m6e87624803\" y=\"3.039375\" />\n     <use style=\"fill:#4575b4;fill-opacity:0.7;stroke:#4575b4;stroke-opacity:0.7;stroke-width:0.3;\" x=\"84.239508\" xlink:href=\"#m6e87624803\" y=\"3.039375\" />\n     <use style=\"fill:#4575b4;fill-opacity:0.7;stroke:#4575b4;stroke-opacity:0.7;stroke-width:0.3;\" x=\"84.776686\" xlink:href=\"#m6e87624803\" y=\"3.039375\" />\n     <use style=\"fill:#4575b4;fill-opacity:0.7;stroke:#4575b4;stroke-opacity:0.7;stroke-width:0.3;\" x=\"80.363699\" xlink:href=\"#m6e87624803\" y=\"3.039375\" />\n     <use style=\"fill:#4575b4;fill-opacity:0.7;stroke:#4575b4;stroke-opacity:0.7;stroke-width:0.3;\" x=\"81.285477\" xlink:href=\"#m6e87624803\" y=\"3.039375\" />\n     <use style=\"fill:#4575b4;fill-opacity:0.7;stroke:#4575b4;stroke-opacity:0.7;stroke-width:0.3;\" x=\"80.335362\" xlink:href=\"#m6e87624803\" y=\"3.039375\" />\n     <use style=\"fill:#4575b4;fill-opacity:0.7;stroke:#4575b4;stroke-opacity:0.7;stroke-width:0.3;\" x=\"80.666997\" xlink:href=\"#m6e87624803\" y=\"3.039375\" />\n     <use style=\"fill:#4575b4;fill-opacity:0.7;stroke:#4575b4;stroke-opacity:0.7;stroke-width:0.3;\" x=\"79.209541\" xlink:href=\"#m6e87624803\" y=\"3.039375\" />\n     <use style=\"fill:#4575b4;fill-opacity:0.7;stroke:#4575b4;stroke-opacity:0.7;stroke-width:0.3;\" x=\"79.960106\" xlink:href=\"#m6e87624803\" y=\"3.039375\" />\n     <use style=\"fill:#4575b4;fill-opacity:0.7;stroke:#4575b4;stroke-opacity:0.7;stroke-width:0.3;\" x=\"75.386013\" xlink:href=\"#m6e87624803\" y=\"3.039375\" />\n     <use style=\"fill:#4575b4;fill-opacity:0.7;stroke:#4575b4;stroke-opacity:0.7;stroke-width:0.3;\" x=\"79.144389\" xlink:href=\"#m6e87624803\" y=\"3.039375\" />\n     <use style=\"fill:#4575b4;fill-opacity:0.7;stroke:#4575b4;stroke-opacity:0.7;stroke-width:0.3;\" x=\"77.525017\" xlink:href=\"#m6e87624803\" y=\"3.039375\" />\n     <use style=\"fill:#4575b4;fill-opacity:0.7;stroke:#4575b4;stroke-opacity:0.7;stroke-width:0.3;\" x=\"82.758968\" xlink:href=\"#m6e87624803\" y=\"3.039375\" />\n     <use style=\"fill:#4575b4;fill-opacity:0.7;stroke:#4575b4;stroke-opacity:0.7;stroke-width:0.3;\" x=\"86.614333\" xlink:href=\"#m6e87624803\" y=\"3.039375\" />\n     <use style=\"fill:#4575b4;fill-opacity:0.7;stroke:#4575b4;stroke-opacity:0.7;stroke-width:0.3;\" x=\"82.411258\" xlink:href=\"#m6e87624803\" y=\"3.039375\" />\n     <use style=\"fill:#4575b4;fill-opacity:0.7;stroke:#4575b4;stroke-opacity:0.7;stroke-width:0.3;\" x=\"83.51688\" xlink:href=\"#m6e87624803\" y=\"3.039375\" />\n     <use style=\"fill:#4575b4;fill-opacity:0.7;stroke:#4575b4;stroke-opacity:0.7;stroke-width:0.3;\" x=\"78.619899\" xlink:href=\"#m6e87624803\" y=\"3.039375\" />\n     <use style=\"fill:#4575b4;fill-opacity:0.7;stroke:#4575b4;stroke-opacity:0.7;stroke-width:0.3;\" x=\"81.300312\" xlink:href=\"#m6e87624803\" y=\"3.039375\" />\n     <use style=\"fill:#4575b4;fill-opacity:0.7;stroke:#4575b4;stroke-opacity:0.7;stroke-width:0.3;\" x=\"76.611368\" xlink:href=\"#m6e87624803\" y=\"3.039375\" />\n     <use style=\"fill:#4575b4;fill-opacity:0.7;stroke:#4575b4;stroke-opacity:0.7;stroke-width:0.3;\" x=\"79.090314\" xlink:href=\"#m6e87624803\" y=\"3.039375\" />\n     <use style=\"fill:#4575b4;fill-opacity:0.7;stroke:#4575b4;stroke-opacity:0.7;stroke-width:0.3;\" x=\"83.182819\" xlink:href=\"#m6e87624803\" y=\"3.039375\" />\n     <use style=\"fill:#4575b4;fill-opacity:0.7;stroke:#4575b4;stroke-opacity:0.7;stroke-width:0.3;\" x=\"81.68365\" xlink:href=\"#m6e87624803\" y=\"3.039375\" />\n     <use style=\"fill:#4575b4;fill-opacity:0.7;stroke:#4575b4;stroke-opacity:0.7;stroke-width:0.3;\" x=\"80.246295\" xlink:href=\"#m6e87624803\" y=\"3.039375\" />\n     <use style=\"fill:#4575b4;fill-opacity:0.7;stroke:#4575b4;stroke-opacity:0.7;stroke-width:0.3;\" x=\"79.187197\" xlink:href=\"#m6e87624803\" y=\"3.039375\" />\n     <use style=\"fill:#4575b4;fill-opacity:0.7;stroke:#4575b4;stroke-opacity:0.7;stroke-width:0.3;\" x=\"79.489672\" xlink:href=\"#m6e87624803\" y=\"3.039375\" />\n     <use style=\"fill:#4575b4;fill-opacity:0.7;stroke:#4575b4;stroke-opacity:0.7;stroke-width:0.3;\" x=\"85.617171\" xlink:href=\"#m6e87624803\" y=\"3.039375\" />\n     <use style=\"fill:#4575b4;fill-opacity:0.7;stroke:#4575b4;stroke-opacity:0.7;stroke-width:0.3;\" x=\"83.360464\" xlink:href=\"#m6e87624803\" y=\"3.039375\" />\n     <use style=\"fill:#4575b4;fill-opacity:0.7;stroke:#4575b4;stroke-opacity:0.7;stroke-width:0.3;\" x=\"80.567297\" xlink:href=\"#m6e87624803\" y=\"3.039375\" />\n     <use style=\"fill:#4575b4;fill-opacity:0.7;stroke:#4575b4;stroke-opacity:0.7;stroke-width:0.3;\" x=\"81.040369\" xlink:href=\"#m6e87624803\" y=\"3.039375\" />\n     <use style=\"fill:#4575b4;fill-opacity:0.7;stroke:#4575b4;stroke-opacity:0.7;stroke-width:0.3;\" x=\"85.847667\" xlink:href=\"#m6e87624803\" y=\"3.039375\" />\n     <use style=\"fill:#4575b4;fill-opacity:0.7;stroke:#4575b4;stroke-opacity:0.7;stroke-width:0.3;\" x=\"80.327746\" xlink:href=\"#m6e87624803\" y=\"3.039375\" />\n     <use style=\"fill:#4575b4;fill-opacity:0.7;stroke:#4575b4;stroke-opacity:0.7;stroke-width:0.3;\" x=\"78.711806\" xlink:href=\"#m6e87624803\" y=\"3.039375\" />\n     <use style=\"fill:#4575b4;fill-opacity:0.7;stroke:#4575b4;stroke-opacity:0.7;stroke-width:0.3;\" x=\"74.359178\" xlink:href=\"#m6e87624803\" y=\"3.039375\" />\n     <use style=\"fill:#4575b4;fill-opacity:0.7;stroke:#4575b4;stroke-opacity:0.7;stroke-width:0.3;\" x=\"75.903266\" xlink:href=\"#m6e87624803\" y=\"3.039375\" />\n     <use style=\"fill:#4575b4;fill-opacity:0.7;stroke:#4575b4;stroke-opacity:0.7;stroke-width:0.3;\" x=\"76.577017\" xlink:href=\"#m6e87624803\" y=\"3.039375\" />\n     <use style=\"fill:#4575b4;fill-opacity:0.7;stroke:#4575b4;stroke-opacity:0.7;stroke-width:0.3;\" x=\"79.13737\" xlink:href=\"#m6e87624803\" y=\"3.039375\" />\n     <use style=\"fill:#4575b4;fill-opacity:0.7;stroke:#4575b4;stroke-opacity:0.7;stroke-width:0.3;\" x=\"83.736207\" xlink:href=\"#m6e87624803\" y=\"3.039375\" />\n     <use style=\"fill:#4575b4;fill-opacity:0.7;stroke:#4575b4;stroke-opacity:0.7;stroke-width:0.3;\" x=\"84.271427\" xlink:href=\"#m6e87624803\" y=\"3.039375\" />\n     <use style=\"fill:#4575b4;fill-opacity:0.7;stroke:#4575b4;stroke-opacity:0.7;stroke-width:0.3;\" x=\"86.332087\" xlink:href=\"#m6e87624803\" y=\"3.039375\" />\n     <use style=\"fill:#4575b4;fill-opacity:0.7;stroke:#4575b4;stroke-opacity:0.7;stroke-width:0.3;\" x=\"86.705552\" xlink:href=\"#m6e87624803\" y=\"3.039375\" />\n     <use style=\"fill:#4575b4;fill-opacity:0.7;stroke:#4575b4;stroke-opacity:0.7;stroke-width:0.3;\" x=\"82.324804\" xlink:href=\"#m6e87624803\" y=\"3.039375\" />\n     <use style=\"fill:#4575b4;fill-opacity:0.7;stroke:#4575b4;stroke-opacity:0.7;stroke-width:0.3;\" x=\"75.301065\" xlink:href=\"#m6e87624803\" y=\"3.039375\" />\n     <use style=\"fill:#4575b4;fill-opacity:0.7;stroke:#4575b4;stroke-opacity:0.7;stroke-width:0.3;\" x=\"82.1654\" xlink:href=\"#m6e87624803\" y=\"3.039375\" />\n     <use style=\"fill:#4575b4;fill-opacity:0.7;stroke:#4575b4;stroke-opacity:0.7;stroke-width:0.3;\" x=\"76.630693\" xlink:href=\"#m6e87624803\" y=\"3.039375\" />\n     <use style=\"fill:#4575b4;fill-opacity:0.7;stroke:#4575b4;stroke-opacity:0.7;stroke-width:0.3;\" x=\"83.822474\" xlink:href=\"#m6e87624803\" y=\"3.039375\" />\n     <use style=\"fill:#4575b4;fill-opacity:0.7;stroke:#4575b4;stroke-opacity:0.7;stroke-width:0.3;\" x=\"76.293127\" xlink:href=\"#m6e87624803\" y=\"3.039375\" />\n     <use style=\"fill:#4575b4;fill-opacity:0.7;stroke:#4575b4;stroke-opacity:0.7;stroke-width:0.3;\" x=\"83.567097\" xlink:href=\"#m6e87624803\" y=\"3.039375\" />\n     <use style=\"fill:#4575b4;fill-opacity:0.7;stroke:#4575b4;stroke-opacity:0.7;stroke-width:0.3;\" x=\"81.864866\" xlink:href=\"#m6e87624803\" y=\"3.039375\" />\n    </g>\n   </g>\n   <g id=\"matplotlib.axis_1\" />\n   <g id=\"matplotlib.axis_2\">\n    <g id=\"ytick_1\">\n     <g id=\"line2d_1\">\n      <defs>\n       <path d=\"M 0 0  L -3.5 0  \" id=\"m7e7e723917\" style=\"stroke:#444443;stroke-width:0.3;\" />\n      </defs>\n      <g>\n       <use style=\"fill:#444443;stroke:#444443;stroke-width:0.3;\" x=\"59.452187\" xlink:href=\"#m7e7e723917\" y=\"24.150055\" />\n      </g>\n     </g>\n     <g id=\"text_1\">\n      \n      <g style=\"fill:#444443;\" transform=\"translate(39.729687 27.18943)scale(0.08 -0.08)\">\n       <defs>\n        <path d=\"M 794 531  L 1825 531  L 1825 4091  L 703 3866  L 703 4441  L 1819 4666  L 2450 4666  L 2450 531  L 3481 531  L 3481 0  L 794 0  L 794 531  z \" id=\"DejaVuSans-31\" transform=\"scale(0.015625)\" />\n        <path d=\"M 684 794  L 1344 794  L 1344 0  L 684 0  L 684 794  z \" id=\"DejaVuSans-2e\" transform=\"scale(0.015625)\" />\n        <path d=\"M 691 4666  L 3169 4666  L 3169 4134  L 1269 4134  L 1269 2991  Q 1406 3038 1543 3061  Q 1681 3084 1819 3084  Q 2600 3084 3056 2656  Q 3513 2228 3513 1497  Q 3513 744 3044 326  Q 2575 -91 1722 -91  Q 1428 -91 1123 -41  Q 819 9 494 109  L 494 744  Q 775 591 1075 516  Q 1375 441 1709 441  Q 2250 441 2565 725  Q 2881 1009 2881 1497  Q 2881 1984 2565 2268  Q 2250 2553 1709 2553  Q 1456 2553 1204 2497  Q 953 2441 691 2322  L 691 4666  z \" id=\"DejaVuSans-35\" transform=\"scale(0.015625)\" />\n       </defs>\n       <use xlink:href=\"#DejaVuSans-31\" />\n       <use x=\"63.623047\" xlink:href=\"#DejaVuSans-2e\" />\n       <use x=\"95.410156\" xlink:href=\"#DejaVuSans-35\" />\n      </g>\n     </g>\n    </g>\n    <g id=\"ytick_2\">\n     <g id=\"line2d_2\">\n      <g>\n       <use style=\"fill:#444443;stroke:#444443;stroke-width:0.3;\" x=\"59.452187\" xlink:href=\"#m7e7e723917\" y=\"3.039375\" />\n      </g>\n     </g>\n     <g id=\"text_2\">\n      \n      <g style=\"fill:#444443;\" transform=\"translate(39.729687 6.07875)scale(0.08 -0.08)\">\n       <defs>\n        <path d=\"M 1228 531  L 3431 531  L 3431 0  L 469 0  L 469 531  Q 828 903 1448 1529  Q 2069 2156 2228 2338  Q 2531 2678 2651 2914  Q 2772 3150 2772 3378  Q 2772 3750 2511 3984  Q 2250 4219 1831 4219  Q 1534 4219 1204 4116  Q 875 4013 500 3803  L 500 4441  Q 881 4594 1212 4672  Q 1544 4750 1819 4750  Q 2544 4750 2975 4387  Q 3406 4025 3406 3419  Q 3406 3131 3298 2873  Q 3191 2616 2906 2266  Q 2828 2175 2409 1742  Q 1991 1309 1228 531  z \" id=\"DejaVuSans-32\" transform=\"scale(0.015625)\" />\n        <path d=\"M 2034 4250  Q 1547 4250 1301 3770  Q 1056 3291 1056 2328  Q 1056 1369 1301 889  Q 1547 409 2034 409  Q 2525 409 2770 889  Q 3016 1369 3016 2328  Q 3016 3291 2770 3770  Q 2525 4250 2034 4250  z M 2034 4750  Q 2819 4750 3233 4129  Q 3647 3509 3647 2328  Q 3647 1150 3233 529  Q 2819 -91 2034 -91  Q 1250 -91 836 529  Q 422 1150 422 2328  Q 422 3509 836 4129  Q 1250 4750 2034 4750  z \" id=\"DejaVuSans-30\" transform=\"scale(0.015625)\" />\n       </defs>\n       <use xlink:href=\"#DejaVuSans-32\" />\n       <use x=\"63.623047\" xlink:href=\"#DejaVuSans-2e\" />\n       <use x=\"95.410156\" xlink:href=\"#DejaVuSans-30\" />\n      </g>\n     </g>\n    </g>\n   </g>\n   <g id=\"line2d_3\">\n    <path clip-path=\"url(#p3384871e82)\" d=\"M 59.452187 3.039375  L 162.754375 3.039375  \" style=\"fill:none;stroke:#444443;stroke-dasharray:3.7,1.6;stroke-dashoffset:0;\" />\n   </g>\n   <g id=\"patch_3\">\n    <path d=\"M 59.452187 43.994093  L 59.452187 0.506093  \" style=\"fill:none;stroke:#000000;stroke-linecap:square;stroke-linejoin:miter;stroke-width:0.3;\" />\n   </g>\n   <g id=\"text_3\">\n    \n    <g style=\"fill:#444443;\" transform=\"translate(0 54.487218)scale(0.12 -0.12)\">\n     <defs>\n      <path d=\"M 309 2231  Q 309 3372 921 4017  Q 1534 4663 2503 4663  Q 3138 4663 3647 4359  Q 4156 4056 4423 3514  Q 4691 2972 4691 2284  Q 4691 1588 4409 1038  Q 4128 488 3612 205  Q 3097 -78 2500 -78  Q 1853 -78 1343 234  Q 834 547 571 1087  Q 309 1628 309 2231  z M 934 2222  Q 934 1394 1379 917  Q 1825 441 2497 441  Q 3181 441 3623 922  Q 4066 1403 4066 2288  Q 4066 2847 3877 3264  Q 3688 3681 3323 3911  Q 2959 4141 2506 4141  Q 1863 4141 1398 3698  Q 934 3256 934 2222  z \" id=\"ArialMT-4f\" transform=\"scale(0.015625)\" />\n      <path d=\"M 941 0  L 419 0  L 419 4581  L 981 4581  L 981 2947  Q 1338 3394 1891 3394  Q 2197 3394 2470 3270  Q 2744 3147 2920 2923  Q 3097 2700 3197 2384  Q 3297 2069 3297 1709  Q 3297 856 2875 390  Q 2453 -75 1863 -75  Q 1275 -75 941 416  L 941 0  z M 934 1684  Q 934 1088 1097 822  Q 1363 388 1816 388  Q 2184 388 2453 708  Q 2722 1028 2722 1663  Q 2722 2313 2464 2622  Q 2206 2931 1841 2931  Q 1472 2931 1203 2611  Q 934 2291 934 1684  z \" id=\"ArialMT-62\" transform=\"scale(0.015625)\" />\n      <path d=\"M 1650 503  L 1731 6  Q 1494 -44 1306 -44  Q 1000 -44 831 53  Q 663 150 594 308  Q 525 466 525 972  L 525 2881  L 113 2881  L 113 3319  L 525 3319  L 525 4141  L 1084 4478  L 1084 3319  L 1650 3319  L 1650 2881  L 1084 2881  L 1084 941  Q 1084 700 1114 631  Q 1144 563 1211 522  Q 1278 481 1403 481  Q 1497 481 1650 503  z \" id=\"ArialMT-74\" transform=\"scale(0.015625)\" />\n      <path d=\"M 2694 1069  L 3275 997  Q 3138 488 2766 206  Q 2394 -75 1816 -75  Q 1088 -75 661 373  Q 234 822 234 1631  Q 234 2469 665 2931  Q 1097 3394 1784 3394  Q 2450 3394 2872 2941  Q 3294 2488 3294 1666  Q 3294 1616 3291 1516  L 816 1516  Q 847 969 1125 678  Q 1403 388 1819 388  Q 2128 388 2347 550  Q 2566 713 2694 1069  z M 847 1978  L 2700 1978  Q 2663 2397 2488 2606  Q 2219 2931 1791 2931  Q 1403 2931 1139 2672  Q 875 2413 847 1978  z \" id=\"ArialMT-65\" transform=\"scale(0.015625)\" />\n      <path d=\"M 416 0  L 416 3319  L 922 3319  L 922 2816  Q 1116 3169 1280 3281  Q 1444 3394 1641 3394  Q 1925 3394 2219 3213  L 2025 2691  Q 1819 2813 1613 2813  Q 1428 2813 1281 2702  Q 1134 2591 1072 2394  Q 978 2094 978 1738  L 978 0  L 416 0  z \" id=\"ArialMT-72\" transform=\"scale(0.015625)\" />\n      <path id=\"ArialMT-20\" transform=\"scale(0.015625)\" />\n      <path d=\"M 3763 1606  L 4369 1453  Q 4178 706 3683 314  Q 3188 -78 2472 -78  Q 1731 -78 1267 223  Q 803 525 561 1097  Q 319 1669 319 2325  Q 319 3041 592 3573  Q 866 4106 1370 4382  Q 1875 4659 2481 4659  Q 3169 4659 3637 4309  Q 4106 3959 4291 3325  L 3694 3184  Q 3534 3684 3231 3912  Q 2928 4141 2469 4141  Q 1941 4141 1586 3887  Q 1231 3634 1087 3207  Q 944 2781 944 2328  Q 944 1744 1114 1308  Q 1284 872 1643 656  Q 2003 441 2422 441  Q 2931 441 3284 734  Q 3638 1028 3763 1606  z \" id=\"ArialMT-43\" transform=\"scale(0.015625)\" />\n      <path d=\"M 2588 409  Q 2275 144 1986 34  Q 1697 -75 1366 -75  Q 819 -75 525 192  Q 231 459 231 875  Q 231 1119 342 1320  Q 453 1522 633 1644  Q 813 1766 1038 1828  Q 1203 1872 1538 1913  Q 2219 1994 2541 2106  Q 2544 2222 2544 2253  Q 2544 2597 2384 2738  Q 2169 2928 1744 2928  Q 1347 2928 1158 2789  Q 969 2650 878 2297  L 328 2372  Q 403 2725 575 2942  Q 747 3159 1072 3276  Q 1397 3394 1825 3394  Q 2250 3394 2515 3294  Q 2781 3194 2906 3042  Q 3031 2891 3081 2659  Q 3109 2516 3109 2141  L 3109 1391  Q 3109 606 3145 398  Q 3181 191 3288 0  L 2700 0  Q 2613 175 2588 409  z M 2541 1666  Q 2234 1541 1622 1453  Q 1275 1403 1131 1340  Q 988 1278 909 1158  Q 831 1038 831 891  Q 831 666 1001 516  Q 1172 366 1500 366  Q 1825 366 2078 508  Q 2331 650 2450 897  Q 2541 1088 2541 1459  L 2541 1666  z M 1769 4263  L 1416 3731  L 772 3731  L 1447 4606  L 2047 4606  L 2750 3731  L 2113 3731  L 1769 4263  z \" id=\"ArialMT-e2\" transform=\"scale(0.015625)\" />\n      <path d=\"M 422 0  L 422 3319  L 928 3319  L 928 2847  Q 1294 3394 1984 3394  Q 2284 3394 2536 3286  Q 2788 3178 2913 3003  Q 3038 2828 3088 2588  Q 3119 2431 3119 2041  L 3119 0  L 2556 0  L 2556 2019  Q 2556 2363 2490 2533  Q 2425 2703 2258 2804  Q 2091 2906 1866 2906  Q 1506 2906 1245 2678  Q 984 2450 984 1813  L 984 0  L 422 0  z \" id=\"ArialMT-6e\" transform=\"scale(0.015625)\" />\n      <path d=\"M 2588 1216  L 3141 1144  Q 3050 572 2676 248  Q 2303 -75 1759 -75  Q 1078 -75 664 370  Q 250 816 250 1647  Q 250 2184 428 2587  Q 606 2991 970 3192  Q 1334 3394 1763 3394  Q 2303 3394 2647 3120  Q 2991 2847 3088 2344  L 2541 2259  Q 2463 2594 2264 2762  Q 2066 2931 1784 2931  Q 1359 2931 1093 2626  Q 828 2322 828 1663  Q 828 994 1084 691  Q 1341 388 1753 388  Q 2084 388 2306 591  Q 2528 794 2588 1216  z \" id=\"ArialMT-63\" transform=\"scale(0.015625)\" />\n      <path d=\"M 2575 0  L 2575 419  Q 2259 -75 1647 -75  Q 1250 -75 917 144  Q 584 363 401 755  Q 219 1147 219 1656  Q 219 2153 384 2558  Q 550 2963 881 3178  Q 1213 3394 1622 3394  Q 1922 3394 2156 3267  Q 2391 3141 2538 2938  L 2538 4581  L 3097 4581  L 3097 0  L 2575 0  z M 797 1656  Q 797 1019 1065 703  Q 1334 388 1700 388  Q 2069 388 2326 689  Q 2584 991 2584 1609  Q 2584 2291 2321 2609  Q 2059 2928 1675 2928  Q 1300 2928 1048 2622  Q 797 2316 797 1656  z \" id=\"ArialMT-64\" transform=\"scale(0.015625)\" />\n      <path d=\"M 422 -1272  L 422 3319  L 934 3319  L 934 2888  Q 1116 3141 1344 3267  Q 1572 3394 1897 3394  Q 2322 3394 2647 3175  Q 2972 2956 3137 2557  Q 3303 2159 3303 1684  Q 3303 1175 3120 767  Q 2938 359 2589 142  Q 2241 -75 1856 -75  Q 1575 -75 1351 44  Q 1128 163 984 344  L 984 -1272  L 422 -1272  z M 931 1641  Q 931 1000 1190 694  Q 1450 388 1819 388  Q 2194 388 2461 705  Q 2728 1022 2728 1688  Q 2728 2322 2467 2637  Q 2206 2953 1844 2953  Q 1484 2953 1207 2617  Q 931 2281 931 1641  z \" id=\"ArialMT-70\" transform=\"scale(0.015625)\" />\n      <path d=\"M 2597 0  L 2597 488  Q 2209 -75 1544 -75  Q 1250 -75 995 37  Q 741 150 617 320  Q 494 491 444 738  Q 409 903 409 1263  L 409 3319  L 972 3319  L 972 1478  Q 972 1038 1006 884  Q 1059 663 1231 536  Q 1403 409 1656 409  Q 1909 409 2131 539  Q 2353 669 2445 892  Q 2538 1116 2538 1541  L 2538 3319  L 3100 3319  L 3100 0  L 2597 0  z \" id=\"ArialMT-75\" transform=\"scale(0.015625)\" />\n      <path d=\"M 409 0  L 409 4581  L 972 4581  L 972 0  L 409 0  z \" id=\"ArialMT-6c\" transform=\"scale(0.015625)\" />\n      <path d=\"M 422 0  L 422 3319  L 925 3319  L 925 2853  Q 1081 3097 1340 3245  Q 1600 3394 1931 3394  Q 2300 3394 2536 3241  Q 2772 3088 2869 2813  Q 3263 3394 3894 3394  Q 4388 3394 4653 3120  Q 4919 2847 4919 2278  L 4919 0  L 4359 0  L 4359 2091  Q 4359 2428 4304 2576  Q 4250 2725 4106 2815  Q 3963 2906 3769 2906  Q 3419 2906 3187 2673  Q 2956 2441 2956 1928  L 2956 0  L 2394 0  L 2394 2156  Q 2394 2531 2256 2718  Q 2119 2906 1806 2906  Q 1569 2906 1367 2781  Q 1166 2656 1075 2415  Q 984 2175 984 1722  L 984 0  L 422 0  z \" id=\"ArialMT-6d\" transform=\"scale(0.015625)\" />\n      <path d=\"M 2588 409  Q 2275 144 1986 34  Q 1697 -75 1366 -75  Q 819 -75 525 192  Q 231 459 231 875  Q 231 1119 342 1320  Q 453 1522 633 1644  Q 813 1766 1038 1828  Q 1203 1872 1538 1913  Q 2219 1994 2541 2106  Q 2544 2222 2544 2253  Q 2544 2597 2384 2738  Q 2169 2928 1744 2928  Q 1347 2928 1158 2789  Q 969 2650 878 2297  L 328 2372  Q 403 2725 575 2942  Q 747 3159 1072 3276  Q 1397 3394 1825 3394  Q 2250 3394 2515 3294  Q 2781 3194 2906 3042  Q 3031 2891 3081 2659  Q 3109 2516 3109 2141  L 3109 1391  Q 3109 606 3145 398  Q 3181 191 3288 0  L 2700 0  Q 2613 175 2588 409  z M 2541 1666  Q 2234 1541 1622 1453  Q 1275 1403 1131 1340  Q 988 1278 909 1158  Q 831 1038 831 891  Q 831 666 1001 516  Q 1172 366 1500 366  Q 1825 366 2078 508  Q 2331 650 2450 897  Q 2541 1088 2541 1459  L 2541 1666  z M 716 3809  Q 713 4134 894 4328  Q 1072 4522 1350 4522  Q 1544 4522 1878 4353  Q 2063 4259 2172 4259  Q 2272 4259 2325 4314  Q 2378 4369 2400 4531  L 2806 4531  Q 2797 4175 2626 3997  Q 2456 3819 2194 3819  Q 1997 3819 1675 3994  Q 1466 4106 1369 4106  Q 1263 4106 1197 4031  Q 1128 3956 1131 3809  L 716 3809  z \" id=\"ArialMT-e3\" transform=\"scale(0.015625)\" />\n      <path d=\"M 213 1659  Q 213 2581 725 3025  Q 1153 3394 1769 3394  Q 2453 3394 2887 2945  Q 3322 2497 3322 1706  Q 3322 1066 3130 698  Q 2938 331 2570 128  Q 2203 -75 1769 -75  Q 1072 -75 642 372  Q 213 819 213 1659  z M 791 1659  Q 791 1022 1069 705  Q 1347 388 1769 388  Q 2188 388 2466 706  Q 2744 1025 2744 1678  Q 2744 2294 2464 2611  Q 2184 2928 1769 2928  Q 1347 2928 1069 2612  Q 791 2297 791 1659  z \" id=\"ArialMT-6f\" transform=\"scale(0.015625)\" />\n      <path d=\"M 3381 2694  L 356 2694  L 356 3219  L 3381 3219  L 3381 2694  z M 3381 1303  L 356 1303  L 356 1828  L 3381 1828  L 3381 1303  z \" id=\"ArialMT-3d\" transform=\"scale(0.015625)\" />\n      <path d=\"M 3222 541  L 3222 0  L 194 0  Q 188 203 259 391  Q 375 700 629 1000  Q 884 1300 1366 1694  Q 2113 2306 2375 2664  Q 2638 3022 2638 3341  Q 2638 3675 2398 3904  Q 2159 4134 1775 4134  Q 1369 4134 1125 3890  Q 881 3647 878 3216  L 300 3275  Q 359 3922 746 4261  Q 1134 4600 1788 4600  Q 2447 4600 2831 4234  Q 3216 3869 3216 3328  Q 3216 3053 3103 2787  Q 2991 2522 2730 2228  Q 2469 1934 1863 1422  Q 1356 997 1212 845  Q 1069 694 975 541  L 3222 541  z \" id=\"ArialMT-32\" transform=\"scale(0.015625)\" />\n      <path d=\"M 581 0  L 581 641  L 1222 641  L 1222 0  L 581 0  z \" id=\"ArialMT-2e\" transform=\"scale(0.015625)\" />\n      <path d=\"M 266 2259  Q 266 3072 433 3567  Q 600 4063 929 4331  Q 1259 4600 1759 4600  Q 2128 4600 2406 4451  Q 2684 4303 2865 4023  Q 3047 3744 3150 3342  Q 3253 2941 3253 2259  Q 3253 1453 3087 958  Q 2922 463 2592 192  Q 2263 -78 1759 -78  Q 1097 -78 719 397  Q 266 969 266 2259  z M 844 2259  Q 844 1131 1108 757  Q 1372 384 1759 384  Q 2147 384 2411 759  Q 2675 1134 2675 2259  Q 2675 3391 2411 3762  Q 2147 4134 1753 4134  Q 1366 4134 1134 3806  Q 844 3388 844 2259  z \" id=\"ArialMT-30\" transform=\"scale(0.015625)\" />\n     </defs>\n     <use xlink:href=\"#ArialMT-4f\" />\n     <use x=\"77.783203\" xlink:href=\"#ArialMT-62\" />\n     <use x=\"133.398438\" xlink:href=\"#ArialMT-74\" />\n     <use x=\"161.181641\" xlink:href=\"#ArialMT-65\" />\n     <use x=\"216.796875\" xlink:href=\"#ArialMT-72\" />\n     <use x=\"250.097656\" xlink:href=\"#ArialMT-20\" />\n     <use x=\"277.880859\" xlink:href=\"#ArialMT-43\" />\n     <use x=\"350.097656\" xlink:href=\"#ArialMT-e2\" />\n     <use x=\"405.712891\" xlink:href=\"#ArialMT-6e\" />\n     <use x=\"461.328125\" xlink:href=\"#ArialMT-63\" />\n     <use x=\"511.328125\" xlink:href=\"#ArialMT-65\" />\n     <use x=\"566.943359\" xlink:href=\"#ArialMT-72\" />\n     <use x=\"600.244141\" xlink:href=\"#ArialMT-20\" />\n     <use x=\"628.027344\" xlink:href=\"#ArialMT-64\" />\n     <use x=\"683.642578\" xlink:href=\"#ArialMT-65\" />\n     <use x=\"739.257812\" xlink:href=\"#ArialMT-20\" />\n     <use x=\"767.041016\" xlink:href=\"#ArialMT-70\" />\n     <use x=\"822.65625\" xlink:href=\"#ArialMT-75\" />\n     <use x=\"878.271484\" xlink:href=\"#ArialMT-6c\" />\n     <use x=\"900.488281\" xlink:href=\"#ArialMT-6d\" />\n     <use x=\"983.789062\" xlink:href=\"#ArialMT-e3\" />\n     <use x=\"1039.404297\" xlink:href=\"#ArialMT-6f\" />\n     <use x=\"1095.019531\" xlink:href=\"#ArialMT-3d\" />\n     <use x=\"1153.417969\" xlink:href=\"#ArialMT-32\" />\n     <use x=\"1209.033203\" xlink:href=\"#ArialMT-2e\" />\n     <use x=\"1236.816406\" xlink:href=\"#ArialMT-30\" />\n     <use x=\"1292.431641\" xlink:href=\"#ArialMT-30\" />\n    </g>\n    \n    <g style=\"fill:#444443;\" transform=\"translate(67.363125 67.179468)scale(0.12 -0.12)\">\n     <defs>\n      <path d=\"M 3184 3459  L 2625 3416  Q 2550 3747 2413 3897  Q 2184 4138 1850 4138  Q 1581 4138 1378 3988  Q 1113 3794 959 3422  Q 806 3050 800 2363  Q 1003 2672 1297 2822  Q 1591 2972 1913 2972  Q 2475 2972 2870 2558  Q 3266 2144 3266 1488  Q 3266 1056 3080 686  Q 2894 316 2569 119  Q 2244 -78 1831 -78  Q 1128 -78 684 439  Q 241 956 241 2144  Q 241 3472 731 4075  Q 1159 4600 1884 4600  Q 2425 4600 2770 4297  Q 3116 3994 3184 3459  z M 888 1484  Q 888 1194 1011 928  Q 1134 663 1356 523  Q 1578 384 1822 384  Q 2178 384 2434 671  Q 2691 959 2691 1453  Q 2691 1928 2437 2201  Q 2184 2475 1800 2475  Q 1419 2475 1153 2201  Q 888 1928 888 1484  z \" id=\"ArialMT-36\" transform=\"scale(0.015625)\" />\n     </defs>\n     <use xlink:href=\"#ArialMT-6e\" />\n     <use x=\"55.615234\" xlink:href=\"#ArialMT-3d\" />\n     <use x=\"114.013672\" xlink:href=\"#ArialMT-36\" />\n     <use x=\"169.628906\" xlink:href=\"#ArialMT-32\" />\n    </g>\n   </g>\n  </g>\n </g>\n <defs>\n  <clipPath id=\"p3384871e82\">\n   <rect height=\"43.488\" width=\"41.85\" x=\"59.452187\" y=\"0.506093\" />\n  </clipPath>\n </defs>\n</svg></g>\n\n\n<g id=\"edge13\" class=\"edge\">\n<title>node8-&gt;node9</title>\n<path fill=\"none\" stroke=\"#444443\" stroke-width=\"0.3\" d=\"M620.91,-168.89C620.95,-164.73 621,-160.47 621.05,-156.26\" />\n<polygon fill=\"#444443\" stroke=\"#444443\" stroke-width=\"0.3\" points=\"622.45,-156.09 621.09,-152.07 619.65,-156.06 622.45,-156.09\" />\n</g>\n\n<g id=\"edge14\" class=\"edge\">\n<title>node8-&gt;leaf12</title>\n<path fill=\"none\" stroke=\"#444443\" stroke-width=\"0.3\" d=\"M679.48,-168.89C691.27,-161.57 703.56,-153.94 715.04,-146.82\" />\n<polygon fill=\"#444443\" stroke=\"#444443\" stroke-width=\"0.3\" points=\"715.91,-147.93 718.57,-144.63 714.44,-145.55 715.91,-147.93\" />\n</g>\n\n<g id=\"node6\" class=\"node\">\n<title>node0</title>\n<svg height=\"99px\" version=\"1.1\" viewBox=\"0 0 180.711875 131.3925\" width=\"135px\" preserveAspectRatio=\"xMinYMin meet\" x=\"472.5\" y=\"-377.5\">\n <metadata>\n  <rdf:RDF>\n   <ns2:Work>\n    <dc:type rdf:resource=\"http://purl.org/dc/dcmitype/StillImage\" />\n    <dc:date>2022-06-06T19:38:44.900496</dc:date>\n    <dc:format>image/svg+xml</dc:format>\n    <dc:creator>\n     <ns2:Agent>\n      <dc:title>Matplotlib v3.4.3, https://matplotlib.org/</dc:title>\n     </ns2:Agent>\n    </dc:creator>\n   </ns2:Work>\n  </rdf:RDF>\n </metadata>\n <defs>\n  <style type=\"text/css\">*{stroke-linecap:butt;stroke-linejoin:round;}</style>\n </defs>\n <g id=\"figure_1\">\n  <g id=\"patch_1\">\n   <path d=\"M -0 131.3925  L 180.711875 131.3925  L 180.711875 0  L -0 0  z \" style=\"fill:none;\" />\n  </g>\n  <g id=\"axes_1\">\n   <g id=\"patch_2\">\n    <path d=\"M 34.850625 95.59425  L 174.350625 95.59425  L 174.350625 35.79825  L 34.850625 35.79825  z \" style=\"fill:#ffffff;\" />\n   </g>\n   <g id=\"PathCollection_1\">\n    <defs>\n     <path d=\"M 0 1.118034  C 0.296506 1.118034 0.580908 1.000231 0.790569 0.790569  C 1.000231 0.580908 1.118034 0.296506 1.118034 0  C 1.118034 -0.296506 1.000231 -0.580908 0.790569 -0.790569  C 0.580908 -1.000231 0.296506 -1.118034 0 -1.118034  C -0.296506 -1.118034 -0.580908 -1.000231 -0.790569 -0.790569  C -1.000231 -0.580908 -1.118034 -0.296506 -1.118034 0  C -1.118034 0.296506 -1.000231 0.580908 -0.790569 0.790569  C -0.580908 1.000231 -0.296506 1.118034 0 1.118034  z \" id=\"m08d8571bd2\" style=\"stroke:#4575b4;stroke-opacity:0.7;stroke-width:0.3;\" />\n    </defs>\n    <g clip-path=\"url(#p3ea007996a)\">\n     <use style=\"fill:#4575b4;fill-opacity:0.7;stroke:#4575b4;stroke-opacity:0.7;stroke-width:0.3;\" x=\"34.850625\" xlink:href=\"#m08d8571bd2\" y=\"39.281512\" />\n     <use style=\"fill:#4575b4;fill-opacity:0.7;stroke:#4575b4;stroke-opacity:0.7;stroke-width:0.3;\" x=\"34.850625\" xlink:href=\"#m08d8571bd2\" y=\"97.335881\" />\n     <use style=\"fill:#4575b4;fill-opacity:0.7;stroke:#4575b4;stroke-opacity:0.7;stroke-width:0.3;\" x=\"34.850625\" xlink:href=\"#m08d8571bd2\" y=\"97.335881\" />\n     <use style=\"fill:#4575b4;fill-opacity:0.7;stroke:#4575b4;stroke-opacity:0.7;stroke-width:0.3;\" x=\"34.850625\" xlink:href=\"#m08d8571bd2\" y=\"39.281512\" />\n     <use style=\"fill:#4575b4;fill-opacity:0.7;stroke:#4575b4;stroke-opacity:0.7;stroke-width:0.3;\" x=\"174.350625\" xlink:href=\"#m08d8571bd2\" y=\"39.281512\" />\n     <use style=\"fill:#4575b4;fill-opacity:0.7;stroke:#4575b4;stroke-opacity:0.7;stroke-width:0.3;\" x=\"34.850625\" xlink:href=\"#m08d8571bd2\" y=\"97.335881\" />\n     <use style=\"fill:#4575b4;fill-opacity:0.7;stroke:#4575b4;stroke-opacity:0.7;stroke-width:0.3;\" x=\"174.350625\" xlink:href=\"#m08d8571bd2\" y=\"39.281512\" />\n     <use style=\"fill:#4575b4;fill-opacity:0.7;stroke:#4575b4;stroke-opacity:0.7;stroke-width:0.3;\" x=\"34.850625\" xlink:href=\"#m08d8571bd2\" y=\"39.281512\" />\n     <use style=\"fill:#4575b4;fill-opacity:0.7;stroke:#4575b4;stroke-opacity:0.7;stroke-width:0.3;\" x=\"174.350625\" xlink:href=\"#m08d8571bd2\" y=\"39.281512\" />\n     <use style=\"fill:#4575b4;fill-opacity:0.7;stroke:#4575b4;stroke-opacity:0.7;stroke-width:0.3;\" x=\"34.850625\" xlink:href=\"#m08d8571bd2\" y=\"97.335881\" />\n     <use style=\"fill:#4575b4;fill-opacity:0.7;stroke:#4575b4;stroke-opacity:0.7;stroke-width:0.3;\" x=\"174.350625\" xlink:href=\"#m08d8571bd2\" y=\"39.281512\" />\n     <use style=\"fill:#4575b4;fill-opacity:0.7;stroke:#4575b4;stroke-opacity:0.7;stroke-width:0.3;\" x=\"174.350625\" xlink:href=\"#m08d8571bd2\" y=\"39.281512\" />\n     <use style=\"fill:#4575b4;fill-opacity:0.7;stroke:#4575b4;stroke-opacity:0.7;stroke-width:0.3;\" x=\"34.850625\" xlink:href=\"#m08d8571bd2\" y=\"97.335881\" />\n     <use style=\"fill:#4575b4;fill-opacity:0.7;stroke:#4575b4;stroke-opacity:0.7;stroke-width:0.3;\" x=\"174.350625\" xlink:href=\"#m08d8571bd2\" y=\"39.281512\" />\n     <use style=\"fill:#4575b4;fill-opacity:0.7;stroke:#4575b4;stroke-opacity:0.7;stroke-width:0.3;\" x=\"174.350625\" xlink:href=\"#m08d8571bd2\" y=\"39.281512\" />\n     <use style=\"fill:#4575b4;fill-opacity:0.7;stroke:#4575b4;stroke-opacity:0.7;stroke-width:0.3;\" x=\"34.850625\" xlink:href=\"#m08d8571bd2\" y=\"97.335881\" />\n     <use style=\"fill:#4575b4;fill-opacity:0.7;stroke:#4575b4;stroke-opacity:0.7;stroke-width:0.3;\" x=\"174.350625\" xlink:href=\"#m08d8571bd2\" y=\"39.281512\" />\n     <use style=\"fill:#4575b4;fill-opacity:0.7;stroke:#4575b4;stroke-opacity:0.7;stroke-width:0.3;\" x=\"34.850625\" xlink:href=\"#m08d8571bd2\" y=\"39.281512\" />\n     <use style=\"fill:#4575b4;fill-opacity:0.7;stroke:#4575b4;stroke-opacity:0.7;stroke-width:0.3;\" x=\"174.350625\" xlink:href=\"#m08d8571bd2\" y=\"39.281512\" />\n     <use style=\"fill:#4575b4;fill-opacity:0.7;stroke:#4575b4;stroke-opacity:0.7;stroke-width:0.3;\" x=\"34.850625\" xlink:href=\"#m08d8571bd2\" y=\"39.281512\" />\n     <use style=\"fill:#4575b4;fill-opacity:0.7;stroke:#4575b4;stroke-opacity:0.7;stroke-width:0.3;\" x=\"174.350625\" xlink:href=\"#m08d8571bd2\" y=\"39.281512\" />\n     <use style=\"fill:#4575b4;fill-opacity:0.7;stroke:#4575b4;stroke-opacity:0.7;stroke-width:0.3;\" x=\"174.350625\" xlink:href=\"#m08d8571bd2\" y=\"39.281512\" />\n     <use style=\"fill:#4575b4;fill-opacity:0.7;stroke:#4575b4;stroke-opacity:0.7;stroke-width:0.3;\" x=\"174.350625\" xlink:href=\"#m08d8571bd2\" y=\"39.281512\" />\n     <use style=\"fill:#4575b4;fill-opacity:0.7;stroke:#4575b4;stroke-opacity:0.7;stroke-width:0.3;\" x=\"34.850625\" xlink:href=\"#m08d8571bd2\" y=\"39.281512\" />\n     <use style=\"fill:#4575b4;fill-opacity:0.7;stroke:#4575b4;stroke-opacity:0.7;stroke-width:0.3;\" x=\"174.350625\" xlink:href=\"#m08d8571bd2\" y=\"39.281512\" />\n     <use style=\"fill:#4575b4;fill-opacity:0.7;stroke:#4575b4;stroke-opacity:0.7;stroke-width:0.3;\" x=\"174.350625\" xlink:href=\"#m08d8571bd2\" y=\"39.281512\" />\n     <use style=\"fill:#4575b4;fill-opacity:0.7;stroke:#4575b4;stroke-opacity:0.7;stroke-width:0.3;\" x=\"34.850625\" xlink:href=\"#m08d8571bd2\" y=\"97.335881\" />\n     <use style=\"fill:#4575b4;fill-opacity:0.7;stroke:#4575b4;stroke-opacity:0.7;stroke-width:0.3;\" x=\"34.850625\" xlink:href=\"#m08d8571bd2\" y=\"39.281512\" />\n     <use style=\"fill:#4575b4;fill-opacity:0.7;stroke:#4575b4;stroke-opacity:0.7;stroke-width:0.3;\" x=\"34.850625\" xlink:href=\"#m08d8571bd2\" y=\"39.281512\" />\n     <use style=\"fill:#4575b4;fill-opacity:0.7;stroke:#4575b4;stroke-opacity:0.7;stroke-width:0.3;\" x=\"34.850625\" xlink:href=\"#m08d8571bd2\" y=\"39.281512\" />\n     <use style=\"fill:#4575b4;fill-opacity:0.7;stroke:#4575b4;stroke-opacity:0.7;stroke-width:0.3;\" x=\"174.350625\" xlink:href=\"#m08d8571bd2\" y=\"39.281512\" />\n     <use style=\"fill:#4575b4;fill-opacity:0.7;stroke:#4575b4;stroke-opacity:0.7;stroke-width:0.3;\" x=\"34.850625\" xlink:href=\"#m08d8571bd2\" y=\"39.281512\" />\n     <use style=\"fill:#4575b4;fill-opacity:0.7;stroke:#4575b4;stroke-opacity:0.7;stroke-width:0.3;\" x=\"174.350625\" xlink:href=\"#m08d8571bd2\" y=\"97.335881\" />\n     <use style=\"fill:#4575b4;fill-opacity:0.7;stroke:#4575b4;stroke-opacity:0.7;stroke-width:0.3;\" x=\"174.350625\" xlink:href=\"#m08d8571bd2\" y=\"39.281512\" />\n     <use style=\"fill:#4575b4;fill-opacity:0.7;stroke:#4575b4;stroke-opacity:0.7;stroke-width:0.3;\" x=\"174.350625\" xlink:href=\"#m08d8571bd2\" y=\"39.281512\" />\n     <use style=\"fill:#4575b4;fill-opacity:0.7;stroke:#4575b4;stroke-opacity:0.7;stroke-width:0.3;\" x=\"174.350625\" xlink:href=\"#m08d8571bd2\" y=\"39.281512\" />\n     <use style=\"fill:#4575b4;fill-opacity:0.7;stroke:#4575b4;stroke-opacity:0.7;stroke-width:0.3;\" x=\"34.850625\" xlink:href=\"#m08d8571bd2\" y=\"39.281512\" />\n     <use style=\"fill:#4575b4;fill-opacity:0.7;stroke:#4575b4;stroke-opacity:0.7;stroke-width:0.3;\" x=\"174.350625\" xlink:href=\"#m08d8571bd2\" y=\"39.281512\" />\n     <use style=\"fill:#4575b4;fill-opacity:0.7;stroke:#4575b4;stroke-opacity:0.7;stroke-width:0.3;\" x=\"34.850625\" xlink:href=\"#m08d8571bd2\" y=\"97.335881\" />\n     <use style=\"fill:#4575b4;fill-opacity:0.7;stroke:#4575b4;stroke-opacity:0.7;stroke-width:0.3;\" x=\"174.350625\" xlink:href=\"#m08d8571bd2\" y=\"39.281512\" />\n     <use style=\"fill:#4575b4;fill-opacity:0.7;stroke:#4575b4;stroke-opacity:0.7;stroke-width:0.3;\" x=\"34.850625\" xlink:href=\"#m08d8571bd2\" y=\"39.281512\" />\n     <use style=\"fill:#4575b4;fill-opacity:0.7;stroke:#4575b4;stroke-opacity:0.7;stroke-width:0.3;\" x=\"34.850625\" xlink:href=\"#m08d8571bd2\" y=\"39.281512\" />\n     <use style=\"fill:#4575b4;fill-opacity:0.7;stroke:#4575b4;stroke-opacity:0.7;stroke-width:0.3;\" x=\"34.850625\" xlink:href=\"#m08d8571bd2\" y=\"39.281512\" />\n     <use style=\"fill:#4575b4;fill-opacity:0.7;stroke:#4575b4;stroke-opacity:0.7;stroke-width:0.3;\" x=\"34.850625\" xlink:href=\"#m08d8571bd2\" y=\"39.281512\" />\n     <use style=\"fill:#4575b4;fill-opacity:0.7;stroke:#4575b4;stroke-opacity:0.7;stroke-width:0.3;\" x=\"174.350625\" xlink:href=\"#m08d8571bd2\" y=\"39.281512\" />\n     <use style=\"fill:#4575b4;fill-opacity:0.7;stroke:#4575b4;stroke-opacity:0.7;stroke-width:0.3;\" x=\"34.850625\" xlink:href=\"#m08d8571bd2\" y=\"39.281512\" />\n     <use style=\"fill:#4575b4;fill-opacity:0.7;stroke:#4575b4;stroke-opacity:0.7;stroke-width:0.3;\" x=\"34.850625\" xlink:href=\"#m08d8571bd2\" y=\"39.281512\" />\n     <use style=\"fill:#4575b4;fill-opacity:0.7;stroke:#4575b4;stroke-opacity:0.7;stroke-width:0.3;\" x=\"34.850625\" xlink:href=\"#m08d8571bd2\" y=\"97.335881\" />\n     <use style=\"fill:#4575b4;fill-opacity:0.7;stroke:#4575b4;stroke-opacity:0.7;stroke-width:0.3;\" x=\"174.350625\" xlink:href=\"#m08d8571bd2\" y=\"39.281512\" />\n     <use style=\"fill:#4575b4;fill-opacity:0.7;stroke:#4575b4;stroke-opacity:0.7;stroke-width:0.3;\" x=\"174.350625\" xlink:href=\"#m08d8571bd2\" y=\"39.281512\" />\n     <use style=\"fill:#4575b4;fill-opacity:0.7;stroke:#4575b4;stroke-opacity:0.7;stroke-width:0.3;\" x=\"34.850625\" xlink:href=\"#m08d8571bd2\" y=\"39.281512\" />\n     <use style=\"fill:#4575b4;fill-opacity:0.7;stroke:#4575b4;stroke-opacity:0.7;stroke-width:0.3;\" x=\"174.350625\" xlink:href=\"#m08d8571bd2\" y=\"39.281512\" />\n     <use style=\"fill:#4575b4;fill-opacity:0.7;stroke:#4575b4;stroke-opacity:0.7;stroke-width:0.3;\" x=\"174.350625\" xlink:href=\"#m08d8571bd2\" y=\"39.281512\" />\n     <use style=\"fill:#4575b4;fill-opacity:0.7;stroke:#4575b4;stroke-opacity:0.7;stroke-width:0.3;\" x=\"174.350625\" xlink:href=\"#m08d8571bd2\" y=\"39.281512\" />\n     <use style=\"fill:#4575b4;fill-opacity:0.7;stroke:#4575b4;stroke-opacity:0.7;stroke-width:0.3;\" x=\"174.350625\" xlink:href=\"#m08d8571bd2\" y=\"39.281512\" />\n     <use style=\"fill:#4575b4;fill-opacity:0.7;stroke:#4575b4;stroke-opacity:0.7;stroke-width:0.3;\" x=\"34.850625\" xlink:href=\"#m08d8571bd2\" y=\"39.281512\" />\n     <use style=\"fill:#4575b4;fill-opacity:0.7;stroke:#4575b4;stroke-opacity:0.7;stroke-width:0.3;\" x=\"34.850625\" xlink:href=\"#m08d8571bd2\" y=\"39.281512\" />\n     <use style=\"fill:#4575b4;fill-opacity:0.7;stroke:#4575b4;stroke-opacity:0.7;stroke-width:0.3;\" x=\"174.350625\" xlink:href=\"#m08d8571bd2\" y=\"39.281512\" />\n     <use style=\"fill:#4575b4;fill-opacity:0.7;stroke:#4575b4;stroke-opacity:0.7;stroke-width:0.3;\" x=\"34.850625\" xlink:href=\"#m08d8571bd2\" y=\"39.281512\" />\n     <use style=\"fill:#4575b4;fill-opacity:0.7;stroke:#4575b4;stroke-opacity:0.7;stroke-width:0.3;\" x=\"174.350625\" xlink:href=\"#m08d8571bd2\" y=\"39.281512\" />\n     <use style=\"fill:#4575b4;fill-opacity:0.7;stroke:#4575b4;stroke-opacity:0.7;stroke-width:0.3;\" x=\"174.350625\" xlink:href=\"#m08d8571bd2\" y=\"39.281512\" />\n     <use style=\"fill:#4575b4;fill-opacity:0.7;stroke:#4575b4;stroke-opacity:0.7;stroke-width:0.3;\" x=\"174.350625\" xlink:href=\"#m08d8571bd2\" y=\"39.281512\" />\n     <use style=\"fill:#4575b4;fill-opacity:0.7;stroke:#4575b4;stroke-opacity:0.7;stroke-width:0.3;\" x=\"34.850625\" xlink:href=\"#m08d8571bd2\" y=\"39.281512\" />\n     <use style=\"fill:#4575b4;fill-opacity:0.7;stroke:#4575b4;stroke-opacity:0.7;stroke-width:0.3;\" x=\"34.850625\" xlink:href=\"#m08d8571bd2\" y=\"39.281512\" />\n     <use style=\"fill:#4575b4;fill-opacity:0.7;stroke:#4575b4;stroke-opacity:0.7;stroke-width:0.3;\" x=\"34.850625\" xlink:href=\"#m08d8571bd2\" y=\"39.281512\" />\n     <use style=\"fill:#4575b4;fill-opacity:0.7;stroke:#4575b4;stroke-opacity:0.7;stroke-width:0.3;\" x=\"34.850625\" xlink:href=\"#m08d8571bd2\" y=\"97.335881\" />\n     <use style=\"fill:#4575b4;fill-opacity:0.7;stroke:#4575b4;stroke-opacity:0.7;stroke-width:0.3;\" x=\"174.350625\" xlink:href=\"#m08d8571bd2\" y=\"39.281512\" />\n     <use style=\"fill:#4575b4;fill-opacity:0.7;stroke:#4575b4;stroke-opacity:0.7;stroke-width:0.3;\" x=\"174.350625\" xlink:href=\"#m08d8571bd2\" y=\"39.281512\" />\n     <use style=\"fill:#4575b4;fill-opacity:0.7;stroke:#4575b4;stroke-opacity:0.7;stroke-width:0.3;\" x=\"34.850625\" xlink:href=\"#m08d8571bd2\" y=\"97.335881\" />\n     <use style=\"fill:#4575b4;fill-opacity:0.7;stroke:#4575b4;stroke-opacity:0.7;stroke-width:0.3;\" x=\"34.850625\" xlink:href=\"#m08d8571bd2\" y=\"39.281512\" />\n     <use style=\"fill:#4575b4;fill-opacity:0.7;stroke:#4575b4;stroke-opacity:0.7;stroke-width:0.3;\" x=\"34.850625\" xlink:href=\"#m08d8571bd2\" y=\"97.335881\" />\n     <use style=\"fill:#4575b4;fill-opacity:0.7;stroke:#4575b4;stroke-opacity:0.7;stroke-width:0.3;\" x=\"34.850625\" xlink:href=\"#m08d8571bd2\" y=\"39.281512\" />\n     <use style=\"fill:#4575b4;fill-opacity:0.7;stroke:#4575b4;stroke-opacity:0.7;stroke-width:0.3;\" x=\"174.350625\" xlink:href=\"#m08d8571bd2\" y=\"39.281512\" />\n     <use style=\"fill:#4575b4;fill-opacity:0.7;stroke:#4575b4;stroke-opacity:0.7;stroke-width:0.3;\" x=\"34.850625\" xlink:href=\"#m08d8571bd2\" y=\"39.281512\" />\n     <use style=\"fill:#4575b4;fill-opacity:0.7;stroke:#4575b4;stroke-opacity:0.7;stroke-width:0.3;\" x=\"174.350625\" xlink:href=\"#m08d8571bd2\" y=\"39.281512\" />\n     <use style=\"fill:#4575b4;fill-opacity:0.7;stroke:#4575b4;stroke-opacity:0.7;stroke-width:0.3;\" x=\"174.350625\" xlink:href=\"#m08d8571bd2\" y=\"97.335881\" />\n     <use style=\"fill:#4575b4;fill-opacity:0.7;stroke:#4575b4;stroke-opacity:0.7;stroke-width:0.3;\" x=\"174.350625\" xlink:href=\"#m08d8571bd2\" y=\"39.281512\" />\n     <use style=\"fill:#4575b4;fill-opacity:0.7;stroke:#4575b4;stroke-opacity:0.7;stroke-width:0.3;\" x=\"174.350625\" xlink:href=\"#m08d8571bd2\" y=\"39.281512\" />\n     <use style=\"fill:#4575b4;fill-opacity:0.7;stroke:#4575b4;stroke-opacity:0.7;stroke-width:0.3;\" x=\"34.850625\" xlink:href=\"#m08d8571bd2\" y=\"39.281512\" />\n     <use style=\"fill:#4575b4;fill-opacity:0.7;stroke:#4575b4;stroke-opacity:0.7;stroke-width:0.3;\" x=\"34.850625\" xlink:href=\"#m08d8571bd2\" y=\"97.335881\" />\n     <use style=\"fill:#4575b4;fill-opacity:0.7;stroke:#4575b4;stroke-opacity:0.7;stroke-width:0.3;\" x=\"34.850625\" xlink:href=\"#m08d8571bd2\" y=\"97.335881\" />\n     <use style=\"fill:#4575b4;fill-opacity:0.7;stroke:#4575b4;stroke-opacity:0.7;stroke-width:0.3;\" x=\"174.350625\" xlink:href=\"#m08d8571bd2\" y=\"39.281512\" />\n     <use style=\"fill:#4575b4;fill-opacity:0.7;stroke:#4575b4;stroke-opacity:0.7;stroke-width:0.3;\" x=\"174.350625\" xlink:href=\"#m08d8571bd2\" y=\"39.281512\" />\n     <use style=\"fill:#4575b4;fill-opacity:0.7;stroke:#4575b4;stroke-opacity:0.7;stroke-width:0.3;\" x=\"34.850625\" xlink:href=\"#m08d8571bd2\" y=\"97.335881\" />\n     <use style=\"fill:#4575b4;fill-opacity:0.7;stroke:#4575b4;stroke-opacity:0.7;stroke-width:0.3;\" x=\"174.350625\" xlink:href=\"#m08d8571bd2\" y=\"39.281512\" />\n     <use style=\"fill:#4575b4;fill-opacity:0.7;stroke:#4575b4;stroke-opacity:0.7;stroke-width:0.3;\" x=\"34.850625\" xlink:href=\"#m08d8571bd2\" y=\"39.281512\" />\n     <use style=\"fill:#4575b4;fill-opacity:0.7;stroke:#4575b4;stroke-opacity:0.7;stroke-width:0.3;\" x=\"174.350625\" xlink:href=\"#m08d8571bd2\" y=\"39.281512\" />\n     <use style=\"fill:#4575b4;fill-opacity:0.7;stroke:#4575b4;stroke-opacity:0.7;stroke-width:0.3;\" x=\"34.850625\" xlink:href=\"#m08d8571bd2\" y=\"97.335881\" />\n     <use style=\"fill:#4575b4;fill-opacity:0.7;stroke:#4575b4;stroke-opacity:0.7;stroke-width:0.3;\" x=\"174.350625\" xlink:href=\"#m08d8571bd2\" y=\"39.281512\" />\n     <use style=\"fill:#4575b4;fill-opacity:0.7;stroke:#4575b4;stroke-opacity:0.7;stroke-width:0.3;\" x=\"34.850625\" xlink:href=\"#m08d8571bd2\" y=\"39.281512\" />\n     <use style=\"fill:#4575b4;fill-opacity:0.7;stroke:#4575b4;stroke-opacity:0.7;stroke-width:0.3;\" x=\"174.350625\" xlink:href=\"#m08d8571bd2\" y=\"39.281512\" />\n     <use style=\"fill:#4575b4;fill-opacity:0.7;stroke:#4575b4;stroke-opacity:0.7;stroke-width:0.3;\" x=\"34.850625\" xlink:href=\"#m08d8571bd2\" y=\"97.335881\" />\n     <use style=\"fill:#4575b4;fill-opacity:0.7;stroke:#4575b4;stroke-opacity:0.7;stroke-width:0.3;\" x=\"174.350625\" xlink:href=\"#m08d8571bd2\" y=\"39.281512\" />\n     <use style=\"fill:#4575b4;fill-opacity:0.7;stroke:#4575b4;stroke-opacity:0.7;stroke-width:0.3;\" x=\"34.850625\" xlink:href=\"#m08d8571bd2\" y=\"97.335881\" />\n     <use style=\"fill:#4575b4;fill-opacity:0.7;stroke:#4575b4;stroke-opacity:0.7;stroke-width:0.3;\" x=\"34.850625\" xlink:href=\"#m08d8571bd2\" y=\"39.281512\" />\n     <use style=\"fill:#4575b4;fill-opacity:0.7;stroke:#4575b4;stroke-opacity:0.7;stroke-width:0.3;\" x=\"34.850625\" xlink:href=\"#m08d8571bd2\" y=\"39.281512\" />\n     <use style=\"fill:#4575b4;fill-opacity:0.7;stroke:#4575b4;stroke-opacity:0.7;stroke-width:0.3;\" x=\"174.350625\" xlink:href=\"#m08d8571bd2\" y=\"39.281512\" />\n     <use style=\"fill:#4575b4;fill-opacity:0.7;stroke:#4575b4;stroke-opacity:0.7;stroke-width:0.3;\" x=\"174.350625\" xlink:href=\"#m08d8571bd2\" y=\"39.281512\" />\n     <use style=\"fill:#4575b4;fill-opacity:0.7;stroke:#4575b4;stroke-opacity:0.7;stroke-width:0.3;\" x=\"34.850625\" xlink:href=\"#m08d8571bd2\" y=\"39.281512\" />\n     <use style=\"fill:#4575b4;fill-opacity:0.7;stroke:#4575b4;stroke-opacity:0.7;stroke-width:0.3;\" x=\"174.350625\" xlink:href=\"#m08d8571bd2\" y=\"39.281512\" />\n     <use style=\"fill:#4575b4;fill-opacity:0.7;stroke:#4575b4;stroke-opacity:0.7;stroke-width:0.3;\" x=\"34.850625\" xlink:href=\"#m08d8571bd2\" y=\"39.281512\" />\n     <use style=\"fill:#4575b4;fill-opacity:0.7;stroke:#4575b4;stroke-opacity:0.7;stroke-width:0.3;\" x=\"174.350625\" xlink:href=\"#m08d8571bd2\" y=\"39.281512\" />\n     <use style=\"fill:#4575b4;fill-opacity:0.7;stroke:#4575b4;stroke-opacity:0.7;stroke-width:0.3;\" x=\"174.350625\" xlink:href=\"#m08d8571bd2\" y=\"97.335881\" />\n     <use style=\"fill:#4575b4;fill-opacity:0.7;stroke:#4575b4;stroke-opacity:0.7;stroke-width:0.3;\" x=\"34.850625\" xlink:href=\"#m08d8571bd2\" y=\"39.281512\" />\n     <use style=\"fill:#4575b4;fill-opacity:0.7;stroke:#4575b4;stroke-opacity:0.7;stroke-width:0.3;\" x=\"174.350625\" xlink:href=\"#m08d8571bd2\" y=\"39.281512\" />\n     <use style=\"fill:#4575b4;fill-opacity:0.7;stroke:#4575b4;stroke-opacity:0.7;stroke-width:0.3;\" x=\"34.850625\" xlink:href=\"#m08d8571bd2\" y=\"39.281512\" />\n     <use style=\"fill:#4575b4;fill-opacity:0.7;stroke:#4575b4;stroke-opacity:0.7;stroke-width:0.3;\" x=\"174.350625\" xlink:href=\"#m08d8571bd2\" y=\"39.281512\" />\n     <use style=\"fill:#4575b4;fill-opacity:0.7;stroke:#4575b4;stroke-opacity:0.7;stroke-width:0.3;\" x=\"34.850625\" xlink:href=\"#m08d8571bd2\" y=\"39.281512\" />\n     <use style=\"fill:#4575b4;fill-opacity:0.7;stroke:#4575b4;stroke-opacity:0.7;stroke-width:0.3;\" x=\"174.350625\" xlink:href=\"#m08d8571bd2\" y=\"39.281512\" />\n     <use style=\"fill:#4575b4;fill-opacity:0.7;stroke:#4575b4;stroke-opacity:0.7;stroke-width:0.3;\" x=\"174.350625\" xlink:href=\"#m08d8571bd2\" y=\"39.281512\" />\n     <use style=\"fill:#4575b4;fill-opacity:0.7;stroke:#4575b4;stroke-opacity:0.7;stroke-width:0.3;\" x=\"174.350625\" xlink:href=\"#m08d8571bd2\" y=\"39.281512\" />\n     <use style=\"fill:#4575b4;fill-opacity:0.7;stroke:#4575b4;stroke-opacity:0.7;stroke-width:0.3;\" x=\"34.850625\" xlink:href=\"#m08d8571bd2\" y=\"39.281512\" />\n     <use style=\"fill:#4575b4;fill-opacity:0.7;stroke:#4575b4;stroke-opacity:0.7;stroke-width:0.3;\" x=\"34.850625\" xlink:href=\"#m08d8571bd2\" y=\"39.281512\" />\n     <use style=\"fill:#4575b4;fill-opacity:0.7;stroke:#4575b4;stroke-opacity:0.7;stroke-width:0.3;\" x=\"34.850625\" xlink:href=\"#m08d8571bd2\" y=\"39.281512\" />\n     <use style=\"fill:#4575b4;fill-opacity:0.7;stroke:#4575b4;stroke-opacity:0.7;stroke-width:0.3;\" x=\"34.850625\" xlink:href=\"#m08d8571bd2\" y=\"39.281512\" />\n     <use style=\"fill:#4575b4;fill-opacity:0.7;stroke:#4575b4;stroke-opacity:0.7;stroke-width:0.3;\" x=\"174.350625\" xlink:href=\"#m08d8571bd2\" y=\"39.281512\" />\n     <use style=\"fill:#4575b4;fill-opacity:0.7;stroke:#4575b4;stroke-opacity:0.7;stroke-width:0.3;\" x=\"34.850625\" xlink:href=\"#m08d8571bd2\" y=\"39.281512\" />\n     <use style=\"fill:#4575b4;fill-opacity:0.7;stroke:#4575b4;stroke-opacity:0.7;stroke-width:0.3;\" x=\"34.850625\" xlink:href=\"#m08d8571bd2\" y=\"39.281512\" />\n     <use style=\"fill:#4575b4;fill-opacity:0.7;stroke:#4575b4;stroke-opacity:0.7;stroke-width:0.3;\" x=\"174.350625\" xlink:href=\"#m08d8571bd2\" y=\"39.281512\" />\n     <use style=\"fill:#4575b4;fill-opacity:0.7;stroke:#4575b4;stroke-opacity:0.7;stroke-width:0.3;\" x=\"34.850625\" xlink:href=\"#m08d8571bd2\" y=\"39.281512\" />\n     <use style=\"fill:#4575b4;fill-opacity:0.7;stroke:#4575b4;stroke-opacity:0.7;stroke-width:0.3;\" x=\"34.850625\" xlink:href=\"#m08d8571bd2\" y=\"39.281512\" />\n     <use style=\"fill:#4575b4;fill-opacity:0.7;stroke:#4575b4;stroke-opacity:0.7;stroke-width:0.3;\" x=\"34.850625\" xlink:href=\"#m08d8571bd2\" y=\"39.281512\" />\n     <use style=\"fill:#4575b4;fill-opacity:0.7;stroke:#4575b4;stroke-opacity:0.7;stroke-width:0.3;\" x=\"174.350625\" xlink:href=\"#m08d8571bd2\" y=\"39.281512\" />\n     <use style=\"fill:#4575b4;fill-opacity:0.7;stroke:#4575b4;stroke-opacity:0.7;stroke-width:0.3;\" x=\"174.350625\" xlink:href=\"#m08d8571bd2\" y=\"39.281512\" />\n     <use style=\"fill:#4575b4;fill-opacity:0.7;stroke:#4575b4;stroke-opacity:0.7;stroke-width:0.3;\" x=\"174.350625\" xlink:href=\"#m08d8571bd2\" y=\"39.281512\" />\n     <use style=\"fill:#4575b4;fill-opacity:0.7;stroke:#4575b4;stroke-opacity:0.7;stroke-width:0.3;\" x=\"34.850625\" xlink:href=\"#m08d8571bd2\" y=\"39.281512\" />\n     <use style=\"fill:#4575b4;fill-opacity:0.7;stroke:#4575b4;stroke-opacity:0.7;stroke-width:0.3;\" x=\"34.850625\" xlink:href=\"#m08d8571bd2\" y=\"39.281512\" />\n     <use style=\"fill:#4575b4;fill-opacity:0.7;stroke:#4575b4;stroke-opacity:0.7;stroke-width:0.3;\" x=\"174.350625\" xlink:href=\"#m08d8571bd2\" y=\"39.281512\" />\n     <use style=\"fill:#4575b4;fill-opacity:0.7;stroke:#4575b4;stroke-opacity:0.7;stroke-width:0.3;\" x=\"34.850625\" xlink:href=\"#m08d8571bd2\" y=\"39.281512\" />\n     <use style=\"fill:#4575b4;fill-opacity:0.7;stroke:#4575b4;stroke-opacity:0.7;stroke-width:0.3;\" x=\"174.350625\" xlink:href=\"#m08d8571bd2\" y=\"39.281512\" />\n     <use style=\"fill:#4575b4;fill-opacity:0.7;stroke:#4575b4;stroke-opacity:0.7;stroke-width:0.3;\" x=\"174.350625\" xlink:href=\"#m08d8571bd2\" y=\"39.281512\" />\n     <use style=\"fill:#4575b4;fill-opacity:0.7;stroke:#4575b4;stroke-opacity:0.7;stroke-width:0.3;\" x=\"174.350625\" xlink:href=\"#m08d8571bd2\" y=\"39.281512\" />\n     <use style=\"fill:#4575b4;fill-opacity:0.7;stroke:#4575b4;stroke-opacity:0.7;stroke-width:0.3;\" x=\"34.850625\" xlink:href=\"#m08d8571bd2\" y=\"39.281512\" />\n     <use style=\"fill:#4575b4;fill-opacity:0.7;stroke:#4575b4;stroke-opacity:0.7;stroke-width:0.3;\" x=\"174.350625\" xlink:href=\"#m08d8571bd2\" y=\"39.281512\" />\n     <use style=\"fill:#4575b4;fill-opacity:0.7;stroke:#4575b4;stroke-opacity:0.7;stroke-width:0.3;\" x=\"34.850625\" xlink:href=\"#m08d8571bd2\" y=\"39.281512\" />\n     <use style=\"fill:#4575b4;fill-opacity:0.7;stroke:#4575b4;stroke-opacity:0.7;stroke-width:0.3;\" x=\"34.850625\" xlink:href=\"#m08d8571bd2\" y=\"39.281512\" />\n     <use style=\"fill:#4575b4;fill-opacity:0.7;stroke:#4575b4;stroke-opacity:0.7;stroke-width:0.3;\" x=\"174.350625\" xlink:href=\"#m08d8571bd2\" y=\"39.281512\" />\n     <use style=\"fill:#4575b4;fill-opacity:0.7;stroke:#4575b4;stroke-opacity:0.7;stroke-width:0.3;\" x=\"34.850625\" xlink:href=\"#m08d8571bd2\" y=\"39.281512\" />\n     <use style=\"fill:#4575b4;fill-opacity:0.7;stroke:#4575b4;stroke-opacity:0.7;stroke-width:0.3;\" x=\"34.850625\" xlink:href=\"#m08d8571bd2\" y=\"39.281512\" />\n     <use style=\"fill:#4575b4;fill-opacity:0.7;stroke:#4575b4;stroke-opacity:0.7;stroke-width:0.3;\" x=\"174.350625\" xlink:href=\"#m08d8571bd2\" y=\"39.281512\" />\n     <use style=\"fill:#4575b4;fill-opacity:0.7;stroke:#4575b4;stroke-opacity:0.7;stroke-width:0.3;\" x=\"174.350625\" xlink:href=\"#m08d8571bd2\" y=\"39.281512\" />\n     <use style=\"fill:#4575b4;fill-opacity:0.7;stroke:#4575b4;stroke-opacity:0.7;stroke-width:0.3;\" x=\"174.350625\" xlink:href=\"#m08d8571bd2\" y=\"39.281512\" />\n     <use style=\"fill:#4575b4;fill-opacity:0.7;stroke:#4575b4;stroke-opacity:0.7;stroke-width:0.3;\" x=\"34.850625\" xlink:href=\"#m08d8571bd2\" y=\"39.281512\" />\n     <use style=\"fill:#4575b4;fill-opacity:0.7;stroke:#4575b4;stroke-opacity:0.7;stroke-width:0.3;\" x=\"34.850625\" xlink:href=\"#m08d8571bd2\" y=\"97.335881\" />\n     <use style=\"fill:#4575b4;fill-opacity:0.7;stroke:#4575b4;stroke-opacity:0.7;stroke-width:0.3;\" x=\"174.350625\" xlink:href=\"#m08d8571bd2\" y=\"39.281512\" />\n     <use style=\"fill:#4575b4;fill-opacity:0.7;stroke:#4575b4;stroke-opacity:0.7;stroke-width:0.3;\" x=\"34.850625\" xlink:href=\"#m08d8571bd2\" y=\"39.281512\" />\n     <use style=\"fill:#4575b4;fill-opacity:0.7;stroke:#4575b4;stroke-opacity:0.7;stroke-width:0.3;\" x=\"174.350625\" xlink:href=\"#m08d8571bd2\" y=\"39.281512\" />\n     <use style=\"fill:#4575b4;fill-opacity:0.7;stroke:#4575b4;stroke-opacity:0.7;stroke-width:0.3;\" x=\"34.850625\" xlink:href=\"#m08d8571bd2\" y=\"39.281512\" />\n     <use style=\"fill:#4575b4;fill-opacity:0.7;stroke:#4575b4;stroke-opacity:0.7;stroke-width:0.3;\" x=\"34.850625\" xlink:href=\"#m08d8571bd2\" y=\"97.335881\" />\n     <use style=\"fill:#4575b4;fill-opacity:0.7;stroke:#4575b4;stroke-opacity:0.7;stroke-width:0.3;\" x=\"174.350625\" xlink:href=\"#m08d8571bd2\" y=\"39.281512\" />\n     <use style=\"fill:#4575b4;fill-opacity:0.7;stroke:#4575b4;stroke-opacity:0.7;stroke-width:0.3;\" x=\"34.850625\" xlink:href=\"#m08d8571bd2\" y=\"39.281512\" />\n     <use style=\"fill:#4575b4;fill-opacity:0.7;stroke:#4575b4;stroke-opacity:0.7;stroke-width:0.3;\" x=\"174.350625\" xlink:href=\"#m08d8571bd2\" y=\"39.281512\" />\n     <use style=\"fill:#4575b4;fill-opacity:0.7;stroke:#4575b4;stroke-opacity:0.7;stroke-width:0.3;\" x=\"174.350625\" xlink:href=\"#m08d8571bd2\" y=\"39.281512\" />\n     <use style=\"fill:#4575b4;fill-opacity:0.7;stroke:#4575b4;stroke-opacity:0.7;stroke-width:0.3;\" x=\"174.350625\" xlink:href=\"#m08d8571bd2\" y=\"39.281512\" />\n     <use style=\"fill:#4575b4;fill-opacity:0.7;stroke:#4575b4;stroke-opacity:0.7;stroke-width:0.3;\" x=\"34.850625\" xlink:href=\"#m08d8571bd2\" y=\"39.281512\" />\n     <use style=\"fill:#4575b4;fill-opacity:0.7;stroke:#4575b4;stroke-opacity:0.7;stroke-width:0.3;\" x=\"174.350625\" xlink:href=\"#m08d8571bd2\" y=\"39.281512\" />\n     <use style=\"fill:#4575b4;fill-opacity:0.7;stroke:#4575b4;stroke-opacity:0.7;stroke-width:0.3;\" x=\"174.350625\" xlink:href=\"#m08d8571bd2\" y=\"39.281512\" />\n     <use style=\"fill:#4575b4;fill-opacity:0.7;stroke:#4575b4;stroke-opacity:0.7;stroke-width:0.3;\" x=\"174.350625\" xlink:href=\"#m08d8571bd2\" y=\"39.281512\" />\n     <use style=\"fill:#4575b4;fill-opacity:0.7;stroke:#4575b4;stroke-opacity:0.7;stroke-width:0.3;\" x=\"174.350625\" xlink:href=\"#m08d8571bd2\" y=\"39.281512\" />\n     <use style=\"fill:#4575b4;fill-opacity:0.7;stroke:#4575b4;stroke-opacity:0.7;stroke-width:0.3;\" x=\"174.350625\" xlink:href=\"#m08d8571bd2\" y=\"39.281512\" />\n     <use style=\"fill:#4575b4;fill-opacity:0.7;stroke:#4575b4;stroke-opacity:0.7;stroke-width:0.3;\" x=\"34.850625\" xlink:href=\"#m08d8571bd2\" y=\"39.281512\" />\n     <use style=\"fill:#4575b4;fill-opacity:0.7;stroke:#4575b4;stroke-opacity:0.7;stroke-width:0.3;\" x=\"174.350625\" xlink:href=\"#m08d8571bd2\" y=\"39.281512\" />\n     <use style=\"fill:#4575b4;fill-opacity:0.7;stroke:#4575b4;stroke-opacity:0.7;stroke-width:0.3;\" x=\"174.350625\" xlink:href=\"#m08d8571bd2\" y=\"39.281512\" />\n     <use style=\"fill:#4575b4;fill-opacity:0.7;stroke:#4575b4;stroke-opacity:0.7;stroke-width:0.3;\" x=\"34.850625\" xlink:href=\"#m08d8571bd2\" y=\"39.281512\" />\n     <use style=\"fill:#4575b4;fill-opacity:0.7;stroke:#4575b4;stroke-opacity:0.7;stroke-width:0.3;\" x=\"174.350625\" xlink:href=\"#m08d8571bd2\" y=\"39.281512\" />\n     <use style=\"fill:#4575b4;fill-opacity:0.7;stroke:#4575b4;stroke-opacity:0.7;stroke-width:0.3;\" x=\"174.350625\" xlink:href=\"#m08d8571bd2\" y=\"39.281512\" />\n     <use style=\"fill:#4575b4;fill-opacity:0.7;stroke:#4575b4;stroke-opacity:0.7;stroke-width:0.3;\" x=\"174.350625\" xlink:href=\"#m08d8571bd2\" y=\"39.281512\" />\n     <use style=\"fill:#4575b4;fill-opacity:0.7;stroke:#4575b4;stroke-opacity:0.7;stroke-width:0.3;\" x=\"174.350625\" xlink:href=\"#m08d8571bd2\" y=\"39.281512\" />\n     <use style=\"fill:#4575b4;fill-opacity:0.7;stroke:#4575b4;stroke-opacity:0.7;stroke-width:0.3;\" x=\"174.350625\" xlink:href=\"#m08d8571bd2\" y=\"39.281512\" />\n     <use style=\"fill:#4575b4;fill-opacity:0.7;stroke:#4575b4;stroke-opacity:0.7;stroke-width:0.3;\" x=\"174.350625\" xlink:href=\"#m08d8571bd2\" y=\"39.281512\" />\n     <use style=\"fill:#4575b4;fill-opacity:0.7;stroke:#4575b4;stroke-opacity:0.7;stroke-width:0.3;\" x=\"34.850625\" xlink:href=\"#m08d8571bd2\" y=\"39.281512\" />\n     <use style=\"fill:#4575b4;fill-opacity:0.7;stroke:#4575b4;stroke-opacity:0.7;stroke-width:0.3;\" x=\"34.850625\" xlink:href=\"#m08d8571bd2\" y=\"97.335881\" />\n     <use style=\"fill:#4575b4;fill-opacity:0.7;stroke:#4575b4;stroke-opacity:0.7;stroke-width:0.3;\" x=\"174.350625\" xlink:href=\"#m08d8571bd2\" y=\"39.281512\" />\n     <use style=\"fill:#4575b4;fill-opacity:0.7;stroke:#4575b4;stroke-opacity:0.7;stroke-width:0.3;\" x=\"174.350625\" xlink:href=\"#m08d8571bd2\" y=\"39.281512\" />\n     <use style=\"fill:#4575b4;fill-opacity:0.7;stroke:#4575b4;stroke-opacity:0.7;stroke-width:0.3;\" x=\"174.350625\" xlink:href=\"#m08d8571bd2\" y=\"39.281512\" />\n     <use style=\"fill:#4575b4;fill-opacity:0.7;stroke:#4575b4;stroke-opacity:0.7;stroke-width:0.3;\" x=\"174.350625\" xlink:href=\"#m08d8571bd2\" y=\"39.281512\" />\n     <use style=\"fill:#4575b4;fill-opacity:0.7;stroke:#4575b4;stroke-opacity:0.7;stroke-width:0.3;\" x=\"174.350625\" xlink:href=\"#m08d8571bd2\" y=\"39.281512\" />\n     <use style=\"fill:#4575b4;fill-opacity:0.7;stroke:#4575b4;stroke-opacity:0.7;stroke-width:0.3;\" x=\"174.350625\" xlink:href=\"#m08d8571bd2\" y=\"39.281512\" />\n     <use style=\"fill:#4575b4;fill-opacity:0.7;stroke:#4575b4;stroke-opacity:0.7;stroke-width:0.3;\" x=\"174.350625\" xlink:href=\"#m08d8571bd2\" y=\"39.281512\" />\n     <use style=\"fill:#4575b4;fill-opacity:0.7;stroke:#4575b4;stroke-opacity:0.7;stroke-width:0.3;\" x=\"174.350625\" xlink:href=\"#m08d8571bd2\" y=\"39.281512\" />\n     <use style=\"fill:#4575b4;fill-opacity:0.7;stroke:#4575b4;stroke-opacity:0.7;stroke-width:0.3;\" x=\"174.350625\" xlink:href=\"#m08d8571bd2\" y=\"39.281512\" />\n     <use style=\"fill:#4575b4;fill-opacity:0.7;stroke:#4575b4;stroke-opacity:0.7;stroke-width:0.3;\" x=\"174.350625\" xlink:href=\"#m08d8571bd2\" y=\"39.281512\" />\n     <use style=\"fill:#4575b4;fill-opacity:0.7;stroke:#4575b4;stroke-opacity:0.7;stroke-width:0.3;\" x=\"34.850625\" xlink:href=\"#m08d8571bd2\" y=\"39.281512\" />\n     <use style=\"fill:#4575b4;fill-opacity:0.7;stroke:#4575b4;stroke-opacity:0.7;stroke-width:0.3;\" x=\"34.850625\" xlink:href=\"#m08d8571bd2\" y=\"39.281512\" />\n     <use style=\"fill:#4575b4;fill-opacity:0.7;stroke:#4575b4;stroke-opacity:0.7;stroke-width:0.3;\" x=\"174.350625\" xlink:href=\"#m08d8571bd2\" y=\"39.281512\" />\n     <use style=\"fill:#4575b4;fill-opacity:0.7;stroke:#4575b4;stroke-opacity:0.7;stroke-width:0.3;\" x=\"34.850625\" xlink:href=\"#m08d8571bd2\" y=\"39.281512\" />\n     <use style=\"fill:#4575b4;fill-opacity:0.7;stroke:#4575b4;stroke-opacity:0.7;stroke-width:0.3;\" x=\"174.350625\" xlink:href=\"#m08d8571bd2\" y=\"39.281512\" />\n     <use style=\"fill:#4575b4;fill-opacity:0.7;stroke:#4575b4;stroke-opacity:0.7;stroke-width:0.3;\" x=\"34.850625\" xlink:href=\"#m08d8571bd2\" y=\"97.335881\" />\n     <use style=\"fill:#4575b4;fill-opacity:0.7;stroke:#4575b4;stroke-opacity:0.7;stroke-width:0.3;\" x=\"34.850625\" xlink:href=\"#m08d8571bd2\" y=\"39.281512\" />\n     <use style=\"fill:#4575b4;fill-opacity:0.7;stroke:#4575b4;stroke-opacity:0.7;stroke-width:0.3;\" x=\"34.850625\" xlink:href=\"#m08d8571bd2\" y=\"39.281512\" />\n     <use style=\"fill:#4575b4;fill-opacity:0.7;stroke:#4575b4;stroke-opacity:0.7;stroke-width:0.3;\" x=\"34.850625\" xlink:href=\"#m08d8571bd2\" y=\"97.335881\" />\n     <use style=\"fill:#4575b4;fill-opacity:0.7;stroke:#4575b4;stroke-opacity:0.7;stroke-width:0.3;\" x=\"174.350625\" xlink:href=\"#m08d8571bd2\" y=\"39.281512\" />\n     <use style=\"fill:#4575b4;fill-opacity:0.7;stroke:#4575b4;stroke-opacity:0.7;stroke-width:0.3;\" x=\"174.350625\" xlink:href=\"#m08d8571bd2\" y=\"39.281512\" />\n     <use style=\"fill:#4575b4;fill-opacity:0.7;stroke:#4575b4;stroke-opacity:0.7;stroke-width:0.3;\" x=\"174.350625\" xlink:href=\"#m08d8571bd2\" y=\"39.281512\" />\n     <use style=\"fill:#4575b4;fill-opacity:0.7;stroke:#4575b4;stroke-opacity:0.7;stroke-width:0.3;\" x=\"174.350625\" xlink:href=\"#m08d8571bd2\" y=\"39.281512\" />\n     <use style=\"fill:#4575b4;fill-opacity:0.7;stroke:#4575b4;stroke-opacity:0.7;stroke-width:0.3;\" x=\"174.350625\" xlink:href=\"#m08d8571bd2\" y=\"39.281512\" />\n     <use style=\"fill:#4575b4;fill-opacity:0.7;stroke:#4575b4;stroke-opacity:0.7;stroke-width:0.3;\" x=\"34.850625\" xlink:href=\"#m08d8571bd2\" y=\"97.335881\" />\n     <use style=\"fill:#4575b4;fill-opacity:0.7;stroke:#4575b4;stroke-opacity:0.7;stroke-width:0.3;\" x=\"34.850625\" xlink:href=\"#m08d8571bd2\" y=\"39.281512\" />\n     <use style=\"fill:#4575b4;fill-opacity:0.7;stroke:#4575b4;stroke-opacity:0.7;stroke-width:0.3;\" x=\"174.350625\" xlink:href=\"#m08d8571bd2\" y=\"39.281512\" />\n     <use style=\"fill:#4575b4;fill-opacity:0.7;stroke:#4575b4;stroke-opacity:0.7;stroke-width:0.3;\" x=\"34.850625\" xlink:href=\"#m08d8571bd2\" y=\"97.335881\" />\n     <use style=\"fill:#4575b4;fill-opacity:0.7;stroke:#4575b4;stroke-opacity:0.7;stroke-width:0.3;\" x=\"174.350625\" xlink:href=\"#m08d8571bd2\" y=\"39.281512\" />\n     <use style=\"fill:#4575b4;fill-opacity:0.7;stroke:#4575b4;stroke-opacity:0.7;stroke-width:0.3;\" x=\"34.850625\" xlink:href=\"#m08d8571bd2\" y=\"39.281512\" />\n     <use style=\"fill:#4575b4;fill-opacity:0.7;stroke:#4575b4;stroke-opacity:0.7;stroke-width:0.3;\" x=\"34.850625\" xlink:href=\"#m08d8571bd2\" y=\"39.281512\" />\n     <use style=\"fill:#4575b4;fill-opacity:0.7;stroke:#4575b4;stroke-opacity:0.7;stroke-width:0.3;\" x=\"34.850625\" xlink:href=\"#m08d8571bd2\" y=\"39.281512\" />\n     <use style=\"fill:#4575b4;fill-opacity:0.7;stroke:#4575b4;stroke-opacity:0.7;stroke-width:0.3;\" x=\"174.350625\" xlink:href=\"#m08d8571bd2\" y=\"39.281512\" />\n     <use style=\"fill:#4575b4;fill-opacity:0.7;stroke:#4575b4;stroke-opacity:0.7;stroke-width:0.3;\" x=\"34.850625\" xlink:href=\"#m08d8571bd2\" y=\"39.281512\" />\n     <use style=\"fill:#4575b4;fill-opacity:0.7;stroke:#4575b4;stroke-opacity:0.7;stroke-width:0.3;\" x=\"34.850625\" xlink:href=\"#m08d8571bd2\" y=\"39.281512\" />\n     <use style=\"fill:#4575b4;fill-opacity:0.7;stroke:#4575b4;stroke-opacity:0.7;stroke-width:0.3;\" x=\"174.350625\" xlink:href=\"#m08d8571bd2\" y=\"39.281512\" />\n     <use style=\"fill:#4575b4;fill-opacity:0.7;stroke:#4575b4;stroke-opacity:0.7;stroke-width:0.3;\" x=\"174.350625\" xlink:href=\"#m08d8571bd2\" y=\"39.281512\" />\n     <use style=\"fill:#4575b4;fill-opacity:0.7;stroke:#4575b4;stroke-opacity:0.7;stroke-width:0.3;\" x=\"174.350625\" xlink:href=\"#m08d8571bd2\" y=\"39.281512\" />\n     <use style=\"fill:#4575b4;fill-opacity:0.7;stroke:#4575b4;stroke-opacity:0.7;stroke-width:0.3;\" x=\"34.850625\" xlink:href=\"#m08d8571bd2\" y=\"39.281512\" />\n     <use style=\"fill:#4575b4;fill-opacity:0.7;stroke:#4575b4;stroke-opacity:0.7;stroke-width:0.3;\" x=\"174.350625\" xlink:href=\"#m08d8571bd2\" y=\"39.281512\" />\n     <use style=\"fill:#4575b4;fill-opacity:0.7;stroke:#4575b4;stroke-opacity:0.7;stroke-width:0.3;\" x=\"34.850625\" xlink:href=\"#m08d8571bd2\" y=\"39.281512\" />\n     <use style=\"fill:#4575b4;fill-opacity:0.7;stroke:#4575b4;stroke-opacity:0.7;stroke-width:0.3;\" x=\"174.350625\" xlink:href=\"#m08d8571bd2\" y=\"39.281512\" />\n     <use style=\"fill:#4575b4;fill-opacity:0.7;stroke:#4575b4;stroke-opacity:0.7;stroke-width:0.3;\" x=\"174.350625\" xlink:href=\"#m08d8571bd2\" y=\"39.281512\" />\n     <use style=\"fill:#4575b4;fill-opacity:0.7;stroke:#4575b4;stroke-opacity:0.7;stroke-width:0.3;\" x=\"174.350625\" xlink:href=\"#m08d8571bd2\" y=\"39.281512\" />\n     <use style=\"fill:#4575b4;fill-opacity:0.7;stroke:#4575b4;stroke-opacity:0.7;stroke-width:0.3;\" x=\"34.850625\" xlink:href=\"#m08d8571bd2\" y=\"39.281512\" />\n     <use style=\"fill:#4575b4;fill-opacity:0.7;stroke:#4575b4;stroke-opacity:0.7;stroke-width:0.3;\" x=\"174.350625\" xlink:href=\"#m08d8571bd2\" y=\"39.281512\" />\n     <use style=\"fill:#4575b4;fill-opacity:0.7;stroke:#4575b4;stroke-opacity:0.7;stroke-width:0.3;\" x=\"174.350625\" xlink:href=\"#m08d8571bd2\" y=\"39.281512\" />\n     <use style=\"fill:#4575b4;fill-opacity:0.7;stroke:#4575b4;stroke-opacity:0.7;stroke-width:0.3;\" x=\"34.850625\" xlink:href=\"#m08d8571bd2\" y=\"39.281512\" />\n     <use style=\"fill:#4575b4;fill-opacity:0.7;stroke:#4575b4;stroke-opacity:0.7;stroke-width:0.3;\" x=\"34.850625\" xlink:href=\"#m08d8571bd2\" y=\"39.281512\" />\n     <use style=\"fill:#4575b4;fill-opacity:0.7;stroke:#4575b4;stroke-opacity:0.7;stroke-width:0.3;\" x=\"174.350625\" xlink:href=\"#m08d8571bd2\" y=\"39.281512\" />\n     <use style=\"fill:#4575b4;fill-opacity:0.7;stroke:#4575b4;stroke-opacity:0.7;stroke-width:0.3;\" x=\"34.850625\" xlink:href=\"#m08d8571bd2\" y=\"97.335881\" />\n     <use style=\"fill:#4575b4;fill-opacity:0.7;stroke:#4575b4;stroke-opacity:0.7;stroke-width:0.3;\" x=\"174.350625\" xlink:href=\"#m08d8571bd2\" y=\"39.281512\" />\n     <use style=\"fill:#4575b4;fill-opacity:0.7;stroke:#4575b4;stroke-opacity:0.7;stroke-width:0.3;\" x=\"174.350625\" xlink:href=\"#m08d8571bd2\" y=\"39.281512\" />\n     <use style=\"fill:#4575b4;fill-opacity:0.7;stroke:#4575b4;stroke-opacity:0.7;stroke-width:0.3;\" x=\"34.850625\" xlink:href=\"#m08d8571bd2\" y=\"39.281512\" />\n     <use style=\"fill:#4575b4;fill-opacity:0.7;stroke:#4575b4;stroke-opacity:0.7;stroke-width:0.3;\" x=\"174.350625\" xlink:href=\"#m08d8571bd2\" y=\"39.281512\" />\n     <use style=\"fill:#4575b4;fill-opacity:0.7;stroke:#4575b4;stroke-opacity:0.7;stroke-width:0.3;\" x=\"34.850625\" xlink:href=\"#m08d8571bd2\" y=\"39.281512\" />\n     <use style=\"fill:#4575b4;fill-opacity:0.7;stroke:#4575b4;stroke-opacity:0.7;stroke-width:0.3;\" x=\"174.350625\" xlink:href=\"#m08d8571bd2\" y=\"39.281512\" />\n     <use style=\"fill:#4575b4;fill-opacity:0.7;stroke:#4575b4;stroke-opacity:0.7;stroke-width:0.3;\" x=\"34.850625\" xlink:href=\"#m08d8571bd2\" y=\"39.281512\" />\n     <use style=\"fill:#4575b4;fill-opacity:0.7;stroke:#4575b4;stroke-opacity:0.7;stroke-width:0.3;\" x=\"174.350625\" xlink:href=\"#m08d8571bd2\" y=\"39.281512\" />\n    </g>\n   </g>\n   <g id=\"patch_3\">\n    <path d=\"M 104.600625 95.59425  L 102.089625 101.57385  L 107.111625 101.57385  z \" style=\"fill:#444443;\" />\n   </g>\n   <g id=\"matplotlib.axis_1\">\n    <g id=\"xtick_1\">\n     <g id=\"line2d_1\">\n      <defs>\n       <path d=\"M 0 0  L 0 3.5  \" id=\"m2145d9c5ee\" style=\"stroke:#444443;stroke-width:0.3;\" />\n      </defs>\n      <g>\n       <use style=\"fill:#444443;stroke:#444443;stroke-width:0.3;\" x=\"34.850625\" xlink:href=\"#m2145d9c5ee\" y=\"95.59425\" />\n      </g>\n     </g>\n     <g id=\"text_1\">\n      \n      <g style=\"fill:#444443;\" transform=\"translate(28.489375 108.673)scale(0.08 -0.08)\">\n       <defs>\n        <path d=\"M 794 531  L 1825 531  L 1825 4091  L 703 3866  L 703 4441  L 1819 4666  L 2450 4666  L 2450 531  L 3481 531  L 3481 0  L 794 0  L 794 531  z \" id=\"DejaVuSans-31\" transform=\"scale(0.015625)\" />\n        <path d=\"M 684 794  L 1344 794  L 1344 0  L 684 0  L 684 794  z \" id=\"DejaVuSans-2e\" transform=\"scale(0.015625)\" />\n        <path d=\"M 2034 4250  Q 1547 4250 1301 3770  Q 1056 3291 1056 2328  Q 1056 1369 1301 889  Q 1547 409 2034 409  Q 2525 409 2770 889  Q 3016 1369 3016 2328  Q 3016 3291 2770 3770  Q 2525 4250 2034 4250  z M 2034 4750  Q 2819 4750 3233 4129  Q 3647 3509 3647 2328  Q 3647 1150 3233 529  Q 2819 -91 2034 -91  Q 1250 -91 836 529  Q 422 1150 422 2328  Q 422 3509 836 4129  Q 1250 4750 2034 4750  z \" id=\"DejaVuSans-30\" transform=\"scale(0.015625)\" />\n       </defs>\n       <use xlink:href=\"#DejaVuSans-31\" />\n       <use x=\"63.623047\" xlink:href=\"#DejaVuSans-2e\" />\n       <use x=\"95.410156\" xlink:href=\"#DejaVuSans-30\" />\n      </g>\n     </g>\n    </g>\n    <g id=\"xtick_2\">\n     <g id=\"line2d_2\">\n      <g>\n       <use style=\"fill:#444443;stroke:#444443;stroke-width:0.3;\" x=\"174.350625\" xlink:href=\"#m2145d9c5ee\" y=\"95.59425\" />\n      </g>\n     </g>\n     <g id=\"text_2\">\n      \n      <g style=\"fill:#444443;\" transform=\"translate(167.989375 108.673)scale(0.08 -0.08)\">\n       <defs>\n        <path d=\"M 1228 531  L 3431 531  L 3431 0  L 469 0  L 469 531  Q 828 903 1448 1529  Q 2069 2156 2228 2338  Q 2531 2678 2651 2914  Q 2772 3150 2772 3378  Q 2772 3750 2511 3984  Q 2250 4219 1831 4219  Q 1534 4219 1204 4116  Q 875 4013 500 3803  L 500 4441  Q 881 4594 1212 4672  Q 1544 4750 1819 4750  Q 2544 4750 2975 4387  Q 3406 4025 3406 3419  Q 3406 3131 3298 2873  Q 3191 2616 2906 2266  Q 2828 2175 2409 1742  Q 1991 1309 1228 531  z \" id=\"DejaVuSans-32\" transform=\"scale(0.015625)\" />\n       </defs>\n       <use xlink:href=\"#DejaVuSans-32\" />\n       <use x=\"63.623047\" xlink:href=\"#DejaVuSans-2e\" />\n       <use x=\"95.410156\" xlink:href=\"#DejaVuSans-30\" />\n      </g>\n     </g>\n    </g>\n    <g id=\"xtick_3\">\n     <g id=\"line2d_3\">\n      <g>\n       <use style=\"fill:#444443;stroke:#444443;stroke-width:0.3;\" x=\"104.600625\" xlink:href=\"#m2145d9c5ee\" y=\"95.59425\" />\n      </g>\n     </g>\n     <g id=\"text_3\">\n      \n      <g style=\"fill:#444443;\" transform=\"translate(98.239375 108.673)scale(0.08 -0.08)\">\n       <defs>\n        <path d=\"M 691 4666  L 3169 4666  L 3169 4134  L 1269 4134  L 1269 2991  Q 1406 3038 1543 3061  Q 1681 3084 1819 3084  Q 2600 3084 3056 2656  Q 3513 2228 3513 1497  Q 3513 744 3044 326  Q 2575 -91 1722 -91  Q 1428 -91 1123 -41  Q 819 9 494 109  L 494 744  Q 775 591 1075 516  Q 1375 441 1709 441  Q 2250 441 2565 725  Q 2881 1009 2881 1497  Q 2881 1984 2565 2268  Q 2250 2553 1709 2553  Q 1456 2553 1204 2497  Q 953 2441 691 2322  L 691 4666  z \" id=\"DejaVuSans-35\" transform=\"scale(0.015625)\" />\n       </defs>\n       <use xlink:href=\"#DejaVuSans-31\" />\n       <use x=\"63.623047\" xlink:href=\"#DejaVuSans-2e\" />\n       <use x=\"95.410156\" xlink:href=\"#DejaVuSans-35\" />\n      </g>\n     </g>\n    </g>\n    <g id=\"text_4\">\n     \n     <g style=\"fill:#444443;\" transform=\"translate(76.920938 122.926125)scale(0.12 -0.12)\">\n      <defs>\n       <path d=\"M -9 0  L 1750 4581  L 2403 4581  L 4278 0  L 3588 0  L 3053 1388  L 1138 1388  L 634 0  L -9 0  z M 1313 1881  L 2866 1881  L 2388 3150  Q 2169 3728 2063 4100  Q 1975 3659 1816 3225  L 1313 1881  z \" id=\"ArialMT-41\" transform=\"scale(0.015625)\" />\n       <path d=\"M 469 0  L 469 4581  L 1075 4581  L 1075 541  L 3331 541  L 3331 0  L 469 0  z \" id=\"ArialMT-4c\" transform=\"scale(0.015625)\" />\n       <path d=\"M 506 0  L 506 4581  L 3819 4581  L 3819 4041  L 1113 4041  L 1113 2638  L 3647 2638  L 3647 2100  L 1113 2100  L 1113 541  L 3925 541  L 3925 0  L 506 0  z \" id=\"ArialMT-45\" transform=\"scale(0.015625)\" />\n       <path d=\"M 503 0  L 503 4581  L 2534 4581  Q 3147 4581 3465 4457  Q 3784 4334 3975 4021  Q 4166 3709 4166 3331  Q 4166 2844 3850 2509  Q 3534 2175 2875 2084  Q 3116 1969 3241 1856  Q 3506 1613 3744 1247  L 4541 0  L 3778 0  L 3172 953  Q 2906 1366 2734 1584  Q 2563 1803 2427 1890  Q 2291 1978 2150 2013  Q 2047 2034 1813 2034  L 1109 2034  L 1109 0  L 503 0  z M 1109 2559  L 2413 2559  Q 2828 2559 3062 2645  Q 3297 2731 3419 2920  Q 3541 3109 3541 3331  Q 3541 3656 3305 3865  Q 3069 4075 2559 4075  L 1109 4075  L 1109 2559  z \" id=\"ArialMT-52\" transform=\"scale(0.015625)\" />\n       <path d=\"M 2638 1797  L 2638 2334  L 4578 2338  L 4578 638  Q 4131 281 3656 101  Q 3181 -78 2681 -78  Q 2006 -78 1454 211  Q 903 500 622 1047  Q 341 1594 341 2269  Q 341 2938 620 3517  Q 900 4097 1425 4378  Q 1950 4659 2634 4659  Q 3131 4659 3532 4498  Q 3934 4338 4162 4050  Q 4391 3763 4509 3300  L 3963 3150  Q 3859 3500 3706 3700  Q 3553 3900 3268 4020  Q 2984 4141 2638 4141  Q 2222 4141 1919 4014  Q 1616 3888 1430 3681  Q 1244 3475 1141 3228  Q 966 2803 966 2306  Q 966 1694 1177 1281  Q 1388 869 1791 669  Q 2194 469 2647 469  Q 3041 469 3416 620  Q 3791 772 3984 944  L 3984 1797  L 2638 1797  z \" id=\"ArialMT-47\" transform=\"scale(0.015625)\" />\n       <path d=\"M 1784 0  L 1784 1941  L 19 4581  L 756 4581  L 1659 3200  Q 1909 2813 2125 2425  Q 2331 2784 2625 3234  L 3513 4581  L 4219 4581  L 2391 1941  L 2391 0  L 1784 0  z \" id=\"ArialMT-59\" transform=\"scale(0.015625)\" />\n      </defs>\n      <use xlink:href=\"#ArialMT-41\" />\n      <use x=\"66.699219\" xlink:href=\"#ArialMT-4c\" />\n      <use x=\"122.314453\" xlink:href=\"#ArialMT-4c\" />\n      <use x=\"177.929688\" xlink:href=\"#ArialMT-45\" />\n      <use x=\"244.628906\" xlink:href=\"#ArialMT-52\" />\n      <use x=\"316.845703\" xlink:href=\"#ArialMT-47\" />\n      <use x=\"394.628906\" xlink:href=\"#ArialMT-59\" />\n     </g>\n    </g>\n   </g>\n   <g id=\"matplotlib.axis_2\">\n    <g id=\"ytick_1\">\n     <g id=\"line2d_4\">\n      <defs>\n       <path d=\"M 0 0  L -3.5 0  \" id=\"m357b95da67\" style=\"stroke:#444443;stroke-width:0.3;\" />\n      </defs>\n      <g>\n       <use style=\"fill:#444443;stroke:#444443;stroke-width:0.3;\" x=\"34.850625\" xlink:href=\"#m357b95da67\" y=\"68.308697\" />\n      </g>\n     </g>\n     <g id=\"text_5\">\n      \n      <g style=\"fill:#444443;\" transform=\"translate(15.128125 71.348072)scale(0.08 -0.08)\">\n       <use xlink:href=\"#DejaVuSans-31\" />\n       <use x=\"63.623047\" xlink:href=\"#DejaVuSans-2e\" />\n       <use x=\"95.410156\" xlink:href=\"#DejaVuSans-35\" />\n      </g>\n     </g>\n    </g>\n    <g id=\"ytick_2\">\n     <g id=\"line2d_5\">\n      <g>\n       <use style=\"fill:#444443;stroke:#444443;stroke-width:0.3;\" x=\"34.850625\" xlink:href=\"#m357b95da67\" y=\"39.281512\" />\n      </g>\n     </g>\n     <g id=\"text_6\">\n      \n      <g style=\"fill:#444443;\" transform=\"translate(15.128125 42.320887)scale(0.08 -0.08)\">\n       <use xlink:href=\"#DejaVuSans-32\" />\n       <use x=\"63.623047\" xlink:href=\"#DejaVuSans-2e\" />\n       <use x=\"95.410156\" xlink:href=\"#DejaVuSans-30\" />\n      </g>\n     </g>\n    </g>\n    <g id=\"text_7\">\n     \n     <g style=\"fill:#444443;\" transform=\"translate(8.743125 131.3925)rotate(-90)scale(0.12 -0.12)\">\n      <defs>\n       <path d=\"M 309 2231  Q 309 3372 921 4017  Q 1534 4663 2503 4663  Q 3138 4663 3647 4359  Q 4156 4056 4423 3514  Q 4691 2972 4691 2284  Q 4691 1588 4409 1038  Q 4128 488 3612 205  Q 3097 -78 2500 -78  Q 1853 -78 1343 234  Q 834 547 571 1087  Q 309 1628 309 2231  z M 934 2222  Q 934 1394 1379 917  Q 1825 441 2497 441  Q 3181 441 3623 922  Q 4066 1403 4066 2288  Q 4066 2847 3877 3264  Q 3688 3681 3323 3911  Q 2959 4141 2506 4141  Q 1863 4141 1398 3698  Q 934 3256 934 2222  z \" id=\"ArialMT-4f\" transform=\"scale(0.015625)\" />\n       <path d=\"M 941 0  L 419 0  L 419 4581  L 981 4581  L 981 2947  Q 1338 3394 1891 3394  Q 2197 3394 2470 3270  Q 2744 3147 2920 2923  Q 3097 2700 3197 2384  Q 3297 2069 3297 1709  Q 3297 856 2875 390  Q 2453 -75 1863 -75  Q 1275 -75 941 416  L 941 0  z M 934 1684  Q 934 1088 1097 822  Q 1363 388 1816 388  Q 2184 388 2453 708  Q 2722 1028 2722 1663  Q 2722 2313 2464 2622  Q 2206 2931 1841 2931  Q 1472 2931 1203 2611  Q 934 2291 934 1684  z \" id=\"ArialMT-62\" transform=\"scale(0.015625)\" />\n       <path d=\"M 1650 503  L 1731 6  Q 1494 -44 1306 -44  Q 1000 -44 831 53  Q 663 150 594 308  Q 525 466 525 972  L 525 2881  L 113 2881  L 113 3319  L 525 3319  L 525 4141  L 1084 4478  L 1084 3319  L 1650 3319  L 1650 2881  L 1084 2881  L 1084 941  Q 1084 700 1114 631  Q 1144 563 1211 522  Q 1278 481 1403 481  Q 1497 481 1650 503  z \" id=\"ArialMT-74\" transform=\"scale(0.015625)\" />\n       <path d=\"M 2694 1069  L 3275 997  Q 3138 488 2766 206  Q 2394 -75 1816 -75  Q 1088 -75 661 373  Q 234 822 234 1631  Q 234 2469 665 2931  Q 1097 3394 1784 3394  Q 2450 3394 2872 2941  Q 3294 2488 3294 1666  Q 3294 1616 3291 1516  L 816 1516  Q 847 969 1125 678  Q 1403 388 1819 388  Q 2128 388 2347 550  Q 2566 713 2694 1069  z M 847 1978  L 2700 1978  Q 2663 2397 2488 2606  Q 2219 2931 1791 2931  Q 1403 2931 1139 2672  Q 875 2413 847 1978  z \" id=\"ArialMT-65\" transform=\"scale(0.015625)\" />\n       <path d=\"M 416 0  L 416 3319  L 922 3319  L 922 2816  Q 1116 3169 1280 3281  Q 1444 3394 1641 3394  Q 1925 3394 2219 3213  L 2025 2691  Q 1819 2813 1613 2813  Q 1428 2813 1281 2702  Q 1134 2591 1072 2394  Q 978 2094 978 1738  L 978 0  L 416 0  z \" id=\"ArialMT-72\" transform=\"scale(0.015625)\" />\n       <path id=\"ArialMT-20\" transform=\"scale(0.015625)\" />\n       <path d=\"M 3763 1606  L 4369 1453  Q 4178 706 3683 314  Q 3188 -78 2472 -78  Q 1731 -78 1267 223  Q 803 525 561 1097  Q 319 1669 319 2325  Q 319 3041 592 3573  Q 866 4106 1370 4382  Q 1875 4659 2481 4659  Q 3169 4659 3637 4309  Q 4106 3959 4291 3325  L 3694 3184  Q 3534 3684 3231 3912  Q 2928 4141 2469 4141  Q 1941 4141 1586 3887  Q 1231 3634 1087 3207  Q 944 2781 944 2328  Q 944 1744 1114 1308  Q 1284 872 1643 656  Q 2003 441 2422 441  Q 2931 441 3284 734  Q 3638 1028 3763 1606  z \" id=\"ArialMT-43\" transform=\"scale(0.015625)\" />\n       <path d=\"M 2588 409  Q 2275 144 1986 34  Q 1697 -75 1366 -75  Q 819 -75 525 192  Q 231 459 231 875  Q 231 1119 342 1320  Q 453 1522 633 1644  Q 813 1766 1038 1828  Q 1203 1872 1538 1913  Q 2219 1994 2541 2106  Q 2544 2222 2544 2253  Q 2544 2597 2384 2738  Q 2169 2928 1744 2928  Q 1347 2928 1158 2789  Q 969 2650 878 2297  L 328 2372  Q 403 2725 575 2942  Q 747 3159 1072 3276  Q 1397 3394 1825 3394  Q 2250 3394 2515 3294  Q 2781 3194 2906 3042  Q 3031 2891 3081 2659  Q 3109 2516 3109 2141  L 3109 1391  Q 3109 606 3145 398  Q 3181 191 3288 0  L 2700 0  Q 2613 175 2588 409  z M 2541 1666  Q 2234 1541 1622 1453  Q 1275 1403 1131 1340  Q 988 1278 909 1158  Q 831 1038 831 891  Q 831 666 1001 516  Q 1172 366 1500 366  Q 1825 366 2078 508  Q 2331 650 2450 897  Q 2541 1088 2541 1459  L 2541 1666  z M 1769 4263  L 1416 3731  L 772 3731  L 1447 4606  L 2047 4606  L 2750 3731  L 2113 3731  L 1769 4263  z \" id=\"ArialMT-e2\" transform=\"scale(0.015625)\" />\n       <path d=\"M 422 0  L 422 3319  L 928 3319  L 928 2847  Q 1294 3394 1984 3394  Q 2284 3394 2536 3286  Q 2788 3178 2913 3003  Q 3038 2828 3088 2588  Q 3119 2431 3119 2041  L 3119 0  L 2556 0  L 2556 2019  Q 2556 2363 2490 2533  Q 2425 2703 2258 2804  Q 2091 2906 1866 2906  Q 1506 2906 1245 2678  Q 984 2450 984 1813  L 984 0  L 422 0  z \" id=\"ArialMT-6e\" transform=\"scale(0.015625)\" />\n       <path d=\"M 2588 1216  L 3141 1144  Q 3050 572 2676 248  Q 2303 -75 1759 -75  Q 1078 -75 664 370  Q 250 816 250 1647  Q 250 2184 428 2587  Q 606 2991 970 3192  Q 1334 3394 1763 3394  Q 2303 3394 2647 3120  Q 2991 2847 3088 2344  L 2541 2259  Q 2463 2594 2264 2762  Q 2066 2931 1784 2931  Q 1359 2931 1093 2626  Q 828 2322 828 1663  Q 828 994 1084 691  Q 1341 388 1753 388  Q 2084 388 2306 591  Q 2528 794 2588 1216  z \" id=\"ArialMT-63\" transform=\"scale(0.015625)\" />\n       <path d=\"M 2575 0  L 2575 419  Q 2259 -75 1647 -75  Q 1250 -75 917 144  Q 584 363 401 755  Q 219 1147 219 1656  Q 219 2153 384 2558  Q 550 2963 881 3178  Q 1213 3394 1622 3394  Q 1922 3394 2156 3267  Q 2391 3141 2538 2938  L 2538 4581  L 3097 4581  L 3097 0  L 2575 0  z M 797 1656  Q 797 1019 1065 703  Q 1334 388 1700 388  Q 2069 388 2326 689  Q 2584 991 2584 1609  Q 2584 2291 2321 2609  Q 2059 2928 1675 2928  Q 1300 2928 1048 2622  Q 797 2316 797 1656  z \" id=\"ArialMT-64\" transform=\"scale(0.015625)\" />\n       <path d=\"M 422 -1272  L 422 3319  L 934 3319  L 934 2888  Q 1116 3141 1344 3267  Q 1572 3394 1897 3394  Q 2322 3394 2647 3175  Q 2972 2956 3137 2557  Q 3303 2159 3303 1684  Q 3303 1175 3120 767  Q 2938 359 2589 142  Q 2241 -75 1856 -75  Q 1575 -75 1351 44  Q 1128 163 984 344  L 984 -1272  L 422 -1272  z M 931 1641  Q 931 1000 1190 694  Q 1450 388 1819 388  Q 2194 388 2461 705  Q 2728 1022 2728 1688  Q 2728 2322 2467 2637  Q 2206 2953 1844 2953  Q 1484 2953 1207 2617  Q 931 2281 931 1641  z \" id=\"ArialMT-70\" transform=\"scale(0.015625)\" />\n       <path d=\"M 2597 0  L 2597 488  Q 2209 -75 1544 -75  Q 1250 -75 995 37  Q 741 150 617 320  Q 494 491 444 738  Q 409 903 409 1263  L 409 3319  L 972 3319  L 972 1478  Q 972 1038 1006 884  Q 1059 663 1231 536  Q 1403 409 1656 409  Q 1909 409 2131 539  Q 2353 669 2445 892  Q 2538 1116 2538 1541  L 2538 3319  L 3100 3319  L 3100 0  L 2597 0  z \" id=\"ArialMT-75\" transform=\"scale(0.015625)\" />\n       <path d=\"M 409 0  L 409 4581  L 972 4581  L 972 0  L 409 0  z \" id=\"ArialMT-6c\" transform=\"scale(0.015625)\" />\n       <path d=\"M 422 0  L 422 3319  L 925 3319  L 925 2853  Q 1081 3097 1340 3245  Q 1600 3394 1931 3394  Q 2300 3394 2536 3241  Q 2772 3088 2869 2813  Q 3263 3394 3894 3394  Q 4388 3394 4653 3120  Q 4919 2847 4919 2278  L 4919 0  L 4359 0  L 4359 2091  Q 4359 2428 4304 2576  Q 4250 2725 4106 2815  Q 3963 2906 3769 2906  Q 3419 2906 3187 2673  Q 2956 2441 2956 1928  L 2956 0  L 2394 0  L 2394 2156  Q 2394 2531 2256 2718  Q 2119 2906 1806 2906  Q 1569 2906 1367 2781  Q 1166 2656 1075 2415  Q 984 2175 984 1722  L 984 0  L 422 0  z \" id=\"ArialMT-6d\" transform=\"scale(0.015625)\" />\n       <path d=\"M 2588 409  Q 2275 144 1986 34  Q 1697 -75 1366 -75  Q 819 -75 525 192  Q 231 459 231 875  Q 231 1119 342 1320  Q 453 1522 633 1644  Q 813 1766 1038 1828  Q 1203 1872 1538 1913  Q 2219 1994 2541 2106  Q 2544 2222 2544 2253  Q 2544 2597 2384 2738  Q 2169 2928 1744 2928  Q 1347 2928 1158 2789  Q 969 2650 878 2297  L 328 2372  Q 403 2725 575 2942  Q 747 3159 1072 3276  Q 1397 3394 1825 3394  Q 2250 3394 2515 3294  Q 2781 3194 2906 3042  Q 3031 2891 3081 2659  Q 3109 2516 3109 2141  L 3109 1391  Q 3109 606 3145 398  Q 3181 191 3288 0  L 2700 0  Q 2613 175 2588 409  z M 2541 1666  Q 2234 1541 1622 1453  Q 1275 1403 1131 1340  Q 988 1278 909 1158  Q 831 1038 831 891  Q 831 666 1001 516  Q 1172 366 1500 366  Q 1825 366 2078 508  Q 2331 650 2450 897  Q 2541 1088 2541 1459  L 2541 1666  z M 716 3809  Q 713 4134 894 4328  Q 1072 4522 1350 4522  Q 1544 4522 1878 4353  Q 2063 4259 2172 4259  Q 2272 4259 2325 4314  Q 2378 4369 2400 4531  L 2806 4531  Q 2797 4175 2626 3997  Q 2456 3819 2194 3819  Q 1997 3819 1675 3994  Q 1466 4106 1369 4106  Q 1263 4106 1197 4031  Q 1128 3956 1131 3809  L 716 3809  z \" id=\"ArialMT-e3\" transform=\"scale(0.015625)\" />\n       <path d=\"M 213 1659  Q 213 2581 725 3025  Q 1153 3394 1769 3394  Q 2453 3394 2887 2945  Q 3322 2497 3322 1706  Q 3322 1066 3130 698  Q 2938 331 2570 128  Q 2203 -75 1769 -75  Q 1072 -75 642 372  Q 213 819 213 1659  z M 791 1659  Q 791 1022 1069 705  Q 1347 388 1769 388  Q 2188 388 2466 706  Q 2744 1025 2744 1678  Q 2744 2294 2464 2611  Q 2184 2928 1769 2928  Q 1347 2928 1069 2612  Q 791 2297 791 1659  z \" id=\"ArialMT-6f\" transform=\"scale(0.015625)\" />\n      </defs>\n      <use xlink:href=\"#ArialMT-4f\" />\n      <use x=\"77.783203\" xlink:href=\"#ArialMT-62\" />\n      <use x=\"133.398438\" xlink:href=\"#ArialMT-74\" />\n      <use x=\"161.181641\" xlink:href=\"#ArialMT-65\" />\n      <use x=\"216.796875\" xlink:href=\"#ArialMT-72\" />\n      <use x=\"250.097656\" xlink:href=\"#ArialMT-20\" />\n      <use x=\"277.880859\" xlink:href=\"#ArialMT-43\" />\n      <use x=\"350.097656\" xlink:href=\"#ArialMT-e2\" />\n      <use x=\"405.712891\" xlink:href=\"#ArialMT-6e\" />\n      <use x=\"461.328125\" xlink:href=\"#ArialMT-63\" />\n      <use x=\"511.328125\" xlink:href=\"#ArialMT-65\" />\n      <use x=\"566.943359\" xlink:href=\"#ArialMT-72\" />\n      <use x=\"600.244141\" xlink:href=\"#ArialMT-20\" />\n      <use x=\"628.027344\" xlink:href=\"#ArialMT-64\" />\n      <use x=\"683.642578\" xlink:href=\"#ArialMT-65\" />\n      <use x=\"739.257812\" xlink:href=\"#ArialMT-20\" />\n      <use x=\"767.041016\" xlink:href=\"#ArialMT-70\" />\n      <use x=\"822.65625\" xlink:href=\"#ArialMT-75\" />\n      <use x=\"878.271484\" xlink:href=\"#ArialMT-6c\" />\n      <use x=\"900.488281\" xlink:href=\"#ArialMT-6d\" />\n      <use x=\"983.789062\" xlink:href=\"#ArialMT-e3\" />\n      <use x=\"1039.404297\" xlink:href=\"#ArialMT-6f\" />\n     </g>\n    </g>\n   </g>\n   <g id=\"line2d_6\">\n    <path clip-path=\"url(#p3ea007996a)\" d=\"M 34.850625 53.388181  L 104.600625 53.388181  \" style=\"fill:none;stroke:#444443;stroke-dasharray:3.7,1.6;stroke-dashoffset:0;\" />\n   </g>\n   <g id=\"line2d_7\">\n    <path clip-path=\"url(#p3ea007996a)\" d=\"M 104.600625 95.59425  L 104.600625 35.79825  \" style=\"fill:none;stroke:#444443;stroke-dasharray:3.7,1.6;stroke-dashoffset:0;\" />\n   </g>\n   <g id=\"line2d_8\">\n    <path clip-path=\"url(#p3ea007996a)\" d=\"M 104.600625 40.686053  L 174.350625 40.686053  \" style=\"fill:none;stroke:#444443;stroke-dasharray:3.7,1.6;stroke-dashoffset:0;\" />\n   </g>\n   <g id=\"patch_4\">\n    <path d=\"M 34.850625 95.59425  L 34.850625 35.79825  \" style=\"fill:none;stroke:#000000;stroke-linecap:square;stroke-linejoin:miter;stroke-width:0.3;\" />\n   </g>\n   <g id=\"patch_5\">\n    <path d=\"M 34.850625 95.59425  L 174.350625 95.59425  \" style=\"fill:none;stroke:#000000;stroke-linecap:square;stroke-linejoin:miter;stroke-width:0.3;\" />\n   </g>\n  </g>\n </g>\n <defs>\n  <clipPath id=\"p3ea007996a\">\n   <rect height=\"59.796\" width=\"139.5\" x=\"34.850625\" y=\"35.79825\" />\n  </clipPath>\n </defs>\n</svg></g>\n\n<g id=\"edge16\" class=\"edge\">\n<title>node0-&gt;node1</title>\n<path fill=\"none\" stroke=\"#444443\" stroke-width=\"0.3\" d=\"M507.48,-274.87C501.98,-265.83 496.35,-256.57 491.09,-247.91\" />\n<polygon fill=\"#444443\" stroke=\"#444443\" stroke-width=\"0.3\" points=\"492.13,-246.94 488.85,-244.25 489.74,-248.39 492.13,-246.94\" />\n<text text-anchor=\"start\" x=\"501.5\" y=\"-255.8\" font-family=\"Times New Roman,serif\" font-size=\"14.00\">&#8804;</text>\n</g>\n\n<g id=\"edge17\" class=\"edge\">\n<title>node0-&gt;node8</title>\n<path fill=\"none\" stroke=\"#444443\" stroke-width=\"0.3\" d=\"M575.03,-274.87C581.13,-265.83 587.38,-256.57 593.22,-247.91\" />\n<polygon fill=\"#444443\" stroke=\"#444443\" stroke-width=\"0.3\" points=\"594.62,-248.34 595.7,-244.25 592.3,-246.78 594.62,-248.34\" />\n<text text-anchor=\"start\" x=\"590.5\" y=\"-255.8\" font-family=\"Times New Roman,serif\" font-size=\"14.00\">&gt;</text>\n</g>\n\n\n\n</g>\n</svg>",
      "text/plain": [
       "<dtreeviz.trees.DTreeViz at 0x1d94403e5e0>"
      ]
     },
     "execution_count": 49,
     "metadata": {},
     "output_type": "execute_result"
    },
    {
     "data": {
      "text/plain": [
       "<Figure size 1800x1440 with 0 Axes>"
      ]
     },
     "metadata": {},
     "output_type": "display_data"
    }
   ],
   "source": [
    "# # Árvore de regressão nos dados do cancer de pulmão\n",
    "fig = plt.figure(figsize=(25,20))\n",
    "regr= tree.DecisionTreeRegressor(max_depth=3)  \n",
    "regr.fit(X_train, y_train)\n",
    "viz = dtreeviz(regr,\n",
    "               X_train,\n",
    "               y_train,\n",
    "               target_name='Obter Câncer de pulmão',\n",
    "               feature_names=X_train.columns,\n",
    "               title=\"Regressão do conjunto de dados do câncer de pulmão\",\n",
    "               fontname=\"Arial\",\n",
    "               colors = {\"title\":\"purple\"},\n",
    "               scale=1.5)\n",
    "viz "
   ]
  },
  {
   "cell_type": "code",
   "execution_count": null,
   "id": "ba8baef9",
   "metadata": {},
   "outputs": [
    {
     "data": {
      "image/svg+xml": "<svg xmlns=\"http://www.w3.org/2000/svg\" xmlns:dc=\"http://purl.org/dc/elements/1.1/\" xmlns:ns2=\"http://creativecommons.org/ns#\" xmlns:rdf=\"http://www.w3.org/1999/02/22-rdf-syntax-ns#\" xmlns:xlink=\"http://www.w3.org/1999/xlink\" width=\"1671.8\" height=\"669.5\" viewBox=\"0.0 0.0 1671.8 668.85\">\n<g id=\"graph0\" class=\"graph\" transform=\"scale(1.3 1.3) rotate(0) translate(4 510.5)\">\n<title>G</title>\n<polygon fill=\"white\" stroke=\"transparent\" points=\"-4,4 -4,-510.5 1282,-510.5 1282,4 -4,4\" />\n<text text-anchor=\"middle\" x=\"639\" y=\"-491.3\" font-family=\"Arial\" font-size=\"14.00\" fill=\"#444443\">Classifica&#231;&#227;o do conjunto de dados do c&#226;ncer de pulm&#227;o</text>\n<g id=\"clust8\" class=\"cluster\">\n<title>cluster_instance</title>\n</g>\n<g id=\"clust7\" class=\"cluster\">\n<title>cluster_legend</title>\n</g>\n\n<g id=\"node1\" class=\"node\">\n<title>node2</title>\n<polygon fill=\"none\" stroke=\"#d67c03\" stroke-width=\"0.5\" stroke-dasharray=\"5,2\" points=\"718.5,-257 559.5,-257 559.5,-204 718.5,-204 718.5,-257\" />\n<svg height=\"45px\" version=\"1.1\" viewBox=\"0 0 201.32 59.230276\" width=\"151px\" preserveAspectRatio=\"xMinYMin meet\" x=\"564\" y=\"-252.5\">\n <metadata>\n  <rdf:RDF>\n   <ns2:Work>\n    <dc:type rdf:resource=\"http://purl.org/dc/dcmitype/StillImage\" />\n    <dc:date>2022-06-06T19:39:01.821263</dc:date>\n    <dc:format>image/svg+xml</dc:format>\n    <dc:creator>\n     <ns2:Agent>\n      <dc:title>Matplotlib v3.4.3, https://matplotlib.org/</dc:title>\n     </ns2:Agent>\n    </dc:creator>\n   </ns2:Work>\n  </rdf:RDF>\n </metadata>\n <defs>\n  <style type=\"text/css\">*{stroke-linecap:butt;stroke-linejoin:round;}</style>\n </defs>\n <g id=\"figure_1\">\n  <g id=\"patch_1\">\n   <path d=\"M 0 59.230276  L 201.32 59.230276  L 201.32 -0  L 0 -0  z \" style=\"fill:none;\" />\n  </g>\n  <g id=\"axes_1\">\n   <g id=\"patch_2\">\n    <path d=\"M 17.18 29.513401  L 201.32 29.513401  L 201.32 1.715674  L 17.18 1.715674  z \" style=\"fill:#ffffff;\" />\n   </g>\n   <g id=\"patch_3\">\n    <path clip-path=\"url(#p4e4c00b7f0)\" d=\"M 29.664068 29.513401  L 37.87727 29.513401  L 37.87727 15.203117  L 29.664068 15.203117  z \" style=\"fill:#fefebb;stroke:#444443;stroke-linejoin:miter;stroke-width:0.5;\" />\n   </g>\n   <g id=\"patch_4\">\n    <path clip-path=\"url(#p4e4c00b7f0)\" d=\"M 37.87727 29.513401  L 46.090473 29.513401  L 46.090473 29.513401  L 37.87727 29.513401  z \" style=\"fill:#fefebb;stroke:#444443;stroke-linejoin:miter;stroke-width:0.5;\" />\n   </g>\n   <g id=\"patch_5\">\n    <path clip-path=\"url(#p4e4c00b7f0)\" d=\"M 46.090473 29.513401  L 54.303675 29.513401  L 54.303675 29.513401  L 46.090473 29.513401  z \" style=\"fill:#fefebb;stroke:#444443;stroke-linejoin:miter;stroke-width:0.5;\" />\n   </g>\n   <g id=\"patch_6\">\n    <path clip-path=\"url(#p4e4c00b7f0)\" d=\"M 54.303675 29.513401  L 62.516878 29.513401  L 62.516878 29.513401  L 54.303675 29.513401  z \" style=\"fill:#fefebb;stroke:#444443;stroke-linejoin:miter;stroke-width:0.5;\" />\n   </g>\n   <g id=\"patch_7\">\n    <path clip-path=\"url(#p4e4c00b7f0)\" d=\"M 62.516878 29.513401  L 70.73008 29.513401  L 70.73008 29.513401  L 62.516878 29.513401  z \" style=\"fill:#fefebb;stroke:#444443;stroke-linejoin:miter;stroke-width:0.5;\" />\n   </g>\n   <g id=\"patch_8\">\n    <path clip-path=\"url(#p4e4c00b7f0)\" d=\"M 70.73008 29.513401  L 78.943283 29.513401  L 78.943283 29.513401  L 70.73008 29.513401  z \" style=\"fill:#fefebb;stroke:#444443;stroke-linejoin:miter;stroke-width:0.5;\" />\n   </g>\n   <g id=\"patch_9\">\n    <path clip-path=\"url(#p4e4c00b7f0)\" d=\"M 78.943283 29.513401  L 87.156485 29.513401  L 87.156485 29.513401  L 78.943283 29.513401  z \" style=\"fill:#fefebb;stroke:#444443;stroke-linejoin:miter;stroke-width:0.5;\" />\n   </g>\n   <g id=\"patch_10\">\n    <path clip-path=\"url(#p4e4c00b7f0)\" d=\"M 87.156485 29.513401  L 95.369688 29.513401  L 95.369688 29.513401  L 87.156485 29.513401  z \" style=\"fill:#fefebb;stroke:#444443;stroke-linejoin:miter;stroke-width:0.5;\" />\n   </g>\n   <g id=\"patch_11\">\n    <path clip-path=\"url(#p4e4c00b7f0)\" d=\"M 95.369688 29.513401  L 103.58289 29.513401  L 103.58289 29.513401  L 95.369688 29.513401  z \" style=\"fill:#fefebb;stroke:#444443;stroke-linejoin:miter;stroke-width:0.5;\" />\n   </g>\n   <g id=\"patch_12\">\n    <path clip-path=\"url(#p4e4c00b7f0)\" d=\"M 103.58289 29.513401  L 111.796093 29.513401  L 111.796093 29.513401  L 103.58289 29.513401  z \" style=\"fill:#fefebb;stroke:#444443;stroke-linejoin:miter;stroke-width:0.5;\" />\n   </g>\n   <g id=\"patch_13\">\n    <path clip-path=\"url(#p4e4c00b7f0)\" d=\"M 111.796093 29.513401  L 120.009295 29.513401  L 120.009295 29.513401  L 111.796093 29.513401  z \" style=\"fill:#fefebb;stroke:#444443;stroke-linejoin:miter;stroke-width:0.5;\" />\n   </g>\n   <g id=\"patch_14\">\n    <path clip-path=\"url(#p4e4c00b7f0)\" d=\"M 120.009295 29.513401  L 128.222498 29.513401  L 128.222498 29.513401  L 120.009295 29.513401  z \" style=\"fill:#fefebb;stroke:#444443;stroke-linejoin:miter;stroke-width:0.5;\" />\n   </g>\n   <g id=\"patch_15\">\n    <path clip-path=\"url(#p4e4c00b7f0)\" d=\"M 128.222498 29.513401  L 136.4357 29.513401  L 136.4357 29.513401  L 128.222498 29.513401  z \" style=\"fill:#fefebb;stroke:#444443;stroke-linejoin:miter;stroke-width:0.5;\" />\n   </g>\n   <g id=\"patch_16\">\n    <path clip-path=\"url(#p4e4c00b7f0)\" d=\"M 136.4357 29.513401  L 144.648903 29.513401  L 144.648903 29.513401  L 136.4357 29.513401  z \" style=\"fill:#fefebb;stroke:#444443;stroke-linejoin:miter;stroke-width:0.5;\" />\n   </g>\n   <g id=\"patch_17\">\n    <path clip-path=\"url(#p4e4c00b7f0)\" d=\"M 144.648903 29.513401  L 152.862105 29.513401  L 152.862105 29.513401  L 144.648903 29.513401  z \" style=\"fill:#fefebb;stroke:#444443;stroke-linejoin:miter;stroke-width:0.5;\" />\n   </g>\n   <g id=\"patch_18\">\n    <path clip-path=\"url(#p4e4c00b7f0)\" d=\"M 152.862105 29.513401  L 161.075308 29.513401  L 161.075308 29.513401  L 152.862105 29.513401  z \" style=\"fill:#fefebb;stroke:#444443;stroke-linejoin:miter;stroke-width:0.5;\" />\n   </g>\n   <g id=\"patch_19\">\n    <path clip-path=\"url(#p4e4c00b7f0)\" d=\"M 161.075308 29.513401  L 169.28851 29.513401  L 169.28851 29.513401  L 161.075308 29.513401  z \" style=\"fill:#fefebb;stroke:#444443;stroke-linejoin:miter;stroke-width:0.5;\" />\n   </g>\n   <g id=\"patch_20\">\n    <path clip-path=\"url(#p4e4c00b7f0)\" d=\"M 169.28851 29.513401  L 177.501713 29.513401  L 177.501713 29.513401  L 169.28851 29.513401  z \" style=\"fill:#fefebb;stroke:#444443;stroke-linejoin:miter;stroke-width:0.5;\" />\n   </g>\n   <g id=\"patch_21\">\n    <path clip-path=\"url(#p4e4c00b7f0)\" d=\"M 177.501713 29.513401  L 185.714915 29.513401  L 185.714915 28.082373  L 177.501713 28.082373  z \" style=\"fill:#fefebb;stroke:#444443;stroke-linejoin:miter;stroke-width:0.5;\" />\n   </g>\n   <g id=\"patch_22\">\n    <path clip-path=\"url(#p4e4c00b7f0)\" d=\"M 29.664068 15.203117  L 37.87727 15.203117  L 37.87727 3.039375  L 29.664068 3.039375  z \" style=\"fill:#a1dab4;stroke:#444443;stroke-linejoin:miter;stroke-width:0.5;\" />\n   </g>\n   <g id=\"patch_23\">\n    <path clip-path=\"url(#p4e4c00b7f0)\" d=\"M 37.87727 29.513401  L 46.090473 29.513401  L 46.090473 29.513401  L 37.87727 29.513401  z \" style=\"fill:#a1dab4;stroke:#444443;stroke-linejoin:miter;stroke-width:0.5;\" />\n   </g>\n   <g id=\"patch_24\">\n    <path clip-path=\"url(#p4e4c00b7f0)\" d=\"M 46.090473 29.513401  L 54.303675 29.513401  L 54.303675 29.513401  L 46.090473 29.513401  z \" style=\"fill:#a1dab4;stroke:#444443;stroke-linejoin:miter;stroke-width:0.5;\" />\n   </g>\n   <g id=\"patch_25\">\n    <path clip-path=\"url(#p4e4c00b7f0)\" d=\"M 54.303675 29.513401  L 62.516878 29.513401  L 62.516878 29.513401  L 54.303675 29.513401  z \" style=\"fill:#a1dab4;stroke:#444443;stroke-linejoin:miter;stroke-width:0.5;\" />\n   </g>\n   <g id=\"patch_26\">\n    <path clip-path=\"url(#p4e4c00b7f0)\" d=\"M 62.516878 29.513401  L 70.73008 29.513401  L 70.73008 29.513401  L 62.516878 29.513401  z \" style=\"fill:#a1dab4;stroke:#444443;stroke-linejoin:miter;stroke-width:0.5;\" />\n   </g>\n   <g id=\"patch_27\">\n    <path clip-path=\"url(#p4e4c00b7f0)\" d=\"M 70.73008 29.513401  L 78.943283 29.513401  L 78.943283 29.513401  L 70.73008 29.513401  z \" style=\"fill:#a1dab4;stroke:#444443;stroke-linejoin:miter;stroke-width:0.5;\" />\n   </g>\n   <g id=\"patch_28\">\n    <path clip-path=\"url(#p4e4c00b7f0)\" d=\"M 78.943283 29.513401  L 87.156485 29.513401  L 87.156485 29.513401  L 78.943283 29.513401  z \" style=\"fill:#a1dab4;stroke:#444443;stroke-linejoin:miter;stroke-width:0.5;\" />\n   </g>\n   <g id=\"patch_29\">\n    <path clip-path=\"url(#p4e4c00b7f0)\" d=\"M 87.156485 29.513401  L 95.369688 29.513401  L 95.369688 29.513401  L 87.156485 29.513401  z \" style=\"fill:#a1dab4;stroke:#444443;stroke-linejoin:miter;stroke-width:0.5;\" />\n   </g>\n   <g id=\"patch_30\">\n    <path clip-path=\"url(#p4e4c00b7f0)\" d=\"M 95.369688 29.513401  L 103.58289 29.513401  L 103.58289 29.513401  L 95.369688 29.513401  z \" style=\"fill:#a1dab4;stroke:#444443;stroke-linejoin:miter;stroke-width:0.5;\" />\n   </g>\n   <g id=\"patch_31\">\n    <path clip-path=\"url(#p4e4c00b7f0)\" d=\"M 103.58289 29.513401  L 111.796093 29.513401  L 111.796093 29.513401  L 103.58289 29.513401  z \" style=\"fill:#a1dab4;stroke:#444443;stroke-linejoin:miter;stroke-width:0.5;\" />\n   </g>\n   <g id=\"patch_32\">\n    <path clip-path=\"url(#p4e4c00b7f0)\" d=\"M 111.796093 29.513401  L 120.009295 29.513401  L 120.009295 29.513401  L 111.796093 29.513401  z \" style=\"fill:#a1dab4;stroke:#444443;stroke-linejoin:miter;stroke-width:0.5;\" />\n   </g>\n   <g id=\"patch_33\">\n    <path clip-path=\"url(#p4e4c00b7f0)\" d=\"M 120.009295 29.513401  L 128.222498 29.513401  L 128.222498 29.513401  L 120.009295 29.513401  z \" style=\"fill:#a1dab4;stroke:#444443;stroke-linejoin:miter;stroke-width:0.5;\" />\n   </g>\n   <g id=\"patch_34\">\n    <path clip-path=\"url(#p4e4c00b7f0)\" d=\"M 128.222498 29.513401  L 136.4357 29.513401  L 136.4357 29.513401  L 128.222498 29.513401  z \" style=\"fill:#a1dab4;stroke:#444443;stroke-linejoin:miter;stroke-width:0.5;\" />\n   </g>\n   <g id=\"patch_35\">\n    <path clip-path=\"url(#p4e4c00b7f0)\" d=\"M 136.4357 29.513401  L 144.648903 29.513401  L 144.648903 29.513401  L 136.4357 29.513401  z \" style=\"fill:#a1dab4;stroke:#444443;stroke-linejoin:miter;stroke-width:0.5;\" />\n   </g>\n   <g id=\"patch_36\">\n    <path clip-path=\"url(#p4e4c00b7f0)\" d=\"M 144.648903 29.513401  L 152.862105 29.513401  L 152.862105 29.513401  L 144.648903 29.513401  z \" style=\"fill:#a1dab4;stroke:#444443;stroke-linejoin:miter;stroke-width:0.5;\" />\n   </g>\n   <g id=\"patch_37\">\n    <path clip-path=\"url(#p4e4c00b7f0)\" d=\"M 152.862105 29.513401  L 161.075308 29.513401  L 161.075308 29.513401  L 152.862105 29.513401  z \" style=\"fill:#a1dab4;stroke:#444443;stroke-linejoin:miter;stroke-width:0.5;\" />\n   </g>\n   <g id=\"patch_38\">\n    <path clip-path=\"url(#p4e4c00b7f0)\" d=\"M 161.075308 29.513401  L 169.28851 29.513401  L 169.28851 29.513401  L 161.075308 29.513401  z \" style=\"fill:#a1dab4;stroke:#444443;stroke-linejoin:miter;stroke-width:0.5;\" />\n   </g>\n   <g id=\"patch_39\">\n    <path clip-path=\"url(#p4e4c00b7f0)\" d=\"M 169.28851 29.513401  L 177.501713 29.513401  L 177.501713 29.513401  L 169.28851 29.513401  z \" style=\"fill:#a1dab4;stroke:#444443;stroke-linejoin:miter;stroke-width:0.5;\" />\n   </g>\n   <g id=\"patch_40\">\n    <path clip-path=\"url(#p4e4c00b7f0)\" d=\"M 177.501713 28.082373  L 185.714915 28.082373  L 185.714915 18.780688  L 177.501713 18.780688  z \" style=\"fill:#a1dab4;stroke:#444443;stroke-linejoin:miter;stroke-width:0.5;\" />\n   </g>\n   <g id=\"patch_41\">\n    <path d=\"M 107.689492 30.328801  L 104.374972 37.667401  L 111.004012 37.667401  z \" style=\"fill:#444443;\" />\n   </g>\n   <g id=\"patch_42\">\n    <path d=\"M 29.664068 30.328801  L 26.349548 37.667401  L 32.978588 37.667401  z \" style=\"fill:#d67c03;\" />\n   </g>\n   <g id=\"matplotlib.axis_1\">\n    <g id=\"xtick_1\">\n     <g id=\"line2d_1\">\n      <defs>\n       <path d=\"M 0 0  L 0 3.5  \" id=\"m685b79d9d4\" style=\"stroke:#000000;stroke-width:0.3;\" />\n      </defs>\n      <g>\n       <use style=\"stroke:#000000;stroke-width:0.3;\" x=\"29.664068\" xlink:href=\"#m685b79d9d4\" y=\"29.513401\" />\n      </g>\n     </g>\n     <g id=\"text_1\">\n      \n      <g style=\"fill:#444443;\" transform=\"translate(27.119068 42.592151)scale(0.08 -0.08)\">\n       <defs>\n        <path d=\"M 794 531  L 1825 531  L 1825 4091  L 703 3866  L 703 4441  L 1819 4666  L 2450 4666  L 2450 531  L 3481 531  L 3481 0  L 794 0  L 794 531  z \" id=\"DejaVuSans-31\" transform=\"scale(0.015625)\" />\n       </defs>\n       <use xlink:href=\"#DejaVuSans-31\" />\n      </g>\n     </g>\n    </g>\n    <g id=\"xtick_2\">\n     <g id=\"line2d_2\">\n      <g>\n       <use style=\"stroke:#000000;stroke-width:0.3;\" x=\"185.714915\" xlink:href=\"#m685b79d9d4\" y=\"29.513401\" />\n      </g>\n     </g>\n     <g id=\"text_2\">\n      \n      <g style=\"fill:#444443;\" transform=\"translate(183.169915 42.592151)scale(0.08 -0.08)\">\n       <defs>\n        <path d=\"M 1228 531  L 3431 531  L 3431 0  L 469 0  L 469 531  Q 828 903 1448 1529  Q 2069 2156 2228 2338  Q 2531 2678 2651 2914  Q 2772 3150 2772 3378  Q 2772 3750 2511 3984  Q 2250 4219 1831 4219  Q 1534 4219 1204 4116  Q 875 4013 500 3803  L 500 4441  Q 881 4594 1212 4672  Q 1544 4750 1819 4750  Q 2544 4750 2975 4387  Q 3406 4025 3406 3419  Q 3406 3131 3298 2873  Q 3191 2616 2906 2266  Q 2828 2175 2409 1742  Q 1991 1309 1228 531  z \" id=\"DejaVuSans-32\" transform=\"scale(0.015625)\" />\n       </defs>\n       <use xlink:href=\"#DejaVuSans-32\" />\n      </g>\n     </g>\n    </g>\n    <g id=\"text_3\">\n     \n     <g style=\"fill:#444443;\" transform=\"translate(41.799688 56.845276)scale(0.12 -0.12)\">\n      <defs>\n       <path d=\"M -9 0  L 1750 4581  L 2403 4581  L 4278 0  L 3588 0  L 3053 1388  L 1138 1388  L 634 0  L -9 0  z M 1313 1881  L 2866 1881  L 2388 3150  Q 2169 3728 2063 4100  Q 1975 3659 1816 3225  L 1313 1881  z \" id=\"ArialMT-41\" transform=\"scale(0.015625)\" />\n       <path d=\"M 469 0  L 469 4581  L 1075 4581  L 1075 541  L 3331 541  L 3331 0  L 469 0  z \" id=\"ArialMT-4c\" transform=\"scale(0.015625)\" />\n       <path d=\"M 3763 1606  L 4369 1453  Q 4178 706 3683 314  Q 3188 -78 2472 -78  Q 1731 -78 1267 223  Q 803 525 561 1097  Q 319 1669 319 2325  Q 319 3041 592 3573  Q 866 4106 1370 4382  Q 1875 4659 2481 4659  Q 3169 4659 3637 4309  Q 4106 3959 4291 3325  L 3694 3184  Q 3534 3684 3231 3912  Q 2928 4141 2469 4141  Q 1941 4141 1586 3887  Q 1231 3634 1087 3207  Q 944 2781 944 2328  Q 944 1744 1114 1308  Q 1284 872 1643 656  Q 2003 441 2422 441  Q 2931 441 3284 734  Q 3638 1028 3763 1606  z \" id=\"ArialMT-43\" transform=\"scale(0.015625)\" />\n       <path d=\"M 309 2231  Q 309 3372 921 4017  Q 1534 4663 2503 4663  Q 3138 4663 3647 4359  Q 4156 4056 4423 3514  Q 4691 2972 4691 2284  Q 4691 1588 4409 1038  Q 4128 488 3612 205  Q 3097 -78 2500 -78  Q 1853 -78 1343 234  Q 834 547 571 1087  Q 309 1628 309 2231  z M 934 2222  Q 934 1394 1379 917  Q 1825 441 2497 441  Q 3181 441 3623 922  Q 4066 1403 4066 2288  Q 4066 2847 3877 3264  Q 3688 3681 3323 3911  Q 2959 4141 2506 4141  Q 1863 4141 1398 3698  Q 934 3256 934 2222  z \" id=\"ArialMT-4f\" transform=\"scale(0.015625)\" />\n       <path d=\"M 513 0  L 513 4581  L 1119 4581  L 1119 2700  L 3500 2700  L 3500 4581  L 4106 4581  L 4106 0  L 3500 0  L 3500 2159  L 1119 2159  L 1119 0  L 513 0  z \" id=\"ArialMT-48\" transform=\"scale(0.015625)\" />\n       <path id=\"ArialMT-20\" transform=\"scale(0.015625)\" />\n       <path d=\"M 488 0  L 488 4581  L 1109 4581  L 3516 984  L 3516 4581  L 4097 4581  L 4097 0  L 3475 0  L 1069 3600  L 1069 0  L 488 0  z \" id=\"ArialMT-4e\" transform=\"scale(0.015625)\" />\n       <path d=\"M 288 1472  L 859 1522  Q 900 1178 1048 958  Q 1197 738 1509 602  Q 1822 466 2213 466  Q 2559 466 2825 569  Q 3091 672 3220 851  Q 3350 1031 3350 1244  Q 3350 1459 3225 1620  Q 3100 1781 2813 1891  Q 2628 1963 1997 2114  Q 1366 2266 1113 2400  Q 784 2572 623 2826  Q 463 3081 463 3397  Q 463 3744 659 4045  Q 856 4347 1234 4503  Q 1613 4659 2075 4659  Q 2584 4659 2973 4495  Q 3363 4331 3572 4012  Q 3781 3694 3797 3291  L 3216 3247  Q 3169 3681 2898 3903  Q 2628 4125 2100 4125  Q 1550 4125 1298 3923  Q 1047 3722 1047 3438  Q 1047 3191 1225 3031  Q 1400 2872 2139 2705  Q 2878 2538 3153 2413  Q 3553 2228 3743 1945  Q 3934 1663 3934 1294  Q 3934 928 3725 604  Q 3516 281 3123 101  Q 2731 -78 2241 -78  Q 1619 -78 1198 103  Q 778 284 539 648  Q 300 1013 288 1472  z \" id=\"ArialMT-53\" transform=\"scale(0.015625)\" />\n       <path d=\"M 3500 4581  L 4106 4581  L 4106 1934  Q 4106 1244 3950 837  Q 3794 431 3386 176  Q 2978 -78 2316 -78  Q 1672 -78 1262 144  Q 853 366 678 786  Q 503 1206 503 1934  L 503 4581  L 1109 4581  L 1109 1938  Q 1109 1341 1220 1058  Q 1331 775 1601 622  Q 1872 469 2263 469  Q 2931 469 3215 772  Q 3500 1075 3500 1938  L 3500 4581  z \" id=\"ArialMT-55\" transform=\"scale(0.015625)\" />\n       <path d=\"M 475 0  L 475 4581  L 1388 4581  L 2472 1338  Q 2622 884 2691 659  Q 2769 909 2934 1394  L 4031 4581  L 4847 4581  L 4847 0  L 4263 0  L 4263 3834  L 2931 0  L 2384 0  L 1059 3900  L 1059 0  L 475 0  z \" id=\"ArialMT-4d\" transform=\"scale(0.015625)\" />\n       <path d=\"M 597 0  L 597 4581  L 1203 4581  L 1203 0  L 597 0  z \" id=\"ArialMT-49\" transform=\"scale(0.015625)\" />\n       <path d=\"M 2638 1797  L 2638 2334  L 4578 2338  L 4578 638  Q 4131 281 3656 101  Q 3181 -78 2681 -78  Q 2006 -78 1454 211  Q 903 500 622 1047  Q 341 1594 341 2269  Q 341 2938 620 3517  Q 900 4097 1425 4378  Q 1950 4659 2634 4659  Q 3131 4659 3532 4498  Q 3934 4338 4162 4050  Q 4391 3763 4509 3300  L 3963 3150  Q 3859 3500 3706 3700  Q 3553 3900 3268 4020  Q 2984 4141 2638 4141  Q 2222 4141 1919 4014  Q 1616 3888 1430 3681  Q 1244 3475 1141 3228  Q 966 2803 966 2306  Q 966 1694 1177 1281  Q 1388 869 1791 669  Q 2194 469 2647 469  Q 3041 469 3416 620  Q 3791 772 3984 944  L 3984 1797  L 2638 1797  z \" id=\"ArialMT-47\" transform=\"scale(0.015625)\" />\n      </defs>\n      <use xlink:href=\"#ArialMT-41\" />\n      <use x=\"66.699219\" xlink:href=\"#ArialMT-4c\" />\n      <use x=\"122.314453\" xlink:href=\"#ArialMT-43\" />\n      <use x=\"194.53125\" xlink:href=\"#ArialMT-4f\" />\n      <use x=\"272.314453\" xlink:href=\"#ArialMT-48\" />\n      <use x=\"344.53125\" xlink:href=\"#ArialMT-4f\" />\n      <use x=\"422.314453\" xlink:href=\"#ArialMT-4c\" />\n      <use x=\"474.179688\" xlink:href=\"#ArialMT-20\" />\n      <use x=\"501.962891\" xlink:href=\"#ArialMT-43\" />\n      <use x=\"574.179688\" xlink:href=\"#ArialMT-4f\" />\n      <use x=\"651.962891\" xlink:href=\"#ArialMT-4e\" />\n      <use x=\"724.179688\" xlink:href=\"#ArialMT-53\" />\n      <use x=\"790.878906\" xlink:href=\"#ArialMT-55\" />\n      <use x=\"863.095703\" xlink:href=\"#ArialMT-4d\" />\n      <use x=\"946.396484\" xlink:href=\"#ArialMT-49\" />\n      <use x=\"974.179688\" xlink:href=\"#ArialMT-4e\" />\n      <use x=\"1046.396484\" xlink:href=\"#ArialMT-47\" />\n     </g>\n    </g>\n   </g>\n   <g id=\"matplotlib.axis_2\">\n    <g id=\"ytick_1\">\n     <g id=\"line2d_3\">\n      <defs>\n       <path d=\"M 0 0  L -3.5 0  \" id=\"m2903fd2c97\" style=\"stroke:#000000;stroke-width:0.3;\" />\n      </defs>\n      <g>\n       <use style=\"stroke:#000000;stroke-width:0.3;\" x=\"17.18\" xlink:href=\"#m2903fd2c97\" y=\"29.513401\" />\n      </g>\n     </g>\n     <g id=\"text_4\">\n      \n      <g style=\"fill:#444443;\" transform=\"translate(5.09 32.552776)scale(0.08 -0.08)\">\n       <defs>\n        <path d=\"M 2034 4250  Q 1547 4250 1301 3770  Q 1056 3291 1056 2328  Q 1056 1369 1301 889  Q 1547 409 2034 409  Q 2525 409 2770 889  Q 3016 1369 3016 2328  Q 3016 3291 2770 3770  Q 2525 4250 2034 4250  z M 2034 4750  Q 2819 4750 3233 4129  Q 3647 3509 3647 2328  Q 3647 1150 3233 529  Q 2819 -91 2034 -91  Q 1250 -91 836 529  Q 422 1150 422 2328  Q 422 3509 836 4129  Q 1250 4750 2034 4750  z \" id=\"DejaVuSans-30\" transform=\"scale(0.015625)\" />\n       </defs>\n       <use xlink:href=\"#DejaVuSans-30\" />\n      </g>\n     </g>\n    </g>\n    <g id=\"ytick_2\">\n     <g id=\"line2d_4\">\n      <g>\n       <use style=\"stroke:#000000;stroke-width:0.3;\" x=\"17.18\" xlink:href=\"#m2903fd2c97\" y=\"3.039375\" />\n      </g>\n     </g>\n     <g id=\"text_5\">\n      \n      <g style=\"fill:#444443;\" transform=\"translate(0 6.07875)scale(0.08 -0.08)\">\n       <defs>\n        <path d=\"M 2597 2516  Q 3050 2419 3304 2112  Q 3559 1806 3559 1356  Q 3559 666 3084 287  Q 2609 -91 1734 -91  Q 1441 -91 1130 -33  Q 819 25 488 141  L 488 750  Q 750 597 1062 519  Q 1375 441 1716 441  Q 2309 441 2620 675  Q 2931 909 2931 1356  Q 2931 1769 2642 2001  Q 2353 2234 1838 2234  L 1294 2234  L 1294 2753  L 1863 2753  Q 2328 2753 2575 2939  Q 2822 3125 2822 3475  Q 2822 3834 2567 4026  Q 2313 4219 1838 4219  Q 1578 4219 1281 4162  Q 984 4106 628 3988  L 628 4550  Q 988 4650 1302 4700  Q 1616 4750 1894 4750  Q 2613 4750 3031 4423  Q 3450 4097 3450 3541  Q 3450 3153 3228 2886  Q 3006 2619 2597 2516  z \" id=\"DejaVuSans-33\" transform=\"scale(0.015625)\" />\n        <path d=\"M 525 4666  L 3525 4666  L 3525 4397  L 1831 0  L 1172 0  L 2766 4134  L 525 4134  L 525 4666  z \" id=\"DejaVuSans-37\" transform=\"scale(0.015625)\" />\n       </defs>\n       <use xlink:href=\"#DejaVuSans-33\" />\n       <use x=\"63.623047\" xlink:href=\"#DejaVuSans-37\" />\n      </g>\n     </g>\n    </g>\n   </g>\n   <g id=\"patch_43\">\n    <path d=\"M 17.18 29.513401  L 17.18 1.715674  \" style=\"fill:none;stroke:#000000;stroke-linecap:square;stroke-linejoin:miter;stroke-width:0.3;\" />\n   </g>\n   <g id=\"patch_44\">\n    <path d=\"M 17.18 29.513401  L 201.32 29.513401  \" style=\"fill:none;stroke:#000000;stroke-linecap:square;stroke-linejoin:miter;stroke-width:0.3;\" />\n   </g>\n   <g id=\"text_6\">\n    \n    <g style=\"fill:#444443;\" transform=\"translate(99.905117 45.821401)scale(0.08 -0.08)\">\n     <defs>\n      <path d=\"M 2384 0  L 1822 0  L 1822 3584  Q 1619 3391 1289 3197  Q 959 3003 697 2906  L 697 3450  Q 1169 3672 1522 3987  Q 1875 4303 2022 4600  L 2384 4600  L 2384 0  z \" id=\"ArialMT-31\" transform=\"scale(0.015625)\" />\n      <path d=\"M 581 0  L 581 641  L 1222 641  L 1222 0  L 581 0  z \" id=\"ArialMT-2e\" transform=\"scale(0.015625)\" />\n      <path d=\"M 266 1200  L 856 1250  Q 922 819 1161 601  Q 1400 384 1738 384  Q 2144 384 2425 690  Q 2706 997 2706 1503  Q 2706 1984 2436 2262  Q 2166 2541 1728 2541  Q 1456 2541 1237 2417  Q 1019 2294 894 2097  L 366 2166  L 809 4519  L 3088 4519  L 3088 3981  L 1259 3981  L 1013 2750  Q 1425 3038 1878 3038  Q 2478 3038 2890 2622  Q 3303 2206 3303 1553  Q 3303 931 2941 478  Q 2500 -78 1738 -78  Q 1113 -78 717 272  Q 322 622 266 1200  z \" id=\"ArialMT-35\" transform=\"scale(0.015625)\" />\n      <path d=\"M 266 2259  Q 266 3072 433 3567  Q 600 4063 929 4331  Q 1259 4600 1759 4600  Q 2128 4600 2406 4451  Q 2684 4303 2865 4023  Q 3047 3744 3150 3342  Q 3253 2941 3253 2259  Q 3253 1453 3087 958  Q 2922 463 2592 192  Q 2263 -78 1759 -78  Q 1097 -78 719 397  Q 266 969 266 2259  z M 844 2259  Q 844 1131 1108 757  Q 1372 384 1759 384  Q 2147 384 2411 759  Q 2675 1134 2675 2259  Q 2675 3391 2411 3762  Q 2147 4134 1753 4134  Q 1366 4134 1134 3806  Q 844 3388 844 2259  z \" id=\"ArialMT-30\" transform=\"scale(0.015625)\" />\n     </defs>\n     <use xlink:href=\"#ArialMT-31\" />\n     <use x=\"55.615234\" xlink:href=\"#ArialMT-2e\" />\n     <use x=\"83.398438\" xlink:href=\"#ArialMT-35\" />\n     <use x=\"139.013672\" xlink:href=\"#ArialMT-30\" />\n    </g>\n   </g>\n   <g id=\"text_7\">\n    \n    <g style=\"fill:#444443;\" transform=\"translate(99.905117 45.821401)scale(0.08 -0.08)\">\n     <use xlink:href=\"#ArialMT-31\" />\n     <use x=\"55.615234\" xlink:href=\"#ArialMT-2e\" />\n     <use x=\"83.398438\" xlink:href=\"#ArialMT-35\" />\n     <use x=\"139.013672\" xlink:href=\"#ArialMT-30\" />\n    </g>\n   </g>\n  </g>\n </g>\n <defs>\n  <clipPath id=\"p4e4c00b7f0\">\n   <rect height=\"27.797727\" width=\"184.14\" x=\"17.18\" y=\"1.715674\" />\n  </clipPath>\n </defs>\n</svg></g>\n\n<g id=\"node2\" class=\"node\">\n<title>node5</title>\n<svg height=\"44px\" version=\"1.1\" viewBox=\"0 0 201.32 58.641964\" width=\"151px\" preserveAspectRatio=\"xMinYMin meet\" x=\"737\" y=\"-252.5\">\n <metadata>\n  <rdf:RDF>\n   <ns2:Work>\n    <dc:type rdf:resource=\"http://purl.org/dc/dcmitype/StillImage\" />\n    <dc:date>2022-06-06T19:39:02.016278</dc:date>\n    <dc:format>image/svg+xml</dc:format>\n    <dc:creator>\n     <ns2:Agent>\n      <dc:title>Matplotlib v3.4.3, https://matplotlib.org/</dc:title>\n     </ns2:Agent>\n    </dc:creator>\n   </ns2:Work>\n  </rdf:RDF>\n </metadata>\n <defs>\n  <style type=\"text/css\">*{stroke-linecap:butt;stroke-linejoin:round;}</style>\n </defs>\n <g id=\"figure_1\">\n  <g id=\"patch_1\">\n   <path d=\"M 0 58.641964  L 201.32 58.641964  L 201.32 0  L 0 0  z \" style=\"fill:none;\" />\n  </g>\n  <g id=\"axes_1\">\n   <g id=\"patch_2\">\n    <path d=\"M 17.18 28.925089  L 201.32 28.925089  L 201.32 1.745089  L 17.18 1.745089  z \" style=\"fill:#ffffff;\" />\n   </g>\n   <g id=\"patch_3\">\n    <path clip-path=\"url(#p2165a16440)\" d=\"M 29.664068 28.925089  L 37.87727 28.925089  L 37.87727 26.048899  L 29.664068 26.048899  z \" style=\"fill:#fefebb;stroke:#444443;stroke-linejoin:miter;stroke-width:0.5;\" />\n   </g>\n   <g id=\"patch_4\">\n    <path clip-path=\"url(#p2165a16440)\" d=\"M 37.87727 28.925089  L 46.090473 28.925089  L 46.090473 28.925089  L 37.87727 28.925089  z \" style=\"fill:#fefebb;stroke:#444443;stroke-linejoin:miter;stroke-width:0.5;\" />\n   </g>\n   <g id=\"patch_5\">\n    <path clip-path=\"url(#p2165a16440)\" d=\"M 46.090473 28.925089  L 54.303675 28.925089  L 54.303675 28.925089  L 46.090473 28.925089  z \" style=\"fill:#fefebb;stroke:#444443;stroke-linejoin:miter;stroke-width:0.5;\" />\n   </g>\n   <g id=\"patch_6\">\n    <path clip-path=\"url(#p2165a16440)\" d=\"M 54.303675 28.925089  L 62.516878 28.925089  L 62.516878 28.925089  L 54.303675 28.925089  z \" style=\"fill:#fefebb;stroke:#444443;stroke-linejoin:miter;stroke-width:0.5;\" />\n   </g>\n   <g id=\"patch_7\">\n    <path clip-path=\"url(#p2165a16440)\" d=\"M 62.516878 28.925089  L 70.73008 28.925089  L 70.73008 28.925089  L 62.516878 28.925089  z \" style=\"fill:#fefebb;stroke:#444443;stroke-linejoin:miter;stroke-width:0.5;\" />\n   </g>\n   <g id=\"patch_8\">\n    <path clip-path=\"url(#p2165a16440)\" d=\"M 70.73008 28.925089  L 78.943283 28.925089  L 78.943283 28.925089  L 70.73008 28.925089  z \" style=\"fill:#fefebb;stroke:#444443;stroke-linejoin:miter;stroke-width:0.5;\" />\n   </g>\n   <g id=\"patch_9\">\n    <path clip-path=\"url(#p2165a16440)\" d=\"M 78.943283 28.925089  L 87.156485 28.925089  L 87.156485 28.925089  L 78.943283 28.925089  z \" style=\"fill:#fefebb;stroke:#444443;stroke-linejoin:miter;stroke-width:0.5;\" />\n   </g>\n   <g id=\"patch_10\">\n    <path clip-path=\"url(#p2165a16440)\" d=\"M 87.156485 28.925089  L 95.369688 28.925089  L 95.369688 28.925089  L 87.156485 28.925089  z \" style=\"fill:#fefebb;stroke:#444443;stroke-linejoin:miter;stroke-width:0.5;\" />\n   </g>\n   <g id=\"patch_11\">\n    <path clip-path=\"url(#p2165a16440)\" d=\"M 95.369688 28.925089  L 103.58289 28.925089  L 103.58289 28.925089  L 95.369688 28.925089  z \" style=\"fill:#fefebb;stroke:#444443;stroke-linejoin:miter;stroke-width:0.5;\" />\n   </g>\n   <g id=\"patch_12\">\n    <path clip-path=\"url(#p2165a16440)\" d=\"M 103.58289 28.925089  L 111.796093 28.925089  L 111.796093 28.925089  L 103.58289 28.925089  z \" style=\"fill:#fefebb;stroke:#444443;stroke-linejoin:miter;stroke-width:0.5;\" />\n   </g>\n   <g id=\"patch_13\">\n    <path clip-path=\"url(#p2165a16440)\" d=\"M 111.796093 28.925089  L 120.009295 28.925089  L 120.009295 28.925089  L 111.796093 28.925089  z \" style=\"fill:#fefebb;stroke:#444443;stroke-linejoin:miter;stroke-width:0.5;\" />\n   </g>\n   <g id=\"patch_14\">\n    <path clip-path=\"url(#p2165a16440)\" d=\"M 120.009295 28.925089  L 128.222498 28.925089  L 128.222498 28.925089  L 120.009295 28.925089  z \" style=\"fill:#fefebb;stroke:#444443;stroke-linejoin:miter;stroke-width:0.5;\" />\n   </g>\n   <g id=\"patch_15\">\n    <path clip-path=\"url(#p2165a16440)\" d=\"M 128.222498 28.925089  L 136.4357 28.925089  L 136.4357 28.925089  L 128.222498 28.925089  z \" style=\"fill:#fefebb;stroke:#444443;stroke-linejoin:miter;stroke-width:0.5;\" />\n   </g>\n   <g id=\"patch_16\">\n    <path clip-path=\"url(#p2165a16440)\" d=\"M 136.4357 28.925089  L 144.648903 28.925089  L 144.648903 28.925089  L 136.4357 28.925089  z \" style=\"fill:#fefebb;stroke:#444443;stroke-linejoin:miter;stroke-width:0.5;\" />\n   </g>\n   <g id=\"patch_17\">\n    <path clip-path=\"url(#p2165a16440)\" d=\"M 144.648903 28.925089  L 152.862105 28.925089  L 152.862105 28.925089  L 144.648903 28.925089  z \" style=\"fill:#fefebb;stroke:#444443;stroke-linejoin:miter;stroke-width:0.5;\" />\n   </g>\n   <g id=\"patch_18\">\n    <path clip-path=\"url(#p2165a16440)\" d=\"M 152.862105 28.925089  L 161.075308 28.925089  L 161.075308 28.925089  L 152.862105 28.925089  z \" style=\"fill:#fefebb;stroke:#444443;stroke-linejoin:miter;stroke-width:0.5;\" />\n   </g>\n   <g id=\"patch_19\">\n    <path clip-path=\"url(#p2165a16440)\" d=\"M 161.075308 28.925089  L 169.28851 28.925089  L 169.28851 28.925089  L 161.075308 28.925089  z \" style=\"fill:#fefebb;stroke:#444443;stroke-linejoin:miter;stroke-width:0.5;\" />\n   </g>\n   <g id=\"patch_20\">\n    <path clip-path=\"url(#p2165a16440)\" d=\"M 169.28851 28.925089  L 177.501713 28.925089  L 177.501713 28.925089  L 169.28851 28.925089  z \" style=\"fill:#fefebb;stroke:#444443;stroke-linejoin:miter;stroke-width:0.5;\" />\n   </g>\n   <g id=\"patch_21\">\n    <path clip-path=\"url(#p2165a16440)\" d=\"M 177.501713 28.925089  L 185.714915 28.925089  L 185.714915 28.925089  L 177.501713 28.925089  z \" style=\"fill:#fefebb;stroke:#444443;stroke-linejoin:miter;stroke-width:0.5;\" />\n   </g>\n   <g id=\"patch_22\">\n    <path clip-path=\"url(#p2165a16440)\" d=\"M 29.664068 26.048899  L 37.87727 26.048899  L 37.87727 15.263185  L 29.664068 15.263185  z \" style=\"fill:#a1dab4;stroke:#444443;stroke-linejoin:miter;stroke-width:0.5;\" />\n   </g>\n   <g id=\"patch_23\">\n    <path clip-path=\"url(#p2165a16440)\" d=\"M 37.87727 28.925089  L 46.090473 28.925089  L 46.090473 28.925089  L 37.87727 28.925089  z \" style=\"fill:#a1dab4;stroke:#444443;stroke-linejoin:miter;stroke-width:0.5;\" />\n   </g>\n   <g id=\"patch_24\">\n    <path clip-path=\"url(#p2165a16440)\" d=\"M 46.090473 28.925089  L 54.303675 28.925089  L 54.303675 28.925089  L 46.090473 28.925089  z \" style=\"fill:#a1dab4;stroke:#444443;stroke-linejoin:miter;stroke-width:0.5;\" />\n   </g>\n   <g id=\"patch_25\">\n    <path clip-path=\"url(#p2165a16440)\" d=\"M 54.303675 28.925089  L 62.516878 28.925089  L 62.516878 28.925089  L 54.303675 28.925089  z \" style=\"fill:#a1dab4;stroke:#444443;stroke-linejoin:miter;stroke-width:0.5;\" />\n   </g>\n   <g id=\"patch_26\">\n    <path clip-path=\"url(#p2165a16440)\" d=\"M 62.516878 28.925089  L 70.73008 28.925089  L 70.73008 28.925089  L 62.516878 28.925089  z \" style=\"fill:#a1dab4;stroke:#444443;stroke-linejoin:miter;stroke-width:0.5;\" />\n   </g>\n   <g id=\"patch_27\">\n    <path clip-path=\"url(#p2165a16440)\" d=\"M 70.73008 28.925089  L 78.943283 28.925089  L 78.943283 28.925089  L 70.73008 28.925089  z \" style=\"fill:#a1dab4;stroke:#444443;stroke-linejoin:miter;stroke-width:0.5;\" />\n   </g>\n   <g id=\"patch_28\">\n    <path clip-path=\"url(#p2165a16440)\" d=\"M 78.943283 28.925089  L 87.156485 28.925089  L 87.156485 28.925089  L 78.943283 28.925089  z \" style=\"fill:#a1dab4;stroke:#444443;stroke-linejoin:miter;stroke-width:0.5;\" />\n   </g>\n   <g id=\"patch_29\">\n    <path clip-path=\"url(#p2165a16440)\" d=\"M 87.156485 28.925089  L 95.369688 28.925089  L 95.369688 28.925089  L 87.156485 28.925089  z \" style=\"fill:#a1dab4;stroke:#444443;stroke-linejoin:miter;stroke-width:0.5;\" />\n   </g>\n   <g id=\"patch_30\">\n    <path clip-path=\"url(#p2165a16440)\" d=\"M 95.369688 28.925089  L 103.58289 28.925089  L 103.58289 28.925089  L 95.369688 28.925089  z \" style=\"fill:#a1dab4;stroke:#444443;stroke-linejoin:miter;stroke-width:0.5;\" />\n   </g>\n   <g id=\"patch_31\">\n    <path clip-path=\"url(#p2165a16440)\" d=\"M 103.58289 28.925089  L 111.796093 28.925089  L 111.796093 28.925089  L 103.58289 28.925089  z \" style=\"fill:#a1dab4;stroke:#444443;stroke-linejoin:miter;stroke-width:0.5;\" />\n   </g>\n   <g id=\"patch_32\">\n    <path clip-path=\"url(#p2165a16440)\" d=\"M 111.796093 28.925089  L 120.009295 28.925089  L 120.009295 28.925089  L 111.796093 28.925089  z \" style=\"fill:#a1dab4;stroke:#444443;stroke-linejoin:miter;stroke-width:0.5;\" />\n   </g>\n   <g id=\"patch_33\">\n    <path clip-path=\"url(#p2165a16440)\" d=\"M 120.009295 28.925089  L 128.222498 28.925089  L 128.222498 28.925089  L 120.009295 28.925089  z \" style=\"fill:#a1dab4;stroke:#444443;stroke-linejoin:miter;stroke-width:0.5;\" />\n   </g>\n   <g id=\"patch_34\">\n    <path clip-path=\"url(#p2165a16440)\" d=\"M 128.222498 28.925089  L 136.4357 28.925089  L 136.4357 28.925089  L 128.222498 28.925089  z \" style=\"fill:#a1dab4;stroke:#444443;stroke-linejoin:miter;stroke-width:0.5;\" />\n   </g>\n   <g id=\"patch_35\">\n    <path clip-path=\"url(#p2165a16440)\" d=\"M 136.4357 28.925089  L 144.648903 28.925089  L 144.648903 28.925089  L 136.4357 28.925089  z \" style=\"fill:#a1dab4;stroke:#444443;stroke-linejoin:miter;stroke-width:0.5;\" />\n   </g>\n   <g id=\"patch_36\">\n    <path clip-path=\"url(#p2165a16440)\" d=\"M 144.648903 28.925089  L 152.862105 28.925089  L 152.862105 28.925089  L 144.648903 28.925089  z \" style=\"fill:#a1dab4;stroke:#444443;stroke-linejoin:miter;stroke-width:0.5;\" />\n   </g>\n   <g id=\"patch_37\">\n    <path clip-path=\"url(#p2165a16440)\" d=\"M 152.862105 28.925089  L 161.075308 28.925089  L 161.075308 28.925089  L 152.862105 28.925089  z \" style=\"fill:#a1dab4;stroke:#444443;stroke-linejoin:miter;stroke-width:0.5;\" />\n   </g>\n   <g id=\"patch_38\">\n    <path clip-path=\"url(#p2165a16440)\" d=\"M 161.075308 28.925089  L 169.28851 28.925089  L 169.28851 28.925089  L 161.075308 28.925089  z \" style=\"fill:#a1dab4;stroke:#444443;stroke-linejoin:miter;stroke-width:0.5;\" />\n   </g>\n   <g id=\"patch_39\">\n    <path clip-path=\"url(#p2165a16440)\" d=\"M 169.28851 28.925089  L 177.501713 28.925089  L 177.501713 28.925089  L 169.28851 28.925089  z \" style=\"fill:#a1dab4;stroke:#444443;stroke-linejoin:miter;stroke-width:0.5;\" />\n   </g>\n   <g id=\"patch_40\">\n    <path clip-path=\"url(#p2165a16440)\" d=\"M 177.501713 28.925089  L 185.714915 28.925089  L 185.714915 3.039375  L 177.501713 3.039375  z \" style=\"fill:#a1dab4;stroke:#444443;stroke-linejoin:miter;stroke-width:0.5;\" />\n   </g>\n   <g id=\"patch_41\">\n    <path d=\"M 107.689492 29.740489  L 104.374972 37.079089  L 111.004012 37.079089  z \" style=\"fill:#444443;\" />\n   </g>\n   <g id=\"matplotlib.axis_1\">\n    <g id=\"xtick_1\">\n     <g id=\"line2d_1\">\n      <defs>\n       <path d=\"M 0 0  L 0 3.5  \" id=\"m1949c15c8a\" style=\"stroke:#000000;stroke-width:0.3;\" />\n      </defs>\n      <g>\n       <use style=\"stroke:#000000;stroke-width:0.3;\" x=\"29.664068\" xlink:href=\"#m1949c15c8a\" y=\"28.925089\" />\n      </g>\n     </g>\n     <g id=\"text_1\">\n      \n      <g style=\"fill:#444443;\" transform=\"translate(27.119068 42.003839)scale(0.08 -0.08)\">\n       <defs>\n        <path d=\"M 794 531  L 1825 531  L 1825 4091  L 703 3866  L 703 4441  L 1819 4666  L 2450 4666  L 2450 531  L 3481 531  L 3481 0  L 794 0  L 794 531  z \" id=\"DejaVuSans-31\" transform=\"scale(0.015625)\" />\n       </defs>\n       <use xlink:href=\"#DejaVuSans-31\" />\n      </g>\n     </g>\n    </g>\n    <g id=\"xtick_2\">\n     <g id=\"line2d_2\">\n      <g>\n       <use style=\"stroke:#000000;stroke-width:0.3;\" x=\"185.714915\" xlink:href=\"#m1949c15c8a\" y=\"28.925089\" />\n      </g>\n     </g>\n     <g id=\"text_2\">\n      \n      <g style=\"fill:#444443;\" transform=\"translate(183.169915 42.003839)scale(0.08 -0.08)\">\n       <defs>\n        <path d=\"M 1228 531  L 3431 531  L 3431 0  L 469 0  L 469 531  Q 828 903 1448 1529  Q 2069 2156 2228 2338  Q 2531 2678 2651 2914  Q 2772 3150 2772 3378  Q 2772 3750 2511 3984  Q 2250 4219 1831 4219  Q 1534 4219 1204 4116  Q 875 4013 500 3803  L 500 4441  Q 881 4594 1212 4672  Q 1544 4750 1819 4750  Q 2544 4750 2975 4387  Q 3406 4025 3406 3419  Q 3406 3131 3298 2873  Q 3191 2616 2906 2266  Q 2828 2175 2409 1742  Q 1991 1309 1228 531  z \" id=\"DejaVuSans-32\" transform=\"scale(0.015625)\" />\n       </defs>\n       <use xlink:href=\"#DejaVuSans-32\" />\n      </g>\n     </g>\n    </g>\n    <g id=\"text_3\">\n     \n     <g style=\"fill:#444443;\" transform=\"translate(84.021875 56.256964)scale(0.12 -0.12)\">\n      <defs>\n       <path d=\"M 525 0  L 525 4581  L 3616 4581  L 3616 4041  L 1131 4041  L 1131 2622  L 3281 2622  L 3281 2081  L 1131 2081  L 1131 0  L 525 0  z \" id=\"ArialMT-46\" transform=\"scale(0.015625)\" />\n       <path d=\"M -9 0  L 1750 4581  L 2403 4581  L 4278 0  L 3588 0  L 3053 1388  L 1138 1388  L 634 0  L -9 0  z M 1313 1881  L 2866 1881  L 2388 3150  Q 2169 3728 2063 4100  Q 1975 3659 1816 3225  L 1313 1881  z \" id=\"ArialMT-41\" transform=\"scale(0.015625)\" />\n       <path d=\"M 1659 0  L 1659 4041  L 150 4041  L 150 4581  L 3781 4581  L 3781 4041  L 2266 4041  L 2266 0  L 1659 0  z \" id=\"ArialMT-54\" transform=\"scale(0.015625)\" />\n       <path d=\"M 597 0  L 597 4581  L 1203 4581  L 1203 0  L 597 0  z \" id=\"ArialMT-49\" transform=\"scale(0.015625)\" />\n       <path d=\"M 2638 1797  L 2638 2334  L 4578 2338  L 4578 638  Q 4131 281 3656 101  Q 3181 -78 2681 -78  Q 2006 -78 1454 211  Q 903 500 622 1047  Q 341 1594 341 2269  Q 341 2938 620 3517  Q 900 4097 1425 4378  Q 1950 4659 2634 4659  Q 3131 4659 3532 4498  Q 3934 4338 4162 4050  Q 4391 3763 4509 3300  L 3963 3150  Q 3859 3500 3706 3700  Q 3553 3900 3268 4020  Q 2984 4141 2638 4141  Q 2222 4141 1919 4014  Q 1616 3888 1430 3681  Q 1244 3475 1141 3228  Q 966 2803 966 2306  Q 966 1694 1177 1281  Q 1388 869 1791 669  Q 2194 469 2647 469  Q 3041 469 3416 620  Q 3791 772 3984 944  L 3984 1797  L 2638 1797  z \" id=\"ArialMT-47\" transform=\"scale(0.015625)\" />\n       <path d=\"M 3500 4581  L 4106 4581  L 4106 1934  Q 4106 1244 3950 837  Q 3794 431 3386 176  Q 2978 -78 2316 -78  Q 1672 -78 1262 144  Q 853 366 678 786  Q 503 1206 503 1934  L 503 4581  L 1109 4581  L 1109 1938  Q 1109 1341 1220 1058  Q 1331 775 1601 622  Q 1872 469 2263 469  Q 2931 469 3215 772  Q 3500 1075 3500 1938  L 3500 4581  z \" id=\"ArialMT-55\" transform=\"scale(0.015625)\" />\n       <path d=\"M 506 0  L 506 4581  L 3819 4581  L 3819 4041  L 1113 4041  L 1113 2638  L 3647 2638  L 3647 2100  L 1113 2100  L 1113 541  L 3925 541  L 3925 0  L 506 0  z \" id=\"ArialMT-45\" transform=\"scale(0.015625)\" />\n      </defs>\n      <use xlink:href=\"#ArialMT-46\" />\n      <use x=\"55.583984\" xlink:href=\"#ArialMT-41\" />\n      <use x=\"114.908203\" xlink:href=\"#ArialMT-54\" />\n      <use x=\"175.992188\" xlink:href=\"#ArialMT-49\" />\n      <use x=\"203.775391\" xlink:href=\"#ArialMT-47\" />\n      <use x=\"281.558594\" xlink:href=\"#ArialMT-55\" />\n      <use x=\"353.775391\" xlink:href=\"#ArialMT-45\" />\n     </g>\n    </g>\n   </g>\n   <g id=\"matplotlib.axis_2\">\n    <g id=\"ytick_1\">\n     <g id=\"line2d_3\">\n      <defs>\n       <path d=\"M 0 0  L -3.5 0  \" id=\"m90f74b5079\" style=\"stroke:#000000;stroke-width:0.3;\" />\n      </defs>\n      <g>\n       <use style=\"stroke:#000000;stroke-width:0.3;\" x=\"17.18\" xlink:href=\"#m90f74b5079\" y=\"28.925089\" />\n      </g>\n     </g>\n     <g id=\"text_4\">\n      \n      <g style=\"fill:#444443;\" transform=\"translate(5.09 31.964464)scale(0.08 -0.08)\">\n       <defs>\n        <path d=\"M 2034 4250  Q 1547 4250 1301 3770  Q 1056 3291 1056 2328  Q 1056 1369 1301 889  Q 1547 409 2034 409  Q 2525 409 2770 889  Q 3016 1369 3016 2328  Q 3016 3291 2770 3770  Q 2525 4250 2034 4250  z M 2034 4750  Q 2819 4750 3233 4129  Q 3647 3509 3647 2328  Q 3647 1150 3233 529  Q 2819 -91 2034 -91  Q 1250 -91 836 529  Q 422 1150 422 2328  Q 422 3509 836 4129  Q 1250 4750 2034 4750  z \" id=\"DejaVuSans-30\" transform=\"scale(0.015625)\" />\n       </defs>\n       <use xlink:href=\"#DejaVuSans-30\" />\n      </g>\n     </g>\n    </g>\n    <g id=\"ytick_2\">\n     <g id=\"line2d_4\">\n      <g>\n       <use style=\"stroke:#000000;stroke-width:0.3;\" x=\"17.18\" xlink:href=\"#m90f74b5079\" y=\"3.039375\" />\n      </g>\n     </g>\n     <g id=\"text_5\">\n      \n      <g style=\"fill:#444443;\" transform=\"translate(0 6.07875)scale(0.08 -0.08)\">\n       <defs>\n        <path d=\"M 2597 2516  Q 3050 2419 3304 2112  Q 3559 1806 3559 1356  Q 3559 666 3084 287  Q 2609 -91 1734 -91  Q 1441 -91 1130 -33  Q 819 25 488 141  L 488 750  Q 750 597 1062 519  Q 1375 441 1716 441  Q 2309 441 2620 675  Q 2931 909 2931 1356  Q 2931 1769 2642 2001  Q 2353 2234 1838 2234  L 1294 2234  L 1294 2753  L 1863 2753  Q 2328 2753 2575 2939  Q 2822 3125 2822 3475  Q 2822 3834 2567 4026  Q 2313 4219 1838 4219  Q 1578 4219 1281 4162  Q 984 4106 628 3988  L 628 4550  Q 988 4650 1302 4700  Q 1616 4750 1894 4750  Q 2613 4750 3031 4423  Q 3450 4097 3450 3541  Q 3450 3153 3228 2886  Q 3006 2619 2597 2516  z \" id=\"DejaVuSans-33\" transform=\"scale(0.015625)\" />\n        <path d=\"M 2113 2584  Q 1688 2584 1439 2293  Q 1191 2003 1191 1497  Q 1191 994 1439 701  Q 1688 409 2113 409  Q 2538 409 2786 701  Q 3034 994 3034 1497  Q 3034 2003 2786 2293  Q 2538 2584 2113 2584  z M 3366 4563  L 3366 3988  Q 3128 4100 2886 4159  Q 2644 4219 2406 4219  Q 1781 4219 1451 3797  Q 1122 3375 1075 2522  Q 1259 2794 1537 2939  Q 1816 3084 2150 3084  Q 2853 3084 3261 2657  Q 3669 2231 3669 1497  Q 3669 778 3244 343  Q 2819 -91 2113 -91  Q 1303 -91 875 529  Q 447 1150 447 2328  Q 447 3434 972 4092  Q 1497 4750 2381 4750  Q 2619 4750 2861 4703  Q 3103 4656 3366 4563  z \" id=\"DejaVuSans-36\" transform=\"scale(0.015625)\" />\n       </defs>\n       <use xlink:href=\"#DejaVuSans-33\" />\n       <use x=\"63.623047\" xlink:href=\"#DejaVuSans-36\" />\n      </g>\n     </g>\n    </g>\n   </g>\n   <g id=\"patch_42\">\n    <path d=\"M 17.18 28.925089  L 17.18 1.745089  \" style=\"fill:none;stroke:#000000;stroke-linecap:square;stroke-linejoin:miter;stroke-width:0.3;\" />\n   </g>\n   <g id=\"patch_43\">\n    <path d=\"M 17.18 28.925089  L 201.32 28.925089  \" style=\"fill:none;stroke:#000000;stroke-linecap:square;stroke-linejoin:miter;stroke-width:0.3;\" />\n   </g>\n   <g id=\"text_6\">\n    \n    <g style=\"fill:#444443;\" transform=\"translate(99.905117 45.233089)scale(0.08 -0.08)\">\n     <defs>\n      <path d=\"M 2384 0  L 1822 0  L 1822 3584  Q 1619 3391 1289 3197  Q 959 3003 697 2906  L 697 3450  Q 1169 3672 1522 3987  Q 1875 4303 2022 4600  L 2384 4600  L 2384 0  z \" id=\"ArialMT-31\" transform=\"scale(0.015625)\" />\n      <path d=\"M 581 0  L 581 641  L 1222 641  L 1222 0  L 581 0  z \" id=\"ArialMT-2e\" transform=\"scale(0.015625)\" />\n      <path d=\"M 266 1200  L 856 1250  Q 922 819 1161 601  Q 1400 384 1738 384  Q 2144 384 2425 690  Q 2706 997 2706 1503  Q 2706 1984 2436 2262  Q 2166 2541 1728 2541  Q 1456 2541 1237 2417  Q 1019 2294 894 2097  L 366 2166  L 809 4519  L 3088 4519  L 3088 3981  L 1259 3981  L 1013 2750  Q 1425 3038 1878 3038  Q 2478 3038 2890 2622  Q 3303 2206 3303 1553  Q 3303 931 2941 478  Q 2500 -78 1738 -78  Q 1113 -78 717 272  Q 322 622 266 1200  z \" id=\"ArialMT-35\" transform=\"scale(0.015625)\" />\n      <path d=\"M 266 2259  Q 266 3072 433 3567  Q 600 4063 929 4331  Q 1259 4600 1759 4600  Q 2128 4600 2406 4451  Q 2684 4303 2865 4023  Q 3047 3744 3150 3342  Q 3253 2941 3253 2259  Q 3253 1453 3087 958  Q 2922 463 2592 192  Q 2263 -78 1759 -78  Q 1097 -78 719 397  Q 266 969 266 2259  z M 844 2259  Q 844 1131 1108 757  Q 1372 384 1759 384  Q 2147 384 2411 759  Q 2675 1134 2675 2259  Q 2675 3391 2411 3762  Q 2147 4134 1753 4134  Q 1366 4134 1134 3806  Q 844 3388 844 2259  z \" id=\"ArialMT-30\" transform=\"scale(0.015625)\" />\n     </defs>\n     <use xlink:href=\"#ArialMT-31\" />\n     <use x=\"55.615234\" xlink:href=\"#ArialMT-2e\" />\n     <use x=\"83.398438\" xlink:href=\"#ArialMT-35\" />\n     <use x=\"139.013672\" xlink:href=\"#ArialMT-30\" />\n    </g>\n   </g>\n  </g>\n </g>\n <defs>\n  <clipPath id=\"p2165a16440\">\n   <rect height=\"27.18\" width=\"184.14\" x=\"17.18\" y=\"1.745089\" />\n  </clipPath>\n </defs>\n</svg></g>\n\n\n<g id=\"node7\" class=\"node\">\n<title>leaf3</title>\n<polygon fill=\"none\" stroke=\"#d67c03\" stroke-width=\"0.5\" stroke-dasharray=\"5,2\" points=\"663,-169 615,-169 615,-106 663,-106 663,-169\" />\n<svg height=\"55px\" version=\"1.1\" viewBox=\"0 0 53.755983 73.656197\" width=\"40px\" preserveAspectRatio=\"xMinYMin meet\" x=\"619\" y=\"-164.5\">\n <metadata>\n  <rdf:RDF>\n   <ns2:Work>\n    <dc:type rdf:resource=\"http://purl.org/dc/dcmitype/StillImage\" />\n    <dc:date>2022-06-06T19:39:02.777337</dc:date>\n    <dc:format>image/svg+xml</dc:format>\n    <dc:creator>\n     <ns2:Agent>\n      <dc:title>Matplotlib v3.4.3, https://matplotlib.org/</dc:title>\n     </ns2:Agent>\n    </dc:creator>\n   </ns2:Work>\n  </rdf:RDF>\n </metadata>\n <defs>\n  <style type=\"text/css\">*{stroke-linecap:butt;stroke-linejoin:round;}</style>\n </defs>\n <g id=\"figure_1\">\n  <g id=\"patch_1\">\n   <path d=\"M 0 73.656197  L 53.755983 73.656197  L 53.755983 0  L 0 0  z \" style=\"fill:none;\" />\n  </g>\n  <g id=\"axes_1\">\n   <g id=\"patch_2\">\n    <path d=\"M 53.755983 26.877989  C 53.755983 23.060173 52.942545 19.28581 51.369982 15.806907  C 49.79742 12.328005 47.501527 9.223753 44.635599 6.701419  C 41.769671 4.179085 38.398943 2.296083 34.748475 1.17814  C 31.098007 0.060196 27.250893 -0.267242 23.464 0.217688  C 19.677107 0.702619 16.036635 1.988879 12.785654 3.990587  C 9.534673 5.992295 6.747183 8.663887 4.609302 11.826984  C 2.471421 14.990081 1.031814 18.572681 0.386599 22.335581  C -0.258615 26.098481 -0.094749 29.956025 0.867256 33.650651  L 26.877983 26.877989  L 53.755983 26.877989  z \" style=\"fill:#fefebb;stroke:#444443;stroke-linejoin:miter;stroke-width:0.5;\" />\n   </g>\n   <g id=\"patch_3\">\n    <path d=\"M 0.867256 33.650651  C 2.514037 39.975192 6.41232 45.486998 11.826977 49.146669  C 17.241635 52.80634 23.809478 54.368403 30.291963 53.538289  C 36.774449 52.708175 42.736763 49.541565 47.05455 44.635607  C 51.372337 39.72965 53.755982 33.413413 53.755983 26.877994  L 26.877983 26.877989  L 0.867256 33.650651  z \" style=\"fill:#a1dab4;stroke:#444443;stroke-linejoin:miter;stroke-width:0.5;\" />\n   </g>\n   <g id=\"text_1\">\n    \n    <g style=\"fill:#444443;\" transform=\"translate(16.742436 62.34826)scale(0.09 -0.09)\">\n     <defs>\n      <path d=\"M 422 0  L 422 3319  L 928 3319  L 928 2847  Q 1294 3394 1984 3394  Q 2284 3394 2536 3286  Q 2788 3178 2913 3003  Q 3038 2828 3088 2588  Q 3119 2431 3119 2041  L 3119 0  L 2556 0  L 2556 2019  Q 2556 2363 2490 2533  Q 2425 2703 2258 2804  Q 2091 2906 1866 2906  Q 1506 2906 1245 2678  Q 984 2450 984 1813  L 984 0  L 422 0  z \" id=\"ArialMT-6e\" transform=\"scale(0.015625)\" />\n      <path d=\"M 3381 2694  L 356 2694  L 356 3219  L 3381 3219  L 3381 2694  z M 3381 1303  L 356 1303  L 356 1828  L 3381 1828  L 3381 1303  z \" id=\"ArialMT-3d\" transform=\"scale(0.015625)\" />\n      <path d=\"M 269 1209  L 831 1284  Q 928 806 1161 595  Q 1394 384 1728 384  Q 2125 384 2398 659  Q 2672 934 2672 1341  Q 2672 1728 2419 1979  Q 2166 2231 1775 2231  Q 1616 2231 1378 2169  L 1441 2663  Q 1497 2656 1531 2656  Q 1891 2656 2178 2843  Q 2466 3031 2466 3422  Q 2466 3731 2256 3934  Q 2047 4138 1716 4138  Q 1388 4138 1169 3931  Q 950 3725 888 3313  L 325 3413  Q 428 3978 793 4289  Q 1159 4600 1703 4600  Q 2078 4600 2393 4439  Q 2709 4278 2876 4000  Q 3044 3722 3044 3409  Q 3044 3113 2884 2869  Q 2725 2625 2413 2481  Q 2819 2388 3044 2092  Q 3269 1797 3269 1353  Q 3269 753 2831 336  Q 2394 -81 1725 -81  Q 1122 -81 723 278  Q 325 638 269 1209  z \" id=\"ArialMT-33\" transform=\"scale(0.015625)\" />\n      <path d=\"M 303 3981  L 303 4522  L 3269 4522  L 3269 4084  Q 2831 3619 2401 2847  Q 1972 2075 1738 1259  Q 1569 684 1522 0  L 944 0  Q 953 541 1156 1306  Q 1359 2072 1739 2783  Q 2119 3494 2547 3981  L 303 3981  z \" id=\"ArialMT-37\" transform=\"scale(0.015625)\" />\n     </defs>\n     <use xlink:href=\"#ArialMT-6e\" />\n     <use x=\"55.615234\" xlink:href=\"#ArialMT-3d\" />\n     <use x=\"114.013672\" xlink:href=\"#ArialMT-33\" />\n     <use x=\"169.628906\" xlink:href=\"#ArialMT-37\" />\n    </g>\n    \n    <g style=\"fill:#444443;\" transform=\"translate(24.375561 71.867447)scale(0.09 -0.09)\">\n     <defs>\n      <path d=\"M 3222 541  L 3222 0  L 194 0  Q 188 203 259 391  Q 375 700 629 1000  Q 884 1300 1366 1694  Q 2113 2306 2375 2664  Q 2638 3022 2638 3341  Q 2638 3675 2398 3904  Q 2159 4134 1775 4134  Q 1369 4134 1125 3890  Q 881 3647 878 3216  L 300 3275  Q 359 3922 746 4261  Q 1134 4600 1788 4600  Q 2447 4600 2831 4234  Q 3216 3869 3216 3328  Q 3216 3053 3103 2787  Q 2991 2522 2730 2228  Q 2469 1934 1863 1422  Q 1356 997 1212 845  Q 1069 694 975 541  L 3222 541  z \" id=\"ArialMT-32\" transform=\"scale(0.015625)\" />\n     </defs>\n     <use xlink:href=\"#ArialMT-32\" />\n    </g>\n   </g>\n  </g>\n </g>\n</svg></g>\n\n<g id=\"edge1\" class=\"edge\">\n<title>node2-&gt;leaf3</title>\n<path fill=\"none\" stroke=\"#d67c03\" stroke-width=\"1.2\" d=\"M639,-203.67C639,-194.29 639,-183.53 639,-173.49\" />\n<polygon fill=\"#d67c03\" stroke=\"#d67c03\" stroke-width=\"1.2\" points=\"640.4,-173.24 639,-169.24 637.6,-173.24 640.4,-173.24\" />\n</g>\n\n<g id=\"node8\" class=\"node\">\n<title>leaf4</title>\n<polygon fill=\"none\" stroke=\"#444443\" stroke-width=\"0\" points=\"705.5,-159 676.5,-159 676.5,-116 705.5,-116 705.5,-159\" />\n<svg height=\"35px\" version=\"1.1\" viewBox=\"0 0 27.179999 46.017168\" width=\"21px\" preserveAspectRatio=\"xMinYMin meet\" x=\"681\" y=\"-154.5\">\n <metadata>\n  <rdf:RDF>\n   <ns2:Work>\n    <dc:type rdf:resource=\"http://purl.org/dc/dcmitype/StillImage\" />\n    <dc:date>2022-06-06T19:39:02.828340</dc:date>\n    <dc:format>image/svg+xml</dc:format>\n    <dc:creator>\n     <ns2:Agent>\n      <dc:title>Matplotlib v3.4.3, https://matplotlib.org/</dc:title>\n     </ns2:Agent>\n    </dc:creator>\n   </ns2:Work>\n  </rdf:RDF>\n </metadata>\n <defs>\n  <style type=\"text/css\">*{stroke-linecap:butt;stroke-linejoin:round;}</style>\n </defs>\n <g id=\"figure_1\">\n  <g id=\"patch_1\">\n   <path d=\"M 0 46.017168  L 27.179999 46.017168  L 27.179999 0  L 0 0  z \" style=\"fill:none;\" />\n  </g>\n  <g id=\"axes_1\">\n   <g id=\"patch_2\">\n    <path d=\"M 27.179999 13.59  C 27.179999 11.685569 26.779684 9.802233 26.005082 8.062448  C 25.23048 6.322664 24.098752 4.764974 22.683484 3.490661  L 13.589999 13.59  L 27.179999 13.59  z \" style=\"fill:#fefebb;stroke:#444443;stroke-linejoin:miter;stroke-width:0.5;\" />\n   </g>\n   <g id=\"patch_3\">\n    <path d=\"M 22.683484 3.490661  C 21.534992 2.456555 20.218474 1.625894 18.790666 1.034477  C 17.362859 0.443059 15.844574 0.099507 14.301244 0.018624  C 12.757915 -0.062258 11.212035 0.120709 9.73023 0.55964  C 8.248424 0.998571 6.85229 1.687068 5.601997 2.595459  C 4.351704 3.50385 3.265475 4.618896 2.390124 5.89254  C 1.514773 7.166183 0.863058 8.579862 0.463067 10.07265  C 0.063076 11.565437 -0.079362 13.115576 0.041893 14.65626  C 0.163147 16.196943 0.546326 17.705715 1.174917 19.117551  C 1.803507 20.529388 2.668346 21.823711 3.732162 22.944739  C 4.795978 24.065767 6.043265 24.99716 7.420269 25.698779  C 8.797273 26.400397 10.283923 26.862014 11.816149 27.063735  C 13.348375 27.265457 14.903844 27.204342 16.41552 26.883025  C 17.927196 26.561709 19.373045 25.984873 20.690756 25.177379  C 22.008466 24.369885 23.178832 23.343501 24.151413 22.142463  C 25.123995 20.941424 25.884617 19.583237 26.400497 18.126434  C 26.916378 16.669631 27.179999 15.135446 27.179999 13.589998  L 13.589999 13.59  L 22.683484 3.490661  z \" style=\"fill:#a1dab4;stroke:#444443;stroke-linejoin:miter;stroke-width:0.5;\" />\n   </g>\n   <g id=\"text_1\">\n    \n    <g style=\"fill:#444443;\" transform=\"translate(3.454452 34.709231)scale(0.09 -0.09)\">\n     <defs>\n      <path d=\"M 422 0  L 422 3319  L 928 3319  L 928 2847  Q 1294 3394 1984 3394  Q 2284 3394 2536 3286  Q 2788 3178 2913 3003  Q 3038 2828 3088 2588  Q 3119 2431 3119 2041  L 3119 0  L 2556 0  L 2556 2019  Q 2556 2363 2490 2533  Q 2425 2703 2258 2804  Q 2091 2906 1866 2906  Q 1506 2906 1245 2678  Q 984 2450 984 1813  L 984 0  L 422 0  z \" id=\"ArialMT-6e\" transform=\"scale(0.015625)\" />\n      <path d=\"M 3381 2694  L 356 2694  L 356 3219  L 3381 3219  L 3381 2694  z M 3381 1303  L 356 1303  L 356 1828  L 3381 1828  L 3381 1303  z \" id=\"ArialMT-3d\" transform=\"scale(0.015625)\" />\n      <path d=\"M 2384 0  L 1822 0  L 1822 3584  Q 1619 3391 1289 3197  Q 959 3003 697 2906  L 697 3450  Q 1169 3672 1522 3987  Q 1875 4303 2022 4600  L 2384 4600  L 2384 0  z \" id=\"ArialMT-31\" transform=\"scale(0.015625)\" />\n      <path d=\"M 266 1200  L 856 1250  Q 922 819 1161 601  Q 1400 384 1738 384  Q 2144 384 2425 690  Q 2706 997 2706 1503  Q 2706 1984 2436 2262  Q 2166 2541 1728 2541  Q 1456 2541 1237 2417  Q 1019 2294 894 2097  L 366 2166  L 809 4519  L 3088 4519  L 3088 3981  L 1259 3981  L 1013 2750  Q 1425 3038 1878 3038  Q 2478 3038 2890 2622  Q 3303 2206 3303 1553  Q 3303 931 2941 478  Q 2500 -78 1738 -78  Q 1113 -78 717 272  Q 322 622 266 1200  z \" id=\"ArialMT-35\" transform=\"scale(0.015625)\" />\n     </defs>\n     <use xlink:href=\"#ArialMT-6e\" />\n     <use x=\"55.615234\" xlink:href=\"#ArialMT-3d\" />\n     <use x=\"114.013672\" xlink:href=\"#ArialMT-31\" />\n     <use x=\"169.628906\" xlink:href=\"#ArialMT-35\" />\n    </g>\n    \n    <g style=\"fill:#444443;\" transform=\"translate(11.087577 44.228418)scale(0.09 -0.09)\">\n     <use xlink:href=\"#ArialMT-31\" />\n    </g>\n   </g>\n  </g>\n </g>\n</svg></g>\n\n<g id=\"edge2\" class=\"edge\">\n<title>node2-&gt;leaf4</title>\n<path fill=\"none\" stroke=\"#444443\" stroke-width=\"0.3\" d=\"M653.76,-203.67C661.12,-190.79 669.96,-175.32 677.18,-162.68\" />\n<polygon fill=\"#444443\" stroke=\"#444443\" stroke-width=\"0.3\" points=\"678.4,-163.37 679.17,-159.2 675.97,-161.98 678.4,-163.37\" />\n</g>\n\n<g id=\"node9\" class=\"node\">\n<title>leaf6</title>\n<polygon fill=\"none\" stroke=\"#444443\" stroke-width=\"0\" points=\"811,-161 779,-161 779,-114 811,-114 811,-161\" />\n<svg height=\"39px\" version=\"1.1\" viewBox=\"0 0 32.012 51.042448\" width=\"24px\" preserveAspectRatio=\"xMinYMin meet\" x=\"783\" y=\"-156.5\">\n <metadata>\n  <rdf:RDF>\n   <ns2:Work>\n    <dc:type rdf:resource=\"http://purl.org/dc/dcmitype/StillImage\" />\n    <dc:date>2022-06-06T19:39:02.896342</dc:date>\n    <dc:format>image/svg+xml</dc:format>\n    <dc:creator>\n     <ns2:Agent>\n      <dc:title>Matplotlib v3.4.3, https://matplotlib.org/</dc:title>\n     </ns2:Agent>\n    </dc:creator>\n   </ns2:Work>\n  </rdf:RDF>\n </metadata>\n <defs>\n  <style type=\"text/css\">*{stroke-linecap:butt;stroke-linejoin:round;}</style>\n </defs>\n <g id=\"figure_1\">\n  <g id=\"patch_1\">\n   <path d=\"M 0 51.042448  L 32.012 51.042448  L 32.012 0  L 0 0  z \" style=\"fill:none;\" />\n  </g>\n  <g id=\"axes_1\">\n   <g id=\"patch_2\">\n    <path d=\"M 32.012 16.006  C 32.012 12.445441 30.823923 8.984691 28.636983 6.174911  C 26.450043 3.36513 23.386846 1.363844 19.93524 0.489779  L 16.006 16.006  L 32.012 16.006  z \" style=\"fill:#fefebb;stroke:#444443;stroke-linejoin:miter;stroke-width:0.5;\" />\n   </g>\n   <g id=\"patch_3\">\n    <path d=\"M 19.93524 0.489779  C 18.328561 0.082912 16.668391 -0.071943 15.014181 0.030758  C 13.359971 0.133459 11.731705 0.492476 10.187691 1.094953  C 8.643676 1.697429 7.202567 2.536087 5.915967 3.580893  C 4.629368 4.625699 3.512822 5.864032 2.606313 7.251548  C 1.699804 8.639064 1.014283 10.158999 0.574298 11.756927  C 0.134314 13.354854 -0.054819 15.011469 0.013673 16.667448  C 0.082165 18.323428 0.407454 19.958766 0.977892 21.514902  C 1.548329 23.071038 2.357025 24.529172 3.375018 25.837089  C 4.393011 27.145007 5.608004 28.286907 6.976489 29.221898  C 8.344973 30.156889 9.850417 30.873676 11.43891 31.34659  C 13.027403 31.819505 14.679755 32.042834 16.336796 32.008581  C 17.993837 31.974327 19.635549 31.682905 21.203142 31.14475  C 22.770734 30.606594 24.245271 29.828207 25.573947 28.837461  C 26.902624 27.846716 28.06939 26.655582 29.032464 25.306713  C 29.995538 23.957844 30.743284 22.467536 31.248927 20.889155  C 31.75457 19.310775 32.012 17.663392 32.012 16.005997  L 16.006 16.006  L 19.93524 0.489779  z \" style=\"fill:#a1dab4;stroke:#444443;stroke-linejoin:miter;stroke-width:0.5;\" />\n   </g>\n   <g id=\"text_1\">\n    \n    <g style=\"fill:#444443;\" transform=\"translate(5.870453 39.734511)scale(0.09 -0.09)\">\n     <defs>\n      <path d=\"M 422 0  L 422 3319  L 928 3319  L 928 2847  Q 1294 3394 1984 3394  Q 2284 3394 2536 3286  Q 2788 3178 2913 3003  Q 3038 2828 3088 2588  Q 3119 2431 3119 2041  L 3119 0  L 2556 0  L 2556 2019  Q 2556 2363 2490 2533  Q 2425 2703 2258 2804  Q 2091 2906 1866 2906  Q 1506 2906 1245 2678  Q 984 2450 984 1813  L 984 0  L 422 0  z \" id=\"ArialMT-6e\" transform=\"scale(0.015625)\" />\n      <path d=\"M 3381 2694  L 356 2694  L 356 3219  L 3381 3219  L 3381 2694  z M 3381 1303  L 356 1303  L 356 1828  L 3381 1828  L 3381 1303  z \" id=\"ArialMT-3d\" transform=\"scale(0.015625)\" />\n      <path d=\"M 2384 0  L 1822 0  L 1822 3584  Q 1619 3391 1289 3197  Q 959 3003 697 2906  L 697 3450  Q 1169 3672 1522 3987  Q 1875 4303 2022 4600  L 2384 4600  L 2384 0  z \" id=\"ArialMT-31\" transform=\"scale(0.015625)\" />\n      <path d=\"M 350 1059  L 891 1109  Q 959 728 1153 556  Q 1347 384 1650 384  Q 1909 384 2104 503  Q 2300 622 2425 820  Q 2550 1019 2634 1356  Q 2719 1694 2719 2044  Q 2719 2081 2716 2156  Q 2547 1888 2255 1720  Q 1963 1553 1622 1553  Q 1053 1553 659 1965  Q 266 2378 266 3053  Q 266 3750 677 4175  Q 1088 4600 1706 4600  Q 2153 4600 2523 4359  Q 2894 4119 3086 3673  Q 3278 3228 3278 2384  Q 3278 1506 3087 986  Q 2897 466 2520 194  Q 2144 -78 1638 -78  Q 1100 -78 759 220  Q 419 519 350 1059  z M 2653 3081  Q 2653 3566 2395 3850  Q 2138 4134 1775 4134  Q 1400 4134 1122 3828  Q 844 3522 844 3034  Q 844 2597 1108 2323  Q 1372 2050 1759 2050  Q 2150 2050 2401 2323  Q 2653 2597 2653 3081  z \" id=\"ArialMT-39\" transform=\"scale(0.015625)\" />\n     </defs>\n     <use xlink:href=\"#ArialMT-6e\" />\n     <use x=\"55.615234\" xlink:href=\"#ArialMT-3d\" />\n     <use x=\"114.013672\" xlink:href=\"#ArialMT-31\" />\n     <use x=\"169.628906\" xlink:href=\"#ArialMT-39\" />\n    </g>\n    \n    <g style=\"fill:#444443;\" transform=\"translate(13.503578 49.253698)scale(0.09 -0.09)\">\n     <use xlink:href=\"#ArialMT-31\" />\n    </g>\n   </g>\n  </g>\n </g>\n</svg></g>\n\n<g id=\"edge4\" class=\"edge\">\n<title>node5-&gt;leaf6</title>\n<path fill=\"none\" stroke=\"#444443\" stroke-width=\"0.3\" d=\"M807.26,-204.15C805,-192.06 802.3,-177.58 800.01,-165.3\" />\n<polygon fill=\"#444443\" stroke=\"#444443\" stroke-width=\"0.3\" points=\"801.36,-164.9 799.25,-161.23 798.6,-165.42 801.36,-164.9\" />\n</g>\n\n<g id=\"node10\" class=\"node\">\n<title>leaf7</title>\n<polygon fill=\"none\" stroke=\"#444443\" stroke-width=\"0\" points=\"871.5,-168.5 824.5,-168.5 824.5,-106.5 871.5,-106.5 871.5,-168.5\" />\n<svg height=\"54px\" version=\"1.1\" viewBox=\"0 0 52.548 72.399889\" width=\"39px\" preserveAspectRatio=\"xMinYMin meet\" x=\"829\" y=\"-164.5\">\n <metadata>\n  <rdf:RDF>\n   <ns2:Work>\n    <dc:type rdf:resource=\"http://purl.org/dc/dcmitype/StillImage\" />\n    <dc:date>2022-06-06T19:39:02.970350</dc:date>\n    <dc:format>image/svg+xml</dc:format>\n    <dc:creator>\n     <ns2:Agent>\n      <dc:title>Matplotlib v3.4.3, https://matplotlib.org/</dc:title>\n     </ns2:Agent>\n    </dc:creator>\n   </ns2:Work>\n  </rdf:RDF>\n </metadata>\n <defs>\n  <style type=\"text/css\">*{stroke-linecap:butt;stroke-linejoin:round;}</style>\n </defs>\n <g id=\"figure_1\">\n  <g id=\"patch_1\">\n   <path d=\"M 0 72.399889  L 52.548 72.399889  L 52.548 0  L 0 0  z \" style=\"fill:none;\" />\n  </g>\n  <g id=\"axes_1\">\n   <g id=\"patch_2\">\n    <path d=\"M 52.548 26.274  C 52.548 22.82373 51.868372 19.407009 50.548011 16.219375  C 49.22765 13.031742 47.292233 10.135186 44.852524 7.695476  C 42.412814 5.255767 39.516258 3.32035 36.328625 1.999989  C 33.140991 0.679628 29.72427 0 26.274 0  C 22.82373 0 19.407009 0.679628 16.219375 1.999989  C 13.031742 3.32035 10.135186 5.255767 7.695476 7.695476  C 5.255767 10.135186 3.32035 13.031742 1.999989 16.219375  C 0.679628 19.407009 0 22.82373 0 26.274  C 0 29.72427 0.679628 33.140991 1.999989 36.328625  C 3.32035 39.516258 5.255767 42.412814 7.695476 44.852524  C 10.135186 47.292233 13.031742 49.22765 16.219375 50.548011  C 19.407009 51.868372 22.82373 52.548 26.274 52.548  C 29.72427 52.548 33.140991 51.868372 36.328625 50.548011  C 39.516258 49.22765 42.412814 47.292233 44.852524 44.852524  C 47.292233 42.412814 49.22765 39.516258 50.548011 36.328625  C 51.868372 33.140991 52.548 29.72427 52.548 26.274  M 26.274 26.274  M 52.548 26.274  z \" style=\"fill:#a1dab4;stroke:#444443;stroke-linejoin:miter;stroke-width:0.5;\" />\n   </g>\n   <g id=\"text_1\">\n    \n    <g style=\"fill:#444443;\" transform=\"translate(16.138453 61.091951)scale(0.09 -0.09)\">\n     <defs>\n      <path d=\"M 422 0  L 422 3319  L 928 3319  L 928 2847  Q 1294 3394 1984 3394  Q 2284 3394 2536 3286  Q 2788 3178 2913 3003  Q 3038 2828 3088 2588  Q 3119 2431 3119 2041  L 3119 0  L 2556 0  L 2556 2019  Q 2556 2363 2490 2533  Q 2425 2703 2258 2804  Q 2091 2906 1866 2906  Q 1506 2906 1245 2678  Q 984 2450 984 1813  L 984 0  L 422 0  z \" id=\"ArialMT-6e\" transform=\"scale(0.015625)\" />\n      <path d=\"M 3381 2694  L 356 2694  L 356 3219  L 3381 3219  L 3381 2694  z M 3381 1303  L 356 1303  L 356 1828  L 3381 1828  L 3381 1303  z \" id=\"ArialMT-3d\" transform=\"scale(0.015625)\" />\n      <path d=\"M 269 1209  L 831 1284  Q 928 806 1161 595  Q 1394 384 1728 384  Q 2125 384 2398 659  Q 2672 934 2672 1341  Q 2672 1728 2419 1979  Q 2166 2231 1775 2231  Q 1616 2231 1378 2169  L 1441 2663  Q 1497 2656 1531 2656  Q 1891 2656 2178 2843  Q 2466 3031 2466 3422  Q 2466 3731 2256 3934  Q 2047 4138 1716 4138  Q 1388 4138 1169 3931  Q 950 3725 888 3313  L 325 3413  Q 428 3978 793 4289  Q 1159 4600 1703 4600  Q 2078 4600 2393 4439  Q 2709 4278 2876 4000  Q 3044 3722 3044 3409  Q 3044 3113 2884 2869  Q 2725 2625 2413 2481  Q 2819 2388 3044 2092  Q 3269 1797 3269 1353  Q 3269 753 2831 336  Q 2394 -81 1725 -81  Q 1122 -81 723 278  Q 325 638 269 1209  z \" id=\"ArialMT-33\" transform=\"scale(0.015625)\" />\n      <path d=\"M 3184 3459  L 2625 3416  Q 2550 3747 2413 3897  Q 2184 4138 1850 4138  Q 1581 4138 1378 3988  Q 1113 3794 959 3422  Q 806 3050 800 2363  Q 1003 2672 1297 2822  Q 1591 2972 1913 2972  Q 2475 2972 2870 2558  Q 3266 2144 3266 1488  Q 3266 1056 3080 686  Q 2894 316 2569 119  Q 2244 -78 1831 -78  Q 1128 -78 684 439  Q 241 956 241 2144  Q 241 3472 731 4075  Q 1159 4600 1884 4600  Q 2425 4600 2770 4297  Q 3116 3994 3184 3459  z M 888 1484  Q 888 1194 1011 928  Q 1134 663 1356 523  Q 1578 384 1822 384  Q 2178 384 2434 671  Q 2691 959 2691 1453  Q 2691 1928 2437 2201  Q 2184 2475 1800 2475  Q 1419 2475 1153 2201  Q 888 1928 888 1484  z \" id=\"ArialMT-36\" transform=\"scale(0.015625)\" />\n     </defs>\n     <use xlink:href=\"#ArialMT-6e\" />\n     <use x=\"55.615234\" xlink:href=\"#ArialMT-3d\" />\n     <use x=\"114.013672\" xlink:href=\"#ArialMT-33\" />\n     <use x=\"169.628906\" xlink:href=\"#ArialMT-36\" />\n    </g>\n    \n    <g style=\"fill:#444443;\" transform=\"translate(23.771578 70.611139)scale(0.09 -0.09)\">\n     <defs>\n      <path d=\"M 2384 0  L 1822 0  L 1822 3584  Q 1619 3391 1289 3197  Q 959 3003 697 2906  L 697 3450  Q 1169 3672 1522 3987  Q 1875 4303 2022 4600  L 2384 4600  L 2384 0  z \" id=\"ArialMT-31\" transform=\"scale(0.015625)\" />\n     </defs>\n     <use xlink:href=\"#ArialMT-31\" />\n    </g>\n   </g>\n  </g>\n </g>\n</svg></g>\n\n<g id=\"edge5\" class=\"edge\">\n<title>node5-&gt;leaf7</title>\n<path fill=\"none\" stroke=\"#444443\" stroke-width=\"0.3\" d=\"M822.03,-204.15C825.92,-194.32 830.43,-182.9 834.6,-172.38\" />\n<polygon fill=\"#444443\" stroke=\"#444443\" stroke-width=\"0.3\" points=\"835.94,-172.79 836.11,-168.55 833.34,-171.76 835.94,-172.79\" />\n</g>\n\n<g id=\"node3\" class=\"node\">\n<title>node1</title>\n<polygon fill=\"none\" stroke=\"#d67c03\" stroke-width=\"0.5\" stroke-dasharray=\"5,2\" points=\"884.5,-351 725.5,-351 725.5,-291 884.5,-291 884.5,-351\" />\n<svg height=\"52px\" version=\"1.1\" viewBox=\"0 0 201.32 69.819886\" width=\"151px\" preserveAspectRatio=\"xMinYMin meet\" x=\"730\" y=\"-347\">\n <metadata>\n  <rdf:RDF>\n   <ns2:Work>\n    <dc:type rdf:resource=\"http://purl.org/dc/dcmitype/StillImage\" />\n    <dc:date>2022-06-06T19:39:02.175287</dc:date>\n    <dc:format>image/svg+xml</dc:format>\n    <dc:creator>\n     <ns2:Agent>\n      <dc:title>Matplotlib v3.4.3, https://matplotlib.org/</dc:title>\n     </ns2:Agent>\n    </dc:creator>\n   </ns2:Work>\n  </rdf:RDF>\n </metadata>\n <defs>\n  <style type=\"text/css\">*{stroke-linecap:butt;stroke-linejoin:round;}</style>\n </defs>\n <g id=\"figure_1\">\n  <g id=\"patch_1\">\n   <path d=\"M 0 69.819886  L 201.32 69.819886  L 201.32 -0  L 0 -0  z \" style=\"fill:none;\" />\n  </g>\n  <g id=\"axes_1\">\n   <g id=\"patch_2\">\n    <path d=\"M 17.18 40.103011  L 201.32 40.103011  L 201.32 1.186193  L 17.18 1.186193  z \" style=\"fill:#ffffff;\" />\n   </g>\n   <g id=\"patch_3\">\n    <path clip-path=\"url(#pd162517374)\" d=\"M 29.664068 40.103011  L 37.87727 40.103011  L 37.87727 25.277557  L 29.664068 25.277557  z \" style=\"fill:#fefebb;stroke:#444443;stroke-linejoin:miter;stroke-width:0.5;\" />\n   </g>\n   <g id=\"patch_4\">\n    <path clip-path=\"url(#pd162517374)\" d=\"M 37.87727 40.103011  L 46.090473 40.103011  L 46.090473 40.103011  L 37.87727 40.103011  z \" style=\"fill:#fefebb;stroke:#444443;stroke-linejoin:miter;stroke-width:0.5;\" />\n   </g>\n   <g id=\"patch_5\">\n    <path clip-path=\"url(#pd162517374)\" d=\"M 46.090473 40.103011  L 54.303675 40.103011  L 54.303675 40.103011  L 46.090473 40.103011  z \" style=\"fill:#fefebb;stroke:#444443;stroke-linejoin:miter;stroke-width:0.5;\" />\n   </g>\n   <g id=\"patch_6\">\n    <path clip-path=\"url(#pd162517374)\" d=\"M 54.303675 40.103011  L 62.516878 40.103011  L 62.516878 40.103011  L 54.303675 40.103011  z \" style=\"fill:#fefebb;stroke:#444443;stroke-linejoin:miter;stroke-width:0.5;\" />\n   </g>\n   <g id=\"patch_7\">\n    <path clip-path=\"url(#pd162517374)\" d=\"M 62.516878 40.103011  L 70.73008 40.103011  L 70.73008 40.103011  L 62.516878 40.103011  z \" style=\"fill:#fefebb;stroke:#444443;stroke-linejoin:miter;stroke-width:0.5;\" />\n   </g>\n   <g id=\"patch_8\">\n    <path clip-path=\"url(#pd162517374)\" d=\"M 70.73008 40.103011  L 78.943283 40.103011  L 78.943283 40.103011  L 70.73008 40.103011  z \" style=\"fill:#fefebb;stroke:#444443;stroke-linejoin:miter;stroke-width:0.5;\" />\n   </g>\n   <g id=\"patch_9\">\n    <path clip-path=\"url(#pd162517374)\" d=\"M 78.943283 40.103011  L 87.156485 40.103011  L 87.156485 40.103011  L 78.943283 40.103011  z \" style=\"fill:#fefebb;stroke:#444443;stroke-linejoin:miter;stroke-width:0.5;\" />\n   </g>\n   <g id=\"patch_10\">\n    <path clip-path=\"url(#pd162517374)\" d=\"M 87.156485 40.103011  L 95.369688 40.103011  L 95.369688 40.103011  L 87.156485 40.103011  z \" style=\"fill:#fefebb;stroke:#444443;stroke-linejoin:miter;stroke-width:0.5;\" />\n   </g>\n   <g id=\"patch_11\">\n    <path clip-path=\"url(#pd162517374)\" d=\"M 95.369688 40.103011  L 103.58289 40.103011  L 103.58289 40.103011  L 95.369688 40.103011  z \" style=\"fill:#fefebb;stroke:#444443;stroke-linejoin:miter;stroke-width:0.5;\" />\n   </g>\n   <g id=\"patch_12\">\n    <path clip-path=\"url(#pd162517374)\" d=\"M 103.58289 40.103011  L 111.796093 40.103011  L 111.796093 40.103011  L 103.58289 40.103011  z \" style=\"fill:#fefebb;stroke:#444443;stroke-linejoin:miter;stroke-width:0.5;\" />\n   </g>\n   <g id=\"patch_13\">\n    <path clip-path=\"url(#pd162517374)\" d=\"M 111.796093 40.103011  L 120.009295 40.103011  L 120.009295 40.103011  L 111.796093 40.103011  z \" style=\"fill:#fefebb;stroke:#444443;stroke-linejoin:miter;stroke-width:0.5;\" />\n   </g>\n   <g id=\"patch_14\">\n    <path clip-path=\"url(#pd162517374)\" d=\"M 120.009295 40.103011  L 128.222498 40.103011  L 128.222498 40.103011  L 120.009295 40.103011  z \" style=\"fill:#fefebb;stroke:#444443;stroke-linejoin:miter;stroke-width:0.5;\" />\n   </g>\n   <g id=\"patch_15\">\n    <path clip-path=\"url(#pd162517374)\" d=\"M 128.222498 40.103011  L 136.4357 40.103011  L 136.4357 40.103011  L 128.222498 40.103011  z \" style=\"fill:#fefebb;stroke:#444443;stroke-linejoin:miter;stroke-width:0.5;\" />\n   </g>\n   <g id=\"patch_16\">\n    <path clip-path=\"url(#pd162517374)\" d=\"M 136.4357 40.103011  L 144.648903 40.103011  L 144.648903 40.103011  L 136.4357 40.103011  z \" style=\"fill:#fefebb;stroke:#444443;stroke-linejoin:miter;stroke-width:0.5;\" />\n   </g>\n   <g id=\"patch_17\">\n    <path clip-path=\"url(#pd162517374)\" d=\"M 144.648903 40.103011  L 152.862105 40.103011  L 152.862105 40.103011  L 144.648903 40.103011  z \" style=\"fill:#fefebb;stroke:#444443;stroke-linejoin:miter;stroke-width:0.5;\" />\n   </g>\n   <g id=\"patch_18\">\n    <path clip-path=\"url(#pd162517374)\" d=\"M 152.862105 40.103011  L 161.075308 40.103011  L 161.075308 40.103011  L 152.862105 40.103011  z \" style=\"fill:#fefebb;stroke:#444443;stroke-linejoin:miter;stroke-width:0.5;\" />\n   </g>\n   <g id=\"patch_19\">\n    <path clip-path=\"url(#pd162517374)\" d=\"M 161.075308 40.103011  L 169.28851 40.103011  L 169.28851 40.103011  L 161.075308 40.103011  z \" style=\"fill:#fefebb;stroke:#444443;stroke-linejoin:miter;stroke-width:0.5;\" />\n   </g>\n   <g id=\"patch_20\">\n    <path clip-path=\"url(#pd162517374)\" d=\"M 169.28851 40.103011  L 177.501713 40.103011  L 177.501713 40.103011  L 169.28851 40.103011  z \" style=\"fill:#fefebb;stroke:#444443;stroke-linejoin:miter;stroke-width:0.5;\" />\n   </g>\n   <g id=\"patch_21\">\n    <path clip-path=\"url(#pd162517374)\" d=\"M 177.501713 40.103011  L 185.714915 40.103011  L 185.714915 37.407474  L 177.501713 37.407474  z \" style=\"fill:#fefebb;stroke:#444443;stroke-linejoin:miter;stroke-width:0.5;\" />\n   </g>\n   <g id=\"patch_22\">\n    <path clip-path=\"url(#pd162517374)\" d=\"M 29.664068 25.277557  L 37.87727 25.277557  L 37.87727 5.061028  L 29.664068 5.061028  z \" style=\"fill:#a1dab4;stroke:#444443;stroke-linejoin:miter;stroke-width:0.5;\" />\n   </g>\n   <g id=\"patch_23\">\n    <path clip-path=\"url(#pd162517374)\" d=\"M 37.87727 40.103011  L 46.090473 40.103011  L 46.090473 40.103011  L 37.87727 40.103011  z \" style=\"fill:#a1dab4;stroke:#444443;stroke-linejoin:miter;stroke-width:0.5;\" />\n   </g>\n   <g id=\"patch_24\">\n    <path clip-path=\"url(#pd162517374)\" d=\"M 46.090473 40.103011  L 54.303675 40.103011  L 54.303675 40.103011  L 46.090473 40.103011  z \" style=\"fill:#a1dab4;stroke:#444443;stroke-linejoin:miter;stroke-width:0.5;\" />\n   </g>\n   <g id=\"patch_25\">\n    <path clip-path=\"url(#pd162517374)\" d=\"M 54.303675 40.103011  L 62.516878 40.103011  L 62.516878 40.103011  L 54.303675 40.103011  z \" style=\"fill:#a1dab4;stroke:#444443;stroke-linejoin:miter;stroke-width:0.5;\" />\n   </g>\n   <g id=\"patch_26\">\n    <path clip-path=\"url(#pd162517374)\" d=\"M 62.516878 40.103011  L 70.73008 40.103011  L 70.73008 40.103011  L 62.516878 40.103011  z \" style=\"fill:#a1dab4;stroke:#444443;stroke-linejoin:miter;stroke-width:0.5;\" />\n   </g>\n   <g id=\"patch_27\">\n    <path clip-path=\"url(#pd162517374)\" d=\"M 70.73008 40.103011  L 78.943283 40.103011  L 78.943283 40.103011  L 70.73008 40.103011  z \" style=\"fill:#a1dab4;stroke:#444443;stroke-linejoin:miter;stroke-width:0.5;\" />\n   </g>\n   <g id=\"patch_28\">\n    <path clip-path=\"url(#pd162517374)\" d=\"M 78.943283 40.103011  L 87.156485 40.103011  L 87.156485 40.103011  L 78.943283 40.103011  z \" style=\"fill:#a1dab4;stroke:#444443;stroke-linejoin:miter;stroke-width:0.5;\" />\n   </g>\n   <g id=\"patch_29\">\n    <path clip-path=\"url(#pd162517374)\" d=\"M 87.156485 40.103011  L 95.369688 40.103011  L 95.369688 40.103011  L 87.156485 40.103011  z \" style=\"fill:#a1dab4;stroke:#444443;stroke-linejoin:miter;stroke-width:0.5;\" />\n   </g>\n   <g id=\"patch_30\">\n    <path clip-path=\"url(#pd162517374)\" d=\"M 95.369688 40.103011  L 103.58289 40.103011  L 103.58289 40.103011  L 95.369688 40.103011  z \" style=\"fill:#a1dab4;stroke:#444443;stroke-linejoin:miter;stroke-width:0.5;\" />\n   </g>\n   <g id=\"patch_31\">\n    <path clip-path=\"url(#pd162517374)\" d=\"M 103.58289 40.103011  L 111.796093 40.103011  L 111.796093 40.103011  L 103.58289 40.103011  z \" style=\"fill:#a1dab4;stroke:#444443;stroke-linejoin:miter;stroke-width:0.5;\" />\n   </g>\n   <g id=\"patch_32\">\n    <path clip-path=\"url(#pd162517374)\" d=\"M 111.796093 40.103011  L 120.009295 40.103011  L 120.009295 40.103011  L 111.796093 40.103011  z \" style=\"fill:#a1dab4;stroke:#444443;stroke-linejoin:miter;stroke-width:0.5;\" />\n   </g>\n   <g id=\"patch_33\">\n    <path clip-path=\"url(#pd162517374)\" d=\"M 120.009295 40.103011  L 128.222498 40.103011  L 128.222498 40.103011  L 120.009295 40.103011  z \" style=\"fill:#a1dab4;stroke:#444443;stroke-linejoin:miter;stroke-width:0.5;\" />\n   </g>\n   <g id=\"patch_34\">\n    <path clip-path=\"url(#pd162517374)\" d=\"M 128.222498 40.103011  L 136.4357 40.103011  L 136.4357 40.103011  L 128.222498 40.103011  z \" style=\"fill:#a1dab4;stroke:#444443;stroke-linejoin:miter;stroke-width:0.5;\" />\n   </g>\n   <g id=\"patch_35\">\n    <path clip-path=\"url(#pd162517374)\" d=\"M 136.4357 40.103011  L 144.648903 40.103011  L 144.648903 40.103011  L 136.4357 40.103011  z \" style=\"fill:#a1dab4;stroke:#444443;stroke-linejoin:miter;stroke-width:0.5;\" />\n   </g>\n   <g id=\"patch_36\">\n    <path clip-path=\"url(#pd162517374)\" d=\"M 144.648903 40.103011  L 152.862105 40.103011  L 152.862105 40.103011  L 144.648903 40.103011  z \" style=\"fill:#a1dab4;stroke:#444443;stroke-linejoin:miter;stroke-width:0.5;\" />\n   </g>\n   <g id=\"patch_37\">\n    <path clip-path=\"url(#pd162517374)\" d=\"M 152.862105 40.103011  L 161.075308 40.103011  L 161.075308 40.103011  L 152.862105 40.103011  z \" style=\"fill:#a1dab4;stroke:#444443;stroke-linejoin:miter;stroke-width:0.5;\" />\n   </g>\n   <g id=\"patch_38\">\n    <path clip-path=\"url(#pd162517374)\" d=\"M 161.075308 40.103011  L 169.28851 40.103011  L 169.28851 40.103011  L 161.075308 40.103011  z \" style=\"fill:#a1dab4;stroke:#444443;stroke-linejoin:miter;stroke-width:0.5;\" />\n   </g>\n   <g id=\"patch_39\">\n    <path clip-path=\"url(#pd162517374)\" d=\"M 169.28851 40.103011  L 177.501713 40.103011  L 177.501713 40.103011  L 169.28851 40.103011  z \" style=\"fill:#a1dab4;stroke:#444443;stroke-linejoin:miter;stroke-width:0.5;\" />\n   </g>\n   <g id=\"patch_40\">\n    <path clip-path=\"url(#pd162517374)\" d=\"M 177.501713 37.407474  L 185.714915 37.407474  L 185.714915 3.039375  L 177.501713 3.039375  z \" style=\"fill:#a1dab4;stroke:#444443;stroke-linejoin:miter;stroke-width:0.5;\" />\n   </g>\n   <g id=\"patch_41\">\n    <path d=\"M 107.689492 40.918411  L 104.374972 48.257011  L 111.004012 48.257011  z \" style=\"fill:#444443;\" />\n   </g>\n   <g id=\"patch_42\">\n    <path d=\"M 29.664068 40.918411  L 26.349548 48.257011  L 32.978588 48.257011  z \" style=\"fill:#d67c03;\" />\n   </g>\n   <g id=\"matplotlib.axis_1\">\n    <g id=\"xtick_1\">\n     <g id=\"line2d_1\">\n      <defs>\n       <path d=\"M 0 0  L 0 3.5  \" id=\"m6f802c1c76\" style=\"stroke:#000000;stroke-width:0.3;\" />\n      </defs>\n      <g>\n       <use style=\"stroke:#000000;stroke-width:0.3;\" x=\"29.664068\" xlink:href=\"#m6f802c1c76\" y=\"40.103011\" />\n      </g>\n     </g>\n     <g id=\"text_1\">\n      \n      <g style=\"fill:#444443;\" transform=\"translate(27.119068 53.181761)scale(0.08 -0.08)\">\n       <defs>\n        <path d=\"M 794 531  L 1825 531  L 1825 4091  L 703 3866  L 703 4441  L 1819 4666  L 2450 4666  L 2450 531  L 3481 531  L 3481 0  L 794 0  L 794 531  z \" id=\"DejaVuSans-31\" transform=\"scale(0.015625)\" />\n       </defs>\n       <use xlink:href=\"#DejaVuSans-31\" />\n      </g>\n     </g>\n    </g>\n    <g id=\"xtick_2\">\n     <g id=\"line2d_2\">\n      <g>\n       <use style=\"stroke:#000000;stroke-width:0.3;\" x=\"185.714915\" xlink:href=\"#m6f802c1c76\" y=\"40.103011\" />\n      </g>\n     </g>\n     <g id=\"text_2\">\n      \n      <g style=\"fill:#444443;\" transform=\"translate(183.169915 53.181761)scale(0.08 -0.08)\">\n       <defs>\n        <path d=\"M 1228 531  L 3431 531  L 3431 0  L 469 0  L 469 531  Q 828 903 1448 1529  Q 2069 2156 2228 2338  Q 2531 2678 2651 2914  Q 2772 3150 2772 3378  Q 2772 3750 2511 3984  Q 2250 4219 1831 4219  Q 1534 4219 1204 4116  Q 875 4013 500 3803  L 500 4441  Q 881 4594 1212 4672  Q 1544 4750 1819 4750  Q 2544 4750 2975 4387  Q 3406 4025 3406 3419  Q 3406 3131 3298 2873  Q 3191 2616 2906 2266  Q 2828 2175 2409 1742  Q 1991 1309 1228 531  z \" id=\"DejaVuSans-32\" transform=\"scale(0.015625)\" />\n       </defs>\n       <use xlink:href=\"#DejaVuSans-32\" />\n      </g>\n     </g>\n    </g>\n    <g id=\"text_3\">\n     \n     <g style=\"fill:#444443;\" transform=\"translate(32.246562 67.434886)scale(0.12 -0.12)\">\n      <defs>\n       <path d=\"M 288 1472  L 859 1522  Q 900 1178 1048 958  Q 1197 738 1509 602  Q 1822 466 2213 466  Q 2559 466 2825 569  Q 3091 672 3220 851  Q 3350 1031 3350 1244  Q 3350 1459 3225 1620  Q 3100 1781 2813 1891  Q 2628 1963 1997 2114  Q 1366 2266 1113 2400  Q 784 2572 623 2826  Q 463 3081 463 3397  Q 463 3744 659 4045  Q 856 4347 1234 4503  Q 1613 4659 2075 4659  Q 2584 4659 2973 4495  Q 3363 4331 3572 4012  Q 3781 3694 3797 3291  L 3216 3247  Q 3169 3681 2898 3903  Q 2628 4125 2100 4125  Q 1550 4125 1298 3923  Q 1047 3722 1047 3438  Q 1047 3191 1225 3031  Q 1400 2872 2139 2705  Q 2878 2538 3153 2413  Q 3553 2228 3743 1945  Q 3934 1663 3934 1294  Q 3934 928 3725 604  Q 3516 281 3123 101  Q 2731 -78 2241 -78  Q 1619 -78 1198 103  Q 778 284 539 648  Q 300 1013 288 1472  z \" id=\"ArialMT-53\" transform=\"scale(0.015625)\" />\n       <path d=\"M 1294 0  L 78 4581  L 700 4581  L 1397 1578  Q 1509 1106 1591 641  Q 1766 1375 1797 1488  L 2669 4581  L 3400 4581  L 4056 2263  Q 4303 1400 4413 641  Q 4500 1075 4641 1638  L 5359 4581  L 5969 4581  L 4713 0  L 4128 0  L 3163 3491  Q 3041 3928 3019 4028  Q 2947 3713 2884 3491  L 1913 0  L 1294 0  z \" id=\"ArialMT-57\" transform=\"scale(0.015625)\" />\n       <path d=\"M -9 0  L 1750 4581  L 2403 4581  L 4278 0  L 3588 0  L 3053 1388  L 1138 1388  L 634 0  L -9 0  z M 1313 1881  L 2866 1881  L 2388 3150  Q 2169 3728 2063 4100  Q 1975 3659 1816 3225  L 1313 1881  z \" id=\"ArialMT-41\" transform=\"scale(0.015625)\" />\n       <path d=\"M 469 0  L 469 4581  L 1075 4581  L 1075 541  L 3331 541  L 3331 0  L 469 0  z \" id=\"ArialMT-4c\" transform=\"scale(0.015625)\" />\n       <path d=\"M 309 2231  Q 309 3372 921 4017  Q 1534 4663 2503 4663  Q 3138 4663 3647 4359  Q 4156 4056 4423 3514  Q 4691 2972 4691 2284  Q 4691 1588 4409 1038  Q 4128 488 3612 205  Q 3097 -78 2500 -78  Q 1853 -78 1343 234  Q 834 547 571 1087  Q 309 1628 309 2231  z M 934 2222  Q 934 1394 1379 917  Q 1825 441 2497 441  Q 3181 441 3623 922  Q 4066 1403 4066 2288  Q 4066 2847 3877 3264  Q 3688 3681 3323 3911  Q 2959 4141 2506 4141  Q 1863 4141 1398 3698  Q 934 3256 934 2222  z \" id=\"ArialMT-4f\" transform=\"scale(0.015625)\" />\n       <path d=\"M 597 0  L 597 4581  L 1203 4581  L 1203 0  L 597 0  z \" id=\"ArialMT-49\" transform=\"scale(0.015625)\" />\n       <path d=\"M 488 0  L 488 4581  L 1109 4581  L 3516 984  L 3516 4581  L 4097 4581  L 4097 0  L 3475 0  L 1069 3600  L 1069 0  L 488 0  z \" id=\"ArialMT-4e\" transform=\"scale(0.015625)\" />\n       <path d=\"M 2638 1797  L 2638 2334  L 4578 2338  L 4578 638  Q 4131 281 3656 101  Q 3181 -78 2681 -78  Q 2006 -78 1454 211  Q 903 500 622 1047  Q 341 1594 341 2269  Q 341 2938 620 3517  Q 900 4097 1425 4378  Q 1950 4659 2634 4659  Q 3131 4659 3532 4498  Q 3934 4338 4162 4050  Q 4391 3763 4509 3300  L 3963 3150  Q 3859 3500 3706 3700  Q 3553 3900 3268 4020  Q 2984 4141 2638 4141  Q 2222 4141 1919 4014  Q 1616 3888 1430 3681  Q 1244 3475 1141 3228  Q 966 2803 966 2306  Q 966 1694 1177 1281  Q 1388 869 1791 669  Q 2194 469 2647 469  Q 3041 469 3416 620  Q 3791 772 3984 944  L 3984 1797  L 2638 1797  z \" id=\"ArialMT-47\" transform=\"scale(0.015625)\" />\n       <path id=\"ArialMT-20\" transform=\"scale(0.015625)\" />\n       <path d=\"M 494 0  L 494 4581  L 2072 4581  Q 2606 4581 2888 4516  Q 3281 4425 3559 4188  Q 3922 3881 4101 3404  Q 4281 2928 4281 2316  Q 4281 1794 4159 1391  Q 4038 988 3847 723  Q 3656 459 3429 307  Q 3203 156 2883 78  Q 2563 0 2147 0  L 494 0  z M 1100 541  L 2078 541  Q 2531 541 2789 625  Q 3047 709 3200 863  Q 3416 1078 3536 1442  Q 3656 1806 3656 2325  Q 3656 3044 3420 3430  Q 3184 3816 2847 3947  Q 2603 4041 2063 4041  L 1100 4041  L 1100 541  z \" id=\"ArialMT-44\" transform=\"scale(0.015625)\" />\n       <path d=\"M 525 0  L 525 4581  L 3616 4581  L 3616 4041  L 1131 4041  L 1131 2622  L 3281 2622  L 3281 2081  L 1131 2081  L 1131 0  L 525 0  z \" id=\"ArialMT-46\" transform=\"scale(0.015625)\" />\n       <path d=\"M 3763 1606  L 4369 1453  Q 4178 706 3683 314  Q 3188 -78 2472 -78  Q 1731 -78 1267 223  Q 803 525 561 1097  Q 319 1669 319 2325  Q 319 3041 592 3573  Q 866 4106 1370 4382  Q 1875 4659 2481 4659  Q 3169 4659 3637 4309  Q 4106 3959 4291 3325  L 3694 3184  Q 3534 3684 3231 3912  Q 2928 4141 2469 4141  Q 1941 4141 1586 3887  Q 1231 3634 1087 3207  Q 944 2781 944 2328  Q 944 1744 1114 1308  Q 1284 872 1643 656  Q 2003 441 2422 441  Q 2931 441 3284 734  Q 3638 1028 3763 1606  z \" id=\"ArialMT-43\" transform=\"scale(0.015625)\" />\n       <path d=\"M 3500 4581  L 4106 4581  L 4106 1934  Q 4106 1244 3950 837  Q 3794 431 3386 176  Q 2978 -78 2316 -78  Q 1672 -78 1262 144  Q 853 366 678 786  Q 503 1206 503 1934  L 503 4581  L 1109 4581  L 1109 1938  Q 1109 1341 1220 1058  Q 1331 775 1601 622  Q 1872 469 2263 469  Q 2931 469 3215 772  Q 3500 1075 3500 1938  L 3500 4581  z \" id=\"ArialMT-55\" transform=\"scale(0.015625)\" />\n       <path d=\"M 1659 0  L 1659 4041  L 150 4041  L 150 4581  L 3781 4581  L 3781 4041  L 2266 4041  L 2266 0  L 1659 0  z \" id=\"ArialMT-54\" transform=\"scale(0.015625)\" />\n       <path d=\"M 1784 0  L 1784 1941  L 19 4581  L 756 4581  L 1659 3200  Q 1909 2813 2125 2425  Q 2331 2784 2625 3234  L 3513 4581  L 4219 4581  L 2391 1941  L 2391 0  L 1784 0  z \" id=\"ArialMT-59\" transform=\"scale(0.015625)\" />\n      </defs>\n      <use xlink:href=\"#ArialMT-53\" />\n      <use x=\"66.699219\" xlink:href=\"#ArialMT-57\" />\n      <use x=\"157.333984\" xlink:href=\"#ArialMT-41\" />\n      <use x=\"224.033203\" xlink:href=\"#ArialMT-4c\" />\n      <use x=\"279.648438\" xlink:href=\"#ArialMT-4c\" />\n      <use x=\"335.263672\" xlink:href=\"#ArialMT-4f\" />\n      <use x=\"413.046875\" xlink:href=\"#ArialMT-57\" />\n      <use x=\"507.431641\" xlink:href=\"#ArialMT-49\" />\n      <use x=\"535.214844\" xlink:href=\"#ArialMT-4e\" />\n      <use x=\"607.431641\" xlink:href=\"#ArialMT-47\" />\n      <use x=\"685.214844\" xlink:href=\"#ArialMT-20\" />\n      <use x=\"712.998047\" xlink:href=\"#ArialMT-44\" />\n      <use x=\"785.214844\" xlink:href=\"#ArialMT-49\" />\n      <use x=\"812.998047\" xlink:href=\"#ArialMT-46\" />\n      <use x=\"874.082031\" xlink:href=\"#ArialMT-46\" />\n      <use x=\"935.166016\" xlink:href=\"#ArialMT-49\" />\n      <use x=\"962.949219\" xlink:href=\"#ArialMT-43\" />\n      <use x=\"1035.166016\" xlink:href=\"#ArialMT-55\" />\n      <use x=\"1107.382812\" xlink:href=\"#ArialMT-4c\" />\n      <use x=\"1155.623047\" xlink:href=\"#ArialMT-54\" />\n      <use x=\"1216.707031\" xlink:href=\"#ArialMT-59\" />\n     </g>\n    </g>\n   </g>\n   <g id=\"matplotlib.axis_2\">\n    <g id=\"ytick_1\">\n     <g id=\"line2d_3\">\n      <defs>\n       <path d=\"M 0 0  L -3.5 0  \" id=\"m406772b7c4\" style=\"stroke:#000000;stroke-width:0.3;\" />\n      </defs>\n      <g>\n       <use style=\"stroke:#000000;stroke-width:0.3;\" x=\"17.18\" xlink:href=\"#m406772b7c4\" y=\"40.103011\" />\n      </g>\n     </g>\n     <g id=\"text_4\">\n      \n      <g style=\"fill:#444443;\" transform=\"translate(5.09 43.142386)scale(0.08 -0.08)\">\n       <defs>\n        <path d=\"M 2034 4250  Q 1547 4250 1301 3770  Q 1056 3291 1056 2328  Q 1056 1369 1301 889  Q 1547 409 2034 409  Q 2525 409 2770 889  Q 3016 1369 3016 2328  Q 3016 3291 2770 3770  Q 2525 4250 2034 4250  z M 2034 4750  Q 2819 4750 3233 4129  Q 3647 3509 3647 2328  Q 3647 1150 3233 529  Q 2819 -91 2034 -91  Q 1250 -91 836 529  Q 422 1150 422 2328  Q 422 3509 836 4129  Q 1250 4750 2034 4750  z \" id=\"DejaVuSans-30\" transform=\"scale(0.015625)\" />\n       </defs>\n       <use xlink:href=\"#DejaVuSans-30\" />\n      </g>\n     </g>\n    </g>\n    <g id=\"ytick_2\">\n     <g id=\"line2d_4\">\n      <g>\n       <use style=\"stroke:#000000;stroke-width:0.3;\" x=\"17.18\" xlink:href=\"#m406772b7c4\" y=\"3.039375\" />\n      </g>\n     </g>\n     <g id=\"text_5\">\n      \n      <g style=\"fill:#444443;\" transform=\"translate(0 6.07875)scale(0.08 -0.08)\">\n       <defs>\n        <path d=\"M 691 4666  L 3169 4666  L 3169 4134  L 1269 4134  L 1269 2991  Q 1406 3038 1543 3061  Q 1681 3084 1819 3084  Q 2600 3084 3056 2656  Q 3513 2228 3513 1497  Q 3513 744 3044 326  Q 2575 -91 1722 -91  Q 1428 -91 1123 -41  Q 819 9 494 109  L 494 744  Q 775 591 1075 516  Q 1375 441 1709 441  Q 2250 441 2565 725  Q 2881 1009 2881 1497  Q 2881 1984 2565 2268  Q 2250 2553 1709 2553  Q 1456 2553 1204 2497  Q 953 2441 691 2322  L 691 4666  z \" id=\"DejaVuSans-35\" transform=\"scale(0.015625)\" />\n       </defs>\n       <use xlink:href=\"#DejaVuSans-35\" />\n       <use x=\"63.623047\" xlink:href=\"#DejaVuSans-35\" />\n      </g>\n     </g>\n    </g>\n   </g>\n   <g id=\"patch_43\">\n    <path d=\"M 17.18 40.103011  L 17.18 1.186193  \" style=\"fill:none;stroke:#000000;stroke-linecap:square;stroke-linejoin:miter;stroke-width:0.3;\" />\n   </g>\n   <g id=\"patch_44\">\n    <path d=\"M 17.18 40.103011  L 201.32 40.103011  \" style=\"fill:none;stroke:#000000;stroke-linecap:square;stroke-linejoin:miter;stroke-width:0.3;\" />\n   </g>\n   <g id=\"text_6\">\n    \n    <g style=\"fill:#444443;\" transform=\"translate(99.905117 56.411011)scale(0.08 -0.08)\">\n     <defs>\n      <path d=\"M 2384 0  L 1822 0  L 1822 3584  Q 1619 3391 1289 3197  Q 959 3003 697 2906  L 697 3450  Q 1169 3672 1522 3987  Q 1875 4303 2022 4600  L 2384 4600  L 2384 0  z \" id=\"ArialMT-31\" transform=\"scale(0.015625)\" />\n      <path d=\"M 581 0  L 581 641  L 1222 641  L 1222 0  L 581 0  z \" id=\"ArialMT-2e\" transform=\"scale(0.015625)\" />\n      <path d=\"M 266 1200  L 856 1250  Q 922 819 1161 601  Q 1400 384 1738 384  Q 2144 384 2425 690  Q 2706 997 2706 1503  Q 2706 1984 2436 2262  Q 2166 2541 1728 2541  Q 1456 2541 1237 2417  Q 1019 2294 894 2097  L 366 2166  L 809 4519  L 3088 4519  L 3088 3981  L 1259 3981  L 1013 2750  Q 1425 3038 1878 3038  Q 2478 3038 2890 2622  Q 3303 2206 3303 1553  Q 3303 931 2941 478  Q 2500 -78 1738 -78  Q 1113 -78 717 272  Q 322 622 266 1200  z \" id=\"ArialMT-35\" transform=\"scale(0.015625)\" />\n      <path d=\"M 266 2259  Q 266 3072 433 3567  Q 600 4063 929 4331  Q 1259 4600 1759 4600  Q 2128 4600 2406 4451  Q 2684 4303 2865 4023  Q 3047 3744 3150 3342  Q 3253 2941 3253 2259  Q 3253 1453 3087 958  Q 2922 463 2592 192  Q 2263 -78 1759 -78  Q 1097 -78 719 397  Q 266 969 266 2259  z M 844 2259  Q 844 1131 1108 757  Q 1372 384 1759 384  Q 2147 384 2411 759  Q 2675 1134 2675 2259  Q 2675 3391 2411 3762  Q 2147 4134 1753 4134  Q 1366 4134 1134 3806  Q 844 3388 844 2259  z \" id=\"ArialMT-30\" transform=\"scale(0.015625)\" />\n     </defs>\n     <use xlink:href=\"#ArialMT-31\" />\n     <use x=\"55.615234\" xlink:href=\"#ArialMT-2e\" />\n     <use x=\"83.398438\" xlink:href=\"#ArialMT-35\" />\n     <use x=\"139.013672\" xlink:href=\"#ArialMT-30\" />\n    </g>\n   </g>\n   <g id=\"text_7\">\n    \n    <g style=\"fill:#444443;\" transform=\"translate(99.905117 56.411011)scale(0.08 -0.08)\">\n     <use xlink:href=\"#ArialMT-31\" />\n     <use x=\"55.615234\" xlink:href=\"#ArialMT-2e\" />\n     <use x=\"83.398438\" xlink:href=\"#ArialMT-35\" />\n     <use x=\"139.013672\" xlink:href=\"#ArialMT-30\" />\n    </g>\n   </g>\n  </g>\n </g>\n <defs>\n  <clipPath id=\"pd162517374\">\n   <rect height=\"38.916818\" width=\"184.14\" x=\"17.18\" y=\"1.186193\" />\n  </clipPath>\n </defs>\n</svg></g>\n\n<g id=\"edge7\" class=\"edge\">\n<title>node1-&gt;node2</title>\n<path fill=\"none\" stroke=\"#d67c03\" stroke-width=\"1.2\" d=\"M750.19,-290.78C731.06,-280.58 709.67,-269.18 690.8,-259.12\" />\n<polygon fill=\"#d67c03\" stroke=\"#d67c03\" stroke-width=\"1.2\" points=\"691.25,-257.77 687.06,-257.12 689.93,-260.24 691.25,-257.77\" />\n</g>\n\n<g id=\"edge8\" class=\"edge\">\n<title>node1-&gt;node5</title>\n<path fill=\"none\" stroke=\"#444443\" stroke-width=\"0.3\" d=\"M807.33,-290.53C808.09,-280.94 808.93,-270.3 809.69,-260.73\" />\n<polygon fill=\"#444443\" stroke=\"#444443\" stroke-width=\"0.3\" points=\"811.09,-260.79 810.01,-256.7 808.3,-260.57 811.09,-260.79\" />\n</g>\n\n<g id=\"node5\" class=\"node\">\n<title>node8</title>\n<svg height=\"56px\" version=\"1.1\" viewBox=\"0 0 201.32 74.091818\" width=\"151px\" preserveAspectRatio=\"xMinYMin meet\" x=\"903\" y=\"-349\">\n <metadata>\n  <rdf:RDF>\n   <ns2:Work>\n    <dc:type rdf:resource=\"http://purl.org/dc/dcmitype/StillImage\" />\n    <dc:date>2022-06-06T19:39:02.436307</dc:date>\n    <dc:format>image/svg+xml</dc:format>\n    <dc:creator>\n     <ns2:Agent>\n      <dc:title>Matplotlib v3.4.3, https://matplotlib.org/</dc:title>\n     </ns2:Agent>\n    </dc:creator>\n   </ns2:Work>\n  </rdf:RDF>\n </metadata>\n <defs>\n  <style type=\"text/css\">*{stroke-linecap:butt;stroke-linejoin:round;}</style>\n </defs>\n <g id=\"figure_1\">\n  <g id=\"patch_1\">\n   <path d=\"M 0 74.091818  L 201.32 74.091818  L 201.32 0  L 0 0  z \" style=\"fill:none;\" />\n  </g>\n  <g id=\"axes_1\">\n   <g id=\"patch_2\">\n    <path d=\"M 17.18 44.221193  L 201.32 44.221193  L 201.32 0.980284  L 17.18 0.980284  z \" style=\"fill:#ffffff;\" />\n   </g>\n   <g id=\"patch_3\">\n    <path clip-path=\"url(#pcdd6595b87)\" d=\"M 29.664068 44.221193  L 37.87727 44.221193  L 37.87727 42.228525  L 29.664068 42.228525  z \" style=\"fill:#fefebb;stroke:#444443;stroke-linejoin:miter;stroke-width:0.5;\" />\n   </g>\n   <g id=\"patch_4\">\n    <path clip-path=\"url(#pcdd6595b87)\" d=\"M 37.87727 44.221193  L 46.090473 44.221193  L 46.090473 44.221193  L 37.87727 44.221193  z \" style=\"fill:#fefebb;stroke:#444443;stroke-linejoin:miter;stroke-width:0.5;\" />\n   </g>\n   <g id=\"patch_5\">\n    <path clip-path=\"url(#pcdd6595b87)\" d=\"M 46.090473 44.221193  L 54.303675 44.221193  L 54.303675 44.221193  L 46.090473 44.221193  z \" style=\"fill:#fefebb;stroke:#444443;stroke-linejoin:miter;stroke-width:0.5;\" />\n   </g>\n   <g id=\"patch_6\">\n    <path clip-path=\"url(#pcdd6595b87)\" d=\"M 54.303675 44.221193  L 62.516878 44.221193  L 62.516878 44.221193  L 54.303675 44.221193  z \" style=\"fill:#fefebb;stroke:#444443;stroke-linejoin:miter;stroke-width:0.5;\" />\n   </g>\n   <g id=\"patch_7\">\n    <path clip-path=\"url(#pcdd6595b87)\" d=\"M 62.516878 44.221193  L 70.73008 44.221193  L 70.73008 44.221193  L 62.516878 44.221193  z \" style=\"fill:#fefebb;stroke:#444443;stroke-linejoin:miter;stroke-width:0.5;\" />\n   </g>\n   <g id=\"patch_8\">\n    <path clip-path=\"url(#pcdd6595b87)\" d=\"M 70.73008 44.221193  L 78.943283 44.221193  L 78.943283 44.221193  L 70.73008 44.221193  z \" style=\"fill:#fefebb;stroke:#444443;stroke-linejoin:miter;stroke-width:0.5;\" />\n   </g>\n   <g id=\"patch_9\">\n    <path clip-path=\"url(#pcdd6595b87)\" d=\"M 78.943283 44.221193  L 87.156485 44.221193  L 87.156485 44.221193  L 78.943283 44.221193  z \" style=\"fill:#fefebb;stroke:#444443;stroke-linejoin:miter;stroke-width:0.5;\" />\n   </g>\n   <g id=\"patch_10\">\n    <path clip-path=\"url(#pcdd6595b87)\" d=\"M 87.156485 44.221193  L 95.369688 44.221193  L 95.369688 44.221193  L 87.156485 44.221193  z \" style=\"fill:#fefebb;stroke:#444443;stroke-linejoin:miter;stroke-width:0.5;\" />\n   </g>\n   <g id=\"patch_11\">\n    <path clip-path=\"url(#pcdd6595b87)\" d=\"M 95.369688 44.221193  L 103.58289 44.221193  L 103.58289 44.221193  L 95.369688 44.221193  z \" style=\"fill:#fefebb;stroke:#444443;stroke-linejoin:miter;stroke-width:0.5;\" />\n   </g>\n   <g id=\"patch_12\">\n    <path clip-path=\"url(#pcdd6595b87)\" d=\"M 103.58289 44.221193  L 111.796093 44.221193  L 111.796093 44.221193  L 103.58289 44.221193  z \" style=\"fill:#fefebb;stroke:#444443;stroke-linejoin:miter;stroke-width:0.5;\" />\n   </g>\n   <g id=\"patch_13\">\n    <path clip-path=\"url(#pcdd6595b87)\" d=\"M 111.796093 44.221193  L 120.009295 44.221193  L 120.009295 44.221193  L 111.796093 44.221193  z \" style=\"fill:#fefebb;stroke:#444443;stroke-linejoin:miter;stroke-width:0.5;\" />\n   </g>\n   <g id=\"patch_14\">\n    <path clip-path=\"url(#pcdd6595b87)\" d=\"M 120.009295 44.221193  L 128.222498 44.221193  L 128.222498 44.221193  L 120.009295 44.221193  z \" style=\"fill:#fefebb;stroke:#444443;stroke-linejoin:miter;stroke-width:0.5;\" />\n   </g>\n   <g id=\"patch_15\">\n    <path clip-path=\"url(#pcdd6595b87)\" d=\"M 128.222498 44.221193  L 136.4357 44.221193  L 136.4357 44.221193  L 128.222498 44.221193  z \" style=\"fill:#fefebb;stroke:#444443;stroke-linejoin:miter;stroke-width:0.5;\" />\n   </g>\n   <g id=\"patch_16\">\n    <path clip-path=\"url(#pcdd6595b87)\" d=\"M 136.4357 44.221193  L 144.648903 44.221193  L 144.648903 44.221193  L 136.4357 44.221193  z \" style=\"fill:#fefebb;stroke:#444443;stroke-linejoin:miter;stroke-width:0.5;\" />\n   </g>\n   <g id=\"patch_17\">\n    <path clip-path=\"url(#pcdd6595b87)\" d=\"M 144.648903 44.221193  L 152.862105 44.221193  L 152.862105 44.221193  L 144.648903 44.221193  z \" style=\"fill:#fefebb;stroke:#444443;stroke-linejoin:miter;stroke-width:0.5;\" />\n   </g>\n   <g id=\"patch_18\">\n    <path clip-path=\"url(#pcdd6595b87)\" d=\"M 152.862105 44.221193  L 161.075308 44.221193  L 161.075308 44.221193  L 152.862105 44.221193  z \" style=\"fill:#fefebb;stroke:#444443;stroke-linejoin:miter;stroke-width:0.5;\" />\n   </g>\n   <g id=\"patch_19\">\n    <path clip-path=\"url(#pcdd6595b87)\" d=\"M 161.075308 44.221193  L 169.28851 44.221193  L 169.28851 44.221193  L 161.075308 44.221193  z \" style=\"fill:#fefebb;stroke:#444443;stroke-linejoin:miter;stroke-width:0.5;\" />\n   </g>\n   <g id=\"patch_20\">\n    <path clip-path=\"url(#pcdd6595b87)\" d=\"M 169.28851 44.221193  L 177.501713 44.221193  L 177.501713 44.221193  L 169.28851 44.221193  z \" style=\"fill:#fefebb;stroke:#444443;stroke-linejoin:miter;stroke-width:0.5;\" />\n   </g>\n   <g id=\"patch_21\">\n    <path clip-path=\"url(#pcdd6595b87)\" d=\"M 177.501713 44.221193  L 185.714915 44.221193  L 185.714915 44.221193  L 177.501713 44.221193  z \" style=\"fill:#fefebb;stroke:#444443;stroke-linejoin:miter;stroke-width:0.5;\" />\n   </g>\n   <g id=\"patch_22\">\n    <path clip-path=\"url(#pcdd6595b87)\" d=\"M 29.664068 42.228525  L 37.87727 42.228525  L 37.87727 3.039375  L 29.664068 3.039375  z \" style=\"fill:#a1dab4;stroke:#444443;stroke-linejoin:miter;stroke-width:0.5;\" />\n   </g>\n   <g id=\"patch_23\">\n    <path clip-path=\"url(#pcdd6595b87)\" d=\"M 37.87727 44.221193  L 46.090473 44.221193  L 46.090473 44.221193  L 37.87727 44.221193  z \" style=\"fill:#a1dab4;stroke:#444443;stroke-linejoin:miter;stroke-width:0.5;\" />\n   </g>\n   <g id=\"patch_24\">\n    <path clip-path=\"url(#pcdd6595b87)\" d=\"M 46.090473 44.221193  L 54.303675 44.221193  L 54.303675 44.221193  L 46.090473 44.221193  z \" style=\"fill:#a1dab4;stroke:#444443;stroke-linejoin:miter;stroke-width:0.5;\" />\n   </g>\n   <g id=\"patch_25\">\n    <path clip-path=\"url(#pcdd6595b87)\" d=\"M 54.303675 44.221193  L 62.516878 44.221193  L 62.516878 44.221193  L 54.303675 44.221193  z \" style=\"fill:#a1dab4;stroke:#444443;stroke-linejoin:miter;stroke-width:0.5;\" />\n   </g>\n   <g id=\"patch_26\">\n    <path clip-path=\"url(#pcdd6595b87)\" d=\"M 62.516878 44.221193  L 70.73008 44.221193  L 70.73008 44.221193  L 62.516878 44.221193  z \" style=\"fill:#a1dab4;stroke:#444443;stroke-linejoin:miter;stroke-width:0.5;\" />\n   </g>\n   <g id=\"patch_27\">\n    <path clip-path=\"url(#pcdd6595b87)\" d=\"M 70.73008 44.221193  L 78.943283 44.221193  L 78.943283 44.221193  L 70.73008 44.221193  z \" style=\"fill:#a1dab4;stroke:#444443;stroke-linejoin:miter;stroke-width:0.5;\" />\n   </g>\n   <g id=\"patch_28\">\n    <path clip-path=\"url(#pcdd6595b87)\" d=\"M 78.943283 44.221193  L 87.156485 44.221193  L 87.156485 44.221193  L 78.943283 44.221193  z \" style=\"fill:#a1dab4;stroke:#444443;stroke-linejoin:miter;stroke-width:0.5;\" />\n   </g>\n   <g id=\"patch_29\">\n    <path clip-path=\"url(#pcdd6595b87)\" d=\"M 87.156485 44.221193  L 95.369688 44.221193  L 95.369688 44.221193  L 87.156485 44.221193  z \" style=\"fill:#a1dab4;stroke:#444443;stroke-linejoin:miter;stroke-width:0.5;\" />\n   </g>\n   <g id=\"patch_30\">\n    <path clip-path=\"url(#pcdd6595b87)\" d=\"M 95.369688 44.221193  L 103.58289 44.221193  L 103.58289 44.221193  L 95.369688 44.221193  z \" style=\"fill:#a1dab4;stroke:#444443;stroke-linejoin:miter;stroke-width:0.5;\" />\n   </g>\n   <g id=\"patch_31\">\n    <path clip-path=\"url(#pcdd6595b87)\" d=\"M 103.58289 44.221193  L 111.796093 44.221193  L 111.796093 44.221193  L 103.58289 44.221193  z \" style=\"fill:#a1dab4;stroke:#444443;stroke-linejoin:miter;stroke-width:0.5;\" />\n   </g>\n   <g id=\"patch_32\">\n    <path clip-path=\"url(#pcdd6595b87)\" d=\"M 111.796093 44.221193  L 120.009295 44.221193  L 120.009295 44.221193  L 111.796093 44.221193  z \" style=\"fill:#a1dab4;stroke:#444443;stroke-linejoin:miter;stroke-width:0.5;\" />\n   </g>\n   <g id=\"patch_33\">\n    <path clip-path=\"url(#pcdd6595b87)\" d=\"M 120.009295 44.221193  L 128.222498 44.221193  L 128.222498 44.221193  L 120.009295 44.221193  z \" style=\"fill:#a1dab4;stroke:#444443;stroke-linejoin:miter;stroke-width:0.5;\" />\n   </g>\n   <g id=\"patch_34\">\n    <path clip-path=\"url(#pcdd6595b87)\" d=\"M 128.222498 44.221193  L 136.4357 44.221193  L 136.4357 44.221193  L 128.222498 44.221193  z \" style=\"fill:#a1dab4;stroke:#444443;stroke-linejoin:miter;stroke-width:0.5;\" />\n   </g>\n   <g id=\"patch_35\">\n    <path clip-path=\"url(#pcdd6595b87)\" d=\"M 136.4357 44.221193  L 144.648903 44.221193  L 144.648903 44.221193  L 136.4357 44.221193  z \" style=\"fill:#a1dab4;stroke:#444443;stroke-linejoin:miter;stroke-width:0.5;\" />\n   </g>\n   <g id=\"patch_36\">\n    <path clip-path=\"url(#pcdd6595b87)\" d=\"M 144.648903 44.221193  L 152.862105 44.221193  L 152.862105 44.221193  L 144.648903 44.221193  z \" style=\"fill:#a1dab4;stroke:#444443;stroke-linejoin:miter;stroke-width:0.5;\" />\n   </g>\n   <g id=\"patch_37\">\n    <path clip-path=\"url(#pcdd6595b87)\" d=\"M 152.862105 44.221193  L 161.075308 44.221193  L 161.075308 44.221193  L 152.862105 44.221193  z \" style=\"fill:#a1dab4;stroke:#444443;stroke-linejoin:miter;stroke-width:0.5;\" />\n   </g>\n   <g id=\"patch_38\">\n    <path clip-path=\"url(#pcdd6595b87)\" d=\"M 161.075308 44.221193  L 169.28851 44.221193  L 169.28851 44.221193  L 161.075308 44.221193  z \" style=\"fill:#a1dab4;stroke:#444443;stroke-linejoin:miter;stroke-width:0.5;\" />\n   </g>\n   <g id=\"patch_39\">\n    <path clip-path=\"url(#pcdd6595b87)\" d=\"M 169.28851 44.221193  L 177.501713 44.221193  L 177.501713 44.221193  L 169.28851 44.221193  z \" style=\"fill:#a1dab4;stroke:#444443;stroke-linejoin:miter;stroke-width:0.5;\" />\n   </g>\n   <g id=\"patch_40\">\n    <path clip-path=\"url(#pcdd6595b87)\" d=\"M 177.501713 44.221193  L 185.714915 44.221193  L 185.714915 3.039375  L 177.501713 3.039375  z \" style=\"fill:#a1dab4;stroke:#444443;stroke-linejoin:miter;stroke-width:0.5;\" />\n   </g>\n   <g id=\"patch_41\">\n    <path d=\"M 107.689492 45.036593  L 104.374972 52.375193  L 111.004012 52.375193  z \" style=\"fill:#444443;\" />\n   </g>\n   <g id=\"matplotlib.axis_1\">\n    <g id=\"xtick_1\">\n     <g id=\"line2d_1\">\n      <defs>\n       <path d=\"M 0 0  L 0 3.5  \" id=\"me2c25e8956\" style=\"stroke:#000000;stroke-width:0.3;\" />\n      </defs>\n      <g>\n       <use style=\"stroke:#000000;stroke-width:0.3;\" x=\"29.664068\" xlink:href=\"#me2c25e8956\" y=\"44.221193\" />\n      </g>\n     </g>\n     <g id=\"text_1\">\n      \n      <g style=\"fill:#444443;\" transform=\"translate(27.119068 57.299943)scale(0.08 -0.08)\">\n       <defs>\n        <path d=\"M 794 531  L 1825 531  L 1825 4091  L 703 3866  L 703 4441  L 1819 4666  L 2450 4666  L 2450 531  L 3481 531  L 3481 0  L 794 0  L 794 531  z \" id=\"DejaVuSans-31\" transform=\"scale(0.015625)\" />\n       </defs>\n       <use xlink:href=\"#DejaVuSans-31\" />\n      </g>\n     </g>\n    </g>\n    <g id=\"xtick_2\">\n     <g id=\"line2d_2\">\n      <g>\n       <use style=\"stroke:#000000;stroke-width:0.3;\" x=\"185.714915\" xlink:href=\"#me2c25e8956\" y=\"44.221193\" />\n      </g>\n     </g>\n     <g id=\"text_2\">\n      \n      <g style=\"fill:#444443;\" transform=\"translate(183.169915 57.299943)scale(0.08 -0.08)\">\n       <defs>\n        <path d=\"M 1228 531  L 3431 531  L 3431 0  L 469 0  L 469 531  Q 828 903 1448 1529  Q 2069 2156 2228 2338  Q 2531 2678 2651 2914  Q 2772 3150 2772 3378  Q 2772 3750 2511 3984  Q 2250 4219 1831 4219  Q 1534 4219 1204 4116  Q 875 4013 500 3803  L 500 4441  Q 881 4594 1212 4672  Q 1544 4750 1819 4750  Q 2544 4750 2975 4387  Q 3406 4025 3406 3419  Q 3406 3131 3298 2873  Q 3191 2616 2906 2266  Q 2828 2175 2409 1742  Q 1991 1309 1228 531  z \" id=\"DejaVuSans-32\" transform=\"scale(0.015625)\" />\n       </defs>\n       <use xlink:href=\"#DejaVuSans-32\" />\n      </g>\n     </g>\n    </g>\n    <g id=\"text_3\">\n     \n     <g style=\"fill:#444443;\" transform=\"translate(54.236563 71.706818)scale(0.12 -0.12)\">\n      <defs>\n       <path d=\"M 1784 0  L 1784 1941  L 19 4581  L 756 4581  L 1659 3200  Q 1909 2813 2125 2425  Q 2331 2784 2625 3234  L 3513 4581  L 4219 4581  L 2391 1941  L 2391 0  L 1784 0  z \" id=\"ArialMT-59\" transform=\"scale(0.015625)\" />\n       <path d=\"M 506 0  L 506 4581  L 3819 4581  L 3819 4041  L 1113 4041  L 1113 2638  L 3647 2638  L 3647 2100  L 1113 2100  L 1113 541  L 3925 541  L 3925 0  L 506 0  z \" id=\"ArialMT-45\" transform=\"scale(0.015625)\" />\n       <path d=\"M 469 0  L 469 4581  L 1075 4581  L 1075 541  L 3331 541  L 3331 0  L 469 0  z \" id=\"ArialMT-4c\" transform=\"scale(0.015625)\" />\n       <path d=\"M 309 2231  Q 309 3372 921 4017  Q 1534 4663 2503 4663  Q 3138 4663 3647 4359  Q 4156 4056 4423 3514  Q 4691 2972 4691 2284  Q 4691 1588 4409 1038  Q 4128 488 3612 205  Q 3097 -78 2500 -78  Q 1853 -78 1343 234  Q 834 547 571 1087  Q 309 1628 309 2231  z M 934 2222  Q 934 1394 1379 917  Q 1825 441 2497 441  Q 3181 441 3623 922  Q 4066 1403 4066 2288  Q 4066 2847 3877 3264  Q 3688 3681 3323 3911  Q 2959 4141 2506 4141  Q 1863 4141 1398 3698  Q 934 3256 934 2222  z \" id=\"ArialMT-4f\" transform=\"scale(0.015625)\" />\n       <path d=\"M 1294 0  L 78 4581  L 700 4581  L 1397 1578  Q 1509 1106 1591 641  Q 1766 1375 1797 1488  L 2669 4581  L 3400 4581  L 4056 2263  Q 4303 1400 4413 641  Q 4500 1075 4641 1638  L 5359 4581  L 5969 4581  L 4713 0  L 4128 0  L 3163 3491  Q 3041 3928 3019 4028  Q 2947 3713 2884 3491  L 1913 0  L 1294 0  z \" id=\"ArialMT-57\" transform=\"scale(0.015625)\" />\n       <path d=\"M -97 -1272  L -97 -866  L 3631 -866  L 3631 -1272  L -97 -1272  z \" id=\"ArialMT-5f\" transform=\"scale(0.015625)\" />\n       <path d=\"M 525 0  L 525 4581  L 3616 4581  L 3616 4041  L 1131 4041  L 1131 2622  L 3281 2622  L 3281 2081  L 1131 2081  L 1131 0  L 525 0  z \" id=\"ArialMT-46\" transform=\"scale(0.015625)\" />\n       <path d=\"M 597 0  L 597 4581  L 1203 4581  L 1203 0  L 597 0  z \" id=\"ArialMT-49\" transform=\"scale(0.015625)\" />\n       <path d=\"M 488 0  L 488 4581  L 1109 4581  L 3516 984  L 3516 4581  L 4097 4581  L 4097 0  L 3475 0  L 1069 3600  L 1069 0  L 488 0  z \" id=\"ArialMT-4e\" transform=\"scale(0.015625)\" />\n       <path d=\"M 2638 1797  L 2638 2334  L 4578 2338  L 4578 638  Q 4131 281 3656 101  Q 3181 -78 2681 -78  Q 2006 -78 1454 211  Q 903 500 622 1047  Q 341 1594 341 2269  Q 341 2938 620 3517  Q 900 4097 1425 4378  Q 1950 4659 2634 4659  Q 3131 4659 3532 4498  Q 3934 4338 4162 4050  Q 4391 3763 4509 3300  L 3963 3150  Q 3859 3500 3706 3700  Q 3553 3900 3268 4020  Q 2984 4141 2638 4141  Q 2222 4141 1919 4014  Q 1616 3888 1430 3681  Q 1244 3475 1141 3228  Q 966 2803 966 2306  Q 966 1694 1177 1281  Q 1388 869 1791 669  Q 2194 469 2647 469  Q 3041 469 3416 620  Q 3791 772 3984 944  L 3984 1797  L 2638 1797  z \" id=\"ArialMT-47\" transform=\"scale(0.015625)\" />\n       <path d=\"M 503 0  L 503 4581  L 2534 4581  Q 3147 4581 3465 4457  Q 3784 4334 3975 4021  Q 4166 3709 4166 3331  Q 4166 2844 3850 2509  Q 3534 2175 2875 2084  Q 3116 1969 3241 1856  Q 3506 1613 3744 1247  L 4541 0  L 3778 0  L 3172 953  Q 2906 1366 2734 1584  Q 2563 1803 2427 1890  Q 2291 1978 2150 2013  Q 2047 2034 1813 2034  L 1109 2034  L 1109 0  L 503 0  z M 1109 2559  L 2413 2559  Q 2828 2559 3062 2645  Q 3297 2731 3419 2920  Q 3541 3109 3541 3331  Q 3541 3656 3305 3865  Q 3069 4075 2559 4075  L 1109 4075  L 1109 2559  z \" id=\"ArialMT-52\" transform=\"scale(0.015625)\" />\n       <path d=\"M 288 1472  L 859 1522  Q 900 1178 1048 958  Q 1197 738 1509 602  Q 1822 466 2213 466  Q 2559 466 2825 569  Q 3091 672 3220 851  Q 3350 1031 3350 1244  Q 3350 1459 3225 1620  Q 3100 1781 2813 1891  Q 2628 1963 1997 2114  Q 1366 2266 1113 2400  Q 784 2572 623 2826  Q 463 3081 463 3397  Q 463 3744 659 4045  Q 856 4347 1234 4503  Q 1613 4659 2075 4659  Q 2584 4659 2973 4495  Q 3363 4331 3572 4012  Q 3781 3694 3797 3291  L 3216 3247  Q 3169 3681 2898 3903  Q 2628 4125 2100 4125  Q 1550 4125 1298 3923  Q 1047 3722 1047 3438  Q 1047 3191 1225 3031  Q 1400 2872 2139 2705  Q 2878 2538 3153 2413  Q 3553 2228 3743 1945  Q 3934 1663 3934 1294  Q 3934 928 3725 604  Q 3516 281 3123 101  Q 2731 -78 2241 -78  Q 1619 -78 1198 103  Q 778 284 539 648  Q 300 1013 288 1472  z \" id=\"ArialMT-53\" transform=\"scale(0.015625)\" />\n      </defs>\n      <use xlink:href=\"#ArialMT-59\" />\n      <use x=\"66.699219\" xlink:href=\"#ArialMT-45\" />\n      <use x=\"133.398438\" xlink:href=\"#ArialMT-4c\" />\n      <use x=\"189.013672\" xlink:href=\"#ArialMT-4c\" />\n      <use x=\"244.628906\" xlink:href=\"#ArialMT-4f\" />\n      <use x=\"322.412109\" xlink:href=\"#ArialMT-57\" />\n      <use x=\"416.796875\" xlink:href=\"#ArialMT-5f\" />\n      <use x=\"472.412109\" xlink:href=\"#ArialMT-46\" />\n      <use x=\"533.496094\" xlink:href=\"#ArialMT-49\" />\n      <use x=\"561.279297\" xlink:href=\"#ArialMT-4e\" />\n      <use x=\"633.496094\" xlink:href=\"#ArialMT-47\" />\n      <use x=\"711.279297\" xlink:href=\"#ArialMT-45\" />\n      <use x=\"777.978516\" xlink:href=\"#ArialMT-52\" />\n      <use x=\"850.195312\" xlink:href=\"#ArialMT-53\" />\n     </g>\n    </g>\n   </g>\n   <g id=\"matplotlib.axis_2\">\n    <g id=\"ytick_1\">\n     <g id=\"line2d_3\">\n      <defs>\n       <path d=\"M 0 0  L -3.5 0  \" id=\"md23c4617c7\" style=\"stroke:#000000;stroke-width:0.3;\" />\n      </defs>\n      <g>\n       <use style=\"stroke:#000000;stroke-width:0.3;\" x=\"17.18\" xlink:href=\"#md23c4617c7\" y=\"44.221193\" />\n      </g>\n     </g>\n     <g id=\"text_4\">\n      \n      <g style=\"fill:#444443;\" transform=\"translate(5.09 47.260568)scale(0.08 -0.08)\">\n       <defs>\n        <path d=\"M 2034 4250  Q 1547 4250 1301 3770  Q 1056 3291 1056 2328  Q 1056 1369 1301 889  Q 1547 409 2034 409  Q 2525 409 2770 889  Q 3016 1369 3016 2328  Q 3016 3291 2770 3770  Q 2525 4250 2034 4250  z M 2034 4750  Q 2819 4750 3233 4129  Q 3647 3509 3647 2328  Q 3647 1150 3233 529  Q 2819 -91 2034 -91  Q 1250 -91 836 529  Q 422 1150 422 2328  Q 422 3509 836 4129  Q 1250 4750 2034 4750  z \" id=\"DejaVuSans-30\" transform=\"scale(0.015625)\" />\n       </defs>\n       <use xlink:href=\"#DejaVuSans-30\" />\n      </g>\n     </g>\n    </g>\n    <g id=\"ytick_2\">\n     <g id=\"line2d_4\">\n      <g>\n       <use style=\"stroke:#000000;stroke-width:0.3;\" x=\"17.18\" xlink:href=\"#md23c4617c7\" y=\"3.039375\" />\n      </g>\n     </g>\n     <g id=\"text_5\">\n      \n      <g style=\"fill:#444443;\" transform=\"translate(0 6.07875)scale(0.08 -0.08)\">\n       <defs>\n        <path d=\"M 2113 2584  Q 1688 2584 1439 2293  Q 1191 2003 1191 1497  Q 1191 994 1439 701  Q 1688 409 2113 409  Q 2538 409 2786 701  Q 3034 994 3034 1497  Q 3034 2003 2786 2293  Q 2538 2584 2113 2584  z M 3366 4563  L 3366 3988  Q 3128 4100 2886 4159  Q 2644 4219 2406 4219  Q 1781 4219 1451 3797  Q 1122 3375 1075 2522  Q 1259 2794 1537 2939  Q 1816 3084 2150 3084  Q 2853 3084 3261 2657  Q 3669 2231 3669 1497  Q 3669 778 3244 343  Q 2819 -91 2113 -91  Q 1303 -91 875 529  Q 447 1150 447 2328  Q 447 3434 972 4092  Q 1497 4750 2381 4750  Q 2619 4750 2861 4703  Q 3103 4656 3366 4563  z \" id=\"DejaVuSans-36\" transform=\"scale(0.015625)\" />\n       </defs>\n       <use xlink:href=\"#DejaVuSans-36\" />\n       <use x=\"63.623047\" xlink:href=\"#DejaVuSans-32\" />\n      </g>\n     </g>\n    </g>\n   </g>\n   <g id=\"patch_42\">\n    <path d=\"M 17.18 44.221193  L 17.18 0.980284  \" style=\"fill:none;stroke:#000000;stroke-linecap:square;stroke-linejoin:miter;stroke-width:0.3;\" />\n   </g>\n   <g id=\"patch_43\">\n    <path d=\"M 17.18 44.221193  L 201.32 44.221193  \" style=\"fill:none;stroke:#000000;stroke-linecap:square;stroke-linejoin:miter;stroke-width:0.3;\" />\n   </g>\n   <g id=\"text_6\">\n    \n    <g style=\"fill:#444443;\" transform=\"translate(99.905117 60.529193)scale(0.08 -0.08)\">\n     <defs>\n      <path d=\"M 2384 0  L 1822 0  L 1822 3584  Q 1619 3391 1289 3197  Q 959 3003 697 2906  L 697 3450  Q 1169 3672 1522 3987  Q 1875 4303 2022 4600  L 2384 4600  L 2384 0  z \" id=\"ArialMT-31\" transform=\"scale(0.015625)\" />\n      <path d=\"M 581 0  L 581 641  L 1222 641  L 1222 0  L 581 0  z \" id=\"ArialMT-2e\" transform=\"scale(0.015625)\" />\n      <path d=\"M 266 1200  L 856 1250  Q 922 819 1161 601  Q 1400 384 1738 384  Q 2144 384 2425 690  Q 2706 997 2706 1503  Q 2706 1984 2436 2262  Q 2166 2541 1728 2541  Q 1456 2541 1237 2417  Q 1019 2294 894 2097  L 366 2166  L 809 4519  L 3088 4519  L 3088 3981  L 1259 3981  L 1013 2750  Q 1425 3038 1878 3038  Q 2478 3038 2890 2622  Q 3303 2206 3303 1553  Q 3303 931 2941 478  Q 2500 -78 1738 -78  Q 1113 -78 717 272  Q 322 622 266 1200  z \" id=\"ArialMT-35\" transform=\"scale(0.015625)\" />\n      <path d=\"M 266 2259  Q 266 3072 433 3567  Q 600 4063 929 4331  Q 1259 4600 1759 4600  Q 2128 4600 2406 4451  Q 2684 4303 2865 4023  Q 3047 3744 3150 3342  Q 3253 2941 3253 2259  Q 3253 1453 3087 958  Q 2922 463 2592 192  Q 2263 -78 1759 -78  Q 1097 -78 719 397  Q 266 969 266 2259  z M 844 2259  Q 844 1131 1108 757  Q 1372 384 1759 384  Q 2147 384 2411 759  Q 2675 1134 2675 2259  Q 2675 3391 2411 3762  Q 2147 4134 1753 4134  Q 1366 4134 1134 3806  Q 844 3388 844 2259  z \" id=\"ArialMT-30\" transform=\"scale(0.015625)\" />\n     </defs>\n     <use xlink:href=\"#ArialMT-31\" />\n     <use x=\"55.615234\" xlink:href=\"#ArialMT-2e\" />\n     <use x=\"83.398438\" xlink:href=\"#ArialMT-35\" />\n     <use x=\"139.013672\" xlink:href=\"#ArialMT-30\" />\n    </g>\n   </g>\n  </g>\n </g>\n <defs>\n  <clipPath id=\"pcdd6595b87\">\n   <rect height=\"43.240909\" width=\"184.14\" x=\"17.18\" y=\"0.980284\" />\n  </clipPath>\n </defs>\n</svg></g>\n\n\n<g id=\"node4\" class=\"node\">\n<title>node9</title>\n<svg height=\"47px\" version=\"1.1\" viewBox=\"0 0 201.32 62.760146\" width=\"151px\" preserveAspectRatio=\"xMinYMin meet\" x=\"903\" y=\"-253.5\">\n <metadata>\n  <rdf:RDF>\n   <ns2:Work>\n    <dc:type rdf:resource=\"http://purl.org/dc/dcmitype/StillImage\" />\n    <dc:date>2022-06-06T19:39:02.303297</dc:date>\n    <dc:format>image/svg+xml</dc:format>\n    <dc:creator>\n     <ns2:Agent>\n      <dc:title>Matplotlib v3.4.3, https://matplotlib.org/</dc:title>\n     </ns2:Agent>\n    </dc:creator>\n   </ns2:Work>\n  </rdf:RDF>\n </metadata>\n <defs>\n  <style type=\"text/css\">*{stroke-linecap:butt;stroke-linejoin:round;}</style>\n </defs>\n <g id=\"figure_1\">\n  <g id=\"patch_1\">\n   <path d=\"M 0 62.760146  L 201.32 62.760146  L 201.32 0  L 0 0  z \" style=\"fill:none;\" />\n  </g>\n  <g id=\"axes_1\">\n   <g id=\"patch_2\">\n    <path d=\"M 17.18 33.043271  L 201.32 33.043271  L 201.32 1.53918  L 17.18 1.53918  z \" style=\"fill:#ffffff;\" />\n   </g>\n   <g id=\"patch_3\">\n    <path clip-path=\"url(#peb3743ae69)\" d=\"M 29.664068 33.043271  L 37.87727 33.043271  L 37.87727 31.647741  L 29.664068 31.647741  z \" style=\"fill:#fefebb;stroke:#444443;stroke-linejoin:miter;stroke-width:0.5;\" />\n   </g>\n   <g id=\"patch_4\">\n    <path clip-path=\"url(#peb3743ae69)\" d=\"M 37.87727 33.043271  L 46.090473 33.043271  L 46.090473 33.043271  L 37.87727 33.043271  z \" style=\"fill:#fefebb;stroke:#444443;stroke-linejoin:miter;stroke-width:0.5;\" />\n   </g>\n   <g id=\"patch_5\">\n    <path clip-path=\"url(#peb3743ae69)\" d=\"M 46.090473 33.043271  L 54.303675 33.043271  L 54.303675 33.043271  L 46.090473 33.043271  z \" style=\"fill:#fefebb;stroke:#444443;stroke-linejoin:miter;stroke-width:0.5;\" />\n   </g>\n   <g id=\"patch_6\">\n    <path clip-path=\"url(#peb3743ae69)\" d=\"M 54.303675 33.043271  L 62.516878 33.043271  L 62.516878 33.043271  L 54.303675 33.043271  z \" style=\"fill:#fefebb;stroke:#444443;stroke-linejoin:miter;stroke-width:0.5;\" />\n   </g>\n   <g id=\"patch_7\">\n    <path clip-path=\"url(#peb3743ae69)\" d=\"M 62.516878 33.043271  L 70.73008 33.043271  L 70.73008 33.043271  L 62.516878 33.043271  z \" style=\"fill:#fefebb;stroke:#444443;stroke-linejoin:miter;stroke-width:0.5;\" />\n   </g>\n   <g id=\"patch_8\">\n    <path clip-path=\"url(#peb3743ae69)\" d=\"M 70.73008 33.043271  L 78.943283 33.043271  L 78.943283 33.043271  L 70.73008 33.043271  z \" style=\"fill:#fefebb;stroke:#444443;stroke-linejoin:miter;stroke-width:0.5;\" />\n   </g>\n   <g id=\"patch_9\">\n    <path clip-path=\"url(#peb3743ae69)\" d=\"M 78.943283 33.043271  L 87.156485 33.043271  L 87.156485 33.043271  L 78.943283 33.043271  z \" style=\"fill:#fefebb;stroke:#444443;stroke-linejoin:miter;stroke-width:0.5;\" />\n   </g>\n   <g id=\"patch_10\">\n    <path clip-path=\"url(#peb3743ae69)\" d=\"M 87.156485 33.043271  L 95.369688 33.043271  L 95.369688 33.043271  L 87.156485 33.043271  z \" style=\"fill:#fefebb;stroke:#444443;stroke-linejoin:miter;stroke-width:0.5;\" />\n   </g>\n   <g id=\"patch_11\">\n    <path clip-path=\"url(#peb3743ae69)\" d=\"M 95.369688 33.043271  L 103.58289 33.043271  L 103.58289 33.043271  L 95.369688 33.043271  z \" style=\"fill:#fefebb;stroke:#444443;stroke-linejoin:miter;stroke-width:0.5;\" />\n   </g>\n   <g id=\"patch_12\">\n    <path clip-path=\"url(#peb3743ae69)\" d=\"M 103.58289 33.043271  L 111.796093 33.043271  L 111.796093 33.043271  L 103.58289 33.043271  z \" style=\"fill:#fefebb;stroke:#444443;stroke-linejoin:miter;stroke-width:0.5;\" />\n   </g>\n   <g id=\"patch_13\">\n    <path clip-path=\"url(#peb3743ae69)\" d=\"M 111.796093 33.043271  L 120.009295 33.043271  L 120.009295 33.043271  L 111.796093 33.043271  z \" style=\"fill:#fefebb;stroke:#444443;stroke-linejoin:miter;stroke-width:0.5;\" />\n   </g>\n   <g id=\"patch_14\">\n    <path clip-path=\"url(#peb3743ae69)\" d=\"M 120.009295 33.043271  L 128.222498 33.043271  L 128.222498 33.043271  L 120.009295 33.043271  z \" style=\"fill:#fefebb;stroke:#444443;stroke-linejoin:miter;stroke-width:0.5;\" />\n   </g>\n   <g id=\"patch_15\">\n    <path clip-path=\"url(#peb3743ae69)\" d=\"M 128.222498 33.043271  L 136.4357 33.043271  L 136.4357 33.043271  L 128.222498 33.043271  z \" style=\"fill:#fefebb;stroke:#444443;stroke-linejoin:miter;stroke-width:0.5;\" />\n   </g>\n   <g id=\"patch_16\">\n    <path clip-path=\"url(#peb3743ae69)\" d=\"M 136.4357 33.043271  L 144.648903 33.043271  L 144.648903 33.043271  L 136.4357 33.043271  z \" style=\"fill:#fefebb;stroke:#444443;stroke-linejoin:miter;stroke-width:0.5;\" />\n   </g>\n   <g id=\"patch_17\">\n    <path clip-path=\"url(#peb3743ae69)\" d=\"M 144.648903 33.043271  L 152.862105 33.043271  L 152.862105 33.043271  L 144.648903 33.043271  z \" style=\"fill:#fefebb;stroke:#444443;stroke-linejoin:miter;stroke-width:0.5;\" />\n   </g>\n   <g id=\"patch_18\">\n    <path clip-path=\"url(#peb3743ae69)\" d=\"M 152.862105 33.043271  L 161.075308 33.043271  L 161.075308 33.043271  L 152.862105 33.043271  z \" style=\"fill:#fefebb;stroke:#444443;stroke-linejoin:miter;stroke-width:0.5;\" />\n   </g>\n   <g id=\"patch_19\">\n    <path clip-path=\"url(#peb3743ae69)\" d=\"M 161.075308 33.043271  L 169.28851 33.043271  L 169.28851 33.043271  L 161.075308 33.043271  z \" style=\"fill:#fefebb;stroke:#444443;stroke-linejoin:miter;stroke-width:0.5;\" />\n   </g>\n   <g id=\"patch_20\">\n    <path clip-path=\"url(#peb3743ae69)\" d=\"M 169.28851 33.043271  L 177.501713 33.043271  L 177.501713 33.043271  L 169.28851 33.043271  z \" style=\"fill:#fefebb;stroke:#444443;stroke-linejoin:miter;stroke-width:0.5;\" />\n   </g>\n   <g id=\"patch_21\">\n    <path clip-path=\"url(#peb3743ae69)\" d=\"M 177.501713 33.043271  L 185.714915 33.043271  L 185.714915 32.345506  L 177.501713 32.345506  z \" style=\"fill:#fefebb;stroke:#444443;stroke-linejoin:miter;stroke-width:0.5;\" />\n   </g>\n   <g id=\"patch_22\">\n    <path clip-path=\"url(#peb3743ae69)\" d=\"M 29.664068 31.647741  L 37.87727 31.647741  L 37.87727 19.785736  L 29.664068 19.785736  z \" style=\"fill:#a1dab4;stroke:#444443;stroke-linejoin:miter;stroke-width:0.5;\" />\n   </g>\n   <g id=\"patch_23\">\n    <path clip-path=\"url(#peb3743ae69)\" d=\"M 37.87727 33.043271  L 46.090473 33.043271  L 46.090473 33.043271  L 37.87727 33.043271  z \" style=\"fill:#a1dab4;stroke:#444443;stroke-linejoin:miter;stroke-width:0.5;\" />\n   </g>\n   <g id=\"patch_24\">\n    <path clip-path=\"url(#peb3743ae69)\" d=\"M 46.090473 33.043271  L 54.303675 33.043271  L 54.303675 33.043271  L 46.090473 33.043271  z \" style=\"fill:#a1dab4;stroke:#444443;stroke-linejoin:miter;stroke-width:0.5;\" />\n   </g>\n   <g id=\"patch_25\">\n    <path clip-path=\"url(#peb3743ae69)\" d=\"M 54.303675 33.043271  L 62.516878 33.043271  L 62.516878 33.043271  L 54.303675 33.043271  z \" style=\"fill:#a1dab4;stroke:#444443;stroke-linejoin:miter;stroke-width:0.5;\" />\n   </g>\n   <g id=\"patch_26\">\n    <path clip-path=\"url(#peb3743ae69)\" d=\"M 62.516878 33.043271  L 70.73008 33.043271  L 70.73008 33.043271  L 62.516878 33.043271  z \" style=\"fill:#a1dab4;stroke:#444443;stroke-linejoin:miter;stroke-width:0.5;\" />\n   </g>\n   <g id=\"patch_27\">\n    <path clip-path=\"url(#peb3743ae69)\" d=\"M 70.73008 33.043271  L 78.943283 33.043271  L 78.943283 33.043271  L 70.73008 33.043271  z \" style=\"fill:#a1dab4;stroke:#444443;stroke-linejoin:miter;stroke-width:0.5;\" />\n   </g>\n   <g id=\"patch_28\">\n    <path clip-path=\"url(#peb3743ae69)\" d=\"M 78.943283 33.043271  L 87.156485 33.043271  L 87.156485 33.043271  L 78.943283 33.043271  z \" style=\"fill:#a1dab4;stroke:#444443;stroke-linejoin:miter;stroke-width:0.5;\" />\n   </g>\n   <g id=\"patch_29\">\n    <path clip-path=\"url(#peb3743ae69)\" d=\"M 87.156485 33.043271  L 95.369688 33.043271  L 95.369688 33.043271  L 87.156485 33.043271  z \" style=\"fill:#a1dab4;stroke:#444443;stroke-linejoin:miter;stroke-width:0.5;\" />\n   </g>\n   <g id=\"patch_30\">\n    <path clip-path=\"url(#peb3743ae69)\" d=\"M 95.369688 33.043271  L 103.58289 33.043271  L 103.58289 33.043271  L 95.369688 33.043271  z \" style=\"fill:#a1dab4;stroke:#444443;stroke-linejoin:miter;stroke-width:0.5;\" />\n   </g>\n   <g id=\"patch_31\">\n    <path clip-path=\"url(#peb3743ae69)\" d=\"M 103.58289 33.043271  L 111.796093 33.043271  L 111.796093 33.043271  L 103.58289 33.043271  z \" style=\"fill:#a1dab4;stroke:#444443;stroke-linejoin:miter;stroke-width:0.5;\" />\n   </g>\n   <g id=\"patch_32\">\n    <path clip-path=\"url(#peb3743ae69)\" d=\"M 111.796093 33.043271  L 120.009295 33.043271  L 120.009295 33.043271  L 111.796093 33.043271  z \" style=\"fill:#a1dab4;stroke:#444443;stroke-linejoin:miter;stroke-width:0.5;\" />\n   </g>\n   <g id=\"patch_33\">\n    <path clip-path=\"url(#peb3743ae69)\" d=\"M 120.009295 33.043271  L 128.222498 33.043271  L 128.222498 33.043271  L 120.009295 33.043271  z \" style=\"fill:#a1dab4;stroke:#444443;stroke-linejoin:miter;stroke-width:0.5;\" />\n   </g>\n   <g id=\"patch_34\">\n    <path clip-path=\"url(#peb3743ae69)\" d=\"M 128.222498 33.043271  L 136.4357 33.043271  L 136.4357 33.043271  L 128.222498 33.043271  z \" style=\"fill:#a1dab4;stroke:#444443;stroke-linejoin:miter;stroke-width:0.5;\" />\n   </g>\n   <g id=\"patch_35\">\n    <path clip-path=\"url(#peb3743ae69)\" d=\"M 136.4357 33.043271  L 144.648903 33.043271  L 144.648903 33.043271  L 136.4357 33.043271  z \" style=\"fill:#a1dab4;stroke:#444443;stroke-linejoin:miter;stroke-width:0.5;\" />\n   </g>\n   <g id=\"patch_36\">\n    <path clip-path=\"url(#peb3743ae69)\" d=\"M 144.648903 33.043271  L 152.862105 33.043271  L 152.862105 33.043271  L 144.648903 33.043271  z \" style=\"fill:#a1dab4;stroke:#444443;stroke-linejoin:miter;stroke-width:0.5;\" />\n   </g>\n   <g id=\"patch_37\">\n    <path clip-path=\"url(#peb3743ae69)\" d=\"M 152.862105 33.043271  L 161.075308 33.043271  L 161.075308 33.043271  L 152.862105 33.043271  z \" style=\"fill:#a1dab4;stroke:#444443;stroke-linejoin:miter;stroke-width:0.5;\" />\n   </g>\n   <g id=\"patch_38\">\n    <path clip-path=\"url(#peb3743ae69)\" d=\"M 161.075308 33.043271  L 169.28851 33.043271  L 169.28851 33.043271  L 161.075308 33.043271  z \" style=\"fill:#a1dab4;stroke:#444443;stroke-linejoin:miter;stroke-width:0.5;\" />\n   </g>\n   <g id=\"patch_39\">\n    <path clip-path=\"url(#peb3743ae69)\" d=\"M 169.28851 33.043271  L 177.501713 33.043271  L 177.501713 33.043271  L 169.28851 33.043271  z \" style=\"fill:#a1dab4;stroke:#444443;stroke-linejoin:miter;stroke-width:0.5;\" />\n   </g>\n   <g id=\"patch_40\">\n    <path clip-path=\"url(#peb3743ae69)\" d=\"M 177.501713 32.345506  L 185.714915 32.345506  L 185.714915 3.039375  L 177.501713 3.039375  z \" style=\"fill:#a1dab4;stroke:#444443;stroke-linejoin:miter;stroke-width:0.5;\" />\n   </g>\n   <g id=\"patch_41\">\n    <path d=\"M 107.689492 33.858671  L 104.374972 41.197271  L 111.004012 41.197271  z \" style=\"fill:#444443;\" />\n   </g>\n   <g id=\"matplotlib.axis_1\">\n    <g id=\"xtick_1\">\n     <g id=\"line2d_1\">\n      <defs>\n       <path d=\"M 0 0  L 0 3.5  \" id=\"mcb3b7f3189\" style=\"stroke:#000000;stroke-width:0.3;\" />\n      </defs>\n      <g>\n       <use style=\"stroke:#000000;stroke-width:0.3;\" x=\"29.664068\" xlink:href=\"#mcb3b7f3189\" y=\"33.043271\" />\n      </g>\n     </g>\n     <g id=\"text_1\">\n      \n      <g style=\"fill:#444443;\" transform=\"translate(27.119068 46.122021)scale(0.08 -0.08)\">\n       <defs>\n        <path d=\"M 794 531  L 1825 531  L 1825 4091  L 703 3866  L 703 4441  L 1819 4666  L 2450 4666  L 2450 531  L 3481 531  L 3481 0  L 794 0  L 794 531  z \" id=\"DejaVuSans-31\" transform=\"scale(0.015625)\" />\n       </defs>\n       <use xlink:href=\"#DejaVuSans-31\" />\n      </g>\n     </g>\n    </g>\n    <g id=\"xtick_2\">\n     <g id=\"line2d_2\">\n      <g>\n       <use style=\"stroke:#000000;stroke-width:0.3;\" x=\"185.714915\" xlink:href=\"#mcb3b7f3189\" y=\"33.043271\" />\n      </g>\n     </g>\n     <g id=\"text_2\">\n      \n      <g style=\"fill:#444443;\" transform=\"translate(183.169915 46.122021)scale(0.08 -0.08)\">\n       <defs>\n        <path d=\"M 1228 531  L 3431 531  L 3431 0  L 469 0  L 469 531  Q 828 903 1448 1529  Q 2069 2156 2228 2338  Q 2531 2678 2651 2914  Q 2772 3150 2772 3378  Q 2772 3750 2511 3984  Q 2250 4219 1831 4219  Q 1534 4219 1204 4116  Q 875 4013 500 3803  L 500 4441  Q 881 4594 1212 4672  Q 1544 4750 1819 4750  Q 2544 4750 2975 4387  Q 3406 4025 3406 3419  Q 3406 3131 3298 2873  Q 3191 2616 2906 2266  Q 2828 2175 2409 1742  Q 1991 1309 1228 531  z \" id=\"DejaVuSans-32\" transform=\"scale(0.015625)\" />\n       </defs>\n       <use xlink:href=\"#DejaVuSans-32\" />\n      </g>\n     </g>\n    </g>\n    <g id=\"text_3\">\n     \n     <g style=\"fill:#444443;\" transform=\"translate(84.021875 60.375146)scale(0.12 -0.12)\">\n      <defs>\n       <path d=\"M 525 0  L 525 4581  L 3616 4581  L 3616 4041  L 1131 4041  L 1131 2622  L 3281 2622  L 3281 2081  L 1131 2081  L 1131 0  L 525 0  z \" id=\"ArialMT-46\" transform=\"scale(0.015625)\" />\n       <path d=\"M -9 0  L 1750 4581  L 2403 4581  L 4278 0  L 3588 0  L 3053 1388  L 1138 1388  L 634 0  L -9 0  z M 1313 1881  L 2866 1881  L 2388 3150  Q 2169 3728 2063 4100  Q 1975 3659 1816 3225  L 1313 1881  z \" id=\"ArialMT-41\" transform=\"scale(0.015625)\" />\n       <path d=\"M 1659 0  L 1659 4041  L 150 4041  L 150 4581  L 3781 4581  L 3781 4041  L 2266 4041  L 2266 0  L 1659 0  z \" id=\"ArialMT-54\" transform=\"scale(0.015625)\" />\n       <path d=\"M 597 0  L 597 4581  L 1203 4581  L 1203 0  L 597 0  z \" id=\"ArialMT-49\" transform=\"scale(0.015625)\" />\n       <path d=\"M 2638 1797  L 2638 2334  L 4578 2338  L 4578 638  Q 4131 281 3656 101  Q 3181 -78 2681 -78  Q 2006 -78 1454 211  Q 903 500 622 1047  Q 341 1594 341 2269  Q 341 2938 620 3517  Q 900 4097 1425 4378  Q 1950 4659 2634 4659  Q 3131 4659 3532 4498  Q 3934 4338 4162 4050  Q 4391 3763 4509 3300  L 3963 3150  Q 3859 3500 3706 3700  Q 3553 3900 3268 4020  Q 2984 4141 2638 4141  Q 2222 4141 1919 4014  Q 1616 3888 1430 3681  Q 1244 3475 1141 3228  Q 966 2803 966 2306  Q 966 1694 1177 1281  Q 1388 869 1791 669  Q 2194 469 2647 469  Q 3041 469 3416 620  Q 3791 772 3984 944  L 3984 1797  L 2638 1797  z \" id=\"ArialMT-47\" transform=\"scale(0.015625)\" />\n       <path d=\"M 3500 4581  L 4106 4581  L 4106 1934  Q 4106 1244 3950 837  Q 3794 431 3386 176  Q 2978 -78 2316 -78  Q 1672 -78 1262 144  Q 853 366 678 786  Q 503 1206 503 1934  L 503 4581  L 1109 4581  L 1109 1938  Q 1109 1341 1220 1058  Q 1331 775 1601 622  Q 1872 469 2263 469  Q 2931 469 3215 772  Q 3500 1075 3500 1938  L 3500 4581  z \" id=\"ArialMT-55\" transform=\"scale(0.015625)\" />\n       <path d=\"M 506 0  L 506 4581  L 3819 4581  L 3819 4041  L 1113 4041  L 1113 2638  L 3647 2638  L 3647 2100  L 1113 2100  L 1113 541  L 3925 541  L 3925 0  L 506 0  z \" id=\"ArialMT-45\" transform=\"scale(0.015625)\" />\n      </defs>\n      <use xlink:href=\"#ArialMT-46\" />\n      <use x=\"55.583984\" xlink:href=\"#ArialMT-41\" />\n      <use x=\"114.908203\" xlink:href=\"#ArialMT-54\" />\n      <use x=\"175.992188\" xlink:href=\"#ArialMT-49\" />\n      <use x=\"203.775391\" xlink:href=\"#ArialMT-47\" />\n      <use x=\"281.558594\" xlink:href=\"#ArialMT-55\" />\n      <use x=\"353.775391\" xlink:href=\"#ArialMT-45\" />\n     </g>\n    </g>\n   </g>\n   <g id=\"matplotlib.axis_2\">\n    <g id=\"ytick_1\">\n     <g id=\"line2d_3\">\n      <defs>\n       <path d=\"M 0 0  L -3.5 0  \" id=\"mb1a8034005\" style=\"stroke:#000000;stroke-width:0.3;\" />\n      </defs>\n      <g>\n       <use style=\"stroke:#000000;stroke-width:0.3;\" x=\"17.18\" xlink:href=\"#mb1a8034005\" y=\"33.043271\" />\n      </g>\n     </g>\n     <g id=\"text_4\">\n      \n      <g style=\"fill:#444443;\" transform=\"translate(5.09 36.082646)scale(0.08 -0.08)\">\n       <defs>\n        <path d=\"M 2034 4250  Q 1547 4250 1301 3770  Q 1056 3291 1056 2328  Q 1056 1369 1301 889  Q 1547 409 2034 409  Q 2525 409 2770 889  Q 3016 1369 3016 2328  Q 3016 3291 2770 3770  Q 2525 4250 2034 4250  z M 2034 4750  Q 2819 4750 3233 4129  Q 3647 3509 3647 2328  Q 3647 1150 3233 529  Q 2819 -91 2034 -91  Q 1250 -91 836 529  Q 422 1150 422 2328  Q 422 3509 836 4129  Q 1250 4750 2034 4750  z \" id=\"DejaVuSans-30\" transform=\"scale(0.015625)\" />\n       </defs>\n       <use xlink:href=\"#DejaVuSans-30\" />\n      </g>\n     </g>\n    </g>\n    <g id=\"ytick_2\">\n     <g id=\"line2d_4\">\n      <g>\n       <use style=\"stroke:#000000;stroke-width:0.3;\" x=\"17.18\" xlink:href=\"#mb1a8034005\" y=\"3.039375\" />\n      </g>\n     </g>\n     <g id=\"text_5\">\n      \n      <g style=\"fill:#444443;\" transform=\"translate(0 6.07875)scale(0.08 -0.08)\">\n       <defs>\n        <path d=\"M 2419 4116  L 825 1625  L 2419 1625  L 2419 4116  z M 2253 4666  L 3047 4666  L 3047 1625  L 3713 1625  L 3713 1100  L 3047 1100  L 3047 0  L 2419 0  L 2419 1100  L 313 1100  L 313 1709  L 2253 4666  z \" id=\"DejaVuSans-34\" transform=\"scale(0.015625)\" />\n        <path d=\"M 2597 2516  Q 3050 2419 3304 2112  Q 3559 1806 3559 1356  Q 3559 666 3084 287  Q 2609 -91 1734 -91  Q 1441 -91 1130 -33  Q 819 25 488 141  L 488 750  Q 750 597 1062 519  Q 1375 441 1716 441  Q 2309 441 2620 675  Q 2931 909 2931 1356  Q 2931 1769 2642 2001  Q 2353 2234 1838 2234  L 1294 2234  L 1294 2753  L 1863 2753  Q 2328 2753 2575 2939  Q 2822 3125 2822 3475  Q 2822 3834 2567 4026  Q 2313 4219 1838 4219  Q 1578 4219 1281 4162  Q 984 4106 628 3988  L 628 4550  Q 988 4650 1302 4700  Q 1616 4750 1894 4750  Q 2613 4750 3031 4423  Q 3450 4097 3450 3541  Q 3450 3153 3228 2886  Q 3006 2619 2597 2516  z \" id=\"DejaVuSans-33\" transform=\"scale(0.015625)\" />\n       </defs>\n       <use xlink:href=\"#DejaVuSans-34\" />\n       <use x=\"63.623047\" xlink:href=\"#DejaVuSans-33\" />\n      </g>\n     </g>\n    </g>\n   </g>\n   <g id=\"patch_42\">\n    <path d=\"M 17.18 33.043271  L 17.18 1.53918  \" style=\"fill:none;stroke:#000000;stroke-linecap:square;stroke-linejoin:miter;stroke-width:0.3;\" />\n   </g>\n   <g id=\"patch_43\">\n    <path d=\"M 17.18 33.043271  L 201.32 33.043271  \" style=\"fill:none;stroke:#000000;stroke-linecap:square;stroke-linejoin:miter;stroke-width:0.3;\" />\n   </g>\n   <g id=\"text_6\">\n    \n    <g style=\"fill:#444443;\" transform=\"translate(99.905117 49.351271)scale(0.08 -0.08)\">\n     <defs>\n      <path d=\"M 2384 0  L 1822 0  L 1822 3584  Q 1619 3391 1289 3197  Q 959 3003 697 2906  L 697 3450  Q 1169 3672 1522 3987  Q 1875 4303 2022 4600  L 2384 4600  L 2384 0  z \" id=\"ArialMT-31\" transform=\"scale(0.015625)\" />\n      <path d=\"M 581 0  L 581 641  L 1222 641  L 1222 0  L 581 0  z \" id=\"ArialMT-2e\" transform=\"scale(0.015625)\" />\n      <path d=\"M 266 1200  L 856 1250  Q 922 819 1161 601  Q 1400 384 1738 384  Q 2144 384 2425 690  Q 2706 997 2706 1503  Q 2706 1984 2436 2262  Q 2166 2541 1728 2541  Q 1456 2541 1237 2417  Q 1019 2294 894 2097  L 366 2166  L 809 4519  L 3088 4519  L 3088 3981  L 1259 3981  L 1013 2750  Q 1425 3038 1878 3038  Q 2478 3038 2890 2622  Q 3303 2206 3303 1553  Q 3303 931 2941 478  Q 2500 -78 1738 -78  Q 1113 -78 717 272  Q 322 622 266 1200  z \" id=\"ArialMT-35\" transform=\"scale(0.015625)\" />\n      <path d=\"M 266 2259  Q 266 3072 433 3567  Q 600 4063 929 4331  Q 1259 4600 1759 4600  Q 2128 4600 2406 4451  Q 2684 4303 2865 4023  Q 3047 3744 3150 3342  Q 3253 2941 3253 2259  Q 3253 1453 3087 958  Q 2922 463 2592 192  Q 2263 -78 1759 -78  Q 1097 -78 719 397  Q 266 969 266 2259  z M 844 2259  Q 844 1131 1108 757  Q 1372 384 1759 384  Q 2147 384 2411 759  Q 2675 1134 2675 2259  Q 2675 3391 2411 3762  Q 2147 4134 1753 4134  Q 1366 4134 1134 3806  Q 844 3388 844 2259  z \" id=\"ArialMT-30\" transform=\"scale(0.015625)\" />\n     </defs>\n     <use xlink:href=\"#ArialMT-31\" />\n     <use x=\"55.615234\" xlink:href=\"#ArialMT-2e\" />\n     <use x=\"83.398438\" xlink:href=\"#ArialMT-35\" />\n     <use x=\"139.013672\" xlink:href=\"#ArialMT-30\" />\n    </g>\n   </g>\n  </g>\n </g>\n <defs>\n  <clipPath id=\"peb3743ae69\">\n   <rect height=\"31.504091\" width=\"184.14\" x=\"17.18\" y=\"1.53918\" />\n  </clipPath>\n </defs>\n</svg></g>\n\n<g id=\"node11\" class=\"node\">\n<title>leaf10</title>\n<polygon fill=\"none\" stroke=\"#444443\" stroke-width=\"0\" points=\"965,-161 933,-161 933,-114 965,-114 965,-161\" />\n<svg height=\"39px\" version=\"1.1\" viewBox=\"0 0 32.012 51.042445\" width=\"24px\" preserveAspectRatio=\"xMinYMin meet\" x=\"937\" y=\"-156.5\">\n <metadata>\n  <rdf:RDF>\n   <ns2:Work>\n    <dc:type rdf:resource=\"http://purl.org/dc/dcmitype/StillImage\" />\n    <dc:date>2022-06-06T19:39:03.101359</dc:date>\n    <dc:format>image/svg+xml</dc:format>\n    <dc:creator>\n     <ns2:Agent>\n      <dc:title>Matplotlib v3.4.3, https://matplotlib.org/</dc:title>\n     </ns2:Agent>\n    </dc:creator>\n   </ns2:Work>\n  </rdf:RDF>\n </metadata>\n <defs>\n  <style type=\"text/css\">*{stroke-linecap:butt;stroke-linejoin:round;}</style>\n </defs>\n <g id=\"figure_1\">\n  <g id=\"patch_1\">\n   <path d=\"M 0 51.042445  L 32.012 51.042445  L 32.012 0  L 0 0  z \" style=\"fill:none;\" />\n  </g>\n  <g id=\"axes_1\">\n   <g id=\"patch_2\">\n    <path d=\"M 32.012 16.005997  C 32.012 14.237624 31.71894 12.481414 31.144751 10.808857  C 30.570561 9.1363 29.72314 7.570402 28.636983 6.174908  L 16.006 16.005997  L 32.012 16.005997  z \" style=\"fill:#fefebb;stroke:#444443;stroke-linejoin:miter;stroke-width:0.5;\" />\n   </g>\n   <g id=\"patch_3\">\n    <path d=\"M 28.636983 6.174908  C 27.482605 4.691763 26.075968 3.423466 24.481652 2.428245  C 22.887337 1.433023 21.13012 0.726345 19.290677 0.340655  C 17.451234 -0.045036 15.558152 -0.103745 13.698345 0.167223  C 11.838537 0.43819 10.040907 1.034623 8.387986 1.92914  C 6.735065 2.823656 5.252541 4.002353 4.008478 5.411116  C 2.764414 6.81988 1.778146 8.436815 1.094953 10.187688  C 0.41176 11.93856 0.042261 13.79616 0.003419 15.675202  C -0.035424 17.554244 0.256995 19.425526 0.867249 21.203136  C 1.477503 22.980746 2.396109 24.637057 3.580892 26.096028  C 4.765676 27.554999 6.198224 28.793955 7.812767 29.756014  C 9.42731 30.718073 11.198757 31.388284 13.045778 31.735877  C 14.892799 32.083469 16.78669 32.103042 18.6405 31.793696  C 20.49431 31.48435 22.279229 30.850893 23.913311 29.922407  C 25.547392 28.993921 27.00524 27.784837 28.219923 26.350663  C 29.434606 24.91649 30.387246 23.279517 31.034108 21.514899  C 31.68097 19.75028 32.012 17.885442 32.012 16.005998  L 16.006 16.005997  L 28.636983 6.174908  z \" style=\"fill:#a1dab4;stroke:#444443;stroke-linejoin:miter;stroke-width:0.5;\" />\n   </g>\n   <g id=\"text_1\">\n    \n    <g style=\"fill:#444443;\" transform=\"translate(5.870453 39.734508)scale(0.09 -0.09)\">\n     <defs>\n      <path d=\"M 422 0  L 422 3319  L 928 3319  L 928 2847  Q 1294 3394 1984 3394  Q 2284 3394 2536 3286  Q 2788 3178 2913 3003  Q 3038 2828 3088 2588  Q 3119 2431 3119 2041  L 3119 0  L 2556 0  L 2556 2019  Q 2556 2363 2490 2533  Q 2425 2703 2258 2804  Q 2091 2906 1866 2906  Q 1506 2906 1245 2678  Q 984 2450 984 1813  L 984 0  L 422 0  z \" id=\"ArialMT-6e\" transform=\"scale(0.015625)\" />\n      <path d=\"M 3381 2694  L 356 2694  L 356 3219  L 3381 3219  L 3381 2694  z M 3381 1303  L 356 1303  L 356 1828  L 3381 1828  L 3381 1303  z \" id=\"ArialMT-3d\" transform=\"scale(0.015625)\" />\n      <path d=\"M 2384 0  L 1822 0  L 1822 3584  Q 1619 3391 1289 3197  Q 959 3003 697 2906  L 697 3450  Q 1169 3672 1522 3987  Q 1875 4303 2022 4600  L 2384 4600  L 2384 0  z \" id=\"ArialMT-31\" transform=\"scale(0.015625)\" />\n      <path d=\"M 350 1059  L 891 1109  Q 959 728 1153 556  Q 1347 384 1650 384  Q 1909 384 2104 503  Q 2300 622 2425 820  Q 2550 1019 2634 1356  Q 2719 1694 2719 2044  Q 2719 2081 2716 2156  Q 2547 1888 2255 1720  Q 1963 1553 1622 1553  Q 1053 1553 659 1965  Q 266 2378 266 3053  Q 266 3750 677 4175  Q 1088 4600 1706 4600  Q 2153 4600 2523 4359  Q 2894 4119 3086 3673  Q 3278 3228 3278 2384  Q 3278 1506 3087 986  Q 2897 466 2520 194  Q 2144 -78 1638 -78  Q 1100 -78 759 220  Q 419 519 350 1059  z M 2653 3081  Q 2653 3566 2395 3850  Q 2138 4134 1775 4134  Q 1400 4134 1122 3828  Q 844 3522 844 3034  Q 844 2597 1108 2323  Q 1372 2050 1759 2050  Q 2150 2050 2401 2323  Q 2653 2597 2653 3081  z \" id=\"ArialMT-39\" transform=\"scale(0.015625)\" />\n     </defs>\n     <use xlink:href=\"#ArialMT-6e\" />\n     <use x=\"55.615234\" xlink:href=\"#ArialMT-3d\" />\n     <use x=\"114.013672\" xlink:href=\"#ArialMT-31\" />\n     <use x=\"169.628906\" xlink:href=\"#ArialMT-39\" />\n    </g>\n    \n    <g style=\"fill:#444443;\" transform=\"translate(13.503578 49.253695)scale(0.09 -0.09)\">\n     <use xlink:href=\"#ArialMT-31\" />\n    </g>\n   </g>\n  </g>\n </g>\n</svg></g>\n\n<g id=\"edge10\" class=\"edge\">\n<title>node9-&gt;leaf10</title>\n<path fill=\"none\" stroke=\"#444443\" stroke-width=\"0.3\" d=\"M969.46,-202.69C965.67,-190.82 961.24,-176.9 957.46,-165.06\" />\n<polygon fill=\"#444443\" stroke=\"#444443\" stroke-width=\"0.3\" points=\"958.76,-164.51 956.21,-161.13 956.09,-165.36 958.76,-164.51\" />\n</g>\n\n<g id=\"node12\" class=\"node\">\n<title>leaf11</title>\n<polygon fill=\"none\" stroke=\"#444443\" stroke-width=\"0\" points=\"1033,-172 979,-172 979,-103 1033,-103 1033,-172\" />\n<svg height=\"61px\" version=\"1.1\" viewBox=\"0 0 61.003997 81.194122\" width=\"46px\" preserveAspectRatio=\"xMinYMin meet\" x=\"983\" y=\"-167.5\">\n <metadata>\n  <rdf:RDF>\n   <ns2:Work>\n    <dc:type rdf:resource=\"http://purl.org/dc/dcmitype/StillImage\" />\n    <dc:date>2022-06-06T19:39:03.213366</dc:date>\n    <dc:format>image/svg+xml</dc:format>\n    <dc:creator>\n     <ns2:Agent>\n      <dc:title>Matplotlib v3.4.3, https://matplotlib.org/</dc:title>\n     </ns2:Agent>\n    </dc:creator>\n   </ns2:Work>\n  </rdf:RDF>\n </metadata>\n <defs>\n  <style type=\"text/css\">*{stroke-linecap:butt;stroke-linejoin:round;}</style>\n </defs>\n <g id=\"figure_1\">\n  <g id=\"patch_1\">\n   <path d=\"M 0 81.194122  L 61.003997 81.194122  L 61.003997 0  L 0 0  z \" style=\"fill:none;\" />\n  </g>\n  <g id=\"axes_1\">\n   <g id=\"patch_2\">\n    <path d=\"M 61.003997 30.501994  C 61.003997 29.759083 60.976856 29.01642 60.922627 28.27549  C 60.868398 27.534561 60.787117 26.795861 60.678949 26.060867  L 30.501997 30.501994  L 61.003997 30.501994  z \" style=\"fill:#fefebb;stroke:#444443;stroke-linejoin:miter;stroke-width:0.5;\" />\n   </g>\n   <g id=\"patch_3\">\n    <path d=\"M 60.678949 26.060867  C 60.109391 22.19079 58.800632 18.466166 56.824162 15.09045  C 54.847691 11.714735 52.240165 8.750535 49.144018 6.359768  C 46.047871 3.969001 42.520525 2.196007 38.754661 1.137635  C 34.988796 0.079263 31.054253 -0.244858 27.165957 0.182976  C 23.277661 0.61081 19.507723 1.782665 16.062075 3.634529  C 12.616427 5.486393 9.558972 7.983921 7.056723 10.990686  C 4.554473 13.997452 2.653836 17.457691 1.458633 21.18239  C 0.26343 24.907088 -0.204172 28.827168 0.081368 32.728496  C 0.366908 36.629823 1.400296 40.440045 3.125082 43.951028  C 4.849868 47.462011 7.234066 50.608641 10.147438 53.219034  C 13.06081 55.829427 16.449326 57.855171 20.127888 59.18561  C 23.80645 60.516049 27.706837 61.126509 31.61599 60.983644  C 35.525144 60.840779 39.370565 59.947238 42.942198 58.35183  C 46.513831 56.756423 49.745438 54.488738 52.460492 51.672646  C 55.175546 48.856554 57.323694 45.544284 58.787594 41.916766  C 60.251494 38.289248 61.003997 34.413759 61.003997 30.501996  L 30.501997 30.501994  L 60.678949 26.060867  z \" style=\"fill:#a1dab4;stroke:#444443;stroke-linejoin:miter;stroke-width:0.5;\" />\n   </g>\n   <g id=\"text_1\">\n    \n    <g style=\"fill:#444443;\" transform=\"translate(20.36645 69.886185)scale(0.09 -0.09)\">\n     <defs>\n      <path d=\"M 422 0  L 422 3319  L 928 3319  L 928 2847  Q 1294 3394 1984 3394  Q 2284 3394 2536 3286  Q 2788 3178 2913 3003  Q 3038 2828 3088 2588  Q 3119 2431 3119 2041  L 3119 0  L 2556 0  L 2556 2019  Q 2556 2363 2490 2533  Q 2425 2703 2258 2804  Q 2091 2906 1866 2906  Q 1506 2906 1245 2678  Q 984 2450 984 1813  L 984 0  L 422 0  z \" id=\"ArialMT-6e\" transform=\"scale(0.015625)\" />\n      <path d=\"M 3381 2694  L 356 2694  L 356 3219  L 3381 3219  L 3381 2694  z M 3381 1303  L 356 1303  L 356 1828  L 3381 1828  L 3381 1303  z \" id=\"ArialMT-3d\" transform=\"scale(0.015625)\" />\n      <path d=\"M 2069 0  L 2069 1097  L 81 1097  L 81 1613  L 2172 4581  L 2631 4581  L 2631 1613  L 3250 1613  L 3250 1097  L 2631 1097  L 2631 0  L 2069 0  z M 2069 1613  L 2069 3678  L 634 1613  L 2069 1613  z \" id=\"ArialMT-34\" transform=\"scale(0.015625)\" />\n      <path d=\"M 269 1209  L 831 1284  Q 928 806 1161 595  Q 1394 384 1728 384  Q 2125 384 2398 659  Q 2672 934 2672 1341  Q 2672 1728 2419 1979  Q 2166 2231 1775 2231  Q 1616 2231 1378 2169  L 1441 2663  Q 1497 2656 1531 2656  Q 1891 2656 2178 2843  Q 2466 3031 2466 3422  Q 2466 3731 2256 3934  Q 2047 4138 1716 4138  Q 1388 4138 1169 3931  Q 950 3725 888 3313  L 325 3413  Q 428 3978 793 4289  Q 1159 4600 1703 4600  Q 2078 4600 2393 4439  Q 2709 4278 2876 4000  Q 3044 3722 3044 3409  Q 3044 3113 2884 2869  Q 2725 2625 2413 2481  Q 2819 2388 3044 2092  Q 3269 1797 3269 1353  Q 3269 753 2831 336  Q 2394 -81 1725 -81  Q 1122 -81 723 278  Q 325 638 269 1209  z \" id=\"ArialMT-33\" transform=\"scale(0.015625)\" />\n     </defs>\n     <use xlink:href=\"#ArialMT-6e\" />\n     <use x=\"55.615234\" xlink:href=\"#ArialMT-3d\" />\n     <use x=\"114.013672\" xlink:href=\"#ArialMT-34\" />\n     <use x=\"169.628906\" xlink:href=\"#ArialMT-33\" />\n    </g>\n    \n    <g style=\"fill:#444443;\" transform=\"translate(27.999575 79.405372)scale(0.09 -0.09)\">\n     <defs>\n      <path d=\"M 2384 0  L 1822 0  L 1822 3584  Q 1619 3391 1289 3197  Q 959 3003 697 2906  L 697 3450  Q 1169 3672 1522 3987  Q 1875 4303 2022 4600  L 2384 4600  L 2384 0  z \" id=\"ArialMT-31\" transform=\"scale(0.015625)\" />\n     </defs>\n     <use xlink:href=\"#ArialMT-31\" />\n    </g>\n   </g>\n  </g>\n </g>\n</svg></g>\n\n<g id=\"edge11\" class=\"edge\">\n<title>node9-&gt;leaf11</title>\n<path fill=\"none\" stroke=\"#444443\" stroke-width=\"0.3\" d=\"M986.25,-202.69C988.77,-194.49 991.6,-185.31 994.3,-176.51\" />\n<polygon fill=\"#444443\" stroke=\"#444443\" stroke-width=\"0.3\" points=\"995.78,-176.47 995.62,-172.23 993.11,-175.64 995.78,-176.47\" />\n</g>\n\n<g id=\"node13\" class=\"node\">\n<title>leaf12</title>\n<polygon fill=\"none\" stroke=\"#444443\" stroke-width=\"0\" points=\"1138.5,-272 1071.5,-272 1071.5,-189 1138.5,-189 1138.5,-272\" />\n<svg height=\"75px\" version=\"1.1\" viewBox=\"0 0 78.52 99.410769\" width=\"59px\" preserveAspectRatio=\"xMinYMin meet\" x=\"1076\" y=\"-267.5\">\n <metadata>\n  <rdf:RDF>\n   <ns2:Work>\n    <dc:type rdf:resource=\"http://purl.org/dc/dcmitype/StillImage\" />\n    <dc:date>2022-06-06T19:39:03.262371</dc:date>\n    <dc:format>image/svg+xml</dc:format>\n    <dc:creator>\n     <ns2:Agent>\n      <dc:title>Matplotlib v3.4.3, https://matplotlib.org/</dc:title>\n     </ns2:Agent>\n    </dc:creator>\n   </ns2:Work>\n  </rdf:RDF>\n </metadata>\n <defs>\n  <style type=\"text/css\">*{stroke-linecap:butt;stroke-linejoin:round;}</style>\n </defs>\n <g id=\"figure_1\">\n  <g id=\"patch_1\">\n   <path d=\"M -0 99.410769  L 78.52 99.410769  L 78.52 0  L -0 0  z \" style=\"fill:none;\" />\n  </g>\n  <g id=\"axes_1\">\n   <g id=\"patch_2\">\n    <path d=\"M 78.52 39.26  C 78.52 34.104424 77.504464 28.99898 75.53151 24.235848  C 73.558557 19.472717 70.666555 15.14453 67.021012 11.498988  C 63.37547 7.853445 59.047283 4.961443 54.284152 2.98849  C 49.52102 1.015536 44.415576 0 39.26 0  C 34.104424 0 28.99898 1.015536 24.235848 2.98849  C 19.472717 4.961443 15.14453 7.853445 11.498988 11.498988  C 7.853445 15.14453 4.961443 19.472717 2.98849 24.235848  C 1.015536 28.99898 0 34.104424 0 39.26  C 0 44.415576 1.015536 49.52102 2.98849 54.284152  C 4.961443 59.047283 7.853445 63.37547 11.498988 67.021012  C 15.14453 70.666555 19.472717 73.558557 24.235848 75.53151  C 28.99898 77.504464 34.104424 78.52 39.26 78.52  C 44.415576 78.52 49.52102 77.504464 54.284152 75.53151  C 59.047283 73.558557 63.37547 70.666555 67.021012 67.021012  C 70.666555 63.37547 73.558557 59.047283 75.53151 54.284152  C 77.504464 49.52102 78.52 44.415576 78.52 39.26  M 39.26 39.26  M 78.52 39.26  z \" style=\"fill:#a1dab4;stroke:#444443;stroke-linejoin:miter;stroke-width:0.5;\" />\n   </g>\n   <g id=\"text_1\">\n    \n    <g style=\"fill:#444443;\" transform=\"translate(29.124453 88.102831)scale(0.09 -0.09)\">\n     <defs>\n      <path d=\"M 422 0  L 422 3319  L 928 3319  L 928 2847  Q 1294 3394 1984 3394  Q 2284 3394 2536 3286  Q 2788 3178 2913 3003  Q 3038 2828 3088 2588  Q 3119 2431 3119 2041  L 3119 0  L 2556 0  L 2556 2019  Q 2556 2363 2490 2533  Q 2425 2703 2258 2804  Q 2091 2906 1866 2906  Q 1506 2906 1245 2678  Q 984 2450 984 1813  L 984 0  L 422 0  z \" id=\"ArialMT-6e\" transform=\"scale(0.015625)\" />\n      <path d=\"M 3381 2694  L 356 2694  L 356 3219  L 3381 3219  L 3381 2694  z M 3381 1303  L 356 1303  L 356 1828  L 3381 1828  L 3381 1303  z \" id=\"ArialMT-3d\" transform=\"scale(0.015625)\" />\n      <path d=\"M 3184 3459  L 2625 3416  Q 2550 3747 2413 3897  Q 2184 4138 1850 4138  Q 1581 4138 1378 3988  Q 1113 3794 959 3422  Q 806 3050 800 2363  Q 1003 2672 1297 2822  Q 1591 2972 1913 2972  Q 2475 2972 2870 2558  Q 3266 2144 3266 1488  Q 3266 1056 3080 686  Q 2894 316 2569 119  Q 2244 -78 1831 -78  Q 1128 -78 684 439  Q 241 956 241 2144  Q 241 3472 731 4075  Q 1159 4600 1884 4600  Q 2425 4600 2770 4297  Q 3116 3994 3184 3459  z M 888 1484  Q 888 1194 1011 928  Q 1134 663 1356 523  Q 1578 384 1822 384  Q 2178 384 2434 671  Q 2691 959 2691 1453  Q 2691 1928 2437 2201  Q 2184 2475 1800 2475  Q 1419 2475 1153 2201  Q 888 1928 888 1484  z \" id=\"ArialMT-36\" transform=\"scale(0.015625)\" />\n      <path d=\"M 3222 541  L 3222 0  L 194 0  Q 188 203 259 391  Q 375 700 629 1000  Q 884 1300 1366 1694  Q 2113 2306 2375 2664  Q 2638 3022 2638 3341  Q 2638 3675 2398 3904  Q 2159 4134 1775 4134  Q 1369 4134 1125 3890  Q 881 3647 878 3216  L 300 3275  Q 359 3922 746 4261  Q 1134 4600 1788 4600  Q 2447 4600 2831 4234  Q 3216 3869 3216 3328  Q 3216 3053 3103 2787  Q 2991 2522 2730 2228  Q 2469 1934 1863 1422  Q 1356 997 1212 845  Q 1069 694 975 541  L 3222 541  z \" id=\"ArialMT-32\" transform=\"scale(0.015625)\" />\n     </defs>\n     <use xlink:href=\"#ArialMT-6e\" />\n     <use x=\"55.615234\" xlink:href=\"#ArialMT-3d\" />\n     <use x=\"114.013672\" xlink:href=\"#ArialMT-36\" />\n     <use x=\"169.628906\" xlink:href=\"#ArialMT-32\" />\n    </g>\n    \n    <g style=\"fill:#444443;\" transform=\"translate(36.757578 97.622019)scale(0.09 -0.09)\">\n     <defs>\n      <path d=\"M 2384 0  L 1822 0  L 1822 3584  Q 1619 3391 1289 3197  Q 959 3003 697 2906  L 697 3450  Q 1169 3672 1522 3987  Q 1875 4303 2022 4600  L 2384 4600  L 2384 0  z \" id=\"ArialMT-31\" transform=\"scale(0.015625)\" />\n     </defs>\n     <use xlink:href=\"#ArialMT-31\" />\n    </g>\n   </g>\n  </g>\n </g>\n</svg></g>\n\n\n<g id=\"edge13\" class=\"edge\">\n<title>node8-&gt;node9</title>\n<path fill=\"none\" stroke=\"#444443\" stroke-width=\"0.3\" d=\"M978,-288.55C978,-280.01 978,-270.77 978,-262.27\" />\n<polygon fill=\"#444443\" stroke=\"#444443\" stroke-width=\"0.3\" points=\"979.4,-262.17 978,-258.17 976.6,-262.17 979.4,-262.17\" />\n</g>\n\n<g id=\"edge14\" class=\"edge\">\n<title>node8-&gt;leaf12</title>\n<path fill=\"none\" stroke=\"#444443\" stroke-width=\"0.3\" d=\"M1022.78,-288.8C1037.52,-278.52 1053.75,-267.21 1067.86,-257.38\" />\n<polygon fill=\"#444443\" stroke=\"#444443\" stroke-width=\"0.3\" points=\"1068.92,-258.35 1071.4,-254.91 1067.32,-256.05 1068.92,-258.35\" />\n</g>\n\n<g id=\"node6\" class=\"node\">\n<title>node0</title>\n<polygon fill=\"none\" stroke=\"#d67c03\" stroke-width=\"0.5\" stroke-dasharray=\"5,2\" points=\"887.5,-476 724.5,-476 724.5,-384 887.5,-384 887.5,-476\" />\n<svg height=\"84px\" version=\"1.1\" viewBox=\"0 0 206.41 111.256875\" width=\"155px\" preserveAspectRatio=\"xMinYMin meet\" x=\"729\" y=\"-472\">\n <metadata>\n  <rdf:RDF>\n   <ns2:Work>\n    <dc:type rdf:resource=\"http://purl.org/dc/dcmitype/StillImage\" />\n    <dc:date>2022-06-06T19:39:02.673327</dc:date>\n    <dc:format>image/svg+xml</dc:format>\n    <dc:creator>\n     <ns2:Agent>\n      <dc:title>Matplotlib v3.4.3, https://matplotlib.org/</dc:title>\n     </ns2:Agent>\n    </dc:creator>\n   </ns2:Work>\n  </rdf:RDF>\n </metadata>\n <defs>\n  <style type=\"text/css\">*{stroke-linecap:butt;stroke-linejoin:round;}</style>\n </defs>\n <g id=\"figure_1\">\n  <g id=\"patch_1\">\n   <path d=\"M 0 111.256875  L 206.41 111.256875  L 206.41 0  L 0 0  z \" style=\"fill:none;\" />\n  </g>\n  <g id=\"axes_1\">\n   <g id=\"patch_2\">\n    <path d=\"M 22.27 81.54  L 206.41 81.54  L 206.41 0  L 22.27 0  z \" style=\"fill:#ffffff;\" />\n   </g>\n   <g id=\"patch_3\">\n    <path clip-path=\"url(#p47daaa2407)\" d=\"M 34.754068 81.54  L 42.96727 81.54  L 42.96727 65.257051  L 34.754068 65.257051  z \" style=\"fill:#fefebb;stroke:#444443;stroke-linejoin:miter;stroke-width:0.5;\" />\n   </g>\n   <g id=\"patch_4\">\n    <path clip-path=\"url(#p47daaa2407)\" d=\"M 42.96727 81.54  L 51.180473 81.54  L 51.180473 81.54  L 42.96727 81.54  z \" style=\"fill:#fefebb;stroke:#444443;stroke-linejoin:miter;stroke-width:0.5;\" />\n   </g>\n   <g id=\"patch_5\">\n    <path clip-path=\"url(#p47daaa2407)\" d=\"M 51.180473 81.54  L 59.393675 81.54  L 59.393675 81.54  L 51.180473 81.54  z \" style=\"fill:#fefebb;stroke:#444443;stroke-linejoin:miter;stroke-width:0.5;\" />\n   </g>\n   <g id=\"patch_6\">\n    <path clip-path=\"url(#p47daaa2407)\" d=\"M 59.393675 81.54  L 67.606878 81.54  L 67.606878 81.54  L 59.393675 81.54  z \" style=\"fill:#fefebb;stroke:#444443;stroke-linejoin:miter;stroke-width:0.5;\" />\n   </g>\n   <g id=\"patch_7\">\n    <path clip-path=\"url(#p47daaa2407)\" d=\"M 67.606878 81.54  L 75.82008 81.54  L 75.82008 81.54  L 67.606878 81.54  z \" style=\"fill:#fefebb;stroke:#444443;stroke-linejoin:miter;stroke-width:0.5;\" />\n   </g>\n   <g id=\"patch_8\">\n    <path clip-path=\"url(#p47daaa2407)\" d=\"M 75.82008 81.54  L 84.033283 81.54  L 84.033283 81.54  L 75.82008 81.54  z \" style=\"fill:#fefebb;stroke:#444443;stroke-linejoin:miter;stroke-width:0.5;\" />\n   </g>\n   <g id=\"patch_9\">\n    <path clip-path=\"url(#p47daaa2407)\" d=\"M 84.033283 81.54  L 92.246485 81.54  L 92.246485 81.54  L 84.033283 81.54  z \" style=\"fill:#fefebb;stroke:#444443;stroke-linejoin:miter;stroke-width:0.5;\" />\n   </g>\n   <g id=\"patch_10\">\n    <path clip-path=\"url(#p47daaa2407)\" d=\"M 92.246485 81.54  L 100.459688 81.54  L 100.459688 81.54  L 92.246485 81.54  z \" style=\"fill:#fefebb;stroke:#444443;stroke-linejoin:miter;stroke-width:0.5;\" />\n   </g>\n   <g id=\"patch_11\">\n    <path clip-path=\"url(#p47daaa2407)\" d=\"M 100.459688 81.54  L 108.67289 81.54  L 108.67289 81.54  L 100.459688 81.54  z \" style=\"fill:#fefebb;stroke:#444443;stroke-linejoin:miter;stroke-width:0.5;\" />\n   </g>\n   <g id=\"patch_12\">\n    <path clip-path=\"url(#p47daaa2407)\" d=\"M 108.67289 81.54  L 116.886093 81.54  L 116.886093 81.54  L 108.67289 81.54  z \" style=\"fill:#fefebb;stroke:#444443;stroke-linejoin:miter;stroke-width:0.5;\" />\n   </g>\n   <g id=\"patch_13\">\n    <path clip-path=\"url(#p47daaa2407)\" d=\"M 116.886093 81.54  L 125.099295 81.54  L 125.099295 81.54  L 116.886093 81.54  z \" style=\"fill:#fefebb;stroke:#444443;stroke-linejoin:miter;stroke-width:0.5;\" />\n   </g>\n   <g id=\"patch_14\">\n    <path clip-path=\"url(#p47daaa2407)\" d=\"M 125.099295 81.54  L 133.312498 81.54  L 133.312498 81.54  L 125.099295 81.54  z \" style=\"fill:#fefebb;stroke:#444443;stroke-linejoin:miter;stroke-width:0.5;\" />\n   </g>\n   <g id=\"patch_15\">\n    <path clip-path=\"url(#p47daaa2407)\" d=\"M 133.312498 81.54  L 141.5257 81.54  L 141.5257 81.54  L 133.312498 81.54  z \" style=\"fill:#fefebb;stroke:#444443;stroke-linejoin:miter;stroke-width:0.5;\" />\n   </g>\n   <g id=\"patch_16\">\n    <path clip-path=\"url(#p47daaa2407)\" d=\"M 141.5257 81.54  L 149.738903 81.54  L 149.738903 81.54  L 141.5257 81.54  z \" style=\"fill:#fefebb;stroke:#444443;stroke-linejoin:miter;stroke-width:0.5;\" />\n   </g>\n   <g id=\"patch_17\">\n    <path clip-path=\"url(#p47daaa2407)\" d=\"M 149.738903 81.54  L 157.952105 81.54  L 157.952105 81.54  L 149.738903 81.54  z \" style=\"fill:#fefebb;stroke:#444443;stroke-linejoin:miter;stroke-width:0.5;\" />\n   </g>\n   <g id=\"patch_18\">\n    <path clip-path=\"url(#p47daaa2407)\" d=\"M 157.952105 81.54  L 166.165308 81.54  L 166.165308 81.54  L 157.952105 81.54  z \" style=\"fill:#fefebb;stroke:#444443;stroke-linejoin:miter;stroke-width:0.5;\" />\n   </g>\n   <g id=\"patch_19\">\n    <path clip-path=\"url(#p47daaa2407)\" d=\"M 166.165308 81.54  L 174.37851 81.54  L 174.37851 81.54  L 166.165308 81.54  z \" style=\"fill:#fefebb;stroke:#444443;stroke-linejoin:miter;stroke-width:0.5;\" />\n   </g>\n   <g id=\"patch_20\">\n    <path clip-path=\"url(#p47daaa2407)\" d=\"M 174.37851 81.54  L 182.591713 81.54  L 182.591713 81.54  L 174.37851 81.54  z \" style=\"fill:#fefebb;stroke:#444443;stroke-linejoin:miter;stroke-width:0.5;\" />\n   </g>\n   <g id=\"patch_21\">\n    <path clip-path=\"url(#p47daaa2407)\" d=\"M 182.591713 81.54  L 190.804915 81.54  L 190.804915 79.661198  L 182.591713 79.661198  z \" style=\"fill:#fefebb;stroke:#444443;stroke-linejoin:miter;stroke-width:0.5;\" />\n   </g>\n   <g id=\"patch_22\">\n    <path clip-path=\"url(#p47daaa2407)\" d=\"M 34.754068 65.257051  L 42.96727 65.257051  L 42.96727 14.529401  L 34.754068 14.529401  z \" style=\"fill:#a1dab4;stroke:#444443;stroke-linejoin:miter;stroke-width:0.5;\" />\n   </g>\n   <g id=\"patch_23\">\n    <path clip-path=\"url(#p47daaa2407)\" d=\"M 42.96727 81.54  L 51.180473 81.54  L 51.180473 81.54  L 42.96727 81.54  z \" style=\"fill:#a1dab4;stroke:#444443;stroke-linejoin:miter;stroke-width:0.5;\" />\n   </g>\n   <g id=\"patch_24\">\n    <path clip-path=\"url(#p47daaa2407)\" d=\"M 51.180473 81.54  L 59.393675 81.54  L 59.393675 81.54  L 51.180473 81.54  z \" style=\"fill:#a1dab4;stroke:#444443;stroke-linejoin:miter;stroke-width:0.5;\" />\n   </g>\n   <g id=\"patch_25\">\n    <path clip-path=\"url(#p47daaa2407)\" d=\"M 59.393675 81.54  L 67.606878 81.54  L 67.606878 81.54  L 59.393675 81.54  z \" style=\"fill:#a1dab4;stroke:#444443;stroke-linejoin:miter;stroke-width:0.5;\" />\n   </g>\n   <g id=\"patch_26\">\n    <path clip-path=\"url(#p47daaa2407)\" d=\"M 67.606878 81.54  L 75.82008 81.54  L 75.82008 81.54  L 67.606878 81.54  z \" style=\"fill:#a1dab4;stroke:#444443;stroke-linejoin:miter;stroke-width:0.5;\" />\n   </g>\n   <g id=\"patch_27\">\n    <path clip-path=\"url(#p47daaa2407)\" d=\"M 75.82008 81.54  L 84.033283 81.54  L 84.033283 81.54  L 75.82008 81.54  z \" style=\"fill:#a1dab4;stroke:#444443;stroke-linejoin:miter;stroke-width:0.5;\" />\n   </g>\n   <g id=\"patch_28\">\n    <path clip-path=\"url(#p47daaa2407)\" d=\"M 84.033283 81.54  L 92.246485 81.54  L 92.246485 81.54  L 84.033283 81.54  z \" style=\"fill:#a1dab4;stroke:#444443;stroke-linejoin:miter;stroke-width:0.5;\" />\n   </g>\n   <g id=\"patch_29\">\n    <path clip-path=\"url(#p47daaa2407)\" d=\"M 92.246485 81.54  L 100.459688 81.54  L 100.459688 81.54  L 92.246485 81.54  z \" style=\"fill:#a1dab4;stroke:#444443;stroke-linejoin:miter;stroke-width:0.5;\" />\n   </g>\n   <g id=\"patch_30\">\n    <path clip-path=\"url(#p47daaa2407)\" d=\"M 100.459688 81.54  L 108.67289 81.54  L 108.67289 81.54  L 100.459688 81.54  z \" style=\"fill:#a1dab4;stroke:#444443;stroke-linejoin:miter;stroke-width:0.5;\" />\n   </g>\n   <g id=\"patch_31\">\n    <path clip-path=\"url(#p47daaa2407)\" d=\"M 108.67289 81.54  L 116.886093 81.54  L 116.886093 81.54  L 108.67289 81.54  z \" style=\"fill:#a1dab4;stroke:#444443;stroke-linejoin:miter;stroke-width:0.5;\" />\n   </g>\n   <g id=\"patch_32\">\n    <path clip-path=\"url(#p47daaa2407)\" d=\"M 116.886093 81.54  L 125.099295 81.54  L 125.099295 81.54  L 116.886093 81.54  z \" style=\"fill:#a1dab4;stroke:#444443;stroke-linejoin:miter;stroke-width:0.5;\" />\n   </g>\n   <g id=\"patch_33\">\n    <path clip-path=\"url(#p47daaa2407)\" d=\"M 125.099295 81.54  L 133.312498 81.54  L 133.312498 81.54  L 125.099295 81.54  z \" style=\"fill:#a1dab4;stroke:#444443;stroke-linejoin:miter;stroke-width:0.5;\" />\n   </g>\n   <g id=\"patch_34\">\n    <path clip-path=\"url(#p47daaa2407)\" d=\"M 133.312498 81.54  L 141.5257 81.54  L 141.5257 81.54  L 133.312498 81.54  z \" style=\"fill:#a1dab4;stroke:#444443;stroke-linejoin:miter;stroke-width:0.5;\" />\n   </g>\n   <g id=\"patch_35\">\n    <path clip-path=\"url(#p47daaa2407)\" d=\"M 141.5257 81.54  L 149.738903 81.54  L 149.738903 81.54  L 141.5257 81.54  z \" style=\"fill:#a1dab4;stroke:#444443;stroke-linejoin:miter;stroke-width:0.5;\" />\n   </g>\n   <g id=\"patch_36\">\n    <path clip-path=\"url(#p47daaa2407)\" d=\"M 149.738903 81.54  L 157.952105 81.54  L 157.952105 81.54  L 149.738903 81.54  z \" style=\"fill:#a1dab4;stroke:#444443;stroke-linejoin:miter;stroke-width:0.5;\" />\n   </g>\n   <g id=\"patch_37\">\n    <path clip-path=\"url(#p47daaa2407)\" d=\"M 157.952105 81.54  L 166.165308 81.54  L 166.165308 81.54  L 157.952105 81.54  z \" style=\"fill:#a1dab4;stroke:#444443;stroke-linejoin:miter;stroke-width:0.5;\" />\n   </g>\n   <g id=\"patch_38\">\n    <path clip-path=\"url(#p47daaa2407)\" d=\"M 166.165308 81.54  L 174.37851 81.54  L 174.37851 81.54  L 166.165308 81.54  z \" style=\"fill:#a1dab4;stroke:#444443;stroke-linejoin:miter;stroke-width:0.5;\" />\n   </g>\n   <g id=\"patch_39\">\n    <path clip-path=\"url(#p47daaa2407)\" d=\"M 174.37851 81.54  L 182.591713 81.54  L 182.591713 81.54  L 174.37851 81.54  z \" style=\"fill:#a1dab4;stroke:#444443;stroke-linejoin:miter;stroke-width:0.5;\" />\n   </g>\n   <g id=\"patch_40\">\n    <path clip-path=\"url(#p47daaa2407)\" d=\"M 182.591713 79.661198  L 190.804915 79.661198  L 190.804915 3.882857  L 182.591713 3.882857  z \" style=\"fill:#a1dab4;stroke:#444443;stroke-linejoin:miter;stroke-width:0.5;\" />\n   </g>\n   <g id=\"patch_41\">\n    <path d=\"M 112.779492 82.3554  L 109.464972 89.694  L 116.094012 89.694  z \" style=\"fill:#444443;\" />\n   </g>\n   <g id=\"patch_42\">\n    <path d=\"M 34.754068 82.3554  L 31.439548 89.694  L 38.068588 89.694  z \" style=\"fill:#d67c03;\" />\n   </g>\n   <g id=\"matplotlib.axis_1\">\n    <g id=\"xtick_1\">\n     <g id=\"line2d_1\">\n      <defs>\n       <path d=\"M 0 0  L 0 3.5  \" id=\"ma84fd68031\" style=\"stroke:#000000;stroke-width:0.3;\" />\n      </defs>\n      <g>\n       <use style=\"stroke:#000000;stroke-width:0.3;\" x=\"34.754068\" xlink:href=\"#ma84fd68031\" y=\"81.54\" />\n      </g>\n     </g>\n     <g id=\"text_1\">\n      \n      <g style=\"fill:#444443;\" transform=\"translate(32.209068 94.61875)scale(0.08 -0.08)\">\n       <defs>\n        <path d=\"M 794 531  L 1825 531  L 1825 4091  L 703 3866  L 703 4441  L 1819 4666  L 2450 4666  L 2450 531  L 3481 531  L 3481 0  L 794 0  L 794 531  z \" id=\"DejaVuSans-31\" transform=\"scale(0.015625)\" />\n       </defs>\n       <use xlink:href=\"#DejaVuSans-31\" />\n      </g>\n     </g>\n    </g>\n    <g id=\"xtick_2\">\n     <g id=\"line2d_2\">\n      <g>\n       <use style=\"stroke:#000000;stroke-width:0.3;\" x=\"190.804915\" xlink:href=\"#ma84fd68031\" y=\"81.54\" />\n      </g>\n     </g>\n     <g id=\"text_2\">\n      \n      <g style=\"fill:#444443;\" transform=\"translate(188.259915 94.61875)scale(0.08 -0.08)\">\n       <defs>\n        <path d=\"M 1228 531  L 3431 531  L 3431 0  L 469 0  L 469 531  Q 828 903 1448 1529  Q 2069 2156 2228 2338  Q 2531 2678 2651 2914  Q 2772 3150 2772 3378  Q 2772 3750 2511 3984  Q 2250 4219 1831 4219  Q 1534 4219 1204 4116  Q 875 4013 500 3803  L 500 4441  Q 881 4594 1212 4672  Q 1544 4750 1819 4750  Q 2544 4750 2975 4387  Q 3406 4025 3406 3419  Q 3406 3131 3298 2873  Q 3191 2616 2906 2266  Q 2828 2175 2409 1742  Q 1991 1309 1228 531  z \" id=\"DejaVuSans-32\" transform=\"scale(0.015625)\" />\n       </defs>\n       <use xlink:href=\"#DejaVuSans-32\" />\n      </g>\n     </g>\n    </g>\n    <g id=\"text_3\">\n     \n     <g style=\"fill:#444443;\" transform=\"translate(86.660312 108.871875)scale(0.12 -0.12)\">\n      <defs>\n       <path d=\"M -9 0  L 1750 4581  L 2403 4581  L 4278 0  L 3588 0  L 3053 1388  L 1138 1388  L 634 0  L -9 0  z M 1313 1881  L 2866 1881  L 2388 3150  Q 2169 3728 2063 4100  Q 1975 3659 1816 3225  L 1313 1881  z \" id=\"ArialMT-41\" transform=\"scale(0.015625)\" />\n       <path d=\"M 469 0  L 469 4581  L 1075 4581  L 1075 541  L 3331 541  L 3331 0  L 469 0  z \" id=\"ArialMT-4c\" transform=\"scale(0.015625)\" />\n       <path d=\"M 506 0  L 506 4581  L 3819 4581  L 3819 4041  L 1113 4041  L 1113 2638  L 3647 2638  L 3647 2100  L 1113 2100  L 1113 541  L 3925 541  L 3925 0  L 506 0  z \" id=\"ArialMT-45\" transform=\"scale(0.015625)\" />\n       <path d=\"M 503 0  L 503 4581  L 2534 4581  Q 3147 4581 3465 4457  Q 3784 4334 3975 4021  Q 4166 3709 4166 3331  Q 4166 2844 3850 2509  Q 3534 2175 2875 2084  Q 3116 1969 3241 1856  Q 3506 1613 3744 1247  L 4541 0  L 3778 0  L 3172 953  Q 2906 1366 2734 1584  Q 2563 1803 2427 1890  Q 2291 1978 2150 2013  Q 2047 2034 1813 2034  L 1109 2034  L 1109 0  L 503 0  z M 1109 2559  L 2413 2559  Q 2828 2559 3062 2645  Q 3297 2731 3419 2920  Q 3541 3109 3541 3331  Q 3541 3656 3305 3865  Q 3069 4075 2559 4075  L 1109 4075  L 1109 2559  z \" id=\"ArialMT-52\" transform=\"scale(0.015625)\" />\n       <path d=\"M 2638 1797  L 2638 2334  L 4578 2338  L 4578 638  Q 4131 281 3656 101  Q 3181 -78 2681 -78  Q 2006 -78 1454 211  Q 903 500 622 1047  Q 341 1594 341 2269  Q 341 2938 620 3517  Q 900 4097 1425 4378  Q 1950 4659 2634 4659  Q 3131 4659 3532 4498  Q 3934 4338 4162 4050  Q 4391 3763 4509 3300  L 3963 3150  Q 3859 3500 3706 3700  Q 3553 3900 3268 4020  Q 2984 4141 2638 4141  Q 2222 4141 1919 4014  Q 1616 3888 1430 3681  Q 1244 3475 1141 3228  Q 966 2803 966 2306  Q 966 1694 1177 1281  Q 1388 869 1791 669  Q 2194 469 2647 469  Q 3041 469 3416 620  Q 3791 772 3984 944  L 3984 1797  L 2638 1797  z \" id=\"ArialMT-47\" transform=\"scale(0.015625)\" />\n       <path d=\"M 1784 0  L 1784 1941  L 19 4581  L 756 4581  L 1659 3200  Q 1909 2813 2125 2425  Q 2331 2784 2625 3234  L 3513 4581  L 4219 4581  L 2391 1941  L 2391 0  L 1784 0  z \" id=\"ArialMT-59\" transform=\"scale(0.015625)\" />\n      </defs>\n      <use xlink:href=\"#ArialMT-41\" />\n      <use x=\"66.699219\" xlink:href=\"#ArialMT-4c\" />\n      <use x=\"122.314453\" xlink:href=\"#ArialMT-4c\" />\n      <use x=\"177.929688\" xlink:href=\"#ArialMT-45\" />\n      <use x=\"244.628906\" xlink:href=\"#ArialMT-52\" />\n      <use x=\"316.845703\" xlink:href=\"#ArialMT-47\" />\n      <use x=\"394.628906\" xlink:href=\"#ArialMT-59\" />\n     </g>\n    </g>\n   </g>\n   <g id=\"matplotlib.axis_2\">\n    <g id=\"ytick_1\">\n     <g id=\"line2d_3\">\n      <defs>\n       <path d=\"M 0 0  L -3.5 0  \" id=\"maf917574af\" style=\"stroke:#000000;stroke-width:0.3;\" />\n      </defs>\n      <g>\n       <use style=\"stroke:#000000;stroke-width:0.3;\" x=\"22.27\" xlink:href=\"#maf917574af\" y=\"81.54\" />\n      </g>\n     </g>\n     <g id=\"text_4\">\n      \n      <g style=\"fill:#444443;\" transform=\"translate(10.18 84.579375)scale(0.08 -0.08)\">\n       <defs>\n        <path d=\"M 2034 4250  Q 1547 4250 1301 3770  Q 1056 3291 1056 2328  Q 1056 1369 1301 889  Q 1547 409 2034 409  Q 2525 409 2770 889  Q 3016 1369 3016 2328  Q 3016 3291 2770 3770  Q 2525 4250 2034 4250  z M 2034 4750  Q 2819 4750 3233 4129  Q 3647 3509 3647 2328  Q 3647 1150 3233 529  Q 2819 -91 2034 -91  Q 1250 -91 836 529  Q 422 1150 422 2328  Q 422 3509 836 4129  Q 1250 4750 2034 4750  z \" id=\"DejaVuSans-30\" transform=\"scale(0.015625)\" />\n       </defs>\n       <use xlink:href=\"#DejaVuSans-30\" />\n      </g>\n     </g>\n    </g>\n    <g id=\"ytick_2\">\n     <g id=\"line2d_4\">\n      <g>\n       <use style=\"stroke:#000000;stroke-width:0.3;\" x=\"22.27\" xlink:href=\"#maf917574af\" y=\"3.882857\" />\n      </g>\n     </g>\n     <g id=\"text_5\">\n      \n      <g style=\"fill:#444443;\" transform=\"translate(0 6.922232)scale(0.08 -0.08)\">\n       <defs>\n        <path d=\"M 2419 4116  L 825 1625  L 2419 1625  L 2419 4116  z M 2253 4666  L 3047 4666  L 3047 1625  L 3713 1625  L 3713 1100  L 3047 1100  L 3047 0  L 2419 0  L 2419 1100  L 313 1100  L 313 1709  L 2253 4666  z \" id=\"DejaVuSans-34\" transform=\"scale(0.015625)\" />\n       </defs>\n       <use xlink:href=\"#DejaVuSans-31\" />\n       <use x=\"63.623047\" xlink:href=\"#DejaVuSans-32\" />\n       <use x=\"127.246094\" xlink:href=\"#DejaVuSans-34\" />\n      </g>\n     </g>\n    </g>\n   </g>\n   <g id=\"patch_43\">\n    <path d=\"M 22.27 81.54  L 22.27 0  \" style=\"fill:none;stroke:#000000;stroke-linecap:square;stroke-linejoin:miter;stroke-width:0.3;\" />\n   </g>\n   <g id=\"patch_44\">\n    <path d=\"M 22.27 81.54  L 206.41 81.54  \" style=\"fill:none;stroke:#000000;stroke-linecap:square;stroke-linejoin:miter;stroke-width:0.3;\" />\n   </g>\n   <g id=\"text_6\">\n    \n    <g style=\"fill:#444443;\" transform=\"translate(104.995117 97.848)scale(0.08 -0.08)\">\n     <defs>\n      <path d=\"M 2384 0  L 1822 0  L 1822 3584  Q 1619 3391 1289 3197  Q 959 3003 697 2906  L 697 3450  Q 1169 3672 1522 3987  Q 1875 4303 2022 4600  L 2384 4600  L 2384 0  z \" id=\"ArialMT-31\" transform=\"scale(0.015625)\" />\n      <path d=\"M 581 0  L 581 641  L 1222 641  L 1222 0  L 581 0  z \" id=\"ArialMT-2e\" transform=\"scale(0.015625)\" />\n      <path d=\"M 266 1200  L 856 1250  Q 922 819 1161 601  Q 1400 384 1738 384  Q 2144 384 2425 690  Q 2706 997 2706 1503  Q 2706 1984 2436 2262  Q 2166 2541 1728 2541  Q 1456 2541 1237 2417  Q 1019 2294 894 2097  L 366 2166  L 809 4519  L 3088 4519  L 3088 3981  L 1259 3981  L 1013 2750  Q 1425 3038 1878 3038  Q 2478 3038 2890 2622  Q 3303 2206 3303 1553  Q 3303 931 2941 478  Q 2500 -78 1738 -78  Q 1113 -78 717 272  Q 322 622 266 1200  z \" id=\"ArialMT-35\" transform=\"scale(0.015625)\" />\n      <path d=\"M 266 2259  Q 266 3072 433 3567  Q 600 4063 929 4331  Q 1259 4600 1759 4600  Q 2128 4600 2406 4451  Q 2684 4303 2865 4023  Q 3047 3744 3150 3342  Q 3253 2941 3253 2259  Q 3253 1453 3087 958  Q 2922 463 2592 192  Q 2263 -78 1759 -78  Q 1097 -78 719 397  Q 266 969 266 2259  z M 844 2259  Q 844 1131 1108 757  Q 1372 384 1759 384  Q 2147 384 2411 759  Q 2675 1134 2675 2259  Q 2675 3391 2411 3762  Q 2147 4134 1753 4134  Q 1366 4134 1134 3806  Q 844 3388 844 2259  z \" id=\"ArialMT-30\" transform=\"scale(0.015625)\" />\n     </defs>\n     <use xlink:href=\"#ArialMT-31\" />\n     <use x=\"55.615234\" xlink:href=\"#ArialMT-2e\" />\n     <use x=\"83.398438\" xlink:href=\"#ArialMT-35\" />\n     <use x=\"139.013672\" xlink:href=\"#ArialMT-30\" />\n    </g>\n   </g>\n   <g id=\"text_7\">\n    \n    <g style=\"fill:#444443;\" transform=\"translate(104.995117 97.848)scale(0.08 -0.08)\">\n     <use xlink:href=\"#ArialMT-31\" />\n     <use x=\"55.615234\" xlink:href=\"#ArialMT-2e\" />\n     <use x=\"83.398438\" xlink:href=\"#ArialMT-35\" />\n     <use x=\"139.013672\" xlink:href=\"#ArialMT-30\" />\n    </g>\n   </g>\n  </g>\n </g>\n <defs>\n  <clipPath id=\"p47daaa2407\">\n   <rect height=\"81.54\" width=\"184.14\" x=\"22.27\" y=\"0\" />\n  </clipPath>\n </defs>\n</svg></g>\n\n<g id=\"edge16\" class=\"edge\">\n<title>node0-&gt;node1</title>\n<path fill=\"none\" stroke=\"#d67c03\" stroke-width=\"1.2\" d=\"M805.58,-383.93C805.49,-374.41 805.4,-364.52 805.31,-355.52\" />\n<polygon fill=\"#d67c03\" stroke=\"#d67c03\" stroke-width=\"1.2\" points=\"806.71,-355.16 805.27,-351.17 803.91,-355.19 806.71,-355.16\" />\n<text text-anchor=\"start\" x=\"805\" y=\"-364.8\" font-family=\"Times New Roman,serif\" font-size=\"14.00\">&#8804;</text>\n</g>\n\n<g id=\"edge17\" class=\"edge\">\n<title>node0-&gt;node8</title>\n<path fill=\"none\" stroke=\"#444443\" stroke-width=\"0.3\" d=\"M878.44,-383.93C893.85,-374.35 909.85,-364.4 924.4,-355.35\" />\n<polygon fill=\"#444443\" stroke=\"#444443\" stroke-width=\"0.3\" points=\"925.41,-356.37 928.06,-353.06 923.93,-353.99 925.41,-356.37\" />\n<text text-anchor=\"start\" x=\"912\" y=\"-364.8\" font-family=\"Times New Roman,serif\" font-size=\"14.00\">&gt;</text>\n</g>\n\n\n<g id=\"node15\" class=\"node\">\n<title>X_y</title>\n<polygon fill=\"none\" stroke=\"black\" stroke-width=\"0.3\" points=\"1270,-40 8,-40 8,-8 1270,-8 1270,-40\" />\n<polygon fill=\"white\" stroke=\"transparent\" points=\"10,-24 10,-38 40,-38 40,-24 10,-24\" />\n<text text-anchor=\"start\" x=\"16\" y=\"-28.2\" font-family=\"Helvetica,sans-Serif\" font-size=\"11.00\" fill=\"#444443\">AGE</text>\n<polygon fill=\"white\" stroke=\"transparent\" points=\"40,-24 40,-38 93,-38 93,-24 40,-24\" />\n<text text-anchor=\"start\" x=\"41\" y=\"-28.2\" font-family=\"Helvetica,sans-Serif\" font-size=\"11.00\" fill=\"#444443\">SMOKING</text>\n<polygon fill=\"white\" stroke=\"transparent\" points=\"93,-24 93,-38 196,-38 196,-24 93,-24\" />\n<text text-anchor=\"start\" x=\"94\" y=\"-28.2\" font-family=\"Helvetica,sans-Serif\" font-size=\"11.00\" fill=\"#444443\">YELLOW_FINGERS</text>\n<polygon fill=\"white\" stroke=\"transparent\" points=\"196,-24 196,-38 243,-38 243,-24 196,-24\" />\n<text text-anchor=\"start\" x=\"197\" y=\"-28.2\" font-family=\"Helvetica,sans-Serif\" font-size=\"11.00\" fill=\"#444443\">ANXIETY</text>\n<polygon fill=\"white\" stroke=\"transparent\" points=\"243,-24 243,-38 344,-38 344,-24 243,-24\" />\n<text text-anchor=\"start\" x=\"244\" y=\"-28.2\" font-family=\"Helvetica,sans-Serif\" font-size=\"11.00\" fill=\"#444443\">PEER_PRESSURE</text>\n<polygon fill=\"white\" stroke=\"transparent\" points=\"344,-24 344,-38 448,-38 448,-24 344,-24\" />\n<text text-anchor=\"start\" x=\"345\" y=\"-28.2\" font-family=\"Helvetica,sans-Serif\" font-size=\"11.00\" fill=\"#444443\">CHRONIC DISEASE</text>\n<polygon fill=\"white\" stroke=\"transparent\" points=\"448,-24 448,-38 496,-38 496,-24 448,-24\" />\n<text text-anchor=\"start\" x=\"449\" y=\"-28.2\" font-family=\"Helvetica,sans-Serif\" font-size=\"11.00\" fill=\"#444443\">FATIGUE</text>\n<polygon fill=\"white\" stroke=\"transparent\" points=\"496,-24 496,-38 548,-38 548,-24 496,-24\" />\n<text text-anchor=\"start\" x=\"497\" y=\"-28.2\" font-family=\"Helvetica,sans-Serif\" font-size=\"11.00\" fill=\"#d67c03\">ALLERGY</text>\n<polygon fill=\"white\" stroke=\"transparent\" points=\"548,-24 548,-38 608,-38 608,-24 548,-24\" />\n<text text-anchor=\"start\" x=\"549\" y=\"-28.2\" font-family=\"Helvetica,sans-Serif\" font-size=\"11.00\" fill=\"#444443\">WHEEZING</text>\n<polygon fill=\"white\" stroke=\"transparent\" points=\"608,-24 608,-38 732,-38 732,-24 608,-24\" />\n<text text-anchor=\"start\" x=\"609\" y=\"-28.2\" font-family=\"Helvetica,sans-Serif\" font-size=\"11.00\" fill=\"#d67c03\">ALCOHOL CONSUMING</text>\n<polygon fill=\"white\" stroke=\"transparent\" points=\"732,-24 732,-38 793,-38 793,-24 732,-24\" />\n<text text-anchor=\"start\" x=\"733\" y=\"-28.2\" font-family=\"Helvetica,sans-Serif\" font-size=\"11.00\" fill=\"#444443\">COUGHING</text>\n<polygon fill=\"white\" stroke=\"transparent\" points=\"793,-24 793,-38 931,-38 931,-24 793,-24\" />\n<text text-anchor=\"start\" x=\"794\" y=\"-28.2\" font-family=\"Helvetica,sans-Serif\" font-size=\"11.00\" fill=\"#444443\">SHORTNESS OF BREATH</text>\n<polygon fill=\"white\" stroke=\"transparent\" points=\"931,-24 931,-38 1074,-38 1074,-24 931,-24\" />\n<text text-anchor=\"start\" x=\"932\" y=\"-28.2\" font-family=\"Helvetica,sans-Serif\" font-size=\"11.00\" fill=\"#d67c03\">SWALLOWING DIFFICULTY</text>\n<polygon fill=\"white\" stroke=\"transparent\" points=\"1074,-24 1074,-38 1141,-38 1141,-24 1074,-24\" />\n<text text-anchor=\"start\" x=\"1075\" y=\"-28.2\" font-family=\"Helvetica,sans-Serif\" font-size=\"11.00\" fill=\"#444443\">CHEST PAIN</text>\n<polygon fill=\"white\" stroke=\"transparent\" points=\"1141,-24 1141,-38 1204,-38 1204,-24 1141,-24\" />\n<text text-anchor=\"start\" x=\"1142\" y=\"-28.2\" font-family=\"Helvetica,sans-Serif\" font-size=\"11.00\" fill=\"#444443\">GENDER_F</text>\n<polygon fill=\"white\" stroke=\"transparent\" points=\"1204,-24 1204,-38 1268,-38 1268,-24 1204,-24\" />\n<text text-anchor=\"start\" x=\"1205\" y=\"-28.2\" font-family=\"Helvetica,sans-Serif\" font-size=\"11.00\" fill=\"#444443\">GENDER_M</text>\n<polygon fill=\"white\" stroke=\"transparent\" points=\"10,-10 10,-24 40,-24 40,-10 10,-10\" />\n<text text-anchor=\"start\" x=\"11\" y=\"-14.2\" font-family=\"Helvetica,sans-Serif\" font-size=\"11.00\" fill=\"#444443\">62.00</text>\n<polygon fill=\"white\" stroke=\"transparent\" points=\"40,-10 40,-24 93,-24 93,-10 40,-10\" />\n<text text-anchor=\"start\" x=\"70\" y=\"-14.2\" font-family=\"Helvetica,sans-Serif\" font-size=\"11.00\" fill=\"#444443\">2.00</text>\n<polygon fill=\"white\" stroke=\"transparent\" points=\"93,-10 93,-24 196,-24 196,-10 93,-10\" />\n<text text-anchor=\"start\" x=\"173\" y=\"-14.2\" font-family=\"Helvetica,sans-Serif\" font-size=\"11.00\" fill=\"#444443\">2.00</text>\n<polygon fill=\"white\" stroke=\"transparent\" points=\"196,-10 196,-24 243,-24 243,-10 196,-10\" />\n<text text-anchor=\"start\" x=\"220\" y=\"-14.2\" font-family=\"Helvetica,sans-Serif\" font-size=\"11.00\" fill=\"#444443\">2.00</text>\n<polygon fill=\"white\" stroke=\"transparent\" points=\"243,-10 243,-24 344,-24 344,-10 243,-10\" />\n<text text-anchor=\"start\" x=\"321\" y=\"-14.2\" font-family=\"Helvetica,sans-Serif\" font-size=\"11.00\" fill=\"#444443\">2.00</text>\n<polygon fill=\"white\" stroke=\"transparent\" points=\"344,-10 344,-24 448,-24 448,-10 344,-10\" />\n<text text-anchor=\"start\" x=\"425\" y=\"-14.2\" font-family=\"Helvetica,sans-Serif\" font-size=\"11.00\" fill=\"#444443\">2.00</text>\n<polygon fill=\"white\" stroke=\"transparent\" points=\"448,-10 448,-24 496,-24 496,-10 448,-10\" />\n<text text-anchor=\"start\" x=\"473\" y=\"-14.2\" font-family=\"Helvetica,sans-Serif\" font-size=\"11.00\" fill=\"#444443\">2.00</text>\n<polygon fill=\"white\" stroke=\"transparent\" points=\"496,-10 496,-24 548,-24 548,-10 496,-10\" />\n<text text-anchor=\"start\" x=\"525\" y=\"-14.2\" font-family=\"Helvetica,sans-Serif\" font-size=\"11.00\" fill=\"#d67c03\">1.00</text>\n<polygon fill=\"white\" stroke=\"transparent\" points=\"548,-10 548,-24 608,-24 608,-10 548,-10\" />\n<text text-anchor=\"start\" x=\"585\" y=\"-14.2\" font-family=\"Helvetica,sans-Serif\" font-size=\"11.00\" fill=\"#444443\">1.00</text>\n<polygon fill=\"white\" stroke=\"transparent\" points=\"608,-10 608,-24 732,-24 732,-10 608,-10\" />\n<text text-anchor=\"start\" x=\"709\" y=\"-14.2\" font-family=\"Helvetica,sans-Serif\" font-size=\"11.00\" fill=\"#d67c03\">1.00</text>\n<polygon fill=\"white\" stroke=\"transparent\" points=\"732,-10 732,-24 793,-24 793,-10 732,-10\" />\n<text text-anchor=\"start\" x=\"770\" y=\"-14.2\" font-family=\"Helvetica,sans-Serif\" font-size=\"11.00\" fill=\"#444443\">2.00</text>\n<polygon fill=\"white\" stroke=\"transparent\" points=\"793,-10 793,-24 931,-24 931,-10 793,-10\" />\n<text text-anchor=\"start\" x=\"908\" y=\"-14.2\" font-family=\"Helvetica,sans-Serif\" font-size=\"11.00\" fill=\"#444443\">2.00</text>\n<polygon fill=\"white\" stroke=\"transparent\" points=\"931,-10 931,-24 1074,-24 1074,-10 931,-10\" />\n<text text-anchor=\"start\" x=\"1051\" y=\"-14.2\" font-family=\"Helvetica,sans-Serif\" font-size=\"11.00\" fill=\"#d67c03\">1.00</text>\n<polygon fill=\"white\" stroke=\"transparent\" points=\"1074,-10 1074,-24 1141,-24 1141,-10 1074,-10\" />\n<text text-anchor=\"start\" x=\"1118\" y=\"-14.2\" font-family=\"Helvetica,sans-Serif\" font-size=\"11.00\" fill=\"#444443\">1.00</text>\n<polygon fill=\"white\" stroke=\"transparent\" points=\"1141,-10 1141,-24 1204,-24 1204,-10 1141,-10\" />\n<text text-anchor=\"start\" x=\"1181\" y=\"-14.2\" font-family=\"Helvetica,sans-Serif\" font-size=\"11.00\" fill=\"#444443\">2.00</text>\n<polygon fill=\"white\" stroke=\"transparent\" points=\"1204,-10 1204,-24 1268,-24 1268,-10 1204,-10\" />\n<text text-anchor=\"start\" x=\"1245\" y=\"-14.2\" font-family=\"Helvetica,sans-Serif\" font-size=\"11.00\" fill=\"#444443\">1.00</text>\n</g>\n\n<g id=\"edge19\" class=\"edge\">\n<title>leaf3-&gt;X_y</title>\n<path fill=\"none\" stroke=\"#d67c03\" stroke-width=\"1.2\" d=\"M639,-101.68C639,-81.08 639,-56.03 639,-40.29\" />\n<polygon fill=\"#d67c03\" stroke=\"#d67c03\" stroke-width=\"1.2\" points=\"637.6,-101.74 639,-105.74 640.4,-101.74 637.6,-101.74\" />\n<text text-anchor=\"start\" x=\"639\" y=\"-86.2\" font-family=\"Helvetica,sans-Serif\" font-size=\"11.00\" fill=\"#444443\"> &#160;Prediction</text>\n<text text-anchor=\"start\" x=\"661.5\" y=\"-74.2\" font-family=\"Helvetica,sans-Serif\" font-size=\"11.00\" fill=\"#444443\"> 2</text>\n</g>\n\n\n\n<g id=\"node14\" class=\"node\">\n<title>legend</title>\n<polygon fill=\"none\" stroke=\"black\" stroke-width=\"0\" points=\"1140.5,-452.5 1021.5,-452.5 1021.5,-407.5 1140.5,-407.5 1140.5,-452.5\" />\n<svg height=\"41px\" version=\"1.1\" viewBox=\"0 0 153.129687 54.36875\" width=\"115px\" preserveAspectRatio=\"xMinYMin meet\" x=\"1024\" y=\"-450\">\n <metadata>\n  <rdf:RDF>\n   <ns2:Work>\n    <dc:type rdf:resource=\"http://purl.org/dc/dcmitype/StillImage\" />\n    <dc:date>2022-06-06T19:39:01.633247</dc:date>\n    <dc:format>image/svg+xml</dc:format>\n    <dc:creator>\n     <ns2:Agent>\n      <dc:title>Matplotlib v3.4.3, https://matplotlib.org/</dc:title>\n     </ns2:Agent>\n    </dc:creator>\n   </ns2:Work>\n  </rdf:RDF>\n </metadata>\n <defs>\n  <style type=\"text/css\">*{stroke-linecap:butt;stroke-linejoin:round;}</style>\n </defs>\n <g id=\"figure_1\">\n  <g id=\"patch_1\">\n   <path d=\"M 0 54.36875  L 153.129687 54.36875  L 153.129687 0  L 0 0  z \" style=\"fill:none;\" />\n  </g>\n  <g id=\"axes_1\">\n   <g id=\"legend_1\">\n    <g id=\"patch_2\">\n     <path d=\"M 2 54.36875  L 151.129688 54.36875  Q 153.129688 54.36875 153.129688 52.36875  L 153.129688 2  Q 153.129688 0 151.129688 0  L 2 0  Q -0 0 -0 2  L -0 52.36875  Q -0 54.36875 2 54.36875  z \" style=\"fill:#ffffff;opacity:0.8;stroke:#444443;stroke-linejoin:miter;stroke-width:0.5;\" />\n    </g>\n    <g id=\"text_1\">\n     \n     <g style=\"fill:#444443;\" transform=\"translate(8 15.998438)scale(0.1 -0.1)\">\n      <defs>\n       <path d=\"M 2719 3878  Q 2169 3878 1866 3472  Q 1563 3066 1563 2328  Q 1563 1594 1866 1187  Q 2169 781 2719 781  Q 3272 781 3575 1187  Q 3878 1594 3878 2328  Q 3878 3066 3575 3472  Q 3272 3878 2719 3878  z M 2719 4750  Q 3844 4750 4481 4106  Q 5119 3463 5119 2328  Q 5119 1197 4481 553  Q 3844 -91 2719 -91  Q 1597 -91 958 553  Q 319 1197 319 2328  Q 319 3463 958 4106  Q 1597 4750 2719 4750  z \" id=\"DejaVuSans-Bold-4f\" transform=\"scale(0.015625)\" />\n       <path d=\"M 2400 722  Q 2759 722 2948 984  Q 3138 1247 3138 1747  Q 3138 2247 2948 2509  Q 2759 2772 2400 2772  Q 2041 2772 1848 2508  Q 1656 2244 1656 1747  Q 1656 1250 1848 986  Q 2041 722 2400 722  z M 1656 2988  Q 1888 3294 2169 3439  Q 2450 3584 2816 3584  Q 3463 3584 3878 3070  Q 4294 2556 4294 1747  Q 4294 938 3878 423  Q 3463 -91 2816 -91  Q 2450 -91 2169 54  Q 1888 200 1656 506  L 1656 0  L 538 0  L 538 4863  L 1656 4863  L 1656 2988  z \" id=\"DejaVuSans-Bold-62\" transform=\"scale(0.015625)\" />\n       <path d=\"M 1759 4494  L 1759 3500  L 2913 3500  L 2913 2700  L 1759 2700  L 1759 1216  Q 1759 972 1856 886  Q 1953 800 2241 800  L 2816 800  L 2816 0  L 1856 0  Q 1194 0 917 276  Q 641 553 641 1216  L 641 2700  L 84 2700  L 84 3500  L 641 3500  L 641 4494  L 1759 4494  z \" id=\"DejaVuSans-Bold-74\" transform=\"scale(0.015625)\" />\n       <path d=\"M 4031 1759  L 4031 1441  L 1416 1441  Q 1456 1047 1700 850  Q 1944 653 2381 653  Q 2734 653 3104 758  Q 3475 863 3866 1075  L 3866 213  Q 3469 63 3072 -14  Q 2675 -91 2278 -91  Q 1328 -91 801 392  Q 275 875 275 1747  Q 275 2603 792 3093  Q 1309 3584 2216 3584  Q 3041 3584 3536 3087  Q 4031 2591 4031 1759  z M 2881 2131  Q 2881 2450 2695 2645  Q 2509 2841 2209 2841  Q 1884 2841 1681 2658  Q 1478 2475 1428 2131  L 2881 2131  z \" id=\"DejaVuSans-Bold-65\" transform=\"scale(0.015625)\" />\n       <path d=\"M 3138 2547  Q 2991 2616 2845 2648  Q 2700 2681 2553 2681  Q 2122 2681 1889 2404  Q 1656 2128 1656 1613  L 1656 0  L 538 0  L 538 3500  L 1656 3500  L 1656 2925  Q 1872 3269 2151 3426  Q 2431 3584 2822 3584  Q 2878 3584 2943 3579  Q 3009 3575 3134 3559  L 3138 2547  z \" id=\"DejaVuSans-Bold-72\" transform=\"scale(0.015625)\" />\n       <path id=\"DejaVuSans-Bold-20\" transform=\"scale(0.015625)\" />\n       <path d=\"M 4288 256  Q 3956 84 3597 -3  Q 3238 -91 2847 -91  Q 1681 -91 1000 561  Q 319 1213 319 2328  Q 319 3447 1000 4098  Q 1681 4750 2847 4750  Q 3238 4750 3597 4662  Q 3956 4575 4288 4403  L 4288 3438  Q 3953 3666 3628 3772  Q 3303 3878 2944 3878  Q 2300 3878 1931 3465  Q 1563 3053 1563 2328  Q 1563 1606 1931 1193  Q 2300 781 2944 781  Q 3303 781 3628 887  Q 3953 994 4288 1222  L 4288 256  z \" id=\"DejaVuSans-Bold-43\" transform=\"scale(0.015625)\" />\n       <path d=\"M 2106 1575  Q 1756 1575 1579 1456  Q 1403 1338 1403 1106  Q 1403 894 1545 773  Q 1688 653 1941 653  Q 2256 653 2472 879  Q 2688 1106 2688 1447  L 2688 1575  L 2106 1575  z M 3816 1997  L 3816 0  L 2688 0  L 2688 519  Q 2463 200 2181 54  Q 1900 -91 1497 -91  Q 953 -91 614 226  Q 275 544 275 1050  Q 275 1666 698 1953  Q 1122 2241 2028 2241  L 2688 2241  L 2688 2328  Q 2688 2594 2478 2717  Q 2269 2841 1825 2841  Q 1466 2841 1156 2769  Q 847 2697 581 2553  L 581 3406  Q 941 3494 1303 3539  Q 1666 3584 2028 3584  Q 2975 3584 3395 3211  Q 3816 2838 3816 1997  z M 1803 5119  L 2559 5119  L 3359 3944  L 2803 3944  L 2181 4647  L 1559 3944  L 1003 3944  L 1803 5119  z \" id=\"DejaVuSans-Bold-e2\" transform=\"scale(0.015625)\" />\n       <path d=\"M 4056 2131  L 4056 0  L 2931 0  L 2931 347  L 2931 1631  Q 2931 2084 2911 2256  Q 2891 2428 2841 2509  Q 2775 2619 2662 2680  Q 2550 2741 2406 2741  Q 2056 2741 1856 2470  Q 1656 2200 1656 1722  L 1656 0  L 538 0  L 538 3500  L 1656 3500  L 1656 2988  Q 1909 3294 2193 3439  Q 2478 3584 2822 3584  Q 3428 3584 3742 3212  Q 4056 2841 4056 2131  z \" id=\"DejaVuSans-Bold-6e\" transform=\"scale(0.015625)\" />\n       <path d=\"M 3366 3391  L 3366 2478  Q 3138 2634 2908 2709  Q 2678 2784 2431 2784  Q 1963 2784 1702 2511  Q 1441 2238 1441 1747  Q 1441 1256 1702 982  Q 1963 709 2431 709  Q 2694 709 2930 787  Q 3166 866 3366 1019  L 3366 103  Q 3103 6 2833 -42  Q 2563 -91 2291 -91  Q 1344 -91 809 395  Q 275 881 275 1747  Q 275 2613 809 3098  Q 1344 3584 2291 3584  Q 2566 3584 2833 3536  Q 3100 3488 3366 3391  z \" id=\"DejaVuSans-Bold-63\" transform=\"scale(0.015625)\" />\n       <path d=\"M 2919 2988  L 2919 4863  L 4044 4863  L 4044 0  L 2919 0  L 2919 506  Q 2688 197 2409 53  Q 2131 -91 1766 -91  Q 1119 -91 703 423  Q 288 938 288 1747  Q 288 2556 703 3070  Q 1119 3584 1766 3584  Q 2128 3584 2408 3439  Q 2688 3294 2919 2988  z M 2181 722  Q 2541 722 2730 984  Q 2919 1247 2919 1747  Q 2919 2247 2730 2509  Q 2541 2772 2181 2772  Q 1825 2772 1636 2509  Q 1447 2247 1447 1747  Q 1447 1247 1636 984  Q 1825 722 2181 722  z \" id=\"DejaVuSans-Bold-64\" transform=\"scale(0.015625)\" />\n       <path d=\"M 1656 506  L 1656 -1331  L 538 -1331  L 538 3500  L 1656 3500  L 1656 2988  Q 1888 3294 2169 3439  Q 2450 3584 2816 3584  Q 3463 3584 3878 3070  Q 4294 2556 4294 1747  Q 4294 938 3878 423  Q 3463 -91 2816 -91  Q 2450 -91 2169 54  Q 1888 200 1656 506  z M 2400 2772  Q 2041 2772 1848 2508  Q 1656 2244 1656 1747  Q 1656 1250 1848 986  Q 2041 722 2400 722  Q 2759 722 2948 984  Q 3138 1247 3138 1747  Q 3138 2247 2948 2509  Q 2759 2772 2400 2772  z \" id=\"DejaVuSans-Bold-70\" transform=\"scale(0.015625)\" />\n       <path d=\"M 500 1363  L 500 3500  L 1625 3500  L 1625 3150  Q 1625 2866 1622 2436  Q 1619 2006 1619 1863  Q 1619 1441 1641 1255  Q 1663 1069 1716 984  Q 1784 875 1895 815  Q 2006 756 2150 756  Q 2500 756 2700 1025  Q 2900 1294 2900 1772  L 2900 3500  L 4019 3500  L 4019 0  L 2900 0  L 2900 506  Q 2647 200 2364 54  Q 2081 -91 1741 -91  Q 1134 -91 817 281  Q 500 653 500 1363  z \" id=\"DejaVuSans-Bold-75\" transform=\"scale(0.015625)\" />\n       <path d=\"M 538 4863  L 1656 4863  L 1656 0  L 538 0  L 538 4863  z \" id=\"DejaVuSans-Bold-6c\" transform=\"scale(0.015625)\" />\n       <path d=\"M 3781 2919  Q 3994 3244 4286 3414  Q 4578 3584 4928 3584  Q 5531 3584 5847 3212  Q 6163 2841 6163 2131  L 6163 0  L 5038 0  L 5038 1825  Q 5041 1866 5042 1909  Q 5044 1953 5044 2034  Q 5044 2406 4934 2573  Q 4825 2741 4581 2741  Q 4263 2741 4089 2478  Q 3916 2216 3909 1719  L 3909 0  L 2784 0  L 2784 1825  Q 2784 2406 2684 2573  Q 2584 2741 2328 2741  Q 2006 2741 1831 2477  Q 1656 2213 1656 1722  L 1656 0  L 531 0  L 531 3500  L 1656 3500  L 1656 2988  Q 1863 3284 2130 3434  Q 2397 3584 2719 3584  Q 3081 3584 3359 3409  Q 3638 3234 3781 2919  z \" id=\"DejaVuSans-Bold-6d\" transform=\"scale(0.015625)\" />\n       <path d=\"M 2106 1575  Q 1756 1575 1579 1456  Q 1403 1338 1403 1106  Q 1403 894 1545 773  Q 1688 653 1941 653  Q 2256 653 2472 879  Q 2688 1106 2688 1447  L 2688 1575  L 2106 1575  z M 3816 1997  L 3816 0  L 2688 0  L 2688 519  Q 2463 200 2181 54  Q 1900 -91 1497 -91  Q 953 -91 614 226  Q 275 544 275 1050  Q 275 1666 698 1953  Q 1122 2241 2028 2241  L 2688 2241  L 2688 2328  Q 2688 2594 2478 2717  Q 2269 2841 1825 2841  Q 1466 2841 1156 2769  Q 847 2697 581 2553  L 581 3406  Q 941 3494 1303 3539  Q 1666 3584 2028 3584  Q 2975 3584 3395 3211  Q 3816 2838 3816 1997  z M 2188 4263  L 2016 4378  Q 2003 4384 1984 4397  Q 1838 4494 1759 4494  Q 1647 4494 1587 4397  Q 1528 4300 1528 4116  L 1528 4091  L 1094 4091  Q 1094 4516 1255 4747  Q 1416 4978 1706 4978  Q 1819 4978 1933 4936  Q 2047 4894 2175 4800  L 2366 4666  Q 2434 4619 2492 4594  Q 2550 4569 2597 4569  Q 2709 4569 2771 4669  Q 2834 4769 2834 4947  L 2834 4972  L 3269 4972  Q 3269 4547 3108 4315  Q 2947 4084 2656 4084  Q 2544 4084 2439 4121  Q 2334 4159 2188 4263  z \" id=\"DejaVuSans-Bold-e3\" transform=\"scale(0.015625)\" />\n       <path d=\"M 2203 2784  Q 1831 2784 1636 2517  Q 1441 2250 1441 1747  Q 1441 1244 1636 976  Q 1831 709 2203 709  Q 2569 709 2762 976  Q 2956 1244 2956 1747  Q 2956 2250 2762 2517  Q 2569 2784 2203 2784  z M 2203 3584  Q 3106 3584 3614 3096  Q 4122 2609 4122 1747  Q 4122 884 3614 396  Q 3106 -91 2203 -91  Q 1297 -91 786 396  Q 275 884 275 1747  Q 275 2609 786 3096  Q 1297 3584 2203 3584  z \" id=\"DejaVuSans-Bold-6f\" transform=\"scale(0.015625)\" />\n      </defs>\n      <use xlink:href=\"#DejaVuSans-Bold-4f\" />\n      <use x=\"85.009766\" xlink:href=\"#DejaVuSans-Bold-62\" />\n      <use x=\"156.591797\" xlink:href=\"#DejaVuSans-Bold-74\" />\n      <use x=\"204.394531\" xlink:href=\"#DejaVuSans-Bold-65\" />\n      <use x=\"272.216797\" xlink:href=\"#DejaVuSans-Bold-72\" />\n      <use x=\"321.533203\" xlink:href=\"#DejaVuSans-Bold-20\" />\n      <use x=\"356.347656\" xlink:href=\"#DejaVuSans-Bold-43\" />\n      <use x=\"429.736328\" xlink:href=\"#DejaVuSans-Bold-e2\" />\n      <use x=\"497.216797\" xlink:href=\"#DejaVuSans-Bold-6e\" />\n      <use x=\"568.408203\" xlink:href=\"#DejaVuSans-Bold-63\" />\n      <use x=\"627.685547\" xlink:href=\"#DejaVuSans-Bold-65\" />\n      <use x=\"695.507812\" xlink:href=\"#DejaVuSans-Bold-72\" />\n      <use x=\"744.824219\" xlink:href=\"#DejaVuSans-Bold-20\" />\n      <use x=\"779.638672\" xlink:href=\"#DejaVuSans-Bold-64\" />\n      <use x=\"851.220703\" xlink:href=\"#DejaVuSans-Bold-65\" />\n      <use x=\"919.042969\" xlink:href=\"#DejaVuSans-Bold-20\" />\n      <use x=\"953.857422\" xlink:href=\"#DejaVuSans-Bold-70\" />\n      <use x=\"1025.439453\" xlink:href=\"#DejaVuSans-Bold-75\" />\n      <use x=\"1096.630859\" xlink:href=\"#DejaVuSans-Bold-6c\" />\n      <use x=\"1130.908203\" xlink:href=\"#DejaVuSans-Bold-6d\" />\n      <use x=\"1235.107422\" xlink:href=\"#DejaVuSans-Bold-e3\" />\n      <use x=\"1302.587891\" xlink:href=\"#DejaVuSans-Bold-6f\" />\n     </g>\n    </g>\n    <g id=\"patch_3\">\n     <path d=\"M 62.034375 30.235938  L 82.034375 30.235938  L 82.034375 23.235938  L 62.034375 23.235938  z \" style=\"fill:#fefebb;stroke:#444443;stroke-linejoin:miter;stroke-width:0.4;\" />\n    </g>\n    <g id=\"text_2\">\n     \n     <g style=\"fill:#444443;\" transform=\"translate(85.534375 30.235938)scale(0.1 -0.1)\">\n      <defs>\n       <path d=\"M 3222 541  L 3222 0  L 194 0  Q 188 203 259 391  Q 375 700 629 1000  Q 884 1300 1366 1694  Q 2113 2306 2375 2664  Q 2638 3022 2638 3341  Q 2638 3675 2398 3904  Q 2159 4134 1775 4134  Q 1369 4134 1125 3890  Q 881 3647 878 3216  L 300 3275  Q 359 3922 746 4261  Q 1134 4600 1788 4600  Q 2447 4600 2831 4234  Q 3216 3869 3216 3328  Q 3216 3053 3103 2787  Q 2991 2522 2730 2228  Q 2469 1934 1863 1422  Q 1356 997 1212 845  Q 1069 694 975 541  L 3222 541  z \" id=\"ArialMT-32\" transform=\"scale(0.015625)\" />\n      </defs>\n      <use xlink:href=\"#ArialMT-32\" />\n     </g>\n    </g>\n    <g id=\"patch_4\">\n     <path d=\"M 62.034375 44.38125  L 82.034375 44.38125  L 82.034375 37.38125  L 62.034375 37.38125  z \" style=\"fill:#a1dab4;stroke:#444443;stroke-linejoin:miter;stroke-width:0.4;\" />\n    </g>\n    <g id=\"text_3\">\n     \n     <g style=\"fill:#444443;\" transform=\"translate(85.534375 44.38125)scale(0.1 -0.1)\">\n      <defs>\n       <path d=\"M 2384 0  L 1822 0  L 1822 3584  Q 1619 3391 1289 3197  Q 959 3003 697 2906  L 697 3450  Q 1169 3672 1522 3987  Q 1875 4303 2022 4600  L 2384 4600  L 2384 0  z \" id=\"ArialMT-31\" transform=\"scale(0.015625)\" />\n      </defs>\n      <use xlink:href=\"#ArialMT-31\" />\n     </g>\n    </g>\n   </g>\n  </g>\n </g>\n</svg></g>\n</g>\n</svg>",
      "text/plain": [
       "<dtreeviz.trees.DTreeViz at 0x1d944a15760>"
      ]
     },
     "execution_count": 50,
     "metadata": {},
     "output_type": "execute_result"
    },
    {
     "data": {
      "text/plain": [
       "<Figure size 1800x1440 with 0 Axes>"
      ]
     },
     "metadata": {},
     "output_type": "display_data"
    }
   ],
   "source": [
    "fig = plt.figure(figsize=(25,20))\n",
    "clf = tree.DecisionTreeClassifier(max_depth=3)\n",
    "clf.fit(X_train, y_train)\n",
    "# escolhe observação X aleatória para demonstração \n",
    "X = X_train.iloc[np.random.randint(0, len(X_train)),:].values\n",
    "viz = dtreeviz(clf,\n",
    "               X_train,\n",
    "               y_train,\n",
    "               target_name='Obter Câncer de pulmão',\n",
    "               feature_names=X_train.columns,\n",
    "               title=\"Classificação do conjunto de dados do câncer de pulmão\",\n",
    "               class_names=['2', '1'],\n",
    "               scale=1.3,\n",
    "               X=X)\n",
    "viz"
   ]
  },
  {
   "cell_type": "code",
   "execution_count": null,
   "id": "9f0d6c8e",
   "metadata": {},
   "outputs": [],
   "source": []
  }
 ],
 "metadata": {
  "interpreter": {
   "hash": "5955e272ebc41e156d8df5baeb3d309dc4c14ea51626adce44f62666dda62cf4"
  },
  "kernelspec": {
   "display_name": "Python 3.8.8 ('base')",
   "language": "python",
   "name": "python3"
  },
  "language_info": {
   "codemirror_mode": {
    "name": "ipython",
    "version": 3
   },
   "file_extension": ".py",
   "mimetype": "text/x-python",
   "name": "python",
   "nbconvert_exporter": "python",
   "pygments_lexer": "ipython3",
   "version": "3.8.8"
  }
 },
 "nbformat": 4,
 "nbformat_minor": 5
}
